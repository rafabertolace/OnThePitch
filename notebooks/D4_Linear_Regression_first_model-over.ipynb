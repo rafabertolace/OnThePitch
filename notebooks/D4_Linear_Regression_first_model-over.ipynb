{
 "cells": [
  {
   "cell_type": "markdown",
   "id": "d1816ff7",
   "metadata": {},
   "source": [
    "# Imports"
   ]
  },
  {
   "cell_type": "code",
   "execution_count": 1,
   "id": "06e1f50a",
   "metadata": {},
   "outputs": [],
   "source": [
    "import pandas as pd\n",
    "import os\n",
    "from os import listdir\n",
    "from os.path import isfile, join\n",
    "import matplotlib.pyplot as plt\n",
    "from scipy.stats import mode\n",
    "from sklearn.preprocessing import OneHotEncoder\n",
    "from sklearn.linear_model import LogisticRegression\n",
    "\n",
    "import numpy as np"
   ]
  },
  {
   "cell_type": "markdown",
   "id": "b295e690",
   "metadata": {},
   "source": [
    "# Loading the Dataframe"
   ]
  },
  {
   "cell_type": "code",
   "execution_count": 2,
   "id": "b95d2a37",
   "metadata": {},
   "outputs": [
    {
     "data": {
      "text/plain": [
       "'/home/jonathan/code/rafabertolace/OnThePitch/notebooks'"
      ]
     },
     "execution_count": 2,
     "metadata": {},
     "output_type": "execute_result"
    }
   ],
   "source": [
    "pwd"
   ]
  },
  {
   "cell_type": "markdown",
   "id": "3fa4f75c",
   "metadata": {},
   "source": [
    "## Merging the Seasons csv files (2019-2020 untill 2021-2022)"
   ]
  },
  {
   "cell_type": "code",
   "execution_count": 3,
   "id": "39b6d4af",
   "metadata": {},
   "outputs": [
    {
     "name": "stdout",
     "output_type": "stream",
     "text": [
      "['I1 (3).csv', 'N1 (1).csv', 'F1.csv', 'B1 (2).csv:Zone.Identifier', 'N1 (2).csv', 'P1 (6).csv', 'F1 (2).csv', 'P1 (4).csv', 'SC0 (2).csv', 'G1 (2).csv', 'D1.csv', 'SP1 (1).csv', 'E0 (2).csv', 'I1 (1).csv:Zone.Identifier', 'SC0 (1).csv', 'F1.csv:Zone.Identifier', 'D1 (2).csv:Zone.Identifier', 'I1 (3).csv:Zone.Identifier', 'SP1.csv', 'D1.csv:Zone.Identifier', 'SC0.csv', 'I1 (2).csv', 'Turkey_2021_2022.csv.csv', 'B1 (2).csv', 'B1 (1).csv', 'F1 (1).csv', 'Turkey_2019_2020.csv.csv', 'SP1 (2).csv:Zone.Identifier', 'Turkey_2020_2021.csv.csv', 'SP1.csv:Zone.Identifier', 'SP1 (2).csv', 'G1.csv', 'SC0 (1).csv:Zone.Identifier', 'E0.csv', 'SC0.csv:Zone.Identifier', 'I1 (1).csv', 'F1 (2).csv:Zone.Identifier', 'N1.csv', 'SC0 (2).csv:Zone.Identifier', 'D1 (2).csv', 'D1 (1).csv', 'I1 (2).csv:Zone.Identifier', 'B1 (1).csv:Zone.Identifier', 'E0 (1).csv', 'F1 (1).csv:Zone.Identifier', 'P1 (5).csv', 'G1 (1).csv', 'D1 (1).csv:Zone.Identifier', 'B1.csv:Zone.Identifier', 'B1.csv', 'SP1 (1).csv:Zone.Identifier']\n"
     ]
    }
   ],
   "source": [
    "print(os.listdir('../raw_data/All'))"
   ]
  },
  {
   "cell_type": "code",
   "execution_count": 4,
   "id": "2208c966",
   "metadata": {},
   "outputs": [],
   "source": [
    "files = [file for file in os.listdir('../raw_data/All') if file.endswith('.csv')]\n",
    "data = pd.DataFrame()\n",
    "\n",
    "for file in files:\n",
    "    df = pd.read_csv('../raw_data/All/' + file)\n",
    "    df['country']=str(file)[0:2]\n",
    "    data = pd.concat([data, df])"
   ]
  },
  {
   "cell_type": "code",
   "execution_count": 5,
   "id": "b89e0726",
   "metadata": {},
   "outputs": [
    {
     "data": {
      "text/plain": [
       "array(['I1', 'N1', 'F1', 'P1', 'SC0', 'G1', 'D1', 'SP1', 'E0', 'T1', 'B1'],\n",
       "      dtype=object)"
      ]
     },
     "execution_count": 5,
     "metadata": {},
     "output_type": "execute_result"
    }
   ],
   "source": [
    "data['Div'].unique()"
   ]
  },
  {
   "cell_type": "code",
   "execution_count": 6,
   "id": "fe07720d",
   "metadata": {},
   "outputs": [
    {
     "name": "stdout",
     "output_type": "stream",
     "text": [
      "Div\n",
      "Date\n",
      "Time\n",
      "HomeTeam\n",
      "AwayTeam\n",
      "FTHG\n",
      "FTAG\n",
      "FTR\n",
      "HTHG\n",
      "HTAG\n",
      "HTR\n",
      "HS\n",
      "AS\n",
      "HST\n",
      "AST\n",
      "HF\n",
      "AF\n",
      "HC\n",
      "AC\n",
      "HY\n",
      "AY\n",
      "HR\n",
      "AR\n",
      "B365H\n",
      "B365D\n",
      "B365A\n",
      "BWH\n",
      "BWD\n",
      "BWA\n",
      "IWH\n",
      "IWD\n",
      "IWA\n",
      "PSH\n",
      "PSD\n",
      "PSA\n",
      "WHH\n",
      "WHD\n",
      "WHA\n",
      "VCH\n",
      "VCD\n",
      "VCA\n",
      "MaxH\n",
      "MaxD\n",
      "MaxA\n",
      "AvgH\n",
      "AvgD\n",
      "AvgA\n",
      "B365>2.5\n",
      "B365<2.5\n",
      "P>2.5\n",
      "P<2.5\n",
      "Max>2.5\n",
      "Max<2.5\n",
      "Avg>2.5\n",
      "Avg<2.5\n",
      "AHh\n",
      "B365AHH\n",
      "B365AHA\n",
      "PAHH\n",
      "PAHA\n",
      "MaxAHH\n",
      "MaxAHA\n",
      "AvgAHH\n",
      "AvgAHA\n",
      "B365CH\n",
      "B365CD\n",
      "B365CA\n",
      "BWCH\n",
      "BWCD\n",
      "BWCA\n",
      "IWCH\n",
      "IWCD\n",
      "IWCA\n",
      "PSCH\n",
      "PSCD\n",
      "PSCA\n",
      "WHCH\n",
      "WHCD\n",
      "WHCA\n",
      "VCCH\n",
      "VCCD\n",
      "VCCA\n",
      "MaxCH\n",
      "MaxCD\n",
      "MaxCA\n",
      "AvgCH\n",
      "AvgCD\n",
      "AvgCA\n",
      "B365C>2.5\n",
      "B365C<2.5\n",
      "PC>2.5\n",
      "PC<2.5\n",
      "MaxC>2.5\n",
      "MaxC<2.5\n",
      "AvgC>2.5\n",
      "AvgC<2.5\n",
      "AHCh\n",
      "B365CAHH\n",
      "B365CAHA\n",
      "PCAHH\n",
      "PCAHA\n",
      "MaxCAHH\n",
      "MaxCAHA\n",
      "AvgCAHH\n",
      "AvgCAHA\n",
      "country\n",
      "Referee\n",
      "Unnamed: 105\n"
     ]
    }
   ],
   "source": [
    "for col_name in data.columns: \n",
    "    print(col_name)"
   ]
  },
  {
   "cell_type": "markdown",
   "id": "32c8ad8d",
   "metadata": {},
   "source": [
    "# Features Engineering"
   ]
  },
  {
   "cell_type": "code",
   "execution_count": 7,
   "id": "acad4a1a",
   "metadata": {},
   "outputs": [],
   "source": [
    "def feature_engineering(data, b=20, binned=False):\n",
    "    '''\n",
    "    This function creates all the columns that will be needed to create the analysis \n",
    "    and return the dataframe with all this changes\n",
    "    \n",
    "    b is the number of bins that we want to work with. Our start value for b will be 20.\n",
    "        '''\n",
    "    #------------------------Number of Goals, Over and Under -----------------------------------\n",
    "    \n",
    "    # total number of goals = goals from the home team + goals from visiting team\n",
    "    data['nb_goals']=data['FTHG']+data['FTAG']\n",
    "\n",
    "    # boolean: true or false regarding whether they were more than 2.5 goals\n",
    "    data['over_2.5_goals']=data['nb_goals']>2.5\n",
    "\n",
    "    # boolean: true or false regarding whether they were less than 2.5 goals\n",
    "    data['under_2.5_goals']=data['nb_goals']<2.5\n",
    "    \n",
    "    #-----------------------------Payout Opening ----------------------------------------------\n",
    "    \n",
    "    # payout under 2.5 for Average OPENING odds\n",
    "    data['payout_avg_under_2.5'] = data['under_2.5_goals']*data['Avg<2.5']\n",
    "\n",
    "    # payout over 2.5 for Average OPENING odds\n",
    "    data['payout_avg_over_2.5'] = data['over_2.5_goals']*data['Avg>2.5']\n",
    "\n",
    "    #payout UNDER 2.5 for PINACLE specifically\n",
    "    data['payout_under_2.5_pinacle'] = data['under_2.5_goals']*data['P<2.5']\n",
    "\n",
    "    #payout OVER 2.5 for PINACLE specifically\n",
    "    data['payout_over_2.5_pinacle'] = data['over_2.5_goals']*data['P>2.5']\n",
    "\n",
    "    #payout UNDER 2.5 for 365 specifically\n",
    "    data['payout_under_2.5_365'] = data['under_2.5_goals']*data['B365<2.5']\n",
    "\n",
    "    #payout OVER 2.5 for 365 specifically\n",
    "    data['payout_over_2.5_365'] = data['over_2.5_goals']*data['B365>2.5']\n",
    "    \n",
    "    #------------------------------Payout Closing --------------------------------------------\n",
    "    \n",
    "    # payout under 2.5 for Average CLOSING odds\n",
    "    data['payout_avg_under_closing_2.5'] = data['under_2.5_goals']*data['AvgC<2.5']\n",
    "\n",
    "    # payout over 2.5 for Average CLOSING odds\n",
    "    data['payout_avg_over_closing_2.5'] = data['over_2.5_goals']*data['AvgC>2.5']\n",
    "\n",
    "    #payout UNDER 2.5 for PINACLE closing ddds specifically\n",
    "    data['payout_under_2.5_pinacle_closing'] = data['under_2.5_goals']*data['PC<2.5']\n",
    "\n",
    "    #payout OVER 2.5 for PINACLE closing odds specifically\n",
    "    data['payout_over_2.5_pinacle_closing'] = data['over_2.5_goals']*data['PC>2.5']\n",
    "\n",
    "    #payout UNDER 2.5 for 365 closing odds specifically\n",
    "    data['payout_under_2.5_365_closing'] = data['under_2.5_goals']*data['B365C<2.5']\n",
    "\n",
    "    #payout OVER 2.5 for 365 closing odds specifically\n",
    "    data['payout_over_2.5_365_closing'] = data['over_2.5_goals']*data['B365C>2.5']\n",
    "    \n",
    "    #-------------------------- Implied Probability Opening ----------------------------------------\n",
    "    \n",
    "    #Implied Probability UNDER 2.5 goals for for overall market opening odds (Avg) \n",
    "    data['Implied Probability <2.5 avg']=1/data['Avg<2.5']*100\n",
    "\n",
    "    #Implied Probability OVER 2.5 goals for for overall market opening odds (Avg) \n",
    "    data['Implied Probability >2.5 avg']=1/data['Avg>2.5']*100\n",
    "\n",
    "    #Implied Probability UNDER 2.5 goals for PINACLE\n",
    "    data['Implied Probability <2.5 pinacle']=1/data['P<2.5']*100\n",
    "\n",
    "    #Implied Probability OVER 2.5 goals for PINACLE\n",
    "    data['Implied Probability >2.5 pinacle']=1/data['P>2.5']*100\n",
    "\n",
    "    #Implied Probability UNDER 2.5 goals for 365\n",
    "    data['Implied Probability <2.5 365']=1/data['B365<2.5']*100\n",
    "\n",
    "    #Implied Probability OVER 2.5 goals for 365\n",
    "    data['Implied Probability >2.5 365']=1/data['B365>2.5']*100\n",
    "    \n",
    "    #------------------------- Implied Probability Closing -----------------------------------\n",
    "    \n",
    "    #Implied Probability UNDER 2.5 goals for overall market closing odds (AvgC)\n",
    "    data['Implied Probability <2.5 avg closing']=1/data['AvgC<2.5']*100\n",
    "\n",
    "    #Implied Probability OVER 2.5 goals for overall market closing odds (AvgC)\n",
    "    data['Implied Probability >2.5 avg closing']=1/data['AvgC>2.5']*100\n",
    "\n",
    "    #Implied Probability UNDER 2.5 goals for PINACLE closing odds\n",
    "    data['Implied Probability <2.5 pinacle closing']=1/data['PC<2.5']*100\n",
    "\n",
    "    #Implied Probability OVER 2.5 goals for PINACLE closing odds\n",
    "    data['Implied Probability >2.5 pinacle closing']=1/data['PC>2.5']*100\n",
    "\n",
    "    #Implied Probability UNDER 2.5 goals for 365 closing odds\n",
    "    data['Implied Probability <2.5 365 closing']=1/data['B365C<2.5']*100\n",
    "\n",
    "    #Implied Probability OVER 2.5 goals for 365 closing odds\n",
    "    data['Implied Probability >2.5 365 closing']=1/data['B365C>2.5']*100\n",
    "    \n",
    "    #---------------------------- Binning IP Opening -------------------------------------\n",
    "\n",
    "    b=b\n",
    "    bins = np.arange(0, 101, int(100/b))\n",
    "    bins = bins.tolist()\n",
    "\n",
    "    #Binning UNDER 2.5 Average Market opening odds\n",
    "    data['binned <2.5 avg'] = pd.cut(data['Implied Probability <2.5 avg'], bins)\n",
    "\n",
    "    #Binning Over 2.5 Average Market opening odds\n",
    "    data['binned >2.5 avg'] = pd.cut(data['Implied Probability >2.5 avg'], bins)\n",
    "\n",
    "    #Binned UNDER 2.5 Pinnacle opening odds\n",
    "    data['binned <2.5 pinacle'] = pd.cut(data['Implied Probability <2.5 pinacle'], bins)\n",
    "\n",
    "    #Binned OVER 2.5 Pinnacle\n",
    "    data['binned >2.5 pinacle'] = pd.cut(data['Implied Probability >2.5 pinacle'], bins)\n",
    "\n",
    "    #Binned UNDER 2.5 bet365 OPENING odds\n",
    "    data['binned <2.5 365'] = pd.cut(data['Implied Probability <2.5 365'], bins)\n",
    "\n",
    "    #Binned OVER 2.5 bet365 OPENING odds\n",
    "    data['binned >2.5 365'] = pd.cut(data['Implied Probability >2.5 365'], bins)\n",
    "    \n",
    "    #----------------------------- Binning IP Closing ------------------------------------------------\n",
    "\n",
    "    #Binning UNDER 2.5 Average Market closing odds\n",
    "    data['binned <2.5 avg closing'] = pd.cut(data['Implied Probability <2.5 avg closing'], bins)\n",
    "\n",
    "    #Binning OVER 2.5 Average Market closing odds\n",
    "    data['binned >2.5 avg closing'] = pd.cut(data['Implied Probability >2.5 avg closing'], bins)\n",
    "\n",
    "    #Binned UNDER 2.5 Pinnacle closing odds\n",
    "    data['binned <2.5 pinacle closing'] = pd.cut(data['Implied Probability <2.5 pinacle closing'], bins)\n",
    "\n",
    "    #Binned OVER 2.5 Pinnacle CLOSING odds\n",
    "    data['binned >2.5 pinacle closing'] = pd.cut(data['Implied Probability >2.5 pinacle closing'], bins)\n",
    "\n",
    "    #Binned UNDER 2.5 bet365 CLOSING odds\n",
    "    data['binned <2.5 365 closing'] = pd.cut(data['Implied Probability <2.5 365 closing'], bins)\n",
    "\n",
    "    #Binned OVER 2.5 bet365 CLOSING odds\n",
    "    data['binned >2.5 365 closing'] = pd.cut(data['Implied Probability >2.5 365 closing'], bins)\n",
    "    \n",
    "    #---------------------------- Binning Odds Opening ----------------------------------------------------\n",
    "    \n",
    "    bins2 = [1, 1.5, 2, 3, 99999]\n",
    "\n",
    "    #Binning UNDER 2.5 Average Market opening odds\n",
    "    data['binned odds <2.5 avg'] = pd.cut(data['Avg<2.5'], bins2)\n",
    "\n",
    "    #Binning Over 2.5 Average Market opening odds\n",
    "    data['binned odds >2.5 avg'] = pd.cut(data['Avg>2.5'], bins2)\n",
    "\n",
    "    #Binned UNDER 2.5 Pinnacle opening odds\n",
    "    data['binned odds <2.5 pinacle'] = pd.cut(data['P<2.5'], bins2)\n",
    "\n",
    "    #Binned OVER 2.5 Pinnacle\n",
    "    data['binned odds >2.5 pinacle'] = pd.cut(data['P>2.5'], bins2)\n",
    "\n",
    "    #Binned UNDER 2.5 bet365 OPENING odds\n",
    "    data['binned odds <2.5 365'] = pd.cut(data['B365<2.5'], bins2)\n",
    "\n",
    "    #Binned OVER 2.5 bet365 OPENING odds\n",
    "    data['binned odds >2.5 365'] = pd.cut(data['B365>2.5'], bins2)\n",
    "    \n",
    "    #----------------------------- Binning Odds Closing ----------------------------------------------------------\n",
    "    \n",
    "    #Binning UNDER 2.5 Average Market opening odds\n",
    "    data['binned odds <2.5 avg closing'] = pd.cut(data['AvgC<2.5'], bins2)\n",
    "\n",
    "    #Binning Over 2.5 Average Market opening odds\n",
    "    data['binned odds >2.5 avg closing'] = pd.cut(data['AvgC>2.5'], bins2)\n",
    "\n",
    "    #Binned UNDER 2.5 Pinnacle opening odds\n",
    "    data['binned odds <2.5 pinacle closing'] = pd.cut(data['PC<2.5'], bins2)\n",
    "\n",
    "    #Binned OVER 2.5 Pinnacle\n",
    "    data['binned odds >2.5 pinacle closing'] = pd.cut(data['PC>2.5'], bins2)\n",
    "\n",
    "    #Binned UNDER 2.5 bet365 OPENING odds\n",
    "    data['binned odds <2.5 365 closing'] = pd.cut(data['B365C<2.5'], bins2)\n",
    "\n",
    "    #Binned OVER 2.5 bet365 OPENING odds\n",
    "    data['binned odds >2.5 365 closing'] = pd.cut(data['B365C>2.5'], bins2)\n",
    "    \n",
    "    \n",
    "    #----------------------------- Other Features from D3 ------------------------------------------------------\n",
    "    \n",
    "    data['Pin_pays_better_under_boolean'] = data['PC<2.5'] > data['AvgC<2.5']\n",
    "    data['Pin_pays_better_under_difference'] = data['PC<2.5'] / data['AvgC<2.5']\n",
    "    data['%vig_p'] = (1 - (1 / (1/data['PC>2.5'] + 1/data['PC<2.5'])))*100\n",
    "    data['%vig_avg'] = (1 - (1 / (1/data['AvgC>2.5'] + 1/data['AvgC<2.5'])))*100\n",
    "    data['PC<2.5_P_boolean'] = data['PC<2.5'] < data['P<2.5']\n",
    "    data['PC<2.5_P_relative_diff'] = data['PC<2.5'] / data['P<2.5']\n",
    "    \n",
    "    #----------------------- Odds and probability of the home team scoring under 2.5 -------------------------------\n",
    "    \n",
    "    lst1 = []\n",
    "    lst2 = []\n",
    "    for i, team in enumerate(data['HomeTeam']):\n",
    "        date = data['Date'].iloc[i]\n",
    "        total = len(data[(data['HomeTeam'] == team) & (data['Date'] < date)])\n",
    "        n_under_home = data[(data['HomeTeam'] == team) & (data['Date'] < date)]['under_2.5_goals'].value_counts()\n",
    "        try:\n",
    "            lst1.append(1/(n_under_home[1]/total))\n",
    "            lst2.append(n_under_home[1]/total)\n",
    "        except:\n",
    "            lst1.append(np.nan)\n",
    "            lst2.append(np.nan)\n",
    "\n",
    "    data['odds_home_under'] = lst1\n",
    "    data['prob_home_under'] = lst2\n",
    "    \n",
    "    #binning the probability of the home team to have a game of less than 2.5 score\n",
    "    data['binned prob_home_under'] = pd.cut(data['prob_home_under']*100, bins)\n",
    "    \n",
    "    \n",
    "    #----------------------- Odds and probability of the away team scoring under 2.5 -------------------------------\n",
    "    \n",
    "    lst3 = []\n",
    "    lst4  = []\n",
    "    for i, team in enumerate(data['AwayTeam']):\n",
    "        date = data['Date'].iloc[i]\n",
    "        total2 = len(data[(data['AwayTeam'] == team) & (data['Date'] < date)])\n",
    "        n_under_away2 = data[(data['AwayTeam'] == team) & (data['Date'] < date)]['under_2.5_goals'].value_counts()\n",
    "        try:\n",
    "            lst3.append(1/(n_under_away2[1] / total2))\n",
    "            lst4.append(n_under_away2[1] / total2)\n",
    "        except:\n",
    "            lst3.append(np.nan)\n",
    "            lst4.append(np.nan)\n",
    "\n",
    "    data['odds_away_under'] = lst3\n",
    "    data['prob_away_under'] = lst4\n",
    "    \n",
    "    #binning the probability of the away team to have a game of less than 2.5 score\n",
    "    data['binned prob_away_under'] = pd.cut(data['prob_away_under']*100, bins)\n",
    "\n",
    "    #-------------------------- Creating the prob and odds of the game -----------------------------------------------\n",
    "    '''the mean between the probability of the home team to have a score of under 2.5 and the probability \n",
    "    of the away team to do the same'''\n",
    "    \n",
    "    data['odds_game'] = (data['odds_away_under'] +  data['odds_home_under']) / 2\n",
    "    data['prob_game'] = (data['prob_away_under'] + data['prob_home_under']) / 2\n",
    "    \n",
    "    #-------------------------- OneHotEncoding the binned probabilities columns ------------------------------------------\n",
    "    \n",
    "\n",
    "    if b == 5:\n",
    "        data = data[~data['binned prob_home_under'].isna()]\n",
    "        ohe = OneHotEncoder(sparse=False)\n",
    "        ohe.fit(data[['binned prob_home_under']])\n",
    "        bins_encoded = ohe.transform(data[['binned prob_home_under']])\n",
    "        data[\"0, 20\"], data[\"20, 40\"], data[\"40, 60\"], data[\"60, 80\"], data[\"80, 100\"] = bins_encoded.T\n",
    "        \n",
    "    if b == 10:\n",
    "        data = data[~data['binned prob_home_under'].isna()]\n",
    "        ohe = OneHotEncoder(sparse=False)\n",
    "        ohe.fit(data[['binned prob_home_under']])\n",
    "        bins_encoded = ohe.transform(data[['binned prob_home_under']])\n",
    "        data[\"0, 10\"], data[\"10, 20\"], data[\"20, 30\"], data[\"30, 40\"], data[\"40, 50\"], data[\"50, 60\"], \\\n",
    "        data[\"60, 70\"], data[\"70, 80\"], data[\"80, 90\"], data[\"90, 100\"] = bins_encoded.T\n",
    "        \n",
    "    if b == 20:\n",
    "        data = data[~data['binned prob_home_under'].isna()]\n",
    "        ohe = OneHotEncoder(sparse=False)\n",
    "        ohe.fit(data[['binned prob_home_under']])\n",
    "        bins_encoded = ohe.transform(data[['binned prob_home_under']])\n",
    "        data[\"0, 5\"], data[\"5, 10\"], data[\"10, 15\"], data[\"15, 20\"], data[\"20, 25\"], data[\"25, 30\"], \\\n",
    "        data[\"30, 35\"], data[\"35, 40\"], data[\"40, 45\"], data[\"45, 50\"], data[\"50, 55\"], data[\"55, 60\"], \\\n",
    "        data[\"60, 65\"], data[\"65, 70\"], data[\"70, 75\"], data[\"75, 80\"], data[\"80, 85\"], data[\"85, 90\"], \\\n",
    "        data[\"90, 95\"], data[\"95, 100\"]= bins_encoded.T\n",
    "    \n",
    "    \n",
    "    #------------------------------------ Cleaning the data ---------------------------------------------------------\n",
    "    \n",
    "    #data = data.dropna(subset=['HomeTeam', 'AwayTeam'], how='any')\n",
    "    data = data[~data['HomeTeam'].isna()]\n",
    "    data = data[~data['AwayTeam'].isna()]\n",
    "    data = data[~data['PC>2.5'].isna()]\n",
    "    data.drop(columns=['Referee','Unnamed: 105'], inplace=True) #, 'Unnamed: 105' 'Referee', \n",
    "    #data.dropna()\n",
    "    \n",
    "    return data"
   ]
  },
  {
   "cell_type": "code",
   "execution_count": 8,
   "id": "2c518df9",
   "metadata": {},
   "outputs": [
    {
     "name": "stderr",
     "output_type": "stream",
     "text": [
      "/tmp/ipykernel_9333/4191015178.py:253: SettingWithCopyWarning: \n",
      "A value is trying to be set on a copy of a slice from a DataFrame.\n",
      "Try using .loc[row_indexer,col_indexer] = value instead\n",
      "\n",
      "See the caveats in the documentation: https://pandas.pydata.org/pandas-docs/stable/user_guide/indexing.html#returning-a-view-versus-a-copy\n",
      "  data[\"0, 20\"], data[\"20, 40\"], data[\"40, 60\"], data[\"60, 80\"], data[\"80, 100\"] = bins_encoded.T\n",
      "/tmp/ipykernel_9333/4191015178.py:253: SettingWithCopyWarning: \n",
      "A value is trying to be set on a copy of a slice from a DataFrame.\n",
      "Try using .loc[row_indexer,col_indexer] = value instead\n",
      "\n",
      "See the caveats in the documentation: https://pandas.pydata.org/pandas-docs/stable/user_guide/indexing.html#returning-a-view-versus-a-copy\n",
      "  data[\"0, 20\"], data[\"20, 40\"], data[\"40, 60\"], data[\"60, 80\"], data[\"80, 100\"] = bins_encoded.T\n",
      "/tmp/ipykernel_9333/4191015178.py:253: SettingWithCopyWarning: \n",
      "A value is trying to be set on a copy of a slice from a DataFrame.\n",
      "Try using .loc[row_indexer,col_indexer] = value instead\n",
      "\n",
      "See the caveats in the documentation: https://pandas.pydata.org/pandas-docs/stable/user_guide/indexing.html#returning-a-view-versus-a-copy\n",
      "  data[\"0, 20\"], data[\"20, 40\"], data[\"40, 60\"], data[\"60, 80\"], data[\"80, 100\"] = bins_encoded.T\n",
      "/tmp/ipykernel_9333/4191015178.py:253: SettingWithCopyWarning: \n",
      "A value is trying to be set on a copy of a slice from a DataFrame.\n",
      "Try using .loc[row_indexer,col_indexer] = value instead\n",
      "\n",
      "See the caveats in the documentation: https://pandas.pydata.org/pandas-docs/stable/user_guide/indexing.html#returning-a-view-versus-a-copy\n",
      "  data[\"0, 20\"], data[\"20, 40\"], data[\"40, 60\"], data[\"60, 80\"], data[\"80, 100\"] = bins_encoded.T\n",
      "/tmp/ipykernel_9333/4191015178.py:253: SettingWithCopyWarning: \n",
      "A value is trying to be set on a copy of a slice from a DataFrame.\n",
      "Try using .loc[row_indexer,col_indexer] = value instead\n",
      "\n",
      "See the caveats in the documentation: https://pandas.pydata.org/pandas-docs/stable/user_guide/indexing.html#returning-a-view-versus-a-copy\n",
      "  data[\"0, 20\"], data[\"20, 40\"], data[\"40, 60\"], data[\"60, 80\"], data[\"80, 100\"] = bins_encoded.T\n"
     ]
    }
   ],
   "source": [
    "data = feature_engineering(data, b=5)"
   ]
  },
  {
   "cell_type": "markdown",
   "id": "c84939f7",
   "metadata": {},
   "source": [
    "### Number of Goals, Over and Under"
   ]
  },
  {
   "cell_type": "code",
   "execution_count": 9,
   "id": "fed74758",
   "metadata": {},
   "outputs": [],
   "source": [
    "# total number of goals = goals from the home team + goals from visiting team\n",
    "data['nb_goals']=data['FTHG']+data['FTAG']\n",
    "\n",
    "# boolean: true or false regarding whether they were more than 2.5 goals\n",
    "data['over_2.5_goals']=data['nb_goals']>2.5\n",
    "\n",
    "# boolean: true or false regarding whether they were less than 2.5 goals\n",
    "data['under_2.5_goals']=data['nb_goals']<2.5"
   ]
  },
  {
   "cell_type": "markdown",
   "id": "3ffc1554",
   "metadata": {},
   "source": [
    "### Payout"
   ]
  },
  {
   "cell_type": "markdown",
   "id": "466f6de3",
   "metadata": {},
   "source": [
    "  Payout of betting on over/under 2.5 goals: we get 0 if we lose the bet, we get the Avg if we win the bet (Avg = market average of the odds)\n"
   ]
  },
  {
   "cell_type": "markdown",
   "id": "f8703164",
   "metadata": {},
   "source": [
    "#### Payout Opening"
   ]
  },
  {
   "cell_type": "code",
   "execution_count": 10,
   "id": "4b10653e",
   "metadata": {},
   "outputs": [],
   "source": [
    "# payout under 2.5 for Average OPENING odds\n",
    "data['payout_avg_under_2.5'] = data['under_2.5_goals']*data['Avg<2.5']\n",
    "\n",
    "# payout over 2.5 for Average OPENING odds\n",
    "data['payout_avg_over_2.5'] = data['over_2.5_goals']*data['Avg>2.5']\n",
    "\n",
    "#payout UNDER 2.5 for PINACLE specifically\n",
    "data['payout_under_2.5_pinacle'] = data['under_2.5_goals']*data['P<2.5']\n",
    "\n",
    "#payout OVER 2.5 for PINACLE specifically\n",
    "data['payout_over_2.5_pinacle'] = data['over_2.5_goals']*data['P>2.5']\n",
    "\n",
    "#payout UNDER 2.5 for 365 specifically\n",
    "data['payout_under_2.5_365'] = data['under_2.5_goals']*data['B365<2.5']\n",
    "\n",
    "#payout OVER 2.5 for 365 specifically\n",
    "data['payout_over_2.5_365'] = data['over_2.5_goals']*data['B365>2.5']"
   ]
  },
  {
   "cell_type": "markdown",
   "id": "62980574",
   "metadata": {},
   "source": [
    "#### Payout Closing"
   ]
  },
  {
   "cell_type": "code",
   "execution_count": 11,
   "id": "2a533e43",
   "metadata": {},
   "outputs": [],
   "source": [
    "# payout under 2.5 for Average CLOSING odds\n",
    "data['payout_avg_under_closing_2.5'] = data['under_2.5_goals']*data['AvgC<2.5']\n",
    "\n",
    "# payout over 2.5 for Average CLOSING odds\n",
    "data['payout_avg_over_closing_2.5'] = data['over_2.5_goals']*data['AvgC>2.5']\n",
    "\n",
    "#payout UNDER 2.5 for PINACLE closing ddds specifically\n",
    "data['payout_under_2.5_pinacle_closing'] = data['under_2.5_goals']*data['PC<2.5']\n",
    "\n",
    "#payout OVER 2.5 for PINACLE closing odds specifically\n",
    "data['payout_over_2.5_pinacle_closing'] = data['over_2.5_goals']*data['PC>2.5']\n",
    "\n",
    "#payout UNDER 2.5 for 365 closing odds specifically\n",
    "data['payout_under_2.5_365_closing'] = data['under_2.5_goals']*data['B365C<2.5']\n",
    "\n",
    "#payout OVER 2.5 for 365 closing odds specifically\n",
    "data['payout_over_2.5_365_closing'] = data['over_2.5_goals']*data['B365C>2.5']"
   ]
  },
  {
   "cell_type": "markdown",
   "id": "9ad9c30c",
   "metadata": {},
   "source": [
    "### Implied Probability"
   ]
  },
  {
   "cell_type": "markdown",
   "id": "c6800d2f",
   "metadata": {},
   "source": [
    "#### Implied Probability Opening"
   ]
  },
  {
   "cell_type": "code",
   "execution_count": 12,
   "id": "bdfcd6a1",
   "metadata": {},
   "outputs": [],
   "source": [
    "#Implied Probability UNDER 2.5 goals for for overall market opening odds (Avg) \n",
    "data['Implied Probability <2.5 avg']=1/data['Avg<2.5']*100\n",
    "\n",
    "#Implied Probability OVER 2.5 goals for for overall market opening odds (Avg) \n",
    "data['Implied Probability >2.5 avg']=1/data['Avg>2.5']*100\n",
    "\n",
    "#Implied Probability UNDER 2.5 goals for PINACLE\n",
    "data['Implied Probability <2.5 pinacle']=1/data['P<2.5']*100\n",
    "\n",
    "#Implied Probability OVER 2.5 goals for PINACLE\n",
    "data['Implied Probability >2.5 pinacle']=1/data['P>2.5']*100\n",
    "\n",
    "#Implied Probability UNDER 2.5 goals for 365\n",
    "data['Implied Probability <2.5 365']=1/data['B365<2.5']*100\n",
    "\n",
    "#Implied Probability OVER 2.5 goals for 365\n",
    "data['Implied Probability >2.5 365']=1/data['B365>2.5']*100"
   ]
  },
  {
   "cell_type": "markdown",
   "id": "e6c491f1",
   "metadata": {},
   "source": [
    "#### Implied Probability Closing"
   ]
  },
  {
   "cell_type": "code",
   "execution_count": 13,
   "id": "4cdcecbb",
   "metadata": {},
   "outputs": [],
   "source": [
    "#Implied Probability UNDER 2.5 goals for overall market closing odds (AvgC)\n",
    "data['Implied Probability <2.5 avg closing']=1/data['AvgC<2.5']*100\n",
    "\n",
    "#Implied Probability OVER 2.5 goals for overall market closing odds (AvgC)\n",
    "data['Implied Probability >2.5 avg closing']=1/data['AvgC>2.5']*100\n",
    "\n",
    "#Implied Probability UNDER 2.5 goals for PINACLE closing odds\n",
    "data['Implied Probability <2.5 pinacle closing']=1/data['PC<2.5']*100\n",
    "\n",
    "#Implied Probability OVER 2.5 goals for PINACLE closing odds\n",
    "data['Implied Probability >2.5 pinacle closing']=1/data['PC>2.5']*100\n",
    "\n",
    "#Implied Probability UNDER 2.5 goals for 365 closing odds\n",
    "data['Implied Probability <2.5 365 closing']=1/data['B365C<2.5']*100\n",
    "\n",
    "#Implied Probability OVER 2.5 goals for 365 closing odds\n",
    "data['Implied Probability >2.5 365 closing']=1/data['B365C>2.5']*100"
   ]
  },
  {
   "cell_type": "markdown",
   "id": "56fa1da6",
   "metadata": {},
   "source": [
    "### Binning the implied probabilities"
   ]
  },
  {
   "cell_type": "markdown",
   "id": "aa286a41",
   "metadata": {},
   "source": [
    "#### Binning IP Opening"
   ]
  },
  {
   "cell_type": "code",
   "execution_count": 14,
   "id": "8e1c90a8",
   "metadata": {},
   "outputs": [],
   "source": [
    "bins = [0, 5, 10, 15, 20, 25, 30, 35, 40, 45, 50, 55, 60, 65, 70, 75, 80, 85, 90, 95, 100]\n",
    "\n",
    "#Binning UNDER 2.5 Average Market opening odds\n",
    "data['binned <2.5 avg'] = pd.cut(data['Implied Probability <2.5 avg'], bins)\n",
    "\n",
    "#Binning Over 2.5 Average Market opening odds\n",
    "data['binned >2.5 avg'] = pd.cut(data['Implied Probability >2.5 avg'], bins)\n",
    "\n",
    "#Binned UNDER 2.5 Pinnacle opening odds\n",
    "data['binned <2.5 pinacle'] = pd.cut(data['Implied Probability <2.5 pinacle'], bins)\n",
    "\n",
    "#Binned OVER 2.5 Pinnacle\n",
    "data['binned >2.5 pinacle'] = pd.cut(data['Implied Probability >2.5 pinacle'], bins)\n",
    "\n",
    "#Binned UNDER 2.5 bet365 OPENING odds\n",
    "data['binned <2.5 365'] = pd.cut(data['Implied Probability <2.5 365'], bins)\n",
    "\n",
    "#Binned OVER 2.5 bet365 OPENING odds\n",
    "data['binned >2.5 365'] = pd.cut(data['Implied Probability >2.5 365'], bins)"
   ]
  },
  {
   "cell_type": "markdown",
   "id": "17e43270",
   "metadata": {},
   "source": [
    "#### Binning IP Closing"
   ]
  },
  {
   "cell_type": "code",
   "execution_count": 15,
   "id": "2beea9ab",
   "metadata": {},
   "outputs": [],
   "source": [
    "bins = [0, 5, 10, 15, 20, 25, 30, 35, 40, 45, 50, 55, 60, 65, 70, 75, 80, 85, 90, 95, 100]\n",
    "\n",
    "#Binning UNDER 2.5 Average Market closing odds\n",
    "data['binned <2.5 avg closing'] = pd.cut(data['Implied Probability <2.5 avg closing'], bins)\n",
    "\n",
    "#Binning OVER 2.5 Average Market closing odds\n",
    "data['binned >2.5 avg closing'] = pd.cut(data['Implied Probability >2.5 avg closing'], bins)\n",
    "\n",
    "#Binned UNDER 2.5 Pinnacle closing odds\n",
    "data['binned <2.5 pinacle closing'] = pd.cut(data['Implied Probability <2.5 pinacle closing'], bins)\n",
    "\n",
    "#Binned OVER 2.5 Pinnacle CLOSING odds\n",
    "data['binned >2.5 pinacle closing'] = pd.cut(data['Implied Probability >2.5 pinacle closing'], bins)\n",
    "\n",
    "#Binned UNDER 2.5 bet365 CLOSING odds\n",
    "data['binned <2.5 365 closing'] = pd.cut(data['Implied Probability <2.5 365 closing'], bins)\n",
    "\n",
    "#Binned OVER 2.5 bet365 CLOSING odds\n",
    "data['binned >2.5 365 closing'] = pd.cut(data['Implied Probability >2.5 365 closing'], bins)"
   ]
  },
  {
   "cell_type": "markdown",
   "id": "c9a4b662",
   "metadata": {},
   "source": [
    "### Binning the odds"
   ]
  },
  {
   "cell_type": "markdown",
   "id": "b86e54dd",
   "metadata": {},
   "source": [
    "#### Binning Odds Opening"
   ]
  },
  {
   "cell_type": "code",
   "execution_count": 16,
   "id": "7805f020",
   "metadata": {},
   "outputs": [],
   "source": [
    "bins = [1, 1.5, 2, 3, 99999]\n",
    "\n",
    "#Binning UNDER 2.5 Average Market opening odds\n",
    "data['binned odds <2.5 avg'] = pd.cut(data['Avg<2.5'], bins)\n",
    "\n",
    "#Binning Over 2.5 Average Market opening odds\n",
    "data['binned odds >2.5 avg'] = pd.cut(data['Avg>2.5'], bins)\n",
    "\n",
    "#Binned UNDER 2.5 Pinnacle opening odds\n",
    "data['binned odds <2.5 pinacle'] = pd.cut(data['P<2.5'], bins)\n",
    "\n",
    "#Binned OVER 2.5 Pinnacle\n",
    "data['binned odds >2.5 pinacle'] = pd.cut(data['P>2.5'], bins)\n",
    "\n",
    "#Binned UNDER 2.5 bet365 OPENING odds\n",
    "data['binned odds <2.5 365'] = pd.cut(data['B365<2.5'], bins)\n",
    "\n",
    "#Binned OVER 2.5 bet365 OPENING odds\n",
    "data['binned odds >2.5 365'] = pd.cut(data['B365>2.5'], bins)"
   ]
  },
  {
   "cell_type": "markdown",
   "id": "4df96d90",
   "metadata": {},
   "source": [
    "#### Binning Odds Closing"
   ]
  },
  {
   "cell_type": "code",
   "execution_count": 17,
   "id": "d29d38aa",
   "metadata": {},
   "outputs": [],
   "source": [
    "bins = [1, 1.5, 2, 3, 99999]\n",
    "\n",
    "#Binning UNDER 2.5 Average Market opening odds\n",
    "data['binned odds <2.5 avg closing'] = pd.cut(data['AvgC<2.5'], bins)\n",
    "\n",
    "#Binning Over 2.5 Average Market opening odds\n",
    "data['binned odds >2.5 avg closing'] = pd.cut(data['AvgC>2.5'], bins)\n",
    "\n",
    "#Binned UNDER 2.5 Pinnacle opening odds\n",
    "data['binned odds <2.5 pinacle closing'] = pd.cut(data['PC<2.5'], bins)\n",
    "\n",
    "#Binned OVER 2.5 Pinnacle\n",
    "data['binned odds >2.5 pinacle closing'] = pd.cut(data['PC>2.5'], bins)\n",
    "\n",
    "#Binned UNDER 2.5 bet365 OPENING odds\n",
    "data['binned odds <2.5 365 closing'] = pd.cut(data['B365C<2.5'], bins)\n",
    "\n",
    "#Binned OVER 2.5 bet365 OPENING odds\n",
    "data['binned odds >2.5 365 closing'] = pd.cut(data['B365C>2.5'], bins)"
   ]
  },
  {
   "cell_type": "code",
   "execution_count": 18,
   "id": "810cb303",
   "metadata": {},
   "outputs": [
    {
     "data": {
      "text/plain": [
       "0"
      ]
     },
     "execution_count": 18,
     "metadata": {},
     "output_type": "execute_result"
    }
   ],
   "source": [
    "data['binned odds <2.5 pinacle closing'].isnull().sum()"
   ]
  },
  {
   "cell_type": "markdown",
   "id": "c7b8d585",
   "metadata": {},
   "source": [
    "### Other Features from D3"
   ]
  },
  {
   "cell_type": "code",
   "execution_count": 19,
   "id": "f72f7c43",
   "metadata": {},
   "outputs": [],
   "source": [
    "data['Pin_pays_better_under_boolean'] = data['PC<2.5'] > data['AvgC<2.5']"
   ]
  },
  {
   "cell_type": "code",
   "execution_count": 20,
   "id": "7dbb247c",
   "metadata": {},
   "outputs": [],
   "source": [
    "data['Pin_pays_better_under_difference'] = data['PC<2.5'] / data['AvgC<2.5']"
   ]
  },
  {
   "cell_type": "code",
   "execution_count": 21,
   "id": "1256d97d",
   "metadata": {},
   "outputs": [],
   "source": [
    "data['%vig_p'] = (1 - (1 / (1/data['PC>2.5'] + 1/data['PC<2.5'])))*100"
   ]
  },
  {
   "cell_type": "code",
   "execution_count": 22,
   "id": "01477baa",
   "metadata": {},
   "outputs": [],
   "source": [
    "data['%vig_p_bool'] = data['%vig_p']>3.3"
   ]
  },
  {
   "cell_type": "code",
   "execution_count": 23,
   "id": "5cdfa74a",
   "metadata": {},
   "outputs": [],
   "source": [
    "data['%vig_avg'] = (1 - (1 / (1/data['AvgC>2.5'] + 1/data['AvgC<2.5'])))*100"
   ]
  },
  {
   "cell_type": "code",
   "execution_count": 24,
   "id": "cfec5316",
   "metadata": {},
   "outputs": [],
   "source": [
    "data['PC<2.5_P_boolean'] = data['PC<2.5'] < data['P<2.5']"
   ]
  },
  {
   "cell_type": "code",
   "execution_count": 25,
   "id": "95e22279",
   "metadata": {},
   "outputs": [],
   "source": [
    "data['PC<2.5_P_relative_diff'] = data['PC<2.5'] / data['P<2.5']"
   ]
  },
  {
   "cell_type": "code",
   "execution_count": 26,
   "id": "d961fcde",
   "metadata": {},
   "outputs": [],
   "source": [
    "data['MaxC>2.5_AvgC_relative_diff'] = data['MaxC>2.5']/data['AvgC>2.5']\n",
    "data['Market_consensus'] = data['MaxC>2.5_AvgC_relative_diff']<1.05"
   ]
  },
  {
   "cell_type": "code",
   "execution_count": 27,
   "id": "60c7e55b",
   "metadata": {},
   "outputs": [],
   "source": [
    "## Adding the Year Feature\n",
    "data_date = data['Date']\n",
    "data_time = data['Time']\n",
    "\n",
    "data_date_2 = pd.to_datetime(data_date, dayfirst = True)\n",
    "data_time_2 = pd.to_datetime(data_time, dayfirst = True)\n",
    "\n",
    "data['month'] = pd.DatetimeIndex(data_date_2).month\n",
    "data['month_after_July'] = data['month']>=7\n",
    "\n",
    "data['year'] = pd.DatetimeIndex(data_date_2).year\n",
    "data['year_2021_2022'] = data['year']>=2021\n",
    "\n",
    "data['hour'] = pd.DatetimeIndex(data_time_2).hour\n",
    "data['game_starts_after_4pm']=data['hour']>=16"
   ]
  },
  {
   "cell_type": "code",
   "execution_count": null,
   "id": "ebd0ad84",
   "metadata": {},
   "outputs": [],
   "source": [
    "data['game_starts_after_4pm'].sum()"
   ]
  },
  {
   "cell_type": "markdown",
   "id": "e45ec430",
   "metadata": {},
   "source": [
    "# [KILL] Final Dataset [KILL]"
   ]
  },
  {
   "cell_type": "markdown",
   "id": "c06f280c",
   "metadata": {},
   "source": [
    "### Opening Markets"
   ]
  },
  {
   "cell_type": "code",
   "execution_count": null,
   "id": "8075c1a9",
   "metadata": {},
   "outputs": [],
   "source": [
    "#Average Market UNDER opening odds\n",
    "fdf_under_avg = data[['Implied Probability <2.5 avg','under_2.5_goals','binned <2.5 avg','payout_avg_under_2.5']]\n",
    "\n",
    "#Average Market OVER opening odds\n",
    "fdf_over_avg = data[['Implied Probability >2.5 avg','over_2.5_goals','binned >2.5 avg','payout_avg_over_2.5']]\n",
    "\n",
    "#pinnacle UNDER opening odds\n",
    "fdf_under_pinacle = data[['Implied Probability <2.5 pinacle','under_2.5_goals','binned <2.5 pinacle','payout_under_2.5_pinacle']]\n",
    "\n",
    "#pinnacle OVER opening odds\n",
    "fdf_over_pinacle = data[['Implied Probability >2.5 pinacle','over_2.5_goals','binned >2.5 pinacle','payout_over_2.5_pinacle']]\n",
    "\n",
    "#bet365 UNDER opening odds\n",
    "fdf_under_365 = data[['Implied Probability <2.5 365','under_2.5_goals','binned <2.5 365','payout_under_2.5_365']]\n",
    "\n",
    "#bet365 OVER opening odds\n",
    "fdf_over_365 = data[['Implied Probability >2.5 365','over_2.5_goals','binned >2.5 365','payout_over_2.5_365']]"
   ]
  },
  {
   "cell_type": "markdown",
   "id": "efd3a216",
   "metadata": {},
   "source": [
    "### Closing Markets"
   ]
  },
  {
   "cell_type": "code",
   "execution_count": null,
   "id": "114d0e78",
   "metadata": {},
   "outputs": [],
   "source": [
    "#Average Market UNDER closing odds\n",
    "fdf_under_avg_closing = data[['Implied Probability <2.5 avg closing','under_2.5_goals','binned <2.5 avg closing','payout_avg_under_closing_2.5']]\n",
    "\n",
    "#Average Market OVER opening odds\n",
    "fdf_over_avg_closing = data[['Implied Probability >2.5 avg closing','over_2.5_goals','binned >2.5 avg closing','payout_avg_over_closing_2.5']]\n",
    "\n",
    "#pinnacle UNDER closing odds\n",
    "fdf_under_pinacle_closing = data[['Implied Probability <2.5 pinacle closing','under_2.5_goals','binned <2.5 pinacle closing','payout_under_2.5_pinacle_closing']]\n",
    "\n",
    "#pinnacle OVER closing odds\n",
    "fdf_over_pinacle_closing = data[['Implied Probability >2.5 pinacle closing','over_2.5_goals','binned >2.5 pinacle closing','payout_over_2.5_pinacle_closing']]\n",
    "\n",
    "#bet365 UNDER closing odds\n",
    "fdf_under_365_closing = data[['Implied Probability <2.5 365 closing','under_2.5_goals','binned <2.5 365 closing','payout_under_2.5_365_closing']]\n",
    "\n",
    "#bet365 OVER closing odds\n",
    "fdf_over_365_closing = data[['Implied Probability >2.5 365 closing','over_2.5_goals','binned >2.5 365 closing','payout_over_2.5_365_closing']]"
   ]
  },
  {
   "cell_type": "markdown",
   "id": "f86ea04f",
   "metadata": {
    "heading_collapsed": true
   },
   "source": [
    "# [KILL] Results per implied prob Average Market [KILL]"
   ]
  },
  {
   "cell_type": "markdown",
   "id": "66684c60",
   "metadata": {
    "hidden": true
   },
   "source": [
    "### Under"
   ]
  },
  {
   "cell_type": "markdown",
   "id": "167a9db6",
   "metadata": {
    "hidden": true
   },
   "source": [
    "#### Opening Odds"
   ]
  },
  {
   "cell_type": "code",
   "execution_count": null,
   "id": "b8d712a0",
   "metadata": {
    "hidden": true
   },
   "outputs": [],
   "source": [
    "fdf_under_avg_agg = fdf_under_avg.groupby('binned <2.5 avg')['payout_avg_under_2.5'].agg(['count', 'mean', 'median'])\n",
    "\n",
    "fdf_under_pinacle_agg = fdf_under_pinacle.groupby('binned <2.5 pinacle')['payout_under_2.5_pinacle'].agg(['count', 'mean', 'median'])\n",
    "\n",
    "fdf_under_bet365_agg = fdf_under_365.groupby('binned <2.5 365')['payout_under_2.5_365'].agg(['count', 'mean', 'median'])"
   ]
  },
  {
   "cell_type": "code",
   "execution_count": null,
   "id": "5104dd95",
   "metadata": {
    "hidden": true
   },
   "outputs": [],
   "source": [
    "fdf_under_avg_agg.rename(columns={\"count\": \"count_avg\", \"mean\": \"mean_avg\", \"median\": \"median_avg\"}, inplace=True)\n",
    "fdf_under_avg_agg.index.names = ['bin<2.5']\n",
    "\n",
    "fdf_under_pinacle_agg.rename(columns={\"count\": \"count_p\", \"mean\": \"mean_p\", \"median\": \"median_p\"}, inplace=True)\n",
    "fdf_under_pinacle_agg.index.names = ['bin<2.5']\n",
    "\n",
    "fdf_under_bet365_agg.rename(columns={\"count\": \"count_b365\", \"mean\": \"mean_b365\", \"median\": \"median_b365\"}, inplace=True)\n",
    "fdf_under_bet365_agg.index.names = ['bin<2.5']\n",
    "\n",
    "opening_test_1 = fdf_under_avg_agg.merge(fdf_under_pinacle_agg, on='bin<2.5')\n",
    "opening_test_2 = opening_test_1.merge(fdf_under_bet365_agg, on='bin<2.5')\n",
    "opening_test_2"
   ]
  },
  {
   "cell_type": "markdown",
   "id": "da439352",
   "metadata": {
    "hidden": true
   },
   "source": [
    "#### Closing Odds"
   ]
  },
  {
   "cell_type": "code",
   "execution_count": null,
   "id": "4345a641",
   "metadata": {
    "hidden": true
   },
   "outputs": [],
   "source": [
    "fdf_under_avg_closing_gb_agg = fdf_under_avg_closing.groupby('binned <2.5 avg closing')['payout_avg_under_closing_2.5'].agg(['count', 'mean', 'median', mode])\n",
    "\n",
    "fdf_under_pinacle_closing_gb_agg = fdf_under_pinacle_closing.groupby('binned <2.5 pinacle closing')['payout_under_2.5_pinacle_closing'].agg(['count', 'mean', 'median', mode])\n",
    "\n",
    "fdf_under_bet365_closing_gb_agg = fdf_under_365_closing.groupby('binned <2.5 365 closing')['payout_under_2.5_365_closing'].agg(['count', 'mean', 'median', mode])"
   ]
  },
  {
   "cell_type": "code",
   "execution_count": null,
   "id": "6fc59570",
   "metadata": {
    "hidden": true
   },
   "outputs": [],
   "source": [
    "fdf_under_avg_closing_gb_agg.rename(columns={\"count\": \"count_avg\", \"mean\": \"mean_avg\", \"median\": \"median_avg\", \"mode\": \"mode_avg\"}, inplace=True)\n",
    "fdf_under_avg_closing_gb_agg.index.names = ['bin<2.5']\n",
    "\n",
    "fdf_under_pinacle_closing_gb_agg.rename(columns={\"count\": \"count_p\", \"mean\": \"mean_p\", \"median\": \"median_p\", \"mode\": \"mode_p\"}, inplace=True)\n",
    "fdf_under_pinacle_closing_gb_agg.index.names = ['bin<2.5']\n",
    "\n",
    "fdf_under_bet365_closing_gb_agg.rename(columns={\"count\": \"count_b365\", \"mean\": \"mean_b365\", \"median\": \"median_b365\", \"mode\": \"mode_b365\"}, inplace=True)\n",
    "fdf_under_bet365_closing_gb_agg.index.names = ['bin<2.5']\n",
    "\n",
    "closing_test_1 = fdf_under_avg_closing_gb_agg.merge(fdf_under_pinacle_closing_gb_agg, on='bin<2.5')\n",
    "closing_test_2 = closing_test_1.merge(fdf_under_bet365_closing_gb_agg, on='bin<2.5')\n",
    "closing_test_2['bins'] = closing_test_2.index\n",
    "closing_test_2"
   ]
  },
  {
   "cell_type": "markdown",
   "id": "d5b57f08",
   "metadata": {
    "hidden": true
   },
   "source": [
    "### Over"
   ]
  },
  {
   "cell_type": "markdown",
   "id": "893845a5",
   "metadata": {
    "hidden": true
   },
   "source": [
    "#### Opening Odds"
   ]
  },
  {
   "cell_type": "code",
   "execution_count": null,
   "id": "810f753d",
   "metadata": {
    "hidden": true
   },
   "outputs": [],
   "source": [
    "fdf_over_avg_agg = fdf_over_avg.groupby('binned >2.5 avg')['payout_avg_over_2.5'].agg(['count', 'mean', 'median'])\n",
    "\n",
    "fdf_over_pinacle_agg = fdf_over_pinacle.groupby('binned >2.5 pinacle')['payout_over_2.5_pinacle'].agg(['count', 'mean', 'median'])\n",
    "\n",
    "fdf_over_bet365_agg = fdf_over_365.groupby('binned >2.5 365')['payout_over_2.5_365'].agg(['count', 'mean', 'median'])"
   ]
  },
  {
   "cell_type": "code",
   "execution_count": null,
   "id": "1bee2d22",
   "metadata": {
    "hidden": true
   },
   "outputs": [],
   "source": [
    "fdf_over_avg_agg.rename(columns={\"count\": \"count_avg\", \"mean\": \"mean_avg\", \"median\": \"median_avg\"}, inplace=True)\n",
    "fdf_over_avg_agg.index.names = ['bin>2.5']\n",
    "\n",
    "fdf_over_pinacle_agg.rename(columns={\"count\": \"count_p\", \"mean\": \"mean_p\", \"median\": \"median_p\"}, inplace=True)\n",
    "fdf_over_pinacle_agg.index.names = ['bin>2.5']\n",
    "\n",
    "fdf_over_bet365_agg.rename(columns={\"count\": \"count_b365\", \"mean\": \"mean_b365\", \"median\": \"median_b365\"}, inplace=True)\n",
    "fdf_over_bet365_agg.index.names = ['bin>2.5']\n",
    "\n",
    "over_opening_test_1 = fdf_over_avg_agg.merge(fdf_over_pinacle_agg, on='bin>2.5')\n",
    "over_opening_test_2 = over_opening_test_1.merge(fdf_over_bet365_agg, on='bin>2.5')\n",
    "over_opening_test_2"
   ]
  },
  {
   "cell_type": "markdown",
   "id": "77de2923",
   "metadata": {
    "hidden": true
   },
   "source": [
    "#### Closing Odds"
   ]
  },
  {
   "cell_type": "code",
   "execution_count": null,
   "id": "c55b4aac",
   "metadata": {
    "hidden": true
   },
   "outputs": [],
   "source": [
    "fdf_over_avg_closing_agg = fdf_over_avg_closing.groupby('binned >2.5 avg closing')['payout_avg_over_closing_2.5'].agg(['count', 'mean', 'median'])\n",
    "\n",
    "fdf_over_pinacle_closing_agg = fdf_over_pinacle_closing.groupby('binned >2.5 pinacle closing')['payout_over_2.5_pinacle_closing'].agg(['count', 'mean', 'median'])\n",
    "\n",
    "fdf_over_bet365_closing_agg = fdf_over_365_closing.groupby('binned >2.5 365 closing')['payout_over_2.5_365_closing'].agg(['count', 'mean', 'median'])"
   ]
  },
  {
   "cell_type": "code",
   "execution_count": null,
   "id": "1d1ff121",
   "metadata": {
    "hidden": true
   },
   "outputs": [],
   "source": [
    "fdf_over_avg_closing_agg.rename(columns={\"count\": \"count_avg\", \"mean\": \"mean_avg\", \"median\": \"median_avg\"}, inplace=True)\n",
    "fdf_over_avg_closing_agg.index.names = ['bin>2.5']\n",
    "\n",
    "fdf_over_pinacle_closing_agg.rename(columns={\"count\": \"count_p\", \"mean\": \"mean_p\", \"median\": \"median_p\"}, inplace=True)\n",
    "fdf_over_pinacle_closing_agg.index.names = ['bin>2.5']\n",
    "\n",
    "fdf_over_bet365_closing_agg.rename(columns={\"count\": \"count_b365\", \"mean\": \"mean_b365\", \"median\": \"median_b365\"}, inplace=True)\n",
    "fdf_over_bet365_closing_agg.index.names = ['bin>2.5']\n",
    "\n",
    "over_closing_test_1 = fdf_over_avg_closing_agg.merge(fdf_over_pinacle_closing_agg, on='bin>2.5')\n",
    "over_closing_test_2 = over_closing_test_1.merge(fdf_over_bet365_closing_agg, on='bin>2.5')\n",
    "over_closing_test_2"
   ]
  },
  {
   "cell_type": "markdown",
   "id": "b6c0df27",
   "metadata": {},
   "source": [
    "# Starting Model"
   ]
  },
  {
   "cell_type": "code",
   "execution_count": null,
   "id": "d323eba3",
   "metadata": {},
   "outputs": [],
   "source": [
    "#Pedro's pet! Don't touch it!\n",
    "\"\"\"odd = 2.15\n",
    "iproba = 1/odd*100\n",
    "for x in range(0, 20):\n",
    "    if iproba in closing_test_2.iloc[6]['bins']\"\"\""
   ]
  },
  {
   "cell_type": "code",
   "execution_count": 28,
   "id": "d49e7d94",
   "metadata": {},
   "outputs": [],
   "source": [
    "data_linear_booleans = data.copy()"
   ]
  },
  {
   "cell_type": "code",
   "execution_count": 29,
   "id": "899a0e4d",
   "metadata": {},
   "outputs": [],
   "source": [
    "data_linear_booleans_lean_P_under = data_linear_booleans[['country','month_after_July','year_2021_2022','game_starts_after_4pm','binned odds <2.5 pinacle closing','Pin_pays_better_under_boolean','Market_consensus','%vig_p_bool','PC<2.5_P_boolean', 'payout_under_2.5_pinacle_closing','0, 20','20, 40','40, 60','60, 80','80, 100']]"
   ]
  },
  {
   "cell_type": "code",
   "execution_count": null,
   "id": "615a3221",
   "metadata": {},
   "outputs": [],
   "source": [
    "# data_model_over_under = data_model_over_under[[\"Div\",\n",
    "# \"Date\", \"Time\", \"HomeTeam\", \"AwayTeam\", \"FTHG\", \"FTAG\", \"nb_goals\", \"Avg>2.5\", \"Avg<2.5\", \"B365>2.5\", \"B365<2.5\", \"P>2.5\", \n",
    "# \"P<2.5\", \"AvgC>2.5\", \"AvgC<2.5\", \"B365C>2.5\", \"B365C<2.5\", \"PC>2.5\", \"PC<2.5\", \"over_2.5_goals\", \"under_2.5_goals\", \n",
    "# \"payout_avg_under_2.5\", \"payout_avg_over_2.5\", \"payout_under_2.5_pinacle\", \"payout_over_2.5_pinacle\", \"payout_under_2.5_365\", \n",
    "# \"payout_over_2.5_365\", \"payout_avg_under_closing_2.5\", \"payout_avg_over_closing_2.5\", \"payout_under_2.5_pinacle_closing\", \n",
    "# \"payout_over_2.5_pinacle_closing\", \"payout_under_2.5_365_closing\", \"payout_over_2.5_365_closing\", \"Implied Probability <2.5 avg\", \n",
    "# \"Implied Probability >2.5 avg\", \"Implied Probability <2.5 pinacle\", \"Implied Probability >2.5 pinacle\", \"Implied Probability <2.5 365\", \n",
    "# \"Implied Probability >2.5 365\", \"Implied Probability <2.5 avg closing\", \"Implied Probability >2.5 avg closing\", \"Implied Probability <2.5 pinacle closing\", \n",
    "# \"Implied Probability >2.5 pinacle closing\", \"Implied Probability <2.5 365 closing\", \"Implied Probability >2.5 365 closing\", \n",
    "# \"binned <2.5 avg\", \"binned >2.5 avg\", \"binned <2.5 pinacle\", \"binned >2.5 pinacle\", \"binned <2.5 365\", \"binned >2.5 365\", \n",
    "# \"binned <2.5 avg closing\", \"binned >2.5 avg closing\", \"binned <2.5 pinacle closing\", \"binned >2.5 pinacle closing\", \n",
    "# \"binned <2.5 365 closing\", \"binned >2.5 365 closing\"]]"
   ]
  },
  {
   "cell_type": "code",
   "execution_count": null,
   "id": "99e92a15",
   "metadata": {},
   "outputs": [],
   "source": [
    "# data_model_over_under.dropna(inplace=True)"
   ]
  },
  {
   "cell_type": "code",
   "execution_count": null,
   "id": "b5093a92",
   "metadata": {},
   "outputs": [],
   "source": [
    "# data_model_over_under"
   ]
  },
  {
   "cell_type": "code",
   "execution_count": null,
   "id": "80501c77",
   "metadata": {},
   "outputs": [],
   "source": [
    "# OneHotEncoders for Bin Odds"
   ]
  },
  {
   "cell_type": "code",
   "execution_count": 30,
   "id": "ac93cd78",
   "metadata": {},
   "outputs": [
    {
     "name": "stderr",
     "output_type": "stream",
     "text": [
      "/tmp/ipykernel_9333/1468458170.py:4: SettingWithCopyWarning: \n",
      "A value is trying to be set on a copy of a slice from a DataFrame.\n",
      "Try using .loc[row_indexer,col_indexer] = value instead\n",
      "\n",
      "See the caveats in the documentation: https://pandas.pydata.org/pandas-docs/stable/user_guide/indexing.html#returning-a-view-versus-a-copy\n",
      "  data_linear_booleans_lean_P_under[\"1.0_to_1.5\"], data_linear_booleans_lean_P_under[\"1.5_to_2.0\"], data_linear_booleans_lean_P_under[\"2.0_to_3.0\"], data_linear_booleans_lean_P_under[\"3.0_to_99999.0\"] = bins_encoded.T\n",
      "/tmp/ipykernel_9333/1468458170.py:4: SettingWithCopyWarning: \n",
      "A value is trying to be set on a copy of a slice from a DataFrame.\n",
      "Try using .loc[row_indexer,col_indexer] = value instead\n",
      "\n",
      "See the caveats in the documentation: https://pandas.pydata.org/pandas-docs/stable/user_guide/indexing.html#returning-a-view-versus-a-copy\n",
      "  data_linear_booleans_lean_P_under[\"1.0_to_1.5\"], data_linear_booleans_lean_P_under[\"1.5_to_2.0\"], data_linear_booleans_lean_P_under[\"2.0_to_3.0\"], data_linear_booleans_lean_P_under[\"3.0_to_99999.0\"] = bins_encoded.T\n",
      "/tmp/ipykernel_9333/1468458170.py:4: SettingWithCopyWarning: \n",
      "A value is trying to be set on a copy of a slice from a DataFrame.\n",
      "Try using .loc[row_indexer,col_indexer] = value instead\n",
      "\n",
      "See the caveats in the documentation: https://pandas.pydata.org/pandas-docs/stable/user_guide/indexing.html#returning-a-view-versus-a-copy\n",
      "  data_linear_booleans_lean_P_under[\"1.0_to_1.5\"], data_linear_booleans_lean_P_under[\"1.5_to_2.0\"], data_linear_booleans_lean_P_under[\"2.0_to_3.0\"], data_linear_booleans_lean_P_under[\"3.0_to_99999.0\"] = bins_encoded.T\n",
      "/tmp/ipykernel_9333/1468458170.py:4: SettingWithCopyWarning: \n",
      "A value is trying to be set on a copy of a slice from a DataFrame.\n",
      "Try using .loc[row_indexer,col_indexer] = value instead\n",
      "\n",
      "See the caveats in the documentation: https://pandas.pydata.org/pandas-docs/stable/user_guide/indexing.html#returning-a-view-versus-a-copy\n",
      "  data_linear_booleans_lean_P_under[\"1.0_to_1.5\"], data_linear_booleans_lean_P_under[\"1.5_to_2.0\"], data_linear_booleans_lean_P_under[\"2.0_to_3.0\"], data_linear_booleans_lean_P_under[\"3.0_to_99999.0\"] = bins_encoded.T\n"
     ]
    }
   ],
   "source": [
    "ohe = OneHotEncoder(sparse=False) \n",
    "ohe.fit(data_linear_booleans_lean_P_under[['binned odds <2.5 pinacle closing']])\n",
    "bins_encoded = ohe.transform(data_linear_booleans_lean_P_under[['binned odds <2.5 pinacle closing']])\n",
    "data_linear_booleans_lean_P_under[\"1.0_to_1.5\"], data_linear_booleans_lean_P_under[\"1.5_to_2.0\"], data_linear_booleans_lean_P_under[\"2.0_to_3.0\"], data_linear_booleans_lean_P_under[\"3.0_to_99999.0\"] = bins_encoded.T\n",
    "#data_linear_booleans_lean_P_under.drop(columns='binned <2.5 pinacle', inplace=True)"
   ]
  },
  {
   "cell_type": "code",
   "execution_count": 31,
   "id": "ceacd155",
   "metadata": {},
   "outputs": [
    {
     "name": "stderr",
     "output_type": "stream",
     "text": [
      "/tmp/ipykernel_9333/925268853.py:4: SettingWithCopyWarning: \n",
      "A value is trying to be set on a copy of a slice from a DataFrame.\n",
      "Try using .loc[row_indexer,col_indexer] = value instead\n",
      "\n",
      "See the caveats in the documentation: https://pandas.pydata.org/pandas-docs/stable/user_guide/indexing.html#returning-a-view-versus-a-copy\n",
      "  data_linear_booleans_lean_P_under[\"country_1\"], data_linear_booleans_lean_P_under[\"country_2\"], data_linear_booleans_lean_P_under[\"country_3\"], data_linear_booleans_lean_P_under[\"country_4\"], data_linear_booleans_lean_P_under[\"country_5\"],data_linear_booleans_lean_P_under[\"country_6\"], data_linear_booleans_lean_P_under[\"country_7\"], data_linear_booleans_lean_P_under[\"country_8\"], data_linear_booleans_lean_P_under[\"country_9\"], data_linear_booleans_lean_P_under[\"country_10\"], data_linear_booleans_lean_P_under[\"country_11\"] = bins_encoded.T\n",
      "/tmp/ipykernel_9333/925268853.py:4: SettingWithCopyWarning: \n",
      "A value is trying to be set on a copy of a slice from a DataFrame.\n",
      "Try using .loc[row_indexer,col_indexer] = value instead\n",
      "\n",
      "See the caveats in the documentation: https://pandas.pydata.org/pandas-docs/stable/user_guide/indexing.html#returning-a-view-versus-a-copy\n",
      "  data_linear_booleans_lean_P_under[\"country_1\"], data_linear_booleans_lean_P_under[\"country_2\"], data_linear_booleans_lean_P_under[\"country_3\"], data_linear_booleans_lean_P_under[\"country_4\"], data_linear_booleans_lean_P_under[\"country_5\"],data_linear_booleans_lean_P_under[\"country_6\"], data_linear_booleans_lean_P_under[\"country_7\"], data_linear_booleans_lean_P_under[\"country_8\"], data_linear_booleans_lean_P_under[\"country_9\"], data_linear_booleans_lean_P_under[\"country_10\"], data_linear_booleans_lean_P_under[\"country_11\"] = bins_encoded.T\n",
      "/tmp/ipykernel_9333/925268853.py:4: SettingWithCopyWarning: \n",
      "A value is trying to be set on a copy of a slice from a DataFrame.\n",
      "Try using .loc[row_indexer,col_indexer] = value instead\n",
      "\n",
      "See the caveats in the documentation: https://pandas.pydata.org/pandas-docs/stable/user_guide/indexing.html#returning-a-view-versus-a-copy\n",
      "  data_linear_booleans_lean_P_under[\"country_1\"], data_linear_booleans_lean_P_under[\"country_2\"], data_linear_booleans_lean_P_under[\"country_3\"], data_linear_booleans_lean_P_under[\"country_4\"], data_linear_booleans_lean_P_under[\"country_5\"],data_linear_booleans_lean_P_under[\"country_6\"], data_linear_booleans_lean_P_under[\"country_7\"], data_linear_booleans_lean_P_under[\"country_8\"], data_linear_booleans_lean_P_under[\"country_9\"], data_linear_booleans_lean_P_under[\"country_10\"], data_linear_booleans_lean_P_under[\"country_11\"] = bins_encoded.T\n",
      "/tmp/ipykernel_9333/925268853.py:4: SettingWithCopyWarning: \n",
      "A value is trying to be set on a copy of a slice from a DataFrame.\n",
      "Try using .loc[row_indexer,col_indexer] = value instead\n",
      "\n",
      "See the caveats in the documentation: https://pandas.pydata.org/pandas-docs/stable/user_guide/indexing.html#returning-a-view-versus-a-copy\n",
      "  data_linear_booleans_lean_P_under[\"country_1\"], data_linear_booleans_lean_P_under[\"country_2\"], data_linear_booleans_lean_P_under[\"country_3\"], data_linear_booleans_lean_P_under[\"country_4\"], data_linear_booleans_lean_P_under[\"country_5\"],data_linear_booleans_lean_P_under[\"country_6\"], data_linear_booleans_lean_P_under[\"country_7\"], data_linear_booleans_lean_P_under[\"country_8\"], data_linear_booleans_lean_P_under[\"country_9\"], data_linear_booleans_lean_P_under[\"country_10\"], data_linear_booleans_lean_P_under[\"country_11\"] = bins_encoded.T\n",
      "/tmp/ipykernel_9333/925268853.py:4: SettingWithCopyWarning: \n",
      "A value is trying to be set on a copy of a slice from a DataFrame.\n",
      "Try using .loc[row_indexer,col_indexer] = value instead\n",
      "\n",
      "See the caveats in the documentation: https://pandas.pydata.org/pandas-docs/stable/user_guide/indexing.html#returning-a-view-versus-a-copy\n",
      "  data_linear_booleans_lean_P_under[\"country_1\"], data_linear_booleans_lean_P_under[\"country_2\"], data_linear_booleans_lean_P_under[\"country_3\"], data_linear_booleans_lean_P_under[\"country_4\"], data_linear_booleans_lean_P_under[\"country_5\"],data_linear_booleans_lean_P_under[\"country_6\"], data_linear_booleans_lean_P_under[\"country_7\"], data_linear_booleans_lean_P_under[\"country_8\"], data_linear_booleans_lean_P_under[\"country_9\"], data_linear_booleans_lean_P_under[\"country_10\"], data_linear_booleans_lean_P_under[\"country_11\"] = bins_encoded.T\n",
      "/tmp/ipykernel_9333/925268853.py:4: SettingWithCopyWarning: \n",
      "A value is trying to be set on a copy of a slice from a DataFrame.\n",
      "Try using .loc[row_indexer,col_indexer] = value instead\n",
      "\n",
      "See the caveats in the documentation: https://pandas.pydata.org/pandas-docs/stable/user_guide/indexing.html#returning-a-view-versus-a-copy\n",
      "  data_linear_booleans_lean_P_under[\"country_1\"], data_linear_booleans_lean_P_under[\"country_2\"], data_linear_booleans_lean_P_under[\"country_3\"], data_linear_booleans_lean_P_under[\"country_4\"], data_linear_booleans_lean_P_under[\"country_5\"],data_linear_booleans_lean_P_under[\"country_6\"], data_linear_booleans_lean_P_under[\"country_7\"], data_linear_booleans_lean_P_under[\"country_8\"], data_linear_booleans_lean_P_under[\"country_9\"], data_linear_booleans_lean_P_under[\"country_10\"], data_linear_booleans_lean_P_under[\"country_11\"] = bins_encoded.T\n",
      "/tmp/ipykernel_9333/925268853.py:4: SettingWithCopyWarning: \n",
      "A value is trying to be set on a copy of a slice from a DataFrame.\n",
      "Try using .loc[row_indexer,col_indexer] = value instead\n",
      "\n",
      "See the caveats in the documentation: https://pandas.pydata.org/pandas-docs/stable/user_guide/indexing.html#returning-a-view-versus-a-copy\n",
      "  data_linear_booleans_lean_P_under[\"country_1\"], data_linear_booleans_lean_P_under[\"country_2\"], data_linear_booleans_lean_P_under[\"country_3\"], data_linear_booleans_lean_P_under[\"country_4\"], data_linear_booleans_lean_P_under[\"country_5\"],data_linear_booleans_lean_P_under[\"country_6\"], data_linear_booleans_lean_P_under[\"country_7\"], data_linear_booleans_lean_P_under[\"country_8\"], data_linear_booleans_lean_P_under[\"country_9\"], data_linear_booleans_lean_P_under[\"country_10\"], data_linear_booleans_lean_P_under[\"country_11\"] = bins_encoded.T\n",
      "/tmp/ipykernel_9333/925268853.py:4: SettingWithCopyWarning: \n",
      "A value is trying to be set on a copy of a slice from a DataFrame.\n",
      "Try using .loc[row_indexer,col_indexer] = value instead\n",
      "\n",
      "See the caveats in the documentation: https://pandas.pydata.org/pandas-docs/stable/user_guide/indexing.html#returning-a-view-versus-a-copy\n",
      "  data_linear_booleans_lean_P_under[\"country_1\"], data_linear_booleans_lean_P_under[\"country_2\"], data_linear_booleans_lean_P_under[\"country_3\"], data_linear_booleans_lean_P_under[\"country_4\"], data_linear_booleans_lean_P_under[\"country_5\"],data_linear_booleans_lean_P_under[\"country_6\"], data_linear_booleans_lean_P_under[\"country_7\"], data_linear_booleans_lean_P_under[\"country_8\"], data_linear_booleans_lean_P_under[\"country_9\"], data_linear_booleans_lean_P_under[\"country_10\"], data_linear_booleans_lean_P_under[\"country_11\"] = bins_encoded.T\n",
      "/tmp/ipykernel_9333/925268853.py:4: SettingWithCopyWarning: \n",
      "A value is trying to be set on a copy of a slice from a DataFrame.\n",
      "Try using .loc[row_indexer,col_indexer] = value instead\n",
      "\n",
      "See the caveats in the documentation: https://pandas.pydata.org/pandas-docs/stable/user_guide/indexing.html#returning-a-view-versus-a-copy\n",
      "  data_linear_booleans_lean_P_under[\"country_1\"], data_linear_booleans_lean_P_under[\"country_2\"], data_linear_booleans_lean_P_under[\"country_3\"], data_linear_booleans_lean_P_under[\"country_4\"], data_linear_booleans_lean_P_under[\"country_5\"],data_linear_booleans_lean_P_under[\"country_6\"], data_linear_booleans_lean_P_under[\"country_7\"], data_linear_booleans_lean_P_under[\"country_8\"], data_linear_booleans_lean_P_under[\"country_9\"], data_linear_booleans_lean_P_under[\"country_10\"], data_linear_booleans_lean_P_under[\"country_11\"] = bins_encoded.T\n",
      "/tmp/ipykernel_9333/925268853.py:4: SettingWithCopyWarning: \n",
      "A value is trying to be set on a copy of a slice from a DataFrame.\n",
      "Try using .loc[row_indexer,col_indexer] = value instead\n",
      "\n",
      "See the caveats in the documentation: https://pandas.pydata.org/pandas-docs/stable/user_guide/indexing.html#returning-a-view-versus-a-copy\n",
      "  data_linear_booleans_lean_P_under[\"country_1\"], data_linear_booleans_lean_P_under[\"country_2\"], data_linear_booleans_lean_P_under[\"country_3\"], data_linear_booleans_lean_P_under[\"country_4\"], data_linear_booleans_lean_P_under[\"country_5\"],data_linear_booleans_lean_P_under[\"country_6\"], data_linear_booleans_lean_P_under[\"country_7\"], data_linear_booleans_lean_P_under[\"country_8\"], data_linear_booleans_lean_P_under[\"country_9\"], data_linear_booleans_lean_P_under[\"country_10\"], data_linear_booleans_lean_P_under[\"country_11\"] = bins_encoded.T\n",
      "/tmp/ipykernel_9333/925268853.py:4: SettingWithCopyWarning: \n",
      "A value is trying to be set on a copy of a slice from a DataFrame.\n",
      "Try using .loc[row_indexer,col_indexer] = value instead\n",
      "\n",
      "See the caveats in the documentation: https://pandas.pydata.org/pandas-docs/stable/user_guide/indexing.html#returning-a-view-versus-a-copy\n",
      "  data_linear_booleans_lean_P_under[\"country_1\"], data_linear_booleans_lean_P_under[\"country_2\"], data_linear_booleans_lean_P_under[\"country_3\"], data_linear_booleans_lean_P_under[\"country_4\"], data_linear_booleans_lean_P_under[\"country_5\"],data_linear_booleans_lean_P_under[\"country_6\"], data_linear_booleans_lean_P_under[\"country_7\"], data_linear_booleans_lean_P_under[\"country_8\"], data_linear_booleans_lean_P_under[\"country_9\"], data_linear_booleans_lean_P_under[\"country_10\"], data_linear_booleans_lean_P_under[\"country_11\"] = bins_encoded.T\n"
     ]
    }
   ],
   "source": [
    "ohe = OneHotEncoder(sparse=False) \n",
    "ohe.fit(data_linear_booleans_lean_P_under[['country']])\n",
    "bins_encoded = ohe.transform(data_linear_booleans_lean_P_under[['country']])\n",
    "data_linear_booleans_lean_P_under[\"country_1\"], data_linear_booleans_lean_P_under[\"country_2\"], data_linear_booleans_lean_P_under[\"country_3\"], data_linear_booleans_lean_P_under[\"country_4\"], data_linear_booleans_lean_P_under[\"country_5\"],data_linear_booleans_lean_P_under[\"country_6\"], data_linear_booleans_lean_P_under[\"country_7\"], data_linear_booleans_lean_P_under[\"country_8\"], data_linear_booleans_lean_P_under[\"country_9\"], data_linear_booleans_lean_P_under[\"country_10\"], data_linear_booleans_lean_P_under[\"country_11\"] = bins_encoded.T\n",
    "#data_linear_booleans_lean_P_under[\"country_1\"], data_linear_booleans_lean_P_under[\"country_2\"], data_linear_booleans_lean_P_under[\"country_3\"], data_linear_booleans_lean_P_under[\"country_4\"], data_linear_booleans_lean_P_under[\"country_5\"], data_linear_booleans_lean_P_under[\"country_6\"]= bins_encoded.T\n",
    "#data_linear_booleans_lean_P_under.drop(columns='binned <2.5 pinacle', inplace=True)"
   ]
  },
  {
   "cell_type": "code",
   "execution_count": 32,
   "id": "4a2525bd",
   "metadata": {},
   "outputs": [],
   "source": [
    "#extra\n",
    "data_linear_booleans_lean_P_under = data_linear_booleans_lean_P_under.drop(['country'],axis=1)"
   ]
  },
  {
   "cell_type": "code",
   "execution_count": 33,
   "id": "8218d14b",
   "metadata": {},
   "outputs": [],
   "source": [
    "#extra\n",
    "data_linear_booleans_lean_P_under = data_linear_booleans_lean_P_under.drop(['binned odds <2.5 pinacle closing'],axis=1)"
   ]
  },
  {
   "cell_type": "code",
   "execution_count": 34,
   "id": "58ffa7e2",
   "metadata": {},
   "outputs": [
    {
     "data": {
      "text/plain": [
       "month_after_July                    5128.00\n",
       "year_2021_2022                      5465.00\n",
       "game_starts_after_4pm               5910.00\n",
       "Pin_pays_better_under_boolean       8748.00\n",
       "Market_consensus                    5737.00\n",
       "%vig_p_bool                         3574.00\n",
       "PC<2.5_P_boolean                    4688.00\n",
       "payout_under_2.5_pinacle_closing    9618.42\n",
       "0, 20                                309.00\n",
       "20, 40                              2685.00\n",
       "40, 60                              4891.00\n",
       "60, 80                              1696.00\n",
       "80, 100                              312.00\n",
       "1.0_to_1.5                           420.00\n",
       "1.5_to_2.0                          4365.00\n",
       "2.0_to_3.0                          4528.00\n",
       "3.0_to_99999.0                       580.00\n",
       "country_1                            805.00\n",
       "country_2                            838.00\n",
       "country_3                           1077.00\n",
       "country_4                            985.00\n",
       "country_5                            691.00\n",
       "country_6                           1079.00\n",
       "country_7                            786.00\n",
       "country_8                            875.00\n",
       "country_9                            613.00\n",
       "country_10                          1096.00\n",
       "country_11                          1048.00\n",
       "dtype: float64"
      ]
     },
     "execution_count": 34,
     "metadata": {},
     "output_type": "execute_result"
    }
   ],
   "source": [
    "data_linear_booleans_lean_P_under.sum()"
   ]
  },
  {
   "cell_type": "code",
   "execution_count": null,
   "id": "8d7c2313",
   "metadata": {},
   "outputs": [],
   "source": [
    "for col_name in data_linear_booleans_lean_P_under.columns: \n",
    "    print(col_name)"
   ]
  },
  {
   "cell_type": "code",
   "execution_count": null,
   "id": "7b6eb27a",
   "metadata": {},
   "outputs": [],
   "source": [
    "# test_model = data_model_over_under.drop(columns=['FTHG', 'FTAG', 'nb_goals', 'over_2.5_goals', 'under_2.5_goals', \n",
    "#                                                 'Div', 'Date', 'Time', 'HomeTeam', 'AwayTeam', 'binned <2.5 avg', \n",
    "#                                                 'binned >2.5 avg', 'binned >2.5 pinacle', 'binned <2.5 365', \n",
    "#                                                  'binned >2.5 365', 'binned <2.5 avg closing', 'binned >2.5 avg closing', \n",
    "#                                                 'binned <2.5 pinacle closing', 'binned >2.5 pinacle closing', 'binned <2.5 365 closing', \n",
    "#                                                 'binned >2.5 365 closing', \n",
    "#                                                 'B365>2.5', 'B365<2.5', 'B365C>2.5', 'B365C<2.5', 'payout_under_2.5_365', 'payout_over_2.5_365', \n",
    "#                                                 'payout_under_2.5_365_closing', 'payout_over_2.5_365_closing', \n",
    "#                                                 'Implied Probability <2.5 365', 'Implied Probability >2.5 365', \n",
    "#                                                 'Implied Probability <2.5 365 closing', 'Implied Probability >2.5 365 closing', \n",
    "#                                                 'payout_avg_under_2.5', 'payout_avg_over_2.5', 'payout_under_2.5_pinacle', \n",
    "#                                                 'payout_avg_over_closing_2.5', 'payout_over_2.5_pinacle_closing', \n",
    "#                                                 'Implied Probability <2.5 avg', 'Implied Probability >2.5 avg', \n",
    "#                                                 'Implied Probability <2.5 pinacle', 'Implied Probability >2.5 pinacle', \n",
    "#                                                 'Avg>2.5', 'P>2.5', 'AvgC>2.5', 'PC>2.5', 'payout_over_2.5_pinacle', \n",
    "#                                                 'Implied Probability >2.5 avg closing', 'Implied Probability >2.5 pinacle closing', \n",
    "#                                                 'payout_avg_under_closing_2.5', 'Avg<2.5', 'P<2.5', 'AvgC<2.5', 'PC<2.5', \n",
    "#                                                 'Implied Probability <2.5 avg closing', 'Implied Probability <2.5 pinacle closing'])\n",
    "\n",
    "# test_model"
   ]
  },
  {
   "cell_type": "code",
   "execution_count": 35,
   "id": "af915b8a",
   "metadata": {},
   "outputs": [],
   "source": [
    "X = data_linear_booleans_lean_P_under[['Pin_pays_better_under_boolean','Market_consensus','%vig_p_bool','PC<2.5_P_boolean', '1.0_to_1.5', '1.5_to_2.0', '2.0_to_3.0','3.0_to_99999.0']]\n",
    "X_step2 = data_linear_booleans_lean_P_under[['%vig_p_bool','PC<2.5_P_boolean', '1.0_to_1.5', '1.5_to_2.0', '2.0_to_3.0','3.0_to_99999.0']]\n",
    "X_step3 = data_linear_booleans_lean_P_under[['country_1','country_2','country_3','country_4','country_5','country_6','country_7','country_8','country_9','country_10','country_11','month_after_July', 'year_2021_2022', 'game_starts_after_4pm','Pin_pays_better_under_boolean','Market_consensus','%vig_p_bool','PC<2.5_P_boolean','1.0_to_1.5', '1.5_to_2.0', '2.0_to_3.0','3.0_to_99999.0','0, 20','20, 40','40, 60','60, 80','80, 100']]\n",
    "#X_step4 = data_linear_booleans_lean_P_under[['country_1','country_2','country_3','country_4','country_5','country_6','country_7','country_8','country_9','country_10','country_11']]\n",
    "y = data_linear_booleans_lean_P_under['payout_under_2.5_pinacle_closing']-1\n",
    "\n",
    "X_step_joao = data_linear_booleans_lean_P_under[['month_after_July', 'year_2021_2022', 'game_starts_after_4pm','Pin_pays_better_under_boolean','Market_consensus','%vig_p_bool','PC<2.5_P_boolean','1.0_to_1.5', '1.5_to_2.0', '2.0_to_3.0','3.0_to_99999.0','0, 20','20, 40','40, 60','60, 80','80, 100']]\n",
    "X_step_f= data_linear_booleans_lean_P_under[['0, 20','20, 40','40, 60','60, 80','80, 100']]\n"
   ]
  },
  {
   "cell_type": "code",
   "execution_count": null,
   "id": "629c3920",
   "metadata": {},
   "outputs": [],
   "source": [
    "#X_step_f= data_linear_booleans_lean_P_under[['0, 20','20, 40','40, 60','60, 80','80, 100']]\n"
   ]
  },
  {
   "cell_type": "code",
   "execution_count": null,
   "id": "f4cec0e8",
   "metadata": {},
   "outputs": [],
   "source": [
    "#X_step3['great_countries']=X_step3['country_3']+X_step3['country_7']+X_step3['country_8']+X_step3['country_9']+X_step3['country_10']"
   ]
  },
  {
   "cell_type": "code",
   "execution_count": null,
   "id": "7c9bf3ff",
   "metadata": {},
   "outputs": [],
   "source": [
    "#X_step3 = X_step3[X_step3['great_countries']==1]"
   ]
  },
  {
   "cell_type": "code",
   "execution_count": null,
   "id": "e7b162e3",
   "metadata": {},
   "outputs": [],
   "source": [
    "#X_step3 = X_step3[['country_3','country_7','country_8','country_9','country_10','month_after_July', 'year_2021_2022', 'game_starts_after_4pm','Pin_pays_better_under_boolean','Market_consensus','%vig_p_bool','1.0_to_1.5', '1.5_to_2.0', '2.0_to_3.0','3.0_to_99999.0','0, 20','20, 40','40, 60','60, 80','80, 100']]"
   ]
  },
  {
   "cell_type": "code",
   "execution_count": null,
   "id": "a348810e",
   "metadata": {},
   "outputs": [],
   "source": [
    "#X_step4 = data_linear_booleans_lean_P_under[['country_1','country_2','country_3','country_4','country_5','country_6','country_7','country_8','country_9','country_10','country_11']]\n",
    "#y = data_linear_booleans_lean_P_under['payout_under_2.5_pinacle_closing']-"
   ]
  },
  {
   "cell_type": "code",
   "execution_count": 36,
   "id": "f555b026",
   "metadata": {},
   "outputs": [],
   "source": [
    "import statsmodels.api as sm"
   ]
  },
  {
   "cell_type": "code",
   "execution_count": 37,
   "id": "0f60a726",
   "metadata": {},
   "outputs": [],
   "source": [
    "X = data_linear_booleans_lean_P_under[['country_1','country_2','country_3','country_4','country_5','country_6','country_7','country_8','country_9','country_10','country_11','month_after_July', 'year_2021_2022', 'game_starts_after_4pm','Pin_pays_better_under_boolean','Market_consensus','%vig_p_bool','PC<2.5_P_boolean','1.0_to_1.5', '1.5_to_2.0', '2.0_to_3.0','3.0_to_99999.0','0, 20','20, 40','40, 60','60, 80','80, 100']]"
   ]
  },
  {
   "cell_type": "code",
   "execution_count": 61,
   "id": "64176dcf",
   "metadata": {},
   "outputs": [],
   "source": [
    "X1 = data_linear_booleans_lean_P_under[['country_1','country_2','country_3','country_4','country_5','country_6','country_7','country_8','country_9','country_10','country_11','month_after_July', 'year_2021_2022', 'game_starts_after_4pm','Pin_pays_better_under_boolean','Market_consensus','%vig_p_bool','PC<2.5_P_boolean','1.0_to_1.5', '1.5_to_2.0', '2.0_to_3.0','3.0_to_99999.0','0, 20','20, 40','40, 60','60, 80','80, 100']]"
   ]
  },
  {
   "cell_type": "code",
   "execution_count": 62,
   "id": "d79c0d0d",
   "metadata": {},
   "outputs": [],
   "source": [
    "from sklearn.model_selection import train_test_split\n",
    "\n",
    "# Ready X and y\n",
    "X2 = X1\n",
    "y = data_linear_booleans_lean_P_under['payout_under_2.5_pinacle_closing']-1\n",
    "\n",
    "# Split into Train/Test\n",
    "X_train, X_test, y_train, y_test = train_test_split(X2, y, test_size=0.3)"
   ]
  },
  {
   "cell_type": "code",
   "execution_count": 63,
   "id": "44729447",
   "metadata": {},
   "outputs": [],
   "source": [
    "#Linear Regression\n",
    "results_linear_regression = sm.OLS(y_train,X_train.astype(float)).fit()\n",
    "y_pred_lr = results_linear_regression.predict(X_test.astype(float))\n",
    "#results.summary()"
   ]
  },
  {
   "cell_type": "code",
   "execution_count": 64,
   "id": "0406a033",
   "metadata": {},
   "outputs": [],
   "source": [
    "#XGBoost\n",
    "import xgboost as xgb\n",
    "import sklearn\n",
    "m = xgb.XGBRegressor()\n",
    "X_test.rename(columns = {'PC<2.5_P_boolean':'PC_under_2.5_P_boolean'}, inplace = True)\n",
    "X_train.rename(columns = {'PC<2.5_P_boolean':'PC_under_2.5_P_boolean'}, inplace = True)\n",
    "m.fit(X_train,y_train) \n",
    "y_pred_xgb = m.predict(X_test)\n",
    "y_pred_xgb = pd.DataFrame(y_pred_xgb)\n",
    "r2train = sklearn.metrics.r2_score(y_test, y_pred_xgb)"
   ]
  },
  {
   "cell_type": "code",
   "execution_count": 65,
   "id": "67388ffa",
   "metadata": {},
   "outputs": [],
   "source": [
    "#Bins cutoffs\n",
    "def ifnull(var, val):\n",
    "  if var > 0:\n",
    "    return var\n",
    "  return val\n",
    "\n",
    "#Linear Regression\n",
    "y_pred_lr_under_0_median = y_pred_lr[y_pred_lr<0].median()\n",
    "y_pred_lr_under_0_min = y_pred_lr[y_pred_lr<0].min()\n",
    "y_pred_lr_over_0_median = ifnull(y_pred_lr[y_pred_lr>0].median(),0.05)\n",
    "\n",
    "#XGB\n",
    "y_pred_xgb_under_0_median = y_pred_xgb[y_pred_xgb<0].median()\n",
    "y_pred_xgb_under_0_min = y_pred_xgb[y_pred_xgb<0].min()\n",
    "y_pred_xgb_over_0_median = ifnull(y_pred_xgb[0][y_pred_xgb[0]>0].median(),0.05)"
   ]
  },
  {
   "cell_type": "code",
   "execution_count": 66,
   "id": "8b051230",
   "metadata": {},
   "outputs": [],
   "source": [
    "#Linear Regression\n",
    "bins3_lr = [y_pred_lr_under_0_min, y_pred_lr_under_0_median+0.0000001, 0, y_pred_lr_over_0_median, 1]\n",
    "y_lr_df = pd.DataFrame(y_test)\n",
    "y_pred_lr_df = pd.DataFrame(y_pred_lr)\n",
    "y_pred_lr_df[\"binned_pred\"] = pd.cut(y_pred_lr_df[0], bins3_lr)\n",
    "ind = np.arange(0, len(y_pred_lr_df))\n",
    "ind = ind.tolist()\n",
    "y_lr_df['ind'] = ind\n",
    "y_pred_lr_df['ind'] = ind\n",
    "y_final_lr = y_lr_df.merge(y_pred_lr_df, on=\"ind\")#, on = \"axis\")#, how = \"inner\")\n",
    "y_final_lr['bet_opp']=y_final_lr[0]>0"
   ]
  },
  {
   "cell_type": "code",
   "execution_count": 67,
   "id": "c8c35f8c",
   "metadata": {},
   "outputs": [],
   "source": [
    "#XGB\n",
    "bins3_xgb = [y_pred_xgb_under_0_min[0], y_pred_xgb_under_0_median[0]+0.0000001, 0, y_pred_xgb_over_0_median, 1] #int(y_pred_xgb_over_0_median[0])\n",
    "y_xgb_df = pd.DataFrame(y_test)\n",
    "y_pred_xgb_df = pd.DataFrame(y_pred_xgb)\n",
    "y_pred_xgb_df[\"binned_pred\"] = pd.cut(y_pred_xgb_df[0], bins3_xgb)\n",
    "ind = np.arange(0, len(y_pred_xgb_df))\n",
    "ind = ind.tolist()\n",
    "y_xgb_df['ind'] = ind\n",
    "y_pred_xgb_df['ind'] = ind\n",
    "y_final_xgb = y_xgb_df.merge(y_pred_xgb_df, on=\"ind\")#, on = \"axis\")#, how = \"inner\")\n",
    "y_final_xgb['bet_opp']=y_final_xgb[0]>0"
   ]
  },
  {
   "cell_type": "code",
   "execution_count": 68,
   "id": "2bc1e893",
   "metadata": {},
   "outputs": [
    {
     "data": {
      "text/html": [
       "<div>\n",
       "<style scoped>\n",
       "    .dataframe tbody tr th:only-of-type {\n",
       "        vertical-align: middle;\n",
       "    }\n",
       "\n",
       "    .dataframe tbody tr th {\n",
       "        vertical-align: top;\n",
       "    }\n",
       "\n",
       "    .dataframe thead th {\n",
       "        text-align: right;\n",
       "    }\n",
       "</style>\n",
       "<table border=\"1\" class=\"dataframe\">\n",
       "  <thead>\n",
       "    <tr style=\"text-align: right;\">\n",
       "      <th></th>\n",
       "      <th>mean</th>\n",
       "      <th>count</th>\n",
       "    </tr>\n",
       "    <tr>\n",
       "      <th>bet_opp</th>\n",
       "      <th></th>\n",
       "      <th></th>\n",
       "    </tr>\n",
       "  </thead>\n",
       "  <tbody>\n",
       "    <tr>\n",
       "      <th>False</th>\n",
       "      <td>-0.004387</td>\n",
       "      <td>2177</td>\n",
       "    </tr>\n",
       "    <tr>\n",
       "      <th>True</th>\n",
       "      <td>-0.071252</td>\n",
       "      <td>791</td>\n",
       "    </tr>\n",
       "  </tbody>\n",
       "</table>\n",
       "</div>"
      ],
      "text/plain": [
       "             mean  count\n",
       "bet_opp                 \n",
       "False   -0.004387   2177\n",
       "True    -0.071252    791"
      ]
     },
     "execution_count": 68,
     "metadata": {},
     "output_type": "execute_result"
    }
   ],
   "source": [
    "#Linear Regression\n",
    "y_final_lr.groupby('bet_opp')['payout_under_2.5_pinacle_closing'].count()\n",
    "y_final_lr.groupby('bet_opp')['payout_under_2.5_pinacle_closing'].agg([\"mean\", \"count\"])"
   ]
  },
  {
   "cell_type": "code",
   "execution_count": 69,
   "id": "0236fa6c",
   "metadata": {},
   "outputs": [
    {
     "data": {
      "text/html": [
       "<div>\n",
       "<style scoped>\n",
       "    .dataframe tbody tr th:only-of-type {\n",
       "        vertical-align: middle;\n",
       "    }\n",
       "\n",
       "    .dataframe tbody tr th {\n",
       "        vertical-align: top;\n",
       "    }\n",
       "\n",
       "    .dataframe thead th {\n",
       "        text-align: right;\n",
       "    }\n",
       "</style>\n",
       "<table border=\"1\" class=\"dataframe\">\n",
       "  <thead>\n",
       "    <tr style=\"text-align: right;\">\n",
       "      <th></th>\n",
       "      <th>mean</th>\n",
       "      <th>count</th>\n",
       "    </tr>\n",
       "    <tr>\n",
       "      <th>binned_pred</th>\n",
       "      <th></th>\n",
       "      <th></th>\n",
       "    </tr>\n",
       "  </thead>\n",
       "  <tbody>\n",
       "    <tr>\n",
       "      <th>(-0.215, -0.0506]</th>\n",
       "      <td>-0.012822</td>\n",
       "      <td>1088</td>\n",
       "    </tr>\n",
       "    <tr>\n",
       "      <th>(-0.0506, 0.0]</th>\n",
       "      <td>0.004963</td>\n",
       "      <td>1088</td>\n",
       "    </tr>\n",
       "    <tr>\n",
       "      <th>(0.0, 0.0322]</th>\n",
       "      <td>-0.116187</td>\n",
       "      <td>396</td>\n",
       "    </tr>\n",
       "    <tr>\n",
       "      <th>(0.0322, 1.0]</th>\n",
       "      <td>-0.026203</td>\n",
       "      <td>395</td>\n",
       "    </tr>\n",
       "  </tbody>\n",
       "</table>\n",
       "</div>"
      ],
      "text/plain": [
       "                       mean  count\n",
       "binned_pred                       \n",
       "(-0.215, -0.0506] -0.012822   1088\n",
       "(-0.0506, 0.0]     0.004963   1088\n",
       "(0.0, 0.0322]     -0.116187    396\n",
       "(0.0322, 1.0]     -0.026203    395"
      ]
     },
     "execution_count": 69,
     "metadata": {},
     "output_type": "execute_result"
    }
   ],
   "source": [
    "y_final_lr.groupby('binned_pred')['payout_under_2.5_pinacle_closing'].count()\n",
    "y_final_lr.groupby('binned_pred')['payout_under_2.5_pinacle_closing'].agg([\"mean\", \"count\"])"
   ]
  },
  {
   "cell_type": "code",
   "execution_count": 70,
   "id": "fba43798",
   "metadata": {},
   "outputs": [
    {
     "data": {
      "text/html": [
       "<div>\n",
       "<style scoped>\n",
       "    .dataframe tbody tr th:only-of-type {\n",
       "        vertical-align: middle;\n",
       "    }\n",
       "\n",
       "    .dataframe tbody tr th {\n",
       "        vertical-align: top;\n",
       "    }\n",
       "\n",
       "    .dataframe thead th {\n",
       "        text-align: right;\n",
       "    }\n",
       "</style>\n",
       "<table border=\"1\" class=\"dataframe\">\n",
       "  <thead>\n",
       "    <tr style=\"text-align: right;\">\n",
       "      <th></th>\n",
       "      <th>mean</th>\n",
       "      <th>count</th>\n",
       "    </tr>\n",
       "    <tr>\n",
       "      <th>bet_opp</th>\n",
       "      <th></th>\n",
       "      <th></th>\n",
       "    </tr>\n",
       "  </thead>\n",
       "  <tbody>\n",
       "    <tr>\n",
       "      <th>False</th>\n",
       "      <td>0.000995</td>\n",
       "      <td>1628</td>\n",
       "    </tr>\n",
       "    <tr>\n",
       "      <th>True</th>\n",
       "      <td>-0.050396</td>\n",
       "      <td>1340</td>\n",
       "    </tr>\n",
       "  </tbody>\n",
       "</table>\n",
       "</div>"
      ],
      "text/plain": [
       "             mean  count\n",
       "bet_opp                 \n",
       "False    0.000995   1628\n",
       "True    -0.050396   1340"
      ]
     },
     "execution_count": 70,
     "metadata": {},
     "output_type": "execute_result"
    }
   ],
   "source": [
    "#XGB\n",
    "y_final_xgb.groupby('bet_opp')['payout_under_2.5_pinacle_closing'].count()\n",
    "y_final_xgb.groupby('bet_opp')['payout_under_2.5_pinacle_closing'].agg([\"mean\", \"count\"])"
   ]
  },
  {
   "cell_type": "code",
   "execution_count": 71,
   "id": "4d5ec893",
   "metadata": {},
   "outputs": [
    {
     "data": {
      "text/html": [
       "<div>\n",
       "<style scoped>\n",
       "    .dataframe tbody tr th:only-of-type {\n",
       "        vertical-align: middle;\n",
       "    }\n",
       "\n",
       "    .dataframe tbody tr th {\n",
       "        vertical-align: top;\n",
       "    }\n",
       "\n",
       "    .dataframe thead th {\n",
       "        text-align: right;\n",
       "    }\n",
       "</style>\n",
       "<table border=\"1\" class=\"dataframe\">\n",
       "  <thead>\n",
       "    <tr style=\"text-align: right;\">\n",
       "      <th></th>\n",
       "      <th>mean</th>\n",
       "      <th>count</th>\n",
       "    </tr>\n",
       "    <tr>\n",
       "      <th>binned_pred</th>\n",
       "      <th></th>\n",
       "      <th></th>\n",
       "    </tr>\n",
       "  </thead>\n",
       "  <tbody>\n",
       "    <tr>\n",
       "      <th>(-1.733, -0.22]</th>\n",
       "      <td>-0.004569</td>\n",
       "      <td>812</td>\n",
       "    </tr>\n",
       "    <tr>\n",
       "      <th>(-0.22, 0.0]</th>\n",
       "      <td>0.009005</td>\n",
       "      <td>814</td>\n",
       "    </tr>\n",
       "    <tr>\n",
       "      <th>(0.0, 0.206]</th>\n",
       "      <td>-0.071597</td>\n",
       "      <td>670</td>\n",
       "    </tr>\n",
       "    <tr>\n",
       "      <th>(0.206, 1.0]</th>\n",
       "      <td>-0.039824</td>\n",
       "      <td>624</td>\n",
       "    </tr>\n",
       "  </tbody>\n",
       "</table>\n",
       "</div>"
      ],
      "text/plain": [
       "                     mean  count\n",
       "binned_pred                     \n",
       "(-1.733, -0.22] -0.004569    812\n",
       "(-0.22, 0.0]     0.009005    814\n",
       "(0.0, 0.206]    -0.071597    670\n",
       "(0.206, 1.0]    -0.039824    624"
      ]
     },
     "execution_count": 71,
     "metadata": {},
     "output_type": "execute_result"
    }
   ],
   "source": [
    "y_final_xgb.groupby('binned_pred')['payout_under_2.5_pinacle_closing'].count()\n",
    "y_final_xgb.groupby('binned_pred')['payout_under_2.5_pinacle_closing'].agg([\"mean\", \"count\"])"
   ]
  },
  {
   "cell_type": "code",
   "execution_count": null,
   "id": "a8127221",
   "metadata": {},
   "outputs": [],
   "source": []
  },
  {
   "cell_type": "code",
   "execution_count": null,
   "id": "59079efe",
   "metadata": {},
   "outputs": [],
   "source": []
  },
  {
   "cell_type": "code",
   "execution_count": null,
   "id": "caceb291",
   "metadata": {},
   "outputs": [],
   "source": []
  },
  {
   "cell_type": "code",
   "execution_count": null,
   "id": "85a92461",
   "metadata": {},
   "outputs": [],
   "source": []
  },
  {
   "cell_type": "code",
   "execution_count": null,
   "id": "cc431257",
   "metadata": {},
   "outputs": [],
   "source": [
    "pd.merge(y_df, y_pred_df)#, on = \"axis\")#, how = \"inner\")\n",
    "#pd.merge(dataFrame1, dataFrame2)"
   ]
  },
  {
   "cell_type": "code",
   "execution_count": null,
   "id": "c3d07097",
   "metadata": {},
   "outputs": [],
   "source": [
    "y_and_pred_df = y_df.merge(y_pred_df)\n",
    "\n",
    "#y_and_pred_df\n",
    "#y_and_pred = pd.DataFrame(y.append(y_pred, ignore_index = True))"
   ]
  },
  {
   "cell_type": "code",
   "execution_count": null,
   "id": "9acf2521",
   "metadata": {},
   "outputs": [],
   "source": [
    "y_pred"
   ]
  },
  {
   "cell_type": "code",
   "execution_count": null,
   "id": "3d7c50b5",
   "metadata": {},
   "outputs": [],
   "source": [
    "# Random Forest"
   ]
  },
  {
   "cell_type": "code",
   "execution_count": null,
   "id": "318ac051",
   "metadata": {},
   "outputs": [],
   "source": [
    "import numpy as np\n",
    "import pandas as pd\n",
    "from sklearn.model_selection import train_test_split\n",
    "from sklearn.ensemble import RandomForestRegressor\n",
    "my_model = RandomForestRegressor(random_state=0).fit(X_step_joao, y)"
   ]
  },
  {
   "cell_type": "code",
   "execution_count": null,
   "id": "7c92f724",
   "metadata": {},
   "outputs": [],
   "source": [
    "y_pred = my_model.predict(X_step_joao)"
   ]
  },
  {
   "cell_type": "code",
   "execution_count": null,
   "id": "f282ede0",
   "metadata": {},
   "outputs": [],
   "source": [
    "import sklearn\n",
    "import shap"
   ]
  },
  {
   "cell_type": "code",
   "execution_count": null,
   "id": "bf8ec9a1",
   "metadata": {},
   "outputs": [],
   "source": [
    "r2train = sklearn.metrics.r2_score(y, y_pred)"
   ]
  },
  {
   "cell_type": "code",
   "execution_count": null,
   "id": "2b02665f",
   "metadata": {},
   "outputs": [],
   "source": [
    "r2train"
   ]
  },
  {
   "cell_type": "code",
   "execution_count": null,
   "id": "4fd1128b",
   "metadata": {},
   "outputs": [],
   "source": [
    "# SHAP values"
   ]
  },
  {
   "cell_type": "code",
   "execution_count": null,
   "id": "3bb4b403",
   "metadata": {},
   "outputs": [],
   "source": [
    "#import shap  # package used to calculate Shap values\n",
    "\n",
    "# Create object that can calculate shap values\n",
    "explainer = shap.TreeExplainer(my_model)\n",
    "\n",
    "# calculate shap values. This is what we will plot.\n",
    "# Calculate shap_values for all of val_X rather than a single row, to have more data for plot.\n",
    "shap_values = explainer.shap_values(X_step_joao)\n",
    "\n",
    "# Make plot. Index of [1] is explained in text below.\n",
    "shap.summary_plot(shap_values, X_step_joao)\n",
    "\n",
    "#- Vertical location shows what feature it is depicting\n",
    "#- Color shows whether that feature was high or low for that row of the dataset\n",
    "#- Horizontal location shows whether the effect of that value caused a higher or lower prediction."
   ]
  },
  {
   "cell_type": "code",
   "execution_count": null,
   "id": "1cad66ea",
   "metadata": {},
   "outputs": [],
   "source": [
    "## Each dot represents a row of the data. The horizontal location is the actual value from the dataset, and the vertical location shows what having that value did to the prediction.\n",
    "#shap.dependence_plot('%vig_p_bool', shap_values, X_step3, dot_size=10)"
   ]
  },
  {
   "cell_type": "code",
   "execution_count": null,
   "id": "d4a37281",
   "metadata": {},
   "outputs": [],
   "source": [
    "shap.summary_plot(shap_values, X_step_joao, plot_type=\"bar\")"
   ]
  },
  {
   "cell_type": "code",
   "execution_count": null,
   "id": "854b8818",
   "metadata": {},
   "outputs": [],
   "source": [
    "pip install XGBoost"
   ]
  },
  {
   "cell_type": "code",
   "execution_count": null,
   "id": "4bb6e59d",
   "metadata": {},
   "outputs": [],
   "source": [
    "import xgboost as xgb\n",
    "m = xgb.XGBRegressor()\n",
    "X_step3.rename(columns = {'PC<2.5_P_boolean':'PC_under_2.5_P_boolean'}, inplace = True)\n",
    "m.fit(X_step3,y) \n",
    "y_pred = m.predict(X_step3)\n",
    "r2train = sklearn.metrics.r2_score(y, y_pred)"
   ]
  },
  {
   "cell_type": "code",
   "execution_count": null,
   "id": "b902acc0",
   "metadata": {},
   "outputs": [],
   "source": [
    "import XGBoost  # package used to calculate Shap values\n",
    "\n",
    "# Create object that can calculate shap values\n",
    "explainer = shap.TreeExplainer(my_model)\n",
    "\n",
    "# calculate shap values. This is what we will plot.\n",
    "# Calculate shap_values for all of val_X rather than a single row, to have more data for plot.\n",
    "shap_values = explainer.shap_values(X_step3)\n",
    "\n",
    "# Make plot. Index of [1] is explained in text below.\n",
    "shap.summary_plot(shap_values, X_step3)\n",
    "\n",
    "#- Vertical location shows what feature it is depicting\n",
    "#- Color shows whether that feature was high or low for that row of the dataset\n",
    "#- Horizontal location shows whether the effect of that value caused a higher or lower prediction."
   ]
  },
  {
   "cell_type": "code",
   "execution_count": null,
   "id": "dce7a566",
   "metadata": {},
   "outputs": [],
   "source": []
  },
  {
   "cell_type": "code",
   "execution_count": null,
   "id": "1474eff1",
   "metadata": {},
   "outputs": [],
   "source": []
  },
  {
   "cell_type": "code",
   "execution_count": null,
   "id": "845308ac",
   "metadata": {},
   "outputs": [],
   "source": [
    "data_linear_booleans_lean_P_under = data_linear_booleans_lean_P_under[data_linear_booleans_lean_P_under['payout_under_2.5_pinacle'].isnull()==False]"
   ]
  },
  {
   "cell_type": "code",
   "execution_count": null,
   "id": "68c366a3",
   "metadata": {},
   "outputs": [],
   "source": [
    "y"
   ]
  },
  {
   "cell_type": "code",
   "execution_count": null,
   "id": "da586deb",
   "metadata": {},
   "outputs": [],
   "source": [
    "model = LinearRegression()\n",
    "model_fit = model.fit(X, y)"
   ]
  },
  {
   "cell_type": "code",
   "execution_count": null,
   "id": "dbee8572",
   "metadata": {},
   "outputs": [],
   "source": [
    "result = sm.ols(formula='payout_under_2 ~ Pin_pays_better_under_boolean + PC<2.5_P_boolean + 1.0_to_1.5 + 1.5_to_2.0 + 2.0_to_3.0 + 3.0_to_99999.0', data=data_linear_booleans_lean_P_under).fit()\n",
    " \n",
    "    #smf.ols(formula='weight ~ horsepower + cylinders', data=mpg).fit()\n",
    "    \n",
    "# printing the summary table\n",
    "print(result.summary())"
   ]
  },
  {
   "cell_type": "code",
   "execution_count": null,
   "id": "755553b6",
   "metadata": {},
   "outputs": [],
   "source": [
    "model_fit.summary()"
   ]
  },
  {
   "cell_type": "code",
   "execution_count": null,
   "id": "8bbdb2ad",
   "metadata": {},
   "outputs": [],
   "source": [
    "#Features that decrease our chances\n",
    "for x in [2, 1, 0, 13, 4, 12, 11]:\n",
    "    print(f'{X.columns[x]}: {importance[x]}')"
   ]
  },
  {
   "cell_type": "code",
   "execution_count": null,
   "id": "9dafee46",
   "metadata": {},
   "outputs": [],
   "source": [
    "#Features that increase our chances\n",
    "for x in [6, 8, 7, 5, 9, 10, 3]:\n",
    "    print(f'{X.columns[x]}: {importance[x]}')"
   ]
  },
  {
   "cell_type": "code",
   "execution_count": null,
   "id": "712d2193",
   "metadata": {},
   "outputs": [],
   "source": []
  },
  {
   "cell_type": "code",
   "execution_count": null,
   "id": "c8d35609",
   "metadata": {},
   "outputs": [],
   "source": []
  },
  {
   "cell_type": "code",
   "execution_count": null,
   "id": "013a015c",
   "metadata": {},
   "outputs": [],
   "source": []
  },
  {
   "cell_type": "code",
   "execution_count": null,
   "id": "4221e5d9",
   "metadata": {},
   "outputs": [],
   "source": []
  },
  {
   "cell_type": "code",
   "execution_count": null,
   "id": "ef9a59b2",
   "metadata": {},
   "outputs": [],
   "source": []
  }
 ],
 "metadata": {
  "kernelspec": {
   "display_name": "Python 3 (ipykernel)",
   "language": "python",
   "name": "python3"
  },
  "language_info": {
   "codemirror_mode": {
    "name": "ipython",
    "version": 3
   },
   "file_extension": ".py",
   "mimetype": "text/x-python",
   "name": "python",
   "nbconvert_exporter": "python",
   "pygments_lexer": "ipython3",
   "version": "3.8.12"
  },
  "toc": {
   "base_numbering": 1,
   "nav_menu": {},
   "number_sections": true,
   "sideBar": true,
   "skip_h1_title": false,
   "title_cell": "Table of Contents",
   "title_sidebar": "Contents",
   "toc_cell": false,
   "toc_position": {},
   "toc_section_display": true,
   "toc_window_display": true
  },
  "varInspector": {
   "cols": {
    "lenName": 16,
    "lenType": 16,
    "lenVar": 40
   },
   "kernels_config": {
    "python": {
     "delete_cmd_postfix": "",
     "delete_cmd_prefix": "del ",
     "library": "var_list.py",
     "varRefreshCmd": "print(var_dic_list())"
    },
    "r": {
     "delete_cmd_postfix": ") ",
     "delete_cmd_prefix": "rm(",
     "library": "var_list.r",
     "varRefreshCmd": "cat(var_dic_list()) "
    }
   },
   "types_to_exclude": [
    "module",
    "function",
    "builtin_function_or_method",
    "instance",
    "_Feature"
   ],
   "window_display": false
  }
 },
 "nbformat": 4,
 "nbformat_minor": 5
}
