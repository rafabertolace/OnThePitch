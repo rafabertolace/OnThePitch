{
 "cells": [
  {
   "cell_type": "markdown",
   "id": "d1816ff7",
   "metadata": {},
   "source": [
    "## Imports"
   ]
  },
  {
   "cell_type": "code",
   "execution_count": 3,
   "id": "06e1f50a",
   "metadata": {},
   "outputs": [],
   "source": [
    "import pandas as pd\n",
    "from os import listdir\n",
    "from os.path import isfile, join\n",
    "import matplotlib.pyplot as plt  \n",
    "plt.style.use('dark_background')"
   ]
  },
  {
   "cell_type": "markdown",
   "id": "b295e690",
   "metadata": {},
   "source": [
    "## Loading the Dataframe"
   ]
  },
  {
   "cell_type": "code",
   "execution_count": 4,
   "id": "03ce1d26",
   "metadata": {},
   "outputs": [
    {
     "name": "stdout",
     "output_type": "stream",
     "text": [
      "/home/jonathan/code/rafabertolace/OnThePitch\n"
     ]
    }
   ],
   "source": [
    "cd .."
   ]
  },
  {
   "cell_type": "markdown",
   "id": "3fa4f75c",
   "metadata": {},
   "source": [
    "### Merging the Seasons csv files (2019-2020 untill 2021-2022)"
   ]
  },
  {
   "cell_type": "code",
   "execution_count": 5,
   "id": "cd4172d5",
   "metadata": {},
   "outputs": [
    {
     "name": "stdout",
     "output_type": "stream",
     "text": [
      "/home/jonathan/code/rafabertolace/OnThePitch\n"
     ]
    }
   ],
   "source": [
    "cd .."
   ]
  },
  {
   "cell_type": "code",
   "execution_count": 6,
   "id": "f12d8efa",
   "metadata": {},
   "outputs": [
    {
     "name": "stdout",
     "output_type": "stream",
     "text": [
      "['Turkey_2021_2022.csv.csv', 'Turkey_2019_2020.csv.csv', 'Turkey_2020_2021.csv.csv']\n"
     ]
    }
   ],
   "source": [
    "print(listdir('raw_data/Turkey'))"
   ]
  },
  {
   "cell_type": "code",
   "execution_count": 26,
   "id": "39b6d4af",
   "metadata": {},
   "outputs": [
    {
     "ename": "NameError",
     "evalue": "name 'os' is not defined",
     "output_type": "error",
     "traceback": [
      "\u001b[0;31m---------------------------------------------------------------------------\u001b[0m",
      "\u001b[0;31mNameError\u001b[0m                                 Traceback (most recent call last)",
      "Input \u001b[0;32mIn [26]\u001b[0m, in \u001b[0;36m<cell line: 1>\u001b[0;34m()\u001b[0m\n\u001b[0;32m----> 1\u001b[0m \u001b[38;5;28mprint\u001b[39m(\u001b[43mos\u001b[49m\u001b[38;5;241m.\u001b[39mlistdir(\u001b[38;5;124m'\u001b[39m\u001b[38;5;124m./../raw_data/Turkey\u001b[39m\u001b[38;5;124m'\u001b[39m))\n",
      "\u001b[0;31mNameError\u001b[0m: name 'os' is not defined"
     ]
    }
   ],
   "source": [
    "print(os.listdir('./../raw_data/Turkey'))"
   ]
  },
  {
   "cell_type": "code",
   "execution_count": 7,
   "id": "4b1cf88a",
   "metadata": {},
   "outputs": [],
   "source": [
    "files = [file for file in listdir('raw_data/Turkey')]\n",
    "data = pd.DataFrame()\n",
    "\n",
    "\n",
    "for file in files:\n",
    "    df = pd.read_csv('raw_data/Turkey/'+file)\n",
    "    data = pd.concat([data, df])"
   ]
  },
  {
   "cell_type": "code",
   "execution_count": 4,
   "id": "2208c966",
   "metadata": {},
   "outputs": [],
   "source": [
    "files = [file for file in os.listdir('./../raw_data/Turkey')]\n",
    "data = pd.DataFrame()\n",
    "\n",
    "\n",
    "for file in files:\n",
    "    df = pd.read_csv('./../raw_data/Turkey/'+file)\n",
    "    data = pd.concat([data, df])"
   ]
  },
  {
   "cell_type": "code",
   "execution_count": 8,
   "id": "c932f0b1",
   "metadata": {},
   "outputs": [
    {
     "data": {
      "text/html": [
       "<div>\n",
       "<style scoped>\n",
       "    .dataframe tbody tr th:only-of-type {\n",
       "        vertical-align: middle;\n",
       "    }\n",
       "\n",
       "    .dataframe tbody tr th {\n",
       "        vertical-align: top;\n",
       "    }\n",
       "\n",
       "    .dataframe thead th {\n",
       "        text-align: right;\n",
       "    }\n",
       "</style>\n",
       "<table border=\"1\" class=\"dataframe\">\n",
       "  <thead>\n",
       "    <tr style=\"text-align: right;\">\n",
       "      <th></th>\n",
       "      <th>Div</th>\n",
       "      <th>Date</th>\n",
       "      <th>Time</th>\n",
       "      <th>HomeTeam</th>\n",
       "      <th>AwayTeam</th>\n",
       "      <th>FTHG</th>\n",
       "      <th>FTAG</th>\n",
       "      <th>FTR</th>\n",
       "      <th>HTHG</th>\n",
       "      <th>HTAG</th>\n",
       "      <th>...</th>\n",
       "      <th>AvgC&lt;2.5</th>\n",
       "      <th>AHCh</th>\n",
       "      <th>B365CAHH</th>\n",
       "      <th>B365CAHA</th>\n",
       "      <th>PCAHH</th>\n",
       "      <th>PCAHA</th>\n",
       "      <th>MaxCAHH</th>\n",
       "      <th>MaxCAHA</th>\n",
       "      <th>AvgCAHH</th>\n",
       "      <th>AvgCAHA</th>\n",
       "    </tr>\n",
       "  </thead>\n",
       "  <tbody>\n",
       "    <tr>\n",
       "      <th>0</th>\n",
       "      <td>T1</td>\n",
       "      <td>13/08/2021</td>\n",
       "      <td>18:30</td>\n",
       "      <td>Besiktas</td>\n",
       "      <td>Rizespor</td>\n",
       "      <td>3</td>\n",
       "      <td>0</td>\n",
       "      <td>H</td>\n",
       "      <td>1</td>\n",
       "      <td>0</td>\n",
       "      <td>...</td>\n",
       "      <td>2.42</td>\n",
       "      <td>-1.00</td>\n",
       "      <td>1.73</td>\n",
       "      <td>2.08</td>\n",
       "      <td>1.76</td>\n",
       "      <td>2.17</td>\n",
       "      <td>1.88</td>\n",
       "      <td>2.28</td>\n",
       "      <td>1.77</td>\n",
       "      <td>2.09</td>\n",
       "    </tr>\n",
       "    <tr>\n",
       "      <th>1</th>\n",
       "      <td>T1</td>\n",
       "      <td>14/08/2021</td>\n",
       "      <td>17:15</td>\n",
       "      <td>Karagumruk</td>\n",
       "      <td>Gaziantep</td>\n",
       "      <td>3</td>\n",
       "      <td>2</td>\n",
       "      <td>H</td>\n",
       "      <td>2</td>\n",
       "      <td>1</td>\n",
       "      <td>...</td>\n",
       "      <td>1.90</td>\n",
       "      <td>-0.50</td>\n",
       "      <td>1.90</td>\n",
       "      <td>1.95</td>\n",
       "      <td>1.93</td>\n",
       "      <td>1.98</td>\n",
       "      <td>1.98</td>\n",
       "      <td>2.00</td>\n",
       "      <td>1.90</td>\n",
       "      <td>1.94</td>\n",
       "    </tr>\n",
       "    <tr>\n",
       "      <th>2</th>\n",
       "      <td>T1</td>\n",
       "      <td>14/08/2021</td>\n",
       "      <td>19:45</td>\n",
       "      <td>Altay</td>\n",
       "      <td>Kayserispor</td>\n",
       "      <td>3</td>\n",
       "      <td>0</td>\n",
       "      <td>H</td>\n",
       "      <td>2</td>\n",
       "      <td>0</td>\n",
       "      <td>...</td>\n",
       "      <td>1.84</td>\n",
       "      <td>-0.75</td>\n",
       "      <td>1.95</td>\n",
       "      <td>1.90</td>\n",
       "      <td>2.01</td>\n",
       "      <td>1.89</td>\n",
       "      <td>2.06</td>\n",
       "      <td>1.96</td>\n",
       "      <td>1.98</td>\n",
       "      <td>1.86</td>\n",
       "    </tr>\n",
       "    <tr>\n",
       "      <th>3</th>\n",
       "      <td>T1</td>\n",
       "      <td>14/08/2021</td>\n",
       "      <td>19:45</td>\n",
       "      <td>Hatayspor</td>\n",
       "      <td>Kasimpasa</td>\n",
       "      <td>1</td>\n",
       "      <td>1</td>\n",
       "      <td>D</td>\n",
       "      <td>0</td>\n",
       "      <td>1</td>\n",
       "      <td>...</td>\n",
       "      <td>2.26</td>\n",
       "      <td>0.00</td>\n",
       "      <td>1.93</td>\n",
       "      <td>1.93</td>\n",
       "      <td>1.95</td>\n",
       "      <td>1.95</td>\n",
       "      <td>2.00</td>\n",
       "      <td>2.01</td>\n",
       "      <td>1.90</td>\n",
       "      <td>1.94</td>\n",
       "    </tr>\n",
       "    <tr>\n",
       "      <th>4</th>\n",
       "      <td>T1</td>\n",
       "      <td>15/08/2021</td>\n",
       "      <td>17:15</td>\n",
       "      <td>Buyuksehyr</td>\n",
       "      <td>Alanyaspor</td>\n",
       "      <td>0</td>\n",
       "      <td>1</td>\n",
       "      <td>A</td>\n",
       "      <td>0</td>\n",
       "      <td>1</td>\n",
       "      <td>...</td>\n",
       "      <td>1.71</td>\n",
       "      <td>-0.25</td>\n",
       "      <td>1.85</td>\n",
       "      <td>2.00</td>\n",
       "      <td>1.87</td>\n",
       "      <td>2.04</td>\n",
       "      <td>1.89</td>\n",
       "      <td>2.18</td>\n",
       "      <td>1.83</td>\n",
       "      <td>2.02</td>\n",
       "    </tr>\n",
       "  </tbody>\n",
       "</table>\n",
       "<p>5 rows × 105 columns</p>\n",
       "</div>"
      ],
      "text/plain": [
       "  Div        Date   Time    HomeTeam     AwayTeam  FTHG  FTAG FTR  HTHG  HTAG  \\\n",
       "0  T1  13/08/2021  18:30    Besiktas     Rizespor     3     0   H     1     0   \n",
       "1  T1  14/08/2021  17:15  Karagumruk    Gaziantep     3     2   H     2     1   \n",
       "2  T1  14/08/2021  19:45       Altay  Kayserispor     3     0   H     2     0   \n",
       "3  T1  14/08/2021  19:45   Hatayspor    Kasimpasa     1     1   D     0     1   \n",
       "4  T1  15/08/2021  17:15  Buyuksehyr   Alanyaspor     0     1   A     0     1   \n",
       "\n",
       "   ... AvgC<2.5  AHCh  B365CAHH  B365CAHA  PCAHH  PCAHA  MaxCAHH  MaxCAHA  \\\n",
       "0  ...     2.42 -1.00      1.73      2.08   1.76   2.17     1.88     2.28   \n",
       "1  ...     1.90 -0.50      1.90      1.95   1.93   1.98     1.98     2.00   \n",
       "2  ...     1.84 -0.75      1.95      1.90   2.01   1.89     2.06     1.96   \n",
       "3  ...     2.26  0.00      1.93      1.93   1.95   1.95     2.00     2.01   \n",
       "4  ...     1.71 -0.25      1.85      2.00   1.87   2.04     1.89     2.18   \n",
       "\n",
       "   AvgCAHH  AvgCAHA  \n",
       "0     1.77     2.09  \n",
       "1     1.90     1.94  \n",
       "2     1.98     1.86  \n",
       "3     1.90     1.94  \n",
       "4     1.83     2.02  \n",
       "\n",
       "[5 rows x 105 columns]"
      ]
     },
     "execution_count": 8,
     "metadata": {},
     "output_type": "execute_result"
    }
   ],
   "source": [
    "data.head()"
   ]
  },
  {
   "cell_type": "code",
   "execution_count": 66,
   "id": "4bcadd9e",
   "metadata": {},
   "outputs": [
    {
     "data": {
      "text/html": [
       "<div>\n",
       "<style scoped>\n",
       "    .dataframe tbody tr th:only-of-type {\n",
       "        vertical-align: middle;\n",
       "    }\n",
       "\n",
       "    .dataframe tbody tr th {\n",
       "        vertical-align: top;\n",
       "    }\n",
       "\n",
       "    .dataframe thead th {\n",
       "        text-align: right;\n",
       "    }\n",
       "</style>\n",
       "<table border=\"1\" class=\"dataframe\">\n",
       "  <thead>\n",
       "    <tr style=\"text-align: right;\">\n",
       "      <th></th>\n",
       "      <th>FTHG</th>\n",
       "      <th>FTAG</th>\n",
       "      <th>HTHG</th>\n",
       "      <th>HTAG</th>\n",
       "      <th>HS</th>\n",
       "      <th>AS</th>\n",
       "      <th>HST</th>\n",
       "      <th>AST</th>\n",
       "      <th>HF</th>\n",
       "      <th>AF</th>\n",
       "      <th>...</th>\n",
       "      <th>AvgC&lt;2.5</th>\n",
       "      <th>AHCh</th>\n",
       "      <th>B365CAHH</th>\n",
       "      <th>B365CAHA</th>\n",
       "      <th>PCAHH</th>\n",
       "      <th>PCAHA</th>\n",
       "      <th>MaxCAHH</th>\n",
       "      <th>MaxCAHA</th>\n",
       "      <th>AvgCAHH</th>\n",
       "      <th>AvgCAHA</th>\n",
       "    </tr>\n",
       "  </thead>\n",
       "  <tbody>\n",
       "    <tr>\n",
       "      <th>count</th>\n",
       "      <td>1106.000000</td>\n",
       "      <td>1106.000000</td>\n",
       "      <td>1106.000000</td>\n",
       "      <td>1106.000000</td>\n",
       "      <td>1106.000000</td>\n",
       "      <td>1106.000000</td>\n",
       "      <td>1106.000000</td>\n",
       "      <td>1106.000000</td>\n",
       "      <td>1106.000000</td>\n",
       "      <td>1106.000000</td>\n",
       "      <td>...</td>\n",
       "      <td>1106.000000</td>\n",
       "      <td>1106.000000</td>\n",
       "      <td>1104.000000</td>\n",
       "      <td>1104.000000</td>\n",
       "      <td>1105.000000</td>\n",
       "      <td>1105.000000</td>\n",
       "      <td>1106.000000</td>\n",
       "      <td>1106.000000</td>\n",
       "      <td>1106.000000</td>\n",
       "      <td>1106.000000</td>\n",
       "    </tr>\n",
       "    <tr>\n",
       "      <th>mean</th>\n",
       "      <td>1.565099</td>\n",
       "      <td>1.217902</td>\n",
       "      <td>0.681736</td>\n",
       "      <td>0.529837</td>\n",
       "      <td>13.339964</td>\n",
       "      <td>11.205244</td>\n",
       "      <td>4.845389</td>\n",
       "      <td>4.038879</td>\n",
       "      <td>13.214286</td>\n",
       "      <td>12.721519</td>\n",
       "      <td>...</td>\n",
       "      <td>2.037505</td>\n",
       "      <td>-0.277803</td>\n",
       "      <td>1.918143</td>\n",
       "      <td>1.931341</td>\n",
       "      <td>1.946805</td>\n",
       "      <td>1.958063</td>\n",
       "      <td>2.004277</td>\n",
       "      <td>2.013770</td>\n",
       "      <td>1.920217</td>\n",
       "      <td>1.927396</td>\n",
       "    </tr>\n",
       "    <tr>\n",
       "      <th>std</th>\n",
       "      <td>1.291046</td>\n",
       "      <td>1.124183</td>\n",
       "      <td>0.842304</td>\n",
       "      <td>0.755981</td>\n",
       "      <td>5.012218</td>\n",
       "      <td>4.535672</td>\n",
       "      <td>2.435886</td>\n",
       "      <td>2.268679</td>\n",
       "      <td>3.811653</td>\n",
       "      <td>3.683917</td>\n",
       "      <td>...</td>\n",
       "      <td>0.307608</td>\n",
       "      <td>0.596906</td>\n",
       "      <td>0.102314</td>\n",
       "      <td>0.098094</td>\n",
       "      <td>0.105322</td>\n",
       "      <td>0.103540</td>\n",
       "      <td>0.107243</td>\n",
       "      <td>0.106237</td>\n",
       "      <td>0.095903</td>\n",
       "      <td>0.091699</td>\n",
       "    </tr>\n",
       "    <tr>\n",
       "      <th>min</th>\n",
       "      <td>0.000000</td>\n",
       "      <td>0.000000</td>\n",
       "      <td>0.000000</td>\n",
       "      <td>0.000000</td>\n",
       "      <td>1.000000</td>\n",
       "      <td>0.000000</td>\n",
       "      <td>0.000000</td>\n",
       "      <td>0.000000</td>\n",
       "      <td>3.000000</td>\n",
       "      <td>2.000000</td>\n",
       "      <td>...</td>\n",
       "      <td>1.440000</td>\n",
       "      <td>-2.750000</td>\n",
       "      <td>1.600000</td>\n",
       "      <td>1.380000</td>\n",
       "      <td>1.630000</td>\n",
       "      <td>1.400000</td>\n",
       "      <td>1.800000</td>\n",
       "      <td>1.440000</td>\n",
       "      <td>1.660000</td>\n",
       "      <td>1.390000</td>\n",
       "    </tr>\n",
       "    <tr>\n",
       "      <th>25%</th>\n",
       "      <td>1.000000</td>\n",
       "      <td>0.000000</td>\n",
       "      <td>0.000000</td>\n",
       "      <td>0.000000</td>\n",
       "      <td>10.000000</td>\n",
       "      <td>8.000000</td>\n",
       "      <td>3.000000</td>\n",
       "      <td>2.000000</td>\n",
       "      <td>11.000000</td>\n",
       "      <td>10.000000</td>\n",
       "      <td>...</td>\n",
       "      <td>1.830000</td>\n",
       "      <td>-0.750000</td>\n",
       "      <td>1.850000</td>\n",
       "      <td>1.850000</td>\n",
       "      <td>1.870000</td>\n",
       "      <td>1.880000</td>\n",
       "      <td>1.930000</td>\n",
       "      <td>1.930000</td>\n",
       "      <td>1.850000</td>\n",
       "      <td>1.860000</td>\n",
       "    </tr>\n",
       "    <tr>\n",
       "      <th>50%</th>\n",
       "      <td>1.000000</td>\n",
       "      <td>1.000000</td>\n",
       "      <td>0.000000</td>\n",
       "      <td>0.000000</td>\n",
       "      <td>13.000000</td>\n",
       "      <td>11.000000</td>\n",
       "      <td>5.000000</td>\n",
       "      <td>4.000000</td>\n",
       "      <td>13.000000</td>\n",
       "      <td>12.500000</td>\n",
       "      <td>...</td>\n",
       "      <td>2.000000</td>\n",
       "      <td>-0.250000</td>\n",
       "      <td>1.930000</td>\n",
       "      <td>1.930000</td>\n",
       "      <td>1.940000</td>\n",
       "      <td>1.960000</td>\n",
       "      <td>2.000000</td>\n",
       "      <td>2.010000</td>\n",
       "      <td>1.910000</td>\n",
       "      <td>1.930000</td>\n",
       "    </tr>\n",
       "    <tr>\n",
       "      <th>75%</th>\n",
       "      <td>2.000000</td>\n",
       "      <td>2.000000</td>\n",
       "      <td>1.000000</td>\n",
       "      <td>1.000000</td>\n",
       "      <td>16.000000</td>\n",
       "      <td>14.000000</td>\n",
       "      <td>6.000000</td>\n",
       "      <td>5.000000</td>\n",
       "      <td>16.000000</td>\n",
       "      <td>15.000000</td>\n",
       "      <td>...</td>\n",
       "      <td>2.180000</td>\n",
       "      <td>0.000000</td>\n",
       "      <td>2.000000</td>\n",
       "      <td>2.000000</td>\n",
       "      <td>2.020000</td>\n",
       "      <td>2.030000</td>\n",
       "      <td>2.070000</td>\n",
       "      <td>2.090000</td>\n",
       "      <td>1.990000</td>\n",
       "      <td>2.000000</td>\n",
       "    </tr>\n",
       "    <tr>\n",
       "      <th>max</th>\n",
       "      <td>7.000000</td>\n",
       "      <td>7.000000</td>\n",
       "      <td>5.000000</td>\n",
       "      <td>5.000000</td>\n",
       "      <td>40.000000</td>\n",
       "      <td>33.000000</td>\n",
       "      <td>15.000000</td>\n",
       "      <td>14.000000</td>\n",
       "      <td>27.000000</td>\n",
       "      <td>28.000000</td>\n",
       "      <td>...</td>\n",
       "      <td>4.640000</td>\n",
       "      <td>2.000000</td>\n",
       "      <td>3.000000</td>\n",
       "      <td>2.300000</td>\n",
       "      <td>3.120000</td>\n",
       "      <td>2.410000</td>\n",
       "      <td>3.650000</td>\n",
       "      <td>2.430000</td>\n",
       "      <td>3.080000</td>\n",
       "      <td>2.280000</td>\n",
       "    </tr>\n",
       "  </tbody>\n",
       "</table>\n",
       "<p>8 rows × 98 columns</p>\n",
       "</div>"
      ],
      "text/plain": [
       "              FTHG         FTAG         HTHG         HTAG           HS  \\\n",
       "count  1106.000000  1106.000000  1106.000000  1106.000000  1106.000000   \n",
       "mean      1.565099     1.217902     0.681736     0.529837    13.339964   \n",
       "std       1.291046     1.124183     0.842304     0.755981     5.012218   \n",
       "min       0.000000     0.000000     0.000000     0.000000     1.000000   \n",
       "25%       1.000000     0.000000     0.000000     0.000000    10.000000   \n",
       "50%       1.000000     1.000000     0.000000     0.000000    13.000000   \n",
       "75%       2.000000     2.000000     1.000000     1.000000    16.000000   \n",
       "max       7.000000     7.000000     5.000000     5.000000    40.000000   \n",
       "\n",
       "                AS          HST          AST           HF           AF  ...  \\\n",
       "count  1106.000000  1106.000000  1106.000000  1106.000000  1106.000000  ...   \n",
       "mean     11.205244     4.845389     4.038879    13.214286    12.721519  ...   \n",
       "std       4.535672     2.435886     2.268679     3.811653     3.683917  ...   \n",
       "min       0.000000     0.000000     0.000000     3.000000     2.000000  ...   \n",
       "25%       8.000000     3.000000     2.000000    11.000000    10.000000  ...   \n",
       "50%      11.000000     5.000000     4.000000    13.000000    12.500000  ...   \n",
       "75%      14.000000     6.000000     5.000000    16.000000    15.000000  ...   \n",
       "max      33.000000    15.000000    14.000000    27.000000    28.000000  ...   \n",
       "\n",
       "          AvgC<2.5         AHCh     B365CAHH     B365CAHA        PCAHH  \\\n",
       "count  1106.000000  1106.000000  1104.000000  1104.000000  1105.000000   \n",
       "mean      2.037505    -0.277803     1.918143     1.931341     1.946805   \n",
       "std       0.307608     0.596906     0.102314     0.098094     0.105322   \n",
       "min       1.440000    -2.750000     1.600000     1.380000     1.630000   \n",
       "25%       1.830000    -0.750000     1.850000     1.850000     1.870000   \n",
       "50%       2.000000    -0.250000     1.930000     1.930000     1.940000   \n",
       "75%       2.180000     0.000000     2.000000     2.000000     2.020000   \n",
       "max       4.640000     2.000000     3.000000     2.300000     3.120000   \n",
       "\n",
       "             PCAHA      MaxCAHH      MaxCAHA      AvgCAHH      AvgCAHA  \n",
       "count  1105.000000  1106.000000  1106.000000  1106.000000  1106.000000  \n",
       "mean      1.958063     2.004277     2.013770     1.920217     1.927396  \n",
       "std       0.103540     0.107243     0.106237     0.095903     0.091699  \n",
       "min       1.400000     1.800000     1.440000     1.660000     1.390000  \n",
       "25%       1.880000     1.930000     1.930000     1.850000     1.860000  \n",
       "50%       1.960000     2.000000     2.010000     1.910000     1.930000  \n",
       "75%       2.030000     2.070000     2.090000     1.990000     2.000000  \n",
       "max       2.410000     3.650000     2.430000     3.080000     2.280000  \n",
       "\n",
       "[8 rows x 98 columns]"
      ]
     },
     "execution_count": 66,
     "metadata": {},
     "output_type": "execute_result"
    }
   ],
   "source": [
    "data.describe()"
   ]
  },
  {
   "cell_type": "code",
   "execution_count": 67,
   "id": "395606e5",
   "metadata": {},
   "outputs": [],
   "source": [
    "nulls = data['B365<2.5'].isnull()"
   ]
  },
  {
   "cell_type": "code",
   "execution_count": 69,
   "id": "d51df229",
   "metadata": {},
   "outputs": [
    {
     "data": {
      "text/plain": [
       "3"
      ]
     },
     "execution_count": 69,
     "metadata": {},
     "output_type": "execute_result"
    }
   ],
   "source": [
    "nulls.sum()"
   ]
  },
  {
   "cell_type": "code",
   "execution_count": 31,
   "id": "fe07720d",
   "metadata": {},
   "outputs": [
    {
     "name": "stdout",
     "output_type": "stream",
     "text": [
      "Div\n",
      "Date\n",
      "Time\n",
      "HomeTeam\n",
      "AwayTeam\n",
      "FTHG\n",
      "FTAG\n",
      "FTR\n",
      "HTHG\n",
      "HTAG\n",
      "HTR\n",
      "HS\n",
      "AS\n",
      "HST\n",
      "AST\n",
      "HF\n",
      "AF\n",
      "HC\n",
      "AC\n",
      "HY\n",
      "AY\n",
      "HR\n",
      "AR\n",
      "B365H\n",
      "B365D\n",
      "B365A\n",
      "BWH\n",
      "BWD\n",
      "BWA\n",
      "IWH\n",
      "IWD\n",
      "IWA\n",
      "PSH\n",
      "PSD\n",
      "PSA\n",
      "WHH\n",
      "WHD\n",
      "WHA\n",
      "VCH\n",
      "VCD\n",
      "VCA\n",
      "MaxH\n",
      "MaxD\n",
      "MaxA\n",
      "AvgH\n",
      "AvgD\n",
      "AvgA\n",
      "B365>2.5\n",
      "B365<2.5\n",
      "P>2.5\n",
      "P<2.5\n",
      "Max>2.5\n",
      "Max<2.5\n",
      "Avg>2.5\n",
      "Avg<2.5\n",
      "AHh\n",
      "B365AHH\n",
      "B365AHA\n",
      "PAHH\n",
      "PAHA\n",
      "MaxAHH\n",
      "MaxAHA\n",
      "AvgAHH\n",
      "AvgAHA\n",
      "B365CH\n",
      "B365CD\n",
      "B365CA\n",
      "BWCH\n",
      "BWCD\n",
      "BWCA\n",
      "IWCH\n",
      "IWCD\n",
      "IWCA\n",
      "PSCH\n",
      "PSCD\n",
      "PSCA\n",
      "WHCH\n",
      "WHCD\n",
      "WHCA\n",
      "VCCH\n",
      "VCCD\n",
      "VCCA\n",
      "MaxCH\n",
      "MaxCD\n",
      "MaxCA\n",
      "AvgCH\n",
      "AvgCD\n",
      "AvgCA\n",
      "B365C>2.5\n",
      "B365C<2.5\n",
      "PC>2.5\n",
      "PC<2.5\n",
      "MaxC>2.5\n",
      "MaxC<2.5\n",
      "AvgC>2.5\n",
      "AvgC<2.5\n",
      "AHCh\n",
      "B365CAHH\n",
      "B365CAHA\n",
      "PCAHH\n",
      "PCAHA\n",
      "MaxCAHH\n",
      "MaxCAHA\n",
      "AvgCAHH\n",
      "AvgCAHA\n",
      "Bb1X2\n",
      "BbMxH\n",
      "BbAvH\n",
      "BbMxD\n",
      "BbAvD\n",
      "BbMxA\n",
      "BbAvA\n",
      "BbOU\n",
      "BbMx>2.5\n",
      "BbAv>2.5\n",
      "BbMx<2.5\n",
      "BbAv<2.5\n",
      "BbAH\n",
      "BbAHh\n",
      "BbMxAHH\n",
      "BbAvAHH\n",
      "BbMxAHA\n",
      "BbAvAHA\n"
     ]
    }
   ],
   "source": [
    "for col_name in data.columns: \n",
    "    print(col_name)"
   ]
  },
  {
   "cell_type": "code",
   "execution_count": 6,
   "id": "8c5821c7",
   "metadata": {
    "collapsed": true
   },
   "outputs": [
    {
     "ename": "NameError",
     "evalue": "name 'data_date' is not defined",
     "output_type": "error",
     "traceback": [
      "\u001b[0;31m---------------------------------------------------------------------------\u001b[0m",
      "\u001b[0;31mNameError\u001b[0m                                 Traceback (most recent call last)",
      "Input \u001b[0;32mIn [6]\u001b[0m, in \u001b[0;36m<cell line: 1>\u001b[0;34m()\u001b[0m\n\u001b[0;32m----> 1\u001b[0m data_date_2 \u001b[38;5;241m=\u001b[39m pd\u001b[38;5;241m.\u001b[39mto_datetime(\u001b[43mdata_date\u001b[49m, dayfirst \u001b[38;5;241m=\u001b[39m \u001b[38;5;28;01mTrue\u001b[39;00m)\n",
      "\u001b[0;31mNameError\u001b[0m: name 'data_date' is not defined"
     ]
    }
   ],
   "source": [
    "# data_date_2 = pd.to_datetime(data_date, dayfirst = True)"
   ]
  },
  {
   "cell_type": "markdown",
   "id": "32c8ad8d",
   "metadata": {},
   "source": [
    "## Features Engineering"
   ]
  },
  {
   "cell_type": "markdown",
   "id": "c84939f7",
   "metadata": {},
   "source": [
    "### Number of Goals, Over and Under"
   ]
  },
  {
   "cell_type": "code",
   "execution_count": 9,
   "id": "fed74758",
   "metadata": {},
   "outputs": [],
   "source": [
    "# total number of goals = goals from the home team + goals from visiting team\n",
    "data['nb_goals']=data['FTHG']+data['FTAG']\n",
    "\n",
    "# boolean: true or false regarding whether they were more than 2.5 goals\n",
    "data['over_2.5_goals']=data['nb_goals']>2.5\n",
    "\n",
    "# boolean: true or false regarding whether they were less than 2.5 goals\n",
    "data['under_2.5_goals']=data['nb_goals']<2.5"
   ]
  },
  {
   "cell_type": "markdown",
   "id": "3ffc1554",
   "metadata": {},
   "source": [
    "### Payout Average"
   ]
  },
  {
   "cell_type": "markdown",
   "id": "466f6de3",
   "metadata": {},
   "source": [
    "  Payout of betting on over/under 2.5 goals: we get 0 if we lose the bet, we get the Avg if we win the bet (Avg = market average of the odds)\n"
   ]
  },
  {
   "cell_type": "code",
   "execution_count": 10,
   "id": "4b10653e",
   "metadata": {},
   "outputs": [],
   "source": [
    "# payout under 2.5 for Average OPENING odds\n",
    "data['payout_avg_under_2.5'] = data['under_2.5_goals']*data['Avg<2.5']\n",
    "\n",
    "# payout over 2.5 for Average OPENING odds\n",
    "data['payout_avg_over_2.5'] = data['over_2.5_goals']*data['Avg>2.5']\n",
    "\n",
    "# payout under 2.5 for Average CLOSING odds\n",
    "data['payout_avg_under_closing_2.5'] = data['under_2.5_goals']*data['AvgC<2.5']\n",
    "\n",
    "# payout over 2.5 for Average CLOSING odds\n",
    "data['payout_avg_over_closing_2.5'] = data['over_2.5_goals']*data['AvgC>2.5']"
   ]
  },
  {
   "cell_type": "markdown",
   "id": "e7499f75",
   "metadata": {},
   "source": [
    "#### Payout Pinnacle"
   ]
  },
  {
   "cell_type": "code",
   "execution_count": 11,
   "id": "7ebcc6f1",
   "metadata": {},
   "outputs": [],
   "source": [
    "#payout UNDER 2.5 for PINACLE specifically\n",
    "data['payout_under_2.5_pinacle'] = data['under_2.5_goals']*data['P<2.5']\n",
    "\n",
    "#payout UNDER 2.5 for PINACLE closing ddds specifically\n",
    "data['payout_under_2.5_pinacle_closing'] = data['under_2.5_goals']*data['PC<2.5']\n",
    "\n",
    "#payout OVER 2.5 for PINACLE specifically\n",
    "data['payout_over_2.5_pinacle'] = data['over_2.5_goals']*data['P>2.5']\n",
    "\n",
    "#payout OVER 2.5 for PINACLE closing odds specifically\n",
    "data['payout_over_2.5_pinacle_closing'] = data['over_2.5_goals']*data['PC>2.5']"
   ]
  },
  {
   "cell_type": "markdown",
   "id": "87aef2eb",
   "metadata": {},
   "source": [
    "#### Payout bet365"
   ]
  },
  {
   "cell_type": "code",
   "execution_count": 12,
   "id": "2fe3c17b",
   "metadata": {},
   "outputs": [],
   "source": [
    "#payout UNDER 2.5 for 365 specifically\n",
    "data['payout_under_2.5_365'] = data['under_2.5_goals']*data['B365<2.5']\n",
    "\n",
    "#payout UNDER 2.5 for 365 closing odds specifically\n",
    "data['payout_under_2.5_365_closing'] = data['under_2.5_goals']*data['B365C<2.5']\n",
    "\n",
    "#payout OVER 2.5 for 365 specifically\n",
    "data['payout_over_2.5_365'] = data['over_2.5_goals']*data['B365>2.5']\n",
    "\n",
    "#payout OVER 2.5 for 365 closing odds specifically\n",
    "data['payout_over_2.5_365_closing'] = data['over_2.5_goals']*data['B365C>2.5']"
   ]
  },
  {
   "cell_type": "markdown",
   "id": "9ad9c30c",
   "metadata": {},
   "source": [
    "### Implied Probability Market Average"
   ]
  },
  {
   "cell_type": "code",
   "execution_count": 13,
   "id": "4cdcecbb",
   "metadata": {},
   "outputs": [],
   "source": [
    "#Implied Probability UNDER 2.5 goals for for overall market opening odds (Avg) \n",
    "data['Implied Probability <2.5 avg']=1/data['Avg<2.5']*100\n",
    "\n",
    "#Implied Probability OVER 2.5 goals for for overall market opening odds (Avg) \n",
    "data['Implied Probability >2.5 avg']=1/data['Avg>2.5']*100\n",
    "\n",
    "#Implied Probability UNDER 2.5 goals for overall market closing odds (AvgC)\n",
    "data['Implied Probability <2.5 avg closing']=1/data['AvgC<2.5']*100\n",
    "\n",
    "#Implied Probability OVER 2.5 goals for overall market closing odds (AvgC)\n",
    "data['Implied Probability >2.5 avg closing']=1/data['AvgC>2.5']*100"
   ]
  },
  {
   "cell_type": "markdown",
   "id": "d3cd6ba0",
   "metadata": {},
   "source": [
    "### Implied Probability Pinnacle"
   ]
  },
  {
   "cell_type": "code",
   "execution_count": 15,
   "id": "ecdfbb9d",
   "metadata": {},
   "outputs": [],
   "source": [
    "#Implied Probability UNDER 2.5 goals for PINACLE\n",
    "data['Implied Probability <2.5 pinacle']=1/data['P<2.5']*100\n",
    "\n",
    "#Implied Probability OVER 2.5 goals for PINACLE\n",
    "data['Implied Probability >2.5 pinacle']=1/data['P>2.5']*100\n",
    "\n",
    "#Implied Probability UNDER 2.5 goals for PINACLE closing odds\n",
    "data['Implied Probability <2.5 pinacle closing']=1/data['PC<2.5']*100\n",
    "\n",
    "#Implied Probability OVER 2.5 goals for PINACLE closing odds\n",
    "data['Implied Probability >2.5 pinacle closing']=1/data['PC>2.5']*100"
   ]
  },
  {
   "cell_type": "markdown",
   "id": "8dc6d342",
   "metadata": {},
   "source": [
    "### Implied Probability bet365"
   ]
  },
  {
   "cell_type": "code",
   "execution_count": 16,
   "id": "eab84c20",
   "metadata": {},
   "outputs": [],
   "source": [
    "#Implied Probability UNDER 2.5 goals for 365\n",
    "data['Implied Probability <2.5 365']=1/data['B365<2.5']*100\n",
    "\n",
    "#Implied Probability UNDER 2.5 goals for 365 closing odds\n",
    "data['Implied Probability <2.5 365 closing']=1/data['B365C<2.5']*100\n",
    "\n",
    "#Implied Probability OVER 2.5 goals for 365\n",
    "data['Implied Probability >2.5 365']=1/data['B365>2.5']*100\n",
    "\n",
    "#Implied Probability OVER 2.5 goals for 365 closing odds\n",
    "data['Implied Probability >2.5 365 closing']=1/data['B365C>2.5']*100"
   ]
  },
  {
   "cell_type": "markdown",
   "id": "56fa1da6",
   "metadata": {},
   "source": [
    "### Binning the implied probabilities"
   ]
  },
  {
   "cell_type": "code",
   "execution_count": 17,
   "id": "8e1c90a8",
   "metadata": {},
   "outputs": [],
   "source": [
    "bins = [0, 5, 10, 15, 20, 25, 30, 35, 40, 45, 50, 55, 60, 65, 70, 75, 80, 85, 90, 95, 100]\n",
    "\n",
    "#Binning UNDER 2.5 Average Market opening odds\n",
    "data['binned <2.5 avg'] = pd.cut(data['Implied Probability <2.5 avg'], bins)\n",
    "\n",
    "#Binning Over 2.5 Average Market opening odds\n",
    "data['binned >2.5 avg'] = pd.cut(data['Implied Probability >2.5 avg'], bins)\n",
    "\n",
    "#Binning UNDER 2.5 Average Market closing odds\n",
    "data['binned <2.5 avg closing'] = pd.cut(data['Implied Probability <2.5 avg closing'], bins)\n",
    "\n",
    "#Binning OVER 2.5 Average Market closing odds\n",
    "data['binned >2.5 avg closing'] = pd.cut(data['Implied Probability >2.5 avg closing'], bins)"
   ]
  },
  {
   "cell_type": "markdown",
   "id": "ec7d023e",
   "metadata": {},
   "source": [
    "### Binning Pinnacle"
   ]
  },
  {
   "cell_type": "code",
   "execution_count": 18,
   "id": "726978c9",
   "metadata": {},
   "outputs": [],
   "source": [
    "bins = [0, 5, 10, 15, 20, 25, 30, 35, 40, 45, 50, 55, 60, 65, 70, 75, 80, 85, 90, 95, 100]\n",
    "\n",
    "#Binned UNDER 2.5 Pinnacle opening odds\n",
    "data['binned <2.5 pinacle'] = pd.cut(data['Implied Probability <2.5 pinacle'], bins)\n",
    "\n",
    "#Binned UNDER 2.5 Pinnacle closing odds\n",
    "data['binned <2.5 pinacle closing'] = pd.cut(data['Implied Probability <2.5 pinacle closing'], bins)\n",
    "\n",
    "#Binned OVER 2.5 Pinnacle\n",
    "data['binned >2.5 pinacle'] = pd.cut(data['Implied Probability >2.5 pinacle'], bins)\n",
    "\n",
    "#Binned OVER 2.5 Pinnacle CLOSING odds\n",
    "data['binned >2.5 pinacle closing'] = pd.cut(data['Implied Probability >2.5 pinacle closing'], bins)"
   ]
  },
  {
   "cell_type": "code",
   "execution_count": 19,
   "id": "1cdcfa1c",
   "metadata": {},
   "outputs": [],
   "source": [
    "#bins of 10\n",
    "\n",
    "bins = [0, 10, 20, 30, 40, 50, 60, 70, 80, 90, 100]\n",
    "\n",
    "#Binned UNDER 2.5 Pinnacle opening odds\n",
    "data['binned <2.5 pinacle'] = pd.cut(data['Implied Probability <2.5 pinacle'], bins)\n",
    "\n",
    "#Binned UNDER 2.5 Pinnacle closing odds\n",
    "data['binned <2.5 pinacle closing'] = pd.cut(data['Implied Probability <2.5 pinacle closing'], bins)\n",
    "\n",
    "#Binned OVER 2.5 Pinnacle\n",
    "data['binned >2.5 pinacle'] = pd.cut(data['Implied Probability >2.5 pinacle'], bins)\n",
    "\n",
    "#Binned OVER 2.5 Pinnacle CLOSING odds\n",
    "data['binned >2.5 pinacle closing'] = pd.cut(data['Implied Probability >2.5 pinacle closing'], bins)"
   ]
  },
  {
   "cell_type": "markdown",
   "id": "2029ae39",
   "metadata": {},
   "source": [
    "### Binning bet365"
   ]
  },
  {
   "cell_type": "code",
   "execution_count": 20,
   "id": "4a73f0c4",
   "metadata": {},
   "outputs": [],
   "source": [
    "bins = [0, 5, 10, 15, 20, 25, 30, 35, 40, 45, 50, 55, 60, 65, 70, 75, 80, 85, 90, 95, 100]\n",
    "\n",
    "#Binned UNDER 2.5 bet365 OPENING odds\n",
    "data['binned <2.5 365'] = pd.cut(data['Implied Probability <2.5 365'], bins)\n",
    "\n",
    "#Binned UNDER 2.5 bet365 CLOSING odds\n",
    "data['binned <2.5 365 closing'] = pd.cut(data['Implied Probability <2.5 365 closing'], bins)\n",
    "\n",
    "#Binned OVER 2.5 bet365 OPENING odds\n",
    "data['binned >2.5 365'] = pd.cut(data['Implied Probability >2.5 365'], bins)\n",
    "\n",
    "#Binned OVER 2.5 bet365 CLOSING odds\n",
    "data['binned >2.5 365 closing'] = pd.cut(data['Implied Probability >2.5 365 closing'], bins)"
   ]
  },
  {
   "cell_type": "code",
   "execution_count": 21,
   "id": "c8c0a485",
   "metadata": {},
   "outputs": [
    {
     "data": {
      "text/html": [
       "<div>\n",
       "<style scoped>\n",
       "    .dataframe tbody tr th:only-of-type {\n",
       "        vertical-align: middle;\n",
       "    }\n",
       "\n",
       "    .dataframe tbody tr th {\n",
       "        vertical-align: top;\n",
       "    }\n",
       "\n",
       "    .dataframe thead th {\n",
       "        text-align: right;\n",
       "    }\n",
       "</style>\n",
       "<table border=\"1\" class=\"dataframe\">\n",
       "  <thead>\n",
       "    <tr style=\"text-align: right;\">\n",
       "      <th></th>\n",
       "      <th>Div</th>\n",
       "      <th>Date</th>\n",
       "      <th>Time</th>\n",
       "      <th>HomeTeam</th>\n",
       "      <th>AwayTeam</th>\n",
       "      <th>FTHG</th>\n",
       "      <th>FTAG</th>\n",
       "      <th>FTR</th>\n",
       "      <th>HTHG</th>\n",
       "      <th>HTAG</th>\n",
       "      <th>...</th>\n",
       "      <th>binned &lt;2.5 avg closing</th>\n",
       "      <th>binned &gt;2.5 avg closing</th>\n",
       "      <th>binned &lt;2.5 pinacle</th>\n",
       "      <th>binned &lt;2.5 pinacle closing</th>\n",
       "      <th>binned &gt;2.5 pinacle</th>\n",
       "      <th>binned &gt;2.5 pinacle closing</th>\n",
       "      <th>binned &lt;2.5 365</th>\n",
       "      <th>binned &lt;2.5 365 closing</th>\n",
       "      <th>binned &gt;2.5 365</th>\n",
       "      <th>binned &gt;2.5 365 closing</th>\n",
       "    </tr>\n",
       "  </thead>\n",
       "  <tbody>\n",
       "    <tr>\n",
       "      <th>0</th>\n",
       "      <td>T1</td>\n",
       "      <td>13/08/2021</td>\n",
       "      <td>18:30</td>\n",
       "      <td>Besiktas</td>\n",
       "      <td>Rizespor</td>\n",
       "      <td>3</td>\n",
       "      <td>0</td>\n",
       "      <td>H</td>\n",
       "      <td>1</td>\n",
       "      <td>0</td>\n",
       "      <td>...</td>\n",
       "      <td>(40, 45]</td>\n",
       "      <td>(60, 65]</td>\n",
       "      <td>(30, 40]</td>\n",
       "      <td>(30, 40]</td>\n",
       "      <td>(60, 70]</td>\n",
       "      <td>(60, 70]</td>\n",
       "      <td>(40, 45]</td>\n",
       "      <td>(40, 45]</td>\n",
       "      <td>(65, 70]</td>\n",
       "      <td>(65, 70]</td>\n",
       "    </tr>\n",
       "    <tr>\n",
       "      <th>1</th>\n",
       "      <td>T1</td>\n",
       "      <td>14/08/2021</td>\n",
       "      <td>17:15</td>\n",
       "      <td>Karagumruk</td>\n",
       "      <td>Gaziantep</td>\n",
       "      <td>3</td>\n",
       "      <td>2</td>\n",
       "      <td>H</td>\n",
       "      <td>2</td>\n",
       "      <td>1</td>\n",
       "      <td>...</td>\n",
       "      <td>(50, 55]</td>\n",
       "      <td>(50, 55]</td>\n",
       "      <td>(50, 60]</td>\n",
       "      <td>(50, 60]</td>\n",
       "      <td>(50, 60]</td>\n",
       "      <td>(50, 60]</td>\n",
       "      <td>(45, 50]</td>\n",
       "      <td>(50, 55]</td>\n",
       "      <td>(55, 60]</td>\n",
       "      <td>(50, 55]</td>\n",
       "    </tr>\n",
       "    <tr>\n",
       "      <th>2</th>\n",
       "      <td>T1</td>\n",
       "      <td>14/08/2021</td>\n",
       "      <td>19:45</td>\n",
       "      <td>Altay</td>\n",
       "      <td>Kayserispor</td>\n",
       "      <td>3</td>\n",
       "      <td>0</td>\n",
       "      <td>H</td>\n",
       "      <td>2</td>\n",
       "      <td>0</td>\n",
       "      <td>...</td>\n",
       "      <td>(50, 55]</td>\n",
       "      <td>(50, 55]</td>\n",
       "      <td>(50, 60]</td>\n",
       "      <td>(50, 60]</td>\n",
       "      <td>(40, 50]</td>\n",
       "      <td>(50, 60]</td>\n",
       "      <td>(50, 55]</td>\n",
       "      <td>(50, 55]</td>\n",
       "      <td>(50, 55]</td>\n",
       "      <td>(50, 55]</td>\n",
       "    </tr>\n",
       "    <tr>\n",
       "      <th>3</th>\n",
       "      <td>T1</td>\n",
       "      <td>14/08/2021</td>\n",
       "      <td>19:45</td>\n",
       "      <td>Hatayspor</td>\n",
       "      <td>Kasimpasa</td>\n",
       "      <td>1</td>\n",
       "      <td>1</td>\n",
       "      <td>D</td>\n",
       "      <td>0</td>\n",
       "      <td>1</td>\n",
       "      <td>...</td>\n",
       "      <td>(40, 45]</td>\n",
       "      <td>(60, 65]</td>\n",
       "      <td>(40, 50]</td>\n",
       "      <td>(40, 50]</td>\n",
       "      <td>(50, 60]</td>\n",
       "      <td>(50, 60]</td>\n",
       "      <td>(45, 50]</td>\n",
       "      <td>(40, 45]</td>\n",
       "      <td>(55, 60]</td>\n",
       "      <td>(60, 65]</td>\n",
       "    </tr>\n",
       "    <tr>\n",
       "      <th>4</th>\n",
       "      <td>T1</td>\n",
       "      <td>15/08/2021</td>\n",
       "      <td>17:15</td>\n",
       "      <td>Buyuksehyr</td>\n",
       "      <td>Alanyaspor</td>\n",
       "      <td>0</td>\n",
       "      <td>1</td>\n",
       "      <td>A</td>\n",
       "      <td>0</td>\n",
       "      <td>1</td>\n",
       "      <td>...</td>\n",
       "      <td>(55, 60]</td>\n",
       "      <td>(45, 50]</td>\n",
       "      <td>(50, 60]</td>\n",
       "      <td>(50, 60]</td>\n",
       "      <td>(40, 50]</td>\n",
       "      <td>(40, 50]</td>\n",
       "      <td>(55, 60]</td>\n",
       "      <td>(55, 60]</td>\n",
       "      <td>(45, 50]</td>\n",
       "      <td>(45, 50]</td>\n",
       "    </tr>\n",
       "    <tr>\n",
       "      <th>...</th>\n",
       "      <td>...</td>\n",
       "      <td>...</td>\n",
       "      <td>...</td>\n",
       "      <td>...</td>\n",
       "      <td>...</td>\n",
       "      <td>...</td>\n",
       "      <td>...</td>\n",
       "      <td>...</td>\n",
       "      <td>...</td>\n",
       "      <td>...</td>\n",
       "      <td>...</td>\n",
       "      <td>...</td>\n",
       "      <td>...</td>\n",
       "      <td>...</td>\n",
       "      <td>...</td>\n",
       "      <td>...</td>\n",
       "      <td>...</td>\n",
       "      <td>...</td>\n",
       "      <td>...</td>\n",
       "      <td>...</td>\n",
       "      <td>...</td>\n",
       "    </tr>\n",
       "    <tr>\n",
       "      <th>415</th>\n",
       "      <td>T1</td>\n",
       "      <td>15/05/2021</td>\n",
       "      <td>16:00</td>\n",
       "      <td>Sivasspor</td>\n",
       "      <td>Kasimpasa</td>\n",
       "      <td>2</td>\n",
       "      <td>1</td>\n",
       "      <td>H</td>\n",
       "      <td>1</td>\n",
       "      <td>0</td>\n",
       "      <td>...</td>\n",
       "      <td>(45, 50]</td>\n",
       "      <td>(55, 60]</td>\n",
       "      <td>(40, 50]</td>\n",
       "      <td>(40, 50]</td>\n",
       "      <td>(50, 60]</td>\n",
       "      <td>(50, 60]</td>\n",
       "      <td>(45, 50]</td>\n",
       "      <td>(45, 50]</td>\n",
       "      <td>(55, 60]</td>\n",
       "      <td>(55, 60]</td>\n",
       "    </tr>\n",
       "    <tr>\n",
       "      <th>416</th>\n",
       "      <td>T1</td>\n",
       "      <td>15/05/2021</td>\n",
       "      <td>18:30</td>\n",
       "      <td>Galatasaray</td>\n",
       "      <td>Yeni Malatyaspor</td>\n",
       "      <td>3</td>\n",
       "      <td>1</td>\n",
       "      <td>H</td>\n",
       "      <td>0</td>\n",
       "      <td>1</td>\n",
       "      <td>...</td>\n",
       "      <td>(20, 25]</td>\n",
       "      <td>(80, 85]</td>\n",
       "      <td>(20, 30]</td>\n",
       "      <td>(20, 30]</td>\n",
       "      <td>(80, 90]</td>\n",
       "      <td>(80, 90]</td>\n",
       "      <td>(20, 25]</td>\n",
       "      <td>(20, 25]</td>\n",
       "      <td>(80, 85]</td>\n",
       "      <td>(80, 85]</td>\n",
       "    </tr>\n",
       "    <tr>\n",
       "      <th>417</th>\n",
       "      <td>T1</td>\n",
       "      <td>15/05/2021</td>\n",
       "      <td>18:30</td>\n",
       "      <td>Goztep</td>\n",
       "      <td>Besiktas</td>\n",
       "      <td>1</td>\n",
       "      <td>2</td>\n",
       "      <td>A</td>\n",
       "      <td>1</td>\n",
       "      <td>1</td>\n",
       "      <td>...</td>\n",
       "      <td>(25, 30]</td>\n",
       "      <td>(75, 80]</td>\n",
       "      <td>(20, 30]</td>\n",
       "      <td>(20, 30]</td>\n",
       "      <td>(70, 80]</td>\n",
       "      <td>(70, 80]</td>\n",
       "      <td>(25, 30]</td>\n",
       "      <td>(25, 30]</td>\n",
       "      <td>(75, 80]</td>\n",
       "      <td>(75, 80]</td>\n",
       "    </tr>\n",
       "    <tr>\n",
       "      <th>418</th>\n",
       "      <td>T1</td>\n",
       "      <td>15/05/2021</td>\n",
       "      <td>18:30</td>\n",
       "      <td>Kayserispor</td>\n",
       "      <td>Fenerbahce</td>\n",
       "      <td>1</td>\n",
       "      <td>2</td>\n",
       "      <td>A</td>\n",
       "      <td>1</td>\n",
       "      <td>0</td>\n",
       "      <td>...</td>\n",
       "      <td>(40, 45]</td>\n",
       "      <td>(60, 65]</td>\n",
       "      <td>(40, 50]</td>\n",
       "      <td>(40, 50]</td>\n",
       "      <td>(60, 70]</td>\n",
       "      <td>(60, 70]</td>\n",
       "      <td>(40, 45]</td>\n",
       "      <td>(40, 45]</td>\n",
       "      <td>(60, 65]</td>\n",
       "      <td>(60, 65]</td>\n",
       "    </tr>\n",
       "    <tr>\n",
       "      <th>419</th>\n",
       "      <td>T1</td>\n",
       "      <td>15/05/2021</td>\n",
       "      <td>18:30</td>\n",
       "      <td>Trabzonspor</td>\n",
       "      <td>Genclerbirligi</td>\n",
       "      <td>2</td>\n",
       "      <td>1</td>\n",
       "      <td>H</td>\n",
       "      <td>1</td>\n",
       "      <td>0</td>\n",
       "      <td>...</td>\n",
       "      <td>(35, 40]</td>\n",
       "      <td>(65, 70]</td>\n",
       "      <td>(40, 50]</td>\n",
       "      <td>(30, 40]</td>\n",
       "      <td>(60, 70]</td>\n",
       "      <td>(60, 70]</td>\n",
       "      <td>(35, 40]</td>\n",
       "      <td>(35, 40]</td>\n",
       "      <td>(65, 70]</td>\n",
       "      <td>(65, 70]</td>\n",
       "    </tr>\n",
       "  </tbody>\n",
       "</table>\n",
       "<p>1106 rows × 144 columns</p>\n",
       "</div>"
      ],
      "text/plain": [
       "    Div        Date   Time     HomeTeam          AwayTeam  FTHG  FTAG FTR  \\\n",
       "0    T1  13/08/2021  18:30     Besiktas          Rizespor     3     0   H   \n",
       "1    T1  14/08/2021  17:15   Karagumruk         Gaziantep     3     2   H   \n",
       "2    T1  14/08/2021  19:45        Altay       Kayserispor     3     0   H   \n",
       "3    T1  14/08/2021  19:45    Hatayspor         Kasimpasa     1     1   D   \n",
       "4    T1  15/08/2021  17:15   Buyuksehyr        Alanyaspor     0     1   A   \n",
       "..   ..         ...    ...          ...               ...   ...   ...  ..   \n",
       "415  T1  15/05/2021  16:00    Sivasspor         Kasimpasa     2     1   H   \n",
       "416  T1  15/05/2021  18:30  Galatasaray  Yeni Malatyaspor     3     1   H   \n",
       "417  T1  15/05/2021  18:30       Goztep          Besiktas     1     2   A   \n",
       "418  T1  15/05/2021  18:30  Kayserispor        Fenerbahce     1     2   A   \n",
       "419  T1  15/05/2021  18:30  Trabzonspor    Genclerbirligi     2     1   H   \n",
       "\n",
       "     HTHG  HTAG  ... binned <2.5 avg closing  binned >2.5 avg closing  \\\n",
       "0       1     0  ...                (40, 45]                 (60, 65]   \n",
       "1       2     1  ...                (50, 55]                 (50, 55]   \n",
       "2       2     0  ...                (50, 55]                 (50, 55]   \n",
       "3       0     1  ...                (40, 45]                 (60, 65]   \n",
       "4       0     1  ...                (55, 60]                 (45, 50]   \n",
       "..    ...   ...  ...                     ...                      ...   \n",
       "415     1     0  ...                (45, 50]                 (55, 60]   \n",
       "416     0     1  ...                (20, 25]                 (80, 85]   \n",
       "417     1     1  ...                (25, 30]                 (75, 80]   \n",
       "418     1     0  ...                (40, 45]                 (60, 65]   \n",
       "419     1     0  ...                (35, 40]                 (65, 70]   \n",
       "\n",
       "     binned <2.5 pinacle  binned <2.5 pinacle closing  binned >2.5 pinacle  \\\n",
       "0               (30, 40]                     (30, 40]             (60, 70]   \n",
       "1               (50, 60]                     (50, 60]             (50, 60]   \n",
       "2               (50, 60]                     (50, 60]             (40, 50]   \n",
       "3               (40, 50]                     (40, 50]             (50, 60]   \n",
       "4               (50, 60]                     (50, 60]             (40, 50]   \n",
       "..                   ...                          ...                  ...   \n",
       "415             (40, 50]                     (40, 50]             (50, 60]   \n",
       "416             (20, 30]                     (20, 30]             (80, 90]   \n",
       "417             (20, 30]                     (20, 30]             (70, 80]   \n",
       "418             (40, 50]                     (40, 50]             (60, 70]   \n",
       "419             (40, 50]                     (30, 40]             (60, 70]   \n",
       "\n",
       "     binned >2.5 pinacle closing  binned <2.5 365  binned <2.5 365 closing  \\\n",
       "0                       (60, 70]         (40, 45]                 (40, 45]   \n",
       "1                       (50, 60]         (45, 50]                 (50, 55]   \n",
       "2                       (50, 60]         (50, 55]                 (50, 55]   \n",
       "3                       (50, 60]         (45, 50]                 (40, 45]   \n",
       "4                       (40, 50]         (55, 60]                 (55, 60]   \n",
       "..                           ...              ...                      ...   \n",
       "415                     (50, 60]         (45, 50]                 (45, 50]   \n",
       "416                     (80, 90]         (20, 25]                 (20, 25]   \n",
       "417                     (70, 80]         (25, 30]                 (25, 30]   \n",
       "418                     (60, 70]         (40, 45]                 (40, 45]   \n",
       "419                     (60, 70]         (35, 40]                 (35, 40]   \n",
       "\n",
       "     binned >2.5 365  binned >2.5 365 closing  \n",
       "0           (65, 70]                 (65, 70]  \n",
       "1           (55, 60]                 (50, 55]  \n",
       "2           (50, 55]                 (50, 55]  \n",
       "3           (55, 60]                 (60, 65]  \n",
       "4           (45, 50]                 (45, 50]  \n",
       "..               ...                      ...  \n",
       "415         (55, 60]                 (55, 60]  \n",
       "416         (80, 85]                 (80, 85]  \n",
       "417         (75, 80]                 (75, 80]  \n",
       "418         (60, 65]                 (60, 65]  \n",
       "419         (65, 70]                 (65, 70]  \n",
       "\n",
       "[1106 rows x 144 columns]"
      ]
     },
     "execution_count": 21,
     "metadata": {},
     "output_type": "execute_result"
    }
   ],
   "source": [
    "data"
   ]
  },
  {
   "cell_type": "markdown",
   "id": "e45ec430",
   "metadata": {},
   "source": [
    "## Final Dataset"
   ]
  },
  {
   "cell_type": "markdown",
   "id": "c06f280c",
   "metadata": {},
   "source": [
    "### Average Market (AvG)"
   ]
  },
  {
   "cell_type": "code",
   "execution_count": 80,
   "id": "8075c1a9",
   "metadata": {},
   "outputs": [],
   "source": [
    "#Average Market UNDER opening odds\n",
    "fdf_under_avg = data[['Implied Probability <2.5 avg','under_2.5_goals','binned <2.5 avg','payout_avg_under_2.5']]\n",
    "\n",
    "#Average Market OVER opening odds\n",
    "fdf_over_avg = data[['Implied Probability >2.5 avg','over_2.5_goals','binned >2.5 avg','payout_avg_over_2.5']]\n",
    "\n",
    "#Average Market UNDER closing odds\n",
    "fdf_under_avg_closing = data[['Implied Probability <2.5 avg closing','under_2.5_goals','binned <2.5 avg closing','payout_avg_under_closing_2.5']]\n",
    "\n",
    "#Average Market OVER opening odds\n",
    "fdf_over_avg_closing = data[['Implied Probability >2.5 avg closing','over_2.5_goals','binned >2.5 avg closing','payout_avg_over_closing_2.5']]"
   ]
  },
  {
   "cell_type": "markdown",
   "id": "efd3a216",
   "metadata": {},
   "source": [
    "### Pinnacle"
   ]
  },
  {
   "cell_type": "code",
   "execution_count": 81,
   "id": "114d0e78",
   "metadata": {},
   "outputs": [],
   "source": [
    "#pinnacle UNDER opening odds\n",
    "fdf_under_pinacle = data[['Implied Probability <2.5 pinacle','under_2.5_goals','binned <2.5 pinacle','payout_under_2.5_pinacle']]\n",
    "\n",
    "#pinnacle OVER opening odds\n",
    "fdf_over_pinacle = data[['Implied Probability >2.5 pinacle','over_2.5_goals','binned >2.5 pinacle','payout_over_2.5_pinacle']]\n",
    "\n",
    "#pinnacle UNDER closing odds\n",
    "fdf_under_pinacle_closing = data[['Implied Probability <2.5 pinacle closing','under_2.5_goals','binned <2.5 pinacle closing','payout_under_2.5_pinacle_closing']]\n",
    "\n",
    "#pinnacle OVER closing odds\n",
    "fdf_over_pinacle_closing = data[['Implied Probability >2.5 pinacle closing','over_2.5_goals','binned >2.5 pinacle closing','payout_over_2.5_pinacle_closing']]"
   ]
  },
  {
   "cell_type": "markdown",
   "id": "6ea5b9f4",
   "metadata": {},
   "source": [
    "### bet365"
   ]
  },
  {
   "cell_type": "code",
   "execution_count": 82,
   "id": "d6a444fd",
   "metadata": {},
   "outputs": [],
   "source": [
    "#bet365 UNDER opening odds\n",
    "fdf_under_365 = data[['Implied Probability <2.5 365','under_2.5_goals','binned <2.5 365','payout_under_2.5_365']]\n",
    "\n",
    "#bet365 OVER opening odds\n",
    "fdf_over_365 = data[['Implied Probability >2.5 365','over_2.5_goals','binned >2.5 365','payout_over_2.5_365']]\n",
    "\n",
    "#bet365 UNDER closing odds\n",
    "fdf_under_365_closing = data[['Implied Probability <2.5 365 closing','under_2.5_goals','binned <2.5 365 closing','payout_under_2.5_365_closing']]\n",
    "\n",
    "#bet365 OVER closing odds\n",
    "fdf_over_365_closing = data[['Implied Probability >2.5 365 closing','over_2.5_goals','binned >2.5 365 closing','payout_over_2.5_365_closing']]"
   ]
  },
  {
   "cell_type": "markdown",
   "id": "f86ea04f",
   "metadata": {},
   "source": [
    "## Results per implied prob Average Market"
   ]
  },
  {
   "cell_type": "markdown",
   "id": "66684c60",
   "metadata": {},
   "source": [
    "### Under"
   ]
  },
  {
   "cell_type": "markdown",
   "id": "167a9db6",
   "metadata": {},
   "source": [
    "#### Avg opening odds"
   ]
  },
  {
   "cell_type": "code",
   "execution_count": 302,
   "id": "b8d712a0",
   "metadata": {
    "collapsed": true
   },
   "outputs": [
    {
     "data": {
      "text/plain": [
       "binned <2.5 avg\n",
       "(0, 5]         0\n",
       "(5, 10]        0\n",
       "(10, 15]       0\n",
       "(15, 20]       0\n",
       "(20, 25]       1\n",
       "(25, 30]       1\n",
       "(30, 35]      10\n",
       "(35, 40]      36\n",
       "(40, 45]     156\n",
       "(45, 50]     349\n",
       "(50, 55]     327\n",
       "(55, 60]     193\n",
       "(60, 65]      31\n",
       "(65, 70]       2\n",
       "(70, 75]       0\n",
       "(75, 80]       0\n",
       "(80, 85]       0\n",
       "(85, 90]       0\n",
       "(90, 95]       0\n",
       "(95, 100]      0\n",
       "Name: payout_avg_under_2.5, dtype: int64"
      ]
     },
     "execution_count": 302,
     "metadata": {},
     "output_type": "execute_result"
    }
   ],
   "source": [
    "fdf_under_avg_gb_count = fdf_under_avg.groupby('binned <2.5 avg')['payout_avg_under_2.5'].count()\n",
    "fdf_under_avg_gb_count"
   ]
  },
  {
   "cell_type": "code",
   "execution_count": 301,
   "id": "368751a7",
   "metadata": {
    "collapsed": true
   },
   "outputs": [
    {
     "data": {
      "text/plain": [
       "binned <2.5 avg\n",
       "(0, 5]            NaN\n",
       "(5, 10]           NaN\n",
       "(10, 15]          NaN\n",
       "(15, 20]          NaN\n",
       "(20, 25]     0.000000\n",
       "(25, 30]     0.000000\n",
       "(30, 35]     0.295000\n",
       "(35, 40]     0.782500\n",
       "(40, 45]     0.756154\n",
       "(45, 50]     1.049083\n",
       "(50, 55]     0.997492\n",
       "(55, 60]     0.889223\n",
       "(60, 65]     0.835161\n",
       "(65, 70]     0.760000\n",
       "(70, 75]          NaN\n",
       "(75, 80]          NaN\n",
       "(80, 85]          NaN\n",
       "(85, 90]          NaN\n",
       "(90, 95]          NaN\n",
       "(95, 100]         NaN\n",
       "Name: payout_avg_under_2.5, dtype: float64"
      ]
     },
     "execution_count": 301,
     "metadata": {},
     "output_type": "execute_result"
    }
   ],
   "source": [
    "fdf_under_avg_gb_mean = fdf_under_avg.groupby('binned <2.5 avg')['payout_avg_under_2.5'].mean()\n",
    "fdf_under_avg_gb_mean"
   ]
  },
  {
   "cell_type": "markdown",
   "id": "da439352",
   "metadata": {},
   "source": [
    "#### Avg closing odds"
   ]
  },
  {
   "cell_type": "code",
   "execution_count": 304,
   "id": "b5c7d35d",
   "metadata": {
    "collapsed": true
   },
   "outputs": [
    {
     "data": {
      "text/plain": [
       "binned <2.5 avg closing\n",
       "(0, 5]         0\n",
       "(5, 10]        0\n",
       "(10, 15]       0\n",
       "(15, 20]       0\n",
       "(20, 25]       1\n",
       "(25, 30]       3\n",
       "(30, 35]      14\n",
       "(35, 40]      56\n",
       "(40, 45]     167\n",
       "(45, 50]     315\n",
       "(50, 55]     304\n",
       "(55, 60]     176\n",
       "(60, 65]      62\n",
       "(65, 70]       8\n",
       "(70, 75]       0\n",
       "(75, 80]       0\n",
       "(80, 85]       0\n",
       "(85, 90]       0\n",
       "(90, 95]       0\n",
       "(95, 100]      0\n",
       "Name: payout_avg_under_closing_2.5, dtype: int64"
      ]
     },
     "execution_count": 304,
     "metadata": {},
     "output_type": "execute_result"
    }
   ],
   "source": [
    "fdf_under_avg_closing_gb_count = fdf_under_avg_closing.groupby('binned <2.5 avg closing')['payout_avg_under_closing_2.5'].count()\n",
    "fdf_under_avg_closing_gb_count"
   ]
  },
  {
   "cell_type": "code",
   "execution_count": 305,
   "id": "130a9d40",
   "metadata": {
    "collapsed": true
   },
   "outputs": [
    {
     "data": {
      "text/plain": [
       "binned <2.5 avg closing\n",
       "(0, 5]            NaN\n",
       "(5, 10]           NaN\n",
       "(10, 15]          NaN\n",
       "(15, 20]          NaN\n",
       "(20, 25]     0.000000\n",
       "(25, 30]     0.000000\n",
       "(30, 35]     0.233571\n",
       "(35, 40]     0.996964\n",
       "(40, 45]     0.760898\n",
       "(45, 50]     1.059079\n",
       "(50, 55]     0.987401\n",
       "(55, 60]     0.919659\n",
       "(60, 65]     0.861129\n",
       "(65, 70]     0.742500\n",
       "(70, 75]          NaN\n",
       "(75, 80]          NaN\n",
       "(80, 85]          NaN\n",
       "(85, 90]          NaN\n",
       "(90, 95]          NaN\n",
       "(95, 100]         NaN\n",
       "Name: payout_avg_under_closing_2.5, dtype: float64"
      ]
     },
     "execution_count": 305,
     "metadata": {},
     "output_type": "execute_result"
    }
   ],
   "source": [
    "fdf_under_avg_closing_gb_mean = fdf_under_avg_closing.groupby('binned <2.5 avg closing')['payout_avg_under_closing_2.5'].mean()\n",
    "fdf_under_avg_closing_gb_mean"
   ]
  },
  {
   "cell_type": "markdown",
   "id": "d5b57f08",
   "metadata": {},
   "source": [
    "### Over"
   ]
  },
  {
   "cell_type": "markdown",
   "id": "893845a5",
   "metadata": {},
   "source": [
    "#### Opening Odds"
   ]
  },
  {
   "cell_type": "code",
   "execution_count": 309,
   "id": "b6fa9a98",
   "metadata": {
    "collapsed": true
   },
   "outputs": [
    {
     "data": {
      "text/plain": [
       "binned >2.5 avg\n",
       "(0, 5]         0\n",
       "(5, 10]        0\n",
       "(10, 15]       0\n",
       "(15, 20]       0\n",
       "(20, 25]       0\n",
       "(25, 30]       0\n",
       "(30, 35]       0\n",
       "(35, 40]       2\n",
       "(40, 45]      23\n",
       "(45, 50]     185\n",
       "(50, 55]     322\n",
       "(55, 60]     332\n",
       "(60, 65]     184\n",
       "(65, 70]      43\n",
       "(70, 75]      10\n",
       "(75, 80]       4\n",
       "(80, 85]       0\n",
       "(85, 90]       1\n",
       "(90, 95]       0\n",
       "(95, 100]      0\n",
       "Name: payout_avg_over_2.5, dtype: int64"
      ]
     },
     "execution_count": 309,
     "metadata": {},
     "output_type": "execute_result"
    }
   ],
   "source": [
    "fdf_over_avg_gb_count = fdf_over_avg.groupby('binned >2.5 avg')['payout_avg_over_2.5'].count()\n",
    "fdf_over_avg_gb_count"
   ]
  },
  {
   "cell_type": "code",
   "execution_count": 308,
   "id": "1f0a3a6a",
   "metadata": {
    "collapsed": true
   },
   "outputs": [
    {
     "data": {
      "text/plain": [
       "binned >2.5 avg\n",
       "(0, 5]            NaN\n",
       "(5, 10]           NaN\n",
       "(10, 15]          NaN\n",
       "(15, 20]          NaN\n",
       "(20, 25]          NaN\n",
       "(25, 30]          NaN\n",
       "(30, 35]          NaN\n",
       "(35, 40]     1.310000\n",
       "(40, 45]     1.104348\n",
       "(45, 50]     1.016757\n",
       "(50, 55]     0.905590\n",
       "(55, 60]     0.878283\n",
       "(60, 65]     1.010272\n",
       "(65, 70]     0.974651\n",
       "(70, 75]     1.243000\n",
       "(75, 80]     1.317500\n",
       "(80, 85]          NaN\n",
       "(85, 90]     1.170000\n",
       "(90, 95]          NaN\n",
       "(95, 100]         NaN\n",
       "Name: payout_avg_over_2.5, dtype: float64"
      ]
     },
     "execution_count": 308,
     "metadata": {},
     "output_type": "execute_result"
    }
   ],
   "source": [
    "fdf_over_avg_gb_mean = fdf_over_avg.groupby('binned >2.5 avg')['payout_avg_over_2.5'].mean()\n",
    "fdf_over_avg_gb_mean"
   ]
  },
  {
   "cell_type": "markdown",
   "id": "387c70f7",
   "metadata": {},
   "source": [
    "#### Closing Odds"
   ]
  },
  {
   "cell_type": "code",
   "execution_count": 313,
   "id": "0548fcc8",
   "metadata": {
    "collapsed": true
   },
   "outputs": [
    {
     "data": {
      "text/plain": [
       "binned >2.5 avg closing\n",
       "(0, 5]         0\n",
       "(5, 10]        0\n",
       "(10, 15]       0\n",
       "(15, 20]       0\n",
       "(20, 25]       0\n",
       "(25, 30]       0\n",
       "(30, 35]       0\n",
       "(35, 40]       5\n",
       "(40, 45]      46\n",
       "(45, 50]     191\n",
       "(50, 55]     297\n",
       "(55, 60]     296\n",
       "(60, 65]     186\n",
       "(65, 70]      62\n",
       "(70, 75]      14\n",
       "(75, 80]       7\n",
       "(80, 85]       2\n",
       "(85, 90]       0\n",
       "(90, 95]       0\n",
       "(95, 100]      0\n",
       "Name: payout_avg_over_closing_2.5, dtype: int64"
      ]
     },
     "execution_count": 313,
     "metadata": {},
     "output_type": "execute_result"
    }
   ],
   "source": [
    "fdf_over_avg_closing_gb_count = fdf_over_avg_closing.groupby('binned >2.5 avg closing')['payout_avg_over_closing_2.5'].count()\n",
    "fdf_over_avg_closing_gb_count"
   ]
  },
  {
   "cell_type": "code",
   "execution_count": 312,
   "id": "02c06fa6",
   "metadata": {
    "collapsed": true
   },
   "outputs": [
    {
     "data": {
      "text/plain": [
       "binned >2.5 avg closing\n",
       "(0, 5]            NaN\n",
       "(5, 10]           NaN\n",
       "(10, 15]          NaN\n",
       "(15, 20]          NaN\n",
       "(20, 25]          NaN\n",
       "(25, 30]          NaN\n",
       "(30, 35]          NaN\n",
       "(35, 40]     0.502000\n",
       "(40, 45]     1.256739\n",
       "(45, 50]     0.976545\n",
       "(50, 55]     0.917239\n",
       "(55, 60]     0.862230\n",
       "(60, 65]     0.979140\n",
       "(65, 70]     1.056129\n",
       "(70, 75]     0.982143\n",
       "(75, 80]     1.120000\n",
       "(80, 85]     1.215000\n",
       "(85, 90]          NaN\n",
       "(90, 95]          NaN\n",
       "(95, 100]         NaN\n",
       "Name: payout_avg_over_closing_2.5, dtype: float64"
      ]
     },
     "execution_count": 312,
     "metadata": {},
     "output_type": "execute_result"
    }
   ],
   "source": [
    "fdf_over_avg_closing_gb_mean = fdf_over_avg_closing.groupby('binned >2.5 avg closing')['payout_avg_over_closing_2.5'].mean()\n",
    "fdf_over_avg_closing_gb_mean"
   ]
  },
  {
   "cell_type": "markdown",
   "id": "641bdc48",
   "metadata": {},
   "source": [
    "## Results per implied prob Pinnacle"
   ]
  },
  {
   "cell_type": "markdown",
   "id": "2fb2d999",
   "metadata": {},
   "source": [
    "### Under"
   ]
  },
  {
   "cell_type": "markdown",
   "id": "429bee77",
   "metadata": {},
   "source": [
    "#### Pinnacle opening odds"
   ]
  },
  {
   "cell_type": "code",
   "execution_count": 296,
   "id": "51983fc1",
   "metadata": {},
   "outputs": [
    {
     "data": {
      "text/plain": [
       "binned <2.5 pinacle\n",
       "(0, 5]         0\n",
       "(5, 10]        0\n",
       "(10, 15]       0\n",
       "(15, 20]       0\n",
       "(20, 25]       1\n",
       "(25, 30]       3\n",
       "(30, 35]      12\n",
       "(35, 40]      49\n",
       "(40, 45]     192\n",
       "(45, 50]     398\n",
       "(50, 55]     276\n",
       "(55, 60]     146\n",
       "(60, 65]      23\n",
       "(65, 70]       2\n",
       "(70, 75]       0\n",
       "(75, 80]       0\n",
       "(80, 85]       0\n",
       "(85, 90]       0\n",
       "(90, 95]       0\n",
       "(95, 100]      0\n",
       "Name: payout_under_2.5_pinacle, dtype: int64"
      ]
     },
     "execution_count": 296,
     "metadata": {},
     "output_type": "execute_result"
    }
   ],
   "source": [
    "fdf_under_pinacle_gb_count = fdf_under_pinacle.groupby('binned <2.5 pinacle')['payout_under_2.5_pinacle'].count()\n",
    "fdf_under_pinacle_gb_count"
   ]
  },
  {
   "cell_type": "code",
   "execution_count": 298,
   "id": "28c5917a",
   "metadata": {
    "collapsed": true
   },
   "outputs": [
    {
     "data": {
      "text/plain": [
       "binned <2.5 pinacle\n",
       "(0, 5]            NaN\n",
       "(5, 10]           NaN\n",
       "(10, 15]          NaN\n",
       "(15, 20]          NaN\n",
       "(20, 25]     0.000000\n",
       "(25, 30]     0.000000\n",
       "(30, 35]     0.260000\n",
       "(35, 40]     0.956939\n",
       "(40, 45]     0.835833\n",
       "(45, 50]     1.044196\n",
       "(50, 55]     1.001304\n",
       "(55, 60]     0.910068\n",
       "(60, 65]     0.847826\n",
       "(65, 70]     0.765000\n",
       "(70, 75]          NaN\n",
       "(75, 80]          NaN\n",
       "(80, 85]          NaN\n",
       "(85, 90]          NaN\n",
       "(90, 95]          NaN\n",
       "(95, 100]         NaN\n",
       "Name: payout_under_2.5_pinacle, dtype: float64"
      ]
     },
     "execution_count": 298,
     "metadata": {},
     "output_type": "execute_result"
    }
   ],
   "source": [
    "fdf_under_pinacle_gb_mean = fdf_under_pinacle.groupby('binned <2.5 pinacle')['payout_under_2.5_pinacle'].mean()\n",
    "fdf_under_pinacle_gb_mean"
   ]
  },
  {
   "cell_type": "code",
   "execution_count": 207,
   "id": "edd2282d",
   "metadata": {},
   "outputs": [
    {
     "data": {
      "text/plain": [
       "0.9585662431941923"
      ]
     },
     "execution_count": 207,
     "metadata": {},
     "output_type": "execute_result"
    }
   ],
   "source": [
    "fdf_under_pinacle['payout_under_2.5_pinacle'].mean()"
   ]
  },
  {
   "cell_type": "code",
   "execution_count": 208,
   "id": "9be6e0c1",
   "metadata": {},
   "outputs": [],
   "source": [
    "fdf_under_pinacle_above_40 = fdf_Under_pinacle[fdf_Under_pinacle['Implied Probability <2.5 pinacle']>40]"
   ]
  },
  {
   "cell_type": "code",
   "execution_count": 209,
   "id": "3f980c79",
   "metadata": {},
   "outputs": [
    {
     "data": {
      "text/plain": [
       "0.9975848303393213"
      ]
     },
     "execution_count": 209,
     "metadata": {},
     "output_type": "execute_result"
    }
   ],
   "source": [
    "fdf_under_pinacle_above_40['payout_under_2.5_pinacle'].mean()"
   ]
  },
  {
   "cell_type": "markdown",
   "id": "adf003fc",
   "metadata": {},
   "source": [
    "#### Closing Odds"
   ]
  },
  {
   "cell_type": "code",
   "execution_count": 299,
   "id": "8540ed1c",
   "metadata": {},
   "outputs": [
    {
     "data": {
      "text/plain": [
       "binned <2.5 pinacle closing\n",
       "(0, 5]         0\n",
       "(5, 10]        0\n",
       "(10, 15]       0\n",
       "(15, 20]       0\n",
       "(20, 25]       2\n",
       "(25, 30]       6\n",
       "(30, 35]      16\n",
       "(35, 40]      79\n",
       "(40, 45]     187\n",
       "(45, 50]     329\n",
       "(50, 55]     272\n",
       "(55, 60]     164\n",
       "(60, 65]      45\n",
       "(65, 70]       5\n",
       "(70, 75]       0\n",
       "(75, 80]       0\n",
       "(80, 85]       0\n",
       "(85, 90]       0\n",
       "(90, 95]       0\n",
       "(95, 100]      0\n",
       "Name: payout_under_2.5_pinacle_closing, dtype: int64"
      ]
     },
     "execution_count": 299,
     "metadata": {},
     "output_type": "execute_result"
    }
   ],
   "source": [
    "fdf_under_pinacle_closing_gb_count = fdf_under_pinacle_closing.groupby('binned <2.5 pinacle closing')['payout_under_2.5_pinacle_closing'].count()\n",
    "fdf_under_pinacle_closing_gb_count"
   ]
  },
  {
   "cell_type": "code",
   "execution_count": 300,
   "id": "5454fea6",
   "metadata": {},
   "outputs": [
    {
     "data": {
      "text/plain": [
       "binned <2.5 pinacle closing\n",
       "(0, 5]            NaN\n",
       "(5, 10]           NaN\n",
       "(10, 15]          NaN\n",
       "(15, 20]          NaN\n",
       "(20, 25]     0.000000\n",
       "(25, 30]     0.566667\n",
       "(30, 35]     1.102500\n",
       "(35, 40]     0.573418\n",
       "(40, 45]     0.990428\n",
       "(45, 50]     1.064468\n",
       "(50, 55]     1.010147\n",
       "(55, 60]     0.891341\n",
       "(60, 65]     0.861333\n",
       "(65, 70]     0.892000\n",
       "(70, 75]          NaN\n",
       "(75, 80]          NaN\n",
       "(80, 85]          NaN\n",
       "(85, 90]          NaN\n",
       "(90, 95]          NaN\n",
       "(95, 100]         NaN\n",
       "Name: payout_under_2.5_pinacle_closing, dtype: float64"
      ]
     },
     "execution_count": 300,
     "metadata": {},
     "output_type": "execute_result"
    }
   ],
   "source": [
    "fdf_under_pinacle_closing_gb_mean = fdf_under_pinacle_closing.groupby('binned <2.5 pinacle closing')['payout_under_2.5_pinacle_closing'].mean()\n",
    "fdf_under_pinacle_closing_gb_mean"
   ]
  },
  {
   "cell_type": "markdown",
   "id": "d8914022",
   "metadata": {},
   "source": [
    "### Over"
   ]
  },
  {
   "cell_type": "markdown",
   "id": "928173aa",
   "metadata": {},
   "source": [
    "#### Opening odds"
   ]
  },
  {
   "cell_type": "code",
   "execution_count": 258,
   "id": "54ff8220",
   "metadata": {
    "collapsed": true
   },
   "outputs": [
    {
     "data": {
      "text/plain": [
       "binned >2.5 pinacle\n",
       "(0, 5]         0\n",
       "(5, 10]        0\n",
       "(10, 15]       0\n",
       "(15, 20]       0\n",
       "(20, 25]       0\n",
       "(25, 30]       0\n",
       "(30, 35]       0\n",
       "(35, 40]       2\n",
       "(40, 45]      46\n",
       "(45, 50]     224\n",
       "(50, 55]     297\n",
       "(55, 60]     321\n",
       "(60, 65]     158\n",
       "(65, 70]      43\n",
       "(70, 75]       7\n",
       "(75, 80]       3\n",
       "(80, 85]       1\n",
       "(85, 90]       0\n",
       "(90, 95]       0\n",
       "(95, 100]      0\n",
       "Name: payout_over_2.5_pinacle, dtype: int64"
      ]
     },
     "execution_count": 258,
     "metadata": {},
     "output_type": "execute_result"
    }
   ],
   "source": [
    "fdf_over_pinacle_gb_count = fdf_over_pinacle.groupby('binned >2.5 pinacle')['payout_over_2.5_pinacle'].count()\n",
    "fdf_over_pinacle_gb_count"
   ]
  },
  {
   "cell_type": "code",
   "execution_count": 217,
   "id": "82df8790",
   "metadata": {
    "collapsed": true
   },
   "outputs": [
    {
     "data": {
      "text/plain": [
       "binned >2.5 pinacle\n",
       "(0, 5]            NaN\n",
       "(5, 10]           NaN\n",
       "(10, 15]          NaN\n",
       "(15, 20]          NaN\n",
       "(20, 25]          NaN\n",
       "(25, 30]          NaN\n",
       "(30, 35]          NaN\n",
       "(35, 40]     1.390000\n",
       "(40, 45]     0.912391\n",
       "(45, 50]     1.031205\n",
       "(50, 55]     0.964141\n",
       "(55, 60]     0.844486\n",
       "(60, 65]     1.069367\n",
       "(65, 70]     1.075116\n",
       "(70, 75]     1.167143\n",
       "(75, 80]     1.303333\n",
       "(80, 85]     1.210000\n",
       "(85, 90]          NaN\n",
       "(90, 95]          NaN\n",
       "(95, 100]         NaN\n",
       "Name: payout_over_2.5_pinacle, dtype: float64"
      ]
     },
     "execution_count": 217,
     "metadata": {},
     "output_type": "execute_result"
    }
   ],
   "source": [
    "fdf_over_pinacle.groupby('binned >2.5 pinacle')['payout_over_2.5_pinacle'].mean()"
   ]
  },
  {
   "cell_type": "code",
   "execution_count": 257,
   "id": "bd75ca05",
   "metadata": {
    "collapsed": true
   },
   "outputs": [
    {
     "data": {
      "text/plain": [
       "0.9633847549909257"
      ]
     },
     "execution_count": 257,
     "metadata": {},
     "output_type": "execute_result"
    }
   ],
   "source": [
    "fdf_over_pinacle_gb_mean = fdf_over_pinacle['payout_over_2.5_pinacle'].mean()\n",
    "fdf_over_pinacle_gb_mean"
   ]
  },
  {
   "cell_type": "code",
   "execution_count": 229,
   "id": "4ea9b7f0",
   "metadata": {},
   "outputs": [],
   "source": [
    "fdf_over_pinacle_above_60 = fdf_over_pinacle[fdf_over_pinacle['Implied Probability >2.5 pinacle']>60]"
   ]
  },
  {
   "cell_type": "code",
   "execution_count": 220,
   "id": "a4cf561f",
   "metadata": {
    "collapsed": true
   },
   "outputs": [
    {
     "data": {
      "text/plain": [
       "1.0777358490566038"
      ]
     },
     "execution_count": 220,
     "metadata": {},
     "output_type": "execute_result"
    }
   ],
   "source": [
    "fdf_over_pinacle_above_60['payout_over_2.5_pinacle'].mean()"
   ]
  },
  {
   "cell_type": "markdown",
   "id": "7271f40c",
   "metadata": {},
   "source": [
    "#### Closing odds"
   ]
  },
  {
   "cell_type": "code",
   "execution_count": 228,
   "id": "dcfe8c84",
   "metadata": {},
   "outputs": [
    {
     "data": {
      "text/plain": [
       "binned >2.5 pinacle closing\n",
       "(0, 5]         0\n",
       "(5, 10]        0\n",
       "(10, 15]       0\n",
       "(15, 20]       0\n",
       "(20, 25]       0\n",
       "(25, 30]       0\n",
       "(30, 35]       1\n",
       "(35, 40]      12\n",
       "(40, 45]      82\n",
       "(45, 50]     203\n",
       "(50, 55]     281\n",
       "(55, 60]     293\n",
       "(60, 65]     158\n",
       "(65, 70]      56\n",
       "(70, 75]      12\n",
       "(75, 80]       5\n",
       "(80, 85]       2\n",
       "(85, 90]       0\n",
       "(90, 95]       0\n",
       "(95, 100]      0\n",
       "Name: payout_over_2.5_pinacle_closing, dtype: int64"
      ]
     },
     "execution_count": 228,
     "metadata": {},
     "output_type": "execute_result"
    }
   ],
   "source": [
    "fdf_over_pinacle_closing_gb_count = fdf_over_pinacle_closing.groupby('binned >2.5 pinacle closing')['payout_over_2.5_pinacle_closing'].count()\n",
    "fdf_over_pinacle_closing_gb_count"
   ]
  },
  {
   "cell_type": "code",
   "execution_count": 226,
   "id": "424a88e2",
   "metadata": {},
   "outputs": [
    {
     "data": {
      "text/plain": [
       "binned >2.5 pinacle closing\n",
       "(0, 5]            NaN\n",
       "(5, 10]           NaN\n",
       "(10, 15]          NaN\n",
       "(15, 20]          NaN\n",
       "(20, 25]          NaN\n",
       "(25, 30]          NaN\n",
       "(30, 35]     0.000000\n",
       "(35, 40]     1.072500\n",
       "(40, 45]     1.155732\n",
       "(45, 50]     0.931034\n",
       "(50, 55]     0.933559\n",
       "(55, 60]     0.894915\n",
       "(60, 65]     1.055696\n",
       "(65, 70]     1.040000\n",
       "(70, 75]     0.921667\n",
       "(75, 80]     1.320000\n",
       "(80, 85]     1.230000\n",
       "(85, 90]          NaN\n",
       "(90, 95]          NaN\n",
       "(95, 100]         NaN\n",
       "Name: payout_over_2.5_pinacle_closing, dtype: float64"
      ]
     },
     "execution_count": 226,
     "metadata": {},
     "output_type": "execute_result"
    }
   ],
   "source": [
    "fdf_over_pinacle_closing_gb_mean = fdf_over_pinacle_closing.groupby('binned >2.5 pinacle closing')['payout_over_2.5_pinacle_closing'].mean()\n",
    "fdf_over_pinacle_closing_gb_mean"
   ]
  },
  {
   "cell_type": "markdown",
   "id": "eca3df08",
   "metadata": {},
   "source": [
    "## Results per implied prob bet365"
   ]
  },
  {
   "cell_type": "markdown",
   "id": "a4abadb9",
   "metadata": {},
   "source": [
    "### Under"
   ]
  },
  {
   "cell_type": "markdown",
   "id": "c5b84deb",
   "metadata": {},
   "source": [
    "#### Opening odds"
   ]
  },
  {
   "cell_type": "code",
   "execution_count": 240,
   "id": "4c377d92",
   "metadata": {},
   "outputs": [
    {
     "data": {
      "text/plain": [
       "binned <2.5 365\n",
       "(0, 5]         0\n",
       "(5, 10]        0\n",
       "(10, 15]       0\n",
       "(15, 20]       0\n",
       "(20, 25]       1\n",
       "(25, 30]       5\n",
       "(30, 35]       9\n",
       "(35, 40]      26\n",
       "(40, 45]     137\n",
       "(45, 50]     458\n",
       "(50, 55]     233\n",
       "(55, 60]     173\n",
       "(60, 65]      58\n",
       "(65, 70]       3\n",
       "(70, 75]       0\n",
       "(75, 80]       0\n",
       "(80, 85]       0\n",
       "(85, 90]       0\n",
       "(90, 95]       0\n",
       "(95, 100]      0\n",
       "Name: payout_under_2.5_365, dtype: int64"
      ]
     },
     "execution_count": 240,
     "metadata": {},
     "output_type": "execute_result"
    }
   ],
   "source": [
    "fdf_under_bet365_gb_count = fdf_under_365.groupby('binned <2.5 365')['payout_under_2.5_365'].count()\n",
    "fdf_under_bet365_gb_count"
   ]
  },
  {
   "cell_type": "code",
   "execution_count": 103,
   "id": "d64f9d96",
   "metadata": {},
   "outputs": [
    {
     "data": {
      "text/plain": [
       "binned <2.5 365\n",
       "(0, 5]            NaN\n",
       "(5, 10]           NaN\n",
       "(10, 15]          NaN\n",
       "(15, 20]          NaN\n",
       "(20, 25]     0.000000\n",
       "(25, 30]     0.000000\n",
       "(30, 35]     0.344444\n",
       "(35, 40]     0.788462\n",
       "(40, 45]     0.729197\n",
       "(45, 50]     1.023166\n",
       "(50, 55]     1.053391\n",
       "(55, 60]     0.831561\n",
       "(60, 65]     0.959310\n",
       "(65, 70]     0.500000\n",
       "(70, 75]          NaN\n",
       "(75, 80]          NaN\n",
       "(80, 85]          NaN\n",
       "(85, 90]          NaN\n",
       "(90, 95]          NaN\n",
       "(95, 100]         NaN\n",
       "Name: payout_under_2.5_365, dtype: float64"
      ]
     },
     "execution_count": 103,
     "metadata": {},
     "output_type": "execute_result"
    }
   ],
   "source": [
    "fdf_under_bet365_gb_mean = fdf_under_365.groupby('binned <2.5 365')['payout_under_2.5_365'].mean()\n",
    "fdf_under_bet365_gb_mean"
   ]
  },
  {
   "cell_type": "code",
   "execution_count": 106,
   "id": "de0404b0",
   "metadata": {},
   "outputs": [
    {
     "data": {
      "text/html": [
       "<div>\n",
       "<style scoped>\n",
       "    .dataframe tbody tr th:only-of-type {\n",
       "        vertical-align: middle;\n",
       "    }\n",
       "\n",
       "    .dataframe tbody tr th {\n",
       "        vertical-align: top;\n",
       "    }\n",
       "\n",
       "    .dataframe thead th {\n",
       "        text-align: right;\n",
       "    }\n",
       "</style>\n",
       "<table border=\"1\" class=\"dataframe\">\n",
       "  <thead>\n",
       "    <tr style=\"text-align: right;\">\n",
       "      <th></th>\n",
       "      <th>median</th>\n",
       "      <th>mean</th>\n",
       "      <th>max</th>\n",
       "      <th>count</th>\n",
       "    </tr>\n",
       "    <tr>\n",
       "      <th>binned &lt;2.5 365</th>\n",
       "      <th></th>\n",
       "      <th></th>\n",
       "      <th></th>\n",
       "      <th></th>\n",
       "    </tr>\n",
       "  </thead>\n",
       "  <tbody>\n",
       "    <tr>\n",
       "      <th>(0, 5]</th>\n",
       "      <td>NaN</td>\n",
       "      <td>NaN</td>\n",
       "      <td>NaN</td>\n",
       "      <td>0</td>\n",
       "    </tr>\n",
       "    <tr>\n",
       "      <th>(5, 10]</th>\n",
       "      <td>NaN</td>\n",
       "      <td>NaN</td>\n",
       "      <td>NaN</td>\n",
       "      <td>0</td>\n",
       "    </tr>\n",
       "    <tr>\n",
       "      <th>(10, 15]</th>\n",
       "      <td>NaN</td>\n",
       "      <td>NaN</td>\n",
       "      <td>NaN</td>\n",
       "      <td>0</td>\n",
       "    </tr>\n",
       "    <tr>\n",
       "      <th>(15, 20]</th>\n",
       "      <td>NaN</td>\n",
       "      <td>NaN</td>\n",
       "      <td>NaN</td>\n",
       "      <td>0</td>\n",
       "    </tr>\n",
       "    <tr>\n",
       "      <th>(20, 25]</th>\n",
       "      <td>0.00</td>\n",
       "      <td>0.000000</td>\n",
       "      <td>0.00</td>\n",
       "      <td>1</td>\n",
       "    </tr>\n",
       "    <tr>\n",
       "      <th>(25, 30]</th>\n",
       "      <td>0.00</td>\n",
       "      <td>0.000000</td>\n",
       "      <td>0.00</td>\n",
       "      <td>5</td>\n",
       "    </tr>\n",
       "    <tr>\n",
       "      <th>(30, 35]</th>\n",
       "      <td>0.00</td>\n",
       "      <td>0.344444</td>\n",
       "      <td>3.10</td>\n",
       "      <td>9</td>\n",
       "    </tr>\n",
       "    <tr>\n",
       "      <th>(35, 40]</th>\n",
       "      <td>0.00</td>\n",
       "      <td>0.788462</td>\n",
       "      <td>2.70</td>\n",
       "      <td>26</td>\n",
       "    </tr>\n",
       "    <tr>\n",
       "      <th>(40, 45]</th>\n",
       "      <td>0.00</td>\n",
       "      <td>0.729197</td>\n",
       "      <td>2.40</td>\n",
       "      <td>137</td>\n",
       "    </tr>\n",
       "    <tr>\n",
       "      <th>(45, 50]</th>\n",
       "      <td>0.00</td>\n",
       "      <td>1.023166</td>\n",
       "      <td>2.20</td>\n",
       "      <td>458</td>\n",
       "    </tr>\n",
       "    <tr>\n",
       "      <th>(50, 55]</th>\n",
       "      <td>1.85</td>\n",
       "      <td>1.053391</td>\n",
       "      <td>1.98</td>\n",
       "      <td>233</td>\n",
       "    </tr>\n",
       "    <tr>\n",
       "      <th>(55, 60]</th>\n",
       "      <td>0.00</td>\n",
       "      <td>0.831561</td>\n",
       "      <td>1.80</td>\n",
       "      <td>173</td>\n",
       "    </tr>\n",
       "    <tr>\n",
       "      <th>(60, 65]</th>\n",
       "      <td>1.60</td>\n",
       "      <td>0.959310</td>\n",
       "      <td>1.66</td>\n",
       "      <td>58</td>\n",
       "    </tr>\n",
       "    <tr>\n",
       "      <th>(65, 70]</th>\n",
       "      <td>0.00</td>\n",
       "      <td>0.500000</td>\n",
       "      <td>1.50</td>\n",
       "      <td>3</td>\n",
       "    </tr>\n",
       "    <tr>\n",
       "      <th>(70, 75]</th>\n",
       "      <td>NaN</td>\n",
       "      <td>NaN</td>\n",
       "      <td>NaN</td>\n",
       "      <td>0</td>\n",
       "    </tr>\n",
       "    <tr>\n",
       "      <th>(75, 80]</th>\n",
       "      <td>NaN</td>\n",
       "      <td>NaN</td>\n",
       "      <td>NaN</td>\n",
       "      <td>0</td>\n",
       "    </tr>\n",
       "    <tr>\n",
       "      <th>(80, 85]</th>\n",
       "      <td>NaN</td>\n",
       "      <td>NaN</td>\n",
       "      <td>NaN</td>\n",
       "      <td>0</td>\n",
       "    </tr>\n",
       "    <tr>\n",
       "      <th>(85, 90]</th>\n",
       "      <td>NaN</td>\n",
       "      <td>NaN</td>\n",
       "      <td>NaN</td>\n",
       "      <td>0</td>\n",
       "    </tr>\n",
       "    <tr>\n",
       "      <th>(90, 95]</th>\n",
       "      <td>NaN</td>\n",
       "      <td>NaN</td>\n",
       "      <td>NaN</td>\n",
       "      <td>0</td>\n",
       "    </tr>\n",
       "    <tr>\n",
       "      <th>(95, 100]</th>\n",
       "      <td>NaN</td>\n",
       "      <td>NaN</td>\n",
       "      <td>NaN</td>\n",
       "      <td>0</td>\n",
       "    </tr>\n",
       "  </tbody>\n",
       "</table>\n",
       "</div>"
      ],
      "text/plain": [
       "                 median      mean   max  count\n",
       "binned <2.5 365                               \n",
       "(0, 5]              NaN       NaN   NaN      0\n",
       "(5, 10]             NaN       NaN   NaN      0\n",
       "(10, 15]            NaN       NaN   NaN      0\n",
       "(15, 20]            NaN       NaN   NaN      0\n",
       "(20, 25]           0.00  0.000000  0.00      1\n",
       "(25, 30]           0.00  0.000000  0.00      5\n",
       "(30, 35]           0.00  0.344444  3.10      9\n",
       "(35, 40]           0.00  0.788462  2.70     26\n",
       "(40, 45]           0.00  0.729197  2.40    137\n",
       "(45, 50]           0.00  1.023166  2.20    458\n",
       "(50, 55]           1.85  1.053391  1.98    233\n",
       "(55, 60]           0.00  0.831561  1.80    173\n",
       "(60, 65]           1.60  0.959310  1.66     58\n",
       "(65, 70]           0.00  0.500000  1.50      3\n",
       "(70, 75]            NaN       NaN   NaN      0\n",
       "(75, 80]            NaN       NaN   NaN      0\n",
       "(80, 85]            NaN       NaN   NaN      0\n",
       "(85, 90]            NaN       NaN   NaN      0\n",
       "(90, 95]            NaN       NaN   NaN      0\n",
       "(95, 100]           NaN       NaN   NaN      0"
      ]
     },
     "execution_count": 106,
     "metadata": {},
     "output_type": "execute_result"
    }
   ],
   "source": [
    "## median\n",
    "fdf_under_bet365_gb_mean = fdf_under_365.groupby('binned <2.5 365')['payout_under_2.5_365'].agg(['median','mean','max','count'])\n",
    "fdf_under_bet365_gb_mean"
   ]
  },
  {
   "cell_type": "code",
   "execution_count": 237,
   "id": "f5b7baa4",
   "metadata": {},
   "outputs": [
    {
     "data": {
      "text/plain": [
       "0.9415684496826835"
      ]
     },
     "execution_count": 237,
     "metadata": {},
     "output_type": "execute_result"
    }
   ],
   "source": [
    "fdf_under_365['payout_under_2.5_365'].mean()"
   ]
  },
  {
   "cell_type": "code",
   "execution_count": 231,
   "id": "e5a1828a",
   "metadata": {},
   "outputs": [],
   "source": [
    "fdf_under_365_above_40 = fdf_under_365[fdf_under_365['Implied Probability <2.5 365']>40]"
   ]
  },
  {
   "cell_type": "code",
   "execution_count": 232,
   "id": "a17ec083",
   "metadata": {},
   "outputs": [
    {
     "data": {
      "text/plain": [
       "0.9556967984934087"
      ]
     },
     "execution_count": 232,
     "metadata": {},
     "output_type": "execute_result"
    }
   ],
   "source": [
    "fdf_under_365_above_40['payout_under_2.5_365'].mean()"
   ]
  },
  {
   "cell_type": "markdown",
   "id": "cab820bb",
   "metadata": {},
   "source": [
    "#### Closing odds"
   ]
  },
  {
   "cell_type": "code",
   "execution_count": 244,
   "id": "7bb752be",
   "metadata": {},
   "outputs": [
    {
     "data": {
      "text/plain": [
       "binned <2.5 365 closing\n",
       "(0, 5]         0\n",
       "(5, 10]        0\n",
       "(10, 15]       0\n",
       "(15, 20]       0\n",
       "(20, 25]       3\n",
       "(25, 30]       7\n",
       "(30, 35]      15\n",
       "(35, 40]      49\n",
       "(40, 45]     148\n",
       "(45, 50]     391\n",
       "(50, 55]     217\n",
       "(55, 60]     162\n",
       "(60, 65]     100\n",
       "(65, 70]      14\n",
       "(70, 75]       0\n",
       "(75, 80]       0\n",
       "(80, 85]       0\n",
       "(85, 90]       0\n",
       "(90, 95]       0\n",
       "(95, 100]      0\n",
       "Name: payout_under_2.5_365_closing, dtype: int64"
      ]
     },
     "execution_count": 244,
     "metadata": {},
     "output_type": "execute_result"
    }
   ],
   "source": [
    "fdf_under_bet365_closing_gb_count = fdf_under_365_closing.groupby('binned <2.5 365 closing')['payout_under_2.5_365_closing'].count()\n",
    "fdf_under_bet365_closing_gb_count"
   ]
  },
  {
   "cell_type": "code",
   "execution_count": 245,
   "id": "cd7cd46c",
   "metadata": {
    "collapsed": true
   },
   "outputs": [
    {
     "data": {
      "text/plain": [
       "binned <2.5 365 closing\n",
       "(0, 5]            NaN\n",
       "(5, 10]           NaN\n",
       "(10, 15]          NaN\n",
       "(15, 20]          NaN\n",
       "(20, 25]     0.000000\n",
       "(25, 30]     0.500000\n",
       "(30, 35]     0.956667\n",
       "(35, 40]     0.744898\n",
       "(40, 45]     0.800000\n",
       "(45, 50]     1.031867\n",
       "(50, 55]     0.980968\n",
       "(55, 60]     0.959815\n",
       "(60, 65]     0.798700\n",
       "(65, 70]     0.966429\n",
       "(70, 75]          NaN\n",
       "(75, 80]          NaN\n",
       "(80, 85]          NaN\n",
       "(85, 90]          NaN\n",
       "(90, 95]          NaN\n",
       "(95, 100]         NaN\n",
       "Name: payout_under_2.5_365_closing, dtype: float64"
      ]
     },
     "execution_count": 245,
     "metadata": {},
     "output_type": "execute_result"
    }
   ],
   "source": [
    "fdf_under_bet365_closing_gb_mean = fdf_under_365_closing.groupby('binned <2.5 365 closing')['payout_under_2.5_365_closing'].mean()\n",
    "fdf_under_bet365_closing_gb_mean"
   ]
  },
  {
   "cell_type": "markdown",
   "id": "d066b0ca",
   "metadata": {},
   "source": [
    "### Over"
   ]
  },
  {
   "cell_type": "markdown",
   "id": "12e4a9a9",
   "metadata": {},
   "source": [
    "#### Opening Odds"
   ]
  },
  {
   "cell_type": "code",
   "execution_count": 247,
   "id": "f0ec2853",
   "metadata": {
    "collapsed": true
   },
   "outputs": [
    {
     "data": {
      "text/plain": [
       "binned >2.5 365\n",
       "(0, 5]         0\n",
       "(5, 10]        0\n",
       "(10, 15]       0\n",
       "(15, 20]       0\n",
       "(20, 25]       0\n",
       "(25, 30]       0\n",
       "(30, 35]       0\n",
       "(35, 40]       2\n",
       "(40, 45]      23\n",
       "(45, 50]     246\n",
       "(50, 55]     236\n",
       "(55, 60]     322\n",
       "(60, 65]     205\n",
       "(65, 70]      54\n",
       "(70, 75]       9\n",
       "(75, 80]       5\n",
       "(80, 85]       1\n",
       "(85, 90]       0\n",
       "(90, 95]       0\n",
       "(95, 100]      0\n",
       "Name: payout_over_2.5_365, dtype: int64"
      ]
     },
     "execution_count": 247,
     "metadata": {},
     "output_type": "execute_result"
    }
   ],
   "source": [
    "fdf_over_bet365_gb_count = fdf_over_365.groupby('binned >2.5 365')['payout_over_2.5_365'].count()\n",
    "fdf_over_bet365_gb_count"
   ]
  },
  {
   "cell_type": "code",
   "execution_count": 248,
   "id": "7e9083d7",
   "metadata": {},
   "outputs": [
    {
     "data": {
      "text/plain": [
       "binned >2.5 365\n",
       "(0, 5]            NaN\n",
       "(5, 10]           NaN\n",
       "(10, 15]          NaN\n",
       "(15, 20]          NaN\n",
       "(20, 25]          NaN\n",
       "(25, 30]          NaN\n",
       "(30, 35]          NaN\n",
       "(35, 40]     1.300000\n",
       "(40, 45]     1.097826\n",
       "(45, 50]     1.034350\n",
       "(50, 55]     0.880551\n",
       "(55, 60]     0.868851\n",
       "(60, 65]     0.976537\n",
       "(65, 70]     0.973333\n",
       "(70, 75]     1.231111\n",
       "(75, 80]     1.318000\n",
       "(80, 85]     1.180000\n",
       "(85, 90]          NaN\n",
       "(90, 95]          NaN\n",
       "(95, 100]         NaN\n",
       "Name: payout_over_2.5_365, dtype: float64"
      ]
     },
     "execution_count": 248,
     "metadata": {},
     "output_type": "execute_result"
    }
   ],
   "source": [
    "fdf_over_bet365_gb_mean = fdf_over_365.groupby('binned >2.5 365')['payout_over_2.5_365'].mean()\n",
    "fdf_over_bet365_gb_mean"
   ]
  },
  {
   "cell_type": "code",
   "execution_count": 131,
   "id": "42b66601",
   "metadata": {},
   "outputs": [
    {
     "data": {
      "text/plain": [
       "0.9448462929475587"
      ]
     },
     "execution_count": 131,
     "metadata": {},
     "output_type": "execute_result"
    }
   ],
   "source": [
    "fdf_over_365['payout_over_2.5_365'].mean()"
   ]
  },
  {
   "cell_type": "code",
   "execution_count": 108,
   "id": "96b64a43",
   "metadata": {},
   "outputs": [
    {
     "data": {
      "text/html": [
       "<div>\n",
       "<style scoped>\n",
       "    .dataframe tbody tr th:only-of-type {\n",
       "        vertical-align: middle;\n",
       "    }\n",
       "\n",
       "    .dataframe tbody tr th {\n",
       "        vertical-align: top;\n",
       "    }\n",
       "\n",
       "    .dataframe thead th {\n",
       "        text-align: right;\n",
       "    }\n",
       "</style>\n",
       "<table border=\"1\" class=\"dataframe\">\n",
       "  <thead>\n",
       "    <tr style=\"text-align: right;\">\n",
       "      <th></th>\n",
       "      <th>median</th>\n",
       "      <th>mean</th>\n",
       "      <th>max</th>\n",
       "      <th>count</th>\n",
       "    </tr>\n",
       "    <tr>\n",
       "      <th>binned &gt;2.5 365</th>\n",
       "      <th></th>\n",
       "      <th></th>\n",
       "      <th></th>\n",
       "      <th></th>\n",
       "    </tr>\n",
       "  </thead>\n",
       "  <tbody>\n",
       "    <tr>\n",
       "      <th>(0, 5]</th>\n",
       "      <td>NaN</td>\n",
       "      <td>NaN</td>\n",
       "      <td>NaN</td>\n",
       "      <td>0</td>\n",
       "    </tr>\n",
       "    <tr>\n",
       "      <th>(5, 10]</th>\n",
       "      <td>NaN</td>\n",
       "      <td>NaN</td>\n",
       "      <td>NaN</td>\n",
       "      <td>0</td>\n",
       "    </tr>\n",
       "    <tr>\n",
       "      <th>(10, 15]</th>\n",
       "      <td>NaN</td>\n",
       "      <td>NaN</td>\n",
       "      <td>NaN</td>\n",
       "      <td>0</td>\n",
       "    </tr>\n",
       "    <tr>\n",
       "      <th>(15, 20]</th>\n",
       "      <td>NaN</td>\n",
       "      <td>NaN</td>\n",
       "      <td>NaN</td>\n",
       "      <td>0</td>\n",
       "    </tr>\n",
       "    <tr>\n",
       "      <th>(20, 25]</th>\n",
       "      <td>NaN</td>\n",
       "      <td>NaN</td>\n",
       "      <td>NaN</td>\n",
       "      <td>0</td>\n",
       "    </tr>\n",
       "    <tr>\n",
       "      <th>(25, 30]</th>\n",
       "      <td>NaN</td>\n",
       "      <td>NaN</td>\n",
       "      <td>NaN</td>\n",
       "      <td>0</td>\n",
       "    </tr>\n",
       "    <tr>\n",
       "      <th>(30, 35]</th>\n",
       "      <td>NaN</td>\n",
       "      <td>NaN</td>\n",
       "      <td>NaN</td>\n",
       "      <td>0</td>\n",
       "    </tr>\n",
       "    <tr>\n",
       "      <th>(35, 40]</th>\n",
       "      <td>1.30</td>\n",
       "      <td>1.300000</td>\n",
       "      <td>2.60</td>\n",
       "      <td>2</td>\n",
       "    </tr>\n",
       "    <tr>\n",
       "      <th>(40, 45]</th>\n",
       "      <td>0.00</td>\n",
       "      <td>1.097826</td>\n",
       "      <td>2.40</td>\n",
       "      <td>23</td>\n",
       "    </tr>\n",
       "    <tr>\n",
       "      <th>(45, 50]</th>\n",
       "      <td>2.00</td>\n",
       "      <td>1.034350</td>\n",
       "      <td>2.20</td>\n",
       "      <td>246</td>\n",
       "    </tr>\n",
       "    <tr>\n",
       "      <th>(50, 55]</th>\n",
       "      <td>0.00</td>\n",
       "      <td>0.880551</td>\n",
       "      <td>1.98</td>\n",
       "      <td>236</td>\n",
       "    </tr>\n",
       "    <tr>\n",
       "      <th>(55, 60]</th>\n",
       "      <td>0.00</td>\n",
       "      <td>0.868851</td>\n",
       "      <td>1.80</td>\n",
       "      <td>322</td>\n",
       "    </tr>\n",
       "    <tr>\n",
       "      <th>(60, 65]</th>\n",
       "      <td>1.57</td>\n",
       "      <td>0.976537</td>\n",
       "      <td>1.66</td>\n",
       "      <td>205</td>\n",
       "    </tr>\n",
       "    <tr>\n",
       "      <th>(65, 70]</th>\n",
       "      <td>1.47</td>\n",
       "      <td>0.973333</td>\n",
       "      <td>1.53</td>\n",
       "      <td>54</td>\n",
       "    </tr>\n",
       "    <tr>\n",
       "      <th>(70, 75]</th>\n",
       "      <td>1.40</td>\n",
       "      <td>1.231111</td>\n",
       "      <td>1.40</td>\n",
       "      <td>9</td>\n",
       "    </tr>\n",
       "    <tr>\n",
       "      <th>(75, 80]</th>\n",
       "      <td>1.33</td>\n",
       "      <td>1.318000</td>\n",
       "      <td>1.33</td>\n",
       "      <td>5</td>\n",
       "    </tr>\n",
       "    <tr>\n",
       "      <th>(80, 85]</th>\n",
       "      <td>1.18</td>\n",
       "      <td>1.180000</td>\n",
       "      <td>1.18</td>\n",
       "      <td>1</td>\n",
       "    </tr>\n",
       "    <tr>\n",
       "      <th>(85, 90]</th>\n",
       "      <td>NaN</td>\n",
       "      <td>NaN</td>\n",
       "      <td>NaN</td>\n",
       "      <td>0</td>\n",
       "    </tr>\n",
       "    <tr>\n",
       "      <th>(90, 95]</th>\n",
       "      <td>NaN</td>\n",
       "      <td>NaN</td>\n",
       "      <td>NaN</td>\n",
       "      <td>0</td>\n",
       "    </tr>\n",
       "    <tr>\n",
       "      <th>(95, 100]</th>\n",
       "      <td>NaN</td>\n",
       "      <td>NaN</td>\n",
       "      <td>NaN</td>\n",
       "      <td>0</td>\n",
       "    </tr>\n",
       "  </tbody>\n",
       "</table>\n",
       "</div>"
      ],
      "text/plain": [
       "                 median      mean   max  count\n",
       "binned >2.5 365                               \n",
       "(0, 5]              NaN       NaN   NaN      0\n",
       "(5, 10]             NaN       NaN   NaN      0\n",
       "(10, 15]            NaN       NaN   NaN      0\n",
       "(15, 20]            NaN       NaN   NaN      0\n",
       "(20, 25]            NaN       NaN   NaN      0\n",
       "(25, 30]            NaN       NaN   NaN      0\n",
       "(30, 35]            NaN       NaN   NaN      0\n",
       "(35, 40]           1.30  1.300000  2.60      2\n",
       "(40, 45]           0.00  1.097826  2.40     23\n",
       "(45, 50]           2.00  1.034350  2.20    246\n",
       "(50, 55]           0.00  0.880551  1.98    236\n",
       "(55, 60]           0.00  0.868851  1.80    322\n",
       "(60, 65]           1.57  0.976537  1.66    205\n",
       "(65, 70]           1.47  0.973333  1.53     54\n",
       "(70, 75]           1.40  1.231111  1.40      9\n",
       "(75, 80]           1.33  1.318000  1.33      5\n",
       "(80, 85]           1.18  1.180000  1.18      1\n",
       "(85, 90]            NaN       NaN   NaN      0\n",
       "(90, 95]            NaN       NaN   NaN      0\n",
       "(95, 100]           NaN       NaN   NaN      0"
      ]
     },
     "execution_count": 108,
     "metadata": {},
     "output_type": "execute_result"
    }
   ],
   "source": [
    "## median\n",
    "fdf_over_bet365_gb_mean = fdf_over_365.groupby('binned >2.5 365')['payout_over_2.5_365'].agg(['median','mean','max','count'])\n",
    "fdf_over_bet365_gb_mean"
   ]
  },
  {
   "cell_type": "markdown",
   "id": "c0969105",
   "metadata": {},
   "source": [
    "#### Closing Odds"
   ]
  },
  {
   "cell_type": "code",
   "execution_count": 251,
   "id": "d4f91b68",
   "metadata": {},
   "outputs": [
    {
     "data": {
      "text/plain": [
       "binned >2.5 365 closing\n",
       "(0, 5]         0\n",
       "(5, 10]        0\n",
       "(10, 15]       0\n",
       "(15, 20]       0\n",
       "(20, 25]       0\n",
       "(25, 30]       0\n",
       "(30, 35]       0\n",
       "(35, 40]       6\n",
       "(40, 45]      53\n",
       "(45, 50]     236\n",
       "(50, 55]     224\n",
       "(55, 60]     279\n",
       "(60, 65]     202\n",
       "(65, 70]      81\n",
       "(70, 75]      15\n",
       "(75, 80]       8\n",
       "(80, 85]       2\n",
       "(85, 90]       0\n",
       "(90, 95]       0\n",
       "(95, 100]      0\n",
       "Name: payout_over_2.5_365_closing, dtype: int64"
      ]
     },
     "execution_count": 251,
     "metadata": {},
     "output_type": "execute_result"
    }
   ],
   "source": [
    "fdf_over_bet365_closing_gb_count = fdf_over_365_closing.groupby('binned >2.5 365 closing')['payout_over_2.5_365_closing'].count()\n",
    "fdf_over_bet365_closing_gb_count"
   ]
  },
  {
   "cell_type": "code",
   "execution_count": 252,
   "id": "901ec7b4",
   "metadata": {},
   "outputs": [
    {
     "data": {
      "text/plain": [
       "binned >2.5 365 closing\n",
       "(0, 5]            NaN\n",
       "(5, 10]           NaN\n",
       "(10, 15]          NaN\n",
       "(15, 20]          NaN\n",
       "(20, 25]          NaN\n",
       "(25, 30]          NaN\n",
       "(30, 35]          NaN\n",
       "(35, 40]     0.833333\n",
       "(40, 45]     1.083962\n",
       "(45, 50]     0.975636\n",
       "(50, 55]     0.931518\n",
       "(55, 60]     0.854229\n",
       "(60, 65]     0.942079\n",
       "(65, 70]     1.107407\n",
       "(70, 75]     0.920000\n",
       "(75, 80]     1.136250\n",
       "(80, 85]     1.210000\n",
       "(85, 90]          NaN\n",
       "(90, 95]          NaN\n",
       "(95, 100]         NaN\n",
       "Name: payout_over_2.5_365_closing, dtype: float64"
      ]
     },
     "execution_count": 252,
     "metadata": {},
     "output_type": "execute_result"
    }
   ],
   "source": [
    "fdf_over_bet365_closing_gb_mean = fdf_over_365_closing.groupby('binned >2.5 365 closing')['payout_over_2.5_365_closing'].mean()\n",
    "fdf_over_bet365_closing_gb_mean"
   ]
  },
  {
   "cell_type": "code",
   "execution_count": 256,
   "id": "6929b581",
   "metadata": {},
   "outputs": [
    {
     "data": {
      "text/plain": [
       "0.9448462929475587"
      ]
     },
     "execution_count": 256,
     "metadata": {},
     "output_type": "execute_result"
    }
   ],
   "source": [
    "fdf_over_365_closing['payout_over_2.5_365_closing'].mean()"
   ]
  },
  {
   "cell_type": "markdown",
   "id": "fc7b34fd",
   "metadata": {},
   "source": [
    "## Model"
   ]
  },
  {
   "cell_type": "markdown",
   "id": "f6d64a8f",
   "metadata": {},
   "source": [
    "### Ensuring we have the data for the model"
   ]
  },
  {
   "cell_type": "code",
   "execution_count": 238,
   "id": "3103aa34",
   "metadata": {},
   "outputs": [],
   "source": [
    "## Pre-requesite: we need 'binned <2.5 pinacle' + 'payout_under_2.5_pinacle' features from section 3 (Features Engineering)"
   ]
  },
  {
   "cell_type": "code",
   "execution_count": 22,
   "id": "b2e9f50b",
   "metadata": {},
   "outputs": [],
   "source": [
    "## Adding the Year Feature\n",
    "data_date = data['Date']\n",
    "data_date_2 = pd.to_datetime(data_date, dayfirst = True)\n",
    "data['year'] = pd.DatetimeIndex(data_date_2).year"
   ]
  },
  {
   "cell_type": "markdown",
   "id": "1a93f3f8",
   "metadata": {},
   "source": [
    "### One hot encoder for Years and Bins"
   ]
  },
  {
   "cell_type": "code",
   "execution_count": 23,
   "id": "494eaaa9",
   "metadata": {},
   "outputs": [],
   "source": [
    "# OneHotEncoder for the Implied Probs bins\n",
    "\n",
    "from sklearn.preprocessing import OneHotEncoder\n",
    "# Instantiate encoder\n",
    "ohe = OneHotEncoder(sparse=False)\n",
    "\n",
    "# Fit encoder\n",
    "ohe.fit(data[['binned <2.5 pinacle']])\n",
    "# Encode GarageFinish\n",
    "bins_encoded = ohe.transform(data[['binned <2.5 pinacle']])\n",
    "# Transpose encoded Alley back into dataframe\n",
    "data[\"bin_1\"], data[\"bin_2\"], data[\"bin_3\"], data[\"bin_4\"],data[\"bin_5\"],data[\"bin_6\"]  = bins_encoded.T\n",
    "#, data[\"bin_7\"], data[\"bin_8\"],data[\"bin_9\"],data[\"bin_10\"],data[\"bin_11\"]\n",
    "#data[\"(20, 25]\"], data[\"(25, 30]\"], data[\"(30, 35]\"], data[\"(35, 40]\"],data[\"(40, 45]\"],data[\"(45, 50]\"], data[\"(50, 55]\"], data[\"(55, 60]\"],data[\"(60, 65]\"],data[\"(65, 70]\"] = bins_encoded.T\n",
    "#dropping GarageFinish\n",
    "data.drop(columns='binned <2.5 pinacle', inplace=True)\n",
    "\n",
    "##, data[\"(70, 75]\"], data[\"(75, 80]\"],data[\"(80, 85]\"],data[\"(85, 90]\"],data[\"(90, 95]\"], data[\"(95, 100]\"]"
   ]
  },
  {
   "cell_type": "code",
   "execution_count": 24,
   "id": "732361f1",
   "metadata": {},
   "outputs": [],
   "source": [
    "# OneHotEncoder for the years\n",
    "\n",
    "# Instantiate encoder\n",
    "ohe_2 = OneHotEncoder(sparse=False)\n",
    "\n",
    "# Fit encoder\n",
    "ohe_2.fit(data[['year']])\n",
    "# Encode GarageFinish\n",
    "years_encoded = ohe_2.transform(data[['year']])\n",
    "# Transpose encoded Alley back into dataframe\n",
    "data[\"year_1\"], data[\"year_2\"], data[\"year_3\"], data[\"year_4\"]= years_encoded.T \n",
    "#data[\"(20, 25]\"], data[\"(25, 30]\"], data[\"(30, 35]\"], data[\"(35, 40]\"],data[\"(40, 45]\"],data[\"(45, 50]\"], data[\"(50, 55]\"], data[\"(55, 60]\"],data[\"(60, 65]\"],data[\"(65, 70]\"] = bins_encoded.T\n",
    "#dropping GarageFinish\n",
    "data.drop(columns='year', inplace=True)"
   ]
  },
  {
   "cell_type": "markdown",
   "id": "191609f0",
   "metadata": {},
   "source": [
    "### Building the dataset"
   ]
  },
  {
   "cell_type": "code",
   "execution_count": 254,
   "id": "1de12050",
   "metadata": {},
   "outputs": [],
   "source": [
    "testing_years_encoder = data[[\"year_1\",\"year_2\",\"year_3\",\"year_4\",'year']]"
   ]
  },
  {
   "cell_type": "code",
   "execution_count": 263,
   "id": "098c1cf1",
   "metadata": {},
   "outputs": [
    {
     "data": {
      "text/html": [
       "<div>\n",
       "<style scoped>\n",
       "    .dataframe tbody tr th:only-of-type {\n",
       "        vertical-align: middle;\n",
       "    }\n",
       "\n",
       "    .dataframe tbody tr th {\n",
       "        vertical-align: top;\n",
       "    }\n",
       "\n",
       "    .dataframe thead th {\n",
       "        text-align: right;\n",
       "    }\n",
       "</style>\n",
       "<table border=\"1\" class=\"dataframe\">\n",
       "  <thead>\n",
       "    <tr style=\"text-align: right;\">\n",
       "      <th></th>\n",
       "      <th>year_1</th>\n",
       "      <th>year_2</th>\n",
       "      <th>year_3</th>\n",
       "      <th>year_4</th>\n",
       "      <th>year</th>\n",
       "    </tr>\n",
       "  </thead>\n",
       "  <tbody>\n",
       "    <tr>\n",
       "      <th>190</th>\n",
       "      <td>0.0</td>\n",
       "      <td>0.0</td>\n",
       "      <td>0.0</td>\n",
       "      <td>1.0</td>\n",
       "      <td>2022</td>\n",
       "    </tr>\n",
       "    <tr>\n",
       "      <th>191</th>\n",
       "      <td>0.0</td>\n",
       "      <td>0.0</td>\n",
       "      <td>0.0</td>\n",
       "      <td>1.0</td>\n",
       "      <td>2022</td>\n",
       "    </tr>\n",
       "    <tr>\n",
       "      <th>192</th>\n",
       "      <td>0.0</td>\n",
       "      <td>0.0</td>\n",
       "      <td>0.0</td>\n",
       "      <td>1.0</td>\n",
       "      <td>2022</td>\n",
       "    </tr>\n",
       "    <tr>\n",
       "      <th>193</th>\n",
       "      <td>0.0</td>\n",
       "      <td>0.0</td>\n",
       "      <td>0.0</td>\n",
       "      <td>1.0</td>\n",
       "      <td>2022</td>\n",
       "    </tr>\n",
       "    <tr>\n",
       "      <th>194</th>\n",
       "      <td>0.0</td>\n",
       "      <td>0.0</td>\n",
       "      <td>0.0</td>\n",
       "      <td>1.0</td>\n",
       "      <td>2022</td>\n",
       "    </tr>\n",
       "    <tr>\n",
       "      <th>...</th>\n",
       "      <td>...</td>\n",
       "      <td>...</td>\n",
       "      <td>...</td>\n",
       "      <td>...</td>\n",
       "      <td>...</td>\n",
       "    </tr>\n",
       "    <tr>\n",
       "      <th>375</th>\n",
       "      <td>0.0</td>\n",
       "      <td>0.0</td>\n",
       "      <td>0.0</td>\n",
       "      <td>1.0</td>\n",
       "      <td>2022</td>\n",
       "    </tr>\n",
       "    <tr>\n",
       "      <th>376</th>\n",
       "      <td>0.0</td>\n",
       "      <td>0.0</td>\n",
       "      <td>0.0</td>\n",
       "      <td>1.0</td>\n",
       "      <td>2022</td>\n",
       "    </tr>\n",
       "    <tr>\n",
       "      <th>377</th>\n",
       "      <td>0.0</td>\n",
       "      <td>0.0</td>\n",
       "      <td>0.0</td>\n",
       "      <td>1.0</td>\n",
       "      <td>2022</td>\n",
       "    </tr>\n",
       "    <tr>\n",
       "      <th>378</th>\n",
       "      <td>0.0</td>\n",
       "      <td>0.0</td>\n",
       "      <td>0.0</td>\n",
       "      <td>1.0</td>\n",
       "      <td>2022</td>\n",
       "    </tr>\n",
       "    <tr>\n",
       "      <th>379</th>\n",
       "      <td>0.0</td>\n",
       "      <td>0.0</td>\n",
       "      <td>0.0</td>\n",
       "      <td>1.0</td>\n",
       "      <td>2022</td>\n",
       "    </tr>\n",
       "  </tbody>\n",
       "</table>\n",
       "<p>190 rows × 5 columns</p>\n",
       "</div>"
      ],
      "text/plain": [
       "     year_1  year_2  year_3  year_4  year\n",
       "190     0.0     0.0     0.0     1.0  2022\n",
       "191     0.0     0.0     0.0     1.0  2022\n",
       "192     0.0     0.0     0.0     1.0  2022\n",
       "193     0.0     0.0     0.0     1.0  2022\n",
       "194     0.0     0.0     0.0     1.0  2022\n",
       "..      ...     ...     ...     ...   ...\n",
       "375     0.0     0.0     0.0     1.0  2022\n",
       "376     0.0     0.0     0.0     1.0  2022\n",
       "377     0.0     0.0     0.0     1.0  2022\n",
       "378     0.0     0.0     0.0     1.0  2022\n",
       "379     0.0     0.0     0.0     1.0  2022\n",
       "\n",
       "[190 rows x 5 columns]"
      ]
     },
     "execution_count": 263,
     "metadata": {},
     "output_type": "execute_result"
    }
   ],
   "source": [
    "## testing_years_encoder[testing_years_encoder['year']==2022]"
   ]
  },
  {
   "cell_type": "code",
   "execution_count": 277,
   "id": "bcddb893",
   "metadata": {},
   "outputs": [],
   "source": [
    "testing_bins_encoder = data[[\"bin_1\",\"bin_2\",\"bin_3\",\"bin_4\",\"bin_5\",\"bin_6\",'binned <2.5 pinacle']]"
   ]
  },
  {
   "cell_type": "code",
   "execution_count": 281,
   "id": "3b47bb31",
   "metadata": {},
   "outputs": [
    {
     "data": {
      "text/html": [
       "<div>\n",
       "<style scoped>\n",
       "    .dataframe tbody tr th:only-of-type {\n",
       "        vertical-align: middle;\n",
       "    }\n",
       "\n",
       "    .dataframe tbody tr th {\n",
       "        vertical-align: top;\n",
       "    }\n",
       "\n",
       "    .dataframe thead th {\n",
       "        text-align: right;\n",
       "    }\n",
       "</style>\n",
       "<table border=\"1\" class=\"dataframe\">\n",
       "  <thead>\n",
       "    <tr style=\"text-align: right;\">\n",
       "      <th></th>\n",
       "      <th>bin_1</th>\n",
       "      <th>bin_2</th>\n",
       "      <th>bin_3</th>\n",
       "      <th>bin_4</th>\n",
       "      <th>bin_5</th>\n",
       "      <th>bin_6</th>\n",
       "      <th>binned &lt;2.5 pinacle</th>\n",
       "    </tr>\n",
       "  </thead>\n",
       "  <tbody>\n",
       "  </tbody>\n",
       "</table>\n",
       "</div>"
      ],
      "text/plain": [
       "Empty DataFrame\n",
       "Columns: [bin_1, bin_2, bin_3, bin_4, bin_5, bin_6, binned <2.5 pinacle]\n",
       "Index: []"
      ]
     },
     "execution_count": 281,
     "metadata": {},
     "output_type": "execute_result"
    }
   ],
   "source": [
    "testing_bins_encoder[testing_bins_encoder['binned <2.5 pinacle']=='(30, 40]']"
   ]
  },
  {
   "cell_type": "code",
   "execution_count": null,
   "id": "204490e6",
   "metadata": {},
   "outputs": [],
   "source": [
    "### continue here"
   ]
  },
  {
   "cell_type": "code",
   "execution_count": 25,
   "id": "0b732ebf",
   "metadata": {},
   "outputs": [],
   "source": [
    "log_reg_model_raw_data = data[[\"year_1\",\"year_2\",\"year_3\",\"year_4\",\"bin_1\",\"bin_2\",\"bin_3\",\"bin_4\",\"bin_5\",\"bin_6\",'payout_under_2.5_pinacle']]"
   ]
  },
  {
   "cell_type": "code",
   "execution_count": 48,
   "id": "dffa5e27",
   "metadata": {},
   "outputs": [],
   "source": [
    "log_reg_model_raw_data_final = log_reg_model_raw_data.groupby([\"year_1\",\"year_2\",\"year_3\",\"year_4\",\"bin_1\",\"bin_2\",\"bin_3\",\"bin_4\",\"bin_5\",\"bin_6\"]).mean()"
   ]
  },
  {
   "cell_type": "code",
   "execution_count": 49,
   "id": "d426ade3",
   "metadata": {},
   "outputs": [],
   "source": [
    "log_reg_model_raw_data_final_count = log_reg_model_raw_data.groupby([\"year_1\",\"year_2\",\"year_3\",\"year_4\",\"bin_1\",\"bin_2\",\"bin_3\",\"bin_4\",\"bin_5\",\"bin_6\"]).agg(['mean','count'])"
   ]
  },
  {
   "cell_type": "code",
   "execution_count": 53,
   "id": "360dafed",
   "metadata": {},
   "outputs": [],
   "source": [
    "log_reg_model_raw_data_final_count.reset_index(inplace=True)"
   ]
  },
  {
   "cell_type": "code",
   "execution_count": 56,
   "id": "85d6519f",
   "metadata": {},
   "outputs": [
    {
     "data": {
      "text/plain": [
       "MultiIndex([(                  'year_1',      ''),\n",
       "            (                  'year_2',      ''),\n",
       "            (                  'year_3',      ''),\n",
       "            (                  'year_4',      ''),\n",
       "            (                   'bin_1',      ''),\n",
       "            (                   'bin_2',      ''),\n",
       "            (                   'bin_3',      ''),\n",
       "            (                   'bin_4',      ''),\n",
       "            (                   'bin_5',      ''),\n",
       "            (                   'bin_6',      ''),\n",
       "            ('payout_under_2.5_pinacle',  'mean'),\n",
       "            ('payout_under_2.5_pinacle', 'count')],\n",
       "           )"
      ]
     },
     "execution_count": 56,
     "metadata": {},
     "output_type": "execute_result"
    }
   ],
   "source": [
    "log_reg_model_raw_data_final_count.columns"
   ]
  },
  {
   "cell_type": "code",
   "execution_count": 58,
   "id": "f8dc7adc",
   "metadata": {},
   "outputs": [],
   "source": [
    "log_reg_model_raw_data_final_count_2 = log_reg_model_raw_data_final_count[log_reg_model_raw_data_final_count['payout_under_2.5_pinacle', 'count']>30]"
   ]
  },
  {
   "cell_type": "code",
   "execution_count": 78,
   "id": "847127c3",
   "metadata": {},
   "outputs": [
    {
     "data": {
      "text/html": [
       "<div>\n",
       "<style scoped>\n",
       "    .dataframe tbody tr th:only-of-type {\n",
       "        vertical-align: middle;\n",
       "    }\n",
       "\n",
       "    .dataframe tbody tr th {\n",
       "        vertical-align: top;\n",
       "    }\n",
       "\n",
       "    .dataframe thead tr th {\n",
       "        text-align: left;\n",
       "    }\n",
       "</style>\n",
       "<table border=\"1\" class=\"dataframe\">\n",
       "  <thead>\n",
       "    <tr>\n",
       "      <th></th>\n",
       "      <th>year_1</th>\n",
       "      <th>year_2</th>\n",
       "      <th>year_3</th>\n",
       "      <th>year_4</th>\n",
       "      <th>bin_1</th>\n",
       "      <th>bin_2</th>\n",
       "      <th>bin_3</th>\n",
       "      <th>bin_4</th>\n",
       "      <th>bin_5</th>\n",
       "      <th>bin_6</th>\n",
       "      <th colspan=\"2\" halign=\"left\">payout_under_2.5_pinacle</th>\n",
       "    </tr>\n",
       "    <tr>\n",
       "      <th></th>\n",
       "      <th></th>\n",
       "      <th></th>\n",
       "      <th></th>\n",
       "      <th></th>\n",
       "      <th></th>\n",
       "      <th></th>\n",
       "      <th></th>\n",
       "      <th></th>\n",
       "      <th></th>\n",
       "      <th></th>\n",
       "      <th>mean</th>\n",
       "      <th>count</th>\n",
       "    </tr>\n",
       "  </thead>\n",
       "  <tbody>\n",
       "    <tr>\n",
       "      <th>1</th>\n",
       "      <td>0.0</td>\n",
       "      <td>0.0</td>\n",
       "      <td>0.0</td>\n",
       "      <td>1.0</td>\n",
       "      <td>0.0</td>\n",
       "      <td>0.0</td>\n",
       "      <td>0.0</td>\n",
       "      <td>1.0</td>\n",
       "      <td>0.0</td>\n",
       "      <td>0.0</td>\n",
       "      <td>0.921507</td>\n",
       "      <td>73</td>\n",
       "    </tr>\n",
       "    <tr>\n",
       "      <th>5</th>\n",
       "      <td>0.0</td>\n",
       "      <td>0.0</td>\n",
       "      <td>1.0</td>\n",
       "      <td>0.0</td>\n",
       "      <td>0.0</td>\n",
       "      <td>0.0</td>\n",
       "      <td>0.0</td>\n",
       "      <td>1.0</td>\n",
       "      <td>0.0</td>\n",
       "      <td>0.0</td>\n",
       "      <td>1.008421</td>\n",
       "      <td>209</td>\n",
       "    </tr>\n",
       "    <tr>\n",
       "      <th>11</th>\n",
       "      <td>0.0</td>\n",
       "      <td>1.0</td>\n",
       "      <td>0.0</td>\n",
       "      <td>0.0</td>\n",
       "      <td>0.0</td>\n",
       "      <td>0.0</td>\n",
       "      <td>0.0</td>\n",
       "      <td>1.0</td>\n",
       "      <td>0.0</td>\n",
       "      <td>0.0</td>\n",
       "      <td>0.910870</td>\n",
       "      <td>92</td>\n",
       "    </tr>\n",
       "    <tr>\n",
       "      <th>16</th>\n",
       "      <td>1.0</td>\n",
       "      <td>0.0</td>\n",
       "      <td>0.0</td>\n",
       "      <td>0.0</td>\n",
       "      <td>0.0</td>\n",
       "      <td>0.0</td>\n",
       "      <td>0.0</td>\n",
       "      <td>1.0</td>\n",
       "      <td>0.0</td>\n",
       "      <td>0.0</td>\n",
       "      <td>0.987500</td>\n",
       "      <td>48</td>\n",
       "    </tr>\n",
       "  </tbody>\n",
       "</table>\n",
       "</div>"
      ],
      "text/plain": [
       "   year_1 year_2 year_3 year_4 bin_1 bin_2 bin_3 bin_4 bin_5 bin_6  \\\n",
       "                                                                     \n",
       "1     0.0    0.0    0.0    1.0   0.0   0.0   0.0   1.0   0.0   0.0   \n",
       "5     0.0    0.0    1.0    0.0   0.0   0.0   0.0   1.0   0.0   0.0   \n",
       "11    0.0    1.0    0.0    0.0   0.0   0.0   0.0   1.0   0.0   0.0   \n",
       "16    1.0    0.0    0.0    0.0   0.0   0.0   0.0   1.0   0.0   0.0   \n",
       "\n",
       "   payout_under_2.5_pinacle        \n",
       "                       mean count  \n",
       "1                  0.921507    73  \n",
       "5                  1.008421   209  \n",
       "11                 0.910870    92  \n",
       "16                 0.987500    48  "
      ]
     },
     "execution_count": 78,
     "metadata": {},
     "output_type": "execute_result"
    }
   ],
   "source": [
    "log_reg_model_raw_data_final_count_2[log_reg_model_raw_data_final_count_2['bin_4']==1]"
   ]
  },
  {
   "cell_type": "code",
   "execution_count": 27,
   "id": "67677ef6",
   "metadata": {
    "scrolled": true
   },
   "outputs": [],
   "source": [
    "log_reg_model_raw_data_final = log_reg_model_raw_data_final.reset_index()"
   ]
  },
  {
   "cell_type": "code",
   "execution_count": 28,
   "id": "02f7454a",
   "metadata": {},
   "outputs": [],
   "source": [
    "log_reg_model_raw_data_final['payout_is_greater_1'] = log_reg_model_raw_data_final['payout_under_2.5_pinacle']>1"
   ]
  },
  {
   "cell_type": "code",
   "execution_count": 29,
   "id": "431b3feb",
   "metadata": {},
   "outputs": [],
   "source": [
    "log_reg_model_raw_data_final['payout_is_greater_1'] = log_reg_model_raw_data_final['payout_is_greater_1'].astype(int)"
   ]
  },
  {
   "cell_type": "markdown",
   "id": "730f41d7",
   "metadata": {},
   "source": [
    "### Running the Logistic Regression"
   ]
  },
  {
   "cell_type": "code",
   "execution_count": 30,
   "id": "f95373ff",
   "metadata": {},
   "outputs": [],
   "source": [
    "%load_ext autoreload\n",
    "%autoreload 2"
   ]
  },
  {
   "cell_type": "code",
   "execution_count": 31,
   "id": "df53abb0",
   "metadata": {},
   "outputs": [],
   "source": [
    "import pandas as pd\n",
    "import seaborn as sns\n",
    "import statsmodels.api as sm\n",
    "import statsmodels.formula.api as smf\n",
    "import matplotlib.pyplot as plt\n",
    "from statsmodels.stats.outliers_influence import variance_inflation_factor as vif"
   ]
  },
  {
   "cell_type": "code",
   "execution_count": 43,
   "id": "918c7ada",
   "metadata": {},
   "outputs": [
    {
     "data": {
      "text/html": [
       "<div>\n",
       "<style scoped>\n",
       "    .dataframe tbody tr th:only-of-type {\n",
       "        vertical-align: middle;\n",
       "    }\n",
       "\n",
       "    .dataframe tbody tr th {\n",
       "        vertical-align: top;\n",
       "    }\n",
       "\n",
       "    .dataframe thead th {\n",
       "        text-align: right;\n",
       "    }\n",
       "</style>\n",
       "<table border=\"1\" class=\"dataframe\">\n",
       "  <thead>\n",
       "    <tr style=\"text-align: right;\">\n",
       "      <th></th>\n",
       "      <th>year_1</th>\n",
       "      <th>year_2</th>\n",
       "      <th>year_3</th>\n",
       "      <th>year_4</th>\n",
       "      <th>bin_1</th>\n",
       "      <th>bin_2</th>\n",
       "      <th>bin_3</th>\n",
       "      <th>bin_4</th>\n",
       "      <th>bin_5</th>\n",
       "      <th>bin_6</th>\n",
       "      <th>payout_under_2.5_pinacle</th>\n",
       "      <th>payout_is_greater_1</th>\n",
       "    </tr>\n",
       "  </thead>\n",
       "  <tbody>\n",
       "    <tr>\n",
       "      <th>0</th>\n",
       "      <td>0.0</td>\n",
       "      <td>0.0</td>\n",
       "      <td>0.0</td>\n",
       "      <td>1.0</td>\n",
       "      <td>0.0</td>\n",
       "      <td>0.0</td>\n",
       "      <td>0.0</td>\n",
       "      <td>0.0</td>\n",
       "      <td>1.0</td>\n",
       "      <td>0.0</td>\n",
       "      <td>0.800000</td>\n",
       "      <td>0</td>\n",
       "    </tr>\n",
       "    <tr>\n",
       "      <th>4</th>\n",
       "      <td>0.0</td>\n",
       "      <td>0.0</td>\n",
       "      <td>1.0</td>\n",
       "      <td>0.0</td>\n",
       "      <td>0.0</td>\n",
       "      <td>0.0</td>\n",
       "      <td>0.0</td>\n",
       "      <td>0.0</td>\n",
       "      <td>1.0</td>\n",
       "      <td>0.0</td>\n",
       "      <td>0.761333</td>\n",
       "      <td>0</td>\n",
       "    </tr>\n",
       "    <tr>\n",
       "      <th>10</th>\n",
       "      <td>0.0</td>\n",
       "      <td>1.0</td>\n",
       "      <td>0.0</td>\n",
       "      <td>0.0</td>\n",
       "      <td>0.0</td>\n",
       "      <td>0.0</td>\n",
       "      <td>0.0</td>\n",
       "      <td>0.0</td>\n",
       "      <td>1.0</td>\n",
       "      <td>0.0</td>\n",
       "      <td>1.296000</td>\n",
       "      <td>1</td>\n",
       "    </tr>\n",
       "    <tr>\n",
       "      <th>15</th>\n",
       "      <td>1.0</td>\n",
       "      <td>0.0</td>\n",
       "      <td>0.0</td>\n",
       "      <td>0.0</td>\n",
       "      <td>0.0</td>\n",
       "      <td>0.0</td>\n",
       "      <td>0.0</td>\n",
       "      <td>0.0</td>\n",
       "      <td>1.0</td>\n",
       "      <td>0.0</td>\n",
       "      <td>0.510000</td>\n",
       "      <td>0</td>\n",
       "    </tr>\n",
       "  </tbody>\n",
       "</table>\n",
       "</div>"
      ],
      "text/plain": [
       "    year_1  year_2  year_3  year_4  bin_1  bin_2  bin_3  bin_4  bin_5  bin_6  \\\n",
       "0      0.0     0.0     0.0     1.0    0.0    0.0    0.0    0.0    1.0    0.0   \n",
       "4      0.0     0.0     1.0     0.0    0.0    0.0    0.0    0.0    1.0    0.0   \n",
       "10     0.0     1.0     0.0     0.0    0.0    0.0    0.0    0.0    1.0    0.0   \n",
       "15     1.0     0.0     0.0     0.0    0.0    0.0    0.0    0.0    1.0    0.0   \n",
       "\n",
       "    payout_under_2.5_pinacle  payout_is_greater_1  \n",
       "0                   0.800000                    0  \n",
       "4                   0.761333                    0  \n",
       "10                  1.296000                    1  \n",
       "15                  0.510000                    0  "
      ]
     },
     "execution_count": 43,
     "metadata": {},
     "output_type": "execute_result"
    }
   ],
   "source": [
    "log_reg_model_raw_data_final[log_reg_model_raw_data_final['bin_5']==1.0]"
   ]
  },
  {
   "cell_type": "code",
   "execution_count": 32,
   "id": "25a272e2",
   "metadata": {},
   "outputs": [
    {
     "name": "stdout",
     "output_type": "stream",
     "text": [
      "Warning: Maximum number of iterations has been exceeded.\n",
      "         Current function value: 0.362311\n",
      "         Iterations: 35\n"
     ]
    },
    {
     "name": "stderr",
     "output_type": "stream",
     "text": [
      "/home/jonathan/.pyenv/versions/3.8.12/envs/OnThePitch/lib/python3.8/site-packages/statsmodels/base/model.py:604: ConvergenceWarning: Maximum Likelihood optimization failed to converge. Check mle_retvals\n",
      "  warnings.warn(\"Maximum Likelihood optimization failed to \"\n"
     ]
    },
    {
     "data": {
      "text/html": [
       "<table class=\"simpletable\">\n",
       "<caption>Logit Regression Results</caption>\n",
       "<tr>\n",
       "  <th>Dep. Variable:</th>   <td>payout_is_greater_1</td> <th>  No. Observations:  </th>  <td>    20</td> \n",
       "</tr>\n",
       "<tr>\n",
       "  <th>Model:</th>                  <td>Logit</td>        <th>  Df Residuals:      </th>  <td>    11</td> \n",
       "</tr>\n",
       "<tr>\n",
       "  <th>Method:</th>                  <td>MLE</td>         <th>  Df Model:          </th>  <td>     8</td> \n",
       "</tr>\n",
       "<tr>\n",
       "  <th>Date:</th>             <td>Wed, 01 Jun 2022</td>   <th>  Pseudo R-squ.:     </th>  <td>0.3557</td> \n",
       "</tr>\n",
       "<tr>\n",
       "  <th>Time:</th>                 <td>00:33:19</td>       <th>  Log-Likelihood:    </th> <td> -7.2462</td>\n",
       "</tr>\n",
       "<tr>\n",
       "  <th>converged:</th>              <td>False</td>        <th>  LL-Null:           </th> <td> -11.247</td>\n",
       "</tr>\n",
       "<tr>\n",
       "  <th>Covariance Type:</th>      <td>nonrobust</td>      <th>  LLR p-value:       </th>  <td>0.4334</td> \n",
       "</tr>\n",
       "</table>\n",
       "<table class=\"simpletable\">\n",
       "<tr>\n",
       "      <td></td>         <th>coef</th>     <th>std err</th>      <th>z</th>      <th>P>|z|</th>  <th>[0.025</th>    <th>0.975]</th>  \n",
       "</tr>\n",
       "<tr>\n",
       "  <th>Intercept</th> <td>  -10.8028</td> <td> 3.47e+07</td> <td>-3.11e-07</td> <td> 1.000</td> <td> -6.8e+07</td> <td>  6.8e+07</td>\n",
       "</tr>\n",
       "<tr>\n",
       "  <th>year_1</th>    <td>  -22.3659</td> <td>      nan</td> <td>      nan</td> <td>   nan</td> <td>      nan</td> <td>      nan</td>\n",
       "</tr>\n",
       "<tr>\n",
       "  <th>year_2</th>    <td>    4.2605</td> <td>      nan</td> <td>      nan</td> <td>   nan</td> <td>      nan</td> <td>      nan</td>\n",
       "</tr>\n",
       "<tr>\n",
       "  <th>year_3</th>    <td>    4.2605</td> <td>      nan</td> <td>      nan</td> <td>   nan</td> <td>      nan</td> <td>      nan</td>\n",
       "</tr>\n",
       "<tr>\n",
       "  <th>year_4</th>    <td>    3.0421</td> <td>      nan</td> <td>      nan</td> <td>   nan</td> <td>      nan</td> <td>      nan</td>\n",
       "</tr>\n",
       "<tr>\n",
       "  <th>bin_1</th>     <td>  -18.5362</td> <td>      nan</td> <td>      nan</td> <td>   nan</td> <td>      nan</td> <td>      nan</td>\n",
       "</tr>\n",
       "<tr>\n",
       "  <th>bin_2</th>     <td>    6.1935</td> <td>      nan</td> <td>      nan</td> <td>   nan</td> <td>      nan</td> <td>      nan</td>\n",
       "</tr>\n",
       "<tr>\n",
       "  <th>bin_3</th>     <td>    7.6891</td> <td>      nan</td> <td>      nan</td> <td>   nan</td> <td>      nan</td> <td>      nan</td>\n",
       "</tr>\n",
       "<tr>\n",
       "  <th>bin_4</th>     <td>    6.1935</td> <td>      nan</td> <td>      nan</td> <td>   nan</td> <td>      nan</td> <td>      nan</td>\n",
       "</tr>\n",
       "<tr>\n",
       "  <th>bin_5</th>     <td>    6.1935</td> <td>      nan</td> <td>      nan</td> <td>   nan</td> <td>      nan</td> <td>      nan</td>\n",
       "</tr>\n",
       "<tr>\n",
       "  <th>bin_6</th>     <td>  -18.5362</td> <td>      nan</td> <td>      nan</td> <td>   nan</td> <td>      nan</td> <td>      nan</td>\n",
       "</tr>\n",
       "</table><br/><br/>Possibly complete quasi-separation: A fraction 0.40 of observations can be<br/>perfectly predicted. This might indicate that there is complete<br/>quasi-separation. In this case some parameters will not be identified."
      ],
      "text/plain": [
       "<class 'statsmodels.iolib.summary.Summary'>\n",
       "\"\"\"\n",
       "                            Logit Regression Results                           \n",
       "===============================================================================\n",
       "Dep. Variable:     payout_is_greater_1   No. Observations:                   20\n",
       "Model:                           Logit   Df Residuals:                       11\n",
       "Method:                            MLE   Df Model:                            8\n",
       "Date:                 Wed, 01 Jun 2022   Pseudo R-squ.:                  0.3557\n",
       "Time:                         00:33:19   Log-Likelihood:                -7.2462\n",
       "converged:                       False   LL-Null:                       -11.247\n",
       "Covariance Type:             nonrobust   LLR p-value:                    0.4334\n",
       "==============================================================================\n",
       "                 coef    std err          z      P>|z|      [0.025      0.975]\n",
       "------------------------------------------------------------------------------\n",
       "Intercept    -10.8028   3.47e+07  -3.11e-07      1.000    -6.8e+07     6.8e+07\n",
       "year_1       -22.3659        nan        nan        nan         nan         nan\n",
       "year_2         4.2605        nan        nan        nan         nan         nan\n",
       "year_3         4.2605        nan        nan        nan         nan         nan\n",
       "year_4         3.0421        nan        nan        nan         nan         nan\n",
       "bin_1        -18.5362        nan        nan        nan         nan         nan\n",
       "bin_2          6.1935        nan        nan        nan         nan         nan\n",
       "bin_3          7.6891        nan        nan        nan         nan         nan\n",
       "bin_4          6.1935        nan        nan        nan         nan         nan\n",
       "bin_5          6.1935        nan        nan        nan         nan         nan\n",
       "bin_6        -18.5362        nan        nan        nan         nan         nan\n",
       "==============================================================================\n",
       "\n",
       "Possibly complete quasi-separation: A fraction 0.40 of observations can be\n",
       "perfectly predicted. This might indicate that there is complete\n",
       "quasi-separation. In this case some parameters will not be identified.\n",
       "\"\"\""
      ]
     },
     "execution_count": 32,
     "metadata": {},
     "output_type": "execute_result"
    }
   ],
   "source": [
    "logit_one = smf.logit(formula='payout_is_greater_1 ~ year_1 + year_2 + year_3 + year_4 + bin_1 + bin_2 + bin_3 + bin_4 + bin_5 + bin_6', data=log_reg_model_raw_data_final).fit();\n",
    "logit_one.params\n",
    "logit_one.summary()"
   ]
  },
  {
   "cell_type": "code",
   "execution_count": null,
   "id": "e65b4e6c",
   "metadata": {},
   "outputs": [],
   "source": []
  }
 ],
 "metadata": {
  "kernelspec": {
   "display_name": "Python 3 (ipykernel)",
   "language": "python",
   "name": "python3"
  },
  "language_info": {
   "codemirror_mode": {
    "name": "ipython",
    "version": 3
   },
   "file_extension": ".py",
   "mimetype": "text/x-python",
   "name": "python",
   "nbconvert_exporter": "python",
   "pygments_lexer": "ipython3",
   "version": "3.8.12"
  },
  "toc": {
   "base_numbering": 1,
   "nav_menu": {},
   "number_sections": true,
   "sideBar": true,
   "skip_h1_title": false,
   "title_cell": "Table of Contents",
   "title_sidebar": "Contents",
   "toc_cell": false,
   "toc_position": {},
   "toc_section_display": true,
   "toc_window_display": true
  },
  "varInspector": {
   "cols": {
    "lenName": 16,
    "lenType": 16,
    "lenVar": 40
   },
   "kernels_config": {
    "python": {
     "delete_cmd_postfix": "",
     "delete_cmd_prefix": "del ",
     "library": "var_list.py",
     "varRefreshCmd": "print(var_dic_list())"
    },
    "r": {
     "delete_cmd_postfix": ") ",
     "delete_cmd_prefix": "rm(",
     "library": "var_list.r",
     "varRefreshCmd": "cat(var_dic_list()) "
    }
   },
   "types_to_exclude": [
    "module",
    "function",
    "builtin_function_or_method",
    "instance",
    "_Feature"
   ],
   "window_display": false
  }
 },
 "nbformat": 4,
 "nbformat_minor": 5
}
