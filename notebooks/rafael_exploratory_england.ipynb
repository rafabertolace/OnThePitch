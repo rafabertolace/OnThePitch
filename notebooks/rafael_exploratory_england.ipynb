{
 "cells": [
  {
   "cell_type": "markdown",
   "id": "d1816ff7",
   "metadata": {},
   "source": [
    "## Imports"
   ]
  },
  {
   "cell_type": "code",
   "execution_count": 1,
   "id": "06e1f50a",
   "metadata": {},
   "outputs": [],
   "source": [
    "import pandas as pd\n",
    "from os import listdir\n",
    "from os.path import isfile, join\n",
    "import matplotlib.pyplot as plt  \n",
    "plt.style.use('dark_background')"
   ]
  },
  {
   "cell_type": "markdown",
   "id": "b295e690",
   "metadata": {},
   "source": [
    "## Loading the Dataframe"
   ]
  },
  {
   "cell_type": "code",
   "execution_count": 2,
   "id": "b95d2a37",
   "metadata": {},
   "outputs": [
    {
     "data": {
      "text/plain": [
       "'/home/rafael/code/rafabertolace/OnThePitch/notebooks'"
      ]
     },
     "execution_count": 2,
     "metadata": {},
     "output_type": "execute_result"
    }
   ],
   "source": [
    "pwd"
   ]
  },
  {
   "cell_type": "markdown",
   "id": "3fa4f75c",
   "metadata": {},
   "source": [
    "### Merging the Seasons csv files (2019-2020 untill 2021-2022)"
   ]
  },
  {
   "cell_type": "code",
   "execution_count": 3,
   "id": "39b6d4af",
   "metadata": {},
   "outputs": [
    {
     "name": "stdout",
     "output_type": "stream",
     "text": [
      "['Premier League - 2020-2021.csv', 'Premier League - 2019-2020.csv', 'Premier League - 2021-2022.csv']\n"
     ]
    }
   ],
   "source": [
    "print(os.listdir('./../raw_data/England'))"
   ]
  },
  {
   "cell_type": "code",
   "execution_count": 4,
   "id": "2208c966",
   "metadata": {},
   "outputs": [],
   "source": [
    "files = [file for file in os.listdir('./../raw_data/England')]\n",
    "data = pd.DataFrame()\n",
    "\n",
    "\n",
    "for file in files:\n",
    "    df = pd.read_csv('./../raw_data/England/'+file)\n",
    "    data = pd.concat([data, df])"
   ]
  },
  {
   "cell_type": "code",
   "execution_count": 5,
   "id": "c932f0b1",
   "metadata": {},
   "outputs": [
    {
     "data": {
      "text/html": [
       "<div>\n",
       "<style scoped>\n",
       "    .dataframe tbody tr th:only-of-type {\n",
       "        vertical-align: middle;\n",
       "    }\n",
       "\n",
       "    .dataframe tbody tr th {\n",
       "        vertical-align: top;\n",
       "    }\n",
       "\n",
       "    .dataframe thead th {\n",
       "        text-align: right;\n",
       "    }\n",
       "</style>\n",
       "<table border=\"1\" class=\"dataframe\">\n",
       "  <thead>\n",
       "    <tr style=\"text-align: right;\">\n",
       "      <th></th>\n",
       "      <th>Div</th>\n",
       "      <th>Date</th>\n",
       "      <th>Time</th>\n",
       "      <th>HomeTeam</th>\n",
       "      <th>AwayTeam</th>\n",
       "      <th>FTHG</th>\n",
       "      <th>FTAG</th>\n",
       "      <th>FTR</th>\n",
       "      <th>HTHG</th>\n",
       "      <th>HTAG</th>\n",
       "      <th>...</th>\n",
       "      <th>AvgC&lt;2.5</th>\n",
       "      <th>AHCh</th>\n",
       "      <th>B365CAHH</th>\n",
       "      <th>B365CAHA</th>\n",
       "      <th>PCAHH</th>\n",
       "      <th>PCAHA</th>\n",
       "      <th>MaxCAHH</th>\n",
       "      <th>MaxCAHA</th>\n",
       "      <th>AvgCAHH</th>\n",
       "      <th>AvgCAHA</th>\n",
       "    </tr>\n",
       "  </thead>\n",
       "  <tbody>\n",
       "    <tr>\n",
       "      <th>0</th>\n",
       "      <td>E0</td>\n",
       "      <td>12/09/2020</td>\n",
       "      <td>12:30</td>\n",
       "      <td>Fulham</td>\n",
       "      <td>Arsenal</td>\n",
       "      <td>0</td>\n",
       "      <td>3</td>\n",
       "      <td>A</td>\n",
       "      <td>0</td>\n",
       "      <td>1</td>\n",
       "      <td>...</td>\n",
       "      <td>1.84</td>\n",
       "      <td>0.75</td>\n",
       "      <td>2.01</td>\n",
       "      <td>1.89</td>\n",
       "      <td>2.02</td>\n",
       "      <td>1.91</td>\n",
       "      <td>2.13</td>\n",
       "      <td>1.92</td>\n",
       "      <td>2.02</td>\n",
       "      <td>1.87</td>\n",
       "    </tr>\n",
       "    <tr>\n",
       "      <th>1</th>\n",
       "      <td>E0</td>\n",
       "      <td>12/09/2020</td>\n",
       "      <td>15:00</td>\n",
       "      <td>Crystal Palace</td>\n",
       "      <td>Southampton</td>\n",
       "      <td>1</td>\n",
       "      <td>0</td>\n",
       "      <td>H</td>\n",
       "      <td>1</td>\n",
       "      <td>0</td>\n",
       "      <td>...</td>\n",
       "      <td>1.70</td>\n",
       "      <td>0.25</td>\n",
       "      <td>1.78</td>\n",
       "      <td>2.13</td>\n",
       "      <td>1.79</td>\n",
       "      <td>2.17</td>\n",
       "      <td>1.85</td>\n",
       "      <td>2.18</td>\n",
       "      <td>1.79</td>\n",
       "      <td>2.12</td>\n",
       "    </tr>\n",
       "    <tr>\n",
       "      <th>2</th>\n",
       "      <td>E0</td>\n",
       "      <td>12/09/2020</td>\n",
       "      <td>17:30</td>\n",
       "      <td>Liverpool</td>\n",
       "      <td>Leeds</td>\n",
       "      <td>4</td>\n",
       "      <td>3</td>\n",
       "      <td>H</td>\n",
       "      <td>3</td>\n",
       "      <td>2</td>\n",
       "      <td>...</td>\n",
       "      <td>2.62</td>\n",
       "      <td>-1.50</td>\n",
       "      <td>1.85</td>\n",
       "      <td>2.05</td>\n",
       "      <td>1.85</td>\n",
       "      <td>2.08</td>\n",
       "      <td>1.90</td>\n",
       "      <td>2.16</td>\n",
       "      <td>1.84</td>\n",
       "      <td>2.04</td>\n",
       "    </tr>\n",
       "    <tr>\n",
       "      <th>3</th>\n",
       "      <td>E0</td>\n",
       "      <td>12/09/2020</td>\n",
       "      <td>20:00</td>\n",
       "      <td>West Ham</td>\n",
       "      <td>Newcastle</td>\n",
       "      <td>0</td>\n",
       "      <td>2</td>\n",
       "      <td>A</td>\n",
       "      <td>0</td>\n",
       "      <td>0</td>\n",
       "      <td>...</td>\n",
       "      <td>1.92</td>\n",
       "      <td>-0.50</td>\n",
       "      <td>2.03</td>\n",
       "      <td>1.87</td>\n",
       "      <td>2.04</td>\n",
       "      <td>1.88</td>\n",
       "      <td>2.09</td>\n",
       "      <td>1.91</td>\n",
       "      <td>2.02</td>\n",
       "      <td>1.86</td>\n",
       "    </tr>\n",
       "    <tr>\n",
       "      <th>4</th>\n",
       "      <td>E0</td>\n",
       "      <td>13/09/2020</td>\n",
       "      <td>14:00</td>\n",
       "      <td>West Brom</td>\n",
       "      <td>Leicester</td>\n",
       "      <td>0</td>\n",
       "      <td>3</td>\n",
       "      <td>A</td>\n",
       "      <td>0</td>\n",
       "      <td>0</td>\n",
       "      <td>...</td>\n",
       "      <td>1.73</td>\n",
       "      <td>0.25</td>\n",
       "      <td>1.92</td>\n",
       "      <td>1.98</td>\n",
       "      <td>1.93</td>\n",
       "      <td>1.99</td>\n",
       "      <td>1.95</td>\n",
       "      <td>2.01</td>\n",
       "      <td>1.91</td>\n",
       "      <td>1.97</td>\n",
       "    </tr>\n",
       "  </tbody>\n",
       "</table>\n",
       "<p>5 rows × 106 columns</p>\n",
       "</div>"
      ],
      "text/plain": [
       "  Div        Date   Time        HomeTeam     AwayTeam  FTHG  FTAG FTR  HTHG  \\\n",
       "0  E0  12/09/2020  12:30          Fulham      Arsenal     0     3   A     0   \n",
       "1  E0  12/09/2020  15:00  Crystal Palace  Southampton     1     0   H     1   \n",
       "2  E0  12/09/2020  17:30       Liverpool        Leeds     4     3   H     3   \n",
       "3  E0  12/09/2020  20:00        West Ham    Newcastle     0     2   A     0   \n",
       "4  E0  13/09/2020  14:00       West Brom    Leicester     0     3   A     0   \n",
       "\n",
       "   HTAG  ... AvgC<2.5  AHCh  B365CAHH  B365CAHA  PCAHH  PCAHA  MaxCAHH  \\\n",
       "0     1  ...     1.84  0.75      2.01      1.89   2.02   1.91     2.13   \n",
       "1     0  ...     1.70  0.25      1.78      2.13   1.79   2.17     1.85   \n",
       "2     2  ...     2.62 -1.50      1.85      2.05   1.85   2.08     1.90   \n",
       "3     0  ...     1.92 -0.50      2.03      1.87   2.04   1.88     2.09   \n",
       "4     0  ...     1.73  0.25      1.92      1.98   1.93   1.99     1.95   \n",
       "\n",
       "   MaxCAHA  AvgCAHH  AvgCAHA  \n",
       "0     1.92     2.02     1.87  \n",
       "1     2.18     1.79     2.12  \n",
       "2     2.16     1.84     2.04  \n",
       "3     1.91     2.02     1.86  \n",
       "4     2.01     1.91     1.97  \n",
       "\n",
       "[5 rows x 106 columns]"
      ]
     },
     "execution_count": 5,
     "metadata": {},
     "output_type": "execute_result"
    }
   ],
   "source": [
    "data.head()"
   ]
  },
  {
   "cell_type": "code",
   "execution_count": 6,
   "id": "fe07720d",
   "metadata": {},
   "outputs": [
    {
     "name": "stdout",
     "output_type": "stream",
     "text": [
      "Div\n",
      "Date\n",
      "Time\n",
      "HomeTeam\n",
      "AwayTeam\n",
      "FTHG\n",
      "FTAG\n",
      "FTR\n",
      "HTHG\n",
      "HTAG\n",
      "HTR\n",
      "Referee\n",
      "HS\n",
      "AS\n",
      "HST\n",
      "AST\n",
      "HF\n",
      "AF\n",
      "HC\n",
      "AC\n",
      "HY\n",
      "AY\n",
      "HR\n",
      "AR\n",
      "B365H\n",
      "B365D\n",
      "B365A\n",
      "BWH\n",
      "BWD\n",
      "BWA\n",
      "IWH\n",
      "IWD\n",
      "IWA\n",
      "PSH\n",
      "PSD\n",
      "PSA\n",
      "WHH\n",
      "WHD\n",
      "WHA\n",
      "VCH\n",
      "VCD\n",
      "VCA\n",
      "MaxH\n",
      "MaxD\n",
      "MaxA\n",
      "AvgH\n",
      "AvgD\n",
      "AvgA\n",
      "B365>2.5\n",
      "B365<2.5\n",
      "P>2.5\n",
      "P<2.5\n",
      "Max>2.5\n",
      "Max<2.5\n",
      "Avg>2.5\n",
      "Avg<2.5\n",
      "AHh\n",
      "B365AHH\n",
      "B365AHA\n",
      "PAHH\n",
      "PAHA\n",
      "MaxAHH\n",
      "MaxAHA\n",
      "AvgAHH\n",
      "AvgAHA\n",
      "B365CH\n",
      "B365CD\n",
      "B365CA\n",
      "BWCH\n",
      "BWCD\n",
      "BWCA\n",
      "IWCH\n",
      "IWCD\n",
      "IWCA\n",
      "PSCH\n",
      "PSCD\n",
      "PSCA\n",
      "WHCH\n",
      "WHCD\n",
      "WHCA\n",
      "VCCH\n",
      "VCCD\n",
      "VCCA\n",
      "MaxCH\n",
      "MaxCD\n",
      "MaxCA\n",
      "AvgCH\n",
      "AvgCD\n",
      "AvgCA\n",
      "B365C>2.5\n",
      "B365C<2.5\n",
      "PC>2.5\n",
      "PC<2.5\n",
      "MaxC>2.5\n",
      "MaxC<2.5\n",
      "AvgC>2.5\n",
      "AvgC<2.5\n",
      "AHCh\n",
      "B365CAHH\n",
      "B365CAHA\n",
      "PCAHH\n",
      "PCAHA\n",
      "MaxCAHH\n",
      "MaxCAHA\n",
      "AvgCAHH\n",
      "AvgCAHA\n"
     ]
    }
   ],
   "source": [
    "for col_name in data.columns: \n",
    "    print(col_name)"
   ]
  },
  {
   "cell_type": "code",
   "execution_count": 7,
   "id": "8c5821c7",
   "metadata": {},
   "outputs": [],
   "source": [
    "# data_date_2 = pd.to_datetime(data_date, dayfirst = True)"
   ]
  },
  {
   "cell_type": "markdown",
   "id": "32c8ad8d",
   "metadata": {},
   "source": [
    "## Features Engineering"
   ]
  },
  {
   "cell_type": "markdown",
   "id": "c84939f7",
   "metadata": {},
   "source": [
    "### Number of Goals, Over and Under"
   ]
  },
  {
   "cell_type": "code",
   "execution_count": 8,
   "id": "fed74758",
   "metadata": {},
   "outputs": [],
   "source": [
    "# total number of goals = goals from the home team + goals from visiting team\n",
    "data['nb_goals']=data['FTHG']+data['FTAG']\n",
    "\n",
    "# boolean: true or false regarding whether they were more than 2.5 goals\n",
    "data['over_2.5_goals']=data['nb_goals']>2.5\n",
    "\n",
    "# boolean: true or false regarding whether they were less than 2.5 goals\n",
    "data['under_2.5_goals']=data['nb_goals']<2.5"
   ]
  },
  {
   "cell_type": "markdown",
   "id": "3ffc1554",
   "metadata": {},
   "source": [
    "### Payout Average"
   ]
  },
  {
   "cell_type": "markdown",
   "id": "466f6de3",
   "metadata": {},
   "source": [
    "  Payout of betting on over/under 2.5 goals: we get 0 if we lose the bet, we get the Avg if we win the bet (Avg = market average of the odds)\n"
   ]
  },
  {
   "cell_type": "code",
   "execution_count": 9,
   "id": "4b10653e",
   "metadata": {},
   "outputs": [],
   "source": [
    "# payout under 2.5 for Average OPENING odds\n",
    "data['payout_avg_under_2.5'] = data['under_2.5_goals']*data['Avg<2.5']\n",
    "\n",
    "# payout over 2.5 for Average OPENING odds\n",
    "data['payout_avg_over_2.5'] = data['over_2.5_goals']*data['Avg>2.5']\n",
    "\n",
    "# payout under 2.5 for Average CLOSING odds\n",
    "data['payout_avg_under_closing_2.5'] = data['under_2.5_goals']*data['AvgC<2.5']\n",
    "\n",
    "# payout over 2.5 for Average CLOSING odds\n",
    "data['payout_avg_over_closing_2.5'] = data['over_2.5_goals']*data['AvgC>2.5']"
   ]
  },
  {
   "cell_type": "markdown",
   "id": "e7499f75",
   "metadata": {},
   "source": [
    "#### Payout Pinnacle"
   ]
  },
  {
   "cell_type": "code",
   "execution_count": 10,
   "id": "7ebcc6f1",
   "metadata": {},
   "outputs": [],
   "source": [
    "#payout UNDER 2.5 for PINACLE specifically\n",
    "data['payout_under_2.5_pinacle'] = data['under_2.5_goals']*data['P<2.5']\n",
    "\n",
    "#payout UNDER 2.5 for PINACLE closing ddds specifically\n",
    "data['payout_under_2.5_pinacle_closing'] = data['under_2.5_goals']*data['PC<2.5']\n",
    "\n",
    "#payout OVER 2.5 for PINACLE specifically\n",
    "data['payout_over_2.5_pinacle'] = data['over_2.5_goals']*data['P>2.5']\n",
    "\n",
    "#payout OVER 2.5 for PINACLE closing odds specifically\n",
    "data['payout_over_2.5_pinacle_closing'] = data['over_2.5_goals']*data['PC>2.5']"
   ]
  },
  {
   "cell_type": "markdown",
   "id": "87aef2eb",
   "metadata": {},
   "source": [
    "#### Payout bet365"
   ]
  },
  {
   "cell_type": "code",
   "execution_count": 11,
   "id": "2fe3c17b",
   "metadata": {},
   "outputs": [],
   "source": [
    "#payout UNDER 2.5 for 365 specifically\n",
    "data['payout_under_2.5_365'] = data['under_2.5_goals']*data['B365<2.5']\n",
    "\n",
    "#payout UNDER 2.5 for 365 closing odds specifically\n",
    "data['payout_under_2.5_365_closing'] = data['under_2.5_goals']*data['B365C<2.5']\n",
    "\n",
    "#payout OVER 2.5 for 365 specifically\n",
    "data['payout_over_2.5_365'] = data['over_2.5_goals']*data['B365>2.5']\n",
    "\n",
    "#payout OVER 2.5 for 365 closing odds specifically\n",
    "data['payout_over_2.5_365_closing'] = data['over_2.5_goals']*data['B365C>2.5']"
   ]
  },
  {
   "cell_type": "markdown",
   "id": "9ad9c30c",
   "metadata": {},
   "source": [
    "### Implied Probability Market Average"
   ]
  },
  {
   "cell_type": "code",
   "execution_count": 12,
   "id": "4cdcecbb",
   "metadata": {},
   "outputs": [],
   "source": [
    "#Implied Probability UNDER 2.5 goals for for overall market opening odds (Avg) \n",
    "data['Implied Probability <2.5 avg']=1/data['Avg<2.5']*100\n",
    "\n",
    "#Implied Probability OVER 2.5 goals for for overall market opening odds (Avg) \n",
    "data['Implied Probability >2.5 avg']=1/data['Avg>2.5']*100\n",
    "\n",
    "#Implied Probability UNDER 2.5 goals for overall market closing odds (AvgC)\n",
    "data['Implied Probability <2.5 avg closing']=1/data['AvgC<2.5']*100\n",
    "\n",
    "#Implied Probability OVER 2.5 goals for overall market closing odds (AvgC)\n",
    "data['Implied Probability >2.5 avg closing']=1/data['AvgC>2.5']*100"
   ]
  },
  {
   "cell_type": "markdown",
   "id": "d3cd6ba0",
   "metadata": {},
   "source": [
    "### Implied Probability Pinnacle"
   ]
  },
  {
   "cell_type": "code",
   "execution_count": 13,
   "id": "ecdfbb9d",
   "metadata": {},
   "outputs": [],
   "source": [
    "#Implied Probability UNDER 2.5 goals for PINACLE\n",
    "data['Implied Probability <2.5 pinacle']=1/data['P<2.5']*100\n",
    "\n",
    "#Implied Probability OVER 2.5 goals for PINACLE\n",
    "data['Implied Probability >2.5 pinacle']=1/data['P>2.5']*100\n",
    "\n",
    "#Implied Probability UNDER 2.5 goals for PINACLE closing odds\n",
    "data['Implied Probability <2.5 pinacle closing']=1/data['PC<2.5']*100\n",
    "\n",
    "#Implied Probability OVER 2.5 goals for PINACLE closing odds\n",
    "data['Implied Probability >2.5 pinacle closing']=1/data['PC>2.5']*100"
   ]
  },
  {
   "cell_type": "markdown",
   "id": "8dc6d342",
   "metadata": {},
   "source": [
    "### Implied Probability bet365"
   ]
  },
  {
   "cell_type": "code",
   "execution_count": 14,
   "id": "eab84c20",
   "metadata": {},
   "outputs": [],
   "source": [
    "#Implied Probability UNDER 2.5 goals for 365\n",
    "data['Implied Probability <2.5 365']=1/data['B365<2.5']*100\n",
    "\n",
    "#Implied Probability UNDER 2.5 goals for 365 closing odds\n",
    "data['Implied Probability <2.5 365 closing']=1/data['B365C<2.5']*100\n",
    "\n",
    "#Implied Probability OVER 2.5 goals for 365\n",
    "data['Implied Probability >2.5 365']=1/data['B365>2.5']*100\n",
    "\n",
    "#Implied Probability OVER 2.5 goals for 365 closing odds\n",
    "data['Implied Probability >2.5 365 closing']=1/data['B365C>2.5']*100"
   ]
  },
  {
   "cell_type": "markdown",
   "id": "56fa1da6",
   "metadata": {},
   "source": [
    "### Binning the implied probabilities"
   ]
  },
  {
   "cell_type": "code",
   "execution_count": 15,
   "id": "8e1c90a8",
   "metadata": {},
   "outputs": [],
   "source": [
    "bins = [0, 5, 10, 15, 20, 25, 30, 35, 40, 45, 50, 55, 60, 65, 70, 75, 80, 85, 90, 95, 100]\n",
    "\n",
    "#Binning UNDER 2.5 Average Market opening odds\n",
    "data['binned <2.5 avg'] = pd.cut(data['Implied Probability <2.5 avg'], bins)\n",
    "\n",
    "#Binning Over 2.5 Average Market opening odds\n",
    "data['binned >2.5 avg'] = pd.cut(data['Implied Probability >2.5 avg'], bins)\n",
    "\n",
    "#Binning UNDER 2.5 Average Market closing odds\n",
    "data['binned <2.5 avg closing'] = pd.cut(data['Implied Probability <2.5 avg closing'], bins)\n",
    "\n",
    "#Binning OVER 2.5 Average Market closing odds\n",
    "data['binned >2.5 avg closing'] = pd.cut(data['Implied Probability >2.5 avg closing'], bins)"
   ]
  },
  {
   "cell_type": "markdown",
   "id": "ec7d023e",
   "metadata": {},
   "source": [
    "### Binning Pinnacle"
   ]
  },
  {
   "cell_type": "code",
   "execution_count": 16,
   "id": "726978c9",
   "metadata": {},
   "outputs": [],
   "source": [
    "bins = [0, 5, 10, 15, 20, 25, 30, 35, 40, 45, 50, 55, 60, 65, 70, 75, 80, 85, 90, 95, 100]\n",
    "\n",
    "#Binned UNDER 2.5 Pinnacle opening odds\n",
    "data['binned <2.5 pinacle'] = pd.cut(data['Implied Probability <2.5 pinacle'], bins)\n",
    "\n",
    "#Binned UNDER 2.5 Pinnacle closing odds\n",
    "data['binned <2.5 pinacle closing'] = pd.cut(data['Implied Probability <2.5 pinacle closing'], bins)\n",
    "\n",
    "#Binned OVER 2.5 Pinnacle\n",
    "data['binned >2.5 pinacle'] = pd.cut(data['Implied Probability >2.5 pinacle'], bins)\n",
    "\n",
    "#Binned OVER 2.5 Pinnacle CLOSING odds\n",
    "data['binned >2.5 pinacle closing'] = pd.cut(data['Implied Probability >2.5 pinacle closing'], bins)"
   ]
  },
  {
   "cell_type": "markdown",
   "id": "2029ae39",
   "metadata": {},
   "source": [
    "### Binning bet365"
   ]
  },
  {
   "cell_type": "code",
   "execution_count": 17,
   "id": "4a73f0c4",
   "metadata": {},
   "outputs": [],
   "source": [
    "bins = [0, 5, 10, 15, 20, 25, 30, 35, 40, 45, 50, 55, 60, 65, 70, 75, 80, 85, 90, 95, 100]\n",
    "\n",
    "#Binned UNDER 2.5 bet365 OPENING odds\n",
    "data['binned <2.5 365'] = pd.cut(data['Implied Probability <2.5 365'], bins)\n",
    "\n",
    "#Binned UNDER 2.5 bet365 CLOSING odds\n",
    "data['binned <2.5 365 closing'] = pd.cut(data['Implied Probability <2.5 365 closing'], bins)\n",
    "\n",
    "#Binned OVER 2.5 bet365 OPENING odds\n",
    "data['binned >2.5 365'] = pd.cut(data['Implied Probability >2.5 365'], bins)\n",
    "\n",
    "#Binned OVER 2.5 bet365 CLOSING odds\n",
    "data['binned >2.5 365 closing'] = pd.cut(data['Implied Probability >2.5 365 closing'], bins)"
   ]
  },
  {
   "cell_type": "code",
   "execution_count": 18,
   "id": "c8c0a485",
   "metadata": {},
   "outputs": [
    {
     "data": {
      "text/html": [
       "<div>\n",
       "<style scoped>\n",
       "    .dataframe tbody tr th:only-of-type {\n",
       "        vertical-align: middle;\n",
       "    }\n",
       "\n",
       "    .dataframe tbody tr th {\n",
       "        vertical-align: top;\n",
       "    }\n",
       "\n",
       "    .dataframe thead th {\n",
       "        text-align: right;\n",
       "    }\n",
       "</style>\n",
       "<table border=\"1\" class=\"dataframe\">\n",
       "  <thead>\n",
       "    <tr style=\"text-align: right;\">\n",
       "      <th></th>\n",
       "      <th>Div</th>\n",
       "      <th>Date</th>\n",
       "      <th>Time</th>\n",
       "      <th>HomeTeam</th>\n",
       "      <th>AwayTeam</th>\n",
       "      <th>FTHG</th>\n",
       "      <th>FTAG</th>\n",
       "      <th>FTR</th>\n",
       "      <th>HTHG</th>\n",
       "      <th>HTAG</th>\n",
       "      <th>...</th>\n",
       "      <th>binned &lt;2.5 avg closing</th>\n",
       "      <th>binned &gt;2.5 avg closing</th>\n",
       "      <th>binned &lt;2.5 pinacle</th>\n",
       "      <th>binned &lt;2.5 pinacle closing</th>\n",
       "      <th>binned &gt;2.5 pinacle</th>\n",
       "      <th>binned &gt;2.5 pinacle closing</th>\n",
       "      <th>binned &lt;2.5 365</th>\n",
       "      <th>binned &lt;2.5 365 closing</th>\n",
       "      <th>binned &gt;2.5 365</th>\n",
       "      <th>binned &gt;2.5 365 closing</th>\n",
       "    </tr>\n",
       "  </thead>\n",
       "  <tbody>\n",
       "    <tr>\n",
       "      <th>0</th>\n",
       "      <td>E0</td>\n",
       "      <td>12/09/2020</td>\n",
       "      <td>12:30</td>\n",
       "      <td>Fulham</td>\n",
       "      <td>Arsenal</td>\n",
       "      <td>0</td>\n",
       "      <td>3</td>\n",
       "      <td>A</td>\n",
       "      <td>0</td>\n",
       "      <td>1</td>\n",
       "      <td>...</td>\n",
       "      <td>(50, 55]</td>\n",
       "      <td>(45, 50]</td>\n",
       "      <td>(45, 50]</td>\n",
       "      <td>(50, 55]</td>\n",
       "      <td>(55, 60]</td>\n",
       "      <td>(45, 50]</td>\n",
       "      <td>(45, 50]</td>\n",
       "      <td>(55, 60]</td>\n",
       "      <td>(55, 60]</td>\n",
       "      <td>(45, 50]</td>\n",
       "    </tr>\n",
       "    <tr>\n",
       "      <th>1</th>\n",
       "      <td>E0</td>\n",
       "      <td>12/09/2020</td>\n",
       "      <td>15:00</td>\n",
       "      <td>Crystal Palace</td>\n",
       "      <td>Southampton</td>\n",
       "      <td>1</td>\n",
       "      <td>0</td>\n",
       "      <td>H</td>\n",
       "      <td>1</td>\n",
       "      <td>0</td>\n",
       "      <td>...</td>\n",
       "      <td>(55, 60]</td>\n",
       "      <td>(45, 50]</td>\n",
       "      <td>(55, 60]</td>\n",
       "      <td>(55, 60]</td>\n",
       "      <td>(40, 45]</td>\n",
       "      <td>(40, 45]</td>\n",
       "      <td>(60, 65]</td>\n",
       "      <td>(60, 65]</td>\n",
       "      <td>(45, 50]</td>\n",
       "      <td>(45, 50]</td>\n",
       "    </tr>\n",
       "    <tr>\n",
       "      <th>2</th>\n",
       "      <td>E0</td>\n",
       "      <td>12/09/2020</td>\n",
       "      <td>17:30</td>\n",
       "      <td>Liverpool</td>\n",
       "      <td>Leeds</td>\n",
       "      <td>4</td>\n",
       "      <td>3</td>\n",
       "      <td>H</td>\n",
       "      <td>3</td>\n",
       "      <td>2</td>\n",
       "      <td>...</td>\n",
       "      <td>(35, 40]</td>\n",
       "      <td>(65, 70]</td>\n",
       "      <td>(35, 40]</td>\n",
       "      <td>(35, 40]</td>\n",
       "      <td>(60, 65]</td>\n",
       "      <td>(65, 70]</td>\n",
       "      <td>(35, 40]</td>\n",
       "      <td>(35, 40]</td>\n",
       "      <td>(65, 70]</td>\n",
       "      <td>(65, 70]</td>\n",
       "    </tr>\n",
       "    <tr>\n",
       "      <th>3</th>\n",
       "      <td>E0</td>\n",
       "      <td>12/09/2020</td>\n",
       "      <td>20:00</td>\n",
       "      <td>West Ham</td>\n",
       "      <td>Newcastle</td>\n",
       "      <td>0</td>\n",
       "      <td>2</td>\n",
       "      <td>A</td>\n",
       "      <td>0</td>\n",
       "      <td>0</td>\n",
       "      <td>...</td>\n",
       "      <td>(50, 55]</td>\n",
       "      <td>(50, 55]</td>\n",
       "      <td>(50, 55]</td>\n",
       "      <td>(50, 55]</td>\n",
       "      <td>(45, 50]</td>\n",
       "      <td>(45, 50]</td>\n",
       "      <td>(50, 55]</td>\n",
       "      <td>(50, 55]</td>\n",
       "      <td>(50, 55]</td>\n",
       "      <td>(50, 55]</td>\n",
       "    </tr>\n",
       "    <tr>\n",
       "      <th>4</th>\n",
       "      <td>E0</td>\n",
       "      <td>13/09/2020</td>\n",
       "      <td>14:00</td>\n",
       "      <td>West Brom</td>\n",
       "      <td>Leicester</td>\n",
       "      <td>0</td>\n",
       "      <td>3</td>\n",
       "      <td>A</td>\n",
       "      <td>0</td>\n",
       "      <td>0</td>\n",
       "      <td>...</td>\n",
       "      <td>(55, 60]</td>\n",
       "      <td>(45, 50]</td>\n",
       "      <td>(50, 55]</td>\n",
       "      <td>(55, 60]</td>\n",
       "      <td>(45, 50]</td>\n",
       "      <td>(40, 45]</td>\n",
       "      <td>(50, 55]</td>\n",
       "      <td>(60, 65]</td>\n",
       "      <td>(50, 55]</td>\n",
       "      <td>(45, 50]</td>\n",
       "    </tr>\n",
       "    <tr>\n",
       "      <th>...</th>\n",
       "      <td>...</td>\n",
       "      <td>...</td>\n",
       "      <td>...</td>\n",
       "      <td>...</td>\n",
       "      <td>...</td>\n",
       "      <td>...</td>\n",
       "      <td>...</td>\n",
       "      <td>...</td>\n",
       "      <td>...</td>\n",
       "      <td>...</td>\n",
       "      <td>...</td>\n",
       "      <td>...</td>\n",
       "      <td>...</td>\n",
       "      <td>...</td>\n",
       "      <td>...</td>\n",
       "      <td>...</td>\n",
       "      <td>...</td>\n",
       "      <td>...</td>\n",
       "      <td>...</td>\n",
       "      <td>...</td>\n",
       "      <td>...</td>\n",
       "    </tr>\n",
       "    <tr>\n",
       "      <th>375</th>\n",
       "      <td>E0</td>\n",
       "      <td>22/05/2022</td>\n",
       "      <td>16:00</td>\n",
       "      <td>Crystal Palace</td>\n",
       "      <td>Man United</td>\n",
       "      <td>1</td>\n",
       "      <td>0</td>\n",
       "      <td>H</td>\n",
       "      <td>1</td>\n",
       "      <td>0</td>\n",
       "      <td>...</td>\n",
       "      <td>(45, 50]</td>\n",
       "      <td>(55, 60]</td>\n",
       "      <td>(45, 50]</td>\n",
       "      <td>(45, 50]</td>\n",
       "      <td>(55, 60]</td>\n",
       "      <td>(50, 55]</td>\n",
       "      <td>(45, 50]</td>\n",
       "      <td>(45, 50]</td>\n",
       "      <td>(55, 60]</td>\n",
       "      <td>(55, 60]</td>\n",
       "    </tr>\n",
       "    <tr>\n",
       "      <th>376</th>\n",
       "      <td>E0</td>\n",
       "      <td>22/05/2022</td>\n",
       "      <td>16:00</td>\n",
       "      <td>Leicester</td>\n",
       "      <td>Southampton</td>\n",
       "      <td>4</td>\n",
       "      <td>1</td>\n",
       "      <td>H</td>\n",
       "      <td>0</td>\n",
       "      <td>0</td>\n",
       "      <td>...</td>\n",
       "      <td>(35, 40]</td>\n",
       "      <td>(65, 70]</td>\n",
       "      <td>(40, 45]</td>\n",
       "      <td>(35, 40]</td>\n",
       "      <td>(60, 65]</td>\n",
       "      <td>(65, 70]</td>\n",
       "      <td>(40, 45]</td>\n",
       "      <td>(35, 40]</td>\n",
       "      <td>(60, 65]</td>\n",
       "      <td>(65, 70]</td>\n",
       "    </tr>\n",
       "    <tr>\n",
       "      <th>377</th>\n",
       "      <td>E0</td>\n",
       "      <td>22/05/2022</td>\n",
       "      <td>16:00</td>\n",
       "      <td>Liverpool</td>\n",
       "      <td>Wolves</td>\n",
       "      <td>3</td>\n",
       "      <td>1</td>\n",
       "      <td>H</td>\n",
       "      <td>1</td>\n",
       "      <td>1</td>\n",
       "      <td>...</td>\n",
       "      <td>(30, 35]</td>\n",
       "      <td>(70, 75]</td>\n",
       "      <td>(30, 35]</td>\n",
       "      <td>(25, 30]</td>\n",
       "      <td>(65, 70]</td>\n",
       "      <td>(70, 75]</td>\n",
       "      <td>(35, 40]</td>\n",
       "      <td>(25, 30]</td>\n",
       "      <td>(65, 70]</td>\n",
       "      <td>(75, 80]</td>\n",
       "    </tr>\n",
       "    <tr>\n",
       "      <th>378</th>\n",
       "      <td>E0</td>\n",
       "      <td>22/05/2022</td>\n",
       "      <td>16:00</td>\n",
       "      <td>Man City</td>\n",
       "      <td>Aston Villa</td>\n",
       "      <td>3</td>\n",
       "      <td>2</td>\n",
       "      <td>H</td>\n",
       "      <td>0</td>\n",
       "      <td>1</td>\n",
       "      <td>...</td>\n",
       "      <td>(25, 30]</td>\n",
       "      <td>(75, 80]</td>\n",
       "      <td>(30, 35]</td>\n",
       "      <td>(25, 30]</td>\n",
       "      <td>(65, 70]</td>\n",
       "      <td>(70, 75]</td>\n",
       "      <td>(35, 40]</td>\n",
       "      <td>(25, 30]</td>\n",
       "      <td>(65, 70]</td>\n",
       "      <td>(75, 80]</td>\n",
       "    </tr>\n",
       "    <tr>\n",
       "      <th>379</th>\n",
       "      <td>E0</td>\n",
       "      <td>22/05/2022</td>\n",
       "      <td>16:00</td>\n",
       "      <td>Norwich</td>\n",
       "      <td>Tottenham</td>\n",
       "      <td>0</td>\n",
       "      <td>5</td>\n",
       "      <td>A</td>\n",
       "      <td>0</td>\n",
       "      <td>2</td>\n",
       "      <td>...</td>\n",
       "      <td>(40, 45]</td>\n",
       "      <td>(60, 65]</td>\n",
       "      <td>(35, 40]</td>\n",
       "      <td>(40, 45]</td>\n",
       "      <td>(65, 70]</td>\n",
       "      <td>(60, 65]</td>\n",
       "      <td>(35, 40]</td>\n",
       "      <td>(40, 45]</td>\n",
       "      <td>(65, 70]</td>\n",
       "      <td>(60, 65]</td>\n",
       "    </tr>\n",
       "  </tbody>\n",
       "</table>\n",
       "<p>1140 rows × 145 columns</p>\n",
       "</div>"
      ],
      "text/plain": [
       "    Div        Date   Time        HomeTeam     AwayTeam  FTHG  FTAG FTR  HTHG  \\\n",
       "0    E0  12/09/2020  12:30          Fulham      Arsenal     0     3   A     0   \n",
       "1    E0  12/09/2020  15:00  Crystal Palace  Southampton     1     0   H     1   \n",
       "2    E0  12/09/2020  17:30       Liverpool        Leeds     4     3   H     3   \n",
       "3    E0  12/09/2020  20:00        West Ham    Newcastle     0     2   A     0   \n",
       "4    E0  13/09/2020  14:00       West Brom    Leicester     0     3   A     0   \n",
       "..   ..         ...    ...             ...          ...   ...   ...  ..   ...   \n",
       "375  E0  22/05/2022  16:00  Crystal Palace   Man United     1     0   H     1   \n",
       "376  E0  22/05/2022  16:00       Leicester  Southampton     4     1   H     0   \n",
       "377  E0  22/05/2022  16:00       Liverpool       Wolves     3     1   H     1   \n",
       "378  E0  22/05/2022  16:00        Man City  Aston Villa     3     2   H     0   \n",
       "379  E0  22/05/2022  16:00         Norwich    Tottenham     0     5   A     0   \n",
       "\n",
       "     HTAG  ... binned <2.5 avg closing binned >2.5 avg closing  \\\n",
       "0       1  ...                (50, 55]                (45, 50]   \n",
       "1       0  ...                (55, 60]                (45, 50]   \n",
       "2       2  ...                (35, 40]                (65, 70]   \n",
       "3       0  ...                (50, 55]                (50, 55]   \n",
       "4       0  ...                (55, 60]                (45, 50]   \n",
       "..    ...  ...                     ...                     ...   \n",
       "375     0  ...                (45, 50]                (55, 60]   \n",
       "376     0  ...                (35, 40]                (65, 70]   \n",
       "377     1  ...                (30, 35]                (70, 75]   \n",
       "378     1  ...                (25, 30]                (75, 80]   \n",
       "379     2  ...                (40, 45]                (60, 65]   \n",
       "\n",
       "     binned <2.5 pinacle  binned <2.5 pinacle closing  binned >2.5 pinacle  \\\n",
       "0               (45, 50]                     (50, 55]             (55, 60]   \n",
       "1               (55, 60]                     (55, 60]             (40, 45]   \n",
       "2               (35, 40]                     (35, 40]             (60, 65]   \n",
       "3               (50, 55]                     (50, 55]             (45, 50]   \n",
       "4               (50, 55]                     (55, 60]             (45, 50]   \n",
       "..                   ...                          ...                  ...   \n",
       "375             (45, 50]                     (45, 50]             (55, 60]   \n",
       "376             (40, 45]                     (35, 40]             (60, 65]   \n",
       "377             (30, 35]                     (25, 30]             (65, 70]   \n",
       "378             (30, 35]                     (25, 30]             (65, 70]   \n",
       "379             (35, 40]                     (40, 45]             (65, 70]   \n",
       "\n",
       "     binned >2.5 pinacle closing  binned <2.5 365  binned <2.5 365 closing  \\\n",
       "0                       (45, 50]         (45, 50]                 (55, 60]   \n",
       "1                       (40, 45]         (60, 65]                 (60, 65]   \n",
       "2                       (65, 70]         (35, 40]                 (35, 40]   \n",
       "3                       (45, 50]         (50, 55]                 (50, 55]   \n",
       "4                       (40, 45]         (50, 55]                 (60, 65]   \n",
       "..                           ...              ...                      ...   \n",
       "375                     (50, 55]         (45, 50]                 (45, 50]   \n",
       "376                     (65, 70]         (40, 45]                 (35, 40]   \n",
       "377                     (70, 75]         (35, 40]                 (25, 30]   \n",
       "378                     (70, 75]         (35, 40]                 (25, 30]   \n",
       "379                     (60, 65]         (35, 40]                 (40, 45]   \n",
       "\n",
       "     binned >2.5 365  binned >2.5 365 closing  \n",
       "0           (55, 60]                 (45, 50]  \n",
       "1           (45, 50]                 (45, 50]  \n",
       "2           (65, 70]                 (65, 70]  \n",
       "3           (50, 55]                 (50, 55]  \n",
       "4           (50, 55]                 (45, 50]  \n",
       "..               ...                      ...  \n",
       "375         (55, 60]                 (55, 60]  \n",
       "376         (60, 65]                 (65, 70]  \n",
       "377         (65, 70]                 (75, 80]  \n",
       "378         (65, 70]                 (75, 80]  \n",
       "379         (65, 70]                 (60, 65]  \n",
       "\n",
       "[1140 rows x 145 columns]"
      ]
     },
     "execution_count": 18,
     "metadata": {},
     "output_type": "execute_result"
    }
   ],
   "source": [
    "data"
   ]
  },
  {
   "cell_type": "markdown",
   "id": "e45ec430",
   "metadata": {},
   "source": [
    "## Final Dataset"
   ]
  },
  {
   "cell_type": "markdown",
   "id": "c06f280c",
   "metadata": {},
   "source": [
    "### Average Market (AvG)"
   ]
  },
  {
   "cell_type": "code",
   "execution_count": 19,
   "id": "8075c1a9",
   "metadata": {},
   "outputs": [],
   "source": [
    "#Average Market UNDER opening odds\n",
    "fdf_under_avg = data[['Implied Probability <2.5 avg','under_2.5_goals','binned <2.5 avg','payout_avg_under_2.5']]\n",
    "\n",
    "#Average Market OVER opening odds\n",
    "fdf_over_avg = data[['Implied Probability >2.5 avg','over_2.5_goals','binned >2.5 avg','payout_avg_over_2.5']]\n",
    "\n",
    "#Average Market UNDER closing odds\n",
    "fdf_under_avg_closing = data[['Implied Probability <2.5 avg closing','under_2.5_goals','binned <2.5 avg closing','payout_avg_under_closing_2.5']]\n",
    "\n",
    "#Average Market OVER opening odds\n",
    "fdf_over_avg_closing = data[['Implied Probability >2.5 avg closing','over_2.5_goals','binned >2.5 avg closing','payout_avg_over_closing_2.5']]"
   ]
  },
  {
   "cell_type": "markdown",
   "id": "efd3a216",
   "metadata": {},
   "source": [
    "### Pinnacle"
   ]
  },
  {
   "cell_type": "code",
   "execution_count": 20,
   "id": "114d0e78",
   "metadata": {},
   "outputs": [],
   "source": [
    "#pinnacle UNDER opening odds\n",
    "fdf_under_pinacle = data[['Implied Probability <2.5 pinacle','under_2.5_goals','binned <2.5 pinacle','payout_under_2.5_pinacle']]\n",
    "\n",
    "#pinnacle OVER opening odds\n",
    "fdf_over_pinacle = data[['Implied Probability >2.5 pinacle','over_2.5_goals','binned >2.5 pinacle','payout_over_2.5_pinacle']]\n",
    "\n",
    "#pinnacle UNDER closing odds\n",
    "fdf_under_pinacle_closing = data[['Implied Probability <2.5 pinacle closing','under_2.5_goals','binned <2.5 pinacle closing','payout_under_2.5_pinacle_closing']]\n",
    "\n",
    "#pinnacle OVER closing odds\n",
    "fdf_over_pinacle_closing = data[['Implied Probability >2.5 pinacle closing','over_2.5_goals','binned >2.5 pinacle closing','payout_over_2.5_pinacle_closing']]"
   ]
  },
  {
   "cell_type": "markdown",
   "id": "6ea5b9f4",
   "metadata": {},
   "source": [
    "### bet365"
   ]
  },
  {
   "cell_type": "code",
   "execution_count": 21,
   "id": "d6a444fd",
   "metadata": {},
   "outputs": [],
   "source": [
    "#bet365 UNDER opening odds\n",
    "fdf_under_365 = data[['Implied Probability <2.5 365','under_2.5_goals','binned <2.5 365','payout_under_2.5_365']]\n",
    "\n",
    "#bet365 OVER opening odds\n",
    "fdf_over_365 = data[['Implied Probability >2.5 365','over_2.5_goals','binned >2.5 365','payout_over_2.5_365']]\n",
    "\n",
    "#bet365 UNDER closing odds\n",
    "fdf_under_365_closing = data[['Implied Probability <2.5 365 closing','under_2.5_goals','binned <2.5 365 closing','payout_under_2.5_365_closing']]\n",
    "\n",
    "#bet365 OVER closing odds\n",
    "fdf_over_365_closing = data[['Implied Probability >2.5 365 closing','over_2.5_goals','binned >2.5 365 closing','payout_over_2.5_365_closing']]"
   ]
  },
  {
   "cell_type": "markdown",
   "id": "f86ea04f",
   "metadata": {},
   "source": [
    "## Results per implied prob Average Market"
   ]
  },
  {
   "cell_type": "markdown",
   "id": "66684c60",
   "metadata": {},
   "source": [
    "### Under"
   ]
  },
  {
   "cell_type": "markdown",
   "id": "167a9db6",
   "metadata": {},
   "source": [
    "#### Avg opening odds"
   ]
  },
  {
   "cell_type": "code",
   "execution_count": 22,
   "id": "b8d712a0",
   "metadata": {},
   "outputs": [
    {
     "data": {
      "text/plain": [
       "binned <2.5 avg\n",
       "(0, 5]         0\n",
       "(5, 10]        0\n",
       "(10, 15]       0\n",
       "(15, 20]       0\n",
       "(20, 25]       5\n",
       "(25, 30]      10\n",
       "(30, 35]      43\n",
       "(35, 40]      86\n",
       "(40, 45]     199\n",
       "(45, 50]     260\n",
       "(50, 55]     254\n",
       "(55, 60]     176\n",
       "(60, 65]      97\n",
       "(65, 70]      10\n",
       "(70, 75]       0\n",
       "(75, 80]       0\n",
       "(80, 85]       0\n",
       "(85, 90]       0\n",
       "(90, 95]       0\n",
       "(95, 100]      0\n",
       "Name: payout_avg_under_2.5, dtype: int64"
      ]
     },
     "execution_count": 22,
     "metadata": {},
     "output_type": "execute_result"
    }
   ],
   "source": [
    "fdf_under_avg_gb_count = fdf_under_avg.groupby('binned <2.5 avg')['payout_avg_under_2.5'].count()\n",
    "fdf_under_avg_gb_count"
   ]
  },
  {
   "cell_type": "code",
   "execution_count": 23,
   "id": "368751a7",
   "metadata": {
    "scrolled": true
   },
   "outputs": [
    {
     "data": {
      "text/plain": [
       "binned <2.5 avg\n",
       "(0, 5]            NaN\n",
       "(5, 10]           NaN\n",
       "(10, 15]          NaN\n",
       "(15, 20]          NaN\n",
       "(20, 25]     0.808000\n",
       "(25, 30]     0.689000\n",
       "(30, 35]     1.431860\n",
       "(35, 40]     0.951163\n",
       "(40, 45]     0.929548\n",
       "(45, 50]     0.943846\n",
       "(50, 55]     0.920236\n",
       "(55, 60]     1.059830\n",
       "(60, 65]     0.963711\n",
       "(65, 70]     1.349000\n",
       "(70, 75]          NaN\n",
       "(75, 80]          NaN\n",
       "(80, 85]          NaN\n",
       "(85, 90]          NaN\n",
       "(90, 95]          NaN\n",
       "(95, 100]         NaN\n",
       "Name: payout_avg_under_2.5, dtype: float64"
      ]
     },
     "execution_count": 23,
     "metadata": {},
     "output_type": "execute_result"
    }
   ],
   "source": [
    "fdf_under_avg_gb_mean = fdf_under_avg.groupby('binned <2.5 avg')['payout_avg_under_2.5'].mean()\n",
    "fdf_under_avg_gb_mean"
   ]
  },
  {
   "cell_type": "markdown",
   "id": "da439352",
   "metadata": {},
   "source": [
    "#### Avg closing odds"
   ]
  },
  {
   "cell_type": "code",
   "execution_count": 24,
   "id": "b5c7d35d",
   "metadata": {},
   "outputs": [
    {
     "data": {
      "text/plain": [
       "binned <2.5 avg closing\n",
       "(0, 5]         0\n",
       "(5, 10]        0\n",
       "(10, 15]       0\n",
       "(15, 20]       2\n",
       "(20, 25]       2\n",
       "(25, 30]      23\n",
       "(30, 35]      48\n",
       "(35, 40]      87\n",
       "(40, 45]     176\n",
       "(45, 50]     247\n",
       "(50, 55]     229\n",
       "(55, 60]     199\n",
       "(60, 65]     112\n",
       "(65, 70]      14\n",
       "(70, 75]       1\n",
       "(75, 80]       0\n",
       "(80, 85]       0\n",
       "(85, 90]       0\n",
       "(90, 95]       0\n",
       "(95, 100]      0\n",
       "Name: payout_avg_under_closing_2.5, dtype: int64"
      ]
     },
     "execution_count": 24,
     "metadata": {},
     "output_type": "execute_result"
    }
   ],
   "source": [
    "fdf_under_avg_closing_gb_count = fdf_under_avg_closing.groupby('binned <2.5 avg closing')['payout_avg_under_closing_2.5'].count()\n",
    "fdf_under_avg_closing_gb_count"
   ]
  },
  {
   "cell_type": "code",
   "execution_count": 25,
   "id": "130a9d40",
   "metadata": {},
   "outputs": [
    {
     "data": {
      "text/plain": [
       "binned <2.5 avg closing\n",
       "(0, 5]            NaN\n",
       "(5, 10]           NaN\n",
       "(10, 15]          NaN\n",
       "(15, 20]     0.000000\n",
       "(20, 25]     0.000000\n",
       "(25, 30]     1.514348\n",
       "(30, 35]     1.200833\n",
       "(35, 40]     0.940920\n",
       "(40, 45]     1.010000\n",
       "(45, 50]     0.901700\n",
       "(50, 55]     0.914410\n",
       "(55, 60]     1.000754\n",
       "(60, 65]     1.033661\n",
       "(65, 70]     0.847857\n",
       "(70, 75]     1.390000\n",
       "(75, 80]          NaN\n",
       "(80, 85]          NaN\n",
       "(85, 90]          NaN\n",
       "(90, 95]          NaN\n",
       "(95, 100]         NaN\n",
       "Name: payout_avg_under_closing_2.5, dtype: float64"
      ]
     },
     "execution_count": 25,
     "metadata": {},
     "output_type": "execute_result"
    }
   ],
   "source": [
    "fdf_under_avg_closing_gb_mean = fdf_under_avg_closing.groupby('binned <2.5 avg closing')['payout_avg_under_closing_2.5'].mean()\n",
    "fdf_under_avg_closing_gb_mean"
   ]
  },
  {
   "cell_type": "markdown",
   "id": "d5b57f08",
   "metadata": {},
   "source": [
    "### Over"
   ]
  },
  {
   "cell_type": "markdown",
   "id": "893845a5",
   "metadata": {},
   "source": [
    "#### Opening Odds"
   ]
  },
  {
   "cell_type": "code",
   "execution_count": 26,
   "id": "b6fa9a98",
   "metadata": {},
   "outputs": [
    {
     "data": {
      "text/plain": [
       "binned >2.5 avg\n",
       "(0, 5]         0\n",
       "(5, 10]        0\n",
       "(10, 15]       0\n",
       "(15, 20]       0\n",
       "(20, 25]       0\n",
       "(25, 30]       0\n",
       "(30, 35]       0\n",
       "(35, 40]      13\n",
       "(40, 45]     100\n",
       "(45, 50]     208\n",
       "(50, 55]     248\n",
       "(55, 60]     231\n",
       "(60, 65]     199\n",
       "(65, 70]      82\n",
       "(70, 75]      42\n",
       "(75, 80]      12\n",
       "(80, 85]       5\n",
       "(85, 90]       0\n",
       "(90, 95]       0\n",
       "(95, 100]      0\n",
       "Name: payout_avg_over_2.5, dtype: int64"
      ]
     },
     "execution_count": 26,
     "metadata": {},
     "output_type": "execute_result"
    }
   ],
   "source": [
    "fdf_over_avg_gb_count = fdf_over_avg.groupby('binned >2.5 avg')['payout_avg_over_2.5'].count()\n",
    "fdf_over_avg_gb_count"
   ]
  },
  {
   "cell_type": "code",
   "execution_count": 27,
   "id": "1f0a3a6a",
   "metadata": {},
   "outputs": [
    {
     "data": {
      "text/plain": [
       "binned >2.5 avg\n",
       "(0, 5]            NaN\n",
       "(5, 10]           NaN\n",
       "(10, 15]          NaN\n",
       "(15, 20]          NaN\n",
       "(20, 25]          NaN\n",
       "(25, 30]          NaN\n",
       "(30, 35]          NaN\n",
       "(35, 40]     0.390000\n",
       "(40, 45]     0.908100\n",
       "(45, 50]     0.911154\n",
       "(50, 55]     0.923185\n",
       "(55, 60]     1.018701\n",
       "(60, 65]     0.937337\n",
       "(65, 70]     0.995610\n",
       "(70, 75]     0.728095\n",
       "(75, 80]     0.970000\n",
       "(80, 85]     0.974000\n",
       "(85, 90]          NaN\n",
       "(90, 95]          NaN\n",
       "(95, 100]         NaN\n",
       "Name: payout_avg_over_2.5, dtype: float64"
      ]
     },
     "execution_count": 27,
     "metadata": {},
     "output_type": "execute_result"
    }
   ],
   "source": [
    "fdf_over_avg_gb_mean = fdf_over_avg.groupby('binned >2.5 avg')['payout_avg_over_2.5'].mean()\n",
    "fdf_over_avg_gb_mean"
   ]
  },
  {
   "cell_type": "markdown",
   "id": "387c70f7",
   "metadata": {},
   "source": [
    "#### Closing Odds"
   ]
  },
  {
   "cell_type": "code",
   "execution_count": 28,
   "id": "0548fcc8",
   "metadata": {},
   "outputs": [
    {
     "data": {
      "text/plain": [
       "binned >2.5 avg closing\n",
       "(0, 5]         0\n",
       "(5, 10]        0\n",
       "(10, 15]       0\n",
       "(15, 20]       0\n",
       "(20, 25]       0\n",
       "(25, 30]       0\n",
       "(30, 35]       1\n",
       "(35, 40]      15\n",
       "(40, 45]     119\n",
       "(45, 50]     214\n",
       "(50, 55]     231\n",
       "(55, 60]     235\n",
       "(60, 65]     165\n",
       "(65, 70]      83\n",
       "(70, 75]      49\n",
       "(75, 80]      24\n",
       "(80, 85]       2\n",
       "(85, 90]       2\n",
       "(90, 95]       0\n",
       "(95, 100]      0\n",
       "Name: payout_avg_over_closing_2.5, dtype: int64"
      ]
     },
     "execution_count": 28,
     "metadata": {},
     "output_type": "execute_result"
    }
   ],
   "source": [
    "fdf_over_avg_closing_gb_count = fdf_over_avg_closing.groupby('binned >2.5 avg closing')['payout_avg_over_closing_2.5'].count()\n",
    "fdf_over_avg_closing_gb_count"
   ]
  },
  {
   "cell_type": "code",
   "execution_count": 29,
   "id": "02c06fa6",
   "metadata": {},
   "outputs": [
    {
     "data": {
      "text/plain": [
       "binned >2.5 avg closing\n",
       "(0, 5]            NaN\n",
       "(5, 10]           NaN\n",
       "(10, 15]          NaN\n",
       "(15, 20]          NaN\n",
       "(20, 25]          NaN\n",
       "(25, 30]          NaN\n",
       "(30, 35]     0.000000\n",
       "(35, 40]     1.054667\n",
       "(40, 45]     0.838151\n",
       "(45, 50]     0.935234\n",
       "(50, 55]     0.972294\n",
       "(55, 60]     1.003957\n",
       "(60, 65]     0.912182\n",
       "(65, 70]     0.952169\n",
       "(70, 75]     0.849184\n",
       "(75, 80]     0.757500\n",
       "(80, 85]     1.200000\n",
       "(85, 90]     1.150000\n",
       "(90, 95]          NaN\n",
       "(95, 100]         NaN\n",
       "Name: payout_avg_over_closing_2.5, dtype: float64"
      ]
     },
     "execution_count": 29,
     "metadata": {},
     "output_type": "execute_result"
    }
   ],
   "source": [
    "fdf_over_avg_closing_gb_mean = fdf_over_avg_closing.groupby('binned >2.5 avg closing')['payout_avg_over_closing_2.5'].mean()\n",
    "fdf_over_avg_closing_gb_mean"
   ]
  },
  {
   "cell_type": "markdown",
   "id": "641bdc48",
   "metadata": {},
   "source": [
    "## Results per implied prob Pinnacle"
   ]
  },
  {
   "cell_type": "markdown",
   "id": "2fb2d999",
   "metadata": {},
   "source": [
    "### Under"
   ]
  },
  {
   "cell_type": "markdown",
   "id": "429bee77",
   "metadata": {},
   "source": [
    "#### Pinnacle opening odds"
   ]
  },
  {
   "cell_type": "code",
   "execution_count": 30,
   "id": "51983fc1",
   "metadata": {},
   "outputs": [
    {
     "data": {
      "text/plain": [
       "binned <2.5 pinacle\n",
       "(0, 5]         0\n",
       "(5, 10]        0\n",
       "(10, 15]       0\n",
       "(15, 20]       1\n",
       "(20, 25]       6\n",
       "(25, 30]      15\n",
       "(30, 35]      52\n",
       "(35, 40]     115\n",
       "(40, 45]     195\n",
       "(45, 50]     262\n",
       "(50, 55]     240\n",
       "(55, 60]     162\n",
       "(60, 65]      85\n",
       "(65, 70]       7\n",
       "(70, 75]       0\n",
       "(75, 80]       0\n",
       "(80, 85]       0\n",
       "(85, 90]       0\n",
       "(90, 95]       0\n",
       "(95, 100]      0\n",
       "Name: payout_under_2.5_pinacle, dtype: int64"
      ]
     },
     "execution_count": 30,
     "metadata": {},
     "output_type": "execute_result"
    }
   ],
   "source": [
    "fdf_under_pinacle_gb_count = fdf_under_pinacle.groupby('binned <2.5 pinacle')['payout_under_2.5_pinacle'].count()\n",
    "fdf_under_pinacle_gb_count"
   ]
  },
  {
   "cell_type": "code",
   "execution_count": 31,
   "id": "28c5917a",
   "metadata": {},
   "outputs": [
    {
     "data": {
      "text/plain": [
       "binned <2.5 pinacle\n",
       "(0, 5]            NaN\n",
       "(5, 10]           NaN\n",
       "(10, 15]          NaN\n",
       "(15, 20]     0.000000\n",
       "(20, 25]     0.716667\n",
       "(25, 30]     1.374667\n",
       "(30, 35]     1.298654\n",
       "(35, 40]     0.954870\n",
       "(40, 45]     0.986872\n",
       "(45, 50]     0.984427\n",
       "(50, 55]     0.928375\n",
       "(55, 60]     1.014630\n",
       "(60, 65]     1.027882\n",
       "(65, 70]     1.284286\n",
       "(70, 75]          NaN\n",
       "(75, 80]          NaN\n",
       "(80, 85]          NaN\n",
       "(85, 90]          NaN\n",
       "(90, 95]          NaN\n",
       "(95, 100]         NaN\n",
       "Name: payout_under_2.5_pinacle, dtype: float64"
      ]
     },
     "execution_count": 31,
     "metadata": {},
     "output_type": "execute_result"
    }
   ],
   "source": [
    "fdf_under_pinacle_gb_mean = fdf_under_pinacle.groupby('binned <2.5 pinacle')['payout_under_2.5_pinacle'].mean()\n",
    "fdf_under_pinacle_gb_mean"
   ]
  },
  {
   "cell_type": "code",
   "execution_count": 32,
   "id": "edd2282d",
   "metadata": {},
   "outputs": [
    {
     "data": {
      "text/plain": [
       "0.9966315789473683"
      ]
     },
     "execution_count": 32,
     "metadata": {},
     "output_type": "execute_result"
    }
   ],
   "source": [
    "fdf_under_pinacle['payout_under_2.5_pinacle'].mean()"
   ]
  },
  {
   "cell_type": "code",
   "execution_count": 33,
   "id": "9be6e0c1",
   "metadata": {},
   "outputs": [],
   "source": [
    "fdf_under_pinacle_above_40 = fdf_under_pinacle[fdf_under_pinacle['Implied Probability <2.5 pinacle']>40]"
   ]
  },
  {
   "cell_type": "code",
   "execution_count": 34,
   "id": "3f980c79",
   "metadata": {},
   "outputs": [
    {
     "data": {
      "text/plain": [
       "0.9820189274447949"
      ]
     },
     "execution_count": 34,
     "metadata": {},
     "output_type": "execute_result"
    }
   ],
   "source": [
    "fdf_under_pinacle_above_40['payout_under_2.5_pinacle'].mean()"
   ]
  },
  {
   "cell_type": "markdown",
   "id": "adf003fc",
   "metadata": {},
   "source": [
    "#### Closing Odds"
   ]
  },
  {
   "cell_type": "code",
   "execution_count": 35,
   "id": "8540ed1c",
   "metadata": {},
   "outputs": [
    {
     "data": {
      "text/plain": [
       "binned <2.5 pinacle closing\n",
       "(0, 5]         0\n",
       "(5, 10]        0\n",
       "(10, 15]       1\n",
       "(15, 20]       3\n",
       "(20, 25]       2\n",
       "(25, 30]      27\n",
       "(30, 35]      54\n",
       "(35, 40]     116\n",
       "(40, 45]     184\n",
       "(45, 50]     244\n",
       "(50, 55]     216\n",
       "(55, 60]     183\n",
       "(60, 65]      96\n",
       "(65, 70]      13\n",
       "(70, 75]       1\n",
       "(75, 80]       0\n",
       "(80, 85]       0\n",
       "(85, 90]       0\n",
       "(90, 95]       0\n",
       "(95, 100]      0\n",
       "Name: payout_under_2.5_pinacle_closing, dtype: int64"
      ]
     },
     "execution_count": 35,
     "metadata": {},
     "output_type": "execute_result"
    }
   ],
   "source": [
    "fdf_under_pinacle_closing_gb_count = fdf_under_pinacle_closing.groupby('binned <2.5 pinacle closing')['payout_under_2.5_pinacle_closing'].count()\n",
    "fdf_under_pinacle_closing_gb_count"
   ]
  },
  {
   "cell_type": "code",
   "execution_count": 36,
   "id": "5454fea6",
   "metadata": {
    "scrolled": true
   },
   "outputs": [
    {
     "data": {
      "text/plain": [
       "binned <2.5 pinacle closing\n",
       "(0, 5]            NaN\n",
       "(5, 10]           NaN\n",
       "(10, 15]     0.000000\n",
       "(15, 20]     0.000000\n",
       "(20, 25]     2.055000\n",
       "(25, 30]     1.314074\n",
       "(30, 35]     1.311296\n",
       "(35, 40]     0.906897\n",
       "(40, 45]     1.052826\n",
       "(45, 50]     0.901107\n",
       "(50, 55]     0.953981\n",
       "(55, 60]     1.022568\n",
       "(60, 65]     1.026771\n",
       "(65, 70]     0.926154\n",
       "(70, 75]     1.410000\n",
       "(75, 80]          NaN\n",
       "(80, 85]          NaN\n",
       "(85, 90]          NaN\n",
       "(90, 95]          NaN\n",
       "(95, 100]         NaN\n",
       "Name: payout_under_2.5_pinacle_closing, dtype: float64"
      ]
     },
     "execution_count": 36,
     "metadata": {},
     "output_type": "execute_result"
    }
   ],
   "source": [
    "fdf_under_pinacle_closing_gb_mean = fdf_under_pinacle_closing.groupby('binned <2.5 pinacle closing')['payout_under_2.5_pinacle_closing'].mean()\n",
    "fdf_under_pinacle_closing_gb_mean"
   ]
  },
  {
   "cell_type": "code",
   "execution_count": 37,
   "id": "0b230cc8",
   "metadata": {},
   "outputs": [
    {
     "data": {
      "text/html": [
       "<div>\n",
       "<style scoped>\n",
       "    .dataframe tbody tr th:only-of-type {\n",
       "        vertical-align: middle;\n",
       "    }\n",
       "\n",
       "    .dataframe tbody tr th {\n",
       "        vertical-align: top;\n",
       "    }\n",
       "\n",
       "    .dataframe thead th {\n",
       "        text-align: right;\n",
       "    }\n",
       "</style>\n",
       "<table border=\"1\" class=\"dataframe\">\n",
       "  <thead>\n",
       "    <tr style=\"text-align: right;\">\n",
       "      <th></th>\n",
       "      <th>count</th>\n",
       "      <th>mean</th>\n",
       "      <th>median</th>\n",
       "      <th>max</th>\n",
       "    </tr>\n",
       "    <tr>\n",
       "      <th>binned &lt;2.5 pinacle closing</th>\n",
       "      <th></th>\n",
       "      <th></th>\n",
       "      <th></th>\n",
       "      <th></th>\n",
       "    </tr>\n",
       "  </thead>\n",
       "  <tbody>\n",
       "    <tr>\n",
       "      <th>(0, 5]</th>\n",
       "      <td>0</td>\n",
       "      <td>NaN</td>\n",
       "      <td>NaN</td>\n",
       "      <td>NaN</td>\n",
       "    </tr>\n",
       "    <tr>\n",
       "      <th>(5, 10]</th>\n",
       "      <td>0</td>\n",
       "      <td>NaN</td>\n",
       "      <td>NaN</td>\n",
       "      <td>NaN</td>\n",
       "    </tr>\n",
       "    <tr>\n",
       "      <th>(10, 15]</th>\n",
       "      <td>1</td>\n",
       "      <td>0.000000</td>\n",
       "      <td>0.000</td>\n",
       "      <td>0.00</td>\n",
       "    </tr>\n",
       "    <tr>\n",
       "      <th>(15, 20]</th>\n",
       "      <td>3</td>\n",
       "      <td>0.000000</td>\n",
       "      <td>0.000</td>\n",
       "      <td>0.00</td>\n",
       "    </tr>\n",
       "    <tr>\n",
       "      <th>(20, 25]</th>\n",
       "      <td>2</td>\n",
       "      <td>2.055000</td>\n",
       "      <td>2.055</td>\n",
       "      <td>4.11</td>\n",
       "    </tr>\n",
       "    <tr>\n",
       "      <th>(25, 30]</th>\n",
       "      <td>27</td>\n",
       "      <td>1.314074</td>\n",
       "      <td>0.000</td>\n",
       "      <td>3.83</td>\n",
       "    </tr>\n",
       "    <tr>\n",
       "      <th>(30, 35]</th>\n",
       "      <td>54</td>\n",
       "      <td>1.311296</td>\n",
       "      <td>0.000</td>\n",
       "      <td>3.31</td>\n",
       "    </tr>\n",
       "    <tr>\n",
       "      <th>(35, 40]</th>\n",
       "      <td>116</td>\n",
       "      <td>0.906897</td>\n",
       "      <td>0.000</td>\n",
       "      <td>2.85</td>\n",
       "    </tr>\n",
       "    <tr>\n",
       "      <th>(40, 45]</th>\n",
       "      <td>184</td>\n",
       "      <td>1.052826</td>\n",
       "      <td>0.000</td>\n",
       "      <td>2.49</td>\n",
       "    </tr>\n",
       "    <tr>\n",
       "      <th>(45, 50]</th>\n",
       "      <td>244</td>\n",
       "      <td>0.901107</td>\n",
       "      <td>0.000</td>\n",
       "      <td>2.22</td>\n",
       "    </tr>\n",
       "    <tr>\n",
       "      <th>(50, 55]</th>\n",
       "      <td>216</td>\n",
       "      <td>0.953981</td>\n",
       "      <td>0.910</td>\n",
       "      <td>1.99</td>\n",
       "    </tr>\n",
       "    <tr>\n",
       "      <th>(55, 60]</th>\n",
       "      <td>183</td>\n",
       "      <td>1.022568</td>\n",
       "      <td>1.690</td>\n",
       "      <td>1.81</td>\n",
       "    </tr>\n",
       "    <tr>\n",
       "      <th>(60, 65]</th>\n",
       "      <td>96</td>\n",
       "      <td>1.026771</td>\n",
       "      <td>1.580</td>\n",
       "      <td>1.66</td>\n",
       "    </tr>\n",
       "    <tr>\n",
       "      <th>(65, 70]</th>\n",
       "      <td>13</td>\n",
       "      <td>0.926154</td>\n",
       "      <td>1.500</td>\n",
       "      <td>1.52</td>\n",
       "    </tr>\n",
       "    <tr>\n",
       "      <th>(70, 75]</th>\n",
       "      <td>1</td>\n",
       "      <td>1.410000</td>\n",
       "      <td>1.410</td>\n",
       "      <td>1.41</td>\n",
       "    </tr>\n",
       "    <tr>\n",
       "      <th>(75, 80]</th>\n",
       "      <td>0</td>\n",
       "      <td>NaN</td>\n",
       "      <td>NaN</td>\n",
       "      <td>NaN</td>\n",
       "    </tr>\n",
       "    <tr>\n",
       "      <th>(80, 85]</th>\n",
       "      <td>0</td>\n",
       "      <td>NaN</td>\n",
       "      <td>NaN</td>\n",
       "      <td>NaN</td>\n",
       "    </tr>\n",
       "    <tr>\n",
       "      <th>(85, 90]</th>\n",
       "      <td>0</td>\n",
       "      <td>NaN</td>\n",
       "      <td>NaN</td>\n",
       "      <td>NaN</td>\n",
       "    </tr>\n",
       "    <tr>\n",
       "      <th>(90, 95]</th>\n",
       "      <td>0</td>\n",
       "      <td>NaN</td>\n",
       "      <td>NaN</td>\n",
       "      <td>NaN</td>\n",
       "    </tr>\n",
       "    <tr>\n",
       "      <th>(95, 100]</th>\n",
       "      <td>0</td>\n",
       "      <td>NaN</td>\n",
       "      <td>NaN</td>\n",
       "      <td>NaN</td>\n",
       "    </tr>\n",
       "  </tbody>\n",
       "</table>\n",
       "</div>"
      ],
      "text/plain": [
       "                             count      mean  median   max\n",
       "binned <2.5 pinacle closing                               \n",
       "(0, 5]                           0       NaN     NaN   NaN\n",
       "(5, 10]                          0       NaN     NaN   NaN\n",
       "(10, 15]                         1  0.000000   0.000  0.00\n",
       "(15, 20]                         3  0.000000   0.000  0.00\n",
       "(20, 25]                         2  2.055000   2.055  4.11\n",
       "(25, 30]                        27  1.314074   0.000  3.83\n",
       "(30, 35]                        54  1.311296   0.000  3.31\n",
       "(35, 40]                       116  0.906897   0.000  2.85\n",
       "(40, 45]                       184  1.052826   0.000  2.49\n",
       "(45, 50]                       244  0.901107   0.000  2.22\n",
       "(50, 55]                       216  0.953981   0.910  1.99\n",
       "(55, 60]                       183  1.022568   1.690  1.81\n",
       "(60, 65]                        96  1.026771   1.580  1.66\n",
       "(65, 70]                        13  0.926154   1.500  1.52\n",
       "(70, 75]                         1  1.410000   1.410  1.41\n",
       "(75, 80]                         0       NaN     NaN   NaN\n",
       "(80, 85]                         0       NaN     NaN   NaN\n",
       "(85, 90]                         0       NaN     NaN   NaN\n",
       "(90, 95]                         0       NaN     NaN   NaN\n",
       "(95, 100]                        0       NaN     NaN   NaN"
      ]
     },
     "execution_count": 37,
     "metadata": {},
     "output_type": "execute_result"
    }
   ],
   "source": [
    "fdf_under_pinacle_closing_gb_agg = fdf_under_pinacle_closing.groupby('binned <2.5 pinacle closing')['payout_under_2.5_pinacle_closing'].agg(['count', 'mean', 'median', 'max'])\n",
    "fdf_under_pinacle_closing_gb_agg"
   ]
  },
  {
   "cell_type": "markdown",
   "id": "d8914022",
   "metadata": {},
   "source": [
    "### Over"
   ]
  },
  {
   "cell_type": "markdown",
   "id": "928173aa",
   "metadata": {},
   "source": [
    "#### Opening odds"
   ]
  },
  {
   "cell_type": "code",
   "execution_count": 38,
   "id": "54ff8220",
   "metadata": {},
   "outputs": [
    {
     "data": {
      "text/plain": [
       "binned >2.5 pinacle\n",
       "(0, 5]         0\n",
       "(5, 10]        0\n",
       "(10, 15]       0\n",
       "(15, 20]       0\n",
       "(20, 25]       0\n",
       "(25, 30]       0\n",
       "(30, 35]       1\n",
       "(35, 40]      29\n",
       "(40, 45]     119\n",
       "(45, 50]     229\n",
       "(50, 55]     230\n",
       "(55, 60]     235\n",
       "(60, 65]     171\n",
       "(65, 70]      77\n",
       "(70, 75]      35\n",
       "(75, 80]       9\n",
       "(80, 85]       5\n",
       "(85, 90]       0\n",
       "(90, 95]       0\n",
       "(95, 100]      0\n",
       "Name: payout_over_2.5_pinacle, dtype: int64"
      ]
     },
     "execution_count": 38,
     "metadata": {},
     "output_type": "execute_result"
    }
   ],
   "source": [
    "fdf_over_pinacle_gb_count = fdf_over_pinacle.groupby('binned >2.5 pinacle')['payout_over_2.5_pinacle'].count()\n",
    "fdf_over_pinacle_gb_count"
   ]
  },
  {
   "cell_type": "code",
   "execution_count": 39,
   "id": "82df8790",
   "metadata": {},
   "outputs": [
    {
     "data": {
      "text/plain": [
       "binned >2.5 pinacle\n",
       "(0, 5]            NaN\n",
       "(5, 10]           NaN\n",
       "(10, 15]          NaN\n",
       "(15, 20]          NaN\n",
       "(20, 25]          NaN\n",
       "(25, 30]          NaN\n",
       "(30, 35]     0.000000\n",
       "(35, 40]     0.795172\n",
       "(40, 45]     0.923025\n",
       "(45, 50]     0.929432\n",
       "(50, 55]     0.954913\n",
       "(55, 60]     1.010766\n",
       "(60, 65]     0.978304\n",
       "(65, 70]     0.999091\n",
       "(70, 75]     0.672857\n",
       "(75, 80]     1.010000\n",
       "(80, 85]     0.972000\n",
       "(85, 90]          NaN\n",
       "(90, 95]          NaN\n",
       "(95, 100]         NaN\n",
       "Name: payout_over_2.5_pinacle, dtype: float64"
      ]
     },
     "execution_count": 39,
     "metadata": {},
     "output_type": "execute_result"
    }
   ],
   "source": [
    "fdf_over_pinacle.groupby('binned >2.5 pinacle')['payout_over_2.5_pinacle'].mean()"
   ]
  },
  {
   "cell_type": "code",
   "execution_count": 40,
   "id": "bd75ca05",
   "metadata": {},
   "outputs": [
    {
     "data": {
      "text/plain": [
       "0.9514210526315788"
      ]
     },
     "execution_count": 40,
     "metadata": {},
     "output_type": "execute_result"
    }
   ],
   "source": [
    "fdf_over_pinacle_gb_mean = fdf_over_pinacle['payout_over_2.5_pinacle'].mean()\n",
    "fdf_over_pinacle_gb_mean"
   ]
  },
  {
   "cell_type": "code",
   "execution_count": 41,
   "id": "4ea9b7f0",
   "metadata": {},
   "outputs": [],
   "source": [
    "fdf_over_pinacle_above_60 = fdf_over_pinacle[fdf_over_pinacle['Implied Probability >2.5 pinacle']>60]"
   ]
  },
  {
   "cell_type": "code",
   "execution_count": 42,
   "id": "a4cf561f",
   "metadata": {},
   "outputs": [
    {
     "data": {
      "text/plain": [
       "0.9485521885521886"
      ]
     },
     "execution_count": 42,
     "metadata": {},
     "output_type": "execute_result"
    }
   ],
   "source": [
    "fdf_over_pinacle_above_60['payout_over_2.5_pinacle'].mean()"
   ]
  },
  {
   "cell_type": "markdown",
   "id": "7271f40c",
   "metadata": {},
   "source": [
    "#### Closing odds"
   ]
  },
  {
   "cell_type": "code",
   "execution_count": 43,
   "id": "dcfe8c84",
   "metadata": {},
   "outputs": [
    {
     "data": {
      "text/plain": [
       "binned >2.5 pinacle closing\n",
       "(0, 5]         0\n",
       "(5, 10]        0\n",
       "(10, 15]       0\n",
       "(15, 20]       0\n",
       "(20, 25]       0\n",
       "(25, 30]       0\n",
       "(30, 35]       2\n",
       "(35, 40]      38\n",
       "(40, 45]     137\n",
       "(45, 50]     228\n",
       "(50, 55]     227\n",
       "(55, 60]     216\n",
       "(60, 65]     159\n",
       "(65, 70]      65\n",
       "(70, 75]      44\n",
       "(75, 80]      20\n",
       "(80, 85]       2\n",
       "(85, 90]       2\n",
       "(90, 95]       0\n",
       "(95, 100]      0\n",
       "Name: payout_over_2.5_pinacle_closing, dtype: int64"
      ]
     },
     "execution_count": 43,
     "metadata": {},
     "output_type": "execute_result"
    }
   ],
   "source": [
    "fdf_over_pinacle_closing_gb_count = fdf_over_pinacle_closing.groupby('binned >2.5 pinacle closing')['payout_over_2.5_pinacle_closing'].count()\n",
    "fdf_over_pinacle_closing_gb_count"
   ]
  },
  {
   "cell_type": "code",
   "execution_count": 44,
   "id": "424a88e2",
   "metadata": {},
   "outputs": [
    {
     "data": {
      "text/plain": [
       "binned >2.5 pinacle closing\n",
       "(0, 5]            NaN\n",
       "(5, 10]           NaN\n",
       "(10, 15]          NaN\n",
       "(15, 20]          NaN\n",
       "(20, 25]          NaN\n",
       "(25, 30]          NaN\n",
       "(30, 35]     1.455000\n",
       "(35, 40]     0.763684\n",
       "(40, 45]     0.972628\n",
       "(45, 50]     0.931360\n",
       "(50, 55]     0.981718\n",
       "(55, 60]     1.017083\n",
       "(60, 65]     0.975723\n",
       "(65, 70]     0.914462\n",
       "(70, 75]     0.850455\n",
       "(75, 80]     0.787000\n",
       "(80, 85]     1.195000\n",
       "(85, 90]     1.135000\n",
       "(90, 95]          NaN\n",
       "(95, 100]         NaN\n",
       "Name: payout_over_2.5_pinacle_closing, dtype: float64"
      ]
     },
     "execution_count": 44,
     "metadata": {},
     "output_type": "execute_result"
    }
   ],
   "source": [
    "fdf_over_pinacle_closing_gb_mean = fdf_over_pinacle_closing.groupby('binned >2.5 pinacle closing')['payout_over_2.5_pinacle_closing'].mean()\n",
    "fdf_over_pinacle_closing_gb_mean"
   ]
  },
  {
   "cell_type": "code",
   "execution_count": 45,
   "id": "447431c4",
   "metadata": {},
   "outputs": [
    {
     "data": {
      "text/html": [
       "<div>\n",
       "<style scoped>\n",
       "    .dataframe tbody tr th:only-of-type {\n",
       "        vertical-align: middle;\n",
       "    }\n",
       "\n",
       "    .dataframe tbody tr th {\n",
       "        vertical-align: top;\n",
       "    }\n",
       "\n",
       "    .dataframe thead th {\n",
       "        text-align: right;\n",
       "    }\n",
       "</style>\n",
       "<table border=\"1\" class=\"dataframe\">\n",
       "  <thead>\n",
       "    <tr style=\"text-align: right;\">\n",
       "      <th></th>\n",
       "      <th>count</th>\n",
       "      <th>mean</th>\n",
       "      <th>median</th>\n",
       "      <th>max</th>\n",
       "    </tr>\n",
       "    <tr>\n",
       "      <th>binned &gt;2.5 pinacle closing</th>\n",
       "      <th></th>\n",
       "      <th></th>\n",
       "      <th></th>\n",
       "      <th></th>\n",
       "    </tr>\n",
       "  </thead>\n",
       "  <tbody>\n",
       "    <tr>\n",
       "      <th>(0, 5]</th>\n",
       "      <td>0</td>\n",
       "      <td>NaN</td>\n",
       "      <td>NaN</td>\n",
       "      <td>NaN</td>\n",
       "    </tr>\n",
       "    <tr>\n",
       "      <th>(5, 10]</th>\n",
       "      <td>0</td>\n",
       "      <td>NaN</td>\n",
       "      <td>NaN</td>\n",
       "      <td>NaN</td>\n",
       "    </tr>\n",
       "    <tr>\n",
       "      <th>(10, 15]</th>\n",
       "      <td>0</td>\n",
       "      <td>NaN</td>\n",
       "      <td>NaN</td>\n",
       "      <td>NaN</td>\n",
       "    </tr>\n",
       "    <tr>\n",
       "      <th>(15, 20]</th>\n",
       "      <td>0</td>\n",
       "      <td>NaN</td>\n",
       "      <td>NaN</td>\n",
       "      <td>NaN</td>\n",
       "    </tr>\n",
       "    <tr>\n",
       "      <th>(20, 25]</th>\n",
       "      <td>0</td>\n",
       "      <td>NaN</td>\n",
       "      <td>NaN</td>\n",
       "      <td>NaN</td>\n",
       "    </tr>\n",
       "    <tr>\n",
       "      <th>(25, 30]</th>\n",
       "      <td>0</td>\n",
       "      <td>NaN</td>\n",
       "      <td>NaN</td>\n",
       "      <td>NaN</td>\n",
       "    </tr>\n",
       "    <tr>\n",
       "      <th>(30, 35]</th>\n",
       "      <td>2</td>\n",
       "      <td>1.455000</td>\n",
       "      <td>1.455</td>\n",
       "      <td>2.91</td>\n",
       "    </tr>\n",
       "    <tr>\n",
       "      <th>(35, 40]</th>\n",
       "      <td>38</td>\n",
       "      <td>0.763684</td>\n",
       "      <td>0.000</td>\n",
       "      <td>2.81</td>\n",
       "    </tr>\n",
       "    <tr>\n",
       "      <th>(40, 45]</th>\n",
       "      <td>137</td>\n",
       "      <td>0.972628</td>\n",
       "      <td>0.000</td>\n",
       "      <td>2.49</td>\n",
       "    </tr>\n",
       "    <tr>\n",
       "      <th>(45, 50]</th>\n",
       "      <td>228</td>\n",
       "      <td>0.931360</td>\n",
       "      <td>0.000</td>\n",
       "      <td>2.22</td>\n",
       "    </tr>\n",
       "    <tr>\n",
       "      <th>(50, 55]</th>\n",
       "      <td>227</td>\n",
       "      <td>0.981718</td>\n",
       "      <td>1.820</td>\n",
       "      <td>1.99</td>\n",
       "    </tr>\n",
       "    <tr>\n",
       "      <th>(55, 60]</th>\n",
       "      <td>216</td>\n",
       "      <td>1.017083</td>\n",
       "      <td>1.695</td>\n",
       "      <td>1.81</td>\n",
       "    </tr>\n",
       "    <tr>\n",
       "      <th>(60, 65]</th>\n",
       "      <td>159</td>\n",
       "      <td>0.975723</td>\n",
       "      <td>1.560</td>\n",
       "      <td>1.66</td>\n",
       "    </tr>\n",
       "    <tr>\n",
       "      <th>(65, 70]</th>\n",
       "      <td>65</td>\n",
       "      <td>0.914462</td>\n",
       "      <td>1.450</td>\n",
       "      <td>1.53</td>\n",
       "    </tr>\n",
       "    <tr>\n",
       "      <th>(70, 75]</th>\n",
       "      <td>44</td>\n",
       "      <td>0.850455</td>\n",
       "      <td>1.355</td>\n",
       "      <td>1.42</td>\n",
       "    </tr>\n",
       "    <tr>\n",
       "      <th>(75, 80]</th>\n",
       "      <td>20</td>\n",
       "      <td>0.787000</td>\n",
       "      <td>1.285</td>\n",
       "      <td>1.33</td>\n",
       "    </tr>\n",
       "    <tr>\n",
       "      <th>(80, 85]</th>\n",
       "      <td>2</td>\n",
       "      <td>1.195000</td>\n",
       "      <td>1.195</td>\n",
       "      <td>1.20</td>\n",
       "    </tr>\n",
       "    <tr>\n",
       "      <th>(85, 90]</th>\n",
       "      <td>2</td>\n",
       "      <td>1.135000</td>\n",
       "      <td>1.135</td>\n",
       "      <td>1.15</td>\n",
       "    </tr>\n",
       "    <tr>\n",
       "      <th>(90, 95]</th>\n",
       "      <td>0</td>\n",
       "      <td>NaN</td>\n",
       "      <td>NaN</td>\n",
       "      <td>NaN</td>\n",
       "    </tr>\n",
       "    <tr>\n",
       "      <th>(95, 100]</th>\n",
       "      <td>0</td>\n",
       "      <td>NaN</td>\n",
       "      <td>NaN</td>\n",
       "      <td>NaN</td>\n",
       "    </tr>\n",
       "  </tbody>\n",
       "</table>\n",
       "</div>"
      ],
      "text/plain": [
       "                             count      mean  median   max\n",
       "binned >2.5 pinacle closing                               \n",
       "(0, 5]                           0       NaN     NaN   NaN\n",
       "(5, 10]                          0       NaN     NaN   NaN\n",
       "(10, 15]                         0       NaN     NaN   NaN\n",
       "(15, 20]                         0       NaN     NaN   NaN\n",
       "(20, 25]                         0       NaN     NaN   NaN\n",
       "(25, 30]                         0       NaN     NaN   NaN\n",
       "(30, 35]                         2  1.455000   1.455  2.91\n",
       "(35, 40]                        38  0.763684   0.000  2.81\n",
       "(40, 45]                       137  0.972628   0.000  2.49\n",
       "(45, 50]                       228  0.931360   0.000  2.22\n",
       "(50, 55]                       227  0.981718   1.820  1.99\n",
       "(55, 60]                       216  1.017083   1.695  1.81\n",
       "(60, 65]                       159  0.975723   1.560  1.66\n",
       "(65, 70]                        65  0.914462   1.450  1.53\n",
       "(70, 75]                        44  0.850455   1.355  1.42\n",
       "(75, 80]                        20  0.787000   1.285  1.33\n",
       "(80, 85]                         2  1.195000   1.195  1.20\n",
       "(85, 90]                         2  1.135000   1.135  1.15\n",
       "(90, 95]                         0       NaN     NaN   NaN\n",
       "(95, 100]                        0       NaN     NaN   NaN"
      ]
     },
     "execution_count": 45,
     "metadata": {},
     "output_type": "execute_result"
    }
   ],
   "source": [
    "fdf_over_pinacle_closing_gb_agg = fdf_over_pinacle_closing.groupby('binned >2.5 pinacle closing')['payout_over_2.5_pinacle_closing'].agg(['count', 'mean', 'median', 'max'])\n",
    "fdf_over_pinacle_closing_gb_agg"
   ]
  },
  {
   "cell_type": "markdown",
   "id": "eca3df08",
   "metadata": {},
   "source": [
    "## Results per implied prob bet365"
   ]
  },
  {
   "cell_type": "markdown",
   "id": "a4abadb9",
   "metadata": {},
   "source": [
    "### Under"
   ]
  },
  {
   "cell_type": "markdown",
   "id": "c5b84deb",
   "metadata": {},
   "source": [
    "#### Opening odds"
   ]
  },
  {
   "cell_type": "code",
   "execution_count": 46,
   "id": "4c377d92",
   "metadata": {},
   "outputs": [
    {
     "data": {
      "text/plain": [
       "binned <2.5 365\n",
       "(0, 5]         0\n",
       "(5, 10]        0\n",
       "(10, 15]       0\n",
       "(15, 20]       0\n",
       "(20, 25]       6\n",
       "(25, 30]      14\n",
       "(30, 35]      39\n",
       "(35, 40]     105\n",
       "(40, 45]     123\n",
       "(45, 50]     333\n",
       "(50, 55]     205\n",
       "(55, 60]     160\n",
       "(60, 65]     124\n",
       "(65, 70]      30\n",
       "(70, 75]       0\n",
       "(75, 80]       0\n",
       "(80, 85]       0\n",
       "(85, 90]       0\n",
       "(90, 95]       0\n",
       "(95, 100]      0\n",
       "Name: payout_under_2.5_365, dtype: int64"
      ]
     },
     "execution_count": 46,
     "metadata": {},
     "output_type": "execute_result"
    }
   ],
   "source": [
    "fdf_under_bet365_gb_count = fdf_under_365.groupby('binned <2.5 365')['payout_under_2.5_365'].count()\n",
    "fdf_under_bet365_gb_count"
   ]
  },
  {
   "cell_type": "code",
   "execution_count": 47,
   "id": "d64f9d96",
   "metadata": {},
   "outputs": [
    {
     "data": {
      "text/plain": [
       "binned <2.5 365\n",
       "(0, 5]            NaN\n",
       "(5, 10]           NaN\n",
       "(10, 15]          NaN\n",
       "(15, 20]          NaN\n",
       "(20, 25]     0.721667\n",
       "(25, 30]     0.985714\n",
       "(30, 35]     1.517949\n",
       "(35, 40]     0.964952\n",
       "(40, 45]     0.950325\n",
       "(45, 50]     0.916517\n",
       "(50, 55]     0.912146\n",
       "(55, 60]     1.034000\n",
       "(60, 65]     1.010968\n",
       "(65, 70]     0.959000\n",
       "(70, 75]          NaN\n",
       "(75, 80]          NaN\n",
       "(80, 85]          NaN\n",
       "(85, 90]          NaN\n",
       "(90, 95]          NaN\n",
       "(95, 100]         NaN\n",
       "Name: payout_under_2.5_365, dtype: float64"
      ]
     },
     "execution_count": 47,
     "metadata": {},
     "output_type": "execute_result"
    }
   ],
   "source": [
    "fdf_under_bet365_gb_mean = fdf_under_365.groupby('binned <2.5 365')['payout_under_2.5_365'].mean()\n",
    "fdf_under_bet365_gb_mean"
   ]
  },
  {
   "cell_type": "code",
   "execution_count": 48,
   "id": "f5b7baa4",
   "metadata": {},
   "outputs": [
    {
     "data": {
      "text/plain": [
       "0.9721685689201053"
      ]
     },
     "execution_count": 48,
     "metadata": {},
     "output_type": "execute_result"
    }
   ],
   "source": [
    "fdf_under_365['payout_under_2.5_365'].mean()"
   ]
  },
  {
   "cell_type": "code",
   "execution_count": 49,
   "id": "e5a1828a",
   "metadata": {},
   "outputs": [],
   "source": [
    "fdf_under_365_above_40 = fdf_under_365[fdf_under_365['Implied Probability <2.5 365']>40]"
   ]
  },
  {
   "cell_type": "code",
   "execution_count": 50,
   "id": "a17ec083",
   "metadata": {},
   "outputs": [
    {
     "data": {
      "text/plain": [
       "0.9524615384615385"
      ]
     },
     "execution_count": 50,
     "metadata": {},
     "output_type": "execute_result"
    }
   ],
   "source": [
    "fdf_under_365_above_40['payout_under_2.5_365'].mean()"
   ]
  },
  {
   "cell_type": "markdown",
   "id": "cab820bb",
   "metadata": {},
   "source": [
    "#### Closing odds"
   ]
  },
  {
   "cell_type": "code",
   "execution_count": 51,
   "id": "7bb752be",
   "metadata": {},
   "outputs": [
    {
     "data": {
      "text/plain": [
       "binned <2.5 365 closing\n",
       "(0, 5]         0\n",
       "(5, 10]        0\n",
       "(10, 15]       0\n",
       "(15, 20]       2\n",
       "(20, 25]       3\n",
       "(25, 30]      27\n",
       "(30, 35]      43\n",
       "(35, 40]     102\n",
       "(40, 45]     111\n",
       "(45, 50]     316\n",
       "(50, 55]     183\n",
       "(55, 60]     163\n",
       "(60, 65]     148\n",
       "(65, 70]      40\n",
       "(70, 75]       1\n",
       "(75, 80]       0\n",
       "(80, 85]       0\n",
       "(85, 90]       0\n",
       "(90, 95]       0\n",
       "(95, 100]      0\n",
       "Name: payout_under_2.5_365_closing, dtype: int64"
      ]
     },
     "execution_count": 51,
     "metadata": {},
     "output_type": "execute_result"
    }
   ],
   "source": [
    "fdf_under_bet365_closing_gb_count = fdf_under_365_closing.groupby('binned <2.5 365 closing')['payout_under_2.5_365_closing'].count()\n",
    "fdf_under_bet365_closing_gb_count"
   ]
  },
  {
   "cell_type": "code",
   "execution_count": 52,
   "id": "cd7cd46c",
   "metadata": {},
   "outputs": [
    {
     "data": {
      "text/plain": [
       "binned <2.5 365 closing\n",
       "(0, 5]            NaN\n",
       "(5, 10]           NaN\n",
       "(10, 15]          NaN\n",
       "(15, 20]     0.000000\n",
       "(20, 25]     0.000000\n",
       "(25, 30]     1.451852\n",
       "(30, 35]     1.376744\n",
       "(35, 40]     0.841667\n",
       "(40, 45]     1.071261\n",
       "(45, 50]     0.907215\n",
       "(50, 55]     0.965082\n",
       "(55, 60]     0.964110\n",
       "(60, 65]     0.933311\n",
       "(65, 70]     1.059000\n",
       "(70, 75]     1.360000\n",
       "(75, 80]          NaN\n",
       "(80, 85]          NaN\n",
       "(85, 90]          NaN\n",
       "(90, 95]          NaN\n",
       "(95, 100]         NaN\n",
       "Name: payout_under_2.5_365_closing, dtype: float64"
      ]
     },
     "execution_count": 52,
     "metadata": {},
     "output_type": "execute_result"
    }
   ],
   "source": [
    "fdf_under_bet365_closing_gb_mean = fdf_under_365_closing.groupby('binned <2.5 365 closing')['payout_under_2.5_365_closing'].mean()\n",
    "fdf_under_bet365_closing_gb_mean"
   ]
  },
  {
   "cell_type": "markdown",
   "id": "d066b0ca",
   "metadata": {},
   "source": [
    "### Over"
   ]
  },
  {
   "cell_type": "markdown",
   "id": "12e4a9a9",
   "metadata": {},
   "source": [
    "#### Opening Odds"
   ]
  },
  {
   "cell_type": "code",
   "execution_count": 53,
   "id": "f0ec2853",
   "metadata": {},
   "outputs": [
    {
     "data": {
      "text/plain": [
       "binned >2.5 365\n",
       "(0, 5]         0\n",
       "(5, 10]        0\n",
       "(10, 15]       0\n",
       "(15, 20]       0\n",
       "(20, 25]       0\n",
       "(25, 30]       0\n",
       "(30, 35]       0\n",
       "(35, 40]      30\n",
       "(40, 45]      67\n",
       "(45, 50]     247\n",
       "(50, 55]     207\n",
       "(55, 60]     219\n",
       "(60, 65]     205\n",
       "(65, 70]     105\n",
       "(70, 75]      39\n",
       "(75, 80]      15\n",
       "(80, 85]       5\n",
       "(85, 90]       0\n",
       "(90, 95]       0\n",
       "(95, 100]      0\n",
       "Name: payout_over_2.5_365, dtype: int64"
      ]
     },
     "execution_count": 53,
     "metadata": {},
     "output_type": "execute_result"
    }
   ],
   "source": [
    "fdf_over_bet365_gb_count = fdf_over_365.groupby('binned >2.5 365')['payout_over_2.5_365'].count()\n",
    "fdf_over_bet365_gb_count"
   ]
  },
  {
   "cell_type": "code",
   "execution_count": 54,
   "id": "7e9083d7",
   "metadata": {},
   "outputs": [
    {
     "data": {
      "text/plain": [
       "binned >2.5 365\n",
       "(0, 5]            NaN\n",
       "(5, 10]           NaN\n",
       "(10, 15]          NaN\n",
       "(15, 20]          NaN\n",
       "(20, 25]          NaN\n",
       "(25, 30]          NaN\n",
       "(30, 35]          NaN\n",
       "(35, 40]     0.916667\n",
       "(40, 45]     0.862388\n",
       "(45, 50]     0.905344\n",
       "(50, 55]     0.912899\n",
       "(55, 60]     1.020320\n",
       "(60, 65]     0.944927\n",
       "(65, 70]     0.938857\n",
       "(70, 75]     0.708718\n",
       "(75, 80]     0.956000\n",
       "(80, 85]     0.976000\n",
       "(85, 90]          NaN\n",
       "(90, 95]          NaN\n",
       "(95, 100]         NaN\n",
       "Name: payout_over_2.5_365, dtype: float64"
      ]
     },
     "execution_count": 54,
     "metadata": {},
     "output_type": "execute_result"
    }
   ],
   "source": [
    "fdf_over_bet365_gb_mean = fdf_over_365.groupby('binned >2.5 365')['payout_over_2.5_365'].mean()\n",
    "fdf_over_bet365_gb_mean"
   ]
  },
  {
   "cell_type": "code",
   "execution_count": 55,
   "id": "42b66601",
   "metadata": {},
   "outputs": [
    {
     "data": {
      "text/plain": [
       "0.9310535557506585"
      ]
     },
     "execution_count": 55,
     "metadata": {},
     "output_type": "execute_result"
    }
   ],
   "source": [
    "fdf_over_365['payout_over_2.5_365'].mean()"
   ]
  },
  {
   "cell_type": "markdown",
   "id": "c0969105",
   "metadata": {},
   "source": [
    "#### Closing Odds"
   ]
  },
  {
   "cell_type": "code",
   "execution_count": 56,
   "id": "d4f91b68",
   "metadata": {},
   "outputs": [
    {
     "data": {
      "text/plain": [
       "binned >2.5 365 closing\n",
       "(0, 5]         0\n",
       "(5, 10]        0\n",
       "(10, 15]       0\n",
       "(15, 20]       0\n",
       "(20, 25]       0\n",
       "(25, 30]       0\n",
       "(30, 35]       1\n",
       "(35, 40]      40\n",
       "(40, 45]      81\n",
       "(45, 50]     261\n",
       "(50, 55]     179\n",
       "(55, 60]     204\n",
       "(60, 65]     196\n",
       "(65, 70]     102\n",
       "(70, 75]      43\n",
       "(75, 80]      28\n",
       "(80, 85]       2\n",
       "(85, 90]       2\n",
       "(90, 95]       0\n",
       "(95, 100]      0\n",
       "Name: payout_over_2.5_365_closing, dtype: int64"
      ]
     },
     "execution_count": 56,
     "metadata": {},
     "output_type": "execute_result"
    }
   ],
   "source": [
    "fdf_over_bet365_closing_gb_count = fdf_over_365_closing.groupby('binned >2.5 365 closing')['payout_over_2.5_365_closing'].count()\n",
    "fdf_over_bet365_closing_gb_count"
   ]
  },
  {
   "cell_type": "code",
   "execution_count": 57,
   "id": "901ec7b4",
   "metadata": {},
   "outputs": [
    {
     "data": {
      "text/plain": [
       "binned >2.5 365 closing\n",
       "(0, 5]            NaN\n",
       "(5, 10]           NaN\n",
       "(10, 15]          NaN\n",
       "(15, 20]          NaN\n",
       "(20, 25]          NaN\n",
       "(25, 30]          NaN\n",
       "(30, 35]     0.000000\n",
       "(35, 40]     0.774750\n",
       "(40, 45]     0.918148\n",
       "(45, 50]     0.942759\n",
       "(50, 55]     0.958547\n",
       "(55, 60]     1.022990\n",
       "(60, 65]     0.883776\n",
       "(65, 70]     1.015588\n",
       "(70, 75]     0.771163\n",
       "(75, 80]     0.786786\n",
       "(80, 85]     1.220000\n",
       "(85, 90]     1.140000\n",
       "(90, 95]          NaN\n",
       "(95, 100]         NaN\n",
       "Name: payout_over_2.5_365_closing, dtype: float64"
      ]
     },
     "execution_count": 57,
     "metadata": {},
     "output_type": "execute_result"
    }
   ],
   "source": [
    "fdf_over_bet365_closing_gb_mean = fdf_over_365_closing.groupby('binned >2.5 365 closing')['payout_over_2.5_365_closing'].mean()\n",
    "fdf_over_bet365_closing_gb_mean"
   ]
  },
  {
   "cell_type": "code",
   "execution_count": 58,
   "id": "6929b581",
   "metadata": {},
   "outputs": [
    {
     "data": {
      "text/plain": [
       "0.9372017543859648"
      ]
     },
     "execution_count": 58,
     "metadata": {},
     "output_type": "execute_result"
    }
   ],
   "source": [
    "fdf_over_365_closing['payout_over_2.5_365_closing'].mean()"
   ]
  },
  {
   "cell_type": "code",
   "execution_count": null,
   "id": "507750a0",
   "metadata": {},
   "outputs": [],
   "source": []
  },
  {
   "cell_type": "code",
   "execution_count": null,
   "id": "1dd59ee9",
   "metadata": {},
   "outputs": [],
   "source": []
  }
 ],
 "metadata": {
  "kernelspec": {
   "display_name": "Python 3 (ipykernel)",
   "language": "python",
   "name": "python3"
  },
  "language_info": {
   "codemirror_mode": {
    "name": "ipython",
    "version": 3
   },
   "file_extension": ".py",
   "mimetype": "text/x-python",
   "name": "python",
   "nbconvert_exporter": "python",
   "pygments_lexer": "ipython3",
   "version": "3.8.12"
  },
  "toc": {
   "base_numbering": 1,
   "nav_menu": {},
   "number_sections": true,
   "sideBar": true,
   "skip_h1_title": false,
   "title_cell": "Table of Contents",
   "title_sidebar": "Contents",
   "toc_cell": false,
   "toc_position": {},
   "toc_section_display": true,
   "toc_window_display": false
  },
  "varInspector": {
   "cols": {
    "lenName": 16,
    "lenType": 16,
    "lenVar": 40
   },
   "kernels_config": {
    "python": {
     "delete_cmd_postfix": "",
     "delete_cmd_prefix": "del ",
     "library": "var_list.py",
     "varRefreshCmd": "print(var_dic_list())"
    },
    "r": {
     "delete_cmd_postfix": ") ",
     "delete_cmd_prefix": "rm(",
     "library": "var_list.r",
     "varRefreshCmd": "cat(var_dic_list()) "
    }
   },
   "types_to_exclude": [
    "module",
    "function",
    "builtin_function_or_method",
    "instance",
    "_Feature"
   ],
   "window_display": false
  }
 },
 "nbformat": 4,
 "nbformat_minor": 5
}
