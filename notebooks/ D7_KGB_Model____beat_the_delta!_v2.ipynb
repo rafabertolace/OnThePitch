{
 "cells": [
  {
   "cell_type": "markdown",
   "id": "d1816ff7",
   "metadata": {},
   "source": [
    "# Imports and installs"
   ]
  },
  {
   "cell_type": "code",
   "execution_count": 282,
   "id": "d4cf7014",
   "metadata": {},
   "outputs": [],
   "source": [
    "#pip install XGBoost"
   ]
  },
  {
   "cell_type": "code",
   "execution_count": 283,
   "id": "06e1f50a",
   "metadata": {},
   "outputs": [],
   "source": [
    "import pandas as pd\n",
    "import os\n",
    "from os import listdir\n",
    "from os.path import isfile, join\n",
    "import matplotlib.pyplot as plt\n",
    "from scipy.stats import mode\n",
    "from sklearn.preprocessing import OneHotEncoder, MinMaxScaler, StandardScaler, RobustScaler\n",
    "from sklearn.metrics import r2_score, accuracy_score, precision_score\n",
    "from sklearn.linear_model import LogisticRegression\n",
    "import numpy as np\n",
    "import xgboost as xgb\n",
    "import sklearn\n",
    "from sklearn.model_selection import train_test_split\n",
    "import statsmodels.api as sm\n",
    "import seaborn as sns\n",
    "from sklearn.ensemble import RandomForestRegressor\n",
    "import sklearn\n",
    "import shap\n",
    "import itertools"
   ]
  },
  {
   "cell_type": "markdown",
   "id": "b295e690",
   "metadata": {},
   "source": [
    "# Loading the Dataframe"
   ]
  },
  {
   "cell_type": "markdown",
   "id": "3fa4f75c",
   "metadata": {},
   "source": [
    "## Merging the Seasons csv files (2019-2020 untill 2021-2022)"
   ]
  },
  {
   "cell_type": "code",
   "execution_count": 284,
   "id": "39b6d4af",
   "metadata": {},
   "outputs": [
    {
     "name": "stdout",
     "output_type": "stream",
     "text": [
      "['spain_2019_2020_1.csv', 'italy_2020_2021_2.csv', 'germany2_2019_2020.csv:Zone.Identifier', 'england3_2019_2020.csv:Zone.Identifier', 'england4_2020_2021.csv:Zone.Identifier', 'italy_2021_2022_1.csv', 'italy_2020_2021.csv:Zone.Identifier', 'italy_2021_2022_2.csv', 'spain_2020_2021_1.csv', 'scotland4_2021_2022.csv:Zone.Identifier', 'portugal_2020_2021.csv:Zone.Identifier', 'scotland_2021_2022.csv:Zone.Identifier', 'germany2_2020_2021.csv:Zone.Identifier', 'spain_2020_2021_2.csv', 'scotland_2020_2021_2.csv', 'Turkey_2021_2022_1.csv', 'france2_2021_2022.csv:Zone.Identifier', 'scotland_2020_2021_3.csv', 'scotland2_2020_2021.csv:Zone.Identifier', 'scotland_2019_2020_1.csv', 'england3_2021_2022.csv:Zone.Identifier', 'france_2019_2020.csv:Zone.Identifier', 'france_2021_2022_1.csv', 'england2_2020_2021.csv:Zone.Identifier', 'germany_2021_2022_1.csv', 'belgium_2020_2021_1.csv', 'scotland_2021_2022_4.csv', 'Eredivisie_2020_2021.csv:Zone.Identifier', 'Greece_2020_2021.csv:Zone.Identifier', 'scotland_2020_2021_1.csv', 'germany_2020_2021.csv:Zone.Identifier', 'scotland_2020_2021.csv:Zone.Identifier', 'france_2019_2020_1.csv', 'germany_2021_2022_2.csv', 'germany_2019_2020_1.csv', 'italy2_2020_2021.csv:Zone.Identifier', 'england_2020_2021_3.csv', 'germany_2019_2020.csv:Zone.Identifier', 'scotland_2019_2020_2.csv', 'italy_2019_2020_1.csv', 'scotland_2020_2021_4.csv', 'france_2021_2022.csv:Zone.Identifier', 'Turkey_2021_2022.csv:Zone.Identifier', 'italy_2019_2020.csv:Zone.Identifier', 'scotland3_2021_2022.csv:Zone.Identifier', 'Greece_2021_2022.csv:Zone.Identifier', 'portugal_2021_2022_1.csv', 'france_2020_2021.csv:Zone.Identifier', 'scotland4_2019_2020.csv:Zone.Identifier', 'spain2_2020_2021.csv:Zone.Identifier', 'scotland_2019_2020.csv:Zone.Identifier', 'italy2_2021_2022.csv:Zone.Identifier', 'france_2020_2021_2.csv', 'scotland3_2019_2020.csv:Zone.Identifier', 'england2_2021_2022.csv:Zone.Identifier', 'Greece_2019_2020.csv:Zone.Identifier', 'scotland_2021_2022_3.csv', 'Turkey_2019_2020.csv:Zone.Identifier', 'england_2020_2021.csv:Zone.Identifier', 'england_2021_2022_3.csv', 'portugal_2019_2020_1.csv', 'belgium_2019_2020.csv:Zone.Identifier', 'Greece_2021_2022_1.csv', 'england_2020_2021_4.csv', 'spain_2019_2020.csv:Zone.Identifier', 'scotland2_2021_2022.csv:Zone.Identifier', 'england_2021_2022_4.csv', 'belgium_2020_2021.csv:Zone.Identifier', 'england4_2021_2022.csv:Zone.Identifier', 'england3_2020_2021.csv:Zone.Identifier', 'france_2020_2021_1.csv', 'germany_2020_2021_1.csv', 'scotland_2019_2020_4.csv', 'spain_2019_20220_2.csv', 'spain_2021_2022.csv:Zone.Identifier', 'germany_2019_2020_2.csv', 'england_2019_2020_4.csv', 'italy2_2019_2020.csv:Zone.Identifier', 'germany_2021_2022.csv:Zone.Identifier', 'england4_2019_2020.csv:Zone.Identifier', 'Turkey_2020_2021.csv:Zone.Identifier', 'scotland_2021_2022_1.csv', 'england_2020_2021_2.csv', 'france_2019_2020_2.csv', 'Turkey_2019_2020_1.csv', 'england_2019_2020_2.csv', 'italy_2021_2022.csv:Zone.Identifier', 'spain2_2021_2022.csv:Zone.Identifier', 'Eredivisie_2021_2022_1.csv', 'belgium_2021_2022.csv:Zone.Identifier', 'Turkey_2020_2021_1.csv', 'portugal_2021_2022.csv:Zone.Identifier', 'france2_2020_2021.csv:Zone.Identifier', 'spain2_2019_20220.csv:Zone.Identifier', 'spain_2021_2022_1.csv', 'france_2021_2022_2.csv', 'belgium_2021_2022_1.csv', 'Greece_2019_2020_1.csv', 'belgium_2019_2020_1.csv', 'england_2019_2020_1.csv', 'Greece_2020_2021_1.csv', 'spain_2020_2021.csv:Zone.Identifier', 'france2_2019_2020.csv:Zone.Identifier', 'Eredivisie_2021_2022.csv:Zone.Identifier', 'spain_2021_2022_2.csv', 'italy_2019_2020_2.csv', 'portugal_2020_2021_1.csv', 'england_2019_2020.csv:Zone.Identifier', 'Eredivisie_2020_2021_1.csv', 'england2_2019_2020.csv:Zone.Identifier', 'portugal_2019_2020.csv:Zone.Identifier', 'england_2021_2022.csv:Zone.Identifier', 'scotland4_2020_2021.csv:Zone.Identifier', 'scotland2_2019_2020.csv:Zone.Identifier', 'italy_2020_2021_1.csv', 'scotland3_2020_2021.csv:Zone.Identifier', 'Eredivisie_2019_2020_1.csv', 'england_2021_2022_2.csv', 'germany2_2021_2022.csv:Zone.Identifier', 'england_2020_2021_1.csv', 'england_2019_2020_3.csv', 'scotland_2021_2022_2.csv', 'scotland_2019_2020_3.csv', 'Eredivisie_2019_2020.csv:Zone.Identifier', 'england_2021_2022_1.csv', 'germany_2020_2021_2.csv']\n"
     ]
    }
   ],
   "source": [
    "# Customise based on your path and folder organisation\n",
    "print(os.listdir('../raw_data/All4'))"
   ]
  },
  {
   "cell_type": "code",
   "execution_count": 285,
   "id": "2208c966",
   "metadata": {},
   "outputs": [],
   "source": [
    "# Concatenate all the CSVs\n",
    "\n",
    "files = [file for file in os.listdir('../raw_data/All4') if file.endswith('.csv')]\n",
    "data = pd.DataFrame()\n",
    "\n",
    "for file in files:\n",
    "    df = pd.read_csv('../raw_data/All4/' + file)\n",
    "    df['country']=str(file)[0:2]\n",
    "    df['country_division']=int(str(file)[-5:-4])\n",
    "    data = pd.concat([data, df])"
   ]
  },
  {
   "cell_type": "markdown",
   "id": "32c8ad8d",
   "metadata": {},
   "source": [
    "# Features Engineering"
   ]
  },
  {
   "cell_type": "code",
   "execution_count": 286,
   "id": "acad4a1a",
   "metadata": {},
   "outputs": [],
   "source": [
    "#Loading the function\n",
    "\n",
    "def feature_engineering(data, b=20, binned=False):\n",
    "    '''\n",
    "    This function creates all the columns that will be needed to create the analysis \n",
    "    and return the dataframe with all this changes\n",
    "    \n",
    "    b is the number of bins that we want to work with. Our start value for b will be 20.\n",
    "        '''\n",
    "    #------------------------Number of Goals, Over and Under -----------------------------------\n",
    "    \n",
    "    # total number of goals = goals from the home team + goals from visiting team\n",
    "    data['nb_goals']=data['FTHG']+data['FTAG']\n",
    "\n",
    "    # boolean: true or false regarding whether they were more than 2.5 goals\n",
    "    data['over_2.5_goals']=data['nb_goals']>2.5\n",
    "\n",
    "    # boolean: true or false regarding whether they were less than 2.5 goals\n",
    "    data['under_2.5_goals']=data['nb_goals']<2.5\n",
    "    \n",
    "    #-----------------------------Payout Opening ----------------------------------------------\n",
    "    \n",
    "    # payout under 2.5 for Average OPENING odds\n",
    "    data['payout_avg_under_2.5'] = data['under_2.5_goals']*data['Avg<2.5']\n",
    "\n",
    "    # payout over 2.5 for Average OPENING odds\n",
    "    data['payout_avg_over_2.5'] = data['over_2.5_goals']*data['Avg>2.5']\n",
    "\n",
    "    #payout UNDER 2.5 for PINACLE specifically\n",
    "    data['payout_under_2.5_pinacle'] = data['under_2.5_goals']*data['P<2.5']\n",
    "\n",
    "    #payout OVER 2.5 for PINACLE specifically\n",
    "    data['payout_over_2.5_pinacle'] = data['over_2.5_goals']*data['P>2.5']\n",
    "\n",
    "    #payout UNDER 2.5 for 365 specifically\n",
    "    data['payout_under_2.5_365'] = data['under_2.5_goals']*data['B365<2.5']\n",
    "\n",
    "    #payout OVER 2.5 for 365 specifically\n",
    "    data['payout_over_2.5_365'] = data['over_2.5_goals']*data['B365>2.5']\n",
    "    \n",
    "    #------------------------------Payout Closing --------------------------------------------\n",
    "    \n",
    "    # payout under 2.5 for Average CLOSING odds\n",
    "    data['payout_avg_under_closing_2.5'] = data['under_2.5_goals']*data['AvgC<2.5']\n",
    "\n",
    "    # payout over 2.5 for Average CLOSING odds\n",
    "    data['payout_avg_over_closing_2.5'] = data['over_2.5_goals']*data['AvgC>2.5']\n",
    "\n",
    "    #payout UNDER 2.5 for PINACLE closing ddds specifically\n",
    "    data['payout_under_2.5_pinacle_closing'] = data['under_2.5_goals']*data['PC<2.5']\n",
    "\n",
    "    #payout OVER 2.5 for PINACLE closing odds specifically\n",
    "    data['payout_over_2.5_pinacle_closing'] = data['over_2.5_goals']*data['PC>2.5']\n",
    "\n",
    "    #payout UNDER 2.5 for 365 closing odds specifically\n",
    "    data['payout_under_2.5_365_closing'] = data['under_2.5_goals']*data['B365C<2.5']\n",
    "\n",
    "    #payout OVER 2.5 for 365 closing odds specifically\n",
    "    data['payout_over_2.5_365_closing'] = data['over_2.5_goals']*data['B365C>2.5']\n",
    "    \n",
    "    #-------------------------- Implied Probability Opening ----------------------------------------\n",
    "    \n",
    "    #Implied Probability UNDER 2.5 goals for for overall market opening odds (Avg) \n",
    "    data['Implied Probability <2.5 avg']=1/data['Avg<2.5']*100\n",
    "\n",
    "    #Implied Probability OVER 2.5 goals for for overall market opening odds (Avg) \n",
    "    data['Implied Probability >2.5 avg']=1/data['Avg>2.5']*100\n",
    "\n",
    "    #Implied Probability UNDER 2.5 goals for PINACLE\n",
    "    data['Implied Probability <2.5 pinacle']=1/data['P<2.5']*100\n",
    "\n",
    "    #Implied Probability OVER 2.5 goals for PINACLE\n",
    "    data['Implied Probability >2.5 pinacle']=1/data['P>2.5']*100\n",
    "\n",
    "    #Implied Probability UNDER 2.5 goals for 365\n",
    "    data['Implied Probability <2.5 365']=1/data['B365<2.5']*100\n",
    "\n",
    "    #Implied Probability OVER 2.5 goals for 365\n",
    "    data['Implied Probability >2.5 365']=1/data['B365>2.5']*100\n",
    "    \n",
    "    #------------------------- Implied Probability Closing -----------------------------------\n",
    "    \n",
    "    #Implied Probability UNDER 2.5 goals for overall market closing odds (AvgC)\n",
    "    data['Implied Probability <2.5 avg closing']=1/data['AvgC<2.5']*100\n",
    "\n",
    "    #Implied Probability OVER 2.5 goals for overall market closing odds (AvgC)\n",
    "    data['Implied Probability >2.5 avg closing']=1/data['AvgC>2.5']*100\n",
    "\n",
    "    #Implied Probability UNDER 2.5 goals for PINACLE closing odds\n",
    "    data['Implied Probability <2.5 pinacle closing']=1/data['PC<2.5']*100\n",
    "\n",
    "    #Implied Probability OVER 2.5 goals for PINACLE closing odds\n",
    "    data['Implied Probability >2.5 pinacle closing']=1/data['PC>2.5']*100\n",
    "\n",
    "    #Implied Probability UNDER 2.5 goals for 365 closing odds\n",
    "    data['Implied Probability <2.5 365 closing']=1/data['B365C<2.5']*100\n",
    "\n",
    "    #Implied Probability OVER 2.5 goals for 365 closing odds\n",
    "    data['Implied Probability >2.5 365 closing']=1/data['B365C>2.5']*100\n",
    "    \n",
    "    #---------------------------- Binning IP Opening -------------------------------------\n",
    "\n",
    "    b=b\n",
    "    bins = np.arange(0, 101, int(100/b))\n",
    "    bins = bins.tolist()\n",
    "\n",
    "    #Binning UNDER 2.5 Average Market opening odds\n",
    "    data['binned <2.5 avg'] = pd.cut(data['Implied Probability <2.5 avg'], bins)\n",
    "\n",
    "    #Binning Over 2.5 Average Market opening odds\n",
    "    data['binned >2.5 avg'] = pd.cut(data['Implied Probability >2.5 avg'], bins)\n",
    "\n",
    "    #Binned UNDER 2.5 Pinnacle opening odds\n",
    "    data['binned <2.5 pinacle'] = pd.cut(data['Implied Probability <2.5 pinacle'], bins)\n",
    "\n",
    "    #Binned OVER 2.5 Pinnacle\n",
    "    data['binned >2.5 pinacle'] = pd.cut(data['Implied Probability >2.5 pinacle'], bins)\n",
    "\n",
    "    #Binned UNDER 2.5 bet365 OPENING odds\n",
    "    data['binned <2.5 365'] = pd.cut(data['Implied Probability <2.5 365'], bins)\n",
    "\n",
    "    #Binned OVER 2.5 bet365 OPENING odds\n",
    "    data['binned >2.5 365'] = pd.cut(data['Implied Probability >2.5 365'], bins)\n",
    "    \n",
    "    #----------------------------- Binning IP Closing ------------------------------------------------\n",
    "\n",
    "    #Binning UNDER 2.5 Average Market closing odds\n",
    "    data['binned <2.5 avg closing'] = pd.cut(data['Implied Probability <2.5 avg closing'], bins)\n",
    "\n",
    "    #Binning OVER 2.5 Average Market closing odds\n",
    "    data['binned >2.5 avg closing'] = pd.cut(data['Implied Probability >2.5 avg closing'], bins)\n",
    "\n",
    "    #Binned UNDER 2.5 Pinnacle closing odds\n",
    "    data['binned <2.5 pinacle closing'] = pd.cut(data['Implied Probability <2.5 pinacle closing'], bins)\n",
    "\n",
    "    #Binned OVER 2.5 Pinnacle CLOSING odds\n",
    "    data['binned >2.5 pinacle closing'] = pd.cut(data['Implied Probability >2.5 pinacle closing'], bins)\n",
    "\n",
    "    #Binned UNDER 2.5 bet365 CLOSING odds\n",
    "    data['binned <2.5 365 closing'] = pd.cut(data['Implied Probability <2.5 365 closing'], bins)\n",
    "\n",
    "    #Binned OVER 2.5 bet365 CLOSING odds\n",
    "    data['binned >2.5 365 closing'] = pd.cut(data['Implied Probability >2.5 365 closing'], bins)\n",
    "    \n",
    "    #---------------------------- Binning Odds Opening ----------------------------------------------------\n",
    "    \n",
    "    bins2 = [1, 1.5, 2, 3, 10]\n",
    "\n",
    "    #Binning UNDER 2.5 Average Market opening odds\n",
    "    data['binned odds <2.5 avg'] = pd.cut(data['Avg<2.5'], bins2)\n",
    "\n",
    "    #Binning Over 2.5 Average Market opening odds\n",
    "    data['binned odds >2.5 avg'] = pd.cut(data['Avg>2.5'], bins2)\n",
    "\n",
    "    #Binned UNDER 2.5 Pinnacle opening odds\n",
    "    data['binned odds <2.5 pinacle'] = pd.cut(data['P<2.5'], bins2)\n",
    "\n",
    "    #Binned OVER 2.5 Pinnacle\n",
    "    data['binned odds >2.5 pinacle'] = pd.cut(data['P>2.5'], bins2)\n",
    "\n",
    "    #Binned UNDER 2.5 bet365 OPENING odds\n",
    "    data['binned odds <2.5 365'] = pd.cut(data['B365<2.5'], bins2)\n",
    "\n",
    "    #Binned OVER 2.5 bet365 OPENING odds\n",
    "    data['binned odds >2.5 365'] = pd.cut(data['B365>2.5'], bins2)\n",
    "    \n",
    "    #----------------------------- Binning Odds Closing ----------------------------------------------------------\n",
    "    \n",
    "    #Binning UNDER 2.5 Average Market opening odds\n",
    "    data['binned odds <2.5 avg closing'] = pd.cut(data['AvgC<2.5'], bins2)\n",
    "\n",
    "    #Binning Over 2.5 Average Market opening odds\n",
    "    data['binned odds >2.5 avg closing'] = pd.cut(data['AvgC>2.5'], bins2)\n",
    "\n",
    "    #Binned UNDER 2.5 Pinnacle opening odds\n",
    "    data['binned odds <2.5 pinacle closing'] = pd.cut(data['PC<2.5'], bins2)\n",
    "\n",
    "    #Binned OVER 2.5 Pinnacle\n",
    "    data['binned odds >2.5 pinacle closing'] = pd.cut(data['PC>2.5'], bins2)\n",
    "\n",
    "    #Binned UNDER 2.5 bet365 OPENING odds\n",
    "    data['binned odds <2.5 365 closing'] = pd.cut(data['B365C<2.5'], bins2)\n",
    "\n",
    "    #Binned OVER 2.5 bet365 OPENING odds\n",
    "    data['binned odds >2.5 365 closing'] = pd.cut(data['B365C>2.5'], bins2)\n",
    "    \n",
    "    \n",
    "    #----------------------------- Other Features from D3 ------------------------------------------------------\n",
    "    \n",
    "    data['Pin_pays_better_under_boolean'] = data['PC<2.5'] > data['AvgC<2.5']\n",
    "    data['Pin_pays_better_under_difference'] = data['PC<2.5'] / data['AvgC<2.5']\n",
    "    data['%vig_p'] = (1 - (1 / (1/data['PC>2.5'] + 1/data['PC<2.5'])))*100\n",
    "    data['%vig_avg'] = (1 - (1 / (1/data['AvgC>2.5'] + 1/data['AvgC<2.5'])))*100\n",
    "    data['PC<2.5_P_boolean'] = data['PC<2.5'] < data['P<2.5']\n",
    "    data['PC<2.5_P_relative_diff'] = data['PC<2.5'] / data['P<2.5']\n",
    "    \n",
    "    #----------------------- Odds and probability of the home team scoring under 2.5 -------------------------------\n",
    "    \n",
    "#     lst1 = []\n",
    "#     lst2 = []\n",
    "#     for i, team in enumerate(data['HomeTeam']):\n",
    "#         date = data['Date'].iloc[i]\n",
    "#         total = len(data[(data['HomeTeam'] == team) & (data['Date'] < date)])\n",
    "#         n_under_home = data[(data['HomeTeam'] == team) & (data['Date'] < date)]['under_2.5_goals'].value_counts()\n",
    "#         try:\n",
    "#             lst1.append(1/(n_under_home[1]/total))\n",
    "#             lst2.append(n_under_home[1]/total)\n",
    "#         except:\n",
    "#             lst1.append(np.nan)\n",
    "#             lst2.append(np.nan)\n",
    "\n",
    "#     data['odds_home_under'] = lst1\n",
    "#     data['prob_home_under'] = lst2\n",
    "    \n",
    "#     #binning the probability of the home team to have a game of less than 2.5 score\n",
    "#     data['binned prob_home_under'] = pd.cut(data['prob_home_under']*100, bins)\n",
    "    \n",
    "    \n",
    "    #----------------------- Odds and probability of the away team scoring under 2.5 -------------------------------\n",
    "    \n",
    "#     lst3 = []\n",
    "#     lst4  = []\n",
    "#     for i, team in enumerate(data['AwayTeam']):\n",
    "#         date = data['Date'].iloc[i]\n",
    "#         total2 = len(data[(data['AwayTeam'] == team) & (data['Date'] < date)])\n",
    "#         n_under_away2 = data[(data['AwayTeam'] == team) & (data['Date'] < date)]['under_2.5_goals'].value_counts()\n",
    "#         try:\n",
    "#             lst3.append(1/(n_under_away2[1] / total2))\n",
    "#             lst4.append(n_under_away2[1] / total2)\n",
    "#         except:\n",
    "#             lst3.append(np.nan)\n",
    "#             lst4.append(np.nan)\n",
    "\n",
    "#     data['odds_away_under'] = lst3\n",
    "#     data['prob_away_under'] = lst4\n",
    "    \n",
    "#     #binning the probability of the away team to have a game of less than 2.5 score\n",
    "#     data['binned prob_away_under'] = pd.cut(data['prob_away_under']*100, bins)\n",
    "\n",
    "    #-------------------------- Creating the prob and odds of the game -----------------------------------------------\n",
    "#     '''the mean between the probability of the home team to have a score of under 2.5 and the probability \n",
    "#     of the away team to do the same'''\n",
    "    \n",
    "#     data['odds_game'] = (data['odds_away_under'] +  data['odds_home_under']) / 2\n",
    "#     data['prob_game'] = (data['prob_away_under'] + data['prob_home_under']) / 2\n",
    "    \n",
    "    #-------------------------- OneHotEncoding the binned probabilities columns ------------------------------------------\n",
    "    \n",
    "\n",
    "#     if b == 5:\n",
    "#         data = data[~data['binned prob_home_under'].isna()]\n",
    "#         ohe = OneHotEncoder(sparse=False)\n",
    "#         ohe.fit(data[['binned prob_home_under']])\n",
    "#         bins_encoded = ohe.transform(data[['binned prob_home_under']])\n",
    "#         data[\"0, 20\"], data[\"20, 40\"], data[\"40, 60\"], data[\"60, 80\"], data[\"80, 100\"] = bins_encoded.T\n",
    "        \n",
    "#     if b == 10:\n",
    "#         data = data[~data['binned prob_home_under'].isna()]\n",
    "#         ohe = OneHotEncoder(sparse=False)\n",
    "#         ohe.fit(data[['binned prob_home_under']])\n",
    "#         bins_encoded = ohe.transform(data[['binned prob_home_under']])\n",
    "#         data[\"0, 10\"], data[\"10, 20\"], data[\"20, 30\"], data[\"30, 40\"], data[\"40, 50\"], data[\"50, 60\"], \\\n",
    "#         data[\"60, 70\"], data[\"70, 80\"], data[\"80, 90\"], data[\"90, 100\"] = bins_encoded.T\n",
    "        \n",
    "#     if b == 20:\n",
    "#         data = data[~data['binned prob_home_under'].isna()]\n",
    "#         ohe = OneHotEncoder(sparse=False)\n",
    "#         ohe.fit(data[['binned prob_home_under']])\n",
    "#         bins_encoded = ohe.transform(data[['binned prob_home_under']])\n",
    "#         data[\"0, 5\"], data[\"5, 10\"], data[\"10, 15\"], data[\"15, 20\"], data[\"20, 25\"], data[\"25, 30\"], \\\n",
    "#         data[\"30, 35\"], data[\"35, 40\"], data[\"40, 45\"], data[\"45, 50\"], data[\"50, 55\"], data[\"55, 60\"], \\\n",
    "#         data[\"60, 65\"], data[\"65, 70\"], data[\"70, 75\"], data[\"75, 80\"], data[\"80, 85\"], data[\"85, 90\"], \\\n",
    "#         data[\"90, 95\"], data[\"95, 100\"]= bins_encoded.T\n",
    "    \n",
    "    #------------------------------------ Cleaning the data ---------------------------------------------------------\n",
    "    \n",
    "    #data = data.dropna(subset=['HomeTeam', 'AwayTeam'], how='any')\n",
    "    data = data[~data['HomeTeam'].isna()]\n",
    "    data = data[~data['AwayTeam'].isna()]\n",
    "    data = data[~data['PC>2.5'].isna()]\n",
    "    data.drop(columns=['Referee','Unnamed: 105'], inplace=True) #, 'Unnamed: 105' 'Referee', \n",
    "    #data.dropna()\n",
    "    \n",
    "     #-------------------------- OneHotEncoding the binned odds ------------------------------------------\n",
    "   \n",
    "    ohe = OneHotEncoder(sparse=False) \n",
    "    ohe.fit(data[['binned odds <2.5 pinacle closing']])\n",
    "    bins_encoded = ohe.transform(data[['binned odds <2.5 pinacle closing']])\n",
    "    data[\"1.0_to_1.5\"], data[\"1.5_to_2.0\"], data[\"2.0_to_3\"], data[\"3_to_10\"] = bins_encoded.T\n",
    "    data.drop(columns='binned odds <2.5 pinacle closing', inplace=True)\n",
    "    \n",
    "    #-------------------------- OneHotEncoding the binned countries ------------------------------------------\n",
    "\n",
    "    ohe = OneHotEncoder(sparse=False) \n",
    "    ohe.fit(data[['country']])\n",
    "    bins_encoded = ohe.transform(data[['country']])\n",
    "    data[\"country_1\"], data[\"country_2\"], data[\"country_3\"], data[\"country_4\"], data[\"country_5\"],data[\"country_6\"], data[\"country_7\"], data[\"country_8\"], data[\"country_9\"], data[\"country_10\"], data[\"country_11\"] = bins_encoded.T\n",
    "    data.drop(columns='country', inplace=True)\n",
    "\n",
    "    #-------------------------- OneHotEncoding the binned country divisions ------------------------------------------\n",
    "    \n",
    "    ohe = OneHotEncoder(sparse=False) \n",
    "    ohe.fit(data[['country_division']])\n",
    "    bins_encoded = ohe.transform(data[['country_division']])\n",
    "    data[\"country_div_1\"], data[\"country_div_2\"], data[\"country_div_3\"], data[\"country_div_4\"] = bins_encoded.T\n",
    "    #data.drop(columns='country_division', inplace=True)\n",
    "    \n",
    "    return data"
   ]
  },
  {
   "cell_type": "code",
   "execution_count": 287,
   "id": "2c518df9",
   "metadata": {},
   "outputs": [],
   "source": [
    "#Running the function and creating the dataset data\n",
    "\n",
    "data = feature_engineering(data, b=5)"
   ]
  },
  {
   "cell_type": "code",
   "execution_count": 288,
   "id": "24d725b9",
   "metadata": {},
   "outputs": [],
   "source": [
    "## WE WILL NEED TO ADD ALL THOSE IN THE feature_engineering FUNCTION\n",
    "\n",
    "## Adding the Year Feature \n",
    "data_date = data['Date']\n",
    "data_time = data['Time']\n",
    "data_date_2 = pd.to_datetime(data_date, dayfirst = True)\n",
    "data_time_2 = pd.to_datetime(data_time, dayfirst = True)\n",
    "data['month'] = pd.DatetimeIndex(data_date_2).month\n",
    "data['month_after_July'] = data['month']>=7\n",
    "data['year'] = pd.DatetimeIndex(data_date_2).year\n",
    "data['year_2021_2022'] = data['year']>=2021\n",
    "data['year_2022'] = data['year']>=2022\n",
    "data['year_2020'] = data['year']==2020\n",
    "data['season_21_22'] = data_date_2>='2021-09-01'\n",
    "data['season_20_21'] = (data_date_2>='2020-09-01') & (data_date_2<'2021-09-01')\n",
    "data['season_training2'] = (data_date_2<'2020-09-01')\n",
    "\n",
    "#Hours\n",
    "data['hour'] = pd.DatetimeIndex(data_time_2).hour\n",
    "data['game_starts_after_4pm']=data['hour']>=16\n",
    "\n",
    "#Hours feature\n",
    "data['hour_number'] = data['hour'].map({10:1, 11:2, 12:3, 13:4, 14:5, 15:6, 16:7, 17:8, 18:9, 19:10, 20:11, 21:12})\n",
    "data['hour_number_2'] = data['hour'].map({10:1, 11:1, 12:1, 13:2, 14:2, 15:2, 16:3, 17:3, 18:3, 19:4, 20:4, 21:4})\n",
    "data['hour_number_2_ratio'] = data['hour'].map({10:1, 11:1, 12:1, 13:2, 14:2, 15:2, 16:3, 17:3, 18:3, 19:4, 20:4, 21:4})/4\n",
    "data['hour_number_ratio'] = data['hour'].map({10:1, 11:2, 12:3, 13:4, 14:5, 15:6, 16:7, 17:8, 18:9, 19:10, 20:11, 21:12})/12\n",
    "\n",
    "#OHE before after 4pm\n",
    "ohe = OneHotEncoder(sparse=False) \n",
    "ohe.fit(data[['game_starts_after_4pm']])\n",
    "bins_encoded = ohe.transform(data[['game_starts_after_4pm']])\n",
    "data[\"game_starts_after_4pm_1\"], data[\"game_starts_after_4pm_2\"] = bins_encoded.T\n",
    "   # data.drop(columns='country_division', inplace=True)\n",
    "\n",
    "#OHE Hours groups (4 groups)  \n",
    "ohe.fit(data[['hour_number_2']])\n",
    "bins_encoded = ohe.transform(data[['hour_number_2']])\n",
    "data[\"hour_group_1\"], data[\"hour_group_2\"], data[\"hour_group_3\"], data[\"hour_group_4\"] = bins_encoded.T\n",
    "    \n",
    "#Other features\n",
    "data['Pin_pays_better_under_boolean'] = data['PC<2.5'] > data['AvgC<2.5']\n",
    "data['Pin_pays_better_under_difference'] = data['PC<2.5'] / data['AvgC<2.5']\n",
    "data['%vig_p'] = (1 - (1 / (1/data['PC>2.5'] + 1/data['PC<2.5'])))*100\n",
    "data['%vig_p_bool'] = data['%vig_p']>3.3\n",
    "data['%vig_avg'] = (1 - (1 / (1/data['AvgC>2.5'] + 1/data['AvgC<2.5'])))*100\n",
    "data['PC<2.5_P_boolean'] = data['PC<2.5'] < data['P<2.5']\n",
    "data['PC<2.5_P_relative_diff'] = data['PC<2.5'] / data['P<2.5']\n",
    "data['MaxC>2.5_AvgC_relative_diff'] = data['MaxC>2.5']/data['AvgC>2.5']\n",
    "data['Market_consensus'] = data['MaxC>2.5_AvgC_relative_diff']<1.05\n",
    "\n",
    "#Months\n",
    "data['month_number']=data['month']\n",
    "data['month_number_ratio']=data['month']/12\n",
    "data['year_number'] = data['year'].map({2019:1, 2020:2, 2021:3, 2022:4})\n",
    "data['year_number_ratio'] = data['year'].map({2019:1, 2020:2, 2021:3, 2022:4})/4\n",
    "data['year_number_month_ratio'] = data['year_number']+data['month_number_ratio']\n",
    "data['year_number_month_decimal'] = data['year_number']+data['month_number']/10\n",
    "\n",
    "#OHE years\n",
    "ohe = OneHotEncoder(sparse=False) \n",
    "ohe.fit(data[['year_number']])\n",
    "bins_encoded = ohe.transform(data[['year_number']])\n",
    "data[\"year_1\"], data[\"year_2\"], data[\"year_3\"], data[\"year_4\"] = bins_encoded.T\n",
    "\n",
    "#OHE months\n",
    "ohe = OneHotEncoder(sparse=False) \n",
    "ohe.fit(data[['month_number']])\n",
    "bins_encoded = ohe.transform(data[['month_number']])\n",
    "data[\"month_1\"], data[\"month_2\"], data[\"month_3\"], data[\"month_4\"], data[\"month_5\"], data[\"month_6\"], data[\"month_7\"], data[\"month_8\"], data[\"month_9\"], data[\"month_10\"], data[\"month_11\"], data[\"month_12\"] = bins_encoded.T\n",
    "\n",
    "data.rename(columns = {'PC<2.5':'PC_under_2.5'}, inplace = True)"
   ]
  },
  {
   "cell_type": "code",
   "execution_count": 289,
   "id": "c0b72900",
   "metadata": {},
   "outputs": [],
   "source": [
    "# Min_max_scaler\n",
    "scaler = RobustScaler().fit(data[['PC_under_2.5']]) \n",
    "data['PC_under_2.5_scaled'] = scaler.transform(data[['PC_under_2.5']]) # Use scaler to transform data"
   ]
  },
  {
   "cell_type": "code",
   "execution_count": 290,
   "id": "32918dd5",
   "metadata": {},
   "outputs": [
    {
     "name": "stderr",
     "output_type": "stream",
     "text": [
      "the `interpolation=` argument to quantile was renamed to `method=`, which has additional options.\n",
      "Users of the modes 'nearest', 'lower', 'higher', or 'midpoint' are encouraged to review the method they. (Deprecated NumPy 1.22)\n",
      "the `interpolation=` argument to quantile was renamed to `method=`, which has additional options.\n",
      "Users of the modes 'nearest', 'lower', 'higher', or 'midpoint' are encouraged to review the method they. (Deprecated NumPy 1.22)\n",
      "the `interpolation=` argument to quantile was renamed to `method=`, which has additional options.\n",
      "Users of the modes 'nearest', 'lower', 'higher', or 'midpoint' are encouraged to review the method they. (Deprecated NumPy 1.22)\n"
     ]
    }
   ],
   "source": [
    "# Binned PC_under_2.5\n",
    "B1 = data['PC_under_2.5'].min()\n",
    "B2 = np.quantile(data['PC_under_2.5'], 0.25, interpolation='midpoint')\n",
    "B3 = np.quantile(data['PC_under_2.5'], 0.50, interpolation='midpoint')\n",
    "B4 = np.quantile(data['PC_under_2.5'], 0.75, interpolation='midpoint')\n",
    "B5 = data['PC_under_2.5'].max()\n",
    "\n",
    "bins = [B1-0.1,B2,B3,B4,B5+0.1]\n",
    "data[\"binned_odds\"] = pd.cut(data['PC_under_2.5'], bins)\n",
    "\n",
    "#OHE Binned PC_under_2.5\n",
    "ohe = OneHotEncoder(sparse=False) \n",
    "ohe.fit(data[[\"binned_odds\"]])\n",
    "bins_encoded = ohe.transform(data[[\"binned_odds\"]])\n",
    "data[\"bin_odds_1\"], data[\"bin_odds_2\"],data[\"bin_odds_3\"], data[\"bin_odds_4\"] = bins_encoded.T"
   ]
  },
  {
   "cell_type": "markdown",
   "id": "b6c0df27",
   "metadata": {},
   "source": [
    "# Defining the Model functions (XGB models for under 2.5)"
   ]
  },
  {
   "cell_type": "markdown",
   "id": "d42aedd1",
   "metadata": {},
   "source": [
    "## Regression Model functions"
   ]
  },
  {
   "cell_type": "markdown",
   "id": "bbd0bb8a",
   "metadata": {},
   "source": [
    "### Function testing_model"
   ]
  },
  {
   "cell_type": "code",
   "execution_count": 291,
   "id": "ab21f396",
   "metadata": {},
   "outputs": [],
   "source": [
    "# results_lr_true = []\n",
    "# results_lr_false = []\n",
    "\n",
    "def testing_models_regressor(iterations,test_size_0,train_size_0):   \n",
    "    \n",
    "    i=0\n",
    "    \n",
    "    while i < iterations:\n",
    "        # Split into Train/Test\n",
    "        #X_train, X_test, y_train, y_test = train_test_split(X1, y, test_size=0.3) # Split into Train/Test\n",
    "        _ignore1, X_test_model, _ignore2, y_test_model = train_test_split(X_test_0, y_test_0, test_size=test_size_0)\n",
    "        X_train_model, _ignore3, y_train_model, _ignore4 = train_test_split(X_train_0, y_train_0, test_size=(1-train_size_0)) # Split into Train/Test\n",
    "\n",
    "            #------------------------Run the Models -----------------------------------\n",
    "\n",
    "        #Run Linear Regression\n",
    "#         results_linear_regression = sm.OLS(y_train,X_train.astype(float)).fit()\n",
    "#         y_pred_lr = results_linear_regression.predict(X_test.astype(float))\n",
    "#         #results.summary()\n",
    "\n",
    "        #Initiate XGBoost\n",
    "        m = 0\n",
    "        m = xgb.XGBRegressor()\n",
    "        \n",
    "        #Rename columns for XGBoost to run\n",
    "        ##X_test.rename(columns = {'PC<2.5_P_boolean':'PC_under_2.5_P_boolean'}, inplace = True)\n",
    "        ##X_train.rename(columns = {'PC<2.5_P_boolean':'PC_under_2.5_P_boolean'}, inplace = True)\n",
    "        \n",
    "        #Fit XGBoost\n",
    "        m.fit(X_train_model,y_train_model) \n",
    "        \n",
    "        #Make and store the predictions XGBoost\n",
    "        y_pred_xgb = m.predict(X_test_model)\n",
    "        y_pred_xgb = pd.DataFrame(y_pred_xgb)\n",
    "\n",
    "            #------------------------Creating the bins for the predictions for both models -----------------------------------\n",
    "        #Function to replace bin with default value when it is null\n",
    "        def ifnull(var, val):\n",
    "          if var > 0:\n",
    "            return var\n",
    "          return val\n",
    "\n",
    "        #Linear Regression\n",
    "#         y_pred_lr_under_0_median = y_pred_lr[y_pred_lr<0].median()\n",
    "#         y_pred_lr_under_0_min = y_pred_lr[y_pred_lr<0].min()\n",
    "#         y_pred_lr_over_0_median = ifnull(y_pred_lr[y_pred_lr>0].median(),0.05)\n",
    "\n",
    "        #XGB bins\n",
    "        y_pred_xgb_under_0_median = y_pred_xgb[y_pred_xgb<0].median()\n",
    "        y_pred_xgb_under_0_min = y_pred_xgb[y_pred_xgb<0].min()\n",
    "        y_pred_xgb_over_0_median = ifnull(y_pred_xgb[0][y_pred_xgb[0]>0].median(),0.05)\n",
    "\n",
    "            #------------------------Betting decisions for both models -----------------------------------\n",
    "#         #Linear Regression\n",
    "#         bins3_lr = [y_pred_lr_under_0_min-0.0000002, y_pred_lr_under_0_median-0.0000001, 0, y_pred_lr_over_0_median+0.0000001, 1]\n",
    "#         y_lr_df = pd.DataFrame(y_test)\n",
    "#         y_pred_lr_df = pd.DataFrame(y_pred_lr)\n",
    "#         y_pred_lr_df[\"binned_pred\"] = pd.cut(y_pred_lr_df[0], bins3_lr)\n",
    "#         ind = np.arange(0, len(y_pred_lr_df))\n",
    "#         ind = ind.tolist()\n",
    "#         y_lr_df['ind'] = ind\n",
    "#         y_pred_lr_df['ind'] = ind\n",
    "#         y_final_lr = y_lr_df.merge(y_pred_lr_df, on=\"ind\")#, on = \"axis\")#, how = \"inner\")\n",
    "#         y_final_lr['bet_opp']=y_final_lr[0]>0\n",
    "\n",
    "        #XGB\n",
    "        bins3_xgb = [y_pred_xgb_under_0_min[0]-0.0000002, y_pred_xgb_under_0_median[0]-0.0000001, 0, y_pred_xgb_over_0_median+0.0000001, 1] #int(y_pred_xgb_over_0_median[0])\n",
    "        y_xgb_df = pd.DataFrame(y_test_model)\n",
    "        y_pred_xgb_df = pd.DataFrame(y_pred_xgb)\n",
    "        y_pred_xgb_df[\"binned_pred\"] = pd.cut(y_pred_xgb_df[0], bins3_xgb)\n",
    "        y_pred_xgb_df[\"binned_pred_bin_1\"] = y_pred_xgb_df[0]<y_pred_xgb_under_0_median[0]-0.0000001\n",
    "        y_pred_xgb_df[\"binned_pred_bin_2\"] = (y_pred_xgb_df[0]>y_pred_xgb_under_0_median[0]-0.0000001) & (y_pred_xgb_df[0]<0)\n",
    "        y_pred_xgb_df[\"binned_pred_bin_3\"] = (y_pred_xgb_df[0]>0) & (y_pred_xgb_df[0]<y_pred_xgb_over_0_median+0.0000001)\n",
    "        y_pred_xgb_df[\"binned_pred_bin_4\"] = (y_pred_xgb_df[0]>y_pred_xgb_over_0_median+0.0000001)\n",
    "        y_pred_xgb_df[\"bin_number\"] = y_pred_xgb_df[\"binned_pred_bin_1\"]*1 + y_pred_xgb_df[\"binned_pred_bin_2\"]*2 + y_pred_xgb_df[\"binned_pred_bin_3\"]*3 + y_pred_xgb_df[\"binned_pred_bin_4\"]*4     \n",
    "        ind = np.arange(0, len(y_pred_xgb_df))\n",
    "        ind = ind.tolist()\n",
    "        y_xgb_df['ind'] = ind\n",
    "        y_pred_xgb_df['ind'] = ind\n",
    "        y_final_xgb = y_xgb_df.merge(y_pred_xgb_df, on=\"ind\")#, on = \"axis\")#, how = \"inner\")\n",
    "        \n",
    "        #Defining the variable bet_opp based on the y_pred of the XGB\n",
    "        y_final_xgb['bet_opp']=y_final_xgb[0]>0\n",
    "\n",
    "            #------------------------Getting the results based on predictions -----------------------------------\n",
    "        #Linear Regression\n",
    "#         y_final_lr.groupby('bet_opp')['payout_under_2.5_pinacle_closing'].count()\n",
    "#         y_final_lr.groupby('bet_opp')['payout_under_2.5_pinacle_closing'].agg([\"mean\", \"count\"])\n",
    "\n",
    "#         y_final_lr.groupby('binned_pred')['payout_under_2.5_pinacle_closing'].count()\n",
    "#         y_final_lr.groupby('binned_pred')['payout_under_2.5_pinacle_closing'].agg([\"mean\", \"count\"])\n",
    "#         lr_results_False = y_final_lr[y_final_lr['bet_opp']==False]['payout_under_2.5_pinacle_closing'].mean()\n",
    "#         lr_results_True = y_final_lr[y_final_lr['bet_opp']==True]['payout_under_2.5_pinacle_closing'].mean()        \n",
    "        \n",
    "\n",
    "        #XGB\n",
    "        #xgb_count = y_final_xgb.groupby('bet_opp')['payout_under_2.5_pinacle_closing'].count()\n",
    "        #xgb_mean = y_final_xgb.groupby('bet_opp')['payout_under_2.5_pinacle_closing'].mean()\n",
    "        #xgb_results = y_final_xgb.groupby('bet_opp')['payout_under_2.5_pinacle_closing'].agg([\"mean\", \"count\"])\n",
    "        xgb_results_False = y_final_xgb[y_final_xgb['bet_opp']==False]['payout_under_2.5_pinacle_closing'].mean()\n",
    "        xgb_results_True = y_final_xgb[y_final_xgb['bet_opp']==True]['payout_under_2.5_pinacle_closing'].mean()\n",
    "        xgb_results_bin_1 = y_final_xgb[y_final_xgb['bin_number']==1]['payout_under_2.5_pinacle_closing'].mean()\n",
    "        xgb_results_bin_2 = y_final_xgb[y_final_xgb['bin_number']==2]['payout_under_2.5_pinacle_closing'].mean()\n",
    "        xgb_results_bin_3 = y_final_xgb[y_final_xgb['bin_number']==3]['payout_under_2.5_pinacle_closing'].mean()\n",
    "        xgb_results_bin_4 = y_final_xgb[y_final_xgb['bin_number']==4]['payout_under_2.5_pinacle_closing'].mean()\n",
    "        \n",
    "        results_xgb_false.append(xgb_results_False)\n",
    "        results_xgb_true.append(xgb_results_True)\n",
    "        results_xgb_1.append(xgb_results_bin_1)\n",
    "        results_xgb_2.append(xgb_results_bin_2)\n",
    "        results_xgb_3.append(xgb_results_bin_3)\n",
    "        results_xgb_4.append(xgb_results_bin_4)\n",
    "         \n",
    "        i=i+1\n",
    "        \n",
    "    return results_xgb_false, results_xgb_true, results_xgb_1, results_xgb_2, results_xgb_3, results_xgb_4"
   ]
  },
  {
   "cell_type": "markdown",
   "id": "ce9d6dca",
   "metadata": {},
   "source": [
    "### Function checking_model_regressor_results"
   ]
  },
  {
   "cell_type": "code",
   "execution_count": 292,
   "id": "53c13e82",
   "metadata": {},
   "outputs": [],
   "source": [
    "def checking_model_regressor_results(n=10, test_size_0=0.9, train_size_0=0.1):\n",
    "    \n",
    "    # Empty_lists\n",
    "    results_xgb_true=[] \n",
    "    results_xgb_false=[]\n",
    "    results_xgb_1=[]\n",
    "    results_xgb_2=[]\n",
    "    results_xgb_3=[]\n",
    "    results_xgb_4=[]\n",
    "    \n",
    "    # Run the model regressor X times\n",
    "    results_xgb_false, results_xgb_true, results_xgb_1, results_xgb_2, results_xgb_3, results_xgb_4 = testing_models_regressor(n,test_size_0,train_size_0)\n",
    "    \n",
    "    # Results\n",
    "    median_results_bad_bets = np.median(np.array(results_xgb_false))\n",
    "    median_results_good_bets = np.median(np.array(results_xgb_true))\n",
    "    delta = np.median(np.array(median_results_good_bets))-np.median(np.array(median_results_bad_bets))\n",
    "    delta_extremes = np.median(np.array(results_xgb_4))-np.median(np.array(results_xgb_1))\n",
    "    #print(delta, delta_extremes)\n",
    "    \n",
    "    #Plotting the results of the XGB\n",
    "    fig, ax = plt.subplots(nrows=1, ncols=2, figsize=(10,4))\n",
    "    sns.histplot(results_xgb_true,kde=True,bins=20,color='green',ax=ax[0])\n",
    "    sns.histplot(results_xgb_false,kde=True,bins=20,color='red',ax=ax[0])\n",
    "    \n",
    "    sns.histplot(results_xgb_1,kde=True,bins=20,color='red',ax=ax[1])\n",
    "    sns.histplot(results_xgb_2,kde=True,bins=20,color='orange',ax=ax[1])\n",
    "    sns.histplot(results_xgb_3,kde=True,bins=20,color='grey',ax=ax[1])\n",
    "    sns.histplot(results_xgb_4,kde=True,bins=20,color='green',ax=ax[1])\n",
    "\n",
    "    return delta, delta_extremes"
   ]
  },
  {
   "cell_type": "markdown",
   "id": "a179ca1a",
   "metadata": {},
   "source": [
    "## Classification Model functions"
   ]
  },
  {
   "cell_type": "markdown",
   "id": "a2c2ed1f",
   "metadata": {},
   "source": [
    "### Function testing_model"
   ]
  },
  {
   "cell_type": "code",
   "execution_count": 293,
   "id": "b7a19d6c",
   "metadata": {},
   "outputs": [],
   "source": [
    "# results_lr_true = []\n",
    "# results_lr_false = []\n",
    "\n",
    "def testing_models_classifier(iterations,test_size_0):   \n",
    "    \n",
    "    i=0\n",
    "    \n",
    "    while i < iterations:\n",
    "        # Split into Train/Test\n",
    "        #X_train, X_test, y_train, y_test = train_test_split(X1, y, test_size=0.3) # Split into Train/Test\n",
    "        X_train, X_test, y_train, y_test = train_test_split(X_test_0, y_test_0_classifier, test_size=test_size_0) # Split into Train/Test\n",
    "\n",
    "            #------------------------Run the Models -----------------------------------\n",
    "\n",
    "        #Initiate XGBoost\n",
    "        m = 0\n",
    "        m = xgb.XGBClassifier()\n",
    "        \n",
    "        #Fit XGBoost\n",
    "        m.fit(X_train_0,y_train_0_classifier) \n",
    "        \n",
    "        #Make and store the predictions XGBoost\n",
    "        y_pred_test = m.predict(X_test)\n",
    "        y_pred_test_df = pd.DataFrame(y_pred_test,columns=['prediction'])\n",
    "        y_pred_train = m.predict(X_train_0)\n",
    "        y_pred_train_df = pd.DataFrame(y_pred_train)\n",
    "        y_test_df = pd.DataFrame(y_test).reset_index()\n",
    "        y_final_df = y_pred_test_df.copy()\n",
    "        y_final_df['actual'] = y_test_df['payout_under_2.5_pinacle_closing']\n",
    "\n",
    "        # accuracy\n",
    "        accuracy_test = accuracy_score(y_test,y_pred_test)\n",
    "        accuracy_train = accuracy_score(y_train_0_classifier,y_pred_train)\n",
    "        \n",
    "        # precision\n",
    "        precision_test = precision_score(y_test,y_pred_test)\n",
    "        precision_train = precision_score(y_train_0_classifier,y_pred_train)\n",
    "    \n",
    "  #------------------------Creating the bins for the predictions for both models -----------------------------------\n",
    "        #Function to replace bin with default value when it is null\n",
    "        def ifnull(var, val):\n",
    "          if var > 0:\n",
    "            return var\n",
    "          return val\n",
    "        \n",
    "        #XGB\n",
    "        #ind = np.arange(0, len(y_pred_test_df))\n",
    "        #ind = ind.tolist()\n",
    "        #y_xgb_df['ind'] = ind\n",
    "        #y_pred_test_df['ind'] = ind\n",
    "        \n",
    "        #Defining the variable bet_opp based on the y_pred of the XGB\n",
    "\n",
    "        y_final_df['payout_under_2.5_pinacle_closing'] = y_test_0.loc[y_test.index].reset_index()['payout_under_2.5_pinacle_closing']\n",
    "        #import ipdb; ipdb.set_trace()\n",
    "        #y_final_df['payout_avg_under_closing_2.5'] = 0\n",
    "\n",
    "        result_False = y_final_df[y_final_df['prediction']==False]['payout_under_2.5_pinacle_closing'].mean()\n",
    "        result_True = y_final_df[y_final_df['prediction']==True]['payout_under_2.5_pinacle_closing'].mean()\n",
    "        \n",
    "        results_False.append(result_False)\n",
    "        results_True.append(result_True)\n",
    "        \n",
    "        i=i+1\n",
    "        \n",
    "    return accuracy_test, accuracy_train, precision_train, precision_test, y_final_df,results_True, results_False"
   ]
  },
  {
   "cell_type": "markdown",
   "id": "2dc43703",
   "metadata": {},
   "source": [
    "### Function checking_model_classifier_results"
   ]
  },
  {
   "cell_type": "code",
   "execution_count": 294,
   "id": "da0bbdb3",
   "metadata": {},
   "outputs": [],
   "source": [
    "def checking_model_classifier_results(n=10, test_size_0=0.9):\n",
    "    \n",
    "    #empty_lists\n",
    "    results_False=[]\n",
    "    results_True=[]\n",
    "    \n",
    "    #empty_lists\n",
    "    accuracy_test, accuracy_train, precision_train, precision_test, y_final_df,results_True, results_False = testing_models_classifier(n,test_size_0)\n",
    "    median_results_bad_bets = np.median(np.array(results_False))\n",
    "    median_results_good_bets = np.median(np.array(results_True))\n",
    "    delta = median_results_good_bets-median_results_bad_bets\n",
    "    \n",
    "    #Plotting the results of the XGB\n",
    "    sns.histplot(results_True,kde=True,bins=20,color='green')\n",
    "    sns.histplot(results_False,kde=True,bins=20,color='red')\n",
    "    \n",
    "    return delta, accuracy_test, precision_test"
   ]
  },
  {
   "cell_type": "markdown",
   "id": "a0dac4f9",
   "metadata": {},
   "source": [
    "# Running the Models"
   ]
  },
  {
   "cell_type": "markdown",
   "id": "6cf6fc1b",
   "metadata": {},
   "source": [
    "### Define the features for the Models"
   ]
  },
  {
   "cell_type": "code",
   "execution_count": 295,
   "id": "9c97d996",
   "metadata": {},
   "outputs": [],
   "source": [
    "## Declaring TEST and TRAIN dates\n",
    "data['test_dates'] = data_date_2>='2021-09-01'\n",
    "data['train_dates'] = (data_date_2>='1900-09-01') & (data_date_2<'2021-09-01')"
   ]
  },
  {
   "cell_type": "code",
   "execution_count": 296,
   "id": "7b44a533",
   "metadata": {},
   "outputs": [],
   "source": [
    "# Reset the indices\n",
    "#data.reset_index(inplace=True, drop=True)\n",
    "\n",
    "#X_train_0 = data[data['train_dates']==True][['country_div_1','country_div_2','country_div_3','country_div_4','%vig_p_bool','Market_consensus','year_number',\"game_starts_after_4pm_2\",\"game_starts_after_4pm_1\",'1.0_to_1.5','1.5_to_2.0','2.0_to_3','3_to_10']]#,'year_number_ratio','month_number_ratio']]\n",
    "#X_test_0 = data[data['test_dates']==True][['country_div_1','country_div_2','country_div_3','country_div_4','%vig_p_bool','Market_consensus','year_number',\"game_starts_after_4pm_2\",\"game_starts_after_4pm_1\",'1.0_to_1.5','1.5_to_2.0','2.0_to_3','3_to_10']]#,'year_number_ratio','month_number_ratio']]\n",
    "\n",
    "\n",
    "# Regressor Model variables\n",
    "X_train_0 = data[data['train_dates']==True][['country_div_1','country_div_2','country_div_3','country_div_4','%vig_p_bool','Market_consensus','year_number',\"game_starts_after_4pm_2\",\"game_starts_after_4pm_1\",'1.0_to_1.5','1.5_to_2.0','2.0_to_3','3_to_10']]#,'year_number_ratio','month_number_ratio']]\n",
    "X_test_0 = data[data['test_dates']==True][['country_div_1','country_div_2','country_div_3','country_div_4','%vig_p_bool','Market_consensus','year_number',\"game_starts_after_4pm_2\",\"game_starts_after_4pm_1\",'1.0_to_1.5','1.5_to_2.0','2.0_to_3','3_to_10']]#,'year_number_ratio','month_number_ratio']]\n",
    "y_train_0 = data[data['train_dates']==True]['payout_under_2.5_pinacle_closing']-1\n",
    "y_test_0 = data[data['test_dates']==True]['payout_under_2.5_pinacle_closing']-1\n",
    "\n",
    "# Classifier Model variables\n",
    "y_test_0_classifier = data[data['test_dates']==True]['payout_under_2.5_pinacle_closing']!=0\n",
    "y_train_0_classifier = data[data['train_dates']==True]['payout_under_2.5_pinacle_closing']!=0"
   ]
  },
  {
   "cell_type": "markdown",
   "id": "e27c725f",
   "metadata": {},
   "source": [
    "### Run Regression model"
   ]
  },
  {
   "cell_type": "code",
   "execution_count": 297,
   "id": "0e8e8ff5",
   "metadata": {
    "scrolled": true
   },
   "outputs": [
    {
     "data": {
      "text/plain": [
       "(0.055778599132955804, 0.10012323566770423)"
      ]
     },
     "execution_count": 297,
     "metadata": {},
     "output_type": "execute_result"
    },
    {
     "data": {
      "image/png": "[encoded data removed]",
      "text/plain": [
       "<Figure size 720x288 with 2 Axes>"
      ]
     },
     "metadata": {
      "needs_background": "light"
     },
     "output_type": "display_data"
    }
   ],
   "source": [
    "## RUN THE WHOLE CELL #\n",
    "\n",
    "# We need to run this to null the lists\n",
    "results_xgb_true=[] \n",
    "results_xgb_false=[]\n",
    "results_xgb_1=[]\n",
    "results_xgb_2=[]\n",
    "results_xgb_3=[]\n",
    "results_xgb_4=[]\n",
    "    \n",
    "#We need to run this to reinitate the test_size\n",
    "test_size_0=0\n",
    "train_size_0=0\n",
    "\n",
    "# We need to run the function -> first: # of tests, second: test size (cannot be 1!), third: train size (cannot be 1!)\n",
    "checking_model_regressor_results(10,0.90,0.90)"
   ]
  },
  {
   "cell_type": "code",
   "execution_count": 248,
   "id": "98e8b28b",
   "metadata": {},
   "outputs": [
    {
     "name": "stderr",
     "output_type": "stream",
     "text": [
      "ntree_limit is deprecated, use `iteration_range` or model slicing instead.\n"
     ]
    },
    {
     "data": {
      "image/png": "[encoded data removed]",
      "text/plain": [
       "<Figure size 576x482.4 with 2 Axes>"
      ]
     },
     "metadata": {
      "needs_background": "light"
     },
     "output_type": "display_data"
    }
   ],
   "source": [
    "## Checking the SHAP values for the Regression model\n",
    "\n",
    "my_model = xgb.XGBRegressor()\n",
    "my_model.fit(X_train_0,y_train_0)\n",
    "explainer = shap.TreeExplainer(my_model)\n",
    "shap_values = explainer.shap_values(X_test_0)\n",
    "shap.summary_plot(shap_values, X_test_0)"
   ]
  },
  {
   "cell_type": "markdown",
   "id": "8ea5a55f",
   "metadata": {},
   "source": [
    "### Run Classification model"
   ]
  },
  {
   "cell_type": "code",
   "execution_count": 249,
   "id": "7edf48af",
   "metadata": {},
   "outputs": [
    {
     "data": {
      "text/plain": [
       "(0.006932218250425171, 0.5558082243699072, 0.5510388437217706)"
      ]
     },
     "execution_count": 249,
     "metadata": {},
     "output_type": "execute_result"
    },
    {
     "data": {
      "image/png": "[encoded data removed]",
      "text/plain": [
       "<Figure size 432x288 with 1 Axes>"
      ]
     },
     "metadata": {
      "needs_background": "light"
     },
     "output_type": "display_data"
    }
   ],
   "source": [
    "## RUN THE WHOLE CELL #\n",
    "\n",
    "# We need to run this to null the lists\n",
    "results_False=[]\n",
    "results_True=[]\n",
    "    \n",
    "#We need to run this to reinitate the test_size\n",
    "test_size_0=0\n",
    "\n",
    "# We need to run the function -> first argument is the # of tests, second one is the size of test\n",
    "checking_model_classifier_results(20,0.8)"
   ]
  },
  {
   "cell_type": "markdown",
   "id": "b4279cf1",
   "metadata": {
    "heading_collapsed": true
   },
   "source": [
    "# Comments regarding results of the tests we ran and Next Steps"
   ]
  },
  {
   "cell_type": "code",
   "execution_count": null,
   "id": "cdd443a6",
   "metadata": {
    "hidden": true
   },
   "outputs": [],
   "source": [
    "## Comments\n",
    "\n",
    "# baseline = 0.008297694850435258 (all features)\n",
    "\n",
    "# delta without Joao features = 0.014419296789770412 => F:-0.029970666611150436 and T:-0.015551369821380024\n",
    "# --> WE REMOVE JOAO FEATURE\n",
    "\n",
    "# delta when removing the odds buckets = -0.009317543146000251 => F:-0.022611272813043187 and T:-0.028804787343669917\n",
    "# --> WE KEEP THE ODDS BUCKETS\n",
    "\n",
    "# delta when removing the odds buckets = -0.009317543146000251 => F:-0.022611272813043187 and T:-0.028804787343669917\n",
    "# --> WE KEEP THE ODDS BUCKETS\n",
    "\n",
    "# delta when removing the countries and divisions = 0.004795286566703704\n",
    "# --> WE KEEP THE COUNTRIES AND DIVISIONS\n",
    "\n",
    "# delta when removing the divisions but keeping the countries = 0.008380480363148559 (worsening)\n",
    "# delta when removing the countries but keeping the divisions = 0.02259680830123266 (best score ever)\n",
    "# --> WE KEEP THE DIVSIONS AND REMOVE THE COUNTRIES\n",
    "\n",
    "# delta when removing the 'month_after_July': 0.013657154854343441 DECREASED A LOT! We keep month after July\n",
    "# year 2020_2021 = 0.012829398919170131 DECREASED A LOT! \n",
    "# TIME MATTERS!! We need months, years, time\n",
    "\n",
    "# New basline: 0.023917075840908224\n",
    "\n",
    "#'Pin pays better' does not improve the baseline and we remove it\n",
    "\n",
    "#'Market_consensus' MATTERS we keep it\n",
    "\n",
    "#VIG matters\n",
    "\n",
    "# We should remove the P<PC variable\n",
    "# BEST DELTA: 0.03151890594630853\n"
   ]
  },
  {
   "cell_type": "code",
   "execution_count": null,
   "id": "6ba3ddff",
   "metadata": {
    "hidden": true
   },
   "outputs": [],
   "source": [
    "# Next steps:\n",
    "\n",
    "## Time: Further explore how to optimise the features of time (years, months, hours, etc.)\n",
    "## Odds: Further explore how to optimise the odds buckets (different bins, min-max scaling)\n",
    "## VIG + Mkt Consensus: Further explore how to optimise VIG + Market consensus"
   ]
  },
  {
   "cell_type": "code",
   "execution_count": null,
   "id": "90db8eb1",
   "metadata": {
    "hidden": true
   },
   "outputs": [],
   "source": [
    "m.feature_importances"
   ]
  },
  {
   "cell_type": "markdown",
   "id": "a70fd7a8",
   "metadata": {
    "heading_collapsed": true
   },
   "source": [
    "# [SKIP] Other models + stats package we could use [SKIP]"
   ]
  },
  {
   "cell_type": "code",
   "execution_count": null,
   "id": "3d7c50b5",
   "metadata": {
    "hidden": true
   },
   "outputs": [],
   "source": [
    "# Random Forest"
   ]
  },
  {
   "cell_type": "code",
   "execution_count": 110,
   "id": "58f1a60e",
   "metadata": {
    "hidden": true
   },
   "outputs": [
    {
     "data": {
      "text/html": [
       "<style>#sk-container-id-1 {color: black;background-color: white;}#sk-container-id-1 pre{padding: 0;}#sk-container-id-1 div.sk-toggleable {background-color: white;}#sk-container-id-1 label.sk-toggleable__label {cursor: pointer;display: block;width: 100%;margin-bottom: 0;padding: 0.3em;box-sizing: border-box;text-align: center;}#sk-container-id-1 label.sk-toggleable__label-arrow:before {content: \"▸\";float: left;margin-right: 0.25em;color: #696969;}#sk-container-id-1 label.sk-toggleable__label-arrow:hover:before {color: black;}#sk-container-id-1 div.sk-estimator:hover label.sk-toggleable__label-arrow:before {color: black;}#sk-container-id-1 div.sk-toggleable__content {max-height: 0;max-width: 0;overflow: hidden;text-align: left;background-color: #f0f8ff;}#sk-container-id-1 div.sk-toggleable__content pre {margin: 0.2em;color: black;border-radius: 0.25em;background-color: #f0f8ff;}#sk-container-id-1 input.sk-toggleable__control:checked~div.sk-toggleable__content {max-height: 200px;max-width: 100%;overflow: auto;}#sk-container-id-1 input.sk-toggleable__control:checked~label.sk-toggleable__label-arrow:before {content: \"▾\";}#sk-container-id-1 div.sk-estimator input.sk-toggleable__control:checked~label.sk-toggleable__label {background-color: #d4ebff;}#sk-container-id-1 div.sk-label input.sk-toggleable__control:checked~label.sk-toggleable__label {background-color: #d4ebff;}#sk-container-id-1 input.sk-hidden--visually {border: 0;clip: rect(1px 1px 1px 1px);clip: rect(1px, 1px, 1px, 1px);height: 1px;margin: -1px;overflow: hidden;padding: 0;position: absolute;width: 1px;}#sk-container-id-1 div.sk-estimator {font-family: monospace;background-color: #f0f8ff;border: 1px dotted black;border-radius: 0.25em;box-sizing: border-box;margin-bottom: 0.5em;}#sk-container-id-1 div.sk-estimator:hover {background-color: #d4ebff;}#sk-container-id-1 div.sk-parallel-item::after {content: \"\";width: 100%;border-bottom: 1px solid gray;flex-grow: 1;}#sk-container-id-1 div.sk-label:hover label.sk-toggleable__label {background-color: #d4ebff;}#sk-container-id-1 div.sk-serial::before {content: \"\";position: absolute;border-left: 1px solid gray;box-sizing: border-box;top: 0;bottom: 0;left: 50%;z-index: 0;}#sk-container-id-1 div.sk-serial {display: flex;flex-direction: column;align-items: center;background-color: white;padding-right: 0.2em;padding-left: 0.2em;position: relative;}#sk-container-id-1 div.sk-item {position: relative;z-index: 1;}#sk-container-id-1 div.sk-parallel {display: flex;align-items: stretch;justify-content: center;background-color: white;position: relative;}#sk-container-id-1 div.sk-item::before, #sk-container-id-1 div.sk-parallel-item::before {content: \"\";position: absolute;border-left: 1px solid gray;box-sizing: border-box;top: 0;bottom: 0;left: 50%;z-index: -1;}#sk-container-id-1 div.sk-parallel-item {display: flex;flex-direction: column;z-index: 1;position: relative;background-color: white;}#sk-container-id-1 div.sk-parallel-item:first-child::after {align-self: flex-end;width: 50%;}#sk-container-id-1 div.sk-parallel-item:last-child::after {align-self: flex-start;width: 50%;}#sk-container-id-1 div.sk-parallel-item:only-child::after {width: 0;}#sk-container-id-1 div.sk-dashed-wrapped {border: 1px dashed gray;margin: 0 0.4em 0.5em 0.4em;box-sizing: border-box;padding-bottom: 0.4em;background-color: white;}#sk-container-id-1 div.sk-label label {font-family: monospace;font-weight: bold;display: inline-block;line-height: 1.2em;}#sk-container-id-1 div.sk-label-container {text-align: center;}#sk-container-id-1 div.sk-container {/* jupyter's `normalize.less` sets `[hidden] { display: none; }` but bootstrap.min.css set `[hidden] { display: none !important; }` so we also need the `!important` here to be able to override the default hidden behavior on the sphinx rendered scikit-learn.org. See: https://github.com/scikit-learn/scikit-learn/issues/21755 */display: inline-block !important;position: relative;}#sk-container-id-1 div.sk-text-repr-fallback {display: none;}</style><div id=\"sk-container-id-1\" class=\"sk-top-container\"><div class=\"sk-text-repr-fallback\"><pre>XGBRegressor(base_score=0.5, booster=&#x27;gbtree&#x27;, callbacks=None,\n",
       "             colsample_bylevel=1, colsample_bynode=1, colsample_bytree=1,\n",
       "             early_stopping_rounds=None, enable_categorical=False,\n",
       "             eval_metric=None, gamma=0, gpu_id=-1, grow_policy=&#x27;depthwise&#x27;,\n",
       "             importance_type=None, interaction_constraints=&#x27;&#x27;,\n",
       "             learning_rate=0.300000012, max_bin=256, max_cat_to_onehot=4,\n",
       "             max_delta_step=0, max_depth=6, max_leaves=0, min_child_weight=1,\n",
       "             missing=nan, monotone_constraints=&#x27;()&#x27;, n_estimators=100, n_jobs=0,\n",
       "             num_parallel_tree=1, predictor=&#x27;auto&#x27;, random_state=0, reg_alpha=0,\n",
       "             reg_lambda=1, ...)</pre><b>In a Jupyter environment, please rerun this cell to show the HTML representation or trust the notebook. <br />On GitHub, the HTML representation is unable to render, please try loading this page with nbviewer.org.</b></div><div class=\"sk-container\" hidden><div class=\"sk-item\"><div class=\"sk-estimator sk-toggleable\"><input class=\"sk-toggleable__control sk-hidden--visually\" id=\"sk-estimator-id-1\" type=\"checkbox\" checked><label for=\"sk-estimator-id-1\" class=\"sk-toggleable__label sk-toggleable__label-arrow\">XGBRegressor</label><div class=\"sk-toggleable__content\"><pre>XGBRegressor(base_score=0.5, booster=&#x27;gbtree&#x27;, callbacks=None,\n",
       "             colsample_bylevel=1, colsample_bynode=1, colsample_bytree=1,\n",
       "             early_stopping_rounds=None, enable_categorical=False,\n",
       "             eval_metric=None, gamma=0, gpu_id=-1, grow_policy=&#x27;depthwise&#x27;,\n",
       "             importance_type=None, interaction_constraints=&#x27;&#x27;,\n",
       "             learning_rate=0.300000012, max_bin=256, max_cat_to_onehot=4,\n",
       "             max_delta_step=0, max_depth=6, max_leaves=0, min_child_weight=1,\n",
       "             missing=nan, monotone_constraints=&#x27;()&#x27;, n_estimators=100, n_jobs=0,\n",
       "             num_parallel_tree=1, predictor=&#x27;auto&#x27;, random_state=0, reg_alpha=0,\n",
       "             reg_lambda=1, ...)</pre></div></div></div></div></div>"
      ],
      "text/plain": [
       "XGBRegressor(base_score=0.5, booster='gbtree', callbacks=None,\n",
       "             colsample_bylevel=1, colsample_bynode=1, colsample_bytree=1,\n",
       "             early_stopping_rounds=None, enable_categorical=False,\n",
       "             eval_metric=None, gamma=0, gpu_id=-1, grow_policy='depthwise',\n",
       "             importance_type=None, interaction_constraints='',\n",
       "             learning_rate=0.300000012, max_bin=256, max_cat_to_onehot=4,\n",
       "             max_delta_step=0, max_depth=6, max_leaves=0, min_child_weight=1,\n",
       "             missing=nan, monotone_constraints='()', n_estimators=100, n_jobs=0,\n",
       "             num_parallel_tree=1, predictor='auto', random_state=0, reg_alpha=0,\n",
       "             reg_lambda=1, ...)"
      ]
     },
     "execution_count": 110,
     "metadata": {},
     "output_type": "execute_result"
    }
   ],
   "source": [
    "my_model = xgb.XGBRegressor()\n",
    "my_model.fit(X_train_0,y_train_0) \n",
    "        \n",
    "        #Make and store the predictions XGBoost\n",
    "       # y_pred_xgb = m.predict(X_test)\n",
    "       # y_pred_xgb = pd.DataFrame(y_pred_xgb)"
   ]
  },
  {
   "cell_type": "code",
   "execution_count": 111,
   "id": "318ac051",
   "metadata": {
    "hidden": true
   },
   "outputs": [],
   "source": [
    "#my_model = RandomForestRegressor(random_state=0).fit(X_step_joao, y)"
   ]
  },
  {
   "cell_type": "code",
   "execution_count": 112,
   "id": "7c92f724",
   "metadata": {
    "hidden": true
   },
   "outputs": [],
   "source": [
    "y_pred = my_model.predict(X_test_0)"
   ]
  },
  {
   "cell_type": "code",
   "execution_count": 113,
   "id": "4fd1128b",
   "metadata": {
    "hidden": true
   },
   "outputs": [],
   "source": [
    "# SHAP values"
   ]
  },
  {
   "cell_type": "code",
   "execution_count": 114,
   "id": "3bb4b403",
   "metadata": {
    "hidden": true
   },
   "outputs": [
    {
     "name": "stderr",
     "output_type": "stream",
     "text": [
      "ntree_limit is deprecated, use `iteration_range` or model slicing instead.\n"
     ]
    },
    {
     "data": {
      "image/png": "[encoded data removed]",
      "text/plain": [
       "<Figure size 576x482.4 with 2 Axes>"
      ]
     },
     "metadata": {
      "needs_background": "light"
     },
     "output_type": "display_data"
    }
   ],
   "source": [
    "#import shap  # package used to calculate Shap values\n",
    "\n",
    "# Create object that can calculate shap values\n",
    "explainer = shap.TreeExplainer(my_model)\n",
    "\n",
    "# calculate shap values. This is what we will plot.\n",
    "# Calculate shap_values for all of val_X rather than a single row, to have more data for plot.\n",
    "shap_values = explainer.shap_values(X_test_0)\n",
    "\n",
    "# Make plot. Index of [1] is explained in text below.\n",
    "shap.summary_plot(shap_values, X_test_0)\n",
    "\n",
    "#- Vertical location shows what feature it is depicting\n",
    "#- Color shows whether that feature was high or low for that row of the dataset\n",
    "#- Horizontal location shows whether the effect of that value caused a higher or lower prediction."
   ]
  },
  {
   "cell_type": "code",
   "execution_count": 115,
   "id": "d4a37281",
   "metadata": {
    "hidden": true
   },
   "outputs": [
    {
     "data": {
      "image/png": "[encoded data removed]",
      "text/plain": [
       "<Figure size 576x482.4 with 1 Axes>"
      ]
     },
     "metadata": {
      "needs_background": "light"
     },
     "output_type": "display_data"
    }
   ],
   "source": [
    "shap.summary_plot(shap_values, X_test_0, plot_type=\"bar\")"
   ]
  },
  {
   "cell_type": "markdown",
   "id": "38b968f9",
   "metadata": {
    "heading_collapsed": true
   },
   "source": [
    "# [SKIP] Features selection [SKIP]"
   ]
  },
  {
   "cell_type": "code",
   "execution_count": null,
   "id": "1e3d89d4",
   "metadata": {
    "hidden": true
   },
   "outputs": [],
   "source": [
    "## Feature Selection function (TO BE CREATED)\n",
    "\n",
    "# iterables = [[feature_1], [feature_2], [feature_3]]\n",
    "\n",
    "# for t in itertools.product(*iterables):\n",
    "#     print (t)\n",
    "\n",
    "# feature_1 = ['1.0_to_1.5', '1.5_to_2.0', '2.0_to_3.0','3.0_to_99999.0']\n",
    "# feature_2 = ['country_div_1','country_div_2','country_div_3','country_div_4']\n",
    "# feature_3 = ['month_after_July']\n",
    "# feature_4 = ['year_2021_2022']\n",
    "# feature_5 = ['game_starts_after_4pm']\n",
    "# feature_6 = ['Market_consensus']\n",
    "# feature_7 = ['%vig_p_bool']\n",
    "# feature_8 = ['payout_under_2.5_pinacle_closing']\n",
    "\n",
    "# list_features = [feature_1,feature_2,feature_3,feature_4,feature_5,feature_6,feature_7,feature_8]\n",
    "\n",
    "# from itertools import combinations\n",
    "# sample_list = list_features\n",
    "# list_combinations = list()\n",
    "# for n in range(len(sample_list) + 1):\n",
    "#     list_combinations += list(combinations(sample_list, n))\n",
    "# print(list_combinations)\n",
    "\n",
    "# list_combinations\n",
    "\n",
    "# ls = list(list_combinations)\n",
    "# flat_ls = [item for sublist in ls for item in sublist]\n",
    "\n",
    "# a = list(list_combinations[3])\n",
    "\n",
    "# mylist = list(list_combinations[3])\n",
    "# [item[0] for item in mylist]\n",
    "\n",
    "# list_features_array = np.array(list_features)\n",
    "\n",
    "# list_features_array\n",
    "\n",
    "# np.multiply(x[0]*list_features_array)\n",
    "\n",
    "# from itertools import product\n",
    "# import numpy as np\n",
    "\n",
    "# n = 2\n",
    "\n",
    "# x = product([1, 0], repeat=n)\n",
    "# x = np.reshape(list(x), (-1, n))\n",
    "# print(x)\n",
    "\n",
    "# i=1\n",
    "# #while i < 3:\n",
    "# feature_selection_1 = x[0]*list_features_array[i]\n",
    "# i=i=1\n",
    "# final_feature_selection = feature_selection_1+feature_selection_2"
   ]
  }
 ],
 "metadata": {
  "kernelspec": {
   "display_name": "Python 3 (ipykernel)",
   "language": "python",
   "name": "python3"
  },
  "language_info": {
   "codemirror_mode": {
    "name": "ipython",
    "version": 3
   },
   "file_extension": ".py",
   "mimetype": "text/x-python",
   "name": "python",
   "nbconvert_exporter": "python",
   "pygments_lexer": "ipython3",
   "version": "3.8.12"
  },
  "toc": {
   "base_numbering": 1,
   "nav_menu": {},
   "number_sections": true,
   "sideBar": true,
   "skip_h1_title": false,
   "title_cell": "Table of Contents",
   "title_sidebar": "Contents",
   "toc_cell": false,
   "toc_position": {
    "height": "calc(100% - 180px)",
    "left": "10px",
    "top": "150px",
    "width": "303.825px"
   },
   "toc_section_display": true,
   "toc_window_display": true
  },
  "varInspector": {
   "cols": {
    "lenName": 16,
    "lenType": 16,
    "lenVar": 40
   },
   "kernels_config": {
    "python": {
     "delete_cmd_postfix": "",
     "delete_cmd_prefix": "del ",
     "library": "var_list.py",
     "varRefreshCmd": "print(var_dic_list())"
    },
    "r": {
     "delete_cmd_postfix": ") ",
     "delete_cmd_prefix": "rm(",
     "library": "var_list.r",
     "varRefreshCmd": "cat(var_dic_list()) "
    }
   },
   "types_to_exclude": [
    "module",
    "function",
    "builtin_function_or_method",
    "instance",
    "_Feature"
   ],
   "window_display": false
  }
 },
 "nbformat": 4,
 "nbformat_minor": 5
}
