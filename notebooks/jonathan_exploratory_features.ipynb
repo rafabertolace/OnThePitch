{
 "cells": [
  {
   "cell_type": "code",
   "execution_count": null,
   "id": "40566e76",
   "metadata": {},
   "outputs": [],
   "source": [
    "data = pd.read_csv('../OnThePitch/data/Turkey_2020_2021.csv')\n"
   ]
  },
  {
   "cell_type": "code",
   "execution_count": null,
   "id": "934f22d6",
   "metadata": {},
   "outputs": [],
   "source": [
    "df = data.copy()\n"
   ]
  },
  {
   "cell_type": "code",
   "execution_count": 1,
   "id": "8933aefd",
   "metadata": {},
   "outputs": [
    {
     "data": {
      "text/plain": [
       "'/home/jonathan/code/rafabertolace/OnThePitch/notebooks'"
      ]
     },
     "execution_count": 1,
     "metadata": {},
     "output_type": "execute_result"
    }
   ],
   "source": [
    "pwd"
   ]
  }
 ],
 "metadata": {
  "kernelspec": {
   "display_name": "Python 3 (ipykernel)",
   "language": "python",
   "name": "python3"
  },
  "language_info": {
   "codemirror_mode": {
    "name": "ipython",
    "version": 3
   },
   "file_extension": ".py",
   "mimetype": "text/x-python",
   "name": "python",
   "nbconvert_exporter": "python",
   "pygments_lexer": "ipython3",
   "version": "3.8.12"
  },
  "toc": {
   "base_numbering": 1,
   "nav_menu": {},
   "number_sections": true,
   "sideBar": true,
   "skip_h1_title": false,
   "title_cell": "Table of Contents",
   "title_sidebar": "Contents",
   "toc_cell": false,
   "toc_position": {},
   "toc_section_display": true,
   "toc_window_display": false
  }
 },
 "nbformat": 4,
 "nbformat_minor": 5
}
