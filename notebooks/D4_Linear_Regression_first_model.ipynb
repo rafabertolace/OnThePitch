{
 "cells": [
  {
   "cell_type": "markdown",
   "id": "d1816ff7",
   "metadata": {},
   "source": [
    "# Imports"
   ]
  },
  {
   "cell_type": "code",
   "execution_count": 84,
   "id": "06e1f50a",
   "metadata": {},
   "outputs": [],
   "source": [
    "import pandas as pd\n",
    "import os\n",
    "from os import listdir\n",
    "from os.path import isfile, join\n",
    "import matplotlib.pyplot as plt\n",
    "from scipy.stats import mode\n",
    "from sklearn.preprocessing import OneHotEncoder\n",
    "from sklearn.linear_model import LogisticRegression\n",
    "\n",
    "import numpy as np"
   ]
  },
  {
   "cell_type": "markdown",
   "id": "b295e690",
   "metadata": {},
   "source": [
    "# Loading the Dataframe"
   ]
  },
  {
   "cell_type": "code",
   "execution_count": 85,
   "id": "b95d2a37",
   "metadata": {},
   "outputs": [
    {
     "data": {
      "text/plain": [
       "'/home/jonathan/code/rafabertolace/OnThePitch/notebooks'"
      ]
     },
     "execution_count": 85,
     "metadata": {},
     "output_type": "execute_result"
    }
   ],
   "source": [
    "pwd"
   ]
  },
  {
   "cell_type": "markdown",
   "id": "3fa4f75c",
   "metadata": {},
   "source": [
    "## Merging the Seasons csv files (2019-2020 untill 2021-2022)"
   ]
  },
  {
   "cell_type": "code",
   "execution_count": 86,
   "id": "39b6d4af",
   "metadata": {},
   "outputs": [
    {
     "name": "stdout",
     "output_type": "stream",
     "text": [
      "['I1 (3).csv', 'F1.csv', 'B1 (2).csv:Zone.Identifier', 'F1 (2).csv', 'G1 (2).csv', 'D1.csv', 'I1 (1).csv:Zone.Identifier', 'F1.csv:Zone.Identifier', 'D1 (2).csv:Zone.Identifier', 'I1 (3).csv:Zone.Identifier', 'D1.csv:Zone.Identifier', 'I1 (2).csv', 'Turkey_2021_2022.csv.csv', 'B1 (2).csv', 'B1 (1).csv', 'F1 (1).csv', 'Turkey_2019_2020.csv.csv', 'Turkey_2020_2021.csv.csv', 'G1.csv', 'I1 (1).csv', 'F1 (2).csv:Zone.Identifier', 'D1 (2).csv', 'D1 (1).csv', 'I1 (2).csv:Zone.Identifier', 'B1 (1).csv:Zone.Identifier', 'F1 (1).csv:Zone.Identifier', 'G1 (1).csv', 'D1 (1).csv:Zone.Identifier', 'B1.csv:Zone.Identifier', 'B1.csv']\n"
     ]
    }
   ],
   "source": [
    "print(os.listdir('../raw_data/All3'))"
   ]
  },
  {
   "cell_type": "code",
   "execution_count": 87,
   "id": "2208c966",
   "metadata": {},
   "outputs": [],
   "source": [
    "files = [file for file in os.listdir('../raw_data/All3') if file.endswith('.csv')]\n",
    "data = pd.DataFrame()\n",
    "\n",
    "for file in files:\n",
    "    df = pd.read_csv('../raw_data/All3/' + file)\n",
    "    df['country']=str(file)[0:2]\n",
    "    data = pd.concat([data, df])"
   ]
  },
  {
   "cell_type": "code",
   "execution_count": 88,
   "id": "b89e0726",
   "metadata": {},
   "outputs": [
    {
     "data": {
      "text/plain": [
       "array(['I1', 'F1', 'G1', 'D1', 'T1', 'B1'], dtype=object)"
      ]
     },
     "execution_count": 88,
     "metadata": {},
     "output_type": "execute_result"
    }
   ],
   "source": [
    "data['Div'].unique()"
   ]
  },
  {
   "cell_type": "code",
   "execution_count": 89,
   "id": "fe07720d",
   "metadata": {},
   "outputs": [
    {
     "name": "stdout",
     "output_type": "stream",
     "text": [
      "Div\n",
      "Date\n",
      "Time\n",
      "HomeTeam\n",
      "AwayTeam\n",
      "FTHG\n",
      "FTAG\n",
      "FTR\n",
      "HTHG\n",
      "HTAG\n",
      "HTR\n",
      "HS\n",
      "AS\n",
      "HST\n",
      "AST\n",
      "HF\n",
      "AF\n",
      "HC\n",
      "AC\n",
      "HY\n",
      "AY\n",
      "HR\n",
      "AR\n",
      "B365H\n",
      "B365D\n",
      "B365A\n",
      "BWH\n",
      "BWD\n",
      "BWA\n",
      "IWH\n",
      "IWD\n",
      "IWA\n",
      "PSH\n",
      "PSD\n",
      "PSA\n",
      "WHH\n",
      "WHD\n",
      "WHA\n",
      "VCH\n",
      "VCD\n",
      "VCA\n",
      "MaxH\n",
      "MaxD\n",
      "MaxA\n",
      "AvgH\n",
      "AvgD\n",
      "AvgA\n",
      "B365>2.5\n",
      "B365<2.5\n",
      "P>2.5\n",
      "P<2.5\n",
      "Max>2.5\n",
      "Max<2.5\n",
      "Avg>2.5\n",
      "Avg<2.5\n",
      "AHh\n",
      "B365AHH\n",
      "B365AHA\n",
      "PAHH\n",
      "PAHA\n",
      "MaxAHH\n",
      "MaxAHA\n",
      "AvgAHH\n",
      "AvgAHA\n",
      "B365CH\n",
      "B365CD\n",
      "B365CA\n",
      "BWCH\n",
      "BWCD\n",
      "BWCA\n",
      "IWCH\n",
      "IWCD\n",
      "IWCA\n",
      "PSCH\n",
      "PSCD\n",
      "PSCA\n",
      "WHCH\n",
      "WHCD\n",
      "WHCA\n",
      "VCCH\n",
      "VCCD\n",
      "VCCA\n",
      "MaxCH\n",
      "MaxCD\n",
      "MaxCA\n",
      "AvgCH\n",
      "AvgCD\n",
      "AvgCA\n",
      "B365C>2.5\n",
      "B365C<2.5\n",
      "PC>2.5\n",
      "PC<2.5\n",
      "MaxC>2.5\n",
      "MaxC<2.5\n",
      "AvgC>2.5\n",
      "AvgC<2.5\n",
      "AHCh\n",
      "B365CAHH\n",
      "B365CAHA\n",
      "PCAHH\n",
      "PCAHA\n",
      "MaxCAHH\n",
      "MaxCAHA\n",
      "AvgCAHH\n",
      "AvgCAHA\n",
      "country\n",
      "Unnamed: 105\n"
     ]
    }
   ],
   "source": [
    "for col_name in data.columns: \n",
    "    print(col_name)"
   ]
  },
  {
   "cell_type": "markdown",
   "id": "32c8ad8d",
   "metadata": {},
   "source": [
    "# Features Engineering"
   ]
  },
  {
   "cell_type": "code",
   "execution_count": 98,
   "id": "acad4a1a",
   "metadata": {},
   "outputs": [],
   "source": [
    "def feature_engineering(data, b=20, binned=False):\n",
    "    '''\n",
    "    This function creates all the columns that will be needed to create the analysis \n",
    "    and return the dataframe with all this changes\n",
    "    \n",
    "    b is the number of bins that we want to work with. Our start value for b will be 20.\n",
    "        '''\n",
    "    #------------------------Number of Goals, Over and Under -----------------------------------\n",
    "    \n",
    "    # total number of goals = goals from the home team + goals from visiting team\n",
    "    data['nb_goals']=data['FTHG']+data['FTAG']\n",
    "\n",
    "    # boolean: true or false regarding whether they were more than 2.5 goals\n",
    "    data['over_2.5_goals']=data['nb_goals']>2.5\n",
    "\n",
    "    # boolean: true or false regarding whether they were less than 2.5 goals\n",
    "    data['under_2.5_goals']=data['nb_goals']<2.5\n",
    "    \n",
    "    #-----------------------------Payout Opening ----------------------------------------------\n",
    "    \n",
    "    # payout under 2.5 for Average OPENING odds\n",
    "    data['payout_avg_under_2.5'] = data['under_2.5_goals']*data['Avg<2.5']\n",
    "\n",
    "    # payout over 2.5 for Average OPENING odds\n",
    "    data['payout_avg_over_2.5'] = data['over_2.5_goals']*data['Avg>2.5']\n",
    "\n",
    "    #payout UNDER 2.5 for PINACLE specifically\n",
    "    data['payout_under_2.5_pinacle'] = data['under_2.5_goals']*data['P<2.5']\n",
    "\n",
    "    #payout OVER 2.5 for PINACLE specifically\n",
    "    data['payout_over_2.5_pinacle'] = data['over_2.5_goals']*data['P>2.5']\n",
    "\n",
    "    #payout UNDER 2.5 for 365 specifically\n",
    "    data['payout_under_2.5_365'] = data['under_2.5_goals']*data['B365<2.5']\n",
    "\n",
    "    #payout OVER 2.5 for 365 specifically\n",
    "    data['payout_over_2.5_365'] = data['over_2.5_goals']*data['B365>2.5']\n",
    "    \n",
    "    #------------------------------Payout Closing --------------------------------------------\n",
    "    \n",
    "    # payout under 2.5 for Average CLOSING odds\n",
    "    data['payout_avg_under_closing_2.5'] = data['under_2.5_goals']*data['AvgC<2.5']\n",
    "\n",
    "    # payout over 2.5 for Average CLOSING odds\n",
    "    data['payout_avg_over_closing_2.5'] = data['over_2.5_goals']*data['AvgC>2.5']\n",
    "\n",
    "    #payout UNDER 2.5 for PINACLE closing ddds specifically\n",
    "    data['payout_under_2.5_pinacle_closing'] = data['under_2.5_goals']*data['PC<2.5']\n",
    "\n",
    "    #payout OVER 2.5 for PINACLE closing odds specifically\n",
    "    data['payout_over_2.5_pinacle_closing'] = data['over_2.5_goals']*data['PC>2.5']\n",
    "\n",
    "    #payout UNDER 2.5 for 365 closing odds specifically\n",
    "    data['payout_under_2.5_365_closing'] = data['under_2.5_goals']*data['B365C<2.5']\n",
    "\n",
    "    #payout OVER 2.5 for 365 closing odds specifically\n",
    "    data['payout_over_2.5_365_closing'] = data['over_2.5_goals']*data['B365C>2.5']\n",
    "    \n",
    "    #-------------------------- Implied Probability Opening ----------------------------------------\n",
    "    \n",
    "    #Implied Probability UNDER 2.5 goals for for overall market opening odds (Avg) \n",
    "    data['Implied Probability <2.5 avg']=1/data['Avg<2.5']*100\n",
    "\n",
    "    #Implied Probability OVER 2.5 goals for for overall market opening odds (Avg) \n",
    "    data['Implied Probability >2.5 avg']=1/data['Avg>2.5']*100\n",
    "\n",
    "    #Implied Probability UNDER 2.5 goals for PINACLE\n",
    "    data['Implied Probability <2.5 pinacle']=1/data['P<2.5']*100\n",
    "\n",
    "    #Implied Probability OVER 2.5 goals for PINACLE\n",
    "    data['Implied Probability >2.5 pinacle']=1/data['P>2.5']*100\n",
    "\n",
    "    #Implied Probability UNDER 2.5 goals for 365\n",
    "    data['Implied Probability <2.5 365']=1/data['B365<2.5']*100\n",
    "\n",
    "    #Implied Probability OVER 2.5 goals for 365\n",
    "    data['Implied Probability >2.5 365']=1/data['B365>2.5']*100\n",
    "    \n",
    "    #------------------------- Implied Probability Closing -----------------------------------\n",
    "    \n",
    "    #Implied Probability UNDER 2.5 goals for overall market closing odds (AvgC)\n",
    "    data['Implied Probability <2.5 avg closing']=1/data['AvgC<2.5']*100\n",
    "\n",
    "    #Implied Probability OVER 2.5 goals for overall market closing odds (AvgC)\n",
    "    data['Implied Probability >2.5 avg closing']=1/data['AvgC>2.5']*100\n",
    "\n",
    "    #Implied Probability UNDER 2.5 goals for PINACLE closing odds\n",
    "    data['Implied Probability <2.5 pinacle closing']=1/data['PC<2.5']*100\n",
    "\n",
    "    #Implied Probability OVER 2.5 goals for PINACLE closing odds\n",
    "    data['Implied Probability >2.5 pinacle closing']=1/data['PC>2.5']*100\n",
    "\n",
    "    #Implied Probability UNDER 2.5 goals for 365 closing odds\n",
    "    data['Implied Probability <2.5 365 closing']=1/data['B365C<2.5']*100\n",
    "\n",
    "    #Implied Probability OVER 2.5 goals for 365 closing odds\n",
    "    data['Implied Probability >2.5 365 closing']=1/data['B365C>2.5']*100\n",
    "    \n",
    "    #---------------------------- Binning IP Opening -------------------------------------\n",
    "\n",
    "    b=b\n",
    "    bins = np.arange(0, 101, int(100/b))\n",
    "    bins = bins.tolist()\n",
    "\n",
    "    #Binning UNDER 2.5 Average Market opening odds\n",
    "    data['binned <2.5 avg'] = pd.cut(data['Implied Probability <2.5 avg'], bins)\n",
    "\n",
    "    #Binning Over 2.5 Average Market opening odds\n",
    "    data['binned >2.5 avg'] = pd.cut(data['Implied Probability >2.5 avg'], bins)\n",
    "\n",
    "    #Binned UNDER 2.5 Pinnacle opening odds\n",
    "    data['binned <2.5 pinacle'] = pd.cut(data['Implied Probability <2.5 pinacle'], bins)\n",
    "\n",
    "    #Binned OVER 2.5 Pinnacle\n",
    "    data['binned >2.5 pinacle'] = pd.cut(data['Implied Probability >2.5 pinacle'], bins)\n",
    "\n",
    "    #Binned UNDER 2.5 bet365 OPENING odds\n",
    "    data['binned <2.5 365'] = pd.cut(data['Implied Probability <2.5 365'], bins)\n",
    "\n",
    "    #Binned OVER 2.5 bet365 OPENING odds\n",
    "    data['binned >2.5 365'] = pd.cut(data['Implied Probability >2.5 365'], bins)\n",
    "    \n",
    "    #----------------------------- Binning IP Closing ------------------------------------------------\n",
    "\n",
    "    #Binning UNDER 2.5 Average Market closing odds\n",
    "    data['binned <2.5 avg closing'] = pd.cut(data['Implied Probability <2.5 avg closing'], bins)\n",
    "\n",
    "    #Binning OVER 2.5 Average Market closing odds\n",
    "    data['binned >2.5 avg closing'] = pd.cut(data['Implied Probability >2.5 avg closing'], bins)\n",
    "\n",
    "    #Binned UNDER 2.5 Pinnacle closing odds\n",
    "    data['binned <2.5 pinacle closing'] = pd.cut(data['Implied Probability <2.5 pinacle closing'], bins)\n",
    "\n",
    "    #Binned OVER 2.5 Pinnacle CLOSING odds\n",
    "    data['binned >2.5 pinacle closing'] = pd.cut(data['Implied Probability >2.5 pinacle closing'], bins)\n",
    "\n",
    "    #Binned UNDER 2.5 bet365 CLOSING odds\n",
    "    data['binned <2.5 365 closing'] = pd.cut(data['Implied Probability <2.5 365 closing'], bins)\n",
    "\n",
    "    #Binned OVER 2.5 bet365 CLOSING odds\n",
    "    data['binned >2.5 365 closing'] = pd.cut(data['Implied Probability >2.5 365 closing'], bins)\n",
    "    \n",
    "    #---------------------------- Binning Odds Opening ----------------------------------------------------\n",
    "    \n",
    "    bins2 = [1, 1.5, 2, 3, 99999]\n",
    "\n",
    "    #Binning UNDER 2.5 Average Market opening odds\n",
    "    data['binned odds <2.5 avg'] = pd.cut(data['Avg<2.5'], bins2)\n",
    "\n",
    "    #Binning Over 2.5 Average Market opening odds\n",
    "    data['binned odds >2.5 avg'] = pd.cut(data['Avg>2.5'], bins2)\n",
    "\n",
    "    #Binned UNDER 2.5 Pinnacle opening odds\n",
    "    data['binned odds <2.5 pinacle'] = pd.cut(data['P<2.5'], bins2)\n",
    "\n",
    "    #Binned OVER 2.5 Pinnacle\n",
    "    data['binned odds >2.5 pinacle'] = pd.cut(data['P>2.5'], bins2)\n",
    "\n",
    "    #Binned UNDER 2.5 bet365 OPENING odds\n",
    "    data['binned odds <2.5 365'] = pd.cut(data['B365<2.5'], bins2)\n",
    "\n",
    "    #Binned OVER 2.5 bet365 OPENING odds\n",
    "    data['binned odds >2.5 365'] = pd.cut(data['B365>2.5'], bins2)\n",
    "    \n",
    "    #----------------------------- Binning Odds Closing ----------------------------------------------------------\n",
    "    \n",
    "    #Binning UNDER 2.5 Average Market opening odds\n",
    "    data['binned odds <2.5 avg closing'] = pd.cut(data['AvgC<2.5'], bins2)\n",
    "\n",
    "    #Binning Over 2.5 Average Market opening odds\n",
    "    data['binned odds >2.5 avg closing'] = pd.cut(data['AvgC>2.5'], bins2)\n",
    "\n",
    "    #Binned UNDER 2.5 Pinnacle opening odds\n",
    "    data['binned odds <2.5 pinacle closing'] = pd.cut(data['PC<2.5'], bins2)\n",
    "\n",
    "    #Binned OVER 2.5 Pinnacle\n",
    "    data['binned odds >2.5 pinacle closing'] = pd.cut(data['PC>2.5'], bins2)\n",
    "\n",
    "    #Binned UNDER 2.5 bet365 OPENING odds\n",
    "    data['binned odds <2.5 365 closing'] = pd.cut(data['B365C<2.5'], bins2)\n",
    "\n",
    "    #Binned OVER 2.5 bet365 OPENING odds\n",
    "    data['binned odds >2.5 365 closing'] = pd.cut(data['B365C>2.5'], bins2)\n",
    "    \n",
    "    \n",
    "    #----------------------------- Other Features from D3 ------------------------------------------------------\n",
    "    \n",
    "    data['Pin_pays_better_under_boolean'] = data['PC<2.5'] > data['AvgC<2.5']\n",
    "    data['Pin_pays_better_under_difference'] = data['PC<2.5'] / data['AvgC<2.5']\n",
    "    data['%vig_p'] = (1 - (1 / (1/data['PC>2.5'] + 1/data['PC<2.5'])))*100\n",
    "    data['%vig_avg'] = (1 - (1 / (1/data['AvgC>2.5'] + 1/data['AvgC<2.5'])))*100\n",
    "    data['PC<2.5_P_boolean'] = data['PC<2.5'] < data['P<2.5']\n",
    "    data['PC<2.5_P_relative_diff'] = data['PC<2.5'] / data['P<2.5']\n",
    "    \n",
    "    #----------------------- Odds and probability of the home team scoring under 2.5 -------------------------------\n",
    "    \n",
    "    lst1 = []\n",
    "    lst2 = []\n",
    "    for i, team in enumerate(data['HomeTeam']):\n",
    "        date = data['Date'].iloc[i]\n",
    "        total = len(data[(data['HomeTeam'] == team) & (data['Date'] < date)])\n",
    "        n_under_home = data[(data['HomeTeam'] == team) & (data['Date'] < date)]['under_2.5_goals'].value_counts()\n",
    "        try:\n",
    "            lst1.append(1/(n_under_home[1]/total))\n",
    "            lst2.append(n_under_home[1]/total)\n",
    "        except:\n",
    "            lst1.append(np.nan)\n",
    "            lst2.append(np.nan)\n",
    "\n",
    "    data['odds_home_under'] = lst1\n",
    "    data['prob_home_under'] = lst2\n",
    "    \n",
    "    #binning the probability of the home team to have a game of less than 2.5 score\n",
    "    data['binned prob_home_under'] = pd.cut(data['prob_home_under']*100, bins)\n",
    "    \n",
    "    \n",
    "    #----------------------- Odds and probability of the away team scoring under 2.5 -------------------------------\n",
    "    \n",
    "    lst3 = []\n",
    "    lst4  = []\n",
    "    for i, team in enumerate(data['AwayTeam']):\n",
    "        date = data['Date'].iloc[i]\n",
    "        total2 = len(data[(data['AwayTeam'] == team) & (data['Date'] < date)])\n",
    "        n_under_away2 = data[(data['AwayTeam'] == team) & (data['Date'] < date)]['under_2.5_goals'].value_counts()\n",
    "        try:\n",
    "            lst3.append(1/(n_under_away2[1] / total2))\n",
    "            lst4.append(n_under_away2[1] / total2)\n",
    "        except:\n",
    "            lst3.append(np.nan)\n",
    "            lst4.append(np.nan)\n",
    "\n",
    "    data['odds_away_under'] = lst3\n",
    "    data['prob_away_under'] = lst4\n",
    "    \n",
    "    #binning the probability of the away team to have a game of less than 2.5 score\n",
    "    data['binned prob_away_under'] = pd.cut(data['prob_away_under']*100, bins)\n",
    "\n",
    "    #-------------------------- Creating the prob and odds of the game -----------------------------------------------\n",
    "    '''the mean between the probability of the home team to have a score of under 2.5 and the probability \n",
    "    of the away team to do the same'''\n",
    "    \n",
    "    data['odds_game'] = (data['odds_away_under'] +  data['odds_home_under']) / 2\n",
    "    data['prob_game'] = (data['prob_away_under'] + data['prob_home_under']) / 2\n",
    "    \n",
    "    #-------------------------- OneHotEncoding the binned probabilities columns ------------------------------------------\n",
    "    \n",
    "\n",
    "    if b == 5:\n",
    "        data = data[~data['binned prob_home_under'].isna()]\n",
    "        ohe = OneHotEncoder(sparse=False)\n",
    "        ohe.fit(data[['binned prob_home_under']])\n",
    "        bins_encoded = ohe.transform(data[['binned prob_home_under']])\n",
    "        data[\"0, 20\"], data[\"20, 40\"], data[\"40, 60\"], data[\"60, 80\"], data[\"80, 100\"] = bins_encoded.T\n",
    "        \n",
    "    if b == 10:\n",
    "        data = data[~data['binned prob_home_under'].isna()]\n",
    "        ohe = OneHotEncoder(sparse=False)\n",
    "        ohe.fit(data[['binned prob_home_under']])\n",
    "        bins_encoded = ohe.transform(data[['binned prob_home_under']])\n",
    "        data[\"0, 10\"], data[\"10, 20\"], data[\"20, 30\"], data[\"30, 40\"], data[\"40, 50\"], data[\"50, 60\"], \\\n",
    "        data[\"60, 70\"], data[\"70, 80\"], data[\"80, 90\"], data[\"90, 100\"] = bins_encoded.T\n",
    "        \n",
    "    if b == 20:\n",
    "        data = data[~data['binned prob_home_under'].isna()]\n",
    "        ohe = OneHotEncoder(sparse=False)\n",
    "        ohe.fit(data[['binned prob_home_under']])\n",
    "        bins_encoded = ohe.transform(data[['binned prob_home_under']])\n",
    "        data[\"0, 5\"], data[\"5, 10\"], data[\"10, 15\"], data[\"15, 20\"], data[\"20, 25\"], data[\"25, 30\"], \\\n",
    "        data[\"30, 35\"], data[\"35, 40\"], data[\"40, 45\"], data[\"45, 50\"], data[\"50, 55\"], data[\"55, 60\"], \\\n",
    "        data[\"60, 65\"], data[\"65, 70\"], data[\"70, 75\"], data[\"75, 80\"], data[\"80, 85\"], data[\"85, 90\"], \\\n",
    "        data[\"90, 95\"], data[\"95, 100\"]= bins_encoded.T\n",
    "    \n",
    "    \n",
    "    #------------------------------------ Cleaning the data ---------------------------------------------------------\n",
    "    \n",
    "    #data = data.dropna(subset=['HomeTeam', 'AwayTeam'], how='any')\n",
    "    data = data[~data['HomeTeam'].isna()]\n",
    "    data = data[~data['AwayTeam'].isna()]\n",
    "    data = data[~data['PC>2.5'].isna()]\n",
    "    data.drop(columns=['Unnamed: 105'], inplace=True) #, 'Unnamed: 105' 'Referee', \n",
    "    #data.dropna()\n",
    "    \n",
    "    return data"
   ]
  },
  {
   "cell_type": "code",
   "execution_count": 99,
   "id": "2c518df9",
   "metadata": {},
   "outputs": [
    {
     "name": "stderr",
     "output_type": "stream",
     "text": [
      "/tmp/ipykernel_3558/3655170974.py:253: SettingWithCopyWarning: \n",
      "A value is trying to be set on a copy of a slice from a DataFrame.\n",
      "Try using .loc[row_indexer,col_indexer] = value instead\n",
      "\n",
      "See the caveats in the documentation: https://pandas.pydata.org/pandas-docs/stable/user_guide/indexing.html#returning-a-view-versus-a-copy\n",
      "  data[\"0, 20\"], data[\"20, 40\"], data[\"40, 60\"], data[\"60, 80\"], data[\"80, 100\"] = bins_encoded.T\n",
      "/tmp/ipykernel_3558/3655170974.py:253: SettingWithCopyWarning: \n",
      "A value is trying to be set on a copy of a slice from a DataFrame.\n",
      "Try using .loc[row_indexer,col_indexer] = value instead\n",
      "\n",
      "See the caveats in the documentation: https://pandas.pydata.org/pandas-docs/stable/user_guide/indexing.html#returning-a-view-versus-a-copy\n",
      "  data[\"0, 20\"], data[\"20, 40\"], data[\"40, 60\"], data[\"60, 80\"], data[\"80, 100\"] = bins_encoded.T\n",
      "/tmp/ipykernel_3558/3655170974.py:253: SettingWithCopyWarning: \n",
      "A value is trying to be set on a copy of a slice from a DataFrame.\n",
      "Try using .loc[row_indexer,col_indexer] = value instead\n",
      "\n",
      "See the caveats in the documentation: https://pandas.pydata.org/pandas-docs/stable/user_guide/indexing.html#returning-a-view-versus-a-copy\n",
      "  data[\"0, 20\"], data[\"20, 40\"], data[\"40, 60\"], data[\"60, 80\"], data[\"80, 100\"] = bins_encoded.T\n",
      "/tmp/ipykernel_3558/3655170974.py:253: SettingWithCopyWarning: \n",
      "A value is trying to be set on a copy of a slice from a DataFrame.\n",
      "Try using .loc[row_indexer,col_indexer] = value instead\n",
      "\n",
      "See the caveats in the documentation: https://pandas.pydata.org/pandas-docs/stable/user_guide/indexing.html#returning-a-view-versus-a-copy\n",
      "  data[\"0, 20\"], data[\"20, 40\"], data[\"40, 60\"], data[\"60, 80\"], data[\"80, 100\"] = bins_encoded.T\n",
      "/tmp/ipykernel_3558/3655170974.py:253: SettingWithCopyWarning: \n",
      "A value is trying to be set on a copy of a slice from a DataFrame.\n",
      "Try using .loc[row_indexer,col_indexer] = value instead\n",
      "\n",
      "See the caveats in the documentation: https://pandas.pydata.org/pandas-docs/stable/user_guide/indexing.html#returning-a-view-versus-a-copy\n",
      "  data[\"0, 20\"], data[\"20, 40\"], data[\"40, 60\"], data[\"60, 80\"], data[\"80, 100\"] = bins_encoded.T\n"
     ]
    }
   ],
   "source": [
    "data = feature_engineering(data, b=5)"
   ]
  },
  {
   "cell_type": "markdown",
   "id": "c84939f7",
   "metadata": {},
   "source": [
    "### Number of Goals, Over and Under"
   ]
  },
  {
   "cell_type": "code",
   "execution_count": 100,
   "id": "fed74758",
   "metadata": {},
   "outputs": [],
   "source": [
    "# total number of goals = goals from the home team + goals from visiting team\n",
    "data['nb_goals']=data['FTHG']+data['FTAG']\n",
    "\n",
    "# boolean: true or false regarding whether they were more than 2.5 goals\n",
    "data['over_2.5_goals']=data['nb_goals']>2.5\n",
    "\n",
    "# boolean: true or false regarding whether they were less than 2.5 goals\n",
    "data['under_2.5_goals']=data['nb_goals']<2.5"
   ]
  },
  {
   "cell_type": "markdown",
   "id": "3ffc1554",
   "metadata": {},
   "source": [
    "### Payout"
   ]
  },
  {
   "cell_type": "markdown",
   "id": "466f6de3",
   "metadata": {},
   "source": [
    "  Payout of betting on over/under 2.5 goals: we get 0 if we lose the bet, we get the Avg if we win the bet (Avg = market average of the odds)\n"
   ]
  },
  {
   "cell_type": "markdown",
   "id": "f8703164",
   "metadata": {},
   "source": [
    "#### Payout Opening"
   ]
  },
  {
   "cell_type": "code",
   "execution_count": 101,
   "id": "4b10653e",
   "metadata": {},
   "outputs": [],
   "source": [
    "# payout under 2.5 for Average OPENING odds\n",
    "data['payout_avg_under_2.5'] = data['under_2.5_goals']*data['Avg<2.5']\n",
    "\n",
    "# payout over 2.5 for Average OPENING odds\n",
    "data['payout_avg_over_2.5'] = data['over_2.5_goals']*data['Avg>2.5']\n",
    "\n",
    "#payout UNDER 2.5 for PINACLE specifically\n",
    "data['payout_under_2.5_pinacle'] = data['under_2.5_goals']*data['P<2.5']\n",
    "\n",
    "#payout OVER 2.5 for PINACLE specifically\n",
    "data['payout_over_2.5_pinacle'] = data['over_2.5_goals']*data['P>2.5']\n",
    "\n",
    "#payout UNDER 2.5 for 365 specifically\n",
    "data['payout_under_2.5_365'] = data['under_2.5_goals']*data['B365<2.5']\n",
    "\n",
    "#payout OVER 2.5 for 365 specifically\n",
    "data['payout_over_2.5_365'] = data['over_2.5_goals']*data['B365>2.5']"
   ]
  },
  {
   "cell_type": "markdown",
   "id": "62980574",
   "metadata": {},
   "source": [
    "#### Payout Closing"
   ]
  },
  {
   "cell_type": "code",
   "execution_count": 102,
   "id": "2a533e43",
   "metadata": {},
   "outputs": [],
   "source": [
    "# payout under 2.5 for Average CLOSING odds\n",
    "data['payout_avg_under_closing_2.5'] = data['under_2.5_goals']*data['AvgC<2.5']\n",
    "\n",
    "# payout over 2.5 for Average CLOSING odds\n",
    "data['payout_avg_over_closing_2.5'] = data['over_2.5_goals']*data['AvgC>2.5']\n",
    "\n",
    "#payout UNDER 2.5 for PINACLE closing ddds specifically\n",
    "data['payout_under_2.5_pinacle_closing'] = data['under_2.5_goals']*data['PC<2.5']\n",
    "\n",
    "#payout OVER 2.5 for PINACLE closing odds specifically\n",
    "data['payout_over_2.5_pinacle_closing'] = data['over_2.5_goals']*data['PC>2.5']\n",
    "\n",
    "#payout UNDER 2.5 for 365 closing odds specifically\n",
    "data['payout_under_2.5_365_closing'] = data['under_2.5_goals']*data['B365C<2.5']\n",
    "\n",
    "#payout OVER 2.5 for 365 closing odds specifically\n",
    "data['payout_over_2.5_365_closing'] = data['over_2.5_goals']*data['B365C>2.5']"
   ]
  },
  {
   "cell_type": "markdown",
   "id": "9ad9c30c",
   "metadata": {},
   "source": [
    "### Implied Probability"
   ]
  },
  {
   "cell_type": "markdown",
   "id": "c6800d2f",
   "metadata": {},
   "source": [
    "#### Implied Probability Opening"
   ]
  },
  {
   "cell_type": "code",
   "execution_count": 103,
   "id": "bdfcd6a1",
   "metadata": {},
   "outputs": [],
   "source": [
    "#Implied Probability UNDER 2.5 goals for for overall market opening odds (Avg) \n",
    "data['Implied Probability <2.5 avg']=1/data['Avg<2.5']*100\n",
    "\n",
    "#Implied Probability OVER 2.5 goals for for overall market opening odds (Avg) \n",
    "data['Implied Probability >2.5 avg']=1/data['Avg>2.5']*100\n",
    "\n",
    "#Implied Probability UNDER 2.5 goals for PINACLE\n",
    "data['Implied Probability <2.5 pinacle']=1/data['P<2.5']*100\n",
    "\n",
    "#Implied Probability OVER 2.5 goals for PINACLE\n",
    "data['Implied Probability >2.5 pinacle']=1/data['P>2.5']*100\n",
    "\n",
    "#Implied Probability UNDER 2.5 goals for 365\n",
    "data['Implied Probability <2.5 365']=1/data['B365<2.5']*100\n",
    "\n",
    "#Implied Probability OVER 2.5 goals for 365\n",
    "data['Implied Probability >2.5 365']=1/data['B365>2.5']*100"
   ]
  },
  {
   "cell_type": "markdown",
   "id": "e6c491f1",
   "metadata": {},
   "source": [
    "#### Implied Probability Closing"
   ]
  },
  {
   "cell_type": "code",
   "execution_count": 104,
   "id": "4cdcecbb",
   "metadata": {},
   "outputs": [],
   "source": [
    "#Implied Probability UNDER 2.5 goals for overall market closing odds (AvgC)\n",
    "data['Implied Probability <2.5 avg closing']=1/data['AvgC<2.5']*100\n",
    "\n",
    "#Implied Probability OVER 2.5 goals for overall market closing odds (AvgC)\n",
    "data['Implied Probability >2.5 avg closing']=1/data['AvgC>2.5']*100\n",
    "\n",
    "#Implied Probability UNDER 2.5 goals for PINACLE closing odds\n",
    "data['Implied Probability <2.5 pinacle closing']=1/data['PC<2.5']*100\n",
    "\n",
    "#Implied Probability OVER 2.5 goals for PINACLE closing odds\n",
    "data['Implied Probability >2.5 pinacle closing']=1/data['PC>2.5']*100\n",
    "\n",
    "#Implied Probability UNDER 2.5 goals for 365 closing odds\n",
    "data['Implied Probability <2.5 365 closing']=1/data['B365C<2.5']*100\n",
    "\n",
    "#Implied Probability OVER 2.5 goals for 365 closing odds\n",
    "data['Implied Probability >2.5 365 closing']=1/data['B365C>2.5']*100"
   ]
  },
  {
   "cell_type": "markdown",
   "id": "56fa1da6",
   "metadata": {},
   "source": [
    "### Binning the implied probabilities"
   ]
  },
  {
   "cell_type": "markdown",
   "id": "aa286a41",
   "metadata": {},
   "source": [
    "#### Binning IP Opening"
   ]
  },
  {
   "cell_type": "code",
   "execution_count": 105,
   "id": "8e1c90a8",
   "metadata": {},
   "outputs": [],
   "source": [
    "bins = [0, 5, 10, 15, 20, 25, 30, 35, 40, 45, 50, 55, 60, 65, 70, 75, 80, 85, 90, 95, 100]\n",
    "\n",
    "#Binning UNDER 2.5 Average Market opening odds\n",
    "data['binned <2.5 avg'] = pd.cut(data['Implied Probability <2.5 avg'], bins)\n",
    "\n",
    "#Binning Over 2.5 Average Market opening odds\n",
    "data['binned >2.5 avg'] = pd.cut(data['Implied Probability >2.5 avg'], bins)\n",
    "\n",
    "#Binned UNDER 2.5 Pinnacle opening odds\n",
    "data['binned <2.5 pinacle'] = pd.cut(data['Implied Probability <2.5 pinacle'], bins)\n",
    "\n",
    "#Binned OVER 2.5 Pinnacle\n",
    "data['binned >2.5 pinacle'] = pd.cut(data['Implied Probability >2.5 pinacle'], bins)\n",
    "\n",
    "#Binned UNDER 2.5 bet365 OPENING odds\n",
    "data['binned <2.5 365'] = pd.cut(data['Implied Probability <2.5 365'], bins)\n",
    "\n",
    "#Binned OVER 2.5 bet365 OPENING odds\n",
    "data['binned >2.5 365'] = pd.cut(data['Implied Probability >2.5 365'], bins)"
   ]
  },
  {
   "cell_type": "markdown",
   "id": "17e43270",
   "metadata": {},
   "source": [
    "#### Binning IP Closing"
   ]
  },
  {
   "cell_type": "code",
   "execution_count": 106,
   "id": "2beea9ab",
   "metadata": {},
   "outputs": [],
   "source": [
    "bins = [0, 5, 10, 15, 20, 25, 30, 35, 40, 45, 50, 55, 60, 65, 70, 75, 80, 85, 90, 95, 100]\n",
    "\n",
    "#Binning UNDER 2.5 Average Market closing odds\n",
    "data['binned <2.5 avg closing'] = pd.cut(data['Implied Probability <2.5 avg closing'], bins)\n",
    "\n",
    "#Binning OVER 2.5 Average Market closing odds\n",
    "data['binned >2.5 avg closing'] = pd.cut(data['Implied Probability >2.5 avg closing'], bins)\n",
    "\n",
    "#Binned UNDER 2.5 Pinnacle closing odds\n",
    "data['binned <2.5 pinacle closing'] = pd.cut(data['Implied Probability <2.5 pinacle closing'], bins)\n",
    "\n",
    "#Binned OVER 2.5 Pinnacle CLOSING odds\n",
    "data['binned >2.5 pinacle closing'] = pd.cut(data['Implied Probability >2.5 pinacle closing'], bins)\n",
    "\n",
    "#Binned UNDER 2.5 bet365 CLOSING odds\n",
    "data['binned <2.5 365 closing'] = pd.cut(data['Implied Probability <2.5 365 closing'], bins)\n",
    "\n",
    "#Binned OVER 2.5 bet365 CLOSING odds\n",
    "data['binned >2.5 365 closing'] = pd.cut(data['Implied Probability >2.5 365 closing'], bins)"
   ]
  },
  {
   "cell_type": "markdown",
   "id": "c9a4b662",
   "metadata": {},
   "source": [
    "### Binning the odds"
   ]
  },
  {
   "cell_type": "markdown",
   "id": "b86e54dd",
   "metadata": {},
   "source": [
    "#### Binning Odds Opening"
   ]
  },
  {
   "cell_type": "code",
   "execution_count": 107,
   "id": "7805f020",
   "metadata": {},
   "outputs": [],
   "source": [
    "bins = [1, 1.5, 2, 3, 99999]\n",
    "\n",
    "#Binning UNDER 2.5 Average Market opening odds\n",
    "data['binned odds <2.5 avg'] = pd.cut(data['Avg<2.5'], bins)\n",
    "\n",
    "#Binning Over 2.5 Average Market opening odds\n",
    "data['binned odds >2.5 avg'] = pd.cut(data['Avg>2.5'], bins)\n",
    "\n",
    "#Binned UNDER 2.5 Pinnacle opening odds\n",
    "data['binned odds <2.5 pinacle'] = pd.cut(data['P<2.5'], bins)\n",
    "\n",
    "#Binned OVER 2.5 Pinnacle\n",
    "data['binned odds >2.5 pinacle'] = pd.cut(data['P>2.5'], bins)\n",
    "\n",
    "#Binned UNDER 2.5 bet365 OPENING odds\n",
    "data['binned odds <2.5 365'] = pd.cut(data['B365<2.5'], bins)\n",
    "\n",
    "#Binned OVER 2.5 bet365 OPENING odds\n",
    "data['binned odds >2.5 365'] = pd.cut(data['B365>2.5'], bins)"
   ]
  },
  {
   "cell_type": "markdown",
   "id": "4df96d90",
   "metadata": {},
   "source": [
    "#### Binning Odds Closing"
   ]
  },
  {
   "cell_type": "code",
   "execution_count": 108,
   "id": "d29d38aa",
   "metadata": {},
   "outputs": [],
   "source": [
    "bins = [1, 1.5, 2, 3, 99999]\n",
    "\n",
    "#Binning UNDER 2.5 Average Market opening odds\n",
    "data['binned odds <2.5 avg closing'] = pd.cut(data['AvgC<2.5'], bins)\n",
    "\n",
    "#Binning Over 2.5 Average Market opening odds\n",
    "data['binned odds >2.5 avg closing'] = pd.cut(data['AvgC>2.5'], bins)\n",
    "\n",
    "#Binned UNDER 2.5 Pinnacle opening odds\n",
    "data['binned odds <2.5 pinacle closing'] = pd.cut(data['PC<2.5'], bins)\n",
    "\n",
    "#Binned OVER 2.5 Pinnacle\n",
    "data['binned odds >2.5 pinacle closing'] = pd.cut(data['PC>2.5'], bins)\n",
    "\n",
    "#Binned UNDER 2.5 bet365 OPENING odds\n",
    "data['binned odds <2.5 365 closing'] = pd.cut(data['B365C<2.5'], bins)\n",
    "\n",
    "#Binned OVER 2.5 bet365 OPENING odds\n",
    "data['binned odds >2.5 365 closing'] = pd.cut(data['B365C>2.5'], bins)"
   ]
  },
  {
   "cell_type": "code",
   "execution_count": 109,
   "id": "810cb303",
   "metadata": {},
   "outputs": [
    {
     "data": {
      "text/plain": [
       "0"
      ]
     },
     "execution_count": 109,
     "metadata": {},
     "output_type": "execute_result"
    }
   ],
   "source": [
    "data['binned odds <2.5 pinacle closing'].isnull().sum()"
   ]
  },
  {
   "cell_type": "markdown",
   "id": "c7b8d585",
   "metadata": {},
   "source": [
    "### Other Features from D3"
   ]
  },
  {
   "cell_type": "code",
   "execution_count": 110,
   "id": "f72f7c43",
   "metadata": {},
   "outputs": [],
   "source": [
    "data['Pin_pays_better_under_boolean'] = data['PC<2.5'] > data['AvgC<2.5']"
   ]
  },
  {
   "cell_type": "code",
   "execution_count": 111,
   "id": "7dbb247c",
   "metadata": {},
   "outputs": [],
   "source": [
    "data['Pin_pays_better_under_difference'] = data['PC<2.5'] / data['AvgC<2.5']"
   ]
  },
  {
   "cell_type": "code",
   "execution_count": 112,
   "id": "1256d97d",
   "metadata": {},
   "outputs": [],
   "source": [
    "data['%vig_p'] = (1 - (1 / (1/data['PC>2.5'] + 1/data['PC<2.5'])))*100"
   ]
  },
  {
   "cell_type": "code",
   "execution_count": 113,
   "id": "01477baa",
   "metadata": {},
   "outputs": [],
   "source": [
    "data['%vig_p_bool'] = data['%vig_p']>3.3"
   ]
  },
  {
   "cell_type": "code",
   "execution_count": 114,
   "id": "5cdfa74a",
   "metadata": {},
   "outputs": [],
   "source": [
    "data['%vig_avg'] = (1 - (1 / (1/data['AvgC>2.5'] + 1/data['AvgC<2.5'])))*100"
   ]
  },
  {
   "cell_type": "code",
   "execution_count": 115,
   "id": "cfec5316",
   "metadata": {},
   "outputs": [],
   "source": [
    "data['PC<2.5_P_boolean'] = data['PC<2.5'] < data['P<2.5']"
   ]
  },
  {
   "cell_type": "code",
   "execution_count": 116,
   "id": "95e22279",
   "metadata": {},
   "outputs": [],
   "source": [
    "data['PC<2.5_P_relative_diff'] = data['PC<2.5'] / data['P<2.5']"
   ]
  },
  {
   "cell_type": "code",
   "execution_count": 117,
   "id": "d961fcde",
   "metadata": {},
   "outputs": [],
   "source": [
    "data['MaxC>2.5_AvgC_relative_diff'] = data['MaxC>2.5']/data['AvgC>2.5']\n",
    "data['Market_consensus'] = data['MaxC>2.5_AvgC_relative_diff']<1.05"
   ]
  },
  {
   "cell_type": "code",
   "execution_count": 118,
   "id": "60c7e55b",
   "metadata": {},
   "outputs": [],
   "source": [
    "## Adding the Year Feature\n",
    "data_date = data['Date']\n",
    "data_time = data['Time']\n",
    "\n",
    "data_date_2 = pd.to_datetime(data_date, dayfirst = True)\n",
    "data_time_2 = pd.to_datetime(data_time, dayfirst = True)\n",
    "\n",
    "data['month'] = pd.DatetimeIndex(data_date_2).month\n",
    "data['month_after_July'] = data['month']>=7\n",
    "\n",
    "data['year'] = pd.DatetimeIndex(data_date_2).year\n",
    "data['year_2021_2022'] = data['year']>=2021\n",
    "\n",
    "data['hour'] = pd.DatetimeIndex(data_time_2).hour\n",
    "data['game_starts_after_4pm']=data['hour']>=16"
   ]
  },
  {
   "cell_type": "code",
   "execution_count": 119,
   "id": "ebd0ad84",
   "metadata": {},
   "outputs": [
    {
     "data": {
      "text/plain": [
       "3306"
      ]
     },
     "execution_count": 119,
     "metadata": {},
     "output_type": "execute_result"
    }
   ],
   "source": [
    "data['game_starts_after_4pm'].sum()"
   ]
  },
  {
   "cell_type": "markdown",
   "id": "e45ec430",
   "metadata": {},
   "source": [
    "# [KILL] Final Dataset [KILL]"
   ]
  },
  {
   "cell_type": "markdown",
   "id": "c06f280c",
   "metadata": {},
   "source": [
    "### Opening Markets"
   ]
  },
  {
   "cell_type": "code",
   "execution_count": null,
   "id": "8075c1a9",
   "metadata": {},
   "outputs": [],
   "source": [
    "#Average Market UNDER opening odds\n",
    "fdf_under_avg = data[['Implied Probability <2.5 avg','under_2.5_goals','binned <2.5 avg','payout_avg_under_2.5']]\n",
    "\n",
    "#Average Market OVER opening odds\n",
    "fdf_over_avg = data[['Implied Probability >2.5 avg','over_2.5_goals','binned >2.5 avg','payout_avg_over_2.5']]\n",
    "\n",
    "#pinnacle UNDER opening odds\n",
    "fdf_under_pinacle = data[['Implied Probability <2.5 pinacle','under_2.5_goals','binned <2.5 pinacle','payout_under_2.5_pinacle']]\n",
    "\n",
    "#pinnacle OVER opening odds\n",
    "fdf_over_pinacle = data[['Implied Probability >2.5 pinacle','over_2.5_goals','binned >2.5 pinacle','payout_over_2.5_pinacle']]\n",
    "\n",
    "#bet365 UNDER opening odds\n",
    "fdf_under_365 = data[['Implied Probability <2.5 365','under_2.5_goals','binned <2.5 365','payout_under_2.5_365']]\n",
    "\n",
    "#bet365 OVER opening odds\n",
    "fdf_over_365 = data[['Implied Probability >2.5 365','over_2.5_goals','binned >2.5 365','payout_over_2.5_365']]"
   ]
  },
  {
   "cell_type": "markdown",
   "id": "efd3a216",
   "metadata": {},
   "source": [
    "### Closing Markets"
   ]
  },
  {
   "cell_type": "code",
   "execution_count": null,
   "id": "114d0e78",
   "metadata": {},
   "outputs": [],
   "source": [
    "#Average Market UNDER closing odds\n",
    "fdf_under_avg_closing = data[['Implied Probability <2.5 avg closing','under_2.5_goals','binned <2.5 avg closing','payout_avg_under_closing_2.5']]\n",
    "\n",
    "#Average Market OVER opening odds\n",
    "fdf_over_avg_closing = data[['Implied Probability >2.5 avg closing','over_2.5_goals','binned >2.5 avg closing','payout_avg_over_closing_2.5']]\n",
    "\n",
    "#pinnacle UNDER closing odds\n",
    "fdf_under_pinacle_closing = data[['Implied Probability <2.5 pinacle closing','under_2.5_goals','binned <2.5 pinacle closing','payout_under_2.5_pinacle_closing']]\n",
    "\n",
    "#pinnacle OVER closing odds\n",
    "fdf_over_pinacle_closing = data[['Implied Probability >2.5 pinacle closing','over_2.5_goals','binned >2.5 pinacle closing','payout_over_2.5_pinacle_closing']]\n",
    "\n",
    "#bet365 UNDER closing odds\n",
    "fdf_under_365_closing = data[['Implied Probability <2.5 365 closing','under_2.5_goals','binned <2.5 365 closing','payout_under_2.5_365_closing']]\n",
    "\n",
    "#bet365 OVER closing odds\n",
    "fdf_over_365_closing = data[['Implied Probability >2.5 365 closing','over_2.5_goals','binned >2.5 365 closing','payout_over_2.5_365_closing']]"
   ]
  },
  {
   "cell_type": "markdown",
   "id": "f86ea04f",
   "metadata": {
    "heading_collapsed": true
   },
   "source": [
    "# [KILL] Results per implied prob Average Market [KILL]"
   ]
  },
  {
   "cell_type": "markdown",
   "id": "66684c60",
   "metadata": {
    "hidden": true
   },
   "source": [
    "### Under"
   ]
  },
  {
   "cell_type": "markdown",
   "id": "167a9db6",
   "metadata": {
    "hidden": true
   },
   "source": [
    "#### Opening Odds"
   ]
  },
  {
   "cell_type": "code",
   "execution_count": null,
   "id": "b8d712a0",
   "metadata": {
    "hidden": true
   },
   "outputs": [],
   "source": [
    "fdf_under_avg_agg = fdf_under_avg.groupby('binned <2.5 avg')['payout_avg_under_2.5'].agg(['count', 'mean', 'median'])\n",
    "\n",
    "fdf_under_pinacle_agg = fdf_under_pinacle.groupby('binned <2.5 pinacle')['payout_under_2.5_pinacle'].agg(['count', 'mean', 'median'])\n",
    "\n",
    "fdf_under_bet365_agg = fdf_under_365.groupby('binned <2.5 365')['payout_under_2.5_365'].agg(['count', 'mean', 'median'])"
   ]
  },
  {
   "cell_type": "code",
   "execution_count": null,
   "id": "5104dd95",
   "metadata": {
    "hidden": true
   },
   "outputs": [],
   "source": [
    "fdf_under_avg_agg.rename(columns={\"count\": \"count_avg\", \"mean\": \"mean_avg\", \"median\": \"median_avg\"}, inplace=True)\n",
    "fdf_under_avg_agg.index.names = ['bin<2.5']\n",
    "\n",
    "fdf_under_pinacle_agg.rename(columns={\"count\": \"count_p\", \"mean\": \"mean_p\", \"median\": \"median_p\"}, inplace=True)\n",
    "fdf_under_pinacle_agg.index.names = ['bin<2.5']\n",
    "\n",
    "fdf_under_bet365_agg.rename(columns={\"count\": \"count_b365\", \"mean\": \"mean_b365\", \"median\": \"median_b365\"}, inplace=True)\n",
    "fdf_under_bet365_agg.index.names = ['bin<2.5']\n",
    "\n",
    "opening_test_1 = fdf_under_avg_agg.merge(fdf_under_pinacle_agg, on='bin<2.5')\n",
    "opening_test_2 = opening_test_1.merge(fdf_under_bet365_agg, on='bin<2.5')\n",
    "opening_test_2"
   ]
  },
  {
   "cell_type": "markdown",
   "id": "da439352",
   "metadata": {
    "hidden": true
   },
   "source": [
    "#### Closing Odds"
   ]
  },
  {
   "cell_type": "code",
   "execution_count": null,
   "id": "4345a641",
   "metadata": {
    "hidden": true
   },
   "outputs": [],
   "source": [
    "fdf_under_avg_closing_gb_agg = fdf_under_avg_closing.groupby('binned <2.5 avg closing')['payout_avg_under_closing_2.5'].agg(['count', 'mean', 'median', mode])\n",
    "\n",
    "fdf_under_pinacle_closing_gb_agg = fdf_under_pinacle_closing.groupby('binned <2.5 pinacle closing')['payout_under_2.5_pinacle_closing'].agg(['count', 'mean', 'median', mode])\n",
    "\n",
    "fdf_under_bet365_closing_gb_agg = fdf_under_365_closing.groupby('binned <2.5 365 closing')['payout_under_2.5_365_closing'].agg(['count', 'mean', 'median', mode])"
   ]
  },
  {
   "cell_type": "code",
   "execution_count": null,
   "id": "6fc59570",
   "metadata": {
    "hidden": true
   },
   "outputs": [],
   "source": [
    "fdf_under_avg_closing_gb_agg.rename(columns={\"count\": \"count_avg\", \"mean\": \"mean_avg\", \"median\": \"median_avg\", \"mode\": \"mode_avg\"}, inplace=True)\n",
    "fdf_under_avg_closing_gb_agg.index.names = ['bin<2.5']\n",
    "\n",
    "fdf_under_pinacle_closing_gb_agg.rename(columns={\"count\": \"count_p\", \"mean\": \"mean_p\", \"median\": \"median_p\", \"mode\": \"mode_p\"}, inplace=True)\n",
    "fdf_under_pinacle_closing_gb_agg.index.names = ['bin<2.5']\n",
    "\n",
    "fdf_under_bet365_closing_gb_agg.rename(columns={\"count\": \"count_b365\", \"mean\": \"mean_b365\", \"median\": \"median_b365\", \"mode\": \"mode_b365\"}, inplace=True)\n",
    "fdf_under_bet365_closing_gb_agg.index.names = ['bin<2.5']\n",
    "\n",
    "closing_test_1 = fdf_under_avg_closing_gb_agg.merge(fdf_under_pinacle_closing_gb_agg, on='bin<2.5')\n",
    "closing_test_2 = closing_test_1.merge(fdf_under_bet365_closing_gb_agg, on='bin<2.5')\n",
    "closing_test_2['bins'] = closing_test_2.index\n",
    "closing_test_2"
   ]
  },
  {
   "cell_type": "markdown",
   "id": "d5b57f08",
   "metadata": {
    "hidden": true
   },
   "source": [
    "### Over"
   ]
  },
  {
   "cell_type": "markdown",
   "id": "893845a5",
   "metadata": {
    "hidden": true
   },
   "source": [
    "#### Opening Odds"
   ]
  },
  {
   "cell_type": "code",
   "execution_count": null,
   "id": "810f753d",
   "metadata": {
    "hidden": true
   },
   "outputs": [],
   "source": [
    "fdf_over_avg_agg = fdf_over_avg.groupby('binned >2.5 avg')['payout_avg_over_2.5'].agg(['count', 'mean', 'median'])\n",
    "\n",
    "fdf_over_pinacle_agg = fdf_over_pinacle.groupby('binned >2.5 pinacle')['payout_over_2.5_pinacle'].agg(['count', 'mean', 'median'])\n",
    "\n",
    "fdf_over_bet365_agg = fdf_over_365.groupby('binned >2.5 365')['payout_over_2.5_365'].agg(['count', 'mean', 'median'])"
   ]
  },
  {
   "cell_type": "code",
   "execution_count": null,
   "id": "1bee2d22",
   "metadata": {
    "hidden": true
   },
   "outputs": [],
   "source": [
    "fdf_over_avg_agg.rename(columns={\"count\": \"count_avg\", \"mean\": \"mean_avg\", \"median\": \"median_avg\"}, inplace=True)\n",
    "fdf_over_avg_agg.index.names = ['bin>2.5']\n",
    "\n",
    "fdf_over_pinacle_agg.rename(columns={\"count\": \"count_p\", \"mean\": \"mean_p\", \"median\": \"median_p\"}, inplace=True)\n",
    "fdf_over_pinacle_agg.index.names = ['bin>2.5']\n",
    "\n",
    "fdf_over_bet365_agg.rename(columns={\"count\": \"count_b365\", \"mean\": \"mean_b365\", \"median\": \"median_b365\"}, inplace=True)\n",
    "fdf_over_bet365_agg.index.names = ['bin>2.5']\n",
    "\n",
    "over_opening_test_1 = fdf_over_avg_agg.merge(fdf_over_pinacle_agg, on='bin>2.5')\n",
    "over_opening_test_2 = over_opening_test_1.merge(fdf_over_bet365_agg, on='bin>2.5')\n",
    "over_opening_test_2"
   ]
  },
  {
   "cell_type": "markdown",
   "id": "77de2923",
   "metadata": {
    "hidden": true
   },
   "source": [
    "#### Closing Odds"
   ]
  },
  {
   "cell_type": "code",
   "execution_count": null,
   "id": "c55b4aac",
   "metadata": {
    "hidden": true
   },
   "outputs": [],
   "source": [
    "fdf_over_avg_closing_agg = fdf_over_avg_closing.groupby('binned >2.5 avg closing')['payout_avg_over_closing_2.5'].agg(['count', 'mean', 'median'])\n",
    "\n",
    "fdf_over_pinacle_closing_agg = fdf_over_pinacle_closing.groupby('binned >2.5 pinacle closing')['payout_over_2.5_pinacle_closing'].agg(['count', 'mean', 'median'])\n",
    "\n",
    "fdf_over_bet365_closing_agg = fdf_over_365_closing.groupby('binned >2.5 365 closing')['payout_over_2.5_365_closing'].agg(['count', 'mean', 'median'])"
   ]
  },
  {
   "cell_type": "code",
   "execution_count": null,
   "id": "1d1ff121",
   "metadata": {
    "hidden": true
   },
   "outputs": [],
   "source": [
    "fdf_over_avg_closing_agg.rename(columns={\"count\": \"count_avg\", \"mean\": \"mean_avg\", \"median\": \"median_avg\"}, inplace=True)\n",
    "fdf_over_avg_closing_agg.index.names = ['bin>2.5']\n",
    "\n",
    "fdf_over_pinacle_closing_agg.rename(columns={\"count\": \"count_p\", \"mean\": \"mean_p\", \"median\": \"median_p\"}, inplace=True)\n",
    "fdf_over_pinacle_closing_agg.index.names = ['bin>2.5']\n",
    "\n",
    "fdf_over_bet365_closing_agg.rename(columns={\"count\": \"count_b365\", \"mean\": \"mean_b365\", \"median\": \"median_b365\"}, inplace=True)\n",
    "fdf_over_bet365_closing_agg.index.names = ['bin>2.5']\n",
    "\n",
    "over_closing_test_1 = fdf_over_avg_closing_agg.merge(fdf_over_pinacle_closing_agg, on='bin>2.5')\n",
    "over_closing_test_2 = over_closing_test_1.merge(fdf_over_bet365_closing_agg, on='bin>2.5')\n",
    "over_closing_test_2"
   ]
  },
  {
   "cell_type": "markdown",
   "id": "b6c0df27",
   "metadata": {},
   "source": [
    "# Starting Model"
   ]
  },
  {
   "cell_type": "code",
   "execution_count": 31,
   "id": "d323eba3",
   "metadata": {},
   "outputs": [
    {
     "data": {
      "text/plain": [
       "\"odd = 2.15\\niproba = 1/odd*100\\nfor x in range(0, 20):\\n    if iproba in closing_test_2.iloc[6]['bins']\""
      ]
     },
     "execution_count": 31,
     "metadata": {},
     "output_type": "execute_result"
    }
   ],
   "source": [
    "#Pedro's pet! Don't touch it!\n",
    "\"\"\"odd = 2.15\n",
    "iproba = 1/odd*100\n",
    "for x in range(0, 20):\n",
    "    if iproba in closing_test_2.iloc[6]['bins']\"\"\""
   ]
  },
  {
   "cell_type": "code",
   "execution_count": 120,
   "id": "d49e7d94",
   "metadata": {},
   "outputs": [],
   "source": [
    "data_linear_booleans = data.copy()"
   ]
  },
  {
   "cell_type": "code",
   "execution_count": 121,
   "id": "30a16049",
   "metadata": {},
   "outputs": [
    {
     "name": "stdout",
     "output_type": "stream",
     "text": [
      "Div\n",
      "Date\n",
      "Time\n",
      "HomeTeam\n",
      "AwayTeam\n",
      "FTHG\n",
      "FTAG\n",
      "FTR\n",
      "HTHG\n",
      "HTAG\n",
      "HTR\n",
      "HS\n",
      "AS\n",
      "HST\n",
      "AST\n",
      "HF\n",
      "AF\n",
      "HC\n",
      "AC\n",
      "HY\n",
      "AY\n",
      "HR\n",
      "AR\n",
      "B365H\n",
      "B365D\n",
      "B365A\n",
      "BWH\n",
      "BWD\n",
      "BWA\n",
      "IWH\n",
      "IWD\n",
      "IWA\n",
      "PSH\n",
      "PSD\n",
      "PSA\n",
      "WHH\n",
      "WHD\n",
      "WHA\n",
      "VCH\n",
      "VCD\n",
      "VCA\n",
      "MaxH\n",
      "MaxD\n",
      "MaxA\n",
      "AvgH\n",
      "AvgD\n",
      "AvgA\n",
      "B365>2.5\n",
      "B365<2.5\n",
      "P>2.5\n",
      "P<2.5\n",
      "Max>2.5\n",
      "Max<2.5\n",
      "Avg>2.5\n",
      "Avg<2.5\n",
      "AHh\n",
      "B365AHH\n",
      "B365AHA\n",
      "PAHH\n",
      "PAHA\n",
      "MaxAHH\n",
      "MaxAHA\n",
      "AvgAHH\n",
      "AvgAHA\n",
      "B365CH\n",
      "B365CD\n",
      "B365CA\n",
      "BWCH\n",
      "BWCD\n",
      "BWCA\n",
      "IWCH\n",
      "IWCD\n",
      "IWCA\n",
      "PSCH\n",
      "PSCD\n",
      "PSCA\n",
      "WHCH\n",
      "WHCD\n",
      "WHCA\n",
      "VCCH\n",
      "VCCD\n",
      "VCCA\n",
      "MaxCH\n",
      "MaxCD\n",
      "MaxCA\n",
      "AvgCH\n",
      "AvgCD\n",
      "AvgCA\n",
      "B365C>2.5\n",
      "B365C<2.5\n",
      "PC>2.5\n",
      "PC<2.5\n",
      "MaxC>2.5\n",
      "MaxC<2.5\n",
      "AvgC>2.5\n",
      "AvgC<2.5\n",
      "AHCh\n",
      "B365CAHH\n",
      "B365CAHA\n",
      "PCAHH\n",
      "PCAHA\n",
      "MaxCAHH\n",
      "MaxCAHA\n",
      "AvgCAHH\n",
      "AvgCAHA\n",
      "country\n",
      "nb_goals\n",
      "over_2.5_goals\n",
      "under_2.5_goals\n",
      "payout_avg_under_2.5\n",
      "payout_avg_over_2.5\n",
      "payout_under_2.5_pinacle\n",
      "payout_over_2.5_pinacle\n",
      "payout_under_2.5_365\n",
      "payout_over_2.5_365\n",
      "payout_avg_under_closing_2.5\n",
      "payout_avg_over_closing_2.5\n",
      "payout_under_2.5_pinacle_closing\n",
      "payout_over_2.5_pinacle_closing\n",
      "payout_under_2.5_365_closing\n",
      "payout_over_2.5_365_closing\n",
      "Implied Probability <2.5 avg\n",
      "Implied Probability >2.5 avg\n",
      "Implied Probability <2.5 pinacle\n",
      "Implied Probability >2.5 pinacle\n",
      "Implied Probability <2.5 365\n",
      "Implied Probability >2.5 365\n",
      "Implied Probability <2.5 avg closing\n",
      "Implied Probability >2.5 avg closing\n",
      "Implied Probability <2.5 pinacle closing\n",
      "Implied Probability >2.5 pinacle closing\n",
      "Implied Probability <2.5 365 closing\n",
      "Implied Probability >2.5 365 closing\n",
      "binned <2.5 avg\n",
      "binned >2.5 avg\n",
      "binned <2.5 pinacle\n",
      "binned >2.5 pinacle\n",
      "binned <2.5 365\n",
      "binned >2.5 365\n",
      "binned <2.5 avg closing\n",
      "binned >2.5 avg closing\n",
      "binned <2.5 pinacle closing\n",
      "binned >2.5 pinacle closing\n",
      "binned <2.5 365 closing\n",
      "binned >2.5 365 closing\n",
      "binned odds <2.5 avg\n",
      "binned odds >2.5 avg\n",
      "binned odds <2.5 pinacle\n",
      "binned odds >2.5 pinacle\n",
      "binned odds <2.5 365\n",
      "binned odds >2.5 365\n",
      "binned odds <2.5 avg closing\n",
      "binned odds >2.5 avg closing\n",
      "binned odds <2.5 pinacle closing\n",
      "binned odds >2.5 pinacle closing\n",
      "binned odds <2.5 365 closing\n",
      "binned odds >2.5 365 closing\n",
      "Pin_pays_better_under_boolean\n",
      "Pin_pays_better_under_difference\n",
      "%vig_p\n",
      "%vig_avg\n",
      "PC<2.5_P_boolean\n",
      "PC<2.5_P_relative_diff\n",
      "odds_home_under\n",
      "prob_home_under\n",
      "binned prob_home_under\n",
      "odds_away_under\n",
      "prob_away_under\n",
      "binned prob_away_under\n",
      "odds_game\n",
      "prob_game\n",
      "0, 20\n",
      "20, 40\n",
      "40, 60\n",
      "60, 80\n",
      "80, 100\n",
      "%vig_p_bool\n",
      "MaxC>2.5_AvgC_relative_diff\n",
      "Market_consensus\n",
      "month\n",
      "month_after_July\n",
      "year\n",
      "year_2021_2022\n",
      "hour\n",
      "game_starts_after_4pm\n"
     ]
    }
   ],
   "source": [
    "for col_name in data_linear_booleans.columns: \n",
    "    print(col_name)"
   ]
  },
  {
   "cell_type": "code",
   "execution_count": 122,
   "id": "899a0e4d",
   "metadata": {},
   "outputs": [],
   "source": [
    "data_linear_booleans_lean_P_under = data_linear_booleans[['country','month_after_July','year_2021_2022','game_starts_after_4pm','binned odds <2.5 pinacle closing','Pin_pays_better_under_boolean','Market_consensus','%vig_p_bool','PC<2.5_P_boolean', 'payout_under_2.5_pinacle_closing','0, 20','20, 40','40, 60','60, 80','80, 100']]"
   ]
  },
  {
   "cell_type": "code",
   "execution_count": 35,
   "id": "615a3221",
   "metadata": {},
   "outputs": [],
   "source": [
    "# data_model_over_under = data_model_over_under[[\"Div\",\n",
    "# \"Date\", \"Time\", \"HomeTeam\", \"AwayTeam\", \"FTHG\", \"FTAG\", \"nb_goals\", \"Avg>2.5\", \"Avg<2.5\", \"B365>2.5\", \"B365<2.5\", \"P>2.5\", \n",
    "# \"P<2.5\", \"AvgC>2.5\", \"AvgC<2.5\", \"B365C>2.5\", \"B365C<2.5\", \"PC>2.5\", \"PC<2.5\", \"over_2.5_goals\", \"under_2.5_goals\", \n",
    "# \"payout_avg_under_2.5\", \"payout_avg_over_2.5\", \"payout_under_2.5_pinacle\", \"payout_over_2.5_pinacle\", \"payout_under_2.5_365\", \n",
    "# \"payout_over_2.5_365\", \"payout_avg_under_closing_2.5\", \"payout_avg_over_closing_2.5\", \"payout_under_2.5_pinacle_closing\", \n",
    "# \"payout_over_2.5_pinacle_closing\", \"payout_under_2.5_365_closing\", \"payout_over_2.5_365_closing\", \"Implied Probability <2.5 avg\", \n",
    "# \"Implied Probability >2.5 avg\", \"Implied Probability <2.5 pinacle\", \"Implied Probability >2.5 pinacle\", \"Implied Probability <2.5 365\", \n",
    "# \"Implied Probability >2.5 365\", \"Implied Probability <2.5 avg closing\", \"Implied Probability >2.5 avg closing\", \"Implied Probability <2.5 pinacle closing\", \n",
    "# \"Implied Probability >2.5 pinacle closing\", \"Implied Probability <2.5 365 closing\", \"Implied Probability >2.5 365 closing\", \n",
    "# \"binned <2.5 avg\", \"binned >2.5 avg\", \"binned <2.5 pinacle\", \"binned >2.5 pinacle\", \"binned <2.5 365\", \"binned >2.5 365\", \n",
    "# \"binned <2.5 avg closing\", \"binned >2.5 avg closing\", \"binned <2.5 pinacle closing\", \"binned >2.5 pinacle closing\", \n",
    "# \"binned <2.5 365 closing\", \"binned >2.5 365 closing\"]]"
   ]
  },
  {
   "cell_type": "code",
   "execution_count": 36,
   "id": "99e92a15",
   "metadata": {},
   "outputs": [],
   "source": [
    "# data_model_over_under.dropna(inplace=True)"
   ]
  },
  {
   "cell_type": "code",
   "execution_count": 37,
   "id": "b5093a92",
   "metadata": {},
   "outputs": [],
   "source": [
    "# data_model_over_under"
   ]
  },
  {
   "cell_type": "code",
   "execution_count": 38,
   "id": "80501c77",
   "metadata": {},
   "outputs": [],
   "source": [
    "# OneHotEncoders for Bin Odds"
   ]
  },
  {
   "cell_type": "code",
   "execution_count": 123,
   "id": "ac93cd78",
   "metadata": {},
   "outputs": [
    {
     "name": "stderr",
     "output_type": "stream",
     "text": [
      "/tmp/ipykernel_3558/1468458170.py:4: SettingWithCopyWarning: \n",
      "A value is trying to be set on a copy of a slice from a DataFrame.\n",
      "Try using .loc[row_indexer,col_indexer] = value instead\n",
      "\n",
      "See the caveats in the documentation: https://pandas.pydata.org/pandas-docs/stable/user_guide/indexing.html#returning-a-view-versus-a-copy\n",
      "  data_linear_booleans_lean_P_under[\"1.0_to_1.5\"], data_linear_booleans_lean_P_under[\"1.5_to_2.0\"], data_linear_booleans_lean_P_under[\"2.0_to_3.0\"], data_linear_booleans_lean_P_under[\"3.0_to_99999.0\"] = bins_encoded.T\n",
      "/tmp/ipykernel_3558/1468458170.py:4: SettingWithCopyWarning: \n",
      "A value is trying to be set on a copy of a slice from a DataFrame.\n",
      "Try using .loc[row_indexer,col_indexer] = value instead\n",
      "\n",
      "See the caveats in the documentation: https://pandas.pydata.org/pandas-docs/stable/user_guide/indexing.html#returning-a-view-versus-a-copy\n",
      "  data_linear_booleans_lean_P_under[\"1.0_to_1.5\"], data_linear_booleans_lean_P_under[\"1.5_to_2.0\"], data_linear_booleans_lean_P_under[\"2.0_to_3.0\"], data_linear_booleans_lean_P_under[\"3.0_to_99999.0\"] = bins_encoded.T\n",
      "/tmp/ipykernel_3558/1468458170.py:4: SettingWithCopyWarning: \n",
      "A value is trying to be set on a copy of a slice from a DataFrame.\n",
      "Try using .loc[row_indexer,col_indexer] = value instead\n",
      "\n",
      "See the caveats in the documentation: https://pandas.pydata.org/pandas-docs/stable/user_guide/indexing.html#returning-a-view-versus-a-copy\n",
      "  data_linear_booleans_lean_P_under[\"1.0_to_1.5\"], data_linear_booleans_lean_P_under[\"1.5_to_2.0\"], data_linear_booleans_lean_P_under[\"2.0_to_3.0\"], data_linear_booleans_lean_P_under[\"3.0_to_99999.0\"] = bins_encoded.T\n",
      "/tmp/ipykernel_3558/1468458170.py:4: SettingWithCopyWarning: \n",
      "A value is trying to be set on a copy of a slice from a DataFrame.\n",
      "Try using .loc[row_indexer,col_indexer] = value instead\n",
      "\n",
      "See the caveats in the documentation: https://pandas.pydata.org/pandas-docs/stable/user_guide/indexing.html#returning-a-view-versus-a-copy\n",
      "  data_linear_booleans_lean_P_under[\"1.0_to_1.5\"], data_linear_booleans_lean_P_under[\"1.5_to_2.0\"], data_linear_booleans_lean_P_under[\"2.0_to_3.0\"], data_linear_booleans_lean_P_under[\"3.0_to_99999.0\"] = bins_encoded.T\n"
     ]
    }
   ],
   "source": [
    "ohe = OneHotEncoder(sparse=False) \n",
    "ohe.fit(data_linear_booleans_lean_P_under[['binned odds <2.5 pinacle closing']])\n",
    "bins_encoded = ohe.transform(data_linear_booleans_lean_P_under[['binned odds <2.5 pinacle closing']])\n",
    "data_linear_booleans_lean_P_under[\"1.0_to_1.5\"], data_linear_booleans_lean_P_under[\"1.5_to_2.0\"], data_linear_booleans_lean_P_under[\"2.0_to_3.0\"], data_linear_booleans_lean_P_under[\"3.0_to_99999.0\"] = bins_encoded.T\n",
    "#data_linear_booleans_lean_P_under.drop(columns='binned <2.5 pinacle', inplace=True)"
   ]
  },
  {
   "cell_type": "code",
   "execution_count": 125,
   "id": "ceacd155",
   "metadata": {},
   "outputs": [
    {
     "name": "stderr",
     "output_type": "stream",
     "text": [
      "/tmp/ipykernel_3558/1977877406.py:5: SettingWithCopyWarning: \n",
      "A value is trying to be set on a copy of a slice from a DataFrame.\n",
      "Try using .loc[row_indexer,col_indexer] = value instead\n",
      "\n",
      "See the caveats in the documentation: https://pandas.pydata.org/pandas-docs/stable/user_guide/indexing.html#returning-a-view-versus-a-copy\n",
      "  data_linear_booleans_lean_P_under[\"country_1\"], data_linear_booleans_lean_P_under[\"country_2\"], data_linear_booleans_lean_P_under[\"country_3\"], data_linear_booleans_lean_P_under[\"country_4\"], data_linear_booleans_lean_P_under[\"country_5\"], data_linear_booleans_lean_P_under[\"country_6\"]= bins_encoded.T\n",
      "/tmp/ipykernel_3558/1977877406.py:5: SettingWithCopyWarning: \n",
      "A value is trying to be set on a copy of a slice from a DataFrame.\n",
      "Try using .loc[row_indexer,col_indexer] = value instead\n",
      "\n",
      "See the caveats in the documentation: https://pandas.pydata.org/pandas-docs/stable/user_guide/indexing.html#returning-a-view-versus-a-copy\n",
      "  data_linear_booleans_lean_P_under[\"country_1\"], data_linear_booleans_lean_P_under[\"country_2\"], data_linear_booleans_lean_P_under[\"country_3\"], data_linear_booleans_lean_P_under[\"country_4\"], data_linear_booleans_lean_P_under[\"country_5\"], data_linear_booleans_lean_P_under[\"country_6\"]= bins_encoded.T\n",
      "/tmp/ipykernel_3558/1977877406.py:5: SettingWithCopyWarning: \n",
      "A value is trying to be set on a copy of a slice from a DataFrame.\n",
      "Try using .loc[row_indexer,col_indexer] = value instead\n",
      "\n",
      "See the caveats in the documentation: https://pandas.pydata.org/pandas-docs/stable/user_guide/indexing.html#returning-a-view-versus-a-copy\n",
      "  data_linear_booleans_lean_P_under[\"country_1\"], data_linear_booleans_lean_P_under[\"country_2\"], data_linear_booleans_lean_P_under[\"country_3\"], data_linear_booleans_lean_P_under[\"country_4\"], data_linear_booleans_lean_P_under[\"country_5\"], data_linear_booleans_lean_P_under[\"country_6\"]= bins_encoded.T\n",
      "/tmp/ipykernel_3558/1977877406.py:5: SettingWithCopyWarning: \n",
      "A value is trying to be set on a copy of a slice from a DataFrame.\n",
      "Try using .loc[row_indexer,col_indexer] = value instead\n",
      "\n",
      "See the caveats in the documentation: https://pandas.pydata.org/pandas-docs/stable/user_guide/indexing.html#returning-a-view-versus-a-copy\n",
      "  data_linear_booleans_lean_P_under[\"country_1\"], data_linear_booleans_lean_P_under[\"country_2\"], data_linear_booleans_lean_P_under[\"country_3\"], data_linear_booleans_lean_P_under[\"country_4\"], data_linear_booleans_lean_P_under[\"country_5\"], data_linear_booleans_lean_P_under[\"country_6\"]= bins_encoded.T\n",
      "/tmp/ipykernel_3558/1977877406.py:5: SettingWithCopyWarning: \n",
      "A value is trying to be set on a copy of a slice from a DataFrame.\n",
      "Try using .loc[row_indexer,col_indexer] = value instead\n",
      "\n",
      "See the caveats in the documentation: https://pandas.pydata.org/pandas-docs/stable/user_guide/indexing.html#returning-a-view-versus-a-copy\n",
      "  data_linear_booleans_lean_P_under[\"country_1\"], data_linear_booleans_lean_P_under[\"country_2\"], data_linear_booleans_lean_P_under[\"country_3\"], data_linear_booleans_lean_P_under[\"country_4\"], data_linear_booleans_lean_P_under[\"country_5\"], data_linear_booleans_lean_P_under[\"country_6\"]= bins_encoded.T\n",
      "/tmp/ipykernel_3558/1977877406.py:5: SettingWithCopyWarning: \n",
      "A value is trying to be set on a copy of a slice from a DataFrame.\n",
      "Try using .loc[row_indexer,col_indexer] = value instead\n",
      "\n",
      "See the caveats in the documentation: https://pandas.pydata.org/pandas-docs/stable/user_guide/indexing.html#returning-a-view-versus-a-copy\n",
      "  data_linear_booleans_lean_P_under[\"country_1\"], data_linear_booleans_lean_P_under[\"country_2\"], data_linear_booleans_lean_P_under[\"country_3\"], data_linear_booleans_lean_P_under[\"country_4\"], data_linear_booleans_lean_P_under[\"country_5\"], data_linear_booleans_lean_P_under[\"country_6\"]= bins_encoded.T\n"
     ]
    }
   ],
   "source": [
    "ohe = OneHotEncoder(sparse=False) \n",
    "ohe.fit(data_linear_booleans_lean_P_under[['country']])\n",
    "bins_encoded = ohe.transform(data_linear_booleans_lean_P_under[['country']])\n",
    "#data_linear_booleans_lean_P_under[\"country_1\"], data_linear_booleans_lean_P_under[\"country_2\"], data_linear_booleans_lean_P_under[\"country_3\"], data_linear_booleans_lean_P_under[\"country_4\"], data_linear_booleans_lean_P_under[\"country_5\"],data_linear_booleans_lean_P_under[\"country_6\"], data_linear_booleans_lean_P_under[\"country_7\"], data_linear_booleans_lean_P_under[\"country_8\"], data_linear_booleans_lean_P_under[\"country_9\"], data_linear_booleans_lean_P_under[\"country_10\"], data_linear_booleans_lean_P_under[\"country_11\"] = bins_encoded.T\n",
    "data_linear_booleans_lean_P_under[\"country_1\"], data_linear_booleans_lean_P_under[\"country_2\"], data_linear_booleans_lean_P_under[\"country_3\"], data_linear_booleans_lean_P_under[\"country_4\"], data_linear_booleans_lean_P_under[\"country_5\"], data_linear_booleans_lean_P_under[\"country_6\"]= bins_encoded.T\n",
    "#data_linear_booleans_lean_P_under.drop(columns='binned <2.5 pinacle', inplace=True)"
   ]
  },
  {
   "cell_type": "code",
   "execution_count": 41,
   "id": "5c570d98",
   "metadata": {},
   "outputs": [],
   "source": [
    "#a =data_linear_booleans_lean_P_under[['country','country_1','country_2','country_3','country_4','country_5','country_6','country_7','country_8','country_9','country_10','country_11']]"
   ]
  },
  {
   "cell_type": "code",
   "execution_count": null,
   "id": "a32e39b6",
   "metadata": {},
   "outputs": [],
   "source": [
    "#a[a['country_11']==1]"
   ]
  },
  {
   "cell_type": "code",
   "execution_count": null,
   "id": "dfd3bdce",
   "metadata": {},
   "outputs": [],
   "source": [
    "#data_linear_booleans_lean_P_under = data_linear_booleans_lean_P_under[data_linear_booleans_lean_P_under['extra']==0]"
   ]
  },
  {
   "cell_type": "code",
   "execution_count": 126,
   "id": "4a2525bd",
   "metadata": {},
   "outputs": [],
   "source": [
    "#extra\n",
    "data_linear_booleans_lean_P_under = data_linear_booleans_lean_P_under.drop(['country'],axis=1)"
   ]
  },
  {
   "cell_type": "code",
   "execution_count": 127,
   "id": "8218d14b",
   "metadata": {},
   "outputs": [],
   "source": [
    "#extra\n",
    "data_linear_booleans_lean_P_under = data_linear_booleans_lean_P_under.drop(['binned odds <2.5 pinacle closing'],axis=1)"
   ]
  },
  {
   "cell_type": "code",
   "execution_count": 128,
   "id": "58ffa7e2",
   "metadata": {},
   "outputs": [
    {
     "data": {
      "text/plain": [
       "month_after_July                    2809.00\n",
       "year_2021_2022                      3030.00\n",
       "game_starts_after_4pm               3306.00\n",
       "Pin_pays_better_under_boolean       4762.00\n",
       "Market_consensus                    3270.00\n",
       "%vig_p_bool                         2262.00\n",
       "PC<2.5_P_boolean                    2527.00\n",
       "payout_under_2.5_pinacle_closing    5153.33\n",
       "0, 20                                190.00\n",
       "20, 40                              1772.00\n",
       "40, 60                              2634.00\n",
       "60, 80                               705.00\n",
       "80, 100                              145.00\n",
       "1.0_to_1.5                           178.00\n",
       "1.5_to_2.0                          2141.00\n",
       "2.0_to_3.0                          2813.00\n",
       "3.0_to_99999.0                       314.00\n",
       "country_1                            805.00\n",
       "country_2                            838.00\n",
       "country_3                            985.00\n",
       "country_4                            691.00\n",
       "country_5                           1079.00\n",
       "country_6                           1048.00\n",
       "dtype: float64"
      ]
     },
     "execution_count": 128,
     "metadata": {},
     "output_type": "execute_result"
    }
   ],
   "source": [
    "data_linear_booleans_lean_P_under.sum()"
   ]
  },
  {
   "cell_type": "code",
   "execution_count": 46,
   "id": "8d7c2313",
   "metadata": {},
   "outputs": [
    {
     "name": "stdout",
     "output_type": "stream",
     "text": [
      "month_after_July\n",
      "year_2021_2022\n",
      "game_starts_after_4pm\n",
      "Pin_pays_better_under_boolean\n",
      "Market_consensus\n",
      "%vig_p_bool\n",
      "PC<2.5_P_boolean\n",
      "payout_under_2.5_pinacle_closing\n",
      "0, 20\n",
      "20, 40\n",
      "40, 60\n",
      "60, 80\n",
      "80, 100\n",
      "1.0_to_1.5\n",
      "1.5_to_2.0\n",
      "2.0_to_3.0\n",
      "3.0_to_99999.0\n",
      "country_1\n",
      "country_2\n",
      "country_3\n",
      "country_4\n",
      "country_5\n"
     ]
    }
   ],
   "source": [
    "for col_name in data_linear_booleans_lean_P_under.columns: \n",
    "    print(col_name)"
   ]
  },
  {
   "cell_type": "code",
   "execution_count": null,
   "id": "7b6eb27a",
   "metadata": {},
   "outputs": [],
   "source": [
    "# test_model = data_model_over_under.drop(columns=['FTHG', 'FTAG', 'nb_goals', 'over_2.5_goals', 'under_2.5_goals', \n",
    "#                                                 'Div', 'Date', 'Time', 'HomeTeam', 'AwayTeam', 'binned <2.5 avg', \n",
    "#                                                 'binned >2.5 avg', 'binned >2.5 pinacle', 'binned <2.5 365', \n",
    "#                                                  'binned >2.5 365', 'binned <2.5 avg closing', 'binned >2.5 avg closing', \n",
    "#                                                 'binned <2.5 pinacle closing', 'binned >2.5 pinacle closing', 'binned <2.5 365 closing', \n",
    "#                                                 'binned >2.5 365 closing', \n",
    "#                                                 'B365>2.5', 'B365<2.5', 'B365C>2.5', 'B365C<2.5', 'payout_under_2.5_365', 'payout_over_2.5_365', \n",
    "#                                                 'payout_under_2.5_365_closing', 'payout_over_2.5_365_closing', \n",
    "#                                                 'Implied Probability <2.5 365', 'Implied Probability >2.5 365', \n",
    "#                                                 'Implied Probability <2.5 365 closing', 'Implied Probability >2.5 365 closing', \n",
    "#                                                 'payout_avg_under_2.5', 'payout_avg_over_2.5', 'payout_under_2.5_pinacle', \n",
    "#                                                 'payout_avg_over_closing_2.5', 'payout_over_2.5_pinacle_closing', \n",
    "#                                                 'Implied Probability <2.5 avg', 'Implied Probability >2.5 avg', \n",
    "#                                                 'Implied Probability <2.5 pinacle', 'Implied Probability >2.5 pinacle', \n",
    "#                                                 'Avg>2.5', 'P>2.5', 'AvgC>2.5', 'PC>2.5', 'payout_over_2.5_pinacle', \n",
    "#                                                 'Implied Probability >2.5 avg closing', 'Implied Probability >2.5 pinacle closing', \n",
    "#                                                 'payout_avg_under_closing_2.5', 'Avg<2.5', 'P<2.5', 'AvgC<2.5', 'PC<2.5', \n",
    "#                                                 'Implied Probability <2.5 avg closing', 'Implied Probability <2.5 pinacle closing'])\n",
    "\n",
    "# test_model"
   ]
  },
  {
   "cell_type": "code",
   "execution_count": 129,
   "id": "5f516ba7",
   "metadata": {},
   "outputs": [
    {
     "data": {
      "text/html": [
       "<div>\n",
       "<style scoped>\n",
       "    .dataframe tbody tr th:only-of-type {\n",
       "        vertical-align: middle;\n",
       "    }\n",
       "\n",
       "    .dataframe tbody tr th {\n",
       "        vertical-align: top;\n",
       "    }\n",
       "\n",
       "    .dataframe thead th {\n",
       "        text-align: right;\n",
       "    }\n",
       "</style>\n",
       "<table border=\"1\" class=\"dataframe\">\n",
       "  <thead>\n",
       "    <tr style=\"text-align: right;\">\n",
       "      <th></th>\n",
       "      <th>month_after_July</th>\n",
       "      <th>year_2021_2022</th>\n",
       "      <th>game_starts_after_4pm</th>\n",
       "      <th>Pin_pays_better_under_boolean</th>\n",
       "      <th>Market_consensus</th>\n",
       "      <th>%vig_p_bool</th>\n",
       "      <th>PC&lt;2.5_P_boolean</th>\n",
       "      <th>payout_under_2.5_pinacle_closing</th>\n",
       "      <th>0, 20</th>\n",
       "      <th>20, 40</th>\n",
       "      <th>...</th>\n",
       "      <th>1.0_to_1.5</th>\n",
       "      <th>1.5_to_2.0</th>\n",
       "      <th>2.0_to_3.0</th>\n",
       "      <th>3.0_to_99999.0</th>\n",
       "      <th>country_1</th>\n",
       "      <th>country_2</th>\n",
       "      <th>country_3</th>\n",
       "      <th>country_4</th>\n",
       "      <th>country_5</th>\n",
       "      <th>country_6</th>\n",
       "    </tr>\n",
       "  </thead>\n",
       "  <tbody>\n",
       "    <tr>\n",
       "      <th>0</th>\n",
       "      <td>True</td>\n",
       "      <td>False</td>\n",
       "      <td>True</td>\n",
       "      <td>True</td>\n",
       "      <td>False</td>\n",
       "      <td>False</td>\n",
       "      <td>False</td>\n",
       "      <td>2.23</td>\n",
       "      <td>0.0</td>\n",
       "      <td>0.0</td>\n",
       "      <td>...</td>\n",
       "      <td>0.0</td>\n",
       "      <td>0.0</td>\n",
       "      <td>1.0</td>\n",
       "      <td>0.0</td>\n",
       "      <td>0.0</td>\n",
       "      <td>0.0</td>\n",
       "      <td>0.0</td>\n",
       "      <td>0.0</td>\n",
       "      <td>1.0</td>\n",
       "      <td>0.0</td>\n",
       "    </tr>\n",
       "    <tr>\n",
       "      <th>1</th>\n",
       "      <td>True</td>\n",
       "      <td>False</td>\n",
       "      <td>True</td>\n",
       "      <td>True</td>\n",
       "      <td>False</td>\n",
       "      <td>False</td>\n",
       "      <td>False</td>\n",
       "      <td>0.00</td>\n",
       "      <td>0.0</td>\n",
       "      <td>0.0</td>\n",
       "      <td>...</td>\n",
       "      <td>0.0</td>\n",
       "      <td>0.0</td>\n",
       "      <td>1.0</td>\n",
       "      <td>0.0</td>\n",
       "      <td>0.0</td>\n",
       "      <td>0.0</td>\n",
       "      <td>0.0</td>\n",
       "      <td>0.0</td>\n",
       "      <td>1.0</td>\n",
       "      <td>0.0</td>\n",
       "    </tr>\n",
       "    <tr>\n",
       "      <th>2</th>\n",
       "      <td>True</td>\n",
       "      <td>False</td>\n",
       "      <td>True</td>\n",
       "      <td>True</td>\n",
       "      <td>True</td>\n",
       "      <td>False</td>\n",
       "      <td>False</td>\n",
       "      <td>1.79</td>\n",
       "      <td>0.0</td>\n",
       "      <td>0.0</td>\n",
       "      <td>...</td>\n",
       "      <td>0.0</td>\n",
       "      <td>1.0</td>\n",
       "      <td>0.0</td>\n",
       "      <td>0.0</td>\n",
       "      <td>0.0</td>\n",
       "      <td>0.0</td>\n",
       "      <td>0.0</td>\n",
       "      <td>0.0</td>\n",
       "      <td>1.0</td>\n",
       "      <td>0.0</td>\n",
       "    </tr>\n",
       "    <tr>\n",
       "      <th>3</th>\n",
       "      <td>True</td>\n",
       "      <td>False</td>\n",
       "      <td>True</td>\n",
       "      <td>True</td>\n",
       "      <td>False</td>\n",
       "      <td>False</td>\n",
       "      <td>True</td>\n",
       "      <td>1.86</td>\n",
       "      <td>0.0</td>\n",
       "      <td>0.0</td>\n",
       "      <td>...</td>\n",
       "      <td>0.0</td>\n",
       "      <td>1.0</td>\n",
       "      <td>0.0</td>\n",
       "      <td>0.0</td>\n",
       "      <td>0.0</td>\n",
       "      <td>0.0</td>\n",
       "      <td>0.0</td>\n",
       "      <td>0.0</td>\n",
       "      <td>1.0</td>\n",
       "      <td>0.0</td>\n",
       "    </tr>\n",
       "    <tr>\n",
       "      <th>4</th>\n",
       "      <td>True</td>\n",
       "      <td>False</td>\n",
       "      <td>True</td>\n",
       "      <td>True</td>\n",
       "      <td>True</td>\n",
       "      <td>False</td>\n",
       "      <td>False</td>\n",
       "      <td>0.00</td>\n",
       "      <td>0.0</td>\n",
       "      <td>0.0</td>\n",
       "      <td>...</td>\n",
       "      <td>0.0</td>\n",
       "      <td>0.0</td>\n",
       "      <td>1.0</td>\n",
       "      <td>0.0</td>\n",
       "      <td>0.0</td>\n",
       "      <td>0.0</td>\n",
       "      <td>0.0</td>\n",
       "      <td>0.0</td>\n",
       "      <td>1.0</td>\n",
       "      <td>0.0</td>\n",
       "    </tr>\n",
       "    <tr>\n",
       "      <th>...</th>\n",
       "      <td>...</td>\n",
       "      <td>...</td>\n",
       "      <td>...</td>\n",
       "      <td>...</td>\n",
       "      <td>...</td>\n",
       "      <td>...</td>\n",
       "      <td>...</td>\n",
       "      <td>...</td>\n",
       "      <td>...</td>\n",
       "      <td>...</td>\n",
       "      <td>...</td>\n",
       "      <td>...</td>\n",
       "      <td>...</td>\n",
       "      <td>...</td>\n",
       "      <td>...</td>\n",
       "      <td>...</td>\n",
       "      <td>...</td>\n",
       "      <td>...</td>\n",
       "      <td>...</td>\n",
       "      <td>...</td>\n",
       "      <td>...</td>\n",
       "    </tr>\n",
       "    <tr>\n",
       "      <th>301</th>\n",
       "      <td>False</td>\n",
       "      <td>True</td>\n",
       "      <td>True</td>\n",
       "      <td>True</td>\n",
       "      <td>True</td>\n",
       "      <td>True</td>\n",
       "      <td>False</td>\n",
       "      <td>0.00</td>\n",
       "      <td>0.0</td>\n",
       "      <td>1.0</td>\n",
       "      <td>...</td>\n",
       "      <td>0.0</td>\n",
       "      <td>0.0</td>\n",
       "      <td>0.0</td>\n",
       "      <td>1.0</td>\n",
       "      <td>1.0</td>\n",
       "      <td>0.0</td>\n",
       "      <td>0.0</td>\n",
       "      <td>0.0</td>\n",
       "      <td>0.0</td>\n",
       "      <td>0.0</td>\n",
       "    </tr>\n",
       "    <tr>\n",
       "      <th>302</th>\n",
       "      <td>False</td>\n",
       "      <td>True</td>\n",
       "      <td>True</td>\n",
       "      <td>True</td>\n",
       "      <td>True</td>\n",
       "      <td>True</td>\n",
       "      <td>False</td>\n",
       "      <td>0.00</td>\n",
       "      <td>0.0</td>\n",
       "      <td>1.0</td>\n",
       "      <td>...</td>\n",
       "      <td>0.0</td>\n",
       "      <td>0.0</td>\n",
       "      <td>1.0</td>\n",
       "      <td>0.0</td>\n",
       "      <td>1.0</td>\n",
       "      <td>0.0</td>\n",
       "      <td>0.0</td>\n",
       "      <td>0.0</td>\n",
       "      <td>0.0</td>\n",
       "      <td>0.0</td>\n",
       "    </tr>\n",
       "    <tr>\n",
       "      <th>303</th>\n",
       "      <td>False</td>\n",
       "      <td>True</td>\n",
       "      <td>True</td>\n",
       "      <td>True</td>\n",
       "      <td>True</td>\n",
       "      <td>True</td>\n",
       "      <td>False</td>\n",
       "      <td>2.67</td>\n",
       "      <td>0.0</td>\n",
       "      <td>1.0</td>\n",
       "      <td>...</td>\n",
       "      <td>0.0</td>\n",
       "      <td>0.0</td>\n",
       "      <td>1.0</td>\n",
       "      <td>0.0</td>\n",
       "      <td>1.0</td>\n",
       "      <td>0.0</td>\n",
       "      <td>0.0</td>\n",
       "      <td>0.0</td>\n",
       "      <td>0.0</td>\n",
       "      <td>0.0</td>\n",
       "    </tr>\n",
       "    <tr>\n",
       "      <th>304</th>\n",
       "      <td>False</td>\n",
       "      <td>True</td>\n",
       "      <td>True</td>\n",
       "      <td>True</td>\n",
       "      <td>True</td>\n",
       "      <td>True</td>\n",
       "      <td>False</td>\n",
       "      <td>0.00</td>\n",
       "      <td>0.0</td>\n",
       "      <td>0.0</td>\n",
       "      <td>...</td>\n",
       "      <td>0.0</td>\n",
       "      <td>0.0</td>\n",
       "      <td>0.0</td>\n",
       "      <td>1.0</td>\n",
       "      <td>1.0</td>\n",
       "      <td>0.0</td>\n",
       "      <td>0.0</td>\n",
       "      <td>0.0</td>\n",
       "      <td>0.0</td>\n",
       "      <td>0.0</td>\n",
       "    </tr>\n",
       "    <tr>\n",
       "      <th>305</th>\n",
       "      <td>False</td>\n",
       "      <td>True</td>\n",
       "      <td>True</td>\n",
       "      <td>True</td>\n",
       "      <td>True</td>\n",
       "      <td>False</td>\n",
       "      <td>False</td>\n",
       "      <td>0.00</td>\n",
       "      <td>0.0</td>\n",
       "      <td>1.0</td>\n",
       "      <td>...</td>\n",
       "      <td>0.0</td>\n",
       "      <td>1.0</td>\n",
       "      <td>0.0</td>\n",
       "      <td>0.0</td>\n",
       "      <td>1.0</td>\n",
       "      <td>0.0</td>\n",
       "      <td>0.0</td>\n",
       "      <td>0.0</td>\n",
       "      <td>0.0</td>\n",
       "      <td>0.0</td>\n",
       "    </tr>\n",
       "  </tbody>\n",
       "</table>\n",
       "<p>5446 rows × 23 columns</p>\n",
       "</div>"
      ],
      "text/plain": [
       "     month_after_July  year_2021_2022  game_starts_after_4pm  \\\n",
       "0                True           False                   True   \n",
       "1                True           False                   True   \n",
       "2                True           False                   True   \n",
       "3                True           False                   True   \n",
       "4                True           False                   True   \n",
       "..                ...             ...                    ...   \n",
       "301             False            True                   True   \n",
       "302             False            True                   True   \n",
       "303             False            True                   True   \n",
       "304             False            True                   True   \n",
       "305             False            True                   True   \n",
       "\n",
       "     Pin_pays_better_under_boolean  Market_consensus  %vig_p_bool  \\\n",
       "0                             True             False        False   \n",
       "1                             True             False        False   \n",
       "2                             True              True        False   \n",
       "3                             True             False        False   \n",
       "4                             True              True        False   \n",
       "..                             ...               ...          ...   \n",
       "301                           True              True         True   \n",
       "302                           True              True         True   \n",
       "303                           True              True         True   \n",
       "304                           True              True         True   \n",
       "305                           True              True        False   \n",
       "\n",
       "     PC<2.5_P_boolean  payout_under_2.5_pinacle_closing  0, 20  20, 40  ...  \\\n",
       "0               False                              2.23    0.0     0.0  ...   \n",
       "1               False                              0.00    0.0     0.0  ...   \n",
       "2               False                              1.79    0.0     0.0  ...   \n",
       "3                True                              1.86    0.0     0.0  ...   \n",
       "4               False                              0.00    0.0     0.0  ...   \n",
       "..                ...                               ...    ...     ...  ...   \n",
       "301             False                              0.00    0.0     1.0  ...   \n",
       "302             False                              0.00    0.0     1.0  ...   \n",
       "303             False                              2.67    0.0     1.0  ...   \n",
       "304             False                              0.00    0.0     0.0  ...   \n",
       "305             False                              0.00    0.0     1.0  ...   \n",
       "\n",
       "     1.0_to_1.5  1.5_to_2.0  2.0_to_3.0  3.0_to_99999.0  country_1  country_2  \\\n",
       "0           0.0         0.0         1.0             0.0        0.0        0.0   \n",
       "1           0.0         0.0         1.0             0.0        0.0        0.0   \n",
       "2           0.0         1.0         0.0             0.0        0.0        0.0   \n",
       "3           0.0         1.0         0.0             0.0        0.0        0.0   \n",
       "4           0.0         0.0         1.0             0.0        0.0        0.0   \n",
       "..          ...         ...         ...             ...        ...        ...   \n",
       "301         0.0         0.0         0.0             1.0        1.0        0.0   \n",
       "302         0.0         0.0         1.0             0.0        1.0        0.0   \n",
       "303         0.0         0.0         1.0             0.0        1.0        0.0   \n",
       "304         0.0         0.0         0.0             1.0        1.0        0.0   \n",
       "305         0.0         1.0         0.0             0.0        1.0        0.0   \n",
       "\n",
       "     country_3  country_4  country_5  country_6  \n",
       "0          0.0        0.0        1.0        0.0  \n",
       "1          0.0        0.0        1.0        0.0  \n",
       "2          0.0        0.0        1.0        0.0  \n",
       "3          0.0        0.0        1.0        0.0  \n",
       "4          0.0        0.0        1.0        0.0  \n",
       "..         ...        ...        ...        ...  \n",
       "301        0.0        0.0        0.0        0.0  \n",
       "302        0.0        0.0        0.0        0.0  \n",
       "303        0.0        0.0        0.0        0.0  \n",
       "304        0.0        0.0        0.0        0.0  \n",
       "305        0.0        0.0        0.0        0.0  \n",
       "\n",
       "[5446 rows x 23 columns]"
      ]
     },
     "execution_count": 129,
     "metadata": {},
     "output_type": "execute_result"
    }
   ],
   "source": [
    "data_linear_booleans_lean_P_under"
   ]
  },
  {
   "cell_type": "code",
   "execution_count": 130,
   "id": "28c9cf5a",
   "metadata": {},
   "outputs": [
    {
     "data": {
      "text/plain": [
       "Index(['month_after_July', 'year_2021_2022', 'game_starts_after_4pm',\n",
       "       'Pin_pays_better_under_boolean', 'Market_consensus', '%vig_p_bool',\n",
       "       'PC<2.5_P_boolean', 'payout_under_2.5_pinacle_closing', '0, 20',\n",
       "       '20, 40', '40, 60', '60, 80', '80, 100', '1.0_to_1.5', '1.5_to_2.0',\n",
       "       '2.0_to_3.0', '3.0_to_99999.0', 'country_1', 'country_2', 'country_3',\n",
       "       'country_4', 'country_5', 'country_6'],\n",
       "      dtype='object')"
      ]
     },
     "execution_count": 130,
     "metadata": {},
     "output_type": "execute_result"
    }
   ],
   "source": [
    "data_linear_booleans_lean_P_under.columns"
   ]
  },
  {
   "cell_type": "code",
   "execution_count": 131,
   "id": "af915b8a",
   "metadata": {},
   "outputs": [
    {
     "ename": "KeyError",
     "evalue": "\"['country_7', 'country_8', 'country_9', 'country_10', 'country_11'] not in index\"",
     "output_type": "error",
     "traceback": [
      "\u001b[0;31m---------------------------------------------------------------------------\u001b[0m",
      "\u001b[0;31mKeyError\u001b[0m                                  Traceback (most recent call last)",
      "Input \u001b[0;32mIn [131]\u001b[0m, in \u001b[0;36m<cell line: 3>\u001b[0;34m()\u001b[0m\n\u001b[1;32m      1\u001b[0m X \u001b[38;5;241m=\u001b[39m data_linear_booleans_lean_P_under[[\u001b[38;5;124m'\u001b[39m\u001b[38;5;124mPin_pays_better_under_boolean\u001b[39m\u001b[38;5;124m'\u001b[39m,\u001b[38;5;124m'\u001b[39m\u001b[38;5;124mMarket_consensus\u001b[39m\u001b[38;5;124m'\u001b[39m,\u001b[38;5;124m'\u001b[39m\u001b[38;5;124m%\u001b[39m\u001b[38;5;124mvig_p_bool\u001b[39m\u001b[38;5;124m'\u001b[39m,\u001b[38;5;124m'\u001b[39m\u001b[38;5;124mPC<2.5_P_boolean\u001b[39m\u001b[38;5;124m'\u001b[39m, \u001b[38;5;124m'\u001b[39m\u001b[38;5;124m1.0_to_1.5\u001b[39m\u001b[38;5;124m'\u001b[39m, \u001b[38;5;124m'\u001b[39m\u001b[38;5;124m1.5_to_2.0\u001b[39m\u001b[38;5;124m'\u001b[39m, \u001b[38;5;124m'\u001b[39m\u001b[38;5;124m2.0_to_3.0\u001b[39m\u001b[38;5;124m'\u001b[39m,\u001b[38;5;124m'\u001b[39m\u001b[38;5;124m3.0_to_99999.0\u001b[39m\u001b[38;5;124m'\u001b[39m]]\n\u001b[1;32m      2\u001b[0m X_step2 \u001b[38;5;241m=\u001b[39m data_linear_booleans_lean_P_under[[\u001b[38;5;124m'\u001b[39m\u001b[38;5;124m%\u001b[39m\u001b[38;5;124mvig_p_bool\u001b[39m\u001b[38;5;124m'\u001b[39m,\u001b[38;5;124m'\u001b[39m\u001b[38;5;124mPC<2.5_P_boolean\u001b[39m\u001b[38;5;124m'\u001b[39m, \u001b[38;5;124m'\u001b[39m\u001b[38;5;124m1.0_to_1.5\u001b[39m\u001b[38;5;124m'\u001b[39m, \u001b[38;5;124m'\u001b[39m\u001b[38;5;124m1.5_to_2.0\u001b[39m\u001b[38;5;124m'\u001b[39m, \u001b[38;5;124m'\u001b[39m\u001b[38;5;124m2.0_to_3.0\u001b[39m\u001b[38;5;124m'\u001b[39m,\u001b[38;5;124m'\u001b[39m\u001b[38;5;124m3.0_to_99999.0\u001b[39m\u001b[38;5;124m'\u001b[39m]]\n\u001b[0;32m----> 3\u001b[0m X_step3 \u001b[38;5;241m=\u001b[39m \u001b[43mdata_linear_booleans_lean_P_under\u001b[49m\u001b[43m[\u001b[49m\u001b[43m[\u001b[49m\u001b[38;5;124;43m'\u001b[39;49m\u001b[38;5;124;43mcountry_1\u001b[39;49m\u001b[38;5;124;43m'\u001b[39;49m\u001b[43m,\u001b[49m\u001b[38;5;124;43m'\u001b[39;49m\u001b[38;5;124;43mcountry_2\u001b[39;49m\u001b[38;5;124;43m'\u001b[39;49m\u001b[43m,\u001b[49m\u001b[38;5;124;43m'\u001b[39;49m\u001b[38;5;124;43mcountry_3\u001b[39;49m\u001b[38;5;124;43m'\u001b[39;49m\u001b[43m,\u001b[49m\u001b[38;5;124;43m'\u001b[39;49m\u001b[38;5;124;43mcountry_4\u001b[39;49m\u001b[38;5;124;43m'\u001b[39;49m\u001b[43m,\u001b[49m\u001b[38;5;124;43m'\u001b[39;49m\u001b[38;5;124;43mcountry_5\u001b[39;49m\u001b[38;5;124;43m'\u001b[39;49m\u001b[43m,\u001b[49m\u001b[38;5;124;43m'\u001b[39;49m\u001b[38;5;124;43mcountry_6\u001b[39;49m\u001b[38;5;124;43m'\u001b[39;49m\u001b[43m,\u001b[49m\u001b[38;5;124;43m'\u001b[39;49m\u001b[38;5;124;43mcountry_7\u001b[39;49m\u001b[38;5;124;43m'\u001b[39;49m\u001b[43m,\u001b[49m\u001b[38;5;124;43m'\u001b[39;49m\u001b[38;5;124;43mcountry_8\u001b[39;49m\u001b[38;5;124;43m'\u001b[39;49m\u001b[43m,\u001b[49m\u001b[38;5;124;43m'\u001b[39;49m\u001b[38;5;124;43mcountry_9\u001b[39;49m\u001b[38;5;124;43m'\u001b[39;49m\u001b[43m,\u001b[49m\u001b[38;5;124;43m'\u001b[39;49m\u001b[38;5;124;43mcountry_10\u001b[39;49m\u001b[38;5;124;43m'\u001b[39;49m\u001b[43m,\u001b[49m\u001b[38;5;124;43m'\u001b[39;49m\u001b[38;5;124;43mcountry_11\u001b[39;49m\u001b[38;5;124;43m'\u001b[39;49m\u001b[43m,\u001b[49m\u001b[38;5;124;43m'\u001b[39;49m\u001b[38;5;124;43mmonth_after_July\u001b[39;49m\u001b[38;5;124;43m'\u001b[39;49m\u001b[43m,\u001b[49m\u001b[43m \u001b[49m\u001b[38;5;124;43m'\u001b[39;49m\u001b[38;5;124;43myear_2021_2022\u001b[39;49m\u001b[38;5;124;43m'\u001b[39;49m\u001b[43m,\u001b[49m\u001b[43m \u001b[49m\u001b[38;5;124;43m'\u001b[39;49m\u001b[38;5;124;43mgame_starts_after_4pm\u001b[39;49m\u001b[38;5;124;43m'\u001b[39;49m\u001b[43m,\u001b[49m\u001b[38;5;124;43m'\u001b[39;49m\u001b[38;5;124;43mPin_pays_better_under_boolean\u001b[39;49m\u001b[38;5;124;43m'\u001b[39;49m\u001b[43m,\u001b[49m\u001b[38;5;124;43m'\u001b[39;49m\u001b[38;5;124;43mMarket_consensus\u001b[39;49m\u001b[38;5;124;43m'\u001b[39;49m\u001b[43m,\u001b[49m\u001b[38;5;124;43m'\u001b[39;49m\u001b[38;5;124;43m%\u001b[39;49m\u001b[38;5;124;43mvig_p_bool\u001b[39;49m\u001b[38;5;124;43m'\u001b[39;49m\u001b[43m,\u001b[49m\u001b[38;5;124;43m'\u001b[39;49m\u001b[38;5;124;43mPC<2.5_P_boolean\u001b[39;49m\u001b[38;5;124;43m'\u001b[39;49m\u001b[43m,\u001b[49m\u001b[38;5;124;43m'\u001b[39;49m\u001b[38;5;124;43m1.0_to_1.5\u001b[39;49m\u001b[38;5;124;43m'\u001b[39;49m\u001b[43m,\u001b[49m\u001b[43m \u001b[49m\u001b[38;5;124;43m'\u001b[39;49m\u001b[38;5;124;43m1.5_to_2.0\u001b[39;49m\u001b[38;5;124;43m'\u001b[39;49m\u001b[43m,\u001b[49m\u001b[43m \u001b[49m\u001b[38;5;124;43m'\u001b[39;49m\u001b[38;5;124;43m2.0_to_3.0\u001b[39;49m\u001b[38;5;124;43m'\u001b[39;49m\u001b[43m,\u001b[49m\u001b[38;5;124;43m'\u001b[39;49m\u001b[38;5;124;43m3.0_to_99999.0\u001b[39;49m\u001b[38;5;124;43m'\u001b[39;49m\u001b[43m,\u001b[49m\u001b[38;5;124;43m'\u001b[39;49m\u001b[38;5;124;43m0, 20\u001b[39;49m\u001b[38;5;124;43m'\u001b[39;49m\u001b[43m,\u001b[49m\u001b[38;5;124;43m'\u001b[39;49m\u001b[38;5;124;43m20, 40\u001b[39;49m\u001b[38;5;124;43m'\u001b[39;49m\u001b[43m,\u001b[49m\u001b[38;5;124;43m'\u001b[39;49m\u001b[38;5;124;43m40, 60\u001b[39;49m\u001b[38;5;124;43m'\u001b[39;49m\u001b[43m,\u001b[49m\u001b[38;5;124;43m'\u001b[39;49m\u001b[38;5;124;43m60, 80\u001b[39;49m\u001b[38;5;124;43m'\u001b[39;49m\u001b[43m,\u001b[49m\u001b[38;5;124;43m'\u001b[39;49m\u001b[38;5;124;43m80, 100\u001b[39;49m\u001b[38;5;124;43m'\u001b[39;49m\u001b[43m]\u001b[49m\u001b[43m]\u001b[49m\n\u001b[1;32m      4\u001b[0m \u001b[38;5;66;03m#X_step4 = data_linear_booleans_lean_P_under[['country_1','country_2','country_3','country_4','country_5','country_6','country_7','country_8','country_9','country_10','country_11']]\u001b[39;00m\n\u001b[1;32m      5\u001b[0m y \u001b[38;5;241m=\u001b[39m data_linear_booleans_lean_P_under[\u001b[38;5;124m'\u001b[39m\u001b[38;5;124mpayout_under_2.5_pinacle_closing\u001b[39m\u001b[38;5;124m'\u001b[39m]\n",
      "File \u001b[0;32m~/.pyenv/versions/3.8.12/envs/OnThePitch/lib/python3.8/site-packages/pandas/core/frame.py:3511\u001b[0m, in \u001b[0;36mDataFrame.__getitem__\u001b[0;34m(self, key)\u001b[0m\n\u001b[1;32m   3509\u001b[0m     \u001b[38;5;28;01mif\u001b[39;00m is_iterator(key):\n\u001b[1;32m   3510\u001b[0m         key \u001b[38;5;241m=\u001b[39m \u001b[38;5;28mlist\u001b[39m(key)\n\u001b[0;32m-> 3511\u001b[0m     indexer \u001b[38;5;241m=\u001b[39m \u001b[38;5;28;43mself\u001b[39;49m\u001b[38;5;241;43m.\u001b[39;49m\u001b[43mcolumns\u001b[49m\u001b[38;5;241;43m.\u001b[39;49m\u001b[43m_get_indexer_strict\u001b[49m\u001b[43m(\u001b[49m\u001b[43mkey\u001b[49m\u001b[43m,\u001b[49m\u001b[43m \u001b[49m\u001b[38;5;124;43m\"\u001b[39;49m\u001b[38;5;124;43mcolumns\u001b[39;49m\u001b[38;5;124;43m\"\u001b[39;49m\u001b[43m)\u001b[49m[\u001b[38;5;241m1\u001b[39m]\n\u001b[1;32m   3513\u001b[0m \u001b[38;5;66;03m# take() does not accept boolean indexers\u001b[39;00m\n\u001b[1;32m   3514\u001b[0m \u001b[38;5;28;01mif\u001b[39;00m \u001b[38;5;28mgetattr\u001b[39m(indexer, \u001b[38;5;124m\"\u001b[39m\u001b[38;5;124mdtype\u001b[39m\u001b[38;5;124m\"\u001b[39m, \u001b[38;5;28;01mNone\u001b[39;00m) \u001b[38;5;241m==\u001b[39m \u001b[38;5;28mbool\u001b[39m:\n",
      "File \u001b[0;32m~/.pyenv/versions/3.8.12/envs/OnThePitch/lib/python3.8/site-packages/pandas/core/indexes/base.py:5782\u001b[0m, in \u001b[0;36mIndex._get_indexer_strict\u001b[0;34m(self, key, axis_name)\u001b[0m\n\u001b[1;32m   5779\u001b[0m \u001b[38;5;28;01melse\u001b[39;00m:\n\u001b[1;32m   5780\u001b[0m     keyarr, indexer, new_indexer \u001b[38;5;241m=\u001b[39m \u001b[38;5;28mself\u001b[39m\u001b[38;5;241m.\u001b[39m_reindex_non_unique(keyarr)\n\u001b[0;32m-> 5782\u001b[0m \u001b[38;5;28;43mself\u001b[39;49m\u001b[38;5;241;43m.\u001b[39;49m\u001b[43m_raise_if_missing\u001b[49m\u001b[43m(\u001b[49m\u001b[43mkeyarr\u001b[49m\u001b[43m,\u001b[49m\u001b[43m \u001b[49m\u001b[43mindexer\u001b[49m\u001b[43m,\u001b[49m\u001b[43m \u001b[49m\u001b[43maxis_name\u001b[49m\u001b[43m)\u001b[49m\n\u001b[1;32m   5784\u001b[0m keyarr \u001b[38;5;241m=\u001b[39m \u001b[38;5;28mself\u001b[39m\u001b[38;5;241m.\u001b[39mtake(indexer)\n\u001b[1;32m   5785\u001b[0m \u001b[38;5;28;01mif\u001b[39;00m \u001b[38;5;28misinstance\u001b[39m(key, Index):\n\u001b[1;32m   5786\u001b[0m     \u001b[38;5;66;03m# GH 42790 - Preserve name from an Index\u001b[39;00m\n",
      "File \u001b[0;32m~/.pyenv/versions/3.8.12/envs/OnThePitch/lib/python3.8/site-packages/pandas/core/indexes/base.py:5845\u001b[0m, in \u001b[0;36mIndex._raise_if_missing\u001b[0;34m(self, key, indexer, axis_name)\u001b[0m\n\u001b[1;32m   5842\u001b[0m     \u001b[38;5;28;01mraise\u001b[39;00m \u001b[38;5;167;01mKeyError\u001b[39;00m(\u001b[38;5;124mf\u001b[39m\u001b[38;5;124m\"\u001b[39m\u001b[38;5;124mNone of [\u001b[39m\u001b[38;5;132;01m{\u001b[39;00mkey\u001b[38;5;132;01m}\u001b[39;00m\u001b[38;5;124m] are in the [\u001b[39m\u001b[38;5;132;01m{\u001b[39;00maxis_name\u001b[38;5;132;01m}\u001b[39;00m\u001b[38;5;124m]\u001b[39m\u001b[38;5;124m\"\u001b[39m)\n\u001b[1;32m   5844\u001b[0m not_found \u001b[38;5;241m=\u001b[39m \u001b[38;5;28mlist\u001b[39m(ensure_index(key)[missing_mask\u001b[38;5;241m.\u001b[39mnonzero()[\u001b[38;5;241m0\u001b[39m]]\u001b[38;5;241m.\u001b[39munique())\n\u001b[0;32m-> 5845\u001b[0m \u001b[38;5;28;01mraise\u001b[39;00m \u001b[38;5;167;01mKeyError\u001b[39;00m(\u001b[38;5;124mf\u001b[39m\u001b[38;5;124m\"\u001b[39m\u001b[38;5;132;01m{\u001b[39;00mnot_found\u001b[38;5;132;01m}\u001b[39;00m\u001b[38;5;124m not in index\u001b[39m\u001b[38;5;124m\"\u001b[39m)\n",
      "\u001b[0;31mKeyError\u001b[0m: \"['country_7', 'country_8', 'country_9', 'country_10', 'country_11'] not in index\""
     ]
    }
   ],
   "source": [
    "X = data_linear_booleans_lean_P_under[['Pin_pays_better_under_boolean','Market_consensus','%vig_p_bool','PC<2.5_P_boolean', '1.0_to_1.5', '1.5_to_2.0', '2.0_to_3.0','3.0_to_99999.0']]\n",
    "X_step2 = data_linear_booleans_lean_P_under[['%vig_p_bool','PC<2.5_P_boolean', '1.0_to_1.5', '1.5_to_2.0', '2.0_to_3.0','3.0_to_99999.0']]\n",
    "X_step3 = data_linear_booleans_lean_P_under[['country_1','country_2','country_3','country_4','country_5','country_6','country_7','country_8','country_9','country_10','country_11','month_after_July', 'year_2021_2022', 'game_starts_after_4pm','Pin_pays_better_under_boolean','Market_consensus','%vig_p_bool','PC<2.5_P_boolean','1.0_to_1.5', '1.5_to_2.0', '2.0_to_3.0','3.0_to_99999.0','0, 20','20, 40','40, 60','60, 80','80, 100']]\n",
    "#X_step4 = data_linear_booleans_lean_P_under[['country_1','country_2','country_3','country_4','country_5','country_6','country_7','country_8','country_9','country_10','country_11']]\n",
    "y = data_linear_booleans_lean_P_under['payout_under_2.5_pinacle_closing']\n",
    "\n",
    "X_step_joao = data_linear_booleans_lean_P_under[['month_after_July', 'year_2021_2022', 'game_starts_after_4pm','Pin_pays_better_under_boolean','Market_consensus','%vig_p_bool','PC<2.5_P_boolean','1.0_to_1.5', '1.5_to_2.0', '2.0_to_3.0','3.0_to_99999.0','0, 20','20, 40','40, 60','60, 80','80, 100']]\n",
    "X_step_f= data_linear_booleans_lean_P_under[['0, 20','20, 40','40, 60','60, 80','80, 100']]\n"
   ]
  },
  {
   "cell_type": "code",
   "execution_count": 132,
   "id": "629c3920",
   "metadata": {},
   "outputs": [],
   "source": [
    "X_step_f= data_linear_booleans_lean_P_under[['0, 20','20, 40','40, 60','60, 80','80, 100']]\n"
   ]
  },
  {
   "cell_type": "code",
   "execution_count": null,
   "id": "f4cec0e8",
   "metadata": {},
   "outputs": [],
   "source": [
    "#X_step3['great_countries']=X_step3['country_3']+X_step3['country_7']+X_step3['country_8']+X_step3['country_9']+X_step3['country_10']"
   ]
  },
  {
   "cell_type": "code",
   "execution_count": null,
   "id": "7c9bf3ff",
   "metadata": {},
   "outputs": [],
   "source": [
    "#X_step3 = X_step3[X_step3['great_countries']==1]"
   ]
  },
  {
   "cell_type": "code",
   "execution_count": null,
   "id": "e7b162e3",
   "metadata": {},
   "outputs": [],
   "source": [
    "#X_step3 = X_step3[['country_3','country_7','country_8','country_9','country_10','month_after_July', 'year_2021_2022', 'game_starts_after_4pm','Pin_pays_better_under_boolean','Market_consensus','%vig_p_bool','1.0_to_1.5', '1.5_to_2.0', '2.0_to_3.0','3.0_to_99999.0','0, 20','20, 40','40, 60','60, 80','80, 100']]"
   ]
  },
  {
   "cell_type": "code",
   "execution_count": 133,
   "id": "a348810e",
   "metadata": {},
   "outputs": [],
   "source": [
    "#X_step4 = data_linear_booleans_lean_P_under[['country_1','country_2','country_3','country_4','country_5','country_6','country_7','country_8','country_9','country_10','country_11']]\n",
    "y = data_linear_booleans_lean_P_under['payout_under_2.5_pinacle_closing']"
   ]
  },
  {
   "cell_type": "code",
   "execution_count": 134,
   "id": "f555b026",
   "metadata": {},
   "outputs": [],
   "source": [
    "import statsmodels.api as sm"
   ]
  },
  {
   "cell_type": "code",
   "execution_count": 135,
   "id": "44729447",
   "metadata": {},
   "outputs": [],
   "source": [
    "results = sm.OLS(y,X_step_f.astype(float)).fit()"
   ]
  },
  {
   "cell_type": "code",
   "execution_count": 136,
   "id": "7143594e",
   "metadata": {
    "scrolled": true
   },
   "outputs": [
    {
     "data": {
      "text/html": [
       "<table class=\"simpletable\">\n",
       "<caption>OLS Regression Results</caption>\n",
       "<tr>\n",
       "  <th>Dep. Variable:</th>    <td>payout_under_2.5_pinacle_closing</td> <th>  R-squared:         </th> <td>   0.000</td> \n",
       "</tr>\n",
       "<tr>\n",
       "  <th>Model:</th>                           <td>OLS</td>               <th>  Adj. R-squared:    </th> <td>  -0.000</td> \n",
       "</tr>\n",
       "<tr>\n",
       "  <th>Method:</th>                     <td>Least Squares</td>          <th>  F-statistic:       </th> <td>  0.6636</td> \n",
       "</tr>\n",
       "<tr>\n",
       "  <th>Date:</th>                     <td>Fri, 03 Jun 2022</td>         <th>  Prob (F-statistic):</th>  <td> 0.617</td>  \n",
       "</tr>\n",
       "<tr>\n",
       "  <th>Time:</th>                         <td>00:43:34</td>             <th>  Log-Likelihood:    </th> <td> -8069.9</td> \n",
       "</tr>\n",
       "<tr>\n",
       "  <th>No. Observations:</th>              <td>  5446</td>              <th>  AIC:               </th> <td>1.615e+04</td>\n",
       "</tr>\n",
       "<tr>\n",
       "  <th>Df Residuals:</th>                  <td>  5441</td>              <th>  BIC:               </th> <td>1.618e+04</td>\n",
       "</tr>\n",
       "<tr>\n",
       "  <th>Df Model:</th>                      <td>     4</td>              <th>                     </th>     <td> </td>    \n",
       "</tr>\n",
       "<tr>\n",
       "  <th>Covariance Type:</th>              <td>nonrobust</td>            <th>                     </th>     <td> </td>    \n",
       "</tr>\n",
       "</table>\n",
       "<table class=\"simpletable\">\n",
       "<tr>\n",
       "     <td></td>        <th>coef</th>     <th>std err</th>      <th>t</th>      <th>P>|t|</th>  <th>[0.025</th>    <th>0.975]</th>  \n",
       "</tr>\n",
       "<tr>\n",
       "  <th>0, 20</th>   <td>    0.9794</td> <td>    0.077</td> <td>   12.671</td> <td> 0.000</td> <td>    0.828</td> <td>    1.131</td>\n",
       "</tr>\n",
       "<tr>\n",
       "  <th>20, 40</th>  <td>    0.9182</td> <td>    0.025</td> <td>   36.280</td> <td> 0.000</td> <td>    0.869</td> <td>    0.968</td>\n",
       "</tr>\n",
       "<tr>\n",
       "  <th>40, 60</th>  <td>    0.9635</td> <td>    0.021</td> <td>   46.412</td> <td> 0.000</td> <td>    0.923</td> <td>    1.004</td>\n",
       "</tr>\n",
       "<tr>\n",
       "  <th>60, 80</th>  <td>    0.9317</td> <td>    0.040</td> <td>   23.221</td> <td> 0.000</td> <td>    0.853</td> <td>    1.010</td>\n",
       "</tr>\n",
       "<tr>\n",
       "  <th>80, 100</th> <td>    1.0040</td> <td>    0.088</td> <td>   11.348</td> <td> 0.000</td> <td>    0.831</td> <td>    1.177</td>\n",
       "</tr>\n",
       "</table>\n",
       "<table class=\"simpletable\">\n",
       "<tr>\n",
       "  <th>Omnibus:</th>       <td>54905.306</td> <th>  Durbin-Watson:     </th> <td>   2.001</td> \n",
       "</tr>\n",
       "<tr>\n",
       "  <th>Prob(Omnibus):</th>  <td> 0.000</td>   <th>  Jarque-Bera (JB):  </th> <td> 562.967</td> \n",
       "</tr>\n",
       "<tr>\n",
       "  <th>Skew:</th>           <td> 0.424</td>   <th>  Prob(JB):          </th> <td>5.67e-123</td>\n",
       "</tr>\n",
       "<tr>\n",
       "  <th>Kurtosis:</th>       <td> 1.672</td>   <th>  Cond. No.          </th> <td>    4.26</td> \n",
       "</tr>\n",
       "</table><br/><br/>Notes:<br/>[1] Standard Errors assume that the covariance matrix of the errors is correctly specified."
      ],
      "text/plain": [
       "<class 'statsmodels.iolib.summary.Summary'>\n",
       "\"\"\"\n",
       "                                   OLS Regression Results                                   \n",
       "============================================================================================\n",
       "Dep. Variable:     payout_under_2.5_pinacle_closing   R-squared:                       0.000\n",
       "Model:                                          OLS   Adj. R-squared:                 -0.000\n",
       "Method:                               Least Squares   F-statistic:                    0.6636\n",
       "Date:                              Fri, 03 Jun 2022   Prob (F-statistic):              0.617\n",
       "Time:                                      00:43:34   Log-Likelihood:                -8069.9\n",
       "No. Observations:                              5446   AIC:                         1.615e+04\n",
       "Df Residuals:                                  5441   BIC:                         1.618e+04\n",
       "Df Model:                                         4                                         \n",
       "Covariance Type:                          nonrobust                                         \n",
       "==============================================================================\n",
       "                 coef    std err          t      P>|t|      [0.025      0.975]\n",
       "------------------------------------------------------------------------------\n",
       "0, 20          0.9794      0.077     12.671      0.000       0.828       1.131\n",
       "20, 40         0.9182      0.025     36.280      0.000       0.869       0.968\n",
       "40, 60         0.9635      0.021     46.412      0.000       0.923       1.004\n",
       "60, 80         0.9317      0.040     23.221      0.000       0.853       1.010\n",
       "80, 100        1.0040      0.088     11.348      0.000       0.831       1.177\n",
       "==============================================================================\n",
       "Omnibus:                    54905.306   Durbin-Watson:                   2.001\n",
       "Prob(Omnibus):                  0.000   Jarque-Bera (JB):              562.967\n",
       "Skew:                           0.424   Prob(JB):                    5.67e-123\n",
       "Kurtosis:                       1.672   Cond. No.                         4.26\n",
       "==============================================================================\n",
       "\n",
       "Notes:\n",
       "[1] Standard Errors assume that the covariance matrix of the errors is correctly specified.\n",
       "\"\"\""
      ]
     },
     "execution_count": 136,
     "metadata": {},
     "output_type": "execute_result"
    }
   ],
   "source": [
    "results.summary()"
   ]
  },
  {
   "cell_type": "code",
   "execution_count": null,
   "id": "3d7c50b5",
   "metadata": {},
   "outputs": [],
   "source": [
    "# Random Forest"
   ]
  },
  {
   "cell_type": "code",
   "execution_count": null,
   "id": "318ac051",
   "metadata": {},
   "outputs": [],
   "source": [
    "import numpy as np\n",
    "import pandas as pd\n",
    "from sklearn.model_selection import train_test_split\n",
    "from sklearn.ensemble import RandomForestRegressor\n",
    "my_model = RandomForestRegressor(random_state=0).fit(X_step_joao, y)"
   ]
  },
  {
   "cell_type": "code",
   "execution_count": null,
   "id": "7c92f724",
   "metadata": {},
   "outputs": [],
   "source": [
    "y_pred = my_model.predict(X_step_joao)"
   ]
  },
  {
   "cell_type": "code",
   "execution_count": null,
   "id": "f282ede0",
   "metadata": {},
   "outputs": [],
   "source": [
    "import sklearn\n",
    "import shap"
   ]
  },
  {
   "cell_type": "code",
   "execution_count": null,
   "id": "bf8ec9a1",
   "metadata": {},
   "outputs": [],
   "source": [
    "r2train = sklearn.metrics.r2_score(y, y_pred)"
   ]
  },
  {
   "cell_type": "code",
   "execution_count": null,
   "id": "2b02665f",
   "metadata": {},
   "outputs": [],
   "source": [
    "r2train"
   ]
  },
  {
   "cell_type": "code",
   "execution_count": null,
   "id": "4fd1128b",
   "metadata": {},
   "outputs": [],
   "source": [
    "# SHAP values"
   ]
  },
  {
   "cell_type": "code",
   "execution_count": null,
   "id": "3bb4b403",
   "metadata": {},
   "outputs": [],
   "source": [
    "#import shap  # package used to calculate Shap values\n",
    "\n",
    "# Create object that can calculate shap values\n",
    "explainer = shap.TreeExplainer(my_model)\n",
    "\n",
    "# calculate shap values. This is what we will plot.\n",
    "# Calculate shap_values for all of val_X rather than a single row, to have more data for plot.\n",
    "shap_values = explainer.shap_values(X_step_joao)\n",
    "\n",
    "# Make plot. Index of [1] is explained in text below.\n",
    "shap.summary_plot(shap_values, X_step_joao)\n",
    "\n",
    "#- Vertical location shows what feature it is depicting\n",
    "#- Color shows whether that feature was high or low for that row of the dataset\n",
    "#- Horizontal location shows whether the effect of that value caused a higher or lower prediction."
   ]
  },
  {
   "cell_type": "code",
   "execution_count": null,
   "id": "1cad66ea",
   "metadata": {},
   "outputs": [],
   "source": [
    "## Each dot represents a row of the data. The horizontal location is the actual value from the dataset, and the vertical location shows what having that value did to the prediction.\n",
    "#shap.dependence_plot('%vig_p_bool', shap_values, X_step3, dot_size=10)"
   ]
  },
  {
   "cell_type": "code",
   "execution_count": null,
   "id": "d4a37281",
   "metadata": {},
   "outputs": [],
   "source": [
    "shap.summary_plot(shap_values, X_step_joao, plot_type=\"bar\")"
   ]
  },
  {
   "cell_type": "code",
   "execution_count": null,
   "id": "854b8818",
   "metadata": {},
   "outputs": [],
   "source": [
    "pip install XGBoost"
   ]
  },
  {
   "cell_type": "code",
   "execution_count": null,
   "id": "25e54b2a",
   "metadata": {},
   "outputs": [],
   "source": [
    "import xgboost as xgb"
   ]
  },
  {
   "cell_type": "code",
   "execution_count": null,
   "id": "4bb6e59d",
   "metadata": {},
   "outputs": [],
   "source": [
    "m = xgb.XGBRegressor()"
   ]
  },
  {
   "cell_type": "code",
   "execution_count": null,
   "id": "ab394d46",
   "metadata": {},
   "outputs": [],
   "source": [
    "X_step3.rename(columns = {'PC<2.5_P_boolean':'PC_under_2.5_P_boolean'}, inplace = True)"
   ]
  },
  {
   "cell_type": "code",
   "execution_count": null,
   "id": "d5c0824a",
   "metadata": {},
   "outputs": [],
   "source": [
    "X_step3.columns"
   ]
  },
  {
   "cell_type": "code",
   "execution_count": null,
   "id": "cbbd080c",
   "metadata": {},
   "outputs": [],
   "source": [
    "m.fit(X_step3,y) "
   ]
  },
  {
   "cell_type": "code",
   "execution_count": null,
   "id": "556bcad5",
   "metadata": {},
   "outputs": [],
   "source": [
    "y_pred = m.predict(X_step3)"
   ]
  },
  {
   "cell_type": "code",
   "execution_count": null,
   "id": "27915274",
   "metadata": {},
   "outputs": [],
   "source": [
    "r2train = sklearn.metrics.r2_score(y, y_pred)"
   ]
  },
  {
   "cell_type": "code",
   "execution_count": null,
   "id": "44e99c67",
   "metadata": {},
   "outputs": [],
   "source": [
    "r2train"
   ]
  },
  {
   "cell_type": "code",
   "execution_count": null,
   "id": "b902acc0",
   "metadata": {},
   "outputs": [],
   "source": [
    "import XGBoost  # package used to calculate Shap values\n",
    "\n",
    "# Create object that can calculate shap values\n",
    "explainer = shap.TreeExplainer(my_model)\n",
    "\n",
    "# calculate shap values. This is what we will plot.\n",
    "# Calculate shap_values for all of val_X rather than a single row, to have more data for plot.\n",
    "shap_values = explainer.shap_values(X_step3)\n",
    "\n",
    "# Make plot. Index of [1] is explained in text below.\n",
    "shap.summary_plot(shap_values, X_step3)\n",
    "\n",
    "#- Vertical location shows what feature it is depicting\n",
    "#- Color shows whether that feature was high or low for that row of the dataset\n",
    "#- Horizontal location shows whether the effect of that value caused a higher or lower prediction."
   ]
  },
  {
   "cell_type": "code",
   "execution_count": null,
   "id": "dce7a566",
   "metadata": {},
   "outputs": [],
   "source": []
  },
  {
   "cell_type": "code",
   "execution_count": null,
   "id": "1474eff1",
   "metadata": {},
   "outputs": [],
   "source": []
  },
  {
   "cell_type": "code",
   "execution_count": null,
   "id": "845308ac",
   "metadata": {},
   "outputs": [],
   "source": [
    "data_linear_booleans_lean_P_under = data_linear_booleans_lean_P_under[data_linear_booleans_lean_P_under['payout_under_2.5_pinacle'].isnull()==False]"
   ]
  },
  {
   "cell_type": "code",
   "execution_count": null,
   "id": "68c366a3",
   "metadata": {},
   "outputs": [],
   "source": [
    "y"
   ]
  },
  {
   "cell_type": "code",
   "execution_count": null,
   "id": "da586deb",
   "metadata": {},
   "outputs": [],
   "source": [
    "model = LinearRegression()\n",
    "model_fit = model.fit(X, y)"
   ]
  },
  {
   "cell_type": "code",
   "execution_count": null,
   "id": "dbee8572",
   "metadata": {},
   "outputs": [],
   "source": [
    "result = sm.ols(formula='payout_under_2 ~ Pin_pays_better_under_boolean + PC<2.5_P_boolean + 1.0_to_1.5 + 1.5_to_2.0 + 2.0_to_3.0 + 3.0_to_99999.0', data=data_linear_booleans_lean_P_under).fit()\n",
    " \n",
    "    #smf.ols(formula='weight ~ horsepower + cylinders', data=mpg).fit()\n",
    "    \n",
    "# printing the summary table\n",
    "print(result.summary())"
   ]
  },
  {
   "cell_type": "code",
   "execution_count": null,
   "id": "755553b6",
   "metadata": {},
   "outputs": [],
   "source": [
    "model_fit.summary()"
   ]
  },
  {
   "cell_type": "code",
   "execution_count": null,
   "id": "8bbdb2ad",
   "metadata": {},
   "outputs": [],
   "source": [
    "#Features that decrease our chances\n",
    "for x in [2, 1, 0, 13, 4, 12, 11]:\n",
    "    print(f'{X.columns[x]}: {importance[x]}')"
   ]
  },
  {
   "cell_type": "code",
   "execution_count": null,
   "id": "9dafee46",
   "metadata": {},
   "outputs": [],
   "source": [
    "#Features that increase our chances\n",
    "for x in [6, 8, 7, 5, 9, 10, 3]:\n",
    "    print(f'{X.columns[x]}: {importance[x]}')"
   ]
  },
  {
   "cell_type": "code",
   "execution_count": null,
   "id": "712d2193",
   "metadata": {},
   "outputs": [],
   "source": []
  },
  {
   "cell_type": "code",
   "execution_count": null,
   "id": "c8d35609",
   "metadata": {},
   "outputs": [],
   "source": []
  },
  {
   "cell_type": "code",
   "execution_count": null,
   "id": "013a015c",
   "metadata": {},
   "outputs": [],
   "source": []
  },
  {
   "cell_type": "code",
   "execution_count": null,
   "id": "4221e5d9",
   "metadata": {},
   "outputs": [],
   "source": []
  },
  {
   "cell_type": "code",
   "execution_count": null,
   "id": "ef9a59b2",
   "metadata": {},
   "outputs": [],
   "source": []
  }
 ],
 "metadata": {
  "kernelspec": {
   "display_name": "Python 3 (ipykernel)",
   "language": "python",
   "name": "python3"
  },
  "language_info": {
   "codemirror_mode": {
    "name": "ipython",
    "version": 3
   },
   "file_extension": ".py",
   "mimetype": "text/x-python",
   "name": "python",
   "nbconvert_exporter": "python",
   "pygments_lexer": "ipython3",
   "version": "3.8.12"
  },
  "toc": {
   "base_numbering": 1,
   "nav_menu": {},
   "number_sections": true,
   "sideBar": true,
   "skip_h1_title": false,
   "title_cell": "Table of Contents",
   "title_sidebar": "Contents",
   "toc_cell": false,
   "toc_position": {},
   "toc_section_display": true,
   "toc_window_display": true
  },
  "varInspector": {
   "cols": {
    "lenName": 16,
    "lenType": 16,
    "lenVar": 40
   },
   "kernels_config": {
    "python": {
     "delete_cmd_postfix": "",
     "delete_cmd_prefix": "del ",
     "library": "var_list.py",
     "varRefreshCmd": "print(var_dic_list())"
    },
    "r": {
     "delete_cmd_postfix": ") ",
     "delete_cmd_prefix": "rm(",
     "library": "var_list.r",
     "varRefreshCmd": "cat(var_dic_list()) "
    }
   },
   "types_to_exclude": [
    "module",
    "function",
    "builtin_function_or_method",
    "instance",
    "_Feature"
   ],
   "window_display": false
  }
 },
 "nbformat": 4,
 "nbformat_minor": 5
}
