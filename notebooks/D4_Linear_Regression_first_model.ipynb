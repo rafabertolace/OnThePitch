{
 "cells": [
  {
   "cell_type": "markdown",
   "id": "d1816ff7",
   "metadata": {},
   "source": [
    "# Imports"
   ]
  },
  {
   "cell_type": "code",
   "execution_count": 1,
   "id": "06e1f50a",
   "metadata": {},
   "outputs": [],
   "source": [
    "import pandas as pd\n",
    "import os\n",
    "from os import listdir\n",
    "from os.path import isfile, join\n",
    "import matplotlib.pyplot as plt\n",
    "from scipy.stats import mode\n",
    "from sklearn.preprocessing import OneHotEncoder\n",
    "from sklearn.linear_model import LogisticRegression"
   ]
  },
  {
   "cell_type": "markdown",
   "id": "b295e690",
   "metadata": {},
   "source": [
    "# Loading the Dataframe"
   ]
  },
  {
   "cell_type": "code",
   "execution_count": 2,
   "id": "b95d2a37",
   "metadata": {},
   "outputs": [
    {
     "data": {
      "text/plain": [
       "'/home/jonathan/code/rafabertolace/OnThePitch/notebooks'"
      ]
     },
     "execution_count": 2,
     "metadata": {},
     "output_type": "execute_result"
    }
   ],
   "source": [
    "pwd"
   ]
  },
  {
   "cell_type": "markdown",
   "id": "3fa4f75c",
   "metadata": {},
   "source": [
    "## Merging the Seasons csv files (2019-2020 untill 2021-2022)"
   ]
  },
  {
   "cell_type": "code",
   "execution_count": 3,
   "id": "39b6d4af",
   "metadata": {},
   "outputs": [
    {
     "name": "stdout",
     "output_type": "stream",
     "text": [
      "['I1 (3).csv', 'N1 (1).csv', 'F1.csv', 'B1 (2).csv:Zone.Identifier', 'N1 (2).csv', 'P1 (6).csv', 'F1 (2).csv', 'P1 (4).csv', 'SC0 (2).csv', 'G1 (2).csv', 'D1.csv', 'SP1 (1).csv', 'E0 (2).csv', 'I1 (1).csv:Zone.Identifier', 'SC0 (1).csv', 'F1.csv:Zone.Identifier', 'D1 (2).csv:Zone.Identifier', 'I1 (3).csv:Zone.Identifier', 'SP1.csv', 'D1.csv:Zone.Identifier', 'SC0.csv', 'I1 (2).csv', 'Turkey_2021_2022.csv.csv', 'B1 (2).csv', 'B1 (1).csv', 'F1 (1).csv', 'Turkey_2019_2020.csv.csv', 'SP1 (2).csv:Zone.Identifier', 'Turkey_2020_2021.csv.csv', 'SP1.csv:Zone.Identifier', 'SP1 (2).csv', 'G1.csv', 'SC0 (1).csv:Zone.Identifier', 'E0.csv', 'SC0.csv:Zone.Identifier', 'I1 (1).csv', 'F1 (2).csv:Zone.Identifier', 'N1.csv', 'SC0 (2).csv:Zone.Identifier', 'D1 (2).csv', 'D1 (1).csv', 'I1 (2).csv:Zone.Identifier', 'B1 (1).csv:Zone.Identifier', 'E0 (1).csv', 'F1 (1).csv:Zone.Identifier', 'P1 (5).csv', 'G1 (1).csv', 'D1 (1).csv:Zone.Identifier', 'B1.csv:Zone.Identifier', 'B1.csv', 'SP1 (1).csv:Zone.Identifier']\n"
     ]
    }
   ],
   "source": [
    "print(os.listdir('../raw_data/All'))"
   ]
  },
  {
   "cell_type": "code",
   "execution_count": 4,
   "id": "2208c966",
   "metadata": {},
   "outputs": [],
   "source": [
    "files = [file for file in os.listdir('../raw_data/All') if file.endswith('.csv')]\n",
    "data = pd.DataFrame()\n",
    "\n",
    "for file in files:\n",
    "    df = pd.read_csv('../raw_data/All/' + file)\n",
    "    df['country']=str(file)[0:2]\n",
    "    data = pd.concat([data, df])"
   ]
  },
  {
   "cell_type": "code",
   "execution_count": 5,
   "id": "fe07720d",
   "metadata": {},
   "outputs": [
    {
     "name": "stdout",
     "output_type": "stream",
     "text": [
      "Div\n",
      "Date\n",
      "Time\n",
      "HomeTeam\n",
      "AwayTeam\n",
      "FTHG\n",
      "FTAG\n",
      "FTR\n",
      "HTHG\n",
      "HTAG\n",
      "HTR\n",
      "HS\n",
      "AS\n",
      "HST\n",
      "AST\n",
      "HF\n",
      "AF\n",
      "HC\n",
      "AC\n",
      "HY\n",
      "AY\n",
      "HR\n",
      "AR\n",
      "B365H\n",
      "B365D\n",
      "B365A\n",
      "BWH\n",
      "BWD\n",
      "BWA\n",
      "IWH\n",
      "IWD\n",
      "IWA\n",
      "PSH\n",
      "PSD\n",
      "PSA\n",
      "WHH\n",
      "WHD\n",
      "WHA\n",
      "VCH\n",
      "VCD\n",
      "VCA\n",
      "MaxH\n",
      "MaxD\n",
      "MaxA\n",
      "AvgH\n",
      "AvgD\n",
      "AvgA\n",
      "B365>2.5\n",
      "B365<2.5\n",
      "P>2.5\n",
      "P<2.5\n",
      "Max>2.5\n",
      "Max<2.5\n",
      "Avg>2.5\n",
      "Avg<2.5\n",
      "AHh\n",
      "B365AHH\n",
      "B365AHA\n",
      "PAHH\n",
      "PAHA\n",
      "MaxAHH\n",
      "MaxAHA\n",
      "AvgAHH\n",
      "AvgAHA\n",
      "B365CH\n",
      "B365CD\n",
      "B365CA\n",
      "BWCH\n",
      "BWCD\n",
      "BWCA\n",
      "IWCH\n",
      "IWCD\n",
      "IWCA\n",
      "PSCH\n",
      "PSCD\n",
      "PSCA\n",
      "WHCH\n",
      "WHCD\n",
      "WHCA\n",
      "VCCH\n",
      "VCCD\n",
      "VCCA\n",
      "MaxCH\n",
      "MaxCD\n",
      "MaxCA\n",
      "AvgCH\n",
      "AvgCD\n",
      "AvgCA\n",
      "B365C>2.5\n",
      "B365C<2.5\n",
      "PC>2.5\n",
      "PC<2.5\n",
      "MaxC>2.5\n",
      "MaxC<2.5\n",
      "AvgC>2.5\n",
      "AvgC<2.5\n",
      "AHCh\n",
      "B365CAHH\n",
      "B365CAHA\n",
      "PCAHH\n",
      "PCAHA\n",
      "MaxCAHH\n",
      "MaxCAHA\n",
      "AvgCAHH\n",
      "AvgCAHA\n",
      "country\n",
      "Referee\n",
      "Unnamed: 105\n"
     ]
    }
   ],
   "source": [
    "for col_name in data.columns: \n",
    "    print(col_name)"
   ]
  },
  {
   "cell_type": "markdown",
   "id": "32c8ad8d",
   "metadata": {},
   "source": [
    "# Features Engineering"
   ]
  },
  {
   "cell_type": "markdown",
   "id": "c84939f7",
   "metadata": {},
   "source": [
    "### Number of Goals, Over and Under"
   ]
  },
  {
   "cell_type": "code",
   "execution_count": 6,
   "id": "fed74758",
   "metadata": {},
   "outputs": [],
   "source": [
    "# total number of goals = goals from the home team + goals from visiting team\n",
    "data['nb_goals']=data['FTHG']+data['FTAG']\n",
    "\n",
    "# boolean: true or false regarding whether they were more than 2.5 goals\n",
    "data['over_2.5_goals']=data['nb_goals']>2.5\n",
    "\n",
    "# boolean: true or false regarding whether they were less than 2.5 goals\n",
    "data['under_2.5_goals']=data['nb_goals']<2.5"
   ]
  },
  {
   "cell_type": "markdown",
   "id": "3ffc1554",
   "metadata": {},
   "source": [
    "### Payout"
   ]
  },
  {
   "cell_type": "markdown",
   "id": "466f6de3",
   "metadata": {},
   "source": [
    "  Payout of betting on over/under 2.5 goals: we get 0 if we lose the bet, we get the Avg if we win the bet (Avg = market average of the odds)\n"
   ]
  },
  {
   "cell_type": "markdown",
   "id": "f8703164",
   "metadata": {},
   "source": [
    "#### Payout Opening"
   ]
  },
  {
   "cell_type": "code",
   "execution_count": 7,
   "id": "4b10653e",
   "metadata": {},
   "outputs": [],
   "source": [
    "# payout under 2.5 for Average OPENING odds\n",
    "data['payout_avg_under_2.5'] = data['under_2.5_goals']*data['Avg<2.5']\n",
    "\n",
    "# payout over 2.5 for Average OPENING odds\n",
    "data['payout_avg_over_2.5'] = data['over_2.5_goals']*data['Avg>2.5']\n",
    "\n",
    "#payout UNDER 2.5 for PINACLE specifically\n",
    "data['payout_under_2.5_pinacle'] = data['under_2.5_goals']*data['P<2.5']\n",
    "\n",
    "#payout OVER 2.5 for PINACLE specifically\n",
    "data['payout_over_2.5_pinacle'] = data['over_2.5_goals']*data['P>2.5']\n",
    "\n",
    "#payout UNDER 2.5 for 365 specifically\n",
    "data['payout_under_2.5_365'] = data['under_2.5_goals']*data['B365<2.5']\n",
    "\n",
    "#payout OVER 2.5 for 365 specifically\n",
    "data['payout_over_2.5_365'] = data['over_2.5_goals']*data['B365>2.5']"
   ]
  },
  {
   "cell_type": "markdown",
   "id": "62980574",
   "metadata": {},
   "source": [
    "#### Payout Closing"
   ]
  },
  {
   "cell_type": "code",
   "execution_count": 8,
   "id": "2a533e43",
   "metadata": {},
   "outputs": [],
   "source": [
    "# payout under 2.5 for Average CLOSING odds\n",
    "data['payout_avg_under_closing_2.5'] = data['under_2.5_goals']*data['AvgC<2.5']\n",
    "\n",
    "# payout over 2.5 for Average CLOSING odds\n",
    "data['payout_avg_over_closing_2.5'] = data['over_2.5_goals']*data['AvgC>2.5']\n",
    "\n",
    "#payout UNDER 2.5 for PINACLE closing ddds specifically\n",
    "data['payout_under_2.5_pinacle_closing'] = data['under_2.5_goals']*data['PC<2.5']\n",
    "\n",
    "#payout OVER 2.5 for PINACLE closing odds specifically\n",
    "data['payout_over_2.5_pinacle_closing'] = data['over_2.5_goals']*data['PC>2.5']\n",
    "\n",
    "#payout UNDER 2.5 for 365 closing odds specifically\n",
    "data['payout_under_2.5_365_closing'] = data['under_2.5_goals']*data['B365C<2.5']\n",
    "\n",
    "#payout OVER 2.5 for 365 closing odds specifically\n",
    "data['payout_over_2.5_365_closing'] = data['over_2.5_goals']*data['B365C>2.5']"
   ]
  },
  {
   "cell_type": "markdown",
   "id": "9ad9c30c",
   "metadata": {},
   "source": [
    "### Implied Probability"
   ]
  },
  {
   "cell_type": "markdown",
   "id": "c6800d2f",
   "metadata": {},
   "source": [
    "#### Implied Probability Opening"
   ]
  },
  {
   "cell_type": "code",
   "execution_count": 9,
   "id": "bdfcd6a1",
   "metadata": {},
   "outputs": [],
   "source": [
    "#Implied Probability UNDER 2.5 goals for for overall market opening odds (Avg) \n",
    "data['Implied Probability <2.5 avg']=1/data['Avg<2.5']*100\n",
    "\n",
    "#Implied Probability OVER 2.5 goals for for overall market opening odds (Avg) \n",
    "data['Implied Probability >2.5 avg']=1/data['Avg>2.5']*100\n",
    "\n",
    "#Implied Probability UNDER 2.5 goals for PINACLE\n",
    "data['Implied Probability <2.5 pinacle']=1/data['P<2.5']*100\n",
    "\n",
    "#Implied Probability OVER 2.5 goals for PINACLE\n",
    "data['Implied Probability >2.5 pinacle']=1/data['P>2.5']*100\n",
    "\n",
    "#Implied Probability UNDER 2.5 goals for 365\n",
    "data['Implied Probability <2.5 365']=1/data['B365<2.5']*100\n",
    "\n",
    "#Implied Probability OVER 2.5 goals for 365\n",
    "data['Implied Probability >2.5 365']=1/data['B365>2.5']*100"
   ]
  },
  {
   "cell_type": "markdown",
   "id": "e6c491f1",
   "metadata": {},
   "source": [
    "#### Implied Probability Closing"
   ]
  },
  {
   "cell_type": "code",
   "execution_count": 10,
   "id": "4cdcecbb",
   "metadata": {},
   "outputs": [],
   "source": [
    "#Implied Probability UNDER 2.5 goals for overall market closing odds (AvgC)\n",
    "data['Implied Probability <2.5 avg closing']=1/data['AvgC<2.5']*100\n",
    "\n",
    "#Implied Probability OVER 2.5 goals for overall market closing odds (AvgC)\n",
    "data['Implied Probability >2.5 avg closing']=1/data['AvgC>2.5']*100\n",
    "\n",
    "#Implied Probability UNDER 2.5 goals for PINACLE closing odds\n",
    "data['Implied Probability <2.5 pinacle closing']=1/data['PC<2.5']*100\n",
    "\n",
    "#Implied Probability OVER 2.5 goals for PINACLE closing odds\n",
    "data['Implied Probability >2.5 pinacle closing']=1/data['PC>2.5']*100\n",
    "\n",
    "#Implied Probability UNDER 2.5 goals for 365 closing odds\n",
    "data['Implied Probability <2.5 365 closing']=1/data['B365C<2.5']*100\n",
    "\n",
    "#Implied Probability OVER 2.5 goals for 365 closing odds\n",
    "data['Implied Probability >2.5 365 closing']=1/data['B365C>2.5']*100"
   ]
  },
  {
   "cell_type": "markdown",
   "id": "56fa1da6",
   "metadata": {},
   "source": [
    "### Binning the implied probabilities"
   ]
  },
  {
   "cell_type": "markdown",
   "id": "aa286a41",
   "metadata": {},
   "source": [
    "#### Binning IP Opening"
   ]
  },
  {
   "cell_type": "code",
   "execution_count": 11,
   "id": "8e1c90a8",
   "metadata": {},
   "outputs": [],
   "source": [
    "bins = [0, 5, 10, 15, 20, 25, 30, 35, 40, 45, 50, 55, 60, 65, 70, 75, 80, 85, 90, 95, 100]\n",
    "\n",
    "#Binning UNDER 2.5 Average Market opening odds\n",
    "data['binned <2.5 avg'] = pd.cut(data['Implied Probability <2.5 avg'], bins)\n",
    "\n",
    "#Binning Over 2.5 Average Market opening odds\n",
    "data['binned >2.5 avg'] = pd.cut(data['Implied Probability >2.5 avg'], bins)\n",
    "\n",
    "#Binned UNDER 2.5 Pinnacle opening odds\n",
    "data['binned <2.5 pinacle'] = pd.cut(data['Implied Probability <2.5 pinacle'], bins)\n",
    "\n",
    "#Binned OVER 2.5 Pinnacle\n",
    "data['binned >2.5 pinacle'] = pd.cut(data['Implied Probability >2.5 pinacle'], bins)\n",
    "\n",
    "#Binned UNDER 2.5 bet365 OPENING odds\n",
    "data['binned <2.5 365'] = pd.cut(data['Implied Probability <2.5 365'], bins)\n",
    "\n",
    "#Binned OVER 2.5 bet365 OPENING odds\n",
    "data['binned >2.5 365'] = pd.cut(data['Implied Probability >2.5 365'], bins)"
   ]
  },
  {
   "cell_type": "markdown",
   "id": "17e43270",
   "metadata": {},
   "source": [
    "#### Binning IP Closing"
   ]
  },
  {
   "cell_type": "code",
   "execution_count": 12,
   "id": "2beea9ab",
   "metadata": {},
   "outputs": [],
   "source": [
    "bins = [0, 5, 10, 15, 20, 25, 30, 35, 40, 45, 50, 55, 60, 65, 70, 75, 80, 85, 90, 95, 100]\n",
    "\n",
    "#Binning UNDER 2.5 Average Market closing odds\n",
    "data['binned <2.5 avg closing'] = pd.cut(data['Implied Probability <2.5 avg closing'], bins)\n",
    "\n",
    "#Binning OVER 2.5 Average Market closing odds\n",
    "data['binned >2.5 avg closing'] = pd.cut(data['Implied Probability >2.5 avg closing'], bins)\n",
    "\n",
    "#Binned UNDER 2.5 Pinnacle closing odds\n",
    "data['binned <2.5 pinacle closing'] = pd.cut(data['Implied Probability <2.5 pinacle closing'], bins)\n",
    "\n",
    "#Binned OVER 2.5 Pinnacle CLOSING odds\n",
    "data['binned >2.5 pinacle closing'] = pd.cut(data['Implied Probability >2.5 pinacle closing'], bins)\n",
    "\n",
    "#Binned UNDER 2.5 bet365 CLOSING odds\n",
    "data['binned <2.5 365 closing'] = pd.cut(data['Implied Probability <2.5 365 closing'], bins)\n",
    "\n",
    "#Binned OVER 2.5 bet365 CLOSING odds\n",
    "data['binned >2.5 365 closing'] = pd.cut(data['Implied Probability >2.5 365 closing'], bins)"
   ]
  },
  {
   "cell_type": "markdown",
   "id": "c9a4b662",
   "metadata": {},
   "source": [
    "### Binning the odds"
   ]
  },
  {
   "cell_type": "markdown",
   "id": "b86e54dd",
   "metadata": {},
   "source": [
    "#### Binning Odds Opening"
   ]
  },
  {
   "cell_type": "code",
   "execution_count": 13,
   "id": "7805f020",
   "metadata": {},
   "outputs": [],
   "source": [
    "bins = [1, 1.5, 2, 3, 99999]\n",
    "\n",
    "#Binning UNDER 2.5 Average Market opening odds\n",
    "data['binned odds <2.5 avg'] = pd.cut(data['Avg<2.5'], bins)\n",
    "\n",
    "#Binning Over 2.5 Average Market opening odds\n",
    "data['binned odds >2.5 avg'] = pd.cut(data['Avg>2.5'], bins)\n",
    "\n",
    "#Binned UNDER 2.5 Pinnacle opening odds\n",
    "data['binned odds <2.5 pinacle'] = pd.cut(data['P<2.5'], bins)\n",
    "\n",
    "#Binned OVER 2.5 Pinnacle\n",
    "data['binned odds >2.5 pinacle'] = pd.cut(data['P>2.5'], bins)\n",
    "\n",
    "#Binned UNDER 2.5 bet365 OPENING odds\n",
    "data['binned odds <2.5 365'] = pd.cut(data['B365<2.5'], bins)\n",
    "\n",
    "#Binned OVER 2.5 bet365 OPENING odds\n",
    "data['binned odds >2.5 365'] = pd.cut(data['B365>2.5'], bins)"
   ]
  },
  {
   "cell_type": "markdown",
   "id": "4df96d90",
   "metadata": {},
   "source": [
    "#### Binning Odds Closing"
   ]
  },
  {
   "cell_type": "code",
   "execution_count": 14,
   "id": "d29d38aa",
   "metadata": {},
   "outputs": [],
   "source": [
    "bins = [1, 1.5, 2, 3, 99999]\n",
    "\n",
    "#Binning UNDER 2.5 Average Market opening odds\n",
    "data['binned odds <2.5 avg closing'] = pd.cut(data['AvgC<2.5'], bins)\n",
    "\n",
    "#Binning Over 2.5 Average Market opening odds\n",
    "data['binned odds >2.5 avg closing'] = pd.cut(data['AvgC>2.5'], bins)\n",
    "\n",
    "#Binned UNDER 2.5 Pinnacle opening odds\n",
    "data['binned odds <2.5 pinacle closing'] = pd.cut(data['PC<2.5'], bins)\n",
    "\n",
    "#Binned OVER 2.5 Pinnacle\n",
    "data['binned odds >2.5 pinacle closing'] = pd.cut(data['PC>2.5'], bins)\n",
    "\n",
    "#Binned UNDER 2.5 bet365 OPENING odds\n",
    "data['binned odds <2.5 365 closing'] = pd.cut(data['B365C<2.5'], bins)\n",
    "\n",
    "#Binned OVER 2.5 bet365 OPENING odds\n",
    "data['binned odds >2.5 365 closing'] = pd.cut(data['B365C>2.5'], bins)"
   ]
  },
  {
   "cell_type": "code",
   "execution_count": 15,
   "id": "c626c12b",
   "metadata": {},
   "outputs": [
    {
     "data": {
      "text/plain": [
       "16"
      ]
     },
     "execution_count": 15,
     "metadata": {},
     "output_type": "execute_result"
    }
   ],
   "source": [
    "data['binned odds <2.5 pinacle closing'].isnull().sum()"
   ]
  },
  {
   "cell_type": "markdown",
   "id": "c7b8d585",
   "metadata": {},
   "source": [
    "### Other Features from D3"
   ]
  },
  {
   "cell_type": "code",
   "execution_count": 16,
   "id": "f72f7c43",
   "metadata": {},
   "outputs": [],
   "source": [
    "data['Pin_pays_better_under_boolean'] = data['PC<2.5'] > data['AvgC<2.5']"
   ]
  },
  {
   "cell_type": "code",
   "execution_count": 17,
   "id": "7dbb247c",
   "metadata": {},
   "outputs": [],
   "source": [
    "data['Pin_pays_better_under_difference'] = data['PC<2.5'] / data['AvgC<2.5']"
   ]
  },
  {
   "cell_type": "code",
   "execution_count": 18,
   "id": "1256d97d",
   "metadata": {},
   "outputs": [],
   "source": [
    "data['%vig_p'] = (1 - (1 / (1/data['PC>2.5'] + 1/data['PC<2.5'])))*100"
   ]
  },
  {
   "cell_type": "code",
   "execution_count": 19,
   "id": "bb4835d9",
   "metadata": {},
   "outputs": [],
   "source": [
    "data['%vig_p_bool'] = data['%vig_p']>3.3"
   ]
  },
  {
   "cell_type": "code",
   "execution_count": 20,
   "id": "5cdfa74a",
   "metadata": {},
   "outputs": [],
   "source": [
    "data['%vig_avg'] = (1 - (1 / (1/data['AvgC>2.5'] + 1/data['AvgC<2.5'])))*100"
   ]
  },
  {
   "cell_type": "code",
   "execution_count": 21,
   "id": "cfec5316",
   "metadata": {},
   "outputs": [],
   "source": [
    "data['PC<2.5_P_boolean'] = data['PC<2.5'] < data['P<2.5']"
   ]
  },
  {
   "cell_type": "code",
   "execution_count": 22,
   "id": "95e22279",
   "metadata": {},
   "outputs": [],
   "source": [
    "data['PC<2.5_P_relative_diff'] = data['PC<2.5'] / data['P<2.5']"
   ]
  },
  {
   "cell_type": "code",
   "execution_count": 23,
   "id": "0158fe68",
   "metadata": {},
   "outputs": [],
   "source": [
    "data['MaxC>2.5_AvgC_relative_diff'] = data['MaxC>2.5']/data['AvgC>2.5']\n",
    "data['Market_consensus'] = data['MaxC>2.5_AvgC_relative_diff']<1.05"
   ]
  },
  {
   "cell_type": "code",
   "execution_count": 24,
   "id": "2d79e5cd",
   "metadata": {},
   "outputs": [],
   "source": [
    "## Adding the Year Feature\n",
    "data_date = data['Date']\n",
    "data_time = data['Time']\n",
    "\n",
    "data_date_2 = pd.to_datetime(data_date, dayfirst = True)\n",
    "data_time_2 = pd.to_datetime(data_time, dayfirst = True)\n",
    "\n",
    "data['month'] = pd.DatetimeIndex(data_date_2).month\n",
    "data['month_after_July'] = data['month']>=7\n",
    "\n",
    "data['year'] = pd.DatetimeIndex(data_date_2).year\n",
    "data['year_2021_2022'] = data['year']>=2021\n",
    "\n",
    "data['hour'] = pd.DatetimeIndex(data_time_2).hour\n",
    "data['game_starts_after_4pm']=data['hour']>=16"
   ]
  },
  {
   "cell_type": "code",
   "execution_count": 25,
   "id": "dbb9df82",
   "metadata": {},
   "outputs": [
    {
     "data": {
      "text/plain": [
       "6225"
      ]
     },
     "execution_count": 25,
     "metadata": {},
     "output_type": "execute_result"
    }
   ],
   "source": [
    "data['game_starts_after_4pm'].sum()"
   ]
  },
  {
   "cell_type": "markdown",
   "id": "63cd1ff2",
   "metadata": {},
   "source": [
    "### Other Features from Joao"
   ]
  },
  {
   "cell_type": "code",
   "execution_count": 26,
   "id": "da146bd1",
   "metadata": {},
   "outputs": [
    {
     "ename": "NameError",
     "evalue": "name 'np' is not defined",
     "output_type": "error",
     "traceback": [
      "\u001b[0;31m---------------------------------------------------------------------------\u001b[0m",
      "\u001b[0;31mKeyError\u001b[0m                                  Traceback (most recent call last)",
      "File \u001b[0;32m~/.pyenv/versions/3.8.12/envs/OnThePitch/lib/python3.8/site-packages/pandas/core/indexes/base.py:3621\u001b[0m, in \u001b[0;36mIndex.get_loc\u001b[0;34m(self, key, method, tolerance)\u001b[0m\n\u001b[1;32m   3620\u001b[0m \u001b[38;5;28;01mtry\u001b[39;00m:\n\u001b[0;32m-> 3621\u001b[0m     \u001b[38;5;28;01mreturn\u001b[39;00m \u001b[38;5;28;43mself\u001b[39;49m\u001b[38;5;241;43m.\u001b[39;49m\u001b[43m_engine\u001b[49m\u001b[38;5;241;43m.\u001b[39;49m\u001b[43mget_loc\u001b[49m\u001b[43m(\u001b[49m\u001b[43mcasted_key\u001b[49m\u001b[43m)\u001b[49m\n\u001b[1;32m   3622\u001b[0m \u001b[38;5;28;01mexcept\u001b[39;00m \u001b[38;5;167;01mKeyError\u001b[39;00m \u001b[38;5;28;01mas\u001b[39;00m err:\n",
      "File \u001b[0;32m~/.pyenv/versions/3.8.12/envs/OnThePitch/lib/python3.8/site-packages/pandas/_libs/index.pyx:136\u001b[0m, in \u001b[0;36mpandas._libs.index.IndexEngine.get_loc\u001b[0;34m()\u001b[0m\n",
      "File \u001b[0;32m~/.pyenv/versions/3.8.12/envs/OnThePitch/lib/python3.8/site-packages/pandas/_libs/index.pyx:163\u001b[0m, in \u001b[0;36mpandas._libs.index.IndexEngine.get_loc\u001b[0;34m()\u001b[0m\n",
      "File \u001b[0;32mpandas/_libs/hashtable_class_helper.pxi:5198\u001b[0m, in \u001b[0;36mpandas._libs.hashtable.PyObjectHashTable.get_item\u001b[0;34m()\u001b[0m\n",
      "File \u001b[0;32mpandas/_libs/hashtable_class_helper.pxi:5206\u001b[0m, in \u001b[0;36mpandas._libs.hashtable.PyObjectHashTable.get_item\u001b[0;34m()\u001b[0m\n",
      "\u001b[0;31mKeyError\u001b[0m: 1",
      "\nThe above exception was the direct cause of the following exception:\n",
      "\u001b[0;31mKeyError\u001b[0m                                  Traceback (most recent call last)",
      "Input \u001b[0;32mIn [26]\u001b[0m, in \u001b[0;36m<cell line: 3>\u001b[0;34m()\u001b[0m\n\u001b[1;32m      7\u001b[0m \u001b[38;5;28;01mtry\u001b[39;00m:\n\u001b[0;32m----> 8\u001b[0m     lst3\u001b[38;5;241m.\u001b[39mappend(\u001b[38;5;241m1\u001b[39m\u001b[38;5;241m/\u001b[39m(\u001b[43mn_under_away2\u001b[49m\u001b[43m[\u001b[49m\u001b[38;5;241;43m1\u001b[39;49m\u001b[43m]\u001b[49m \u001b[38;5;241m/\u001b[39m total2))\n\u001b[1;32m      9\u001b[0m     lst4\u001b[38;5;241m.\u001b[39mappend(n_under_away2[\u001b[38;5;241m1\u001b[39m] \u001b[38;5;241m/\u001b[39m total2)\n",
      "File \u001b[0;32m~/.pyenv/versions/3.8.12/envs/OnThePitch/lib/python3.8/site-packages/pandas/core/series.py:958\u001b[0m, in \u001b[0;36mSeries.__getitem__\u001b[0;34m(self, key)\u001b[0m\n\u001b[1;32m    957\u001b[0m \u001b[38;5;28;01melif\u001b[39;00m key_is_scalar:\n\u001b[0;32m--> 958\u001b[0m     \u001b[38;5;28;01mreturn\u001b[39;00m \u001b[38;5;28;43mself\u001b[39;49m\u001b[38;5;241;43m.\u001b[39;49m\u001b[43m_get_value\u001b[49m\u001b[43m(\u001b[49m\u001b[43mkey\u001b[49m\u001b[43m)\u001b[49m\n\u001b[1;32m    960\u001b[0m \u001b[38;5;28;01mif\u001b[39;00m is_hashable(key):\n\u001b[1;32m    961\u001b[0m     \u001b[38;5;66;03m# Otherwise index.get_value will raise InvalidIndexError\u001b[39;00m\n",
      "File \u001b[0;32m~/.pyenv/versions/3.8.12/envs/OnThePitch/lib/python3.8/site-packages/pandas/core/series.py:1069\u001b[0m, in \u001b[0;36mSeries._get_value\u001b[0;34m(self, label, takeable)\u001b[0m\n\u001b[1;32m   1068\u001b[0m \u001b[38;5;66;03m# Similar to Index.get_value, but we do not fall back to positional\u001b[39;00m\n\u001b[0;32m-> 1069\u001b[0m loc \u001b[38;5;241m=\u001b[39m \u001b[38;5;28;43mself\u001b[39;49m\u001b[38;5;241;43m.\u001b[39;49m\u001b[43mindex\u001b[49m\u001b[38;5;241;43m.\u001b[39;49m\u001b[43mget_loc\u001b[49m\u001b[43m(\u001b[49m\u001b[43mlabel\u001b[49m\u001b[43m)\u001b[49m\n\u001b[1;32m   1070\u001b[0m \u001b[38;5;28;01mreturn\u001b[39;00m \u001b[38;5;28mself\u001b[39m\u001b[38;5;241m.\u001b[39mindex\u001b[38;5;241m.\u001b[39m_get_values_for_loc(\u001b[38;5;28mself\u001b[39m, loc, label)\n",
      "File \u001b[0;32m~/.pyenv/versions/3.8.12/envs/OnThePitch/lib/python3.8/site-packages/pandas/core/indexes/base.py:3623\u001b[0m, in \u001b[0;36mIndex.get_loc\u001b[0;34m(self, key, method, tolerance)\u001b[0m\n\u001b[1;32m   3622\u001b[0m \u001b[38;5;28;01mexcept\u001b[39;00m \u001b[38;5;167;01mKeyError\u001b[39;00m \u001b[38;5;28;01mas\u001b[39;00m err:\n\u001b[0;32m-> 3623\u001b[0m     \u001b[38;5;28;01mraise\u001b[39;00m \u001b[38;5;167;01mKeyError\u001b[39;00m(key) \u001b[38;5;28;01mfrom\u001b[39;00m \u001b[38;5;21;01merr\u001b[39;00m\n\u001b[1;32m   3624\u001b[0m \u001b[38;5;28;01mexcept\u001b[39;00m \u001b[38;5;167;01mTypeError\u001b[39;00m:\n\u001b[1;32m   3625\u001b[0m     \u001b[38;5;66;03m# If we have a listlike key, _check_indexing_error will raise\u001b[39;00m\n\u001b[1;32m   3626\u001b[0m     \u001b[38;5;66;03m#  InvalidIndexError. Otherwise we fall through and re-raise\u001b[39;00m\n\u001b[1;32m   3627\u001b[0m     \u001b[38;5;66;03m#  the TypeError.\u001b[39;00m\n",
      "\u001b[0;31mKeyError\u001b[0m: 1",
      "\nDuring handling of the above exception, another exception occurred:\n",
      "\u001b[0;31mNameError\u001b[0m                                 Traceback (most recent call last)",
      "Input \u001b[0;32mIn [26]\u001b[0m, in \u001b[0;36m<cell line: 3>\u001b[0;34m()\u001b[0m\n\u001b[1;32m      9\u001b[0m         lst4\u001b[38;5;241m.\u001b[39mappend(n_under_away2[\u001b[38;5;241m1\u001b[39m] \u001b[38;5;241m/\u001b[39m total2)\n\u001b[1;32m     10\u001b[0m     \u001b[38;5;28;01mexcept\u001b[39;00m:\n\u001b[0;32m---> 11\u001b[0m         lst3\u001b[38;5;241m.\u001b[39mappend(\u001b[43mnp\u001b[49m\u001b[38;5;241m.\u001b[39mnan)\n\u001b[1;32m     12\u001b[0m         lst4\u001b[38;5;241m.\u001b[39mappend(np\u001b[38;5;241m.\u001b[39mnan)\n\u001b[1;32m     13\u001b[0m data[\u001b[38;5;124m'\u001b[39m\u001b[38;5;124modds_away_under\u001b[39m\u001b[38;5;124m'\u001b[39m] \u001b[38;5;241m=\u001b[39m lst3\n",
      "\u001b[0;31mNameError\u001b[0m: name 'np' is not defined"
     ]
    }
   ],
   "source": [
    "    lst3 = []\n",
    "    lst4  = []\n",
    "    for i, team in enumerate(data['AwayTeam']):\n",
    "        date = data['Date'].iloc[i]\n",
    "        total2 = len(data[(data['AwayTeam'] == team) & (data['Date'] < date)])\n",
    "        n_under_away2 = data[(data['AwayTeam'] == team) & (data['Date'] < date)]['under_2.5_goals'].value_counts()\n",
    "        try:\n",
    "            lst3.append(1/(n_under_away2[1] / total2))\n",
    "            lst4.append(n_under_away2[1] / total2)\n",
    "        except:\n",
    "            lst3.append(np.nan)\n",
    "            lst4.append(np.nan)\n",
    "    data['odds_away_under'] = lst3\n",
    "    data['prob_away_under'] = lst4"
   ]
  },
  {
   "cell_type": "markdown",
   "id": "e45ec430",
   "metadata": {
    "heading_collapsed": true
   },
   "source": [
    "# [KILL] Final Dataset [KILL]"
   ]
  },
  {
   "cell_type": "markdown",
   "id": "c06f280c",
   "metadata": {
    "hidden": true
   },
   "source": [
    "### Opening Markets"
   ]
  },
  {
   "cell_type": "code",
   "execution_count": null,
   "id": "8075c1a9",
   "metadata": {
    "hidden": true
   },
   "outputs": [],
   "source": [
    "#Average Market UNDER opening odds\n",
    "fdf_under_avg = data[['Implied Probability <2.5 avg','under_2.5_goals','binned <2.5 avg','payout_avg_under_2.5']]\n",
    "\n",
    "#Average Market OVER opening odds\n",
    "fdf_over_avg = data[['Implied Probability >2.5 avg','over_2.5_goals','binned >2.5 avg','payout_avg_over_2.5']]\n",
    "\n",
    "#pinnacle UNDER opening odds\n",
    "fdf_under_pinacle = data[['Implied Probability <2.5 pinacle','under_2.5_goals','binned <2.5 pinacle','payout_under_2.5_pinacle']]\n",
    "\n",
    "#pinnacle OVER opening odds\n",
    "fdf_over_pinacle = data[['Implied Probability >2.5 pinacle','over_2.5_goals','binned >2.5 pinacle','payout_over_2.5_pinacle']]\n",
    "\n",
    "#bet365 UNDER opening odds\n",
    "fdf_under_365 = data[['Implied Probability <2.5 365','under_2.5_goals','binned <2.5 365','payout_under_2.5_365']]\n",
    "\n",
    "#bet365 OVER opening odds\n",
    "fdf_over_365 = data[['Implied Probability >2.5 365','over_2.5_goals','binned >2.5 365','payout_over_2.5_365']]"
   ]
  },
  {
   "cell_type": "markdown",
   "id": "efd3a216",
   "metadata": {
    "hidden": true
   },
   "source": [
    "### Closing Markets"
   ]
  },
  {
   "cell_type": "code",
   "execution_count": null,
   "id": "114d0e78",
   "metadata": {
    "hidden": true
   },
   "outputs": [],
   "source": [
    "#Average Market UNDER closing odds\n",
    "fdf_under_avg_closing = data[['Implied Probability <2.5 avg closing','under_2.5_goals','binned <2.5 avg closing','payout_avg_under_closing_2.5']]\n",
    "\n",
    "#Average Market OVER opening odds\n",
    "fdf_over_avg_closing = data[['Implied Probability >2.5 avg closing','over_2.5_goals','binned >2.5 avg closing','payout_avg_over_closing_2.5']]\n",
    "\n",
    "#pinnacle UNDER closing odds\n",
    "fdf_under_pinacle_closing = data[['Implied Probability <2.5 pinacle closing','under_2.5_goals','binned <2.5 pinacle closing','payout_under_2.5_pinacle_closing']]\n",
    "\n",
    "#pinnacle OVER closing odds\n",
    "fdf_over_pinacle_closing = data[['Implied Probability >2.5 pinacle closing','over_2.5_goals','binned >2.5 pinacle closing','payout_over_2.5_pinacle_closing']]\n",
    "\n",
    "#bet365 UNDER closing odds\n",
    "fdf_under_365_closing = data[['Implied Probability <2.5 365 closing','under_2.5_goals','binned <2.5 365 closing','payout_under_2.5_365_closing']]\n",
    "\n",
    "#bet365 OVER closing odds\n",
    "fdf_over_365_closing = data[['Implied Probability >2.5 365 closing','over_2.5_goals','binned >2.5 365 closing','payout_over_2.5_365_closing']]"
   ]
  },
  {
   "cell_type": "markdown",
   "id": "f86ea04f",
   "metadata": {
    "heading_collapsed": true
   },
   "source": [
    "# [KILL] Results per implied prob Average Market [KILL]"
   ]
  },
  {
   "cell_type": "markdown",
   "id": "66684c60",
   "metadata": {
    "hidden": true
   },
   "source": [
    "### Under"
   ]
  },
  {
   "cell_type": "markdown",
   "id": "167a9db6",
   "metadata": {
    "hidden": true
   },
   "source": [
    "#### Opening Odds"
   ]
  },
  {
   "cell_type": "code",
   "execution_count": null,
   "id": "b8d712a0",
   "metadata": {
    "hidden": true
   },
   "outputs": [],
   "source": [
    "fdf_under_avg_agg = fdf_under_avg.groupby('binned <2.5 avg')['payout_avg_under_2.5'].agg(['count', 'mean', 'median'])\n",
    "\n",
    "fdf_under_pinacle_agg = fdf_under_pinacle.groupby('binned <2.5 pinacle')['payout_under_2.5_pinacle'].agg(['count', 'mean', 'median'])\n",
    "\n",
    "fdf_under_bet365_agg = fdf_under_365.groupby('binned <2.5 365')['payout_under_2.5_365'].agg(['count', 'mean', 'median'])"
   ]
  },
  {
   "cell_type": "code",
   "execution_count": null,
   "id": "5104dd95",
   "metadata": {
    "hidden": true
   },
   "outputs": [],
   "source": [
    "fdf_under_avg_agg.rename(columns={\"count\": \"count_avg\", \"mean\": \"mean_avg\", \"median\": \"median_avg\"}, inplace=True)\n",
    "fdf_under_avg_agg.index.names = ['bin<2.5']\n",
    "\n",
    "fdf_under_pinacle_agg.rename(columns={\"count\": \"count_p\", \"mean\": \"mean_p\", \"median\": \"median_p\"}, inplace=True)\n",
    "fdf_under_pinacle_agg.index.names = ['bin<2.5']\n",
    "\n",
    "fdf_under_bet365_agg.rename(columns={\"count\": \"count_b365\", \"mean\": \"mean_b365\", \"median\": \"median_b365\"}, inplace=True)\n",
    "fdf_under_bet365_agg.index.names = ['bin<2.5']\n",
    "\n",
    "opening_test_1 = fdf_under_avg_agg.merge(fdf_under_pinacle_agg, on='bin<2.5')\n",
    "opening_test_2 = opening_test_1.merge(fdf_under_bet365_agg, on='bin<2.5')\n",
    "opening_test_2"
   ]
  },
  {
   "cell_type": "markdown",
   "id": "da439352",
   "metadata": {
    "hidden": true
   },
   "source": [
    "#### Closing Odds"
   ]
  },
  {
   "cell_type": "code",
   "execution_count": null,
   "id": "4345a641",
   "metadata": {
    "hidden": true
   },
   "outputs": [],
   "source": [
    "fdf_under_avg_closing_gb_agg = fdf_under_avg_closing.groupby('binned <2.5 avg closing')['payout_avg_under_closing_2.5'].agg(['count', 'mean', 'median', mode])\n",
    "\n",
    "fdf_under_pinacle_closing_gb_agg = fdf_under_pinacle_closing.groupby('binned <2.5 pinacle closing')['payout_under_2.5_pinacle_closing'].agg(['count', 'mean', 'median', mode])\n",
    "\n",
    "fdf_under_bet365_closing_gb_agg = fdf_under_365_closing.groupby('binned <2.5 365 closing')['payout_under_2.5_365_closing'].agg(['count', 'mean', 'median', mode])"
   ]
  },
  {
   "cell_type": "code",
   "execution_count": null,
   "id": "6fc59570",
   "metadata": {
    "hidden": true
   },
   "outputs": [],
   "source": [
    "fdf_under_avg_closing_gb_agg.rename(columns={\"count\": \"count_avg\", \"mean\": \"mean_avg\", \"median\": \"median_avg\", \"mode\": \"mode_avg\"}, inplace=True)\n",
    "fdf_under_avg_closing_gb_agg.index.names = ['bin<2.5']\n",
    "\n",
    "fdf_under_pinacle_closing_gb_agg.rename(columns={\"count\": \"count_p\", \"mean\": \"mean_p\", \"median\": \"median_p\", \"mode\": \"mode_p\"}, inplace=True)\n",
    "fdf_under_pinacle_closing_gb_agg.index.names = ['bin<2.5']\n",
    "\n",
    "fdf_under_bet365_closing_gb_agg.rename(columns={\"count\": \"count_b365\", \"mean\": \"mean_b365\", \"median\": \"median_b365\", \"mode\": \"mode_b365\"}, inplace=True)\n",
    "fdf_under_bet365_closing_gb_agg.index.names = ['bin<2.5']\n",
    "\n",
    "closing_test_1 = fdf_under_avg_closing_gb_agg.merge(fdf_under_pinacle_closing_gb_agg, on='bin<2.5')\n",
    "closing_test_2 = closing_test_1.merge(fdf_under_bet365_closing_gb_agg, on='bin<2.5')\n",
    "closing_test_2['bins'] = closing_test_2.index\n",
    "closing_test_2"
   ]
  },
  {
   "cell_type": "markdown",
   "id": "d5b57f08",
   "metadata": {
    "hidden": true
   },
   "source": [
    "### Over"
   ]
  },
  {
   "cell_type": "markdown",
   "id": "893845a5",
   "metadata": {
    "hidden": true
   },
   "source": [
    "#### Opening Odds"
   ]
  },
  {
   "cell_type": "code",
   "execution_count": null,
   "id": "810f753d",
   "metadata": {
    "hidden": true
   },
   "outputs": [],
   "source": [
    "fdf_over_avg_agg = fdf_over_avg.groupby('binned >2.5 avg')['payout_avg_over_2.5'].agg(['count', 'mean', 'median'])\n",
    "\n",
    "fdf_over_pinacle_agg = fdf_over_pinacle.groupby('binned >2.5 pinacle')['payout_over_2.5_pinacle'].agg(['count', 'mean', 'median'])\n",
    "\n",
    "fdf_over_bet365_agg = fdf_over_365.groupby('binned >2.5 365')['payout_over_2.5_365'].agg(['count', 'mean', 'median'])"
   ]
  },
  {
   "cell_type": "code",
   "execution_count": null,
   "id": "1bee2d22",
   "metadata": {
    "hidden": true
   },
   "outputs": [],
   "source": [
    "fdf_over_avg_agg.rename(columns={\"count\": \"count_avg\", \"mean\": \"mean_avg\", \"median\": \"median_avg\"}, inplace=True)\n",
    "fdf_over_avg_agg.index.names = ['bin>2.5']\n",
    "\n",
    "fdf_over_pinacle_agg.rename(columns={\"count\": \"count_p\", \"mean\": \"mean_p\", \"median\": \"median_p\"}, inplace=True)\n",
    "fdf_over_pinacle_agg.index.names = ['bin>2.5']\n",
    "\n",
    "fdf_over_bet365_agg.rename(columns={\"count\": \"count_b365\", \"mean\": \"mean_b365\", \"median\": \"median_b365\"}, inplace=True)\n",
    "fdf_over_bet365_agg.index.names = ['bin>2.5']\n",
    "\n",
    "over_opening_test_1 = fdf_over_avg_agg.merge(fdf_over_pinacle_agg, on='bin>2.5')\n",
    "over_opening_test_2 = over_opening_test_1.merge(fdf_over_bet365_agg, on='bin>2.5')\n",
    "over_opening_test_2"
   ]
  },
  {
   "cell_type": "markdown",
   "id": "77de2923",
   "metadata": {
    "hidden": true
   },
   "source": [
    "#### Closing Odds"
   ]
  },
  {
   "cell_type": "code",
   "execution_count": null,
   "id": "c55b4aac",
   "metadata": {
    "hidden": true
   },
   "outputs": [],
   "source": [
    "fdf_over_avg_closing_agg = fdf_over_avg_closing.groupby('binned >2.5 avg closing')['payout_avg_over_closing_2.5'].agg(['count', 'mean', 'median'])\n",
    "\n",
    "fdf_over_pinacle_closing_agg = fdf_over_pinacle_closing.groupby('binned >2.5 pinacle closing')['payout_over_2.5_pinacle_closing'].agg(['count', 'mean', 'median'])\n",
    "\n",
    "fdf_over_bet365_closing_agg = fdf_over_365_closing.groupby('binned >2.5 365 closing')['payout_over_2.5_365_closing'].agg(['count', 'mean', 'median'])"
   ]
  },
  {
   "cell_type": "code",
   "execution_count": null,
   "id": "1d1ff121",
   "metadata": {
    "hidden": true
   },
   "outputs": [],
   "source": [
    "fdf_over_avg_closing_agg.rename(columns={\"count\": \"count_avg\", \"mean\": \"mean_avg\", \"median\": \"median_avg\"}, inplace=True)\n",
    "fdf_over_avg_closing_agg.index.names = ['bin>2.5']\n",
    "\n",
    "fdf_over_pinacle_closing_agg.rename(columns={\"count\": \"count_p\", \"mean\": \"mean_p\", \"median\": \"median_p\"}, inplace=True)\n",
    "fdf_over_pinacle_closing_agg.index.names = ['bin>2.5']\n",
    "\n",
    "fdf_over_bet365_closing_agg.rename(columns={\"count\": \"count_b365\", \"mean\": \"mean_b365\", \"median\": \"median_b365\"}, inplace=True)\n",
    "fdf_over_bet365_closing_agg.index.names = ['bin>2.5']\n",
    "\n",
    "over_closing_test_1 = fdf_over_avg_closing_agg.merge(fdf_over_pinacle_closing_agg, on='bin>2.5')\n",
    "over_closing_test_2 = over_closing_test_1.merge(fdf_over_bet365_closing_agg, on='bin>2.5')\n",
    "over_closing_test_2"
   ]
  },
  {
   "cell_type": "markdown",
   "id": "b6c0df27",
   "metadata": {},
   "source": [
    "# Starting Model"
   ]
  },
  {
   "cell_type": "code",
   "execution_count": 27,
   "id": "d323eba3",
   "metadata": {},
   "outputs": [
    {
     "data": {
      "text/plain": [
       "\"odd = 2.15\\niproba = 1/odd*100\\nfor x in range(0, 20):\\n    if iproba in closing_test_2.iloc[6]['bins']\""
      ]
     },
     "execution_count": 27,
     "metadata": {},
     "output_type": "execute_result"
    }
   ],
   "source": [
    "#Pedro's pet! Don't touch it!\n",
    "\"\"\"odd = 2.15\n",
    "iproba = 1/odd*100\n",
    "for x in range(0, 20):\n",
    "    if iproba in closing_test_2.iloc[6]['bins']\"\"\""
   ]
  },
  {
   "cell_type": "code",
   "execution_count": 28,
   "id": "d49e7d94",
   "metadata": {},
   "outputs": [],
   "source": [
    "data_linear_booleans = data.copy()"
   ]
  },
  {
   "cell_type": "code",
   "execution_count": 29,
   "id": "30a16049",
   "metadata": {},
   "outputs": [
    {
     "name": "stdout",
     "output_type": "stream",
     "text": [
      "Div\n",
      "Date\n",
      "Time\n",
      "HomeTeam\n",
      "AwayTeam\n",
      "FTHG\n",
      "FTAG\n",
      "FTR\n",
      "HTHG\n",
      "HTAG\n",
      "HTR\n",
      "HS\n",
      "AS\n",
      "HST\n",
      "AST\n",
      "HF\n",
      "AF\n",
      "HC\n",
      "AC\n",
      "HY\n",
      "AY\n",
      "HR\n",
      "AR\n",
      "B365H\n",
      "B365D\n",
      "B365A\n",
      "BWH\n",
      "BWD\n",
      "BWA\n",
      "IWH\n",
      "IWD\n",
      "IWA\n",
      "PSH\n",
      "PSD\n",
      "PSA\n",
      "WHH\n",
      "WHD\n",
      "WHA\n",
      "VCH\n",
      "VCD\n",
      "VCA\n",
      "MaxH\n",
      "MaxD\n",
      "MaxA\n",
      "AvgH\n",
      "AvgD\n",
      "AvgA\n",
      "B365>2.5\n",
      "B365<2.5\n",
      "P>2.5\n",
      "P<2.5\n",
      "Max>2.5\n",
      "Max<2.5\n",
      "Avg>2.5\n",
      "Avg<2.5\n",
      "AHh\n",
      "B365AHH\n",
      "B365AHA\n",
      "PAHH\n",
      "PAHA\n",
      "MaxAHH\n",
      "MaxAHA\n",
      "AvgAHH\n",
      "AvgAHA\n",
      "B365CH\n",
      "B365CD\n",
      "B365CA\n",
      "BWCH\n",
      "BWCD\n",
      "BWCA\n",
      "IWCH\n",
      "IWCD\n",
      "IWCA\n",
      "PSCH\n",
      "PSCD\n",
      "PSCA\n",
      "WHCH\n",
      "WHCD\n",
      "WHCA\n",
      "VCCH\n",
      "VCCD\n",
      "VCCA\n",
      "MaxCH\n",
      "MaxCD\n",
      "MaxCA\n",
      "AvgCH\n",
      "AvgCD\n",
      "AvgCA\n",
      "B365C>2.5\n",
      "B365C<2.5\n",
      "PC>2.5\n",
      "PC<2.5\n",
      "MaxC>2.5\n",
      "MaxC<2.5\n",
      "AvgC>2.5\n",
      "AvgC<2.5\n",
      "AHCh\n",
      "B365CAHH\n",
      "B365CAHA\n",
      "PCAHH\n",
      "PCAHA\n",
      "MaxCAHH\n",
      "MaxCAHA\n",
      "AvgCAHH\n",
      "AvgCAHA\n",
      "country\n",
      "Referee\n",
      "Unnamed: 105\n",
      "nb_goals\n",
      "over_2.5_goals\n",
      "under_2.5_goals\n",
      "payout_avg_under_2.5\n",
      "payout_avg_over_2.5\n",
      "payout_under_2.5_pinacle\n",
      "payout_over_2.5_pinacle\n",
      "payout_under_2.5_365\n",
      "payout_over_2.5_365\n",
      "payout_avg_under_closing_2.5\n",
      "payout_avg_over_closing_2.5\n",
      "payout_under_2.5_pinacle_closing\n",
      "payout_over_2.5_pinacle_closing\n",
      "payout_under_2.5_365_closing\n",
      "payout_over_2.5_365_closing\n",
      "Implied Probability <2.5 avg\n",
      "Implied Probability >2.5 avg\n",
      "Implied Probability <2.5 pinacle\n",
      "Implied Probability >2.5 pinacle\n",
      "Implied Probability <2.5 365\n",
      "Implied Probability >2.5 365\n",
      "Implied Probability <2.5 avg closing\n",
      "Implied Probability >2.5 avg closing\n",
      "Implied Probability <2.5 pinacle closing\n",
      "Implied Probability >2.5 pinacle closing\n",
      "Implied Probability <2.5 365 closing\n",
      "Implied Probability >2.5 365 closing\n",
      "binned <2.5 avg\n",
      "binned >2.5 avg\n",
      "binned <2.5 pinacle\n",
      "binned >2.5 pinacle\n",
      "binned <2.5 365\n",
      "binned >2.5 365\n",
      "binned <2.5 avg closing\n",
      "binned >2.5 avg closing\n",
      "binned <2.5 pinacle closing\n",
      "binned >2.5 pinacle closing\n",
      "binned <2.5 365 closing\n",
      "binned >2.5 365 closing\n",
      "binned odds <2.5 avg\n",
      "binned odds >2.5 avg\n",
      "binned odds <2.5 pinacle\n",
      "binned odds >2.5 pinacle\n",
      "binned odds <2.5 365\n",
      "binned odds >2.5 365\n",
      "binned odds <2.5 avg closing\n",
      "binned odds >2.5 avg closing\n",
      "binned odds <2.5 pinacle closing\n",
      "binned odds >2.5 pinacle closing\n",
      "binned odds <2.5 365 closing\n",
      "binned odds >2.5 365 closing\n",
      "Pin_pays_better_under_boolean\n",
      "Pin_pays_better_under_difference\n",
      "%vig_p\n",
      "%vig_p_bool\n",
      "%vig_avg\n",
      "PC<2.5_P_boolean\n",
      "PC<2.5_P_relative_diff\n",
      "MaxC>2.5_AvgC_relative_diff\n",
      "Market_consensus\n",
      "month\n",
      "month_after_July\n",
      "year\n",
      "year_2021_2022\n",
      "hour\n",
      "game_starts_after_4pm\n"
     ]
    }
   ],
   "source": [
    "for col_name in data_linear_booleans.columns: \n",
    "    print(col_name)"
   ]
  },
  {
   "cell_type": "code",
   "execution_count": 30,
   "id": "899a0e4d",
   "metadata": {},
   "outputs": [],
   "source": [
    "data_linear_booleans_lean_P_under = data_linear_booleans[['country','month_after_July','year_2021_2022','game_starts_after_4pm','binned odds <2.5 pinacle closing','Pin_pays_better_under_boolean','Market_consensus','%vig_p_bool','PC<2.5_P_boolean', 'payout_under_2.5_pinacle_closing']]"
   ]
  },
  {
   "cell_type": "code",
   "execution_count": 31,
   "id": "615a3221",
   "metadata": {},
   "outputs": [],
   "source": [
    "# data_model_over_under = data_model_over_under[[\"Div\",\n",
    "# \"Date\", \"Time\", \"HomeTeam\", \"AwayTeam\", \"FTHG\", \"FTAG\", \"nb_goals\", \"Avg>2.5\", \"Avg<2.5\", \"B365>2.5\", \"B365<2.5\", \"P>2.5\", \n",
    "# \"P<2.5\", \"AvgC>2.5\", \"AvgC<2.5\", \"B365C>2.5\", \"B365C<2.5\", \"PC>2.5\", \"PC<2.5\", \"over_2.5_goals\", \"under_2.5_goals\", \n",
    "# \"payout_avg_under_2.5\", \"payout_avg_over_2.5\", \"payout_under_2.5_pinacle\", \"payout_over_2.5_pinacle\", \"payout_under_2.5_365\", \n",
    "# \"payout_over_2.5_365\", \"payout_avg_under_closing_2.5\", \"payout_avg_over_closing_2.5\", \"payout_under_2.5_pinacle_closing\", \n",
    "# \"payout_over_2.5_pinacle_closing\", \"payout_under_2.5_365_closing\", \"payout_over_2.5_365_closing\", \"Implied Probability <2.5 avg\", \n",
    "# \"Implied Probability >2.5 avg\", \"Implied Probability <2.5 pinacle\", \"Implied Probability >2.5 pinacle\", \"Implied Probability <2.5 365\", \n",
    "# \"Implied Probability >2.5 365\", \"Implied Probability <2.5 avg closing\", \"Implied Probability >2.5 avg closing\", \"Implied Probability <2.5 pinacle closing\", \n",
    "# \"Implied Probability >2.5 pinacle closing\", \"Implied Probability <2.5 365 closing\", \"Implied Probability >2.5 365 closing\", \n",
    "# \"binned <2.5 avg\", \"binned >2.5 avg\", \"binned <2.5 pinacle\", \"binned >2.5 pinacle\", \"binned <2.5 365\", \"binned >2.5 365\", \n",
    "# \"binned <2.5 avg closing\", \"binned >2.5 avg closing\", \"binned <2.5 pinacle closing\", \"binned >2.5 pinacle closing\", \n",
    "# \"binned <2.5 365 closing\", \"binned >2.5 365 closing\"]]"
   ]
  },
  {
   "cell_type": "code",
   "execution_count": 32,
   "id": "99e92a15",
   "metadata": {},
   "outputs": [],
   "source": [
    "# data_model_over_under.dropna(inplace=True)"
   ]
  },
  {
   "cell_type": "code",
   "execution_count": 33,
   "id": "b5093a92",
   "metadata": {},
   "outputs": [],
   "source": [
    "# data_model_over_under"
   ]
  },
  {
   "cell_type": "code",
   "execution_count": 34,
   "id": "80501c77",
   "metadata": {},
   "outputs": [],
   "source": [
    "# OneHotEncoders for Bin Odds"
   ]
  },
  {
   "cell_type": "code",
   "execution_count": 35,
   "id": "ac93cd78",
   "metadata": {},
   "outputs": [
    {
     "name": "stderr",
     "output_type": "stream",
     "text": [
      "/tmp/ipykernel_1649/423872295.py:4: SettingWithCopyWarning: \n",
      "A value is trying to be set on a copy of a slice from a DataFrame.\n",
      "Try using .loc[row_indexer,col_indexer] = value instead\n",
      "\n",
      "See the caveats in the documentation: https://pandas.pydata.org/pandas-docs/stable/user_guide/indexing.html#returning-a-view-versus-a-copy\n",
      "  data_linear_booleans_lean_P_under[\"1.0_to_1.5\"], data_linear_booleans_lean_P_under[\"1.5_to_2.0\"], data_linear_booleans_lean_P_under[\"2.0_to_3.0\"], data_linear_booleans_lean_P_under[\"3.0_to_99999.0\"], data_linear_booleans_lean_P_under[\"extra\"] = bins_encoded.T\n",
      "/tmp/ipykernel_1649/423872295.py:4: SettingWithCopyWarning: \n",
      "A value is trying to be set on a copy of a slice from a DataFrame.\n",
      "Try using .loc[row_indexer,col_indexer] = value instead\n",
      "\n",
      "See the caveats in the documentation: https://pandas.pydata.org/pandas-docs/stable/user_guide/indexing.html#returning-a-view-versus-a-copy\n",
      "  data_linear_booleans_lean_P_under[\"1.0_to_1.5\"], data_linear_booleans_lean_P_under[\"1.5_to_2.0\"], data_linear_booleans_lean_P_under[\"2.0_to_3.0\"], data_linear_booleans_lean_P_under[\"3.0_to_99999.0\"], data_linear_booleans_lean_P_under[\"extra\"] = bins_encoded.T\n",
      "/tmp/ipykernel_1649/423872295.py:4: SettingWithCopyWarning: \n",
      "A value is trying to be set on a copy of a slice from a DataFrame.\n",
      "Try using .loc[row_indexer,col_indexer] = value instead\n",
      "\n",
      "See the caveats in the documentation: https://pandas.pydata.org/pandas-docs/stable/user_guide/indexing.html#returning-a-view-versus-a-copy\n",
      "  data_linear_booleans_lean_P_under[\"1.0_to_1.5\"], data_linear_booleans_lean_P_under[\"1.5_to_2.0\"], data_linear_booleans_lean_P_under[\"2.0_to_3.0\"], data_linear_booleans_lean_P_under[\"3.0_to_99999.0\"], data_linear_booleans_lean_P_under[\"extra\"] = bins_encoded.T\n",
      "/tmp/ipykernel_1649/423872295.py:4: SettingWithCopyWarning: \n",
      "A value is trying to be set on a copy of a slice from a DataFrame.\n",
      "Try using .loc[row_indexer,col_indexer] = value instead\n",
      "\n",
      "See the caveats in the documentation: https://pandas.pydata.org/pandas-docs/stable/user_guide/indexing.html#returning-a-view-versus-a-copy\n",
      "  data_linear_booleans_lean_P_under[\"1.0_to_1.5\"], data_linear_booleans_lean_P_under[\"1.5_to_2.0\"], data_linear_booleans_lean_P_under[\"2.0_to_3.0\"], data_linear_booleans_lean_P_under[\"3.0_to_99999.0\"], data_linear_booleans_lean_P_under[\"extra\"] = bins_encoded.T\n",
      "/tmp/ipykernel_1649/423872295.py:4: SettingWithCopyWarning: \n",
      "A value is trying to be set on a copy of a slice from a DataFrame.\n",
      "Try using .loc[row_indexer,col_indexer] = value instead\n",
      "\n",
      "See the caveats in the documentation: https://pandas.pydata.org/pandas-docs/stable/user_guide/indexing.html#returning-a-view-versus-a-copy\n",
      "  data_linear_booleans_lean_P_under[\"1.0_to_1.5\"], data_linear_booleans_lean_P_under[\"1.5_to_2.0\"], data_linear_booleans_lean_P_under[\"2.0_to_3.0\"], data_linear_booleans_lean_P_under[\"3.0_to_99999.0\"], data_linear_booleans_lean_P_under[\"extra\"] = bins_encoded.T\n"
     ]
    }
   ],
   "source": [
    "ohe = OneHotEncoder(sparse=False) \n",
    "ohe.fit(data_linear_booleans_lean_P_under[['binned odds <2.5 pinacle closing']])\n",
    "bins_encoded = ohe.transform(data_linear_booleans_lean_P_under[['binned odds <2.5 pinacle closing']])\n",
    "data_linear_booleans_lean_P_under[\"1.0_to_1.5\"], data_linear_booleans_lean_P_under[\"1.5_to_2.0\"], data_linear_booleans_lean_P_under[\"2.0_to_3.0\"], data_linear_booleans_lean_P_under[\"3.0_to_99999.0\"], data_linear_booleans_lean_P_under[\"extra\"] = bins_encoded.T\n",
    "#data_linear_booleans_lean_P_under.drop(columns='binned <2.5 pinacle', inplace=True)"
   ]
  },
  {
   "cell_type": "code",
   "execution_count": 36,
   "id": "9edbd4cb",
   "metadata": {},
   "outputs": [
    {
     "name": "stderr",
     "output_type": "stream",
     "text": [
      "/tmp/ipykernel_1649/2414559662.py:4: SettingWithCopyWarning: \n",
      "A value is trying to be set on a copy of a slice from a DataFrame.\n",
      "Try using .loc[row_indexer,col_indexer] = value instead\n",
      "\n",
      "See the caveats in the documentation: https://pandas.pydata.org/pandas-docs/stable/user_guide/indexing.html#returning-a-view-versus-a-copy\n",
      "  data_linear_booleans_lean_P_under[\"country_1\"], data_linear_booleans_lean_P_under[\"country_2\"], data_linear_booleans_lean_P_under[\"country_3\"], data_linear_booleans_lean_P_under[\"country_4\"], data_linear_booleans_lean_P_under[\"country_5\"],data_linear_booleans_lean_P_under[\"country_6\"], data_linear_booleans_lean_P_under[\"country_7\"], data_linear_booleans_lean_P_under[\"country_8\"], data_linear_booleans_lean_P_under[\"country_9\"], data_linear_booleans_lean_P_under[\"country_10\"], data_linear_booleans_lean_P_under[\"country_11\"] = bins_encoded.T\n",
      "/tmp/ipykernel_1649/2414559662.py:4: SettingWithCopyWarning: \n",
      "A value is trying to be set on a copy of a slice from a DataFrame.\n",
      "Try using .loc[row_indexer,col_indexer] = value instead\n",
      "\n",
      "See the caveats in the documentation: https://pandas.pydata.org/pandas-docs/stable/user_guide/indexing.html#returning-a-view-versus-a-copy\n",
      "  data_linear_booleans_lean_P_under[\"country_1\"], data_linear_booleans_lean_P_under[\"country_2\"], data_linear_booleans_lean_P_under[\"country_3\"], data_linear_booleans_lean_P_under[\"country_4\"], data_linear_booleans_lean_P_under[\"country_5\"],data_linear_booleans_lean_P_under[\"country_6\"], data_linear_booleans_lean_P_under[\"country_7\"], data_linear_booleans_lean_P_under[\"country_8\"], data_linear_booleans_lean_P_under[\"country_9\"], data_linear_booleans_lean_P_under[\"country_10\"], data_linear_booleans_lean_P_under[\"country_11\"] = bins_encoded.T\n",
      "/tmp/ipykernel_1649/2414559662.py:4: SettingWithCopyWarning: \n",
      "A value is trying to be set on a copy of a slice from a DataFrame.\n",
      "Try using .loc[row_indexer,col_indexer] = value instead\n",
      "\n",
      "See the caveats in the documentation: https://pandas.pydata.org/pandas-docs/stable/user_guide/indexing.html#returning-a-view-versus-a-copy\n",
      "  data_linear_booleans_lean_P_under[\"country_1\"], data_linear_booleans_lean_P_under[\"country_2\"], data_linear_booleans_lean_P_under[\"country_3\"], data_linear_booleans_lean_P_under[\"country_4\"], data_linear_booleans_lean_P_under[\"country_5\"],data_linear_booleans_lean_P_under[\"country_6\"], data_linear_booleans_lean_P_under[\"country_7\"], data_linear_booleans_lean_P_under[\"country_8\"], data_linear_booleans_lean_P_under[\"country_9\"], data_linear_booleans_lean_P_under[\"country_10\"], data_linear_booleans_lean_P_under[\"country_11\"] = bins_encoded.T\n",
      "/tmp/ipykernel_1649/2414559662.py:4: SettingWithCopyWarning: \n",
      "A value is trying to be set on a copy of a slice from a DataFrame.\n",
      "Try using .loc[row_indexer,col_indexer] = value instead\n",
      "\n",
      "See the caveats in the documentation: https://pandas.pydata.org/pandas-docs/stable/user_guide/indexing.html#returning-a-view-versus-a-copy\n",
      "  data_linear_booleans_lean_P_under[\"country_1\"], data_linear_booleans_lean_P_under[\"country_2\"], data_linear_booleans_lean_P_under[\"country_3\"], data_linear_booleans_lean_P_under[\"country_4\"], data_linear_booleans_lean_P_under[\"country_5\"],data_linear_booleans_lean_P_under[\"country_6\"], data_linear_booleans_lean_P_under[\"country_7\"], data_linear_booleans_lean_P_under[\"country_8\"], data_linear_booleans_lean_P_under[\"country_9\"], data_linear_booleans_lean_P_under[\"country_10\"], data_linear_booleans_lean_P_under[\"country_11\"] = bins_encoded.T\n",
      "/tmp/ipykernel_1649/2414559662.py:4: SettingWithCopyWarning: \n",
      "A value is trying to be set on a copy of a slice from a DataFrame.\n",
      "Try using .loc[row_indexer,col_indexer] = value instead\n",
      "\n",
      "See the caveats in the documentation: https://pandas.pydata.org/pandas-docs/stable/user_guide/indexing.html#returning-a-view-versus-a-copy\n",
      "  data_linear_booleans_lean_P_under[\"country_1\"], data_linear_booleans_lean_P_under[\"country_2\"], data_linear_booleans_lean_P_under[\"country_3\"], data_linear_booleans_lean_P_under[\"country_4\"], data_linear_booleans_lean_P_under[\"country_5\"],data_linear_booleans_lean_P_under[\"country_6\"], data_linear_booleans_lean_P_under[\"country_7\"], data_linear_booleans_lean_P_under[\"country_8\"], data_linear_booleans_lean_P_under[\"country_9\"], data_linear_booleans_lean_P_under[\"country_10\"], data_linear_booleans_lean_P_under[\"country_11\"] = bins_encoded.T\n",
      "/tmp/ipykernel_1649/2414559662.py:4: SettingWithCopyWarning: \n",
      "A value is trying to be set on a copy of a slice from a DataFrame.\n",
      "Try using .loc[row_indexer,col_indexer] = value instead\n",
      "\n",
      "See the caveats in the documentation: https://pandas.pydata.org/pandas-docs/stable/user_guide/indexing.html#returning-a-view-versus-a-copy\n",
      "  data_linear_booleans_lean_P_under[\"country_1\"], data_linear_booleans_lean_P_under[\"country_2\"], data_linear_booleans_lean_P_under[\"country_3\"], data_linear_booleans_lean_P_under[\"country_4\"], data_linear_booleans_lean_P_under[\"country_5\"],data_linear_booleans_lean_P_under[\"country_6\"], data_linear_booleans_lean_P_under[\"country_7\"], data_linear_booleans_lean_P_under[\"country_8\"], data_linear_booleans_lean_P_under[\"country_9\"], data_linear_booleans_lean_P_under[\"country_10\"], data_linear_booleans_lean_P_under[\"country_11\"] = bins_encoded.T\n",
      "/tmp/ipykernel_1649/2414559662.py:4: SettingWithCopyWarning: \n",
      "A value is trying to be set on a copy of a slice from a DataFrame.\n",
      "Try using .loc[row_indexer,col_indexer] = value instead\n",
      "\n",
      "See the caveats in the documentation: https://pandas.pydata.org/pandas-docs/stable/user_guide/indexing.html#returning-a-view-versus-a-copy\n",
      "  data_linear_booleans_lean_P_under[\"country_1\"], data_linear_booleans_lean_P_under[\"country_2\"], data_linear_booleans_lean_P_under[\"country_3\"], data_linear_booleans_lean_P_under[\"country_4\"], data_linear_booleans_lean_P_under[\"country_5\"],data_linear_booleans_lean_P_under[\"country_6\"], data_linear_booleans_lean_P_under[\"country_7\"], data_linear_booleans_lean_P_under[\"country_8\"], data_linear_booleans_lean_P_under[\"country_9\"], data_linear_booleans_lean_P_under[\"country_10\"], data_linear_booleans_lean_P_under[\"country_11\"] = bins_encoded.T\n",
      "/tmp/ipykernel_1649/2414559662.py:4: SettingWithCopyWarning: \n",
      "A value is trying to be set on a copy of a slice from a DataFrame.\n",
      "Try using .loc[row_indexer,col_indexer] = value instead\n",
      "\n",
      "See the caveats in the documentation: https://pandas.pydata.org/pandas-docs/stable/user_guide/indexing.html#returning-a-view-versus-a-copy\n",
      "  data_linear_booleans_lean_P_under[\"country_1\"], data_linear_booleans_lean_P_under[\"country_2\"], data_linear_booleans_lean_P_under[\"country_3\"], data_linear_booleans_lean_P_under[\"country_4\"], data_linear_booleans_lean_P_under[\"country_5\"],data_linear_booleans_lean_P_under[\"country_6\"], data_linear_booleans_lean_P_under[\"country_7\"], data_linear_booleans_lean_P_under[\"country_8\"], data_linear_booleans_lean_P_under[\"country_9\"], data_linear_booleans_lean_P_under[\"country_10\"], data_linear_booleans_lean_P_under[\"country_11\"] = bins_encoded.T\n",
      "/tmp/ipykernel_1649/2414559662.py:4: SettingWithCopyWarning: \n",
      "A value is trying to be set on a copy of a slice from a DataFrame.\n",
      "Try using .loc[row_indexer,col_indexer] = value instead\n",
      "\n",
      "See the caveats in the documentation: https://pandas.pydata.org/pandas-docs/stable/user_guide/indexing.html#returning-a-view-versus-a-copy\n",
      "  data_linear_booleans_lean_P_under[\"country_1\"], data_linear_booleans_lean_P_under[\"country_2\"], data_linear_booleans_lean_P_under[\"country_3\"], data_linear_booleans_lean_P_under[\"country_4\"], data_linear_booleans_lean_P_under[\"country_5\"],data_linear_booleans_lean_P_under[\"country_6\"], data_linear_booleans_lean_P_under[\"country_7\"], data_linear_booleans_lean_P_under[\"country_8\"], data_linear_booleans_lean_P_under[\"country_9\"], data_linear_booleans_lean_P_under[\"country_10\"], data_linear_booleans_lean_P_under[\"country_11\"] = bins_encoded.T\n",
      "/tmp/ipykernel_1649/2414559662.py:4: SettingWithCopyWarning: \n",
      "A value is trying to be set on a copy of a slice from a DataFrame.\n",
      "Try using .loc[row_indexer,col_indexer] = value instead\n",
      "\n",
      "See the caveats in the documentation: https://pandas.pydata.org/pandas-docs/stable/user_guide/indexing.html#returning-a-view-versus-a-copy\n",
      "  data_linear_booleans_lean_P_under[\"country_1\"], data_linear_booleans_lean_P_under[\"country_2\"], data_linear_booleans_lean_P_under[\"country_3\"], data_linear_booleans_lean_P_under[\"country_4\"], data_linear_booleans_lean_P_under[\"country_5\"],data_linear_booleans_lean_P_under[\"country_6\"], data_linear_booleans_lean_P_under[\"country_7\"], data_linear_booleans_lean_P_under[\"country_8\"], data_linear_booleans_lean_P_under[\"country_9\"], data_linear_booleans_lean_P_under[\"country_10\"], data_linear_booleans_lean_P_under[\"country_11\"] = bins_encoded.T\n",
      "/tmp/ipykernel_1649/2414559662.py:4: SettingWithCopyWarning: \n",
      "A value is trying to be set on a copy of a slice from a DataFrame.\n",
      "Try using .loc[row_indexer,col_indexer] = value instead\n",
      "\n",
      "See the caveats in the documentation: https://pandas.pydata.org/pandas-docs/stable/user_guide/indexing.html#returning-a-view-versus-a-copy\n",
      "  data_linear_booleans_lean_P_under[\"country_1\"], data_linear_booleans_lean_P_under[\"country_2\"], data_linear_booleans_lean_P_under[\"country_3\"], data_linear_booleans_lean_P_under[\"country_4\"], data_linear_booleans_lean_P_under[\"country_5\"],data_linear_booleans_lean_P_under[\"country_6\"], data_linear_booleans_lean_P_under[\"country_7\"], data_linear_booleans_lean_P_under[\"country_8\"], data_linear_booleans_lean_P_under[\"country_9\"], data_linear_booleans_lean_P_under[\"country_10\"], data_linear_booleans_lean_P_under[\"country_11\"] = bins_encoded.T\n"
     ]
    }
   ],
   "source": [
    "ohe = OneHotEncoder(sparse=False) \n",
    "ohe.fit(data_linear_booleans_lean_P_under[['country']])\n",
    "bins_encoded = ohe.transform(data_linear_booleans_lean_P_under[['country']])\n",
    "data_linear_booleans_lean_P_under[\"country_1\"], data_linear_booleans_lean_P_under[\"country_2\"], data_linear_booleans_lean_P_under[\"country_3\"], data_linear_booleans_lean_P_under[\"country_4\"], data_linear_booleans_lean_P_under[\"country_5\"],data_linear_booleans_lean_P_under[\"country_6\"], data_linear_booleans_lean_P_under[\"country_7\"], data_linear_booleans_lean_P_under[\"country_8\"], data_linear_booleans_lean_P_under[\"country_9\"], data_linear_booleans_lean_P_under[\"country_10\"], data_linear_booleans_lean_P_under[\"country_11\"] = bins_encoded.T\n",
    "#data_linear_booleans_lean_P_under.drop(columns='binned <2.5 pinacle', inplace=True)"
   ]
  },
  {
   "cell_type": "code",
   "execution_count": 37,
   "id": "b370ac37",
   "metadata": {},
   "outputs": [],
   "source": [
    "#a =data_linear_booleans_lean_P_under[['country','country_1','country_2','country_3','country_4','country_5','country_6','country_7','country_8','country_9','country_10','country_11']]"
   ]
  },
  {
   "cell_type": "code",
   "execution_count": 38,
   "id": "7559c073",
   "metadata": {},
   "outputs": [],
   "source": [
    "#a[a['country_11']==1]"
   ]
  },
  {
   "cell_type": "code",
   "execution_count": 39,
   "id": "54cedc3d",
   "metadata": {},
   "outputs": [],
   "source": [
    "data_linear_booleans_lean_P_under = data_linear_booleans_lean_P_under[data_linear_booleans_lean_P_under['extra']==0]"
   ]
  },
  {
   "cell_type": "code",
   "execution_count": 40,
   "id": "4f9c492f",
   "metadata": {},
   "outputs": [],
   "source": [
    "#extra\n",
    "data_linear_booleans_lean_P_under = data_linear_booleans_lean_P_under.drop(['country'],axis=1)"
   ]
  },
  {
   "cell_type": "code",
   "execution_count": 41,
   "id": "8218d14b",
   "metadata": {},
   "outputs": [],
   "source": [
    "#extra\n",
    "data_linear_booleans_lean_P_under = data_linear_booleans_lean_P_under.drop(['binned odds <2.5 pinacle closing'],axis=1)"
   ]
  },
  {
   "cell_type": "code",
   "execution_count": 42,
   "id": "58ffa7e2",
   "metadata": {},
   "outputs": [
    {
     "data": {
      "text/plain": [
       "month_after_July                     5346.00\n",
       "year_2021_2022                       5732.00\n",
       "game_starts_after_4pm                6221.00\n",
       "Pin_pays_better_under_boolean        9222.00\n",
       "Market_consensus                     6072.00\n",
       "%vig_p_bool                          3755.00\n",
       "PC<2.5_P_boolean                     4932.00\n",
       "payout_under_2.5_pinacle_closing    10100.48\n",
       "1.0_to_1.5                            440.00\n",
       "1.5_to_2.0                           4587.00\n",
       "2.0_to_3.0                           4781.00\n",
       "3.0_to_99999.0                        620.00\n",
       "extra                                   0.00\n",
       "country_1                             844.00\n",
       "country_2                             909.00\n",
       "country_3                            1140.00\n",
       "country_4                            1039.00\n",
       "country_5                             720.00\n",
       "country_6                            1140.00\n",
       "country_7                             841.00\n",
       "country_8                             917.00\n",
       "country_9                             634.00\n",
       "country_10                           1139.00\n",
       "country_11                           1105.00\n",
       "dtype: float64"
      ]
     },
     "execution_count": 42,
     "metadata": {},
     "output_type": "execute_result"
    }
   ],
   "source": [
    "data_linear_booleans_lean_P_under.sum()"
   ]
  },
  {
   "cell_type": "code",
   "execution_count": 43,
   "id": "8d7c2313",
   "metadata": {},
   "outputs": [
    {
     "name": "stdout",
     "output_type": "stream",
     "text": [
      "month_after_July\n",
      "year_2021_2022\n",
      "game_starts_after_4pm\n",
      "Pin_pays_better_under_boolean\n",
      "Market_consensus\n",
      "%vig_p_bool\n",
      "PC<2.5_P_boolean\n",
      "payout_under_2.5_pinacle_closing\n",
      "1.0_to_1.5\n",
      "1.5_to_2.0\n",
      "2.0_to_3.0\n",
      "3.0_to_99999.0\n",
      "extra\n",
      "country_1\n",
      "country_2\n",
      "country_3\n",
      "country_4\n",
      "country_5\n",
      "country_6\n",
      "country_7\n",
      "country_8\n",
      "country_9\n",
      "country_10\n",
      "country_11\n"
     ]
    }
   ],
   "source": [
    "for col_name in data_linear_booleans_lean_P_under.columns: \n",
    "    print(col_name)"
   ]
  },
  {
   "cell_type": "code",
   "execution_count": 44,
   "id": "7b6eb27a",
   "metadata": {},
   "outputs": [],
   "source": [
    "# test_model = data_model_over_under.drop(columns=['FTHG', 'FTAG', 'nb_goals', 'over_2.5_goals', 'under_2.5_goals', \n",
    "#                                                 'Div', 'Date', 'Time', 'HomeTeam', 'AwayTeam', 'binned <2.5 avg', \n",
    "#                                                 'binned >2.5 avg', 'binned >2.5 pinacle', 'binned <2.5 365', \n",
    "#                                                  'binned >2.5 365', 'binned <2.5 avg closing', 'binned >2.5 avg closing', \n",
    "#                                                 'binned <2.5 pinacle closing', 'binned >2.5 pinacle closing', 'binned <2.5 365 closing', \n",
    "#                                                 'binned >2.5 365 closing', \n",
    "#                                                 'B365>2.5', 'B365<2.5', 'B365C>2.5', 'B365C<2.5', 'payout_under_2.5_365', 'payout_over_2.5_365', \n",
    "#                                                 'payout_under_2.5_365_closing', 'payout_over_2.5_365_closing', \n",
    "#                                                 'Implied Probability <2.5 365', 'Implied Probability >2.5 365', \n",
    "#                                                 'Implied Probability <2.5 365 closing', 'Implied Probability >2.5 365 closing', \n",
    "#                                                 'payout_avg_under_2.5', 'payout_avg_over_2.5', 'payout_under_2.5_pinacle', \n",
    "#                                                 'payout_avg_over_closing_2.5', 'payout_over_2.5_pinacle_closing', \n",
    "#                                                 'Implied Probability <2.5 avg', 'Implied Probability >2.5 avg', \n",
    "#                                                 'Implied Probability <2.5 pinacle', 'Implied Probability >2.5 pinacle', \n",
    "#                                                 'Avg>2.5', 'P>2.5', 'AvgC>2.5', 'PC>2.5', 'payout_over_2.5_pinacle', \n",
    "#                                                 'Implied Probability >2.5 avg closing', 'Implied Probability >2.5 pinacle closing', \n",
    "#                                                 'payout_avg_under_closing_2.5', 'Avg<2.5', 'P<2.5', 'AvgC<2.5', 'PC<2.5', \n",
    "#                                                 'Implied Probability <2.5 avg closing', 'Implied Probability <2.5 pinacle closing'])\n",
    "\n",
    "# test_model"
   ]
  },
  {
   "cell_type": "code",
   "execution_count": 45,
   "id": "28c9cf5a",
   "metadata": {},
   "outputs": [
    {
     "data": {
      "text/plain": [
       "Index(['month_after_July', 'year_2021_2022', 'game_starts_after_4pm',\n",
       "       'Pin_pays_better_under_boolean', 'Market_consensus', '%vig_p_bool',\n",
       "       'PC<2.5_P_boolean', 'payout_under_2.5_pinacle_closing', '1.0_to_1.5',\n",
       "       '1.5_to_2.0', '2.0_to_3.0', '3.0_to_99999.0', 'extra', 'country_1',\n",
       "       'country_2', 'country_3', 'country_4', 'country_5', 'country_6',\n",
       "       'country_7', 'country_8', 'country_9', 'country_10', 'country_11'],\n",
       "      dtype='object')"
      ]
     },
     "execution_count": 45,
     "metadata": {},
     "output_type": "execute_result"
    }
   ],
   "source": [
    "data_linear_booleans_lean_P_under.columns"
   ]
  },
  {
   "cell_type": "code",
   "execution_count": 46,
   "id": "af915b8a",
   "metadata": {},
   "outputs": [],
   "source": [
    "X = data_linear_booleans_lean_P_under[['Pin_pays_better_under_boolean','Market_consensus','%vig_p_bool','PC<2.5_P_boolean', '1.0_to_1.5', '1.5_to_2.0', '2.0_to_3.0','3.0_to_99999.0']]\n",
    "X_step2 = data_linear_booleans_lean_P_under[['%vig_p_bool','PC<2.5_P_boolean', '1.0_to_1.5', '1.5_to_2.0', '2.0_to_3.0','3.0_to_99999.0']]\n",
    "X_step3 = data_linear_booleans_lean_P_under[['country_1','country_2','country_3','country_4','country_5','country_6','country_7','country_8','country_9','country_10','country_11','month_after_July', 'year_2021_2022', 'game_starts_after_4pm','Pin_pays_better_under_boolean','Market_consensus','%vig_p_bool','PC<2.5_P_boolean','1.0_to_1.5', '1.5_to_2.0', '2.0_to_3.0','3.0_to_99999.0']]\n",
    "#X_step4 = data_linear_booleans_lean_P_under[['country_1','country_2','country_3','country_4','country_5','country_6','country_7','country_8','country_9','country_10','country_11']]\n",
    "y = data_linear_booleans_lean_P_under['payout_under_2.5_pinacle_closing']"
   ]
  },
  {
   "cell_type": "code",
   "execution_count": 47,
   "id": "1aab37df",
   "metadata": {},
   "outputs": [],
   "source": [
    "#X_step4 = data_linear_booleans_lean_P_under[['country_1','country_2','country_3','country_4','country_5','country_6','country_7','country_8','country_9','country_10','country_11']]\n",
    "#y = data_linear_booleans_lean_P_under['payout_under_2.5_pinacle_closing']"
   ]
  },
  {
   "cell_type": "code",
   "execution_count": 48,
   "id": "915b0a82",
   "metadata": {},
   "outputs": [],
   "source": [
    "import statsmodels.api as sm"
   ]
  },
  {
   "cell_type": "code",
   "execution_count": 49,
   "id": "57df7a6d",
   "metadata": {},
   "outputs": [],
   "source": [
    "results = sm.OLS(y,X_step3.astype(float)).fit()"
   ]
  },
  {
   "cell_type": "code",
   "execution_count": 50,
   "id": "3ab89a4a",
   "metadata": {},
   "outputs": [
    {
     "data": {
      "text/html": [
       "<table class=\"simpletable\">\n",
       "<caption>OLS Regression Results</caption>\n",
       "<tr>\n",
       "  <th>Dep. Variable:</th>    <td>payout_under_2.5_pinacle_closing</td> <th>  R-squared:         </th> <td>   0.002</td> \n",
       "</tr>\n",
       "<tr>\n",
       "  <th>Model:</th>                           <td>OLS</td>               <th>  Adj. R-squared:    </th> <td>  -0.000</td> \n",
       "</tr>\n",
       "<tr>\n",
       "  <th>Method:</th>                     <td>Least Squares</td>          <th>  F-statistic:       </th> <td>  0.8333</td> \n",
       "</tr>\n",
       "<tr>\n",
       "  <th>Date:</th>                     <td>Thu, 02 Jun 2022</td>         <th>  Prob (F-statistic):</th>  <td> 0.675</td>  \n",
       "</tr>\n",
       "<tr>\n",
       "  <th>Time:</th>                         <td>22:31:43</td>             <th>  Log-Likelihood:    </th> <td> -15332.</td> \n",
       "</tr>\n",
       "<tr>\n",
       "  <th>No. Observations:</th>              <td> 10428</td>              <th>  AIC:               </th> <td>3.071e+04</td>\n",
       "</tr>\n",
       "<tr>\n",
       "  <th>Df Residuals:</th>                  <td> 10407</td>              <th>  BIC:               </th> <td>3.086e+04</td>\n",
       "</tr>\n",
       "<tr>\n",
       "  <th>Df Model:</th>                      <td>    20</td>              <th>                     </th>     <td> </td>    \n",
       "</tr>\n",
       "<tr>\n",
       "  <th>Covariance Type:</th>              <td>nonrobust</td>            <th>                     </th>     <td> </td>    \n",
       "</tr>\n",
       "</table>\n",
       "<table class=\"simpletable\">\n",
       "<tr>\n",
       "                <td></td>                   <th>coef</th>     <th>std err</th>      <th>t</th>      <th>P>|t|</th>  <th>[0.025</th>    <th>0.975]</th>  \n",
       "</tr>\n",
       "<tr>\n",
       "  <th>country_1</th>                     <td>    0.2311</td> <td>    0.041</td> <td>    5.574</td> <td> 0.000</td> <td>    0.150</td> <td>    0.312</td>\n",
       "</tr>\n",
       "<tr>\n",
       "  <th>country_2</th>                     <td>    0.2083</td> <td>    0.037</td> <td>    5.697</td> <td> 0.000</td> <td>    0.137</td> <td>    0.280</td>\n",
       "</tr>\n",
       "<tr>\n",
       "  <th>country_3</th>                     <td>    0.2809</td> <td>    0.033</td> <td>    8.512</td> <td> 0.000</td> <td>    0.216</td> <td>    0.346</td>\n",
       "</tr>\n",
       "<tr>\n",
       "  <th>country_4</th>                     <td>    0.2203</td> <td>    0.034</td> <td>    6.421</td> <td> 0.000</td> <td>    0.153</td> <td>    0.288</td>\n",
       "</tr>\n",
       "<tr>\n",
       "  <th>country_5</th>                     <td>    0.2334</td> <td>    0.047</td> <td>    5.007</td> <td> 0.000</td> <td>    0.142</td> <td>    0.325</td>\n",
       "</tr>\n",
       "<tr>\n",
       "  <th>country_6</th>                     <td>    0.2070</td> <td>    0.034</td> <td>    6.129</td> <td> 0.000</td> <td>    0.141</td> <td>    0.273</td>\n",
       "</tr>\n",
       "<tr>\n",
       "  <th>country_7</th>                     <td>    0.2935</td> <td>    0.039</td> <td>    7.508</td> <td> 0.000</td> <td>    0.217</td> <td>    0.370</td>\n",
       "</tr>\n",
       "<tr>\n",
       "  <th>country_8</th>                     <td>    0.2818</td> <td>    0.038</td> <td>    7.446</td> <td> 0.000</td> <td>    0.208</td> <td>    0.356</td>\n",
       "</tr>\n",
       "<tr>\n",
       "  <th>country_9</th>                     <td>    0.2619</td> <td>    0.043</td> <td>    6.130</td> <td> 0.000</td> <td>    0.178</td> <td>    0.346</td>\n",
       "</tr>\n",
       "<tr>\n",
       "  <th>country_10</th>                    <td>    0.2888</td> <td>    0.033</td> <td>    8.753</td> <td> 0.000</td> <td>    0.224</td> <td>    0.353</td>\n",
       "</tr>\n",
       "<tr>\n",
       "  <th>country_11</th>                    <td>    0.2423</td> <td>    0.035</td> <td>    7.018</td> <td> 0.000</td> <td>    0.175</td> <td>    0.310</td>\n",
       "</tr>\n",
       "<tr>\n",
       "  <th>month_after_July</th>              <td>   -0.0255</td> <td>    0.023</td> <td>   -1.103</td> <td> 0.270</td> <td>   -0.071</td> <td>    0.020</td>\n",
       "</tr>\n",
       "<tr>\n",
       "  <th>year_2021_2022</th>                <td>   -0.0073</td> <td>    0.023</td> <td>   -0.313</td> <td> 0.754</td> <td>   -0.053</td> <td>    0.038</td>\n",
       "</tr>\n",
       "<tr>\n",
       "  <th>game_starts_after_4pm</th>         <td>    0.0286</td> <td>    0.022</td> <td>    1.299</td> <td> 0.194</td> <td>   -0.015</td> <td>    0.072</td>\n",
       "</tr>\n",
       "<tr>\n",
       "  <th>Pin_pays_better_under_boolean</th> <td>   -0.0014</td> <td>    0.034</td> <td>   -0.041</td> <td> 0.967</td> <td>   -0.069</td> <td>    0.066</td>\n",
       "</tr>\n",
       "<tr>\n",
       "  <th>Market_consensus</th>              <td>    0.0004</td> <td>    0.023</td> <td>    0.017</td> <td> 0.987</td> <td>   -0.045</td> <td>    0.046</td>\n",
       "</tr>\n",
       "<tr>\n",
       "  <th>%vig_p_bool</th>                   <td>    0.0126</td> <td>    0.030</td> <td>    0.419</td> <td> 0.675</td> <td>   -0.046</td> <td>    0.071</td>\n",
       "</tr>\n",
       "<tr>\n",
       "  <th>PC<2.5_P_boolean</th>              <td>    0.0315</td> <td>    0.022</td> <td>    1.414</td> <td> 0.157</td> <td>   -0.012</td> <td>    0.075</td>\n",
       "</tr>\n",
       "<tr>\n",
       "  <th>1.0_to_1.5</th>                    <td>    0.6879</td> <td>    0.060</td> <td>   11.453</td> <td> 0.000</td> <td>    0.570</td> <td>    0.806</td>\n",
       "</tr>\n",
       "<tr>\n",
       "  <th>1.5_to_2.0</th>                    <td>    0.7007</td> <td>    0.036</td> <td>   19.222</td> <td> 0.000</td> <td>    0.629</td> <td>    0.772</td>\n",
       "</tr>\n",
       "<tr>\n",
       "  <th>2.0_to_3.0</th>                    <td>    0.7073</td> <td>    0.039</td> <td>   18.175</td> <td> 0.000</td> <td>    0.631</td> <td>    0.784</td>\n",
       "</tr>\n",
       "<tr>\n",
       "  <th>3.0_to_99999.0</th>                <td>    0.6534</td> <td>    0.058</td> <td>   11.302</td> <td> 0.000</td> <td>    0.540</td> <td>    0.767</td>\n",
       "</tr>\n",
       "</table>\n",
       "<table class=\"simpletable\">\n",
       "<tr>\n",
       "  <th>Omnibus:</th>       <td>18945.660</td> <th>  Durbin-Watson:     </th> <td>   1.992</td> \n",
       "</tr>\n",
       "<tr>\n",
       "  <th>Prob(Omnibus):</th>  <td> 0.000</td>   <th>  Jarque-Bera (JB):  </th> <td> 961.422</td> \n",
       "</tr>\n",
       "<tr>\n",
       "  <th>Skew:</th>           <td> 0.393</td>   <th>  Prob(JB):          </th> <td>1.70e-209</td>\n",
       "</tr>\n",
       "<tr>\n",
       "  <th>Kurtosis:</th>       <td> 1.737</td>   <th>  Cond. No.          </th> <td>5.41e+15</td> \n",
       "</tr>\n",
       "</table><br/><br/>Notes:<br/>[1] Standard Errors assume that the covariance matrix of the errors is correctly specified.<br/>[2] The smallest eigenvalue is 1.08e-27. This might indicate that there are<br/>strong multicollinearity problems or that the design matrix is singular."
      ],
      "text/plain": [
       "<class 'statsmodels.iolib.summary.Summary'>\n",
       "\"\"\"\n",
       "                                   OLS Regression Results                                   \n",
       "============================================================================================\n",
       "Dep. Variable:     payout_under_2.5_pinacle_closing   R-squared:                       0.002\n",
       "Model:                                          OLS   Adj. R-squared:                 -0.000\n",
       "Method:                               Least Squares   F-statistic:                    0.8333\n",
       "Date:                              Thu, 02 Jun 2022   Prob (F-statistic):              0.675\n",
       "Time:                                      22:31:43   Log-Likelihood:                -15332.\n",
       "No. Observations:                             10428   AIC:                         3.071e+04\n",
       "Df Residuals:                                 10407   BIC:                         3.086e+04\n",
       "Df Model:                                        20                                         \n",
       "Covariance Type:                          nonrobust                                         \n",
       "=================================================================================================\n",
       "                                    coef    std err          t      P>|t|      [0.025      0.975]\n",
       "-------------------------------------------------------------------------------------------------\n",
       "country_1                         0.2311      0.041      5.574      0.000       0.150       0.312\n",
       "country_2                         0.2083      0.037      5.697      0.000       0.137       0.280\n",
       "country_3                         0.2809      0.033      8.512      0.000       0.216       0.346\n",
       "country_4                         0.2203      0.034      6.421      0.000       0.153       0.288\n",
       "country_5                         0.2334      0.047      5.007      0.000       0.142       0.325\n",
       "country_6                         0.2070      0.034      6.129      0.000       0.141       0.273\n",
       "country_7                         0.2935      0.039      7.508      0.000       0.217       0.370\n",
       "country_8                         0.2818      0.038      7.446      0.000       0.208       0.356\n",
       "country_9                         0.2619      0.043      6.130      0.000       0.178       0.346\n",
       "country_10                        0.2888      0.033      8.753      0.000       0.224       0.353\n",
       "country_11                        0.2423      0.035      7.018      0.000       0.175       0.310\n",
       "month_after_July                 -0.0255      0.023     -1.103      0.270      -0.071       0.020\n",
       "year_2021_2022                   -0.0073      0.023     -0.313      0.754      -0.053       0.038\n",
       "game_starts_after_4pm             0.0286      0.022      1.299      0.194      -0.015       0.072\n",
       "Pin_pays_better_under_boolean    -0.0014      0.034     -0.041      0.967      -0.069       0.066\n",
       "Market_consensus                  0.0004      0.023      0.017      0.987      -0.045       0.046\n",
       "%vig_p_bool                       0.0126      0.030      0.419      0.675      -0.046       0.071\n",
       "PC<2.5_P_boolean                  0.0315      0.022      1.414      0.157      -0.012       0.075\n",
       "1.0_to_1.5                        0.6879      0.060     11.453      0.000       0.570       0.806\n",
       "1.5_to_2.0                        0.7007      0.036     19.222      0.000       0.629       0.772\n",
       "2.0_to_3.0                        0.7073      0.039     18.175      0.000       0.631       0.784\n",
       "3.0_to_99999.0                    0.6534      0.058     11.302      0.000       0.540       0.767\n",
       "==============================================================================\n",
       "Omnibus:                    18945.660   Durbin-Watson:                   1.992\n",
       "Prob(Omnibus):                  0.000   Jarque-Bera (JB):              961.422\n",
       "Skew:                           0.393   Prob(JB):                    1.70e-209\n",
       "Kurtosis:                       1.737   Cond. No.                     5.41e+15\n",
       "==============================================================================\n",
       "\n",
       "Notes:\n",
       "[1] Standard Errors assume that the covariance matrix of the errors is correctly specified.\n",
       "[2] The smallest eigenvalue is 1.08e-27. This might indicate that there are\n",
       "strong multicollinearity problems or that the design matrix is singular.\n",
       "\"\"\""
      ]
     },
     "execution_count": 50,
     "metadata": {},
     "output_type": "execute_result"
    }
   ],
   "source": [
    "results.summary()"
   ]
  },
  {
   "cell_type": "code",
   "execution_count": 51,
   "id": "7c4f84e5",
   "metadata": {},
   "outputs": [
    {
     "ename": "FileNotFoundError",
     "evalue": "[Errno 2] No such file or directory: '../input/fifa-2018-match-statistics/FIFA 2018 Statistics.csv'",
     "output_type": "error",
     "traceback": [
      "\u001b[0;31m---------------------------------------------------------------------------\u001b[0m",
      "\u001b[0;31mFileNotFoundError\u001b[0m                         Traceback (most recent call last)",
      "Input \u001b[0;32mIn [51]\u001b[0m, in \u001b[0;36m<cell line: 6>\u001b[0;34m()\u001b[0m\n\u001b[1;32m      3\u001b[0m \u001b[38;5;28;01mfrom\u001b[39;00m \u001b[38;5;21;01msklearn\u001b[39;00m\u001b[38;5;21;01m.\u001b[39;00m\u001b[38;5;21;01mmodel_selection\u001b[39;00m \u001b[38;5;28;01mimport\u001b[39;00m train_test_split\n\u001b[1;32m      4\u001b[0m \u001b[38;5;28;01mfrom\u001b[39;00m \u001b[38;5;21;01msklearn\u001b[39;00m\u001b[38;5;21;01m.\u001b[39;00m\u001b[38;5;21;01mensemble\u001b[39;00m \u001b[38;5;28;01mimport\u001b[39;00m RandomForestClassifier\n\u001b[0;32m----> 6\u001b[0m data \u001b[38;5;241m=\u001b[39m \u001b[43mpd\u001b[49m\u001b[38;5;241;43m.\u001b[39;49m\u001b[43mread_csv\u001b[49m\u001b[43m(\u001b[49m\u001b[38;5;124;43m'\u001b[39;49m\u001b[38;5;124;43m../input/fifa-2018-match-statistics/FIFA 2018 Statistics.csv\u001b[39;49m\u001b[38;5;124;43m'\u001b[39;49m\u001b[43m)\u001b[49m\n\u001b[1;32m      7\u001b[0m y \u001b[38;5;241m=\u001b[39m (data[\u001b[38;5;124m'\u001b[39m\u001b[38;5;124mMan of the Match\u001b[39m\u001b[38;5;124m'\u001b[39m] \u001b[38;5;241m==\u001b[39m \u001b[38;5;124m\"\u001b[39m\u001b[38;5;124mYes\u001b[39m\u001b[38;5;124m\"\u001b[39m)  \u001b[38;5;66;03m# Convert from string \"Yes\"/\"No\" to binary\u001b[39;00m\n\u001b[1;32m      8\u001b[0m feature_names \u001b[38;5;241m=\u001b[39m [i \u001b[38;5;28;01mfor\u001b[39;00m i \u001b[38;5;129;01min\u001b[39;00m data\u001b[38;5;241m.\u001b[39mcolumns \u001b[38;5;28;01mif\u001b[39;00m data[i]\u001b[38;5;241m.\u001b[39mdtype \u001b[38;5;129;01min\u001b[39;00m [np\u001b[38;5;241m.\u001b[39mint64, np\u001b[38;5;241m.\u001b[39mint64]]\n",
      "File \u001b[0;32m~/.pyenv/versions/3.8.12/envs/OnThePitch/lib/python3.8/site-packages/pandas/util/_decorators.py:311\u001b[0m, in \u001b[0;36mdeprecate_nonkeyword_arguments.<locals>.decorate.<locals>.wrapper\u001b[0;34m(*args, **kwargs)\u001b[0m\n\u001b[1;32m    305\u001b[0m \u001b[38;5;28;01mif\u001b[39;00m \u001b[38;5;28mlen\u001b[39m(args) \u001b[38;5;241m>\u001b[39m num_allow_args:\n\u001b[1;32m    306\u001b[0m     warnings\u001b[38;5;241m.\u001b[39mwarn(\n\u001b[1;32m    307\u001b[0m         msg\u001b[38;5;241m.\u001b[39mformat(arguments\u001b[38;5;241m=\u001b[39marguments),\n\u001b[1;32m    308\u001b[0m         \u001b[38;5;167;01mFutureWarning\u001b[39;00m,\n\u001b[1;32m    309\u001b[0m         stacklevel\u001b[38;5;241m=\u001b[39mstacklevel,\n\u001b[1;32m    310\u001b[0m     )\n\u001b[0;32m--> 311\u001b[0m \u001b[38;5;28;01mreturn\u001b[39;00m \u001b[43mfunc\u001b[49m\u001b[43m(\u001b[49m\u001b[38;5;241;43m*\u001b[39;49m\u001b[43margs\u001b[49m\u001b[43m,\u001b[49m\u001b[43m \u001b[49m\u001b[38;5;241;43m*\u001b[39;49m\u001b[38;5;241;43m*\u001b[39;49m\u001b[43mkwargs\u001b[49m\u001b[43m)\u001b[49m\n",
      "File \u001b[0;32m~/.pyenv/versions/3.8.12/envs/OnThePitch/lib/python3.8/site-packages/pandas/io/parsers/readers.py:680\u001b[0m, in \u001b[0;36mread_csv\u001b[0;34m(filepath_or_buffer, sep, delimiter, header, names, index_col, usecols, squeeze, prefix, mangle_dupe_cols, dtype, engine, converters, true_values, false_values, skipinitialspace, skiprows, skipfooter, nrows, na_values, keep_default_na, na_filter, verbose, skip_blank_lines, parse_dates, infer_datetime_format, keep_date_col, date_parser, dayfirst, cache_dates, iterator, chunksize, compression, thousands, decimal, lineterminator, quotechar, quoting, doublequote, escapechar, comment, encoding, encoding_errors, dialect, error_bad_lines, warn_bad_lines, on_bad_lines, delim_whitespace, low_memory, memory_map, float_precision, storage_options)\u001b[0m\n\u001b[1;32m    665\u001b[0m kwds_defaults \u001b[38;5;241m=\u001b[39m _refine_defaults_read(\n\u001b[1;32m    666\u001b[0m     dialect,\n\u001b[1;32m    667\u001b[0m     delimiter,\n\u001b[0;32m   (...)\u001b[0m\n\u001b[1;32m    676\u001b[0m     defaults\u001b[38;5;241m=\u001b[39m{\u001b[38;5;124m\"\u001b[39m\u001b[38;5;124mdelimiter\u001b[39m\u001b[38;5;124m\"\u001b[39m: \u001b[38;5;124m\"\u001b[39m\u001b[38;5;124m,\u001b[39m\u001b[38;5;124m\"\u001b[39m},\n\u001b[1;32m    677\u001b[0m )\n\u001b[1;32m    678\u001b[0m kwds\u001b[38;5;241m.\u001b[39mupdate(kwds_defaults)\n\u001b[0;32m--> 680\u001b[0m \u001b[38;5;28;01mreturn\u001b[39;00m \u001b[43m_read\u001b[49m\u001b[43m(\u001b[49m\u001b[43mfilepath_or_buffer\u001b[49m\u001b[43m,\u001b[49m\u001b[43m \u001b[49m\u001b[43mkwds\u001b[49m\u001b[43m)\u001b[49m\n",
      "File \u001b[0;32m~/.pyenv/versions/3.8.12/envs/OnThePitch/lib/python3.8/site-packages/pandas/io/parsers/readers.py:575\u001b[0m, in \u001b[0;36m_read\u001b[0;34m(filepath_or_buffer, kwds)\u001b[0m\n\u001b[1;32m    572\u001b[0m _validate_names(kwds\u001b[38;5;241m.\u001b[39mget(\u001b[38;5;124m\"\u001b[39m\u001b[38;5;124mnames\u001b[39m\u001b[38;5;124m\"\u001b[39m, \u001b[38;5;28;01mNone\u001b[39;00m))\n\u001b[1;32m    574\u001b[0m \u001b[38;5;66;03m# Create the parser.\u001b[39;00m\n\u001b[0;32m--> 575\u001b[0m parser \u001b[38;5;241m=\u001b[39m \u001b[43mTextFileReader\u001b[49m\u001b[43m(\u001b[49m\u001b[43mfilepath_or_buffer\u001b[49m\u001b[43m,\u001b[49m\u001b[43m \u001b[49m\u001b[38;5;241;43m*\u001b[39;49m\u001b[38;5;241;43m*\u001b[39;49m\u001b[43mkwds\u001b[49m\u001b[43m)\u001b[49m\n\u001b[1;32m    577\u001b[0m \u001b[38;5;28;01mif\u001b[39;00m chunksize \u001b[38;5;129;01mor\u001b[39;00m iterator:\n\u001b[1;32m    578\u001b[0m     \u001b[38;5;28;01mreturn\u001b[39;00m parser\n",
      "File \u001b[0;32m~/.pyenv/versions/3.8.12/envs/OnThePitch/lib/python3.8/site-packages/pandas/io/parsers/readers.py:933\u001b[0m, in \u001b[0;36mTextFileReader.__init__\u001b[0;34m(self, f, engine, **kwds)\u001b[0m\n\u001b[1;32m    930\u001b[0m     \u001b[38;5;28mself\u001b[39m\u001b[38;5;241m.\u001b[39moptions[\u001b[38;5;124m\"\u001b[39m\u001b[38;5;124mhas_index_names\u001b[39m\u001b[38;5;124m\"\u001b[39m] \u001b[38;5;241m=\u001b[39m kwds[\u001b[38;5;124m\"\u001b[39m\u001b[38;5;124mhas_index_names\u001b[39m\u001b[38;5;124m\"\u001b[39m]\n\u001b[1;32m    932\u001b[0m \u001b[38;5;28mself\u001b[39m\u001b[38;5;241m.\u001b[39mhandles: IOHandles \u001b[38;5;241m|\u001b[39m \u001b[38;5;28;01mNone\u001b[39;00m \u001b[38;5;241m=\u001b[39m \u001b[38;5;28;01mNone\u001b[39;00m\n\u001b[0;32m--> 933\u001b[0m \u001b[38;5;28mself\u001b[39m\u001b[38;5;241m.\u001b[39m_engine \u001b[38;5;241m=\u001b[39m \u001b[38;5;28;43mself\u001b[39;49m\u001b[38;5;241;43m.\u001b[39;49m\u001b[43m_make_engine\u001b[49m\u001b[43m(\u001b[49m\u001b[43mf\u001b[49m\u001b[43m,\u001b[49m\u001b[43m \u001b[49m\u001b[38;5;28;43mself\u001b[39;49m\u001b[38;5;241;43m.\u001b[39;49m\u001b[43mengine\u001b[49m\u001b[43m)\u001b[49m\n",
      "File \u001b[0;32m~/.pyenv/versions/3.8.12/envs/OnThePitch/lib/python3.8/site-packages/pandas/io/parsers/readers.py:1217\u001b[0m, in \u001b[0;36mTextFileReader._make_engine\u001b[0;34m(self, f, engine)\u001b[0m\n\u001b[1;32m   1213\u001b[0m     mode \u001b[38;5;241m=\u001b[39m \u001b[38;5;124m\"\u001b[39m\u001b[38;5;124mrb\u001b[39m\u001b[38;5;124m\"\u001b[39m\n\u001b[1;32m   1214\u001b[0m \u001b[38;5;66;03m# error: No overload variant of \"get_handle\" matches argument types\u001b[39;00m\n\u001b[1;32m   1215\u001b[0m \u001b[38;5;66;03m# \"Union[str, PathLike[str], ReadCsvBuffer[bytes], ReadCsvBuffer[str]]\"\u001b[39;00m\n\u001b[1;32m   1216\u001b[0m \u001b[38;5;66;03m# , \"str\", \"bool\", \"Any\", \"Any\", \"Any\", \"Any\", \"Any\"\u001b[39;00m\n\u001b[0;32m-> 1217\u001b[0m \u001b[38;5;28mself\u001b[39m\u001b[38;5;241m.\u001b[39mhandles \u001b[38;5;241m=\u001b[39m \u001b[43mget_handle\u001b[49m\u001b[43m(\u001b[49m\u001b[43m  \u001b[49m\u001b[38;5;66;43;03m# type: ignore[call-overload]\u001b[39;49;00m\n\u001b[1;32m   1218\u001b[0m \u001b[43m    \u001b[49m\u001b[43mf\u001b[49m\u001b[43m,\u001b[49m\n\u001b[1;32m   1219\u001b[0m \u001b[43m    \u001b[49m\u001b[43mmode\u001b[49m\u001b[43m,\u001b[49m\n\u001b[1;32m   1220\u001b[0m \u001b[43m    \u001b[49m\u001b[43mencoding\u001b[49m\u001b[38;5;241;43m=\u001b[39;49m\u001b[38;5;28;43mself\u001b[39;49m\u001b[38;5;241;43m.\u001b[39;49m\u001b[43moptions\u001b[49m\u001b[38;5;241;43m.\u001b[39;49m\u001b[43mget\u001b[49m\u001b[43m(\u001b[49m\u001b[38;5;124;43m\"\u001b[39;49m\u001b[38;5;124;43mencoding\u001b[39;49m\u001b[38;5;124;43m\"\u001b[39;49m\u001b[43m,\u001b[49m\u001b[43m \u001b[49m\u001b[38;5;28;43;01mNone\u001b[39;49;00m\u001b[43m)\u001b[49m\u001b[43m,\u001b[49m\n\u001b[1;32m   1221\u001b[0m \u001b[43m    \u001b[49m\u001b[43mcompression\u001b[49m\u001b[38;5;241;43m=\u001b[39;49m\u001b[38;5;28;43mself\u001b[39;49m\u001b[38;5;241;43m.\u001b[39;49m\u001b[43moptions\u001b[49m\u001b[38;5;241;43m.\u001b[39;49m\u001b[43mget\u001b[49m\u001b[43m(\u001b[49m\u001b[38;5;124;43m\"\u001b[39;49m\u001b[38;5;124;43mcompression\u001b[39;49m\u001b[38;5;124;43m\"\u001b[39;49m\u001b[43m,\u001b[49m\u001b[43m \u001b[49m\u001b[38;5;28;43;01mNone\u001b[39;49;00m\u001b[43m)\u001b[49m\u001b[43m,\u001b[49m\n\u001b[1;32m   1222\u001b[0m \u001b[43m    \u001b[49m\u001b[43mmemory_map\u001b[49m\u001b[38;5;241;43m=\u001b[39;49m\u001b[38;5;28;43mself\u001b[39;49m\u001b[38;5;241;43m.\u001b[39;49m\u001b[43moptions\u001b[49m\u001b[38;5;241;43m.\u001b[39;49m\u001b[43mget\u001b[49m\u001b[43m(\u001b[49m\u001b[38;5;124;43m\"\u001b[39;49m\u001b[38;5;124;43mmemory_map\u001b[39;49m\u001b[38;5;124;43m\"\u001b[39;49m\u001b[43m,\u001b[49m\u001b[43m \u001b[49m\u001b[38;5;28;43;01mFalse\u001b[39;49;00m\u001b[43m)\u001b[49m\u001b[43m,\u001b[49m\n\u001b[1;32m   1223\u001b[0m \u001b[43m    \u001b[49m\u001b[43mis_text\u001b[49m\u001b[38;5;241;43m=\u001b[39;49m\u001b[43mis_text\u001b[49m\u001b[43m,\u001b[49m\n\u001b[1;32m   1224\u001b[0m \u001b[43m    \u001b[49m\u001b[43merrors\u001b[49m\u001b[38;5;241;43m=\u001b[39;49m\u001b[38;5;28;43mself\u001b[39;49m\u001b[38;5;241;43m.\u001b[39;49m\u001b[43moptions\u001b[49m\u001b[38;5;241;43m.\u001b[39;49m\u001b[43mget\u001b[49m\u001b[43m(\u001b[49m\u001b[38;5;124;43m\"\u001b[39;49m\u001b[38;5;124;43mencoding_errors\u001b[39;49m\u001b[38;5;124;43m\"\u001b[39;49m\u001b[43m,\u001b[49m\u001b[43m \u001b[49m\u001b[38;5;124;43m\"\u001b[39;49m\u001b[38;5;124;43mstrict\u001b[39;49m\u001b[38;5;124;43m\"\u001b[39;49m\u001b[43m)\u001b[49m\u001b[43m,\u001b[49m\n\u001b[1;32m   1225\u001b[0m \u001b[43m    \u001b[49m\u001b[43mstorage_options\u001b[49m\u001b[38;5;241;43m=\u001b[39;49m\u001b[38;5;28;43mself\u001b[39;49m\u001b[38;5;241;43m.\u001b[39;49m\u001b[43moptions\u001b[49m\u001b[38;5;241;43m.\u001b[39;49m\u001b[43mget\u001b[49m\u001b[43m(\u001b[49m\u001b[38;5;124;43m\"\u001b[39;49m\u001b[38;5;124;43mstorage_options\u001b[39;49m\u001b[38;5;124;43m\"\u001b[39;49m\u001b[43m,\u001b[49m\u001b[43m \u001b[49m\u001b[38;5;28;43;01mNone\u001b[39;49;00m\u001b[43m)\u001b[49m\u001b[43m,\u001b[49m\n\u001b[1;32m   1226\u001b[0m \u001b[43m\u001b[49m\u001b[43m)\u001b[49m\n\u001b[1;32m   1227\u001b[0m \u001b[38;5;28;01massert\u001b[39;00m \u001b[38;5;28mself\u001b[39m\u001b[38;5;241m.\u001b[39mhandles \u001b[38;5;129;01mis\u001b[39;00m \u001b[38;5;129;01mnot\u001b[39;00m \u001b[38;5;28;01mNone\u001b[39;00m\n\u001b[1;32m   1228\u001b[0m f \u001b[38;5;241m=\u001b[39m \u001b[38;5;28mself\u001b[39m\u001b[38;5;241m.\u001b[39mhandles\u001b[38;5;241m.\u001b[39mhandle\n",
      "File \u001b[0;32m~/.pyenv/versions/3.8.12/envs/OnThePitch/lib/python3.8/site-packages/pandas/io/common.py:789\u001b[0m, in \u001b[0;36mget_handle\u001b[0;34m(path_or_buf, mode, encoding, compression, memory_map, is_text, errors, storage_options)\u001b[0m\n\u001b[1;32m    784\u001b[0m \u001b[38;5;28;01melif\u001b[39;00m \u001b[38;5;28misinstance\u001b[39m(handle, \u001b[38;5;28mstr\u001b[39m):\n\u001b[1;32m    785\u001b[0m     \u001b[38;5;66;03m# Check whether the filename is to be opened in binary mode.\u001b[39;00m\n\u001b[1;32m    786\u001b[0m     \u001b[38;5;66;03m# Binary mode does not support 'encoding' and 'newline'.\u001b[39;00m\n\u001b[1;32m    787\u001b[0m     \u001b[38;5;28;01mif\u001b[39;00m ioargs\u001b[38;5;241m.\u001b[39mencoding \u001b[38;5;129;01mand\u001b[39;00m \u001b[38;5;124m\"\u001b[39m\u001b[38;5;124mb\u001b[39m\u001b[38;5;124m\"\u001b[39m \u001b[38;5;129;01mnot\u001b[39;00m \u001b[38;5;129;01min\u001b[39;00m ioargs\u001b[38;5;241m.\u001b[39mmode:\n\u001b[1;32m    788\u001b[0m         \u001b[38;5;66;03m# Encoding\u001b[39;00m\n\u001b[0;32m--> 789\u001b[0m         handle \u001b[38;5;241m=\u001b[39m \u001b[38;5;28;43mopen\u001b[39;49m\u001b[43m(\u001b[49m\n\u001b[1;32m    790\u001b[0m \u001b[43m            \u001b[49m\u001b[43mhandle\u001b[49m\u001b[43m,\u001b[49m\n\u001b[1;32m    791\u001b[0m \u001b[43m            \u001b[49m\u001b[43mioargs\u001b[49m\u001b[38;5;241;43m.\u001b[39;49m\u001b[43mmode\u001b[49m\u001b[43m,\u001b[49m\n\u001b[1;32m    792\u001b[0m \u001b[43m            \u001b[49m\u001b[43mencoding\u001b[49m\u001b[38;5;241;43m=\u001b[39;49m\u001b[43mioargs\u001b[49m\u001b[38;5;241;43m.\u001b[39;49m\u001b[43mencoding\u001b[49m\u001b[43m,\u001b[49m\n\u001b[1;32m    793\u001b[0m \u001b[43m            \u001b[49m\u001b[43merrors\u001b[49m\u001b[38;5;241;43m=\u001b[39;49m\u001b[43merrors\u001b[49m\u001b[43m,\u001b[49m\n\u001b[1;32m    794\u001b[0m \u001b[43m            \u001b[49m\u001b[43mnewline\u001b[49m\u001b[38;5;241;43m=\u001b[39;49m\u001b[38;5;124;43m\"\u001b[39;49m\u001b[38;5;124;43m\"\u001b[39;49m\u001b[43m,\u001b[49m\n\u001b[1;32m    795\u001b[0m \u001b[43m        \u001b[49m\u001b[43m)\u001b[49m\n\u001b[1;32m    796\u001b[0m     \u001b[38;5;28;01melse\u001b[39;00m:\n\u001b[1;32m    797\u001b[0m         \u001b[38;5;66;03m# Binary mode\u001b[39;00m\n\u001b[1;32m    798\u001b[0m         handle \u001b[38;5;241m=\u001b[39m \u001b[38;5;28mopen\u001b[39m(handle, ioargs\u001b[38;5;241m.\u001b[39mmode)\n",
      "\u001b[0;31mFileNotFoundError\u001b[0m: [Errno 2] No such file or directory: '../input/fifa-2018-match-statistics/FIFA 2018 Statistics.csv'"
     ]
    }
   ],
   "source": [
    "import numpy as np\n",
    "import pandas as pd\n",
    "from sklearn.model_selection import train_test_split\n",
    "from sklearn.ensemble import RandomForestClassifier\n",
    "\n",
    "data = pd.read_csv('../input/fifa-2018-match-statistics/FIFA 2018 Statistics.csv')\n",
    "y = (data['Man of the Match'] == \"Yes\")  # Convert from string \"Yes\"/\"No\" to binary\n",
    "feature_names = [i for i in data.columns if data[i].dtype in [np.int64, np.int64]]\n",
    "X = data[feature_names]\n",
    "train_X, val_X, train_y, val_y = train_test_split(X, y, random_state=1)\n",
    "my_model = RandomForestClassifier(random_state=0).fit(train_X, train_y)"
   ]
  },
  {
   "cell_type": "code",
   "execution_count": 52,
   "id": "ba59e071",
   "metadata": {},
   "outputs": [],
   "source": [
    "import numpy as np\n",
    "import pandas as pd\n",
    "from sklearn.model_selection import train_test_split\n",
    "from sklearn.ensemble import RandomForestRegressor\n",
    "my_model = RandomForestRegressor(random_state=0).fit(X_step3, y)"
   ]
  },
  {
   "cell_type": "code",
   "execution_count": null,
   "id": "ad101abe",
   "metadata": {},
   "outputs": [],
   "source": [
    "pip install shap"
   ]
  },
  {
   "cell_type": "code",
   "execution_count": null,
   "id": "3ae9abaa",
   "metadata": {},
   "outputs": [],
   "source": [
    "y_pred = my_model.predict(X_step3)"
   ]
  },
  {
   "cell_type": "code",
   "execution_count": 69,
   "id": "d243114f",
   "metadata": {},
   "outputs": [],
   "source": [
    "import sklearn"
   ]
  },
  {
   "cell_type": "code",
   "execution_count": null,
   "id": "65788f4d",
   "metadata": {},
   "outputs": [],
   "source": [
    "r2train = sklearn.metrics.r2_score(y, y_pred)"
   ]
  },
  {
   "cell_type": "code",
   "execution_count": null,
   "id": "0888bca1",
   "metadata": {},
   "outputs": [],
   "source": [
    "r2train"
   ]
  },
  {
   "cell_type": "code",
   "execution_count": null,
   "id": "0bf12e86",
   "metadata": {},
   "outputs": [],
   "source": [
    "#import shap  # package used to calculate Shap values\n",
    "\n",
    "# Create object that can calculate shap values\n",
    "explainer = shap.TreeExplainer(my_model)\n",
    "\n",
    "# calculate shap values. This is what we will plot.\n",
    "# Calculate shap_values for all of val_X rather than a single row, to have more data for plot.\n",
    "shap_values = explainer.shap_values(X_step3)\n",
    "\n",
    "# Make plot. Index of [1] is explained in text below.\n",
    "shap.summary_plot(shap_values, X_step3)\n",
    "\n",
    "#- Vertical location shows what feature it is depicting\n",
    "#- Color shows whether that feature was high or low for that row of the dataset\n",
    "#- Horizontal location shows whether the effect of that value caused a higher or lower prediction."
   ]
  },
  {
   "cell_type": "code",
   "execution_count": null,
   "id": "71942216",
   "metadata": {},
   "outputs": [],
   "source": [
    "## Each dot represents a row of the data. The horizontal location is the actual value from the dataset, and the vertical location shows what having that value did to the prediction.\n",
    "shap.dependence_plot('%vig_p_bool', shap_values, X_step3, dot_size=10)"
   ]
  },
  {
   "cell_type": "code",
   "execution_count": null,
   "id": "a0a18690",
   "metadata": {},
   "outputs": [],
   "source": [
    "#shap.summary_plot(shap_values, X_step3, plot_type=\"bar\")"
   ]
  },
  {
   "cell_type": "code",
   "execution_count": null,
   "id": "e7d7e35b",
   "metadata": {},
   "outputs": [],
   "source": [
    "pip install XGBoost"
   ]
  },
  {
   "cell_type": "code",
   "execution_count": 60,
   "id": "146b4741",
   "metadata": {},
   "outputs": [
    {
     "ename": "ModuleNotFoundError",
     "evalue": "No module named 'xgb'",
     "output_type": "error",
     "traceback": [
      "\u001b[0;31m---------------------------------------------------------------------------\u001b[0m",
      "\u001b[0;31mModuleNotFoundError\u001b[0m                       Traceback (most recent call last)",
      "Input \u001b[0;32mIn [60]\u001b[0m, in \u001b[0;36m<cell line: 1>\u001b[0;34m()\u001b[0m\n\u001b[0;32m----> 1\u001b[0m \u001b[38;5;28;01mimport\u001b[39;00m \u001b[38;5;21;01mxgb\u001b[39;00m \u001b[38;5;28;01mas\u001b[39;00m \u001b[38;5;21;01mxgb\u001b[39;00m\n",
      "\u001b[0;31mModuleNotFoundError\u001b[0m: No module named 'xgb'"
     ]
    }
   ],
   "source": [
    "import xgb as xgb"
   ]
  },
  {
   "cell_type": "code",
   "execution_count": 61,
   "id": "faf12734",
   "metadata": {},
   "outputs": [],
   "source": [
    "m = xgb.XGBRegressor()"
   ]
  },
  {
   "cell_type": "code",
   "execution_count": 65,
   "id": "ddf34277",
   "metadata": {},
   "outputs": [
    {
     "name": "stderr",
     "output_type": "stream",
     "text": [
      "/tmp/ipykernel_1649/3693275891.py:1: SettingWithCopyWarning: \n",
      "A value is trying to be set on a copy of a slice from a DataFrame\n",
      "\n",
      "See the caveats in the documentation: https://pandas.pydata.org/pandas-docs/stable/user_guide/indexing.html#returning-a-view-versus-a-copy\n",
      "  X_step3.rename(columns = {'PC<2.5_P_boolean':'PC_under_2.5_P_boolean'}, inplace = True)\n"
     ]
    }
   ],
   "source": [
    "X_step3.rename(columns = {'PC<2.5_P_boolean':'PC_under_2.5_P_boolean'}, inplace = True)"
   ]
  },
  {
   "cell_type": "code",
   "execution_count": 64,
   "id": "65f5830e",
   "metadata": {},
   "outputs": [
    {
     "data": {
      "text/plain": [
       "Index(['country_1', 'country_2', 'country_3', 'country_4', 'country_5',\n",
       "       'country_6', 'country_7', 'country_8', 'country_9', 'country_10',\n",
       "       'country_11', 'month_after_July', 'year_2021_2022',\n",
       "       'game_starts_after_4pm', 'Pin_pays_better_under_boolean',\n",
       "       'Market_consensus', '%vig_p_bool', 'PC<2.5_P_boolean', '1.0_to_1.5',\n",
       "       '1.5_to_2.0', '2.0_to_3.0', '3.0_to_99999.0'],\n",
       "      dtype='object')"
      ]
     },
     "execution_count": 64,
     "metadata": {},
     "output_type": "execute_result"
    }
   ],
   "source": [
    "X_step3.columns"
   ]
  },
  {
   "cell_type": "code",
   "execution_count": 66,
   "id": "f539aca1",
   "metadata": {},
   "outputs": [
    {
     "data": {
      "text/html": [
       "<style>#sk-container-id-1 {color: black;background-color: white;}#sk-container-id-1 pre{padding: 0;}#sk-container-id-1 div.sk-toggleable {background-color: white;}#sk-container-id-1 label.sk-toggleable__label {cursor: pointer;display: block;width: 100%;margin-bottom: 0;padding: 0.3em;box-sizing: border-box;text-align: center;}#sk-container-id-1 label.sk-toggleable__label-arrow:before {content: \"▸\";float: left;margin-right: 0.25em;color: #696969;}#sk-container-id-1 label.sk-toggleable__label-arrow:hover:before {color: black;}#sk-container-id-1 div.sk-estimator:hover label.sk-toggleable__label-arrow:before {color: black;}#sk-container-id-1 div.sk-toggleable__content {max-height: 0;max-width: 0;overflow: hidden;text-align: left;background-color: #f0f8ff;}#sk-container-id-1 div.sk-toggleable__content pre {margin: 0.2em;color: black;border-radius: 0.25em;background-color: #f0f8ff;}#sk-container-id-1 input.sk-toggleable__control:checked~div.sk-toggleable__content {max-height: 200px;max-width: 100%;overflow: auto;}#sk-container-id-1 input.sk-toggleable__control:checked~label.sk-toggleable__label-arrow:before {content: \"▾\";}#sk-container-id-1 div.sk-estimator input.sk-toggleable__control:checked~label.sk-toggleable__label {background-color: #d4ebff;}#sk-container-id-1 div.sk-label input.sk-toggleable__control:checked~label.sk-toggleable__label {background-color: #d4ebff;}#sk-container-id-1 input.sk-hidden--visually {border: 0;clip: rect(1px 1px 1px 1px);clip: rect(1px, 1px, 1px, 1px);height: 1px;margin: -1px;overflow: hidden;padding: 0;position: absolute;width: 1px;}#sk-container-id-1 div.sk-estimator {font-family: monospace;background-color: #f0f8ff;border: 1px dotted black;border-radius: 0.25em;box-sizing: border-box;margin-bottom: 0.5em;}#sk-container-id-1 div.sk-estimator:hover {background-color: #d4ebff;}#sk-container-id-1 div.sk-parallel-item::after {content: \"\";width: 100%;border-bottom: 1px solid gray;flex-grow: 1;}#sk-container-id-1 div.sk-label:hover label.sk-toggleable__label {background-color: #d4ebff;}#sk-container-id-1 div.sk-serial::before {content: \"\";position: absolute;border-left: 1px solid gray;box-sizing: border-box;top: 0;bottom: 0;left: 50%;z-index: 0;}#sk-container-id-1 div.sk-serial {display: flex;flex-direction: column;align-items: center;background-color: white;padding-right: 0.2em;padding-left: 0.2em;position: relative;}#sk-container-id-1 div.sk-item {position: relative;z-index: 1;}#sk-container-id-1 div.sk-parallel {display: flex;align-items: stretch;justify-content: center;background-color: white;position: relative;}#sk-container-id-1 div.sk-item::before, #sk-container-id-1 div.sk-parallel-item::before {content: \"\";position: absolute;border-left: 1px solid gray;box-sizing: border-box;top: 0;bottom: 0;left: 50%;z-index: -1;}#sk-container-id-1 div.sk-parallel-item {display: flex;flex-direction: column;z-index: 1;position: relative;background-color: white;}#sk-container-id-1 div.sk-parallel-item:first-child::after {align-self: flex-end;width: 50%;}#sk-container-id-1 div.sk-parallel-item:last-child::after {align-self: flex-start;width: 50%;}#sk-container-id-1 div.sk-parallel-item:only-child::after {width: 0;}#sk-container-id-1 div.sk-dashed-wrapped {border: 1px dashed gray;margin: 0 0.4em 0.5em 0.4em;box-sizing: border-box;padding-bottom: 0.4em;background-color: white;}#sk-container-id-1 div.sk-label label {font-family: monospace;font-weight: bold;display: inline-block;line-height: 1.2em;}#sk-container-id-1 div.sk-label-container {text-align: center;}#sk-container-id-1 div.sk-container {/* jupyter's `normalize.less` sets `[hidden] { display: none; }` but bootstrap.min.css set `[hidden] { display: none !important; }` so we also need the `!important` here to be able to override the default hidden behavior on the sphinx rendered scikit-learn.org. See: https://github.com/scikit-learn/scikit-learn/issues/21755 */display: inline-block !important;position: relative;}#sk-container-id-1 div.sk-text-repr-fallback {display: none;}</style><div id=\"sk-container-id-1\" class=\"sk-top-container\"><div class=\"sk-text-repr-fallback\"><pre>XGBRegressor(base_score=0.5, booster=&#x27;gbtree&#x27;, callbacks=None,\n",
       "             colsample_bylevel=1, colsample_bynode=1, colsample_bytree=1,\n",
       "             early_stopping_rounds=None, enable_categorical=False,\n",
       "             eval_metric=None, gamma=0, gpu_id=-1, grow_policy=&#x27;depthwise&#x27;,\n",
       "             importance_type=None, interaction_constraints=&#x27;&#x27;,\n",
       "             learning_rate=0.300000012, max_bin=256, max_cat_to_onehot=4,\n",
       "             max_delta_step=0, max_depth=6, max_leaves=0, min_child_weight=1,\n",
       "             missing=nan, monotone_constraints=&#x27;()&#x27;, n_estimators=100, n_jobs=0,\n",
       "             num_parallel_tree=1, predictor=&#x27;auto&#x27;, random_state=0, reg_alpha=0,\n",
       "             reg_lambda=1, ...)</pre><b>In a Jupyter environment, please rerun this cell to show the HTML representation or trust the notebook. <br />On GitHub, the HTML representation is unable to render, please try loading this page with nbviewer.org.</b></div><div class=\"sk-container\" hidden><div class=\"sk-item\"><div class=\"sk-estimator sk-toggleable\"><input class=\"sk-toggleable__control sk-hidden--visually\" id=\"sk-estimator-id-1\" type=\"checkbox\" checked><label for=\"sk-estimator-id-1\" class=\"sk-toggleable__label sk-toggleable__label-arrow\">XGBRegressor</label><div class=\"sk-toggleable__content\"><pre>XGBRegressor(base_score=0.5, booster=&#x27;gbtree&#x27;, callbacks=None,\n",
       "             colsample_bylevel=1, colsample_bynode=1, colsample_bytree=1,\n",
       "             early_stopping_rounds=None, enable_categorical=False,\n",
       "             eval_metric=None, gamma=0, gpu_id=-1, grow_policy=&#x27;depthwise&#x27;,\n",
       "             importance_type=None, interaction_constraints=&#x27;&#x27;,\n",
       "             learning_rate=0.300000012, max_bin=256, max_cat_to_onehot=4,\n",
       "             max_delta_step=0, max_depth=6, max_leaves=0, min_child_weight=1,\n",
       "             missing=nan, monotone_constraints=&#x27;()&#x27;, n_estimators=100, n_jobs=0,\n",
       "             num_parallel_tree=1, predictor=&#x27;auto&#x27;, random_state=0, reg_alpha=0,\n",
       "             reg_lambda=1, ...)</pre></div></div></div></div></div>"
      ],
      "text/plain": [
       "XGBRegressor(base_score=0.5, booster='gbtree', callbacks=None,\n",
       "             colsample_bylevel=1, colsample_bynode=1, colsample_bytree=1,\n",
       "             early_stopping_rounds=None, enable_categorical=False,\n",
       "             eval_metric=None, gamma=0, gpu_id=-1, grow_policy='depthwise',\n",
       "             importance_type=None, interaction_constraints='',\n",
       "             learning_rate=0.300000012, max_bin=256, max_cat_to_onehot=4,\n",
       "             max_delta_step=0, max_depth=6, max_leaves=0, min_child_weight=1,\n",
       "             missing=nan, monotone_constraints='()', n_estimators=100, n_jobs=0,\n",
       "             num_parallel_tree=1, predictor='auto', random_state=0, reg_alpha=0,\n",
       "             reg_lambda=1, ...)"
      ]
     },
     "execution_count": 66,
     "metadata": {},
     "output_type": "execute_result"
    }
   ],
   "source": [
    "m.fit(X_step3,y) "
   ]
  },
  {
   "cell_type": "code",
   "execution_count": 67,
   "id": "5b0a3fbf",
   "metadata": {},
   "outputs": [],
   "source": [
    "y_pred = m.predict(X_step3)"
   ]
  },
  {
   "cell_type": "code",
   "execution_count": 70,
   "id": "f1637a1b",
   "metadata": {},
   "outputs": [],
   "source": [
    "r2train = sklearn.metrics.r2_score(y, y_pred)"
   ]
  },
  {
   "cell_type": "code",
   "execution_count": 71,
   "id": "c9433829",
   "metadata": {},
   "outputs": [
    {
     "data": {
      "text/plain": [
       "0.12647703579056846"
      ]
     },
     "execution_count": 71,
     "metadata": {},
     "output_type": "execute_result"
    }
   ],
   "source": [
    "r2train"
   ]
  },
  {
   "cell_type": "code",
   "execution_count": null,
   "id": "7f62a55f",
   "metadata": {},
   "outputs": [],
   "source": [
    "import XGBoost  # package used to calculate Shap values\n",
    "\n",
    "# Create object that can calculate shap values\n",
    "explainer = shap.TreeExplainer(my_model)\n",
    "\n",
    "# calculate shap values. This is what we will plot.\n",
    "# Calculate shap_values for all of val_X rather than a single row, to have more data for plot.\n",
    "shap_values = explainer.shap_values(X_step3)\n",
    "\n",
    "# Make plot. Index of [1] is explained in text below.\n",
    "shap.summary_plot(shap_values, X_step3)\n",
    "\n",
    "#- Vertical location shows what feature it is depicting\n",
    "#- Color shows whether that feature was high or low for that row of the dataset\n",
    "#- Horizontal location shows whether the effect of that value caused a higher or lower prediction."
   ]
  },
  {
   "cell_type": "code",
   "execution_count": null,
   "id": "9ccc5904",
   "metadata": {},
   "outputs": [],
   "source": []
  },
  {
   "cell_type": "code",
   "execution_count": null,
   "id": "76caf58e",
   "metadata": {},
   "outputs": [],
   "source": []
  },
  {
   "cell_type": "code",
   "execution_count": null,
   "id": "0edb2c38",
   "metadata": {},
   "outputs": [],
   "source": [
    "data_linear_booleans_lean_P_under = data_linear_booleans_lean_P_under[data_linear_booleans_lean_P_under['payout_under_2.5_pinacle'].isnull()==False]"
   ]
  },
  {
   "cell_type": "code",
   "execution_count": null,
   "id": "197f43d0",
   "metadata": {},
   "outputs": [],
   "source": [
    "y"
   ]
  },
  {
   "cell_type": "code",
   "execution_count": null,
   "id": "01ed9a07",
   "metadata": {},
   "outputs": [],
   "source": [
    "model = LinearRegression()\n",
    "model_fit = model.fit(X, y)"
   ]
  },
  {
   "cell_type": "code",
   "execution_count": null,
   "id": "d51d3db4",
   "metadata": {},
   "outputs": [],
   "source": [
    "result = sm.ols(formula='payout_under_2 ~ Pin_pays_better_under_boolean + PC<2.5_P_boolean + 1.0_to_1.5 + 1.5_to_2.0 + 2.0_to_3.0 + 3.0_to_99999.0', data=data_linear_booleans_lean_P_under).fit()\n",
    " \n",
    "    #smf.ols(formula='weight ~ horsepower + cylinders', data=mpg).fit()\n",
    "    \n",
    "# printing the summary table\n",
    "print(result.summary())"
   ]
  },
  {
   "cell_type": "code",
   "execution_count": null,
   "id": "65716dab",
   "metadata": {},
   "outputs": [],
   "source": [
    "model_fit.summary()"
   ]
  },
  {
   "cell_type": "code",
   "execution_count": null,
   "id": "8bbdb2ad",
   "metadata": {},
   "outputs": [],
   "source": [
    "#Features that decrease our chances\n",
    "for x in [2, 1, 0, 13, 4, 12, 11]:\n",
    "    print(f'{X.columns[x]}: {importance[x]}')"
   ]
  },
  {
   "cell_type": "code",
   "execution_count": null,
   "id": "9dafee46",
   "metadata": {},
   "outputs": [],
   "source": [
    "#Features that increase our chances\n",
    "for x in [6, 8, 7, 5, 9, 10, 3]:\n",
    "    print(f'{X.columns[x]}: {importance[x]}')"
   ]
  },
  {
   "cell_type": "code",
   "execution_count": null,
   "id": "712d2193",
   "metadata": {},
   "outputs": [],
   "source": []
  },
  {
   "cell_type": "code",
   "execution_count": null,
   "id": "c8d35609",
   "metadata": {},
   "outputs": [],
   "source": []
  },
  {
   "cell_type": "code",
   "execution_count": null,
   "id": "013a015c",
   "metadata": {},
   "outputs": [],
   "source": []
  },
  {
   "cell_type": "code",
   "execution_count": null,
   "id": "4221e5d9",
   "metadata": {},
   "outputs": [],
   "source": []
  },
  {
   "cell_type": "code",
   "execution_count": null,
   "id": "ef9a59b2",
   "metadata": {},
   "outputs": [],
   "source": []
  }
 ],
 "metadata": {
  "kernelspec": {
   "display_name": "Python 3 (ipykernel)",
   "language": "python",
   "name": "python3"
  },
  "language_info": {
   "codemirror_mode": {
    "name": "ipython",
    "version": 3
   },
   "file_extension": ".py",
   "mimetype": "text/x-python",
   "name": "python",
   "nbconvert_exporter": "python",
   "pygments_lexer": "ipython3",
   "version": "3.8.12"
  },
  "toc": {
   "base_numbering": 1,
   "nav_menu": {},
   "number_sections": true,
   "sideBar": true,
   "skip_h1_title": false,
   "title_cell": "Table of Contents",
   "title_sidebar": "Contents",
   "toc_cell": false,
   "toc_position": {},
   "toc_section_display": true,
   "toc_window_display": false
  },
  "varInspector": {
   "cols": {
    "lenName": 16,
    "lenType": 16,
    "lenVar": 40
   },
   "kernels_config": {
    "python": {
     "delete_cmd_postfix": "",
     "delete_cmd_prefix": "del ",
     "library": "var_list.py",
     "varRefreshCmd": "print(var_dic_list())"
    },
    "r": {
     "delete_cmd_postfix": ") ",
     "delete_cmd_prefix": "rm(",
     "library": "var_list.r",
     "varRefreshCmd": "cat(var_dic_list()) "
    }
   },
   "types_to_exclude": [
    "module",
    "function",
    "builtin_function_or_method",
    "instance",
    "_Feature"
   ],
   "window_display": false
  }
 },
 "nbformat": 4,
 "nbformat_minor": 5
}
