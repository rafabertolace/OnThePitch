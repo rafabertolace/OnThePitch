{
 "cells": [
  {
   "cell_type": "markdown",
   "id": "d1816ff7",
   "metadata": {},
   "source": [
    "## Imports"
   ]
  },
  {
   "cell_type": "code",
   "execution_count": 1,
   "id": "06e1f50a",
   "metadata": {},
   "outputs": [],
   "source": [
    "import pandas as pd\n",
    "from os import listdir\n",
    "from os.path import isfile, join\n",
    "import matplotlib.pyplot as plt  \n",
    "plt.style.use('dark_background')"
   ]
  },
  {
   "cell_type": "markdown",
   "id": "b295e690",
   "metadata": {},
   "source": [
    "## Loading the Dataframe"
   ]
  },
  {
   "cell_type": "code",
   "execution_count": 2,
   "id": "b95d2a37",
   "metadata": {},
   "outputs": [
    {
     "data": {
      "text/plain": [
       "'/home/rafael/code/rafabertolace/OnThePitch/notebooks'"
      ]
     },
     "execution_count": 2,
     "metadata": {},
     "output_type": "execute_result"
    }
   ],
   "source": [
    "pwd"
   ]
  },
  {
   "cell_type": "markdown",
   "id": "3fa4f75c",
   "metadata": {},
   "source": [
    "### Merging the Seasons csv files (2019-2020 untill 2021-2022)"
   ]
  },
  {
   "cell_type": "code",
   "execution_count": 3,
   "id": "39b6d4af",
   "metadata": {},
   "outputs": [
    {
     "name": "stdout",
     "output_type": "stream",
     "text": [
      "['Ligue 1 2020-2021.csv', 'Ligue 1 2019-2020.csv', 'Ligue 1 2021-2022.csv']\n"
     ]
    }
   ],
   "source": [
    "print(os.listdir('./../raw_data/France'))"
   ]
  },
  {
   "cell_type": "code",
   "execution_count": 4,
   "id": "2208c966",
   "metadata": {},
   "outputs": [],
   "source": [
    "files = [file for file in os.listdir('./../raw_data/France')]\n",
    "data = pd.DataFrame()\n",
    "\n",
    "\n",
    "for file in files:\n",
    "    df = pd.read_csv('./../raw_data/France/'+file)\n",
    "    data = pd.concat([data, df])"
   ]
  },
  {
   "cell_type": "code",
   "execution_count": 5,
   "id": "c932f0b1",
   "metadata": {},
   "outputs": [
    {
     "data": {
      "text/html": [
       "<div>\n",
       "<style scoped>\n",
       "    .dataframe tbody tr th:only-of-type {\n",
       "        vertical-align: middle;\n",
       "    }\n",
       "\n",
       "    .dataframe tbody tr th {\n",
       "        vertical-align: top;\n",
       "    }\n",
       "\n",
       "    .dataframe thead th {\n",
       "        text-align: right;\n",
       "    }\n",
       "</style>\n",
       "<table border=\"1\" class=\"dataframe\">\n",
       "  <thead>\n",
       "    <tr style=\"text-align: right;\">\n",
       "      <th></th>\n",
       "      <th>Div</th>\n",
       "      <th>Date</th>\n",
       "      <th>Time</th>\n",
       "      <th>HomeTeam</th>\n",
       "      <th>AwayTeam</th>\n",
       "      <th>FTHG</th>\n",
       "      <th>FTAG</th>\n",
       "      <th>FTR</th>\n",
       "      <th>HTHG</th>\n",
       "      <th>HTAG</th>\n",
       "      <th>...</th>\n",
       "      <th>AvgC&lt;2.5</th>\n",
       "      <th>AHCh</th>\n",
       "      <th>B365CAHH</th>\n",
       "      <th>B365CAHA</th>\n",
       "      <th>PCAHH</th>\n",
       "      <th>PCAHA</th>\n",
       "      <th>MaxCAHH</th>\n",
       "      <th>MaxCAHA</th>\n",
       "      <th>AvgCAHH</th>\n",
       "      <th>AvgCAHA</th>\n",
       "    </tr>\n",
       "  </thead>\n",
       "  <tbody>\n",
       "    <tr>\n",
       "      <th>0</th>\n",
       "      <td>F1</td>\n",
       "      <td>21/08/2020</td>\n",
       "      <td>18:00</td>\n",
       "      <td>Bordeaux</td>\n",
       "      <td>Nantes</td>\n",
       "      <td>0</td>\n",
       "      <td>0</td>\n",
       "      <td>D</td>\n",
       "      <td>0</td>\n",
       "      <td>0</td>\n",
       "      <td>...</td>\n",
       "      <td>1.43</td>\n",
       "      <td>0.00</td>\n",
       "      <td>1.86</td>\n",
       "      <td>2.04</td>\n",
       "      <td>1.85</td>\n",
       "      <td>2.07</td>\n",
       "      <td>1.90</td>\n",
       "      <td>2.24</td>\n",
       "      <td>1.82</td>\n",
       "      <td>2.05</td>\n",
       "    </tr>\n",
       "    <tr>\n",
       "      <th>1</th>\n",
       "      <td>F1</td>\n",
       "      <td>22/08/2020</td>\n",
       "      <td>16:00</td>\n",
       "      <td>Dijon</td>\n",
       "      <td>Angers</td>\n",
       "      <td>0</td>\n",
       "      <td>1</td>\n",
       "      <td>A</td>\n",
       "      <td>0</td>\n",
       "      <td>1</td>\n",
       "      <td>...</td>\n",
       "      <td>1.49</td>\n",
       "      <td>0.25</td>\n",
       "      <td>1.86</td>\n",
       "      <td>2.07</td>\n",
       "      <td>1.85</td>\n",
       "      <td>2.06</td>\n",
       "      <td>1.88</td>\n",
       "      <td>2.08</td>\n",
       "      <td>1.83</td>\n",
       "      <td>2.03</td>\n",
       "    </tr>\n",
       "    <tr>\n",
       "      <th>2</th>\n",
       "      <td>F1</td>\n",
       "      <td>22/08/2020</td>\n",
       "      <td>20:00</td>\n",
       "      <td>Lille</td>\n",
       "      <td>Rennes</td>\n",
       "      <td>1</td>\n",
       "      <td>1</td>\n",
       "      <td>D</td>\n",
       "      <td>1</td>\n",
       "      <td>0</td>\n",
       "      <td>...</td>\n",
       "      <td>1.64</td>\n",
       "      <td>-0.50</td>\n",
       "      <td>1.90</td>\n",
       "      <td>2.03</td>\n",
       "      <td>1.92</td>\n",
       "      <td>2.00</td>\n",
       "      <td>1.95</td>\n",
       "      <td>2.05</td>\n",
       "      <td>1.89</td>\n",
       "      <td>1.96</td>\n",
       "    </tr>\n",
       "    <tr>\n",
       "      <th>3</th>\n",
       "      <td>F1</td>\n",
       "      <td>23/08/2020</td>\n",
       "      <td>12:00</td>\n",
       "      <td>Monaco</td>\n",
       "      <td>Reims</td>\n",
       "      <td>2</td>\n",
       "      <td>2</td>\n",
       "      <td>D</td>\n",
       "      <td>1</td>\n",
       "      <td>2</td>\n",
       "      <td>...</td>\n",
       "      <td>1.62</td>\n",
       "      <td>-0.50</td>\n",
       "      <td>1.95</td>\n",
       "      <td>1.98</td>\n",
       "      <td>1.95</td>\n",
       "      <td>1.97</td>\n",
       "      <td>1.96</td>\n",
       "      <td>1.99</td>\n",
       "      <td>1.92</td>\n",
       "      <td>1.92</td>\n",
       "    </tr>\n",
       "    <tr>\n",
       "      <th>4</th>\n",
       "      <td>F1</td>\n",
       "      <td>23/08/2020</td>\n",
       "      <td>14:00</td>\n",
       "      <td>Lorient</td>\n",
       "      <td>Strasbourg</td>\n",
       "      <td>3</td>\n",
       "      <td>1</td>\n",
       "      <td>H</td>\n",
       "      <td>0</td>\n",
       "      <td>1</td>\n",
       "      <td>...</td>\n",
       "      <td>1.58</td>\n",
       "      <td>-0.25</td>\n",
       "      <td>2.08</td>\n",
       "      <td>1.85</td>\n",
       "      <td>2.09</td>\n",
       "      <td>1.83</td>\n",
       "      <td>2.14</td>\n",
       "      <td>1.86</td>\n",
       "      <td>2.07</td>\n",
       "      <td>1.80</td>\n",
       "    </tr>\n",
       "  </tbody>\n",
       "</table>\n",
       "<p>5 rows × 105 columns</p>\n",
       "</div>"
      ],
      "text/plain": [
       "  Div        Date   Time  HomeTeam    AwayTeam  FTHG  FTAG FTR  HTHG  HTAG  \\\n",
       "0  F1  21/08/2020  18:00  Bordeaux      Nantes     0     0   D     0     0   \n",
       "1  F1  22/08/2020  16:00     Dijon      Angers     0     1   A     0     1   \n",
       "2  F1  22/08/2020  20:00     Lille      Rennes     1     1   D     1     0   \n",
       "3  F1  23/08/2020  12:00    Monaco       Reims     2     2   D     1     2   \n",
       "4  F1  23/08/2020  14:00   Lorient  Strasbourg     3     1   H     0     1   \n",
       "\n",
       "   ... AvgC<2.5  AHCh  B365CAHH  B365CAHA  PCAHH  PCAHA  MaxCAHH  MaxCAHA  \\\n",
       "0  ...     1.43  0.00      1.86      2.04   1.85   2.07     1.90     2.24   \n",
       "1  ...     1.49  0.25      1.86      2.07   1.85   2.06     1.88     2.08   \n",
       "2  ...     1.64 -0.50      1.90      2.03   1.92   2.00     1.95     2.05   \n",
       "3  ...     1.62 -0.50      1.95      1.98   1.95   1.97     1.96     1.99   \n",
       "4  ...     1.58 -0.25      2.08      1.85   2.09   1.83     2.14     1.86   \n",
       "\n",
       "   AvgCAHH  AvgCAHA  \n",
       "0     1.82     2.05  \n",
       "1     1.83     2.03  \n",
       "2     1.89     1.96  \n",
       "3     1.92     1.92  \n",
       "4     2.07     1.80  \n",
       "\n",
       "[5 rows x 105 columns]"
      ]
     },
     "execution_count": 5,
     "metadata": {},
     "output_type": "execute_result"
    }
   ],
   "source": [
    "data.head()"
   ]
  },
  {
   "cell_type": "code",
   "execution_count": 6,
   "id": "fe07720d",
   "metadata": {},
   "outputs": [
    {
     "name": "stdout",
     "output_type": "stream",
     "text": [
      "Div\n",
      "Date\n",
      "Time\n",
      "HomeTeam\n",
      "AwayTeam\n",
      "FTHG\n",
      "FTAG\n",
      "FTR\n",
      "HTHG\n",
      "HTAG\n",
      "HTR\n",
      "HS\n",
      "AS\n",
      "HST\n",
      "AST\n",
      "HF\n",
      "AF\n",
      "HC\n",
      "AC\n",
      "HY\n",
      "AY\n",
      "HR\n",
      "AR\n",
      "B365H\n",
      "B365D\n",
      "B365A\n",
      "BWH\n",
      "BWD\n",
      "BWA\n",
      "IWH\n",
      "IWD\n",
      "IWA\n",
      "PSH\n",
      "PSD\n",
      "PSA\n",
      "WHH\n",
      "WHD\n",
      "WHA\n",
      "VCH\n",
      "VCD\n",
      "VCA\n",
      "MaxH\n",
      "MaxD\n",
      "MaxA\n",
      "AvgH\n",
      "AvgD\n",
      "AvgA\n",
      "B365>2.5\n",
      "B365<2.5\n",
      "P>2.5\n",
      "P<2.5\n",
      "Max>2.5\n",
      "Max<2.5\n",
      "Avg>2.5\n",
      "Avg<2.5\n",
      "AHh\n",
      "B365AHH\n",
      "B365AHA\n",
      "PAHH\n",
      "PAHA\n",
      "MaxAHH\n",
      "MaxAHA\n",
      "AvgAHH\n",
      "AvgAHA\n",
      "B365CH\n",
      "B365CD\n",
      "B365CA\n",
      "BWCH\n",
      "BWCD\n",
      "BWCA\n",
      "IWCH\n",
      "IWCD\n",
      "IWCA\n",
      "PSCH\n",
      "PSCD\n",
      "PSCA\n",
      "WHCH\n",
      "WHCD\n",
      "WHCA\n",
      "VCCH\n",
      "VCCD\n",
      "VCCA\n",
      "MaxCH\n",
      "MaxCD\n",
      "MaxCA\n",
      "AvgCH\n",
      "AvgCD\n",
      "AvgCA\n",
      "B365C>2.5\n",
      "B365C<2.5\n",
      "PC>2.5\n",
      "PC<2.5\n",
      "MaxC>2.5\n",
      "MaxC<2.5\n",
      "AvgC>2.5\n",
      "AvgC<2.5\n",
      "AHCh\n",
      "B365CAHH\n",
      "B365CAHA\n",
      "PCAHH\n",
      "PCAHA\n",
      "MaxCAHH\n",
      "MaxCAHA\n",
      "AvgCAHH\n",
      "AvgCAHA\n"
     ]
    }
   ],
   "source": [
    "for col_name in data.columns: \n",
    "    print(col_name)"
   ]
  },
  {
   "cell_type": "code",
   "execution_count": 7,
   "id": "8c5821c7",
   "metadata": {},
   "outputs": [],
   "source": [
    "# data_date_2 = pd.to_datetime(data_date, dayfirst = True)"
   ]
  },
  {
   "cell_type": "markdown",
   "id": "32c8ad8d",
   "metadata": {},
   "source": [
    "## Features Engineering"
   ]
  },
  {
   "cell_type": "markdown",
   "id": "c84939f7",
   "metadata": {},
   "source": [
    "### Number of Goals, Over and Under"
   ]
  },
  {
   "cell_type": "code",
   "execution_count": 8,
   "id": "fed74758",
   "metadata": {},
   "outputs": [],
   "source": [
    "# total number of goals = goals from the home team + goals from visiting team\n",
    "data['nb_goals']=data['FTHG']+data['FTAG']\n",
    "\n",
    "# boolean: true or false regarding whether they were more than 2.5 goals\n",
    "data['over_2.5_goals']=data['nb_goals']>2.5\n",
    "\n",
    "# boolean: true or false regarding whether they were less than 2.5 goals\n",
    "data['under_2.5_goals']=data['nb_goals']<2.5"
   ]
  },
  {
   "cell_type": "markdown",
   "id": "3ffc1554",
   "metadata": {},
   "source": [
    "### Payout Average"
   ]
  },
  {
   "cell_type": "markdown",
   "id": "466f6de3",
   "metadata": {},
   "source": [
    "  Payout of betting on over/under 2.5 goals: we get 0 if we lose the bet, we get the Avg if we win the bet (Avg = market average of the odds)\n"
   ]
  },
  {
   "cell_type": "code",
   "execution_count": 9,
   "id": "4b10653e",
   "metadata": {},
   "outputs": [],
   "source": [
    "# payout under 2.5 for Average OPENING odds\n",
    "data['payout_avg_under_2.5'] = data['under_2.5_goals']*data['Avg<2.5']\n",
    "\n",
    "# payout over 2.5 for Average OPENING odds\n",
    "data['payout_avg_over_2.5'] = data['over_2.5_goals']*data['Avg>2.5']\n",
    "\n",
    "# payout under 2.5 for Average CLOSING odds\n",
    "data['payout_avg_under_closing_2.5'] = data['under_2.5_goals']*data['AvgC<2.5']\n",
    "\n",
    "# payout over 2.5 for Average CLOSING odds\n",
    "data['payout_avg_over_closing_2.5'] = data['over_2.5_goals']*data['AvgC>2.5']"
   ]
  },
  {
   "cell_type": "markdown",
   "id": "e7499f75",
   "metadata": {},
   "source": [
    "#### Payout Pinnacle"
   ]
  },
  {
   "cell_type": "code",
   "execution_count": 10,
   "id": "7ebcc6f1",
   "metadata": {},
   "outputs": [],
   "source": [
    "#payout UNDER 2.5 for PINACLE specifically\n",
    "data['payout_under_2.5_pinacle'] = data['under_2.5_goals']*data['P<2.5']\n",
    "\n",
    "#payout UNDER 2.5 for PINACLE closing ddds specifically\n",
    "data['payout_under_2.5_pinacle_closing'] = data['under_2.5_goals']*data['PC<2.5']\n",
    "\n",
    "#payout OVER 2.5 for PINACLE specifically\n",
    "data['payout_over_2.5_pinacle'] = data['over_2.5_goals']*data['P>2.5']\n",
    "\n",
    "#payout OVER 2.5 for PINACLE closing odds specifically\n",
    "data['payout_over_2.5_pinacle_closing'] = data['over_2.5_goals']*data['PC>2.5']"
   ]
  },
  {
   "cell_type": "markdown",
   "id": "87aef2eb",
   "metadata": {},
   "source": [
    "#### Payout bet365"
   ]
  },
  {
   "cell_type": "code",
   "execution_count": 11,
   "id": "2fe3c17b",
   "metadata": {},
   "outputs": [],
   "source": [
    "#payout UNDER 2.5 for 365 specifically\n",
    "data['payout_under_2.5_365'] = data['under_2.5_goals']*data['B365<2.5']\n",
    "\n",
    "#payout UNDER 2.5 for 365 closing odds specifically\n",
    "data['payout_under_2.5_365_closing'] = data['under_2.5_goals']*data['B365C<2.5']\n",
    "\n",
    "#payout OVER 2.5 for 365 specifically\n",
    "data['payout_over_2.5_365'] = data['over_2.5_goals']*data['B365>2.5']\n",
    "\n",
    "#payout OVER 2.5 for 365 closing odds specifically\n",
    "data['payout_over_2.5_365_closing'] = data['over_2.5_goals']*data['B365C>2.5']"
   ]
  },
  {
   "cell_type": "markdown",
   "id": "9ad9c30c",
   "metadata": {},
   "source": [
    "### Implied Probability Market Average"
   ]
  },
  {
   "cell_type": "code",
   "execution_count": 12,
   "id": "4cdcecbb",
   "metadata": {},
   "outputs": [],
   "source": [
    "#Implied Probability UNDER 2.5 goals for for overall market opening odds (Avg) \n",
    "data['Implied Probability <2.5 avg']=1/data['Avg<2.5']*100\n",
    "\n",
    "#Implied Probability OVER 2.5 goals for for overall market opening odds (Avg) \n",
    "data['Implied Probability >2.5 avg']=1/data['Avg>2.5']*100\n",
    "\n",
    "#Implied Probability UNDER 2.5 goals for overall market closing odds (AvgC)\n",
    "data['Implied Probability <2.5 avg closing']=1/data['AvgC<2.5']*100\n",
    "\n",
    "#Implied Probability OVER 2.5 goals for overall market closing odds (AvgC)\n",
    "data['Implied Probability >2.5 avg closing']=1/data['AvgC>2.5']*100"
   ]
  },
  {
   "cell_type": "markdown",
   "id": "d3cd6ba0",
   "metadata": {},
   "source": [
    "### Implied Probability Pinnacle"
   ]
  },
  {
   "cell_type": "code",
   "execution_count": 13,
   "id": "ecdfbb9d",
   "metadata": {},
   "outputs": [],
   "source": [
    "#Implied Probability UNDER 2.5 goals for PINACLE\n",
    "data['Implied Probability <2.5 pinacle']=1/data['P<2.5']*100\n",
    "\n",
    "#Implied Probability OVER 2.5 goals for PINACLE\n",
    "data['Implied Probability >2.5 pinacle']=1/data['P>2.5']*100\n",
    "\n",
    "#Implied Probability UNDER 2.5 goals for PINACLE closing odds\n",
    "data['Implied Probability <2.5 pinacle closing']=1/data['PC<2.5']*100\n",
    "\n",
    "#Implied Probability OVER 2.5 goals for PINACLE closing odds\n",
    "data['Implied Probability >2.5 pinacle closing']=1/data['PC>2.5']*100"
   ]
  },
  {
   "cell_type": "markdown",
   "id": "8dc6d342",
   "metadata": {},
   "source": [
    "### Implied Probability bet365"
   ]
  },
  {
   "cell_type": "code",
   "execution_count": 14,
   "id": "eab84c20",
   "metadata": {},
   "outputs": [],
   "source": [
    "#Implied Probability UNDER 2.5 goals for 365\n",
    "data['Implied Probability <2.5 365']=1/data['B365<2.5']*100\n",
    "\n",
    "#Implied Probability UNDER 2.5 goals for 365 closing odds\n",
    "data['Implied Probability <2.5 365 closing']=1/data['B365C<2.5']*100\n",
    "\n",
    "#Implied Probability OVER 2.5 goals for 365\n",
    "data['Implied Probability >2.5 365']=1/data['B365>2.5']*100\n",
    "\n",
    "#Implied Probability OVER 2.5 goals for 365 closing odds\n",
    "data['Implied Probability >2.5 365 closing']=1/data['B365C>2.5']*100"
   ]
  },
  {
   "cell_type": "markdown",
   "id": "56fa1da6",
   "metadata": {},
   "source": [
    "### Binning the implied probabilities"
   ]
  },
  {
   "cell_type": "code",
   "execution_count": 15,
   "id": "8e1c90a8",
   "metadata": {},
   "outputs": [],
   "source": [
    "bins = [0, 5, 10, 15, 20, 25, 30, 35, 40, 45, 50, 55, 60, 65, 70, 75, 80, 85, 90, 95, 100]\n",
    "\n",
    "#Binning UNDER 2.5 Average Market opening odds\n",
    "data['binned <2.5 avg'] = pd.cut(data['Implied Probability <2.5 avg'], bins)\n",
    "\n",
    "#Binning Over 2.5 Average Market opening odds\n",
    "data['binned >2.5 avg'] = pd.cut(data['Implied Probability >2.5 avg'], bins)\n",
    "\n",
    "#Binning UNDER 2.5 Average Market closing odds\n",
    "data['binned <2.5 avg closing'] = pd.cut(data['Implied Probability <2.5 avg closing'], bins)\n",
    "\n",
    "#Binning OVER 2.5 Average Market closing odds\n",
    "data['binned >2.5 avg closing'] = pd.cut(data['Implied Probability >2.5 avg closing'], bins)"
   ]
  },
  {
   "cell_type": "markdown",
   "id": "ec7d023e",
   "metadata": {},
   "source": [
    "### Binning Pinnacle"
   ]
  },
  {
   "cell_type": "code",
   "execution_count": 16,
   "id": "726978c9",
   "metadata": {},
   "outputs": [],
   "source": [
    "bins = [0, 5, 10, 15, 20, 25, 30, 35, 40, 45, 50, 55, 60, 65, 70, 75, 80, 85, 90, 95, 100]\n",
    "\n",
    "#Binned UNDER 2.5 Pinnacle opening odds\n",
    "data['binned <2.5 pinacle'] = pd.cut(data['Implied Probability <2.5 pinacle'], bins)\n",
    "\n",
    "#Binned UNDER 2.5 Pinnacle closing odds\n",
    "data['binned <2.5 pinacle closing'] = pd.cut(data['Implied Probability <2.5 pinacle closing'], bins)\n",
    "\n",
    "#Binned OVER 2.5 Pinnacle\n",
    "data['binned >2.5 pinacle'] = pd.cut(data['Implied Probability >2.5 pinacle'], bins)\n",
    "\n",
    "#Binned OVER 2.5 Pinnacle CLOSING odds\n",
    "data['binned >2.5 pinacle closing'] = pd.cut(data['Implied Probability >2.5 pinacle closing'], bins)"
   ]
  },
  {
   "cell_type": "markdown",
   "id": "2029ae39",
   "metadata": {},
   "source": [
    "### Binning bet365"
   ]
  },
  {
   "cell_type": "code",
   "execution_count": 17,
   "id": "4a73f0c4",
   "metadata": {},
   "outputs": [],
   "source": [
    "bins = [0, 5, 10, 15, 20, 25, 30, 35, 40, 45, 50, 55, 60, 65, 70, 75, 80, 85, 90, 95, 100]\n",
    "\n",
    "#Binned UNDER 2.5 bet365 OPENING odds\n",
    "data['binned <2.5 365'] = pd.cut(data['Implied Probability <2.5 365'], bins)\n",
    "\n",
    "#Binned UNDER 2.5 bet365 CLOSING odds\n",
    "data['binned <2.5 365 closing'] = pd.cut(data['Implied Probability <2.5 365 closing'], bins)\n",
    "\n",
    "#Binned OVER 2.5 bet365 OPENING odds\n",
    "data['binned >2.5 365'] = pd.cut(data['Implied Probability >2.5 365'], bins)\n",
    "\n",
    "#Binned OVER 2.5 bet365 CLOSING odds\n",
    "data['binned >2.5 365 closing'] = pd.cut(data['Implied Probability >2.5 365 closing'], bins)"
   ]
  },
  {
   "cell_type": "code",
   "execution_count": 18,
   "id": "c8c0a485",
   "metadata": {},
   "outputs": [
    {
     "data": {
      "text/html": [
       "<div>\n",
       "<style scoped>\n",
       "    .dataframe tbody tr th:only-of-type {\n",
       "        vertical-align: middle;\n",
       "    }\n",
       "\n",
       "    .dataframe tbody tr th {\n",
       "        vertical-align: top;\n",
       "    }\n",
       "\n",
       "    .dataframe thead th {\n",
       "        text-align: right;\n",
       "    }\n",
       "</style>\n",
       "<table border=\"1\" class=\"dataframe\">\n",
       "  <thead>\n",
       "    <tr style=\"text-align: right;\">\n",
       "      <th></th>\n",
       "      <th>Div</th>\n",
       "      <th>Date</th>\n",
       "      <th>Time</th>\n",
       "      <th>HomeTeam</th>\n",
       "      <th>AwayTeam</th>\n",
       "      <th>FTHG</th>\n",
       "      <th>FTAG</th>\n",
       "      <th>FTR</th>\n",
       "      <th>HTHG</th>\n",
       "      <th>HTAG</th>\n",
       "      <th>...</th>\n",
       "      <th>binned &lt;2.5 avg closing</th>\n",
       "      <th>binned &gt;2.5 avg closing</th>\n",
       "      <th>binned &lt;2.5 pinacle</th>\n",
       "      <th>binned &lt;2.5 pinacle closing</th>\n",
       "      <th>binned &gt;2.5 pinacle</th>\n",
       "      <th>binned &gt;2.5 pinacle closing</th>\n",
       "      <th>binned &lt;2.5 365</th>\n",
       "      <th>binned &lt;2.5 365 closing</th>\n",
       "      <th>binned &gt;2.5 365</th>\n",
       "      <th>binned &gt;2.5 365 closing</th>\n",
       "    </tr>\n",
       "  </thead>\n",
       "  <tbody>\n",
       "    <tr>\n",
       "      <th>0</th>\n",
       "      <td>F1</td>\n",
       "      <td>21/08/2020</td>\n",
       "      <td>18:00</td>\n",
       "      <td>Bordeaux</td>\n",
       "      <td>Nantes</td>\n",
       "      <td>0</td>\n",
       "      <td>0</td>\n",
       "      <td>D</td>\n",
       "      <td>0</td>\n",
       "      <td>0</td>\n",
       "      <td>...</td>\n",
       "      <td>(65, 70]</td>\n",
       "      <td>(35, 40]</td>\n",
       "      <td>(65, 70]</td>\n",
       "      <td>(65, 70]</td>\n",
       "      <td>(30, 35]</td>\n",
       "      <td>(30, 35]</td>\n",
       "      <td>(70, 75]</td>\n",
       "      <td>(65, 70]</td>\n",
       "      <td>(30, 35]</td>\n",
       "      <td>(35, 40]</td>\n",
       "    </tr>\n",
       "    <tr>\n",
       "      <th>1</th>\n",
       "      <td>F1</td>\n",
       "      <td>22/08/2020</td>\n",
       "      <td>16:00</td>\n",
       "      <td>Dijon</td>\n",
       "      <td>Angers</td>\n",
       "      <td>0</td>\n",
       "      <td>1</td>\n",
       "      <td>A</td>\n",
       "      <td>0</td>\n",
       "      <td>1</td>\n",
       "      <td>...</td>\n",
       "      <td>(65, 70]</td>\n",
       "      <td>(35, 40]</td>\n",
       "      <td>(60, 65]</td>\n",
       "      <td>(65, 70]</td>\n",
       "      <td>(35, 40]</td>\n",
       "      <td>(35, 40]</td>\n",
       "      <td>(60, 65]</td>\n",
       "      <td>(65, 70]</td>\n",
       "      <td>(40, 45]</td>\n",
       "      <td>(35, 40]</td>\n",
       "    </tr>\n",
       "    <tr>\n",
       "      <th>2</th>\n",
       "      <td>F1</td>\n",
       "      <td>22/08/2020</td>\n",
       "      <td>20:00</td>\n",
       "      <td>Lille</td>\n",
       "      <td>Rennes</td>\n",
       "      <td>1</td>\n",
       "      <td>1</td>\n",
       "      <td>D</td>\n",
       "      <td>1</td>\n",
       "      <td>0</td>\n",
       "      <td>...</td>\n",
       "      <td>(60, 65]</td>\n",
       "      <td>(40, 45]</td>\n",
       "      <td>(60, 65]</td>\n",
       "      <td>(60, 65]</td>\n",
       "      <td>(40, 45]</td>\n",
       "      <td>(40, 45]</td>\n",
       "      <td>(60, 65]</td>\n",
       "      <td>(60, 65]</td>\n",
       "      <td>(40, 45]</td>\n",
       "      <td>(45, 50]</td>\n",
       "    </tr>\n",
       "    <tr>\n",
       "      <th>3</th>\n",
       "      <td>F1</td>\n",
       "      <td>23/08/2020</td>\n",
       "      <td>12:00</td>\n",
       "      <td>Monaco</td>\n",
       "      <td>Reims</td>\n",
       "      <td>2</td>\n",
       "      <td>2</td>\n",
       "      <td>D</td>\n",
       "      <td>1</td>\n",
       "      <td>2</td>\n",
       "      <td>...</td>\n",
       "      <td>(60, 65]</td>\n",
       "      <td>(40, 45]</td>\n",
       "      <td>(60, 65]</td>\n",
       "      <td>(60, 65]</td>\n",
       "      <td>(40, 45]</td>\n",
       "      <td>(40, 45]</td>\n",
       "      <td>(60, 65]</td>\n",
       "      <td>(60, 65]</td>\n",
       "      <td>(45, 50]</td>\n",
       "      <td>(40, 45]</td>\n",
       "    </tr>\n",
       "    <tr>\n",
       "      <th>4</th>\n",
       "      <td>F1</td>\n",
       "      <td>23/08/2020</td>\n",
       "      <td>14:00</td>\n",
       "      <td>Lorient</td>\n",
       "      <td>Strasbourg</td>\n",
       "      <td>3</td>\n",
       "      <td>1</td>\n",
       "      <td>H</td>\n",
       "      <td>0</td>\n",
       "      <td>1</td>\n",
       "      <td>...</td>\n",
       "      <td>(60, 65]</td>\n",
       "      <td>(40, 45]</td>\n",
       "      <td>(60, 65]</td>\n",
       "      <td>(60, 65]</td>\n",
       "      <td>(40, 45]</td>\n",
       "      <td>(35, 40]</td>\n",
       "      <td>(60, 65]</td>\n",
       "      <td>(65, 70]</td>\n",
       "      <td>(40, 45]</td>\n",
       "      <td>(35, 40]</td>\n",
       "    </tr>\n",
       "    <tr>\n",
       "      <th>...</th>\n",
       "      <td>...</td>\n",
       "      <td>...</td>\n",
       "      <td>...</td>\n",
       "      <td>...</td>\n",
       "      <td>...</td>\n",
       "      <td>...</td>\n",
       "      <td>...</td>\n",
       "      <td>...</td>\n",
       "      <td>...</td>\n",
       "      <td>...</td>\n",
       "      <td>...</td>\n",
       "      <td>...</td>\n",
       "      <td>...</td>\n",
       "      <td>...</td>\n",
       "      <td>...</td>\n",
       "      <td>...</td>\n",
       "      <td>...</td>\n",
       "      <td>...</td>\n",
       "      <td>...</td>\n",
       "      <td>...</td>\n",
       "      <td>...</td>\n",
       "    </tr>\n",
       "    <tr>\n",
       "      <th>375</th>\n",
       "      <td>F1</td>\n",
       "      <td>21/05/2022</td>\n",
       "      <td>20:00</td>\n",
       "      <td>Lorient</td>\n",
       "      <td>Troyes</td>\n",
       "      <td>1</td>\n",
       "      <td>1</td>\n",
       "      <td>D</td>\n",
       "      <td>0</td>\n",
       "      <td>1</td>\n",
       "      <td>...</td>\n",
       "      <td>(45, 50]</td>\n",
       "      <td>(55, 60]</td>\n",
       "      <td>(45, 50]</td>\n",
       "      <td>(45, 50]</td>\n",
       "      <td>(55, 60]</td>\n",
       "      <td>(55, 60]</td>\n",
       "      <td>(45, 50]</td>\n",
       "      <td>(45, 50]</td>\n",
       "      <td>(55, 60]</td>\n",
       "      <td>(55, 60]</td>\n",
       "    </tr>\n",
       "    <tr>\n",
       "      <th>376</th>\n",
       "      <td>F1</td>\n",
       "      <td>21/05/2022</td>\n",
       "      <td>20:00</td>\n",
       "      <td>Marseille</td>\n",
       "      <td>Strasbourg</td>\n",
       "      <td>4</td>\n",
       "      <td>0</td>\n",
       "      <td>H</td>\n",
       "      <td>1</td>\n",
       "      <td>0</td>\n",
       "      <td>...</td>\n",
       "      <td>(55, 60]</td>\n",
       "      <td>(45, 50]</td>\n",
       "      <td>(45, 50]</td>\n",
       "      <td>(55, 60]</td>\n",
       "      <td>(55, 60]</td>\n",
       "      <td>(45, 50]</td>\n",
       "      <td>(45, 50]</td>\n",
       "      <td>(55, 60]</td>\n",
       "      <td>(55, 60]</td>\n",
       "      <td>(45, 50]</td>\n",
       "    </tr>\n",
       "    <tr>\n",
       "      <th>377</th>\n",
       "      <td>F1</td>\n",
       "      <td>21/05/2022</td>\n",
       "      <td>20:00</td>\n",
       "      <td>Nantes</td>\n",
       "      <td>St Etienne</td>\n",
       "      <td>1</td>\n",
       "      <td>1</td>\n",
       "      <td>D</td>\n",
       "      <td>1</td>\n",
       "      <td>0</td>\n",
       "      <td>...</td>\n",
       "      <td>(40, 45]</td>\n",
       "      <td>(60, 65]</td>\n",
       "      <td>(40, 45]</td>\n",
       "      <td>(40, 45]</td>\n",
       "      <td>(60, 65]</td>\n",
       "      <td>(60, 65]</td>\n",
       "      <td>(40, 45]</td>\n",
       "      <td>(40, 45]</td>\n",
       "      <td>(60, 65]</td>\n",
       "      <td>(60, 65]</td>\n",
       "    </tr>\n",
       "    <tr>\n",
       "      <th>378</th>\n",
       "      <td>F1</td>\n",
       "      <td>21/05/2022</td>\n",
       "      <td>20:00</td>\n",
       "      <td>Paris SG</td>\n",
       "      <td>Metz</td>\n",
       "      <td>5</td>\n",
       "      <td>0</td>\n",
       "      <td>H</td>\n",
       "      <td>3</td>\n",
       "      <td>0</td>\n",
       "      <td>...</td>\n",
       "      <td>(20, 25]</td>\n",
       "      <td>(80, 85]</td>\n",
       "      <td>(30, 35]</td>\n",
       "      <td>(30, 35]</td>\n",
       "      <td>(75, 80]</td>\n",
       "      <td>(75, 80]</td>\n",
       "      <td>(20, 25]</td>\n",
       "      <td>(20, 25]</td>\n",
       "      <td>(80, 85]</td>\n",
       "      <td>(80, 85]</td>\n",
       "    </tr>\n",
       "    <tr>\n",
       "      <th>379</th>\n",
       "      <td>F1</td>\n",
       "      <td>21/05/2022</td>\n",
       "      <td>20:00</td>\n",
       "      <td>Reims</td>\n",
       "      <td>Nice</td>\n",
       "      <td>2</td>\n",
       "      <td>3</td>\n",
       "      <td>A</td>\n",
       "      <td>2</td>\n",
       "      <td>0</td>\n",
       "      <td>...</td>\n",
       "      <td>(45, 50]</td>\n",
       "      <td>(55, 60]</td>\n",
       "      <td>(40, 45]</td>\n",
       "      <td>(45, 50]</td>\n",
       "      <td>(55, 60]</td>\n",
       "      <td>(55, 60]</td>\n",
       "      <td>(45, 50]</td>\n",
       "      <td>(45, 50]</td>\n",
       "      <td>(60, 65]</td>\n",
       "      <td>(60, 65]</td>\n",
       "    </tr>\n",
       "  </tbody>\n",
       "</table>\n",
       "<p>1039 rows × 144 columns</p>\n",
       "</div>"
      ],
      "text/plain": [
       "    Div        Date   Time   HomeTeam    AwayTeam  FTHG  FTAG FTR  HTHG  HTAG  \\\n",
       "0    F1  21/08/2020  18:00   Bordeaux      Nantes     0     0   D     0     0   \n",
       "1    F1  22/08/2020  16:00      Dijon      Angers     0     1   A     0     1   \n",
       "2    F1  22/08/2020  20:00      Lille      Rennes     1     1   D     1     0   \n",
       "3    F1  23/08/2020  12:00     Monaco       Reims     2     2   D     1     2   \n",
       "4    F1  23/08/2020  14:00    Lorient  Strasbourg     3     1   H     0     1   \n",
       "..   ..         ...    ...        ...         ...   ...   ...  ..   ...   ...   \n",
       "375  F1  21/05/2022  20:00    Lorient      Troyes     1     1   D     0     1   \n",
       "376  F1  21/05/2022  20:00  Marseille  Strasbourg     4     0   H     1     0   \n",
       "377  F1  21/05/2022  20:00     Nantes  St Etienne     1     1   D     1     0   \n",
       "378  F1  21/05/2022  20:00   Paris SG        Metz     5     0   H     3     0   \n",
       "379  F1  21/05/2022  20:00      Reims        Nice     2     3   A     2     0   \n",
       "\n",
       "     ... binned <2.5 avg closing  binned >2.5 avg closing  \\\n",
       "0    ...                (65, 70]                 (35, 40]   \n",
       "1    ...                (65, 70]                 (35, 40]   \n",
       "2    ...                (60, 65]                 (40, 45]   \n",
       "3    ...                (60, 65]                 (40, 45]   \n",
       "4    ...                (60, 65]                 (40, 45]   \n",
       "..   ...                     ...                      ...   \n",
       "375  ...                (45, 50]                 (55, 60]   \n",
       "376  ...                (55, 60]                 (45, 50]   \n",
       "377  ...                (40, 45]                 (60, 65]   \n",
       "378  ...                (20, 25]                 (80, 85]   \n",
       "379  ...                (45, 50]                 (55, 60]   \n",
       "\n",
       "     binned <2.5 pinacle  binned <2.5 pinacle closing  binned >2.5 pinacle  \\\n",
       "0               (65, 70]                     (65, 70]             (30, 35]   \n",
       "1               (60, 65]                     (65, 70]             (35, 40]   \n",
       "2               (60, 65]                     (60, 65]             (40, 45]   \n",
       "3               (60, 65]                     (60, 65]             (40, 45]   \n",
       "4               (60, 65]                     (60, 65]             (40, 45]   \n",
       "..                   ...                          ...                  ...   \n",
       "375             (45, 50]                     (45, 50]             (55, 60]   \n",
       "376             (45, 50]                     (55, 60]             (55, 60]   \n",
       "377             (40, 45]                     (40, 45]             (60, 65]   \n",
       "378             (30, 35]                     (30, 35]             (75, 80]   \n",
       "379             (40, 45]                     (45, 50]             (55, 60]   \n",
       "\n",
       "     binned >2.5 pinacle closing  binned <2.5 365  binned <2.5 365 closing  \\\n",
       "0                       (30, 35]         (70, 75]                 (65, 70]   \n",
       "1                       (35, 40]         (60, 65]                 (65, 70]   \n",
       "2                       (40, 45]         (60, 65]                 (60, 65]   \n",
       "3                       (40, 45]         (60, 65]                 (60, 65]   \n",
       "4                       (35, 40]         (60, 65]                 (65, 70]   \n",
       "..                           ...              ...                      ...   \n",
       "375                     (55, 60]         (45, 50]                 (45, 50]   \n",
       "376                     (45, 50]         (45, 50]                 (55, 60]   \n",
       "377                     (60, 65]         (40, 45]                 (40, 45]   \n",
       "378                     (75, 80]         (20, 25]                 (20, 25]   \n",
       "379                     (55, 60]         (45, 50]                 (45, 50]   \n",
       "\n",
       "     binned >2.5 365  binned >2.5 365 closing  \n",
       "0           (30, 35]                 (35, 40]  \n",
       "1           (40, 45]                 (35, 40]  \n",
       "2           (40, 45]                 (45, 50]  \n",
       "3           (45, 50]                 (40, 45]  \n",
       "4           (40, 45]                 (35, 40]  \n",
       "..               ...                      ...  \n",
       "375         (55, 60]                 (55, 60]  \n",
       "376         (55, 60]                 (45, 50]  \n",
       "377         (60, 65]                 (60, 65]  \n",
       "378         (80, 85]                 (80, 85]  \n",
       "379         (60, 65]                 (60, 65]  \n",
       "\n",
       "[1039 rows x 144 columns]"
      ]
     },
     "execution_count": 18,
     "metadata": {},
     "output_type": "execute_result"
    }
   ],
   "source": [
    "data"
   ]
  },
  {
   "cell_type": "markdown",
   "id": "e45ec430",
   "metadata": {},
   "source": [
    "## Final Dataset"
   ]
  },
  {
   "cell_type": "markdown",
   "id": "c06f280c",
   "metadata": {},
   "source": [
    "### Average Market (AvG)"
   ]
  },
  {
   "cell_type": "code",
   "execution_count": 19,
   "id": "8075c1a9",
   "metadata": {},
   "outputs": [],
   "source": [
    "#Average Market UNDER opening odds\n",
    "fdf_under_avg = data[['Implied Probability <2.5 avg','under_2.5_goals','binned <2.5 avg','payout_avg_under_2.5']]\n",
    "\n",
    "#Average Market OVER opening odds\n",
    "fdf_over_avg = data[['Implied Probability >2.5 avg','over_2.5_goals','binned >2.5 avg','payout_avg_over_2.5']]\n",
    "\n",
    "#Average Market UNDER closing odds\n",
    "fdf_under_avg_closing = data[['Implied Probability <2.5 avg closing','under_2.5_goals','binned <2.5 avg closing','payout_avg_under_closing_2.5']]\n",
    "\n",
    "#Average Market OVER opening odds\n",
    "fdf_over_avg_closing = data[['Implied Probability >2.5 avg closing','over_2.5_goals','binned >2.5 avg closing','payout_avg_over_closing_2.5']]"
   ]
  },
  {
   "cell_type": "markdown",
   "id": "efd3a216",
   "metadata": {},
   "source": [
    "### Pinnacle"
   ]
  },
  {
   "cell_type": "code",
   "execution_count": 20,
   "id": "114d0e78",
   "metadata": {},
   "outputs": [],
   "source": [
    "#pinnacle UNDER opening odds\n",
    "fdf_under_pinacle = data[['Implied Probability <2.5 pinacle','under_2.5_goals','binned <2.5 pinacle','payout_under_2.5_pinacle']]\n",
    "\n",
    "#pinnacle OVER opening odds\n",
    "fdf_over_pinacle = data[['Implied Probability >2.5 pinacle','over_2.5_goals','binned >2.5 pinacle','payout_over_2.5_pinacle']]\n",
    "\n",
    "#pinnacle UNDER closing odds\n",
    "fdf_under_pinacle_closing = data[['Implied Probability <2.5 pinacle closing','under_2.5_goals','binned <2.5 pinacle closing','payout_under_2.5_pinacle_closing']]\n",
    "\n",
    "#pinnacle OVER closing odds\n",
    "fdf_over_pinacle_closing = data[['Implied Probability >2.5 pinacle closing','over_2.5_goals','binned >2.5 pinacle closing','payout_over_2.5_pinacle_closing']]"
   ]
  },
  {
   "cell_type": "markdown",
   "id": "6ea5b9f4",
   "metadata": {},
   "source": [
    "### bet365"
   ]
  },
  {
   "cell_type": "code",
   "execution_count": 21,
   "id": "d6a444fd",
   "metadata": {},
   "outputs": [],
   "source": [
    "#bet365 UNDER opening odds\n",
    "fdf_under_365 = data[['Implied Probability <2.5 365','under_2.5_goals','binned <2.5 365','payout_under_2.5_365']]\n",
    "\n",
    "#bet365 OVER opening odds\n",
    "fdf_over_365 = data[['Implied Probability >2.5 365','over_2.5_goals','binned >2.5 365','payout_over_2.5_365']]\n",
    "\n",
    "#bet365 UNDER closing odds\n",
    "fdf_under_365_closing = data[['Implied Probability <2.5 365 closing','under_2.5_goals','binned <2.5 365 closing','payout_under_2.5_365_closing']]\n",
    "\n",
    "#bet365 OVER closing odds\n",
    "fdf_over_365_closing = data[['Implied Probability >2.5 365 closing','over_2.5_goals','binned >2.5 365 closing','payout_over_2.5_365_closing']]"
   ]
  },
  {
   "cell_type": "markdown",
   "id": "f86ea04f",
   "metadata": {},
   "source": [
    "## Results per implied prob Average Market"
   ]
  },
  {
   "cell_type": "markdown",
   "id": "66684c60",
   "metadata": {},
   "source": [
    "### Under"
   ]
  },
  {
   "cell_type": "markdown",
   "id": "167a9db6",
   "metadata": {},
   "source": [
    "#### Avg opening odds"
   ]
  },
  {
   "cell_type": "code",
   "execution_count": 22,
   "id": "b8d712a0",
   "metadata": {},
   "outputs": [
    {
     "data": {
      "text/plain": [
       "binned <2.5 avg\n",
       "(0, 5]         0\n",
       "(5, 10]        0\n",
       "(10, 15]       0\n",
       "(15, 20]       0\n",
       "(20, 25]       7\n",
       "(25, 30]       8\n",
       "(30, 35]      29\n",
       "(35, 40]      47\n",
       "(40, 45]      86\n",
       "(45, 50]     150\n",
       "(50, 55]     222\n",
       "(55, 60]     270\n",
       "(60, 65]     168\n",
       "(65, 70]      46\n",
       "(70, 75]       6\n",
       "(75, 80]       0\n",
       "(80, 85]       0\n",
       "(85, 90]       0\n",
       "(90, 95]       0\n",
       "(95, 100]      0\n",
       "Name: payout_avg_under_2.5, dtype: int64"
      ]
     },
     "execution_count": 22,
     "metadata": {},
     "output_type": "execute_result"
    }
   ],
   "source": [
    "fdf_under_avg_gb_count = fdf_under_avg.groupby('binned <2.5 avg')['payout_avg_under_2.5'].count()\n",
    "fdf_under_avg_gb_count"
   ]
  },
  {
   "cell_type": "code",
   "execution_count": 23,
   "id": "368751a7",
   "metadata": {
    "scrolled": true
   },
   "outputs": [
    {
     "data": {
      "text/plain": [
       "binned <2.5 avg\n",
       "(0, 5]            NaN\n",
       "(5, 10]           NaN\n",
       "(10, 15]          NaN\n",
       "(15, 20]          NaN\n",
       "(20, 25]     0.000000\n",
       "(25, 30]     0.845000\n",
       "(30, 35]     0.642069\n",
       "(35, 40]     1.232979\n",
       "(40, 45]     0.875233\n",
       "(45, 50]     0.862067\n",
       "(50, 55]     0.965135\n",
       "(55, 60]     0.906296\n",
       "(60, 65]     0.929524\n",
       "(65, 70]     1.039783\n",
       "(70, 75]     0.701667\n",
       "(75, 80]          NaN\n",
       "(80, 85]          NaN\n",
       "(85, 90]          NaN\n",
       "(90, 95]          NaN\n",
       "(95, 100]         NaN\n",
       "Name: payout_avg_under_2.5, dtype: float64"
      ]
     },
     "execution_count": 23,
     "metadata": {},
     "output_type": "execute_result"
    }
   ],
   "source": [
    "fdf_under_avg_gb_mean = fdf_under_avg.groupby('binned <2.5 avg')['payout_avg_under_2.5'].mean()\n",
    "fdf_under_avg_gb_mean"
   ]
  },
  {
   "cell_type": "markdown",
   "id": "da439352",
   "metadata": {},
   "source": [
    "#### Avg closing odds"
   ]
  },
  {
   "cell_type": "code",
   "execution_count": 24,
   "id": "b5c7d35d",
   "metadata": {},
   "outputs": [
    {
     "data": {
      "text/plain": [
       "binned <2.5 avg closing\n",
       "(0, 5]         0\n",
       "(5, 10]        0\n",
       "(10, 15]       0\n",
       "(15, 20]       0\n",
       "(20, 25]      11\n",
       "(25, 30]      13\n",
       "(30, 35]      28\n",
       "(35, 40]      55\n",
       "(40, 45]      89\n",
       "(45, 50]     157\n",
       "(50, 55]     214\n",
       "(55, 60]     235\n",
       "(60, 65]     163\n",
       "(65, 70]      68\n",
       "(70, 75]       6\n",
       "(75, 80]       0\n",
       "(80, 85]       0\n",
       "(85, 90]       0\n",
       "(90, 95]       0\n",
       "(95, 100]      0\n",
       "Name: payout_avg_under_closing_2.5, dtype: int64"
      ]
     },
     "execution_count": 24,
     "metadata": {},
     "output_type": "execute_result"
    }
   ],
   "source": [
    "fdf_under_avg_closing_gb_count = fdf_under_avg_closing.groupby('binned <2.5 avg closing')['payout_avg_under_closing_2.5'].count()\n",
    "fdf_under_avg_closing_gb_count"
   ]
  },
  {
   "cell_type": "code",
   "execution_count": 25,
   "id": "130a9d40",
   "metadata": {},
   "outputs": [
    {
     "data": {
      "text/plain": [
       "binned <2.5 avg closing\n",
       "(0, 5]            NaN\n",
       "(5, 10]           NaN\n",
       "(10, 15]          NaN\n",
       "(15, 20]          NaN\n",
       "(20, 25]     0.412727\n",
       "(25, 30]     0.562308\n",
       "(30, 35]     0.873929\n",
       "(35, 40]     1.061091\n",
       "(40, 45]     0.784494\n",
       "(45, 50]     0.874140\n",
       "(50, 55]     0.956916\n",
       "(55, 60]     0.945021\n",
       "(60, 65]     0.996810\n",
       "(65, 70]     0.850441\n",
       "(70, 75]     1.163333\n",
       "(75, 80]          NaN\n",
       "(80, 85]          NaN\n",
       "(85, 90]          NaN\n",
       "(90, 95]          NaN\n",
       "(95, 100]         NaN\n",
       "Name: payout_avg_under_closing_2.5, dtype: float64"
      ]
     },
     "execution_count": 25,
     "metadata": {},
     "output_type": "execute_result"
    }
   ],
   "source": [
    "fdf_under_avg_closing_gb_mean = fdf_under_avg_closing.groupby('binned <2.5 avg closing')['payout_avg_under_closing_2.5'].mean()\n",
    "fdf_under_avg_closing_gb_mean"
   ]
  },
  {
   "cell_type": "markdown",
   "id": "d5b57f08",
   "metadata": {},
   "source": [
    "### Over"
   ]
  },
  {
   "cell_type": "markdown",
   "id": "893845a5",
   "metadata": {},
   "source": [
    "#### Opening Odds"
   ]
  },
  {
   "cell_type": "code",
   "execution_count": 26,
   "id": "b6fa9a98",
   "metadata": {},
   "outputs": [
    {
     "data": {
      "text/plain": [
       "binned >2.5 avg\n",
       "(0, 5]         0\n",
       "(5, 10]        0\n",
       "(10, 15]       0\n",
       "(15, 20]       0\n",
       "(20, 25]       0\n",
       "(25, 30]       0\n",
       "(30, 35]       4\n",
       "(35, 40]      46\n",
       "(40, 45]     162\n",
       "(45, 50]     284\n",
       "(50, 55]     227\n",
       "(55, 60]     137\n",
       "(60, 65]      85\n",
       "(65, 70]      46\n",
       "(70, 75]      31\n",
       "(75, 80]       9\n",
       "(80, 85]       7\n",
       "(85, 90]       1\n",
       "(90, 95]       0\n",
       "(95, 100]      0\n",
       "Name: payout_avg_over_2.5, dtype: int64"
      ]
     },
     "execution_count": 26,
     "metadata": {},
     "output_type": "execute_result"
    }
   ],
   "source": [
    "fdf_over_avg_gb_count = fdf_over_avg.groupby('binned >2.5 avg')['payout_avg_over_2.5'].count()\n",
    "fdf_over_avg_gb_count"
   ]
  },
  {
   "cell_type": "code",
   "execution_count": 27,
   "id": "1f0a3a6a",
   "metadata": {},
   "outputs": [
    {
     "data": {
      "text/plain": [
       "binned >2.5 avg\n",
       "(0, 5]            NaN\n",
       "(5, 10]           NaN\n",
       "(10, 15]          NaN\n",
       "(15, 20]          NaN\n",
       "(20, 25]          NaN\n",
       "(25, 30]          NaN\n",
       "(30, 35]     1.462500\n",
       "(35, 40]     0.733043\n",
       "(40, 45]     1.025247\n",
       "(45, 50]     1.006197\n",
       "(50, 55]     0.928678\n",
       "(55, 60]     1.011387\n",
       "(60, 65]     1.017647\n",
       "(65, 70]     0.829348\n",
       "(70, 75]     1.024194\n",
       "(75, 80]     0.866667\n",
       "(80, 85]     1.225714\n",
       "(85, 90]     1.160000\n",
       "(90, 95]          NaN\n",
       "(95, 100]         NaN\n",
       "Name: payout_avg_over_2.5, dtype: float64"
      ]
     },
     "execution_count": 27,
     "metadata": {},
     "output_type": "execute_result"
    }
   ],
   "source": [
    "fdf_over_avg_gb_mean = fdf_over_avg.groupby('binned >2.5 avg')['payout_avg_over_2.5'].mean()\n",
    "fdf_over_avg_gb_mean"
   ]
  },
  {
   "cell_type": "markdown",
   "id": "387c70f7",
   "metadata": {},
   "source": [
    "#### Closing Odds"
   ]
  },
  {
   "cell_type": "code",
   "execution_count": 28,
   "id": "0548fcc8",
   "metadata": {},
   "outputs": [
    {
     "data": {
      "text/plain": [
       "binned >2.5 avg closing\n",
       "(0, 5]         0\n",
       "(5, 10]        0\n",
       "(10, 15]       0\n",
       "(15, 20]       0\n",
       "(20, 25]       0\n",
       "(25, 30]       0\n",
       "(30, 35]       3\n",
       "(35, 40]      66\n",
       "(40, 45]     153\n",
       "(45, 50]     254\n",
       "(50, 55]     215\n",
       "(55, 60]     148\n",
       "(60, 65]      93\n",
       "(65, 70]      53\n",
       "(70, 75]      24\n",
       "(75, 80]      15\n",
       "(80, 85]      14\n",
       "(85, 90]       1\n",
       "(90, 95]       0\n",
       "(95, 100]      0\n",
       "Name: payout_avg_over_closing_2.5, dtype: int64"
      ]
     },
     "execution_count": 28,
     "metadata": {},
     "output_type": "execute_result"
    }
   ],
   "source": [
    "fdf_over_avg_closing_gb_count = fdf_over_avg_closing.groupby('binned >2.5 avg closing')['payout_avg_over_closing_2.5'].count()\n",
    "fdf_over_avg_closing_gb_count"
   ]
  },
  {
   "cell_type": "code",
   "execution_count": 29,
   "id": "02c06fa6",
   "metadata": {},
   "outputs": [
    {
     "data": {
      "text/plain": [
       "binned >2.5 avg closing\n",
       "(0, 5]            NaN\n",
       "(5, 10]           NaN\n",
       "(10, 15]          NaN\n",
       "(15, 20]          NaN\n",
       "(20, 25]          NaN\n",
       "(25, 30]          NaN\n",
       "(30, 35]     0.000000\n",
       "(35, 40]     0.988485\n",
       "(40, 45]     0.946797\n",
       "(45, 50]     0.949016\n",
       "(50, 55]     0.951209\n",
       "(55, 60]     1.002635\n",
       "(60, 65]     1.067312\n",
       "(65, 70]     0.895283\n",
       "(70, 75]     0.917917\n",
       "(75, 80]     1.129333\n",
       "(80, 85]     1.042857\n",
       "(85, 90]     1.160000\n",
       "(90, 95]          NaN\n",
       "(95, 100]         NaN\n",
       "Name: payout_avg_over_closing_2.5, dtype: float64"
      ]
     },
     "execution_count": 29,
     "metadata": {},
     "output_type": "execute_result"
    }
   ],
   "source": [
    "fdf_over_avg_closing_gb_mean = fdf_over_avg_closing.groupby('binned >2.5 avg closing')['payout_avg_over_closing_2.5'].mean()\n",
    "fdf_over_avg_closing_gb_mean"
   ]
  },
  {
   "cell_type": "markdown",
   "id": "641bdc48",
   "metadata": {},
   "source": [
    "## Results per implied prob Pinnacle"
   ]
  },
  {
   "cell_type": "markdown",
   "id": "2fb2d999",
   "metadata": {},
   "source": [
    "### Under"
   ]
  },
  {
   "cell_type": "markdown",
   "id": "429bee77",
   "metadata": {},
   "source": [
    "#### Pinnacle opening odds"
   ]
  },
  {
   "cell_type": "code",
   "execution_count": 30,
   "id": "51983fc1",
   "metadata": {},
   "outputs": [
    {
     "data": {
      "text/plain": [
       "binned <2.5 pinacle\n",
       "(0, 5]         0\n",
       "(5, 10]        0\n",
       "(10, 15]       0\n",
       "(15, 20]       1\n",
       "(20, 25]       8\n",
       "(25, 30]       7\n",
       "(30, 35]      36\n",
       "(35, 40]      59\n",
       "(40, 45]      87\n",
       "(45, 50]     179\n",
       "(50, 55]     216\n",
       "(55, 60]     260\n",
       "(60, 65]     141\n",
       "(65, 70]      40\n",
       "(70, 75]       2\n",
       "(75, 80]       0\n",
       "(80, 85]       0\n",
       "(85, 90]       0\n",
       "(90, 95]       0\n",
       "(95, 100]      0\n",
       "Name: payout_under_2.5_pinacle, dtype: int64"
      ]
     },
     "execution_count": 30,
     "metadata": {},
     "output_type": "execute_result"
    }
   ],
   "source": [
    "fdf_under_pinacle_gb_count = fdf_under_pinacle.groupby('binned <2.5 pinacle')['payout_under_2.5_pinacle'].count()\n",
    "fdf_under_pinacle_gb_count"
   ]
  },
  {
   "cell_type": "code",
   "execution_count": 31,
   "id": "28c5917a",
   "metadata": {},
   "outputs": [
    {
     "data": {
      "text/plain": [
       "binned <2.5 pinacle\n",
       "(0, 5]            NaN\n",
       "(5, 10]           NaN\n",
       "(10, 15]          NaN\n",
       "(15, 20]     0.000000\n",
       "(20, 25]     0.000000\n",
       "(25, 30]     0.490000\n",
       "(30, 35]     0.857778\n",
       "(35, 40]     1.116949\n",
       "(40, 45]     0.920000\n",
       "(45, 50]     0.910726\n",
       "(50, 55]     0.980139\n",
       "(55, 60]     0.956923\n",
       "(60, 65]     0.903404\n",
       "(65, 70]     1.006250\n",
       "(70, 75]     0.705000\n",
       "(75, 80]          NaN\n",
       "(80, 85]          NaN\n",
       "(85, 90]          NaN\n",
       "(90, 95]          NaN\n",
       "(95, 100]         NaN\n",
       "Name: payout_under_2.5_pinacle, dtype: float64"
      ]
     },
     "execution_count": 31,
     "metadata": {},
     "output_type": "execute_result"
    }
   ],
   "source": [
    "fdf_under_pinacle_gb_mean = fdf_under_pinacle.groupby('binned <2.5 pinacle')['payout_under_2.5_pinacle'].mean()\n",
    "fdf_under_pinacle_gb_mean"
   ]
  },
  {
   "cell_type": "code",
   "execution_count": 32,
   "id": "edd2282d",
   "metadata": {},
   "outputs": [
    {
     "data": {
      "text/plain": [
       "0.9390154440154439"
      ]
     },
     "execution_count": 32,
     "metadata": {},
     "output_type": "execute_result"
    }
   ],
   "source": [
    "fdf_under_pinacle['payout_under_2.5_pinacle'].mean()"
   ]
  },
  {
   "cell_type": "code",
   "execution_count": 33,
   "id": "9be6e0c1",
   "metadata": {},
   "outputs": [],
   "source": [
    "fdf_under_pinacle_above_40 = fdf_under_pinacle[fdf_under_pinacle['Implied Probability <2.5 pinacle']>40]"
   ]
  },
  {
   "cell_type": "code",
   "execution_count": 34,
   "id": "3f980c79",
   "metadata": {},
   "outputs": [
    {
     "data": {
      "text/plain": [
       "0.9433621621621622"
      ]
     },
     "execution_count": 34,
     "metadata": {},
     "output_type": "execute_result"
    }
   ],
   "source": [
    "fdf_under_pinacle_above_40['payout_under_2.5_pinacle'].mean()"
   ]
  },
  {
   "cell_type": "markdown",
   "id": "adf003fc",
   "metadata": {},
   "source": [
    "#### Closing Odds"
   ]
  },
  {
   "cell_type": "code",
   "execution_count": 35,
   "id": "8540ed1c",
   "metadata": {},
   "outputs": [
    {
     "data": {
      "text/plain": [
       "binned <2.5 pinacle closing\n",
       "(0, 5]         0\n",
       "(5, 10]        0\n",
       "(10, 15]       0\n",
       "(15, 20]       3\n",
       "(20, 25]       6\n",
       "(25, 30]      19\n",
       "(30, 35]      29\n",
       "(35, 40]      62\n",
       "(40, 45]      99\n",
       "(45, 50]     181\n",
       "(50, 55]     204\n",
       "(55, 60]     245\n",
       "(60, 65]     128\n",
       "(65, 70]      60\n",
       "(70, 75]       3\n",
       "(75, 80]       0\n",
       "(80, 85]       0\n",
       "(85, 90]       0\n",
       "(90, 95]       0\n",
       "(95, 100]      0\n",
       "Name: payout_under_2.5_pinacle_closing, dtype: int64"
      ]
     },
     "execution_count": 35,
     "metadata": {},
     "output_type": "execute_result"
    }
   ],
   "source": [
    "fdf_under_pinacle_closing_gb_count = fdf_under_pinacle_closing.groupby('binned <2.5 pinacle closing')['payout_under_2.5_pinacle_closing'].count()\n",
    "fdf_under_pinacle_closing_gb_count"
   ]
  },
  {
   "cell_type": "code",
   "execution_count": 36,
   "id": "5454fea6",
   "metadata": {
    "scrolled": true
   },
   "outputs": [
    {
     "data": {
      "text/plain": [
       "binned <2.5 pinacle closing\n",
       "(0, 5]            NaN\n",
       "(5, 10]           NaN\n",
       "(10, 15]          NaN\n",
       "(15, 20]     0.000000\n",
       "(20, 25]     0.000000\n",
       "(25, 30]     0.723684\n",
       "(30, 35]     0.742414\n",
       "(35, 40]     1.035000\n",
       "(40, 45]     0.809697\n",
       "(45, 50]     0.980994\n",
       "(50, 55]     0.953676\n",
       "(55, 60]     0.985224\n",
       "(60, 65]     0.955313\n",
       "(65, 70]     0.892667\n",
       "(70, 75]     1.396667\n",
       "(75, 80]          NaN\n",
       "(80, 85]          NaN\n",
       "(85, 90]          NaN\n",
       "(90, 95]          NaN\n",
       "(95, 100]         NaN\n",
       "Name: payout_under_2.5_pinacle_closing, dtype: float64"
      ]
     },
     "execution_count": 36,
     "metadata": {},
     "output_type": "execute_result"
    }
   ],
   "source": [
    "fdf_under_pinacle_closing_gb_mean = fdf_under_pinacle_closing.groupby('binned <2.5 pinacle closing')['payout_under_2.5_pinacle_closing'].mean()\n",
    "fdf_under_pinacle_closing_gb_mean"
   ]
  },
  {
   "cell_type": "code",
   "execution_count": 37,
   "id": "0b230cc8",
   "metadata": {},
   "outputs": [
    {
     "data": {
      "text/html": [
       "<div>\n",
       "<style scoped>\n",
       "    .dataframe tbody tr th:only-of-type {\n",
       "        vertical-align: middle;\n",
       "    }\n",
       "\n",
       "    .dataframe tbody tr th {\n",
       "        vertical-align: top;\n",
       "    }\n",
       "\n",
       "    .dataframe thead th {\n",
       "        text-align: right;\n",
       "    }\n",
       "</style>\n",
       "<table border=\"1\" class=\"dataframe\">\n",
       "  <thead>\n",
       "    <tr style=\"text-align: right;\">\n",
       "      <th></th>\n",
       "      <th>count</th>\n",
       "      <th>mean</th>\n",
       "      <th>median</th>\n",
       "      <th>max</th>\n",
       "    </tr>\n",
       "    <tr>\n",
       "      <th>binned &lt;2.5 pinacle closing</th>\n",
       "      <th></th>\n",
       "      <th></th>\n",
       "      <th></th>\n",
       "      <th></th>\n",
       "    </tr>\n",
       "  </thead>\n",
       "  <tbody>\n",
       "    <tr>\n",
       "      <th>(0, 5]</th>\n",
       "      <td>0</td>\n",
       "      <td>NaN</td>\n",
       "      <td>NaN</td>\n",
       "      <td>NaN</td>\n",
       "    </tr>\n",
       "    <tr>\n",
       "      <th>(5, 10]</th>\n",
       "      <td>0</td>\n",
       "      <td>NaN</td>\n",
       "      <td>NaN</td>\n",
       "      <td>NaN</td>\n",
       "    </tr>\n",
       "    <tr>\n",
       "      <th>(10, 15]</th>\n",
       "      <td>0</td>\n",
       "      <td>NaN</td>\n",
       "      <td>NaN</td>\n",
       "      <td>NaN</td>\n",
       "    </tr>\n",
       "    <tr>\n",
       "      <th>(15, 20]</th>\n",
       "      <td>3</td>\n",
       "      <td>0.000000</td>\n",
       "      <td>0.00</td>\n",
       "      <td>0.00</td>\n",
       "    </tr>\n",
       "    <tr>\n",
       "      <th>(20, 25]</th>\n",
       "      <td>6</td>\n",
       "      <td>0.000000</td>\n",
       "      <td>0.00</td>\n",
       "      <td>0.00</td>\n",
       "    </tr>\n",
       "    <tr>\n",
       "      <th>(25, 30]</th>\n",
       "      <td>19</td>\n",
       "      <td>0.723684</td>\n",
       "      <td>0.00</td>\n",
       "      <td>3.50</td>\n",
       "    </tr>\n",
       "    <tr>\n",
       "      <th>(30, 35]</th>\n",
       "      <td>29</td>\n",
       "      <td>0.742414</td>\n",
       "      <td>0.00</td>\n",
       "      <td>3.27</td>\n",
       "    </tr>\n",
       "    <tr>\n",
       "      <th>(35, 40]</th>\n",
       "      <td>62</td>\n",
       "      <td>1.035000</td>\n",
       "      <td>0.00</td>\n",
       "      <td>2.84</td>\n",
       "    </tr>\n",
       "    <tr>\n",
       "      <th>(40, 45]</th>\n",
       "      <td>99</td>\n",
       "      <td>0.809697</td>\n",
       "      <td>0.00</td>\n",
       "      <td>2.49</td>\n",
       "    </tr>\n",
       "    <tr>\n",
       "      <th>(45, 50]</th>\n",
       "      <td>181</td>\n",
       "      <td>0.980994</td>\n",
       "      <td>0.00</td>\n",
       "      <td>2.22</td>\n",
       "    </tr>\n",
       "    <tr>\n",
       "      <th>(50, 55]</th>\n",
       "      <td>204</td>\n",
       "      <td>0.953676</td>\n",
       "      <td>0.91</td>\n",
       "      <td>1.99</td>\n",
       "    </tr>\n",
       "    <tr>\n",
       "      <th>(55, 60]</th>\n",
       "      <td>245</td>\n",
       "      <td>0.985224</td>\n",
       "      <td>1.68</td>\n",
       "      <td>1.81</td>\n",
       "    </tr>\n",
       "    <tr>\n",
       "      <th>(60, 65]</th>\n",
       "      <td>128</td>\n",
       "      <td>0.955313</td>\n",
       "      <td>1.57</td>\n",
       "      <td>1.66</td>\n",
       "    </tr>\n",
       "    <tr>\n",
       "      <th>(65, 70]</th>\n",
       "      <td>60</td>\n",
       "      <td>0.892667</td>\n",
       "      <td>1.46</td>\n",
       "      <td>1.53</td>\n",
       "    </tr>\n",
       "    <tr>\n",
       "      <th>(70, 75]</th>\n",
       "      <td>3</td>\n",
       "      <td>1.396667</td>\n",
       "      <td>1.40</td>\n",
       "      <td>1.42</td>\n",
       "    </tr>\n",
       "    <tr>\n",
       "      <th>(75, 80]</th>\n",
       "      <td>0</td>\n",
       "      <td>NaN</td>\n",
       "      <td>NaN</td>\n",
       "      <td>NaN</td>\n",
       "    </tr>\n",
       "    <tr>\n",
       "      <th>(80, 85]</th>\n",
       "      <td>0</td>\n",
       "      <td>NaN</td>\n",
       "      <td>NaN</td>\n",
       "      <td>NaN</td>\n",
       "    </tr>\n",
       "    <tr>\n",
       "      <th>(85, 90]</th>\n",
       "      <td>0</td>\n",
       "      <td>NaN</td>\n",
       "      <td>NaN</td>\n",
       "      <td>NaN</td>\n",
       "    </tr>\n",
       "    <tr>\n",
       "      <th>(90, 95]</th>\n",
       "      <td>0</td>\n",
       "      <td>NaN</td>\n",
       "      <td>NaN</td>\n",
       "      <td>NaN</td>\n",
       "    </tr>\n",
       "    <tr>\n",
       "      <th>(95, 100]</th>\n",
       "      <td>0</td>\n",
       "      <td>NaN</td>\n",
       "      <td>NaN</td>\n",
       "      <td>NaN</td>\n",
       "    </tr>\n",
       "  </tbody>\n",
       "</table>\n",
       "</div>"
      ],
      "text/plain": [
       "                             count      mean  median   max\n",
       "binned <2.5 pinacle closing                               \n",
       "(0, 5]                           0       NaN     NaN   NaN\n",
       "(5, 10]                          0       NaN     NaN   NaN\n",
       "(10, 15]                         0       NaN     NaN   NaN\n",
       "(15, 20]                         3  0.000000    0.00  0.00\n",
       "(20, 25]                         6  0.000000    0.00  0.00\n",
       "(25, 30]                        19  0.723684    0.00  3.50\n",
       "(30, 35]                        29  0.742414    0.00  3.27\n",
       "(35, 40]                        62  1.035000    0.00  2.84\n",
       "(40, 45]                        99  0.809697    0.00  2.49\n",
       "(45, 50]                       181  0.980994    0.00  2.22\n",
       "(50, 55]                       204  0.953676    0.91  1.99\n",
       "(55, 60]                       245  0.985224    1.68  1.81\n",
       "(60, 65]                       128  0.955313    1.57  1.66\n",
       "(65, 70]                        60  0.892667    1.46  1.53\n",
       "(70, 75]                         3  1.396667    1.40  1.42\n",
       "(75, 80]                         0       NaN     NaN   NaN\n",
       "(80, 85]                         0       NaN     NaN   NaN\n",
       "(85, 90]                         0       NaN     NaN   NaN\n",
       "(90, 95]                         0       NaN     NaN   NaN\n",
       "(95, 100]                        0       NaN     NaN   NaN"
      ]
     },
     "execution_count": 37,
     "metadata": {},
     "output_type": "execute_result"
    }
   ],
   "source": [
    "fdf_under_pinacle_closing_gb_agg = fdf_under_pinacle_closing.groupby('binned <2.5 pinacle closing')['payout_under_2.5_pinacle_closing'].agg(['count', 'mean', 'median', 'max'])\n",
    "fdf_under_pinacle_closing_gb_agg"
   ]
  },
  {
   "cell_type": "markdown",
   "id": "d8914022",
   "metadata": {},
   "source": [
    "### Over"
   ]
  },
  {
   "cell_type": "markdown",
   "id": "928173aa",
   "metadata": {},
   "source": [
    "#### Opening odds"
   ]
  },
  {
   "cell_type": "code",
   "execution_count": 38,
   "id": "54ff8220",
   "metadata": {},
   "outputs": [
    {
     "data": {
      "text/plain": [
       "binned >2.5 pinacle\n",
       "(0, 5]         0\n",
       "(5, 10]        0\n",
       "(10, 15]       0\n",
       "(15, 20]       0\n",
       "(20, 25]       0\n",
       "(25, 30]       0\n",
       "(30, 35]      12\n",
       "(35, 40]      65\n",
       "(40, 45]     197\n",
       "(45, 50]     282\n",
       "(50, 55]     191\n",
       "(55, 60]     133\n",
       "(60, 65]      78\n",
       "(65, 70]      40\n",
       "(70, 75]      25\n",
       "(75, 80]       6\n",
       "(80, 85]       6\n",
       "(85, 90]       1\n",
       "(90, 95]       0\n",
       "(95, 100]      0\n",
       "Name: payout_over_2.5_pinacle, dtype: int64"
      ]
     },
     "execution_count": 38,
     "metadata": {},
     "output_type": "execute_result"
    }
   ],
   "source": [
    "fdf_over_pinacle_gb_count = fdf_over_pinacle.groupby('binned >2.5 pinacle')['payout_over_2.5_pinacle'].count()\n",
    "fdf_over_pinacle_gb_count"
   ]
  },
  {
   "cell_type": "code",
   "execution_count": 39,
   "id": "82df8790",
   "metadata": {},
   "outputs": [
    {
     "data": {
      "text/plain": [
       "binned >2.5 pinacle\n",
       "(0, 5]            NaN\n",
       "(5, 10]           NaN\n",
       "(10, 15]          NaN\n",
       "(15, 20]          NaN\n",
       "(20, 25]          NaN\n",
       "(25, 30]          NaN\n",
       "(30, 35]     0.756667\n",
       "(35, 40]     1.088462\n",
       "(40, 45]     1.010051\n",
       "(45, 50]     0.993369\n",
       "(50, 55]     0.977173\n",
       "(55, 60]     1.050902\n",
       "(60, 65]     0.940513\n",
       "(65, 70]     0.879000\n",
       "(70, 75]     1.047200\n",
       "(75, 80]     1.081667\n",
       "(80, 85]     1.220000\n",
       "(85, 90]     1.150000\n",
       "(90, 95]          NaN\n",
       "(95, 100]         NaN\n",
       "Name: payout_over_2.5_pinacle, dtype: float64"
      ]
     },
     "execution_count": 39,
     "metadata": {},
     "output_type": "execute_result"
    }
   ],
   "source": [
    "fdf_over_pinacle.groupby('binned >2.5 pinacle')['payout_over_2.5_pinacle'].mean()"
   ]
  },
  {
   "cell_type": "code",
   "execution_count": 40,
   "id": "bd75ca05",
   "metadata": {},
   "outputs": [
    {
     "data": {
      "text/plain": [
       "0.9990444015444016"
      ]
     },
     "execution_count": 40,
     "metadata": {},
     "output_type": "execute_result"
    }
   ],
   "source": [
    "fdf_over_pinacle_gb_mean = fdf_over_pinacle['payout_over_2.5_pinacle'].mean()\n",
    "fdf_over_pinacle_gb_mean"
   ]
  },
  {
   "cell_type": "code",
   "execution_count": 41,
   "id": "4ea9b7f0",
   "metadata": {},
   "outputs": [],
   "source": [
    "fdf_over_pinacle_above_60 = fdf_over_pinacle[fdf_over_pinacle['Implied Probability >2.5 pinacle']>60]"
   ]
  },
  {
   "cell_type": "code",
   "execution_count": 42,
   "id": "a4cf561f",
   "metadata": {},
   "outputs": [
    {
     "data": {
      "text/plain": [
       "0.9593589743589743"
      ]
     },
     "execution_count": 42,
     "metadata": {},
     "output_type": "execute_result"
    }
   ],
   "source": [
    "fdf_over_pinacle_above_60['payout_over_2.5_pinacle'].mean()"
   ]
  },
  {
   "cell_type": "markdown",
   "id": "7271f40c",
   "metadata": {},
   "source": [
    "#### Closing odds"
   ]
  },
  {
   "cell_type": "code",
   "execution_count": 43,
   "id": "dcfe8c84",
   "metadata": {},
   "outputs": [
    {
     "data": {
      "text/plain": [
       "binned >2.5 pinacle closing\n",
       "(0, 5]         0\n",
       "(5, 10]        0\n",
       "(10, 15]       0\n",
       "(15, 20]       0\n",
       "(20, 25]       0\n",
       "(25, 30]       0\n",
       "(30, 35]      17\n",
       "(35, 40]      86\n",
       "(40, 45]     194\n",
       "(45, 50]     240\n",
       "(50, 55]     199\n",
       "(55, 60]     124\n",
       "(60, 65]      85\n",
       "(65, 70]      48\n",
       "(70, 75]      28\n",
       "(75, 80]      10\n",
       "(80, 85]       6\n",
       "(85, 90]       2\n",
       "(90, 95]       0\n",
       "(95, 100]      0\n",
       "Name: payout_over_2.5_pinacle_closing, dtype: int64"
      ]
     },
     "execution_count": 43,
     "metadata": {},
     "output_type": "execute_result"
    }
   ],
   "source": [
    "fdf_over_pinacle_closing_gb_count = fdf_over_pinacle_closing.groupby('binned >2.5 pinacle closing')['payout_over_2.5_pinacle_closing'].count()\n",
    "fdf_over_pinacle_closing_gb_count"
   ]
  },
  {
   "cell_type": "code",
   "execution_count": 44,
   "id": "424a88e2",
   "metadata": {},
   "outputs": [
    {
     "data": {
      "text/plain": [
       "binned >2.5 pinacle closing\n",
       "(0, 5]            NaN\n",
       "(5, 10]           NaN\n",
       "(10, 15]          NaN\n",
       "(15, 20]          NaN\n",
       "(20, 25]          NaN\n",
       "(25, 30]          NaN\n",
       "(30, 35]     0.511176\n",
       "(35, 40]     1.168837\n",
       "(40, 45]     0.937577\n",
       "(45, 50]     0.992792\n",
       "(50, 55]     0.949447\n",
       "(55, 60]     1.080242\n",
       "(60, 65]     1.038118\n",
       "(65, 70]     0.896458\n",
       "(70, 75]     1.027143\n",
       "(75, 80]     1.037000\n",
       "(80, 85]     1.215000\n",
       "(85, 90]     1.170000\n",
       "(90, 95]          NaN\n",
       "(95, 100]         NaN\n",
       "Name: payout_over_2.5_pinacle_closing, dtype: float64"
      ]
     },
     "execution_count": 44,
     "metadata": {},
     "output_type": "execute_result"
    }
   ],
   "source": [
    "fdf_over_pinacle_closing_gb_mean = fdf_over_pinacle_closing.groupby('binned >2.5 pinacle closing')['payout_over_2.5_pinacle_closing'].mean()\n",
    "fdf_over_pinacle_closing_gb_mean"
   ]
  },
  {
   "cell_type": "code",
   "execution_count": 45,
   "id": "447431c4",
   "metadata": {},
   "outputs": [
    {
     "data": {
      "text/html": [
       "<div>\n",
       "<style scoped>\n",
       "    .dataframe tbody tr th:only-of-type {\n",
       "        vertical-align: middle;\n",
       "    }\n",
       "\n",
       "    .dataframe tbody tr th {\n",
       "        vertical-align: top;\n",
       "    }\n",
       "\n",
       "    .dataframe thead th {\n",
       "        text-align: right;\n",
       "    }\n",
       "</style>\n",
       "<table border=\"1\" class=\"dataframe\">\n",
       "  <thead>\n",
       "    <tr style=\"text-align: right;\">\n",
       "      <th></th>\n",
       "      <th>count</th>\n",
       "      <th>mean</th>\n",
       "      <th>median</th>\n",
       "      <th>max</th>\n",
       "    </tr>\n",
       "    <tr>\n",
       "      <th>binned &gt;2.5 pinacle closing</th>\n",
       "      <th></th>\n",
       "      <th></th>\n",
       "      <th></th>\n",
       "      <th></th>\n",
       "    </tr>\n",
       "  </thead>\n",
       "  <tbody>\n",
       "    <tr>\n",
       "      <th>(0, 5]</th>\n",
       "      <td>0</td>\n",
       "      <td>NaN</td>\n",
       "      <td>NaN</td>\n",
       "      <td>NaN</td>\n",
       "    </tr>\n",
       "    <tr>\n",
       "      <th>(5, 10]</th>\n",
       "      <td>0</td>\n",
       "      <td>NaN</td>\n",
       "      <td>NaN</td>\n",
       "      <td>NaN</td>\n",
       "    </tr>\n",
       "    <tr>\n",
       "      <th>(10, 15]</th>\n",
       "      <td>0</td>\n",
       "      <td>NaN</td>\n",
       "      <td>NaN</td>\n",
       "      <td>NaN</td>\n",
       "    </tr>\n",
       "    <tr>\n",
       "      <th>(15, 20]</th>\n",
       "      <td>0</td>\n",
       "      <td>NaN</td>\n",
       "      <td>NaN</td>\n",
       "      <td>NaN</td>\n",
       "    </tr>\n",
       "    <tr>\n",
       "      <th>(20, 25]</th>\n",
       "      <td>0</td>\n",
       "      <td>NaN</td>\n",
       "      <td>NaN</td>\n",
       "      <td>NaN</td>\n",
       "    </tr>\n",
       "    <tr>\n",
       "      <th>(25, 30]</th>\n",
       "      <td>0</td>\n",
       "      <td>NaN</td>\n",
       "      <td>NaN</td>\n",
       "      <td>NaN</td>\n",
       "    </tr>\n",
       "    <tr>\n",
       "      <th>(30, 35]</th>\n",
       "      <td>17</td>\n",
       "      <td>0.511176</td>\n",
       "      <td>0.000</td>\n",
       "      <td>2.92</td>\n",
       "    </tr>\n",
       "    <tr>\n",
       "      <th>(35, 40]</th>\n",
       "      <td>86</td>\n",
       "      <td>1.168837</td>\n",
       "      <td>0.000</td>\n",
       "      <td>2.81</td>\n",
       "    </tr>\n",
       "    <tr>\n",
       "      <th>(40, 45]</th>\n",
       "      <td>194</td>\n",
       "      <td>0.937577</td>\n",
       "      <td>0.000</td>\n",
       "      <td>2.49</td>\n",
       "    </tr>\n",
       "    <tr>\n",
       "      <th>(45, 50]</th>\n",
       "      <td>240</td>\n",
       "      <td>0.992792</td>\n",
       "      <td>0.000</td>\n",
       "      <td>2.22</td>\n",
       "    </tr>\n",
       "    <tr>\n",
       "      <th>(50, 55]</th>\n",
       "      <td>199</td>\n",
       "      <td>0.949447</td>\n",
       "      <td>0.000</td>\n",
       "      <td>1.99</td>\n",
       "    </tr>\n",
       "    <tr>\n",
       "      <th>(55, 60]</th>\n",
       "      <td>124</td>\n",
       "      <td>1.080242</td>\n",
       "      <td>1.685</td>\n",
       "      <td>1.81</td>\n",
       "    </tr>\n",
       "    <tr>\n",
       "      <th>(60, 65]</th>\n",
       "      <td>85</td>\n",
       "      <td>1.038118</td>\n",
       "      <td>1.570</td>\n",
       "      <td>1.66</td>\n",
       "    </tr>\n",
       "    <tr>\n",
       "      <th>(65, 70]</th>\n",
       "      <td>48</td>\n",
       "      <td>0.896458</td>\n",
       "      <td>1.440</td>\n",
       "      <td>1.53</td>\n",
       "    </tr>\n",
       "    <tr>\n",
       "      <th>(70, 75]</th>\n",
       "      <td>28</td>\n",
       "      <td>1.027143</td>\n",
       "      <td>1.350</td>\n",
       "      <td>1.42</td>\n",
       "    </tr>\n",
       "    <tr>\n",
       "      <th>(75, 80]</th>\n",
       "      <td>10</td>\n",
       "      <td>1.037000</td>\n",
       "      <td>1.280</td>\n",
       "      <td>1.33</td>\n",
       "    </tr>\n",
       "    <tr>\n",
       "      <th>(80, 85]</th>\n",
       "      <td>6</td>\n",
       "      <td>1.215000</td>\n",
       "      <td>1.215</td>\n",
       "      <td>1.24</td>\n",
       "    </tr>\n",
       "    <tr>\n",
       "      <th>(85, 90]</th>\n",
       "      <td>2</td>\n",
       "      <td>1.170000</td>\n",
       "      <td>1.170</td>\n",
       "      <td>1.17</td>\n",
       "    </tr>\n",
       "    <tr>\n",
       "      <th>(90, 95]</th>\n",
       "      <td>0</td>\n",
       "      <td>NaN</td>\n",
       "      <td>NaN</td>\n",
       "      <td>NaN</td>\n",
       "    </tr>\n",
       "    <tr>\n",
       "      <th>(95, 100]</th>\n",
       "      <td>0</td>\n",
       "      <td>NaN</td>\n",
       "      <td>NaN</td>\n",
       "      <td>NaN</td>\n",
       "    </tr>\n",
       "  </tbody>\n",
       "</table>\n",
       "</div>"
      ],
      "text/plain": [
       "                             count      mean  median   max\n",
       "binned >2.5 pinacle closing                               \n",
       "(0, 5]                           0       NaN     NaN   NaN\n",
       "(5, 10]                          0       NaN     NaN   NaN\n",
       "(10, 15]                         0       NaN     NaN   NaN\n",
       "(15, 20]                         0       NaN     NaN   NaN\n",
       "(20, 25]                         0       NaN     NaN   NaN\n",
       "(25, 30]                         0       NaN     NaN   NaN\n",
       "(30, 35]                        17  0.511176   0.000  2.92\n",
       "(35, 40]                        86  1.168837   0.000  2.81\n",
       "(40, 45]                       194  0.937577   0.000  2.49\n",
       "(45, 50]                       240  0.992792   0.000  2.22\n",
       "(50, 55]                       199  0.949447   0.000  1.99\n",
       "(55, 60]                       124  1.080242   1.685  1.81\n",
       "(60, 65]                        85  1.038118   1.570  1.66\n",
       "(65, 70]                        48  0.896458   1.440  1.53\n",
       "(70, 75]                        28  1.027143   1.350  1.42\n",
       "(75, 80]                        10  1.037000   1.280  1.33\n",
       "(80, 85]                         6  1.215000   1.215  1.24\n",
       "(85, 90]                         2  1.170000   1.170  1.17\n",
       "(90, 95]                         0       NaN     NaN   NaN\n",
       "(95, 100]                        0       NaN     NaN   NaN"
      ]
     },
     "execution_count": 45,
     "metadata": {},
     "output_type": "execute_result"
    }
   ],
   "source": [
    "fdf_over_pinacle_closing_gb_agg = fdf_over_pinacle_closing.groupby('binned >2.5 pinacle closing')['payout_over_2.5_pinacle_closing'].agg(['count', 'mean', 'median', 'max'])\n",
    "fdf_over_pinacle_closing_gb_agg"
   ]
  },
  {
   "cell_type": "markdown",
   "id": "eca3df08",
   "metadata": {},
   "source": [
    "## Results per implied prob bet365"
   ]
  },
  {
   "cell_type": "markdown",
   "id": "a4abadb9",
   "metadata": {},
   "source": [
    "### Under"
   ]
  },
  {
   "cell_type": "markdown",
   "id": "c5b84deb",
   "metadata": {},
   "source": [
    "#### Opening odds"
   ]
  },
  {
   "cell_type": "code",
   "execution_count": 46,
   "id": "4c377d92",
   "metadata": {},
   "outputs": [
    {
     "data": {
      "text/plain": [
       "binned <2.5 365\n",
       "(0, 5]         0\n",
       "(5, 10]        0\n",
       "(10, 15]       0\n",
       "(15, 20]       1\n",
       "(20, 25]       8\n",
       "(25, 30]      12\n",
       "(30, 35]      27\n",
       "(35, 40]      60\n",
       "(40, 45]      45\n",
       "(45, 50]     206\n",
       "(50, 55]     165\n",
       "(55, 60]     224\n",
       "(60, 65]     205\n",
       "(65, 70]      75\n",
       "(70, 75]       7\n",
       "(75, 80]       0\n",
       "(80, 85]       0\n",
       "(85, 90]       0\n",
       "(90, 95]       0\n",
       "(95, 100]      0\n",
       "Name: payout_under_2.5_365, dtype: int64"
      ]
     },
     "execution_count": 46,
     "metadata": {},
     "output_type": "execute_result"
    }
   ],
   "source": [
    "fdf_under_bet365_gb_count = fdf_under_365.groupby('binned <2.5 365')['payout_under_2.5_365'].count()\n",
    "fdf_under_bet365_gb_count"
   ]
  },
  {
   "cell_type": "code",
   "execution_count": 47,
   "id": "d64f9d96",
   "metadata": {},
   "outputs": [
    {
     "data": {
      "text/plain": [
       "binned <2.5 365\n",
       "(0, 5]            NaN\n",
       "(5, 10]           NaN\n",
       "(10, 15]          NaN\n",
       "(15, 20]     0.000000\n",
       "(20, 25]     0.000000\n",
       "(25, 30]     0.858333\n",
       "(30, 35]     0.807407\n",
       "(35, 40]     1.118167\n",
       "(40, 45]     0.831778\n",
       "(45, 50]     0.866311\n",
       "(50, 55]     0.991212\n",
       "(55, 60]     0.932321\n",
       "(60, 65]     0.912878\n",
       "(65, 70]     0.948800\n",
       "(70, 75]     0.788571\n",
       "(75, 80]          NaN\n",
       "(80, 85]          NaN\n",
       "(85, 90]          NaN\n",
       "(90, 95]          NaN\n",
       "(95, 100]         NaN\n",
       "Name: payout_under_2.5_365, dtype: float64"
      ]
     },
     "execution_count": 47,
     "metadata": {},
     "output_type": "execute_result"
    }
   ],
   "source": [
    "fdf_under_bet365_gb_mean = fdf_under_365.groupby('binned <2.5 365')['payout_under_2.5_365'].mean()\n",
    "fdf_under_bet365_gb_mean"
   ]
  },
  {
   "cell_type": "code",
   "execution_count": 48,
   "id": "f5b7baa4",
   "metadata": {},
   "outputs": [
    {
     "data": {
      "text/plain": [
       "0.91912077294686"
      ]
     },
     "execution_count": 48,
     "metadata": {},
     "output_type": "execute_result"
    }
   ],
   "source": [
    "fdf_under_365['payout_under_2.5_365'].mean()"
   ]
  },
  {
   "cell_type": "code",
   "execution_count": 49,
   "id": "e5a1828a",
   "metadata": {},
   "outputs": [],
   "source": [
    "fdf_under_365_above_40 = fdf_under_365[fdf_under_365['Implied Probability <2.5 365']>40]"
   ]
  },
  {
   "cell_type": "code",
   "execution_count": 50,
   "id": "a17ec083",
   "metadata": {},
   "outputs": [
    {
     "data": {
      "text/plain": [
       "0.9192017259978426"
      ]
     },
     "execution_count": 50,
     "metadata": {},
     "output_type": "execute_result"
    }
   ],
   "source": [
    "fdf_under_365_above_40['payout_under_2.5_365'].mean()"
   ]
  },
  {
   "cell_type": "markdown",
   "id": "cab820bb",
   "metadata": {},
   "source": [
    "#### Closing odds"
   ]
  },
  {
   "cell_type": "code",
   "execution_count": 51,
   "id": "7bb752be",
   "metadata": {},
   "outputs": [
    {
     "data": {
      "text/plain": [
       "binned <2.5 365 closing\n",
       "(0, 5]         0\n",
       "(5, 10]        0\n",
       "(10, 15]       0\n",
       "(15, 20]       1\n",
       "(20, 25]      18\n",
       "(25, 30]      14\n",
       "(30, 35]      22\n",
       "(35, 40]      59\n",
       "(40, 45]      64\n",
       "(45, 50]     211\n",
       "(50, 55]     144\n",
       "(55, 60]     197\n",
       "(60, 65]     208\n",
       "(65, 70]      94\n",
       "(70, 75]       7\n",
       "(75, 80]       0\n",
       "(80, 85]       0\n",
       "(85, 90]       0\n",
       "(90, 95]       0\n",
       "(95, 100]      0\n",
       "Name: payout_under_2.5_365_closing, dtype: int64"
      ]
     },
     "execution_count": 51,
     "metadata": {},
     "output_type": "execute_result"
    }
   ],
   "source": [
    "fdf_under_bet365_closing_gb_count = fdf_under_365_closing.groupby('binned <2.5 365 closing')['payout_under_2.5_365_closing'].count()\n",
    "fdf_under_bet365_closing_gb_count"
   ]
  },
  {
   "cell_type": "code",
   "execution_count": 52,
   "id": "cd7cd46c",
   "metadata": {},
   "outputs": [
    {
     "data": {
      "text/plain": [
       "binned <2.5 365 closing\n",
       "(0, 5]            NaN\n",
       "(5, 10]           NaN\n",
       "(10, 15]          NaN\n",
       "(15, 20]     0.000000\n",
       "(20, 25]     0.472222\n",
       "(25, 30]     0.492857\n",
       "(30, 35]     1.281818\n",
       "(35, 40]     0.933729\n",
       "(40, 45]     0.834219\n",
       "(45, 50]     0.867014\n",
       "(50, 55]     0.956319\n",
       "(55, 60]     0.978122\n",
       "(60, 65]     0.951683\n",
       "(65, 70]     0.861383\n",
       "(70, 75]     1.388571\n",
       "(75, 80]          NaN\n",
       "(80, 85]          NaN\n",
       "(85, 90]          NaN\n",
       "(90, 95]          NaN\n",
       "(95, 100]         NaN\n",
       "Name: payout_under_2.5_365_closing, dtype: float64"
      ]
     },
     "execution_count": 52,
     "metadata": {},
     "output_type": "execute_result"
    }
   ],
   "source": [
    "fdf_under_bet365_closing_gb_mean = fdf_under_365_closing.groupby('binned <2.5 365 closing')['payout_under_2.5_365_closing'].mean()\n",
    "fdf_under_bet365_closing_gb_mean"
   ]
  },
  {
   "cell_type": "markdown",
   "id": "d066b0ca",
   "metadata": {},
   "source": [
    "### Over"
   ]
  },
  {
   "cell_type": "markdown",
   "id": "12e4a9a9",
   "metadata": {},
   "source": [
    "#### Opening Odds"
   ]
  },
  {
   "cell_type": "code",
   "execution_count": 53,
   "id": "f0ec2853",
   "metadata": {},
   "outputs": [
    {
     "data": {
      "text/plain": [
       "binned >2.5 365\n",
       "(0, 5]         0\n",
       "(5, 10]        0\n",
       "(10, 15]       0\n",
       "(15, 20]       0\n",
       "(20, 25]       0\n",
       "(25, 30]       0\n",
       "(30, 35]       7\n",
       "(35, 40]      75\n",
       "(40, 45]     109\n",
       "(45, 50]     348\n",
       "(50, 55]     169\n",
       "(55, 60]     132\n",
       "(60, 65]      87\n",
       "(65, 70]      60\n",
       "(70, 75]      27\n",
       "(75, 80]      14\n",
       "(80, 85]       6\n",
       "(85, 90]       1\n",
       "(90, 95]       0\n",
       "(95, 100]      0\n",
       "Name: payout_over_2.5_365, dtype: int64"
      ]
     },
     "execution_count": 53,
     "metadata": {},
     "output_type": "execute_result"
    }
   ],
   "source": [
    "fdf_over_bet365_gb_count = fdf_over_365.groupby('binned >2.5 365')['payout_over_2.5_365'].count()\n",
    "fdf_over_bet365_gb_count"
   ]
  },
  {
   "cell_type": "code",
   "execution_count": 54,
   "id": "7e9083d7",
   "metadata": {},
   "outputs": [
    {
     "data": {
      "text/plain": [
       "binned >2.5 365\n",
       "(0, 5]            NaN\n",
       "(5, 10]           NaN\n",
       "(10, 15]          NaN\n",
       "(15, 20]          NaN\n",
       "(20, 25]          NaN\n",
       "(25, 30]          NaN\n",
       "(30, 35]     1.314286\n",
       "(35, 40]     0.939733\n",
       "(40, 45]     1.041651\n",
       "(45, 50]     0.953534\n",
       "(50, 55]     0.901479\n",
       "(55, 60]     1.085758\n",
       "(60, 65]     1.007701\n",
       "(65, 70]     0.843500\n",
       "(70, 75]     1.022222\n",
       "(75, 80]     1.024286\n",
       "(80, 85]     1.220000\n",
       "(85, 90]     1.160000\n",
       "(90, 95]          NaN\n",
       "(95, 100]         NaN\n",
       "Name: payout_over_2.5_365, dtype: float64"
      ]
     },
     "execution_count": 54,
     "metadata": {},
     "output_type": "execute_result"
    }
   ],
   "source": [
    "fdf_over_bet365_gb_mean = fdf_over_365.groupby('binned >2.5 365')['payout_over_2.5_365'].mean()\n",
    "fdf_over_bet365_gb_mean"
   ]
  },
  {
   "cell_type": "code",
   "execution_count": 55,
   "id": "42b66601",
   "metadata": {},
   "outputs": [
    {
     "data": {
      "text/plain": [
       "0.9752850241545894"
      ]
     },
     "execution_count": 55,
     "metadata": {},
     "output_type": "execute_result"
    }
   ],
   "source": [
    "fdf_over_365['payout_over_2.5_365'].mean()"
   ]
  },
  {
   "cell_type": "markdown",
   "id": "c0969105",
   "metadata": {},
   "source": [
    "#### Closing Odds"
   ]
  },
  {
   "cell_type": "code",
   "execution_count": 56,
   "id": "d4f91b68",
   "metadata": {},
   "outputs": [
    {
     "data": {
      "text/plain": [
       "binned >2.5 365 closing\n",
       "(0, 5]         0\n",
       "(5, 10]        0\n",
       "(10, 15]       0\n",
       "(15, 20]       0\n",
       "(20, 25]       0\n",
       "(25, 30]       0\n",
       "(30, 35]       7\n",
       "(35, 40]      94\n",
       "(40, 45]     111\n",
       "(45, 50]     317\n",
       "(50, 55]     143\n",
       "(55, 60]     148\n",
       "(60, 65]     105\n",
       "(65, 70]      59\n",
       "(70, 75]      22\n",
       "(75, 80]      21\n",
       "(80, 85]      11\n",
       "(85, 90]       1\n",
       "(90, 95]       0\n",
       "(95, 100]      0\n",
       "Name: payout_over_2.5_365_closing, dtype: int64"
      ]
     },
     "execution_count": 56,
     "metadata": {},
     "output_type": "execute_result"
    }
   ],
   "source": [
    "fdf_over_bet365_closing_gb_count = fdf_over_365_closing.groupby('binned >2.5 365 closing')['payout_over_2.5_365_closing'].count()\n",
    "fdf_over_bet365_closing_gb_count"
   ]
  },
  {
   "cell_type": "code",
   "execution_count": 57,
   "id": "901ec7b4",
   "metadata": {},
   "outputs": [
    {
     "data": {
      "text/plain": [
       "binned >2.5 365 closing\n",
       "(0, 5]            NaN\n",
       "(5, 10]           NaN\n",
       "(10, 15]          NaN\n",
       "(15, 20]          NaN\n",
       "(20, 25]          NaN\n",
       "(25, 30]          NaN\n",
       "(30, 35]     0.000000\n",
       "(35, 40]     1.090106\n",
       "(40, 45]     0.878468\n",
       "(45, 50]     0.957539\n",
       "(50, 55]     0.933007\n",
       "(55, 60]     0.941892\n",
       "(60, 65]     1.126571\n",
       "(65, 70]     0.966102\n",
       "(70, 75]     0.816364\n",
       "(75, 80]     1.109048\n",
       "(80, 85]     1.105455\n",
       "(85, 90]     1.160000\n",
       "(90, 95]          NaN\n",
       "(95, 100]         NaN\n",
       "Name: payout_over_2.5_365_closing, dtype: float64"
      ]
     },
     "execution_count": 57,
     "metadata": {},
     "output_type": "execute_result"
    }
   ],
   "source": [
    "fdf_over_bet365_closing_gb_mean = fdf_over_365_closing.groupby('binned >2.5 365 closing')['payout_over_2.5_365_closing'].mean()\n",
    "fdf_over_bet365_closing_gb_mean"
   ]
  },
  {
   "cell_type": "code",
   "execution_count": 58,
   "id": "6929b581",
   "metadata": {},
   "outputs": [
    {
     "data": {
      "text/plain": [
       "0.9684311838306064"
      ]
     },
     "execution_count": 58,
     "metadata": {},
     "output_type": "execute_result"
    }
   ],
   "source": [
    "fdf_over_365_closing['payout_over_2.5_365_closing'].mean()"
   ]
  },
  {
   "cell_type": "code",
   "execution_count": null,
   "id": "507750a0",
   "metadata": {},
   "outputs": [],
   "source": []
  },
  {
   "cell_type": "code",
   "execution_count": null,
   "id": "1dd59ee9",
   "metadata": {},
   "outputs": [],
   "source": []
  }
 ],
 "metadata": {
  "kernelspec": {
   "display_name": "Python 3 (ipykernel)",
   "language": "python",
   "name": "python3"
  },
  "language_info": {
   "codemirror_mode": {
    "name": "ipython",
    "version": 3
   },
   "file_extension": ".py",
   "mimetype": "text/x-python",
   "name": "python",
   "nbconvert_exporter": "python",
   "pygments_lexer": "ipython3",
   "version": "3.8.12"
  },
  "toc": {
   "base_numbering": 1,
   "nav_menu": {},
   "number_sections": true,
   "sideBar": true,
   "skip_h1_title": false,
   "title_cell": "Table of Contents",
   "title_sidebar": "Contents",
   "toc_cell": false,
   "toc_position": {},
   "toc_section_display": true,
   "toc_window_display": false
  },
  "varInspector": {
   "cols": {
    "lenName": 16,
    "lenType": 16,
    "lenVar": 40
   },
   "kernels_config": {
    "python": {
     "delete_cmd_postfix": "",
     "delete_cmd_prefix": "del ",
     "library": "var_list.py",
     "varRefreshCmd": "print(var_dic_list())"
    },
    "r": {
     "delete_cmd_postfix": ") ",
     "delete_cmd_prefix": "rm(",
     "library": "var_list.r",
     "varRefreshCmd": "cat(var_dic_list()) "
    }
   },
   "types_to_exclude": [
    "module",
    "function",
    "builtin_function_or_method",
    "instance",
    "_Feature"
   ],
   "window_display": false
  }
 },
 "nbformat": 4,
 "nbformat_minor": 5
}
