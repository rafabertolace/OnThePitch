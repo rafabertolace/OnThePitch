{
 "cells": [
  {
   "cell_type": "markdown",
   "id": "d1816ff7",
   "metadata": {},
   "source": [
    "## Imports"
   ]
  },
  {
   "cell_type": "code",
   "execution_count": 1,
   "id": "06e1f50a",
   "metadata": {},
   "outputs": [],
   "source": [
    "import pandas as pd"
   ]
  },
  {
   "cell_type": "markdown",
   "id": "b295e690",
   "metadata": {},
   "source": [
    "## Loading the Dataframe"
   ]
  },
  {
   "cell_type": "code",
   "execution_count": 2,
   "id": "b95d2a37",
   "metadata": {},
   "outputs": [
    {
     "data": {
      "text/plain": [
       "'/home/joaosantos/code/rafabertolace/OnThePitch/notebooks'"
      ]
     },
     "execution_count": 2,
     "metadata": {},
     "output_type": "execute_result"
    }
   ],
   "source": [
    "pwd"
   ]
  },
  {
   "cell_type": "code",
   "execution_count": 3,
   "id": "2b2ffee3",
   "metadata": {},
   "outputs": [],
   "source": [
    "data = pd.read_csv('../raw_data/turkey/Turkey_2020_2021.csv')"
   ]
  },
  {
   "cell_type": "code",
   "execution_count": 4,
   "id": "8c5821c7",
   "metadata": {},
   "outputs": [],
   "source": [
    "#data_date_2 = pd.to_datetime(data_date, dayfirst = True)"
   ]
  },
  {
   "cell_type": "markdown",
   "id": "32c8ad8d",
   "metadata": {},
   "source": [
    "## Features Engineering"
   ]
  },
  {
   "cell_type": "code",
   "execution_count": 5,
   "id": "fed74758",
   "metadata": {},
   "outputs": [],
   "source": [
    "# total number of goals = goals from the home team + goals from visiting team\n",
    "data['nb_goals']=data['FTHG']+data['FTAG']"
   ]
  },
  {
   "cell_type": "code",
   "execution_count": 6,
   "id": "263398c5",
   "metadata": {},
   "outputs": [],
   "source": [
    "# boolean: true or false regarding whether they were more than 2.5 goals\n",
    "data['over_2.5_goals']=data['nb_goals']>2.5"
   ]
  },
  {
   "cell_type": "code",
   "execution_count": 7,
   "id": "3511ab65",
   "metadata": {},
   "outputs": [],
   "source": [
    "# boolean: true or false regarding whether they were less than 2.5 goals\n",
    "data['under_2.5_goals']=data['nb_goals']<2.5"
   ]
  },
  {
   "cell_type": "code",
   "execution_count": 8,
   "id": "4b10653e",
   "metadata": {},
   "outputs": [],
   "source": [
    "# payout of betting on over 2.5 goals: we get 0 if we lose the bet, we get the AvgC if we win the bet (AvgC = market average of the odds)\n",
    "data['payout'] = data['over_2.5_goals']*data['AvgC>2.5']"
   ]
  },
  {
   "cell_type": "code",
   "execution_count": 9,
   "id": "b1686a39",
   "metadata": {},
   "outputs": [],
   "source": [
    "# payout of betting on under 2.5 goals: we get 0 if we lose the bet, we get the AvgC if we win the bet (AvgC = market average of the odds)\n",
    "data['payout_under_2.5'] = data['under_2.5_goals']*data['AvgC<2.5']"
   ]
  },
  {
   "cell_type": "code",
   "execution_count": 10,
   "id": "4e0475e2",
   "metadata": {},
   "outputs": [],
   "source": [
    "#payout UNDER 2.5 for PINACLE specifically\n",
    "data['payout_under_2.5_pinacle'] = data['under_2.5_goals']*data['PC<2.5']"
   ]
  },
  {
   "cell_type": "code",
   "execution_count": 11,
   "id": "9f92dbe4",
   "metadata": {},
   "outputs": [],
   "source": [
    "#payout OVER 2.5 for PINACLE specifically\n",
    "data['payout_over_2.5_pinacle'] = data['over_2.5_goals']*data['PC>2.5']"
   ]
  },
  {
   "cell_type": "code",
   "execution_count": 12,
   "id": "6170b6dd",
   "metadata": {},
   "outputs": [],
   "source": [
    "#payout UNDER 2.5 for 365 specifically\n",
    "data['payout_under_2.5_365'] = data['under_2.5_goals']*data['B365C<2.5']"
   ]
  },
  {
   "cell_type": "code",
   "execution_count": 13,
   "id": "53b7961e",
   "metadata": {},
   "outputs": [],
   "source": [
    "#payout OVER 2.5 for 365 specifically\n",
    "data['payout_over_2.5_365'] = data['over_2.5_goals']*data['B365C>2.5']"
   ]
  },
  {
   "cell_type": "code",
   "execution_count": null,
   "id": "0b874282",
   "metadata": {},
   "outputs": [],
   "source": []
  },
  {
   "cell_type": "code",
   "execution_count": 14,
   "id": "4cdcecbb",
   "metadata": {},
   "outputs": [],
   "source": [
    "#Implied Probability OVER 2.5 goals for overall market (AvgC)\n",
    "data['Implied Probability']=1/data['AvgC>2.5']*100"
   ]
  },
  {
   "cell_type": "code",
   "execution_count": 15,
   "id": "36b1e844",
   "metadata": {},
   "outputs": [],
   "source": [
    "#Implied Probability UNDER 2.5 goals for overall market (AvgC)\n",
    "data['Implied Probability <2.5']=1/data['AvgC<2.5']*100"
   ]
  },
  {
   "cell_type": "code",
   "execution_count": 16,
   "id": "f457c2d3",
   "metadata": {},
   "outputs": [],
   "source": [
    "#Implied Probability UNDER 2.5 goals for PINACLE\n",
    "data['Implied Probability <2.5 pinacle']=1/data['PC<2.5']*100"
   ]
  },
  {
   "cell_type": "code",
   "execution_count": 17,
   "id": "1b73b50f",
   "metadata": {},
   "outputs": [],
   "source": [
    "#Implied Probability OVER 2.5 goals for PINACLE\n",
    "data['Implied Probability >2.5 pinacle']=1/data['PC>2.5']*100"
   ]
  },
  {
   "cell_type": "code",
   "execution_count": 18,
   "id": "19a77677",
   "metadata": {},
   "outputs": [],
   "source": [
    "#Implied Probability UNDER 2.5 goals for 365\n",
    "data['Implied Probability <2.5 365']=1/data['B365C<2.5']*100"
   ]
  },
  {
   "cell_type": "code",
   "execution_count": 19,
   "id": "cd64eb7c",
   "metadata": {},
   "outputs": [],
   "source": [
    "#Implied Probability OVER 2.5 goals for 365\n",
    "data['Implied Probability >2.5 365']=1/data['B365C>2.5']*100"
   ]
  },
  {
   "cell_type": "code",
   "execution_count": null,
   "id": "e89d580f",
   "metadata": {},
   "outputs": [],
   "source": []
  },
  {
   "cell_type": "code",
   "execution_count": 20,
   "id": "8e1c90a8",
   "metadata": {},
   "outputs": [],
   "source": [
    "# Binning the implied probabilities with bins of 10\n",
    "bins = [0, 10, 20, 30, 40, 50, 60, 70, 80, 90, 100]\n",
    "data['binned'] = pd.cut(data['Implied Probability'], bins)"
   ]
  },
  {
   "cell_type": "code",
   "execution_count": 21,
   "id": "63972560",
   "metadata": {},
   "outputs": [],
   "source": [
    "bins = [0, 10, 20, 30, 40, 50, 60, 70, 80, 90, 100]\n",
    "data['binned <2.5'] = pd.cut(data['Implied Probability <2.5'], bins)"
   ]
  },
  {
   "cell_type": "code",
   "execution_count": 22,
   "id": "b0cde03c",
   "metadata": {},
   "outputs": [],
   "source": [
    "bins = [0, 10, 20, 30, 40, 50, 60, 70, 80, 90, 100]\n",
    "data['binned <2.5 pinacle'] = pd.cut(data['Implied Probability <2.5 pinacle'], bins)"
   ]
  },
  {
   "cell_type": "code",
   "execution_count": 23,
   "id": "fc1d8b97",
   "metadata": {},
   "outputs": [],
   "source": [
    "bins = [0, 10, 20, 30, 40, 50, 60, 70, 80, 90, 100]\n",
    "data['binned >2.5 pinacle'] = pd.cut(data['Implied Probability >2.5 pinacle'], bins)"
   ]
  },
  {
   "cell_type": "code",
   "execution_count": 24,
   "id": "5fad51a7",
   "metadata": {},
   "outputs": [],
   "source": [
    "bins = [0, 10, 20, 30, 40, 50, 60, 70, 80, 90, 100]\n",
    "data['binned <2.5 365'] = pd.cut(data['Implied Probability <2.5 365'], bins)"
   ]
  },
  {
   "cell_type": "code",
   "execution_count": 25,
   "id": "d8a211a0",
   "metadata": {},
   "outputs": [],
   "source": [
    "bins = [0, 10, 20, 30, 40, 50, 60, 70, 80, 90, 100]\n",
    "data['binned >2.5 365'] = pd.cut(data['Implied Probability >2.5 365'], bins)"
   ]
  },
  {
   "cell_type": "code",
   "execution_count": 26,
   "id": "c8c0a485",
   "metadata": {},
   "outputs": [
    {
     "data": {
      "text/html": [
       "<div>\n",
       "<style scoped>\n",
       "    .dataframe tbody tr th:only-of-type {\n",
       "        vertical-align: middle;\n",
       "    }\n",
       "\n",
       "    .dataframe tbody tr th {\n",
       "        vertical-align: top;\n",
       "    }\n",
       "\n",
       "    .dataframe thead th {\n",
       "        text-align: right;\n",
       "    }\n",
       "</style>\n",
       "<table border=\"1\" class=\"dataframe\">\n",
       "  <thead>\n",
       "    <tr style=\"text-align: right;\">\n",
       "      <th></th>\n",
       "      <th>Div</th>\n",
       "      <th>Date</th>\n",
       "      <th>Time</th>\n",
       "      <th>HomeTeam</th>\n",
       "      <th>AwayTeam</th>\n",
       "      <th>FTHG</th>\n",
       "      <th>FTAG</th>\n",
       "      <th>FTR</th>\n",
       "      <th>HTHG</th>\n",
       "      <th>HTAG</th>\n",
       "      <th>...</th>\n",
       "      <th>Implied Probability &lt;2.5 pinacle</th>\n",
       "      <th>Implied Probability &gt;2.5 pinacle</th>\n",
       "      <th>Implied Probability &lt;2.5 365</th>\n",
       "      <th>Implied Probability &gt;2.5 365</th>\n",
       "      <th>binned</th>\n",
       "      <th>binned &lt;2.5</th>\n",
       "      <th>binned &lt;2.5 pinacle</th>\n",
       "      <th>binned &gt;2.5 pinacle</th>\n",
       "      <th>binned &lt;2.5 365</th>\n",
       "      <th>binned &gt;2.5 365</th>\n",
       "    </tr>\n",
       "  </thead>\n",
       "  <tbody>\n",
       "    <tr>\n",
       "      <th>0</th>\n",
       "      <td>T1</td>\n",
       "      <td>11/09/2020</td>\n",
       "      <td>18:00</td>\n",
       "      <td>Rizespor</td>\n",
       "      <td>Fenerbahce</td>\n",
       "      <td>1</td>\n",
       "      <td>2</td>\n",
       "      <td>A</td>\n",
       "      <td>0</td>\n",
       "      <td>0</td>\n",
       "      <td>...</td>\n",
       "      <td>46.082949</td>\n",
       "      <td>57.142857</td>\n",
       "      <td>47.619048</td>\n",
       "      <td>58.823529</td>\n",
       "      <td>(50, 60]</td>\n",
       "      <td>(40, 50]</td>\n",
       "      <td>(40, 50]</td>\n",
       "      <td>(50, 60]</td>\n",
       "      <td>(40, 50]</td>\n",
       "      <td>(50, 60]</td>\n",
       "    </tr>\n",
       "    <tr>\n",
       "      <th>1</th>\n",
       "      <td>T1</td>\n",
       "      <td>12/09/2020</td>\n",
       "      <td>15:00</td>\n",
       "      <td>Karagumruk</td>\n",
       "      <td>Yeni Malatyaspor</td>\n",
       "      <td>3</td>\n",
       "      <td>0</td>\n",
       "      <td>H</td>\n",
       "      <td>1</td>\n",
       "      <td>0</td>\n",
       "      <td>...</td>\n",
       "      <td>51.020408</td>\n",
       "      <td>51.813472</td>\n",
       "      <td>51.282051</td>\n",
       "      <td>52.631579</td>\n",
       "      <td>(50, 60]</td>\n",
       "      <td>(50, 60]</td>\n",
       "      <td>(50, 60]</td>\n",
       "      <td>(50, 60]</td>\n",
       "      <td>(50, 60]</td>\n",
       "      <td>(50, 60]</td>\n",
       "    </tr>\n",
       "    <tr>\n",
       "      <th>2</th>\n",
       "      <td>T1</td>\n",
       "      <td>12/09/2020</td>\n",
       "      <td>15:00</td>\n",
       "      <td>Sivasspor</td>\n",
       "      <td>Alanyaspor</td>\n",
       "      <td>0</td>\n",
       "      <td>2</td>\n",
       "      <td>A</td>\n",
       "      <td>0</td>\n",
       "      <td>1</td>\n",
       "      <td>...</td>\n",
       "      <td>46.728972</td>\n",
       "      <td>56.818182</td>\n",
       "      <td>47.619048</td>\n",
       "      <td>58.823529</td>\n",
       "      <td>(50, 60]</td>\n",
       "      <td>(40, 50]</td>\n",
       "      <td>(40, 50]</td>\n",
       "      <td>(50, 60]</td>\n",
       "      <td>(40, 50]</td>\n",
       "      <td>(50, 60]</td>\n",
       "    </tr>\n",
       "    <tr>\n",
       "      <th>3</th>\n",
       "      <td>T1</td>\n",
       "      <td>12/09/2020</td>\n",
       "      <td>18:00</td>\n",
       "      <td>Galatasaray</td>\n",
       "      <td>Gaziantep</td>\n",
       "      <td>3</td>\n",
       "      <td>1</td>\n",
       "      <td>H</td>\n",
       "      <td>3</td>\n",
       "      <td>0</td>\n",
       "      <td>...</td>\n",
       "      <td>41.666667</td>\n",
       "      <td>61.728395</td>\n",
       "      <td>43.478261</td>\n",
       "      <td>62.500000</td>\n",
       "      <td>(60, 70]</td>\n",
       "      <td>(40, 50]</td>\n",
       "      <td>(40, 50]</td>\n",
       "      <td>(60, 70]</td>\n",
       "      <td>(40, 50]</td>\n",
       "      <td>(60, 70]</td>\n",
       "    </tr>\n",
       "    <tr>\n",
       "      <th>4</th>\n",
       "      <td>T1</td>\n",
       "      <td>12/09/2020</td>\n",
       "      <td>18:00</td>\n",
       "      <td>Goztep</td>\n",
       "      <td>Denizlispor</td>\n",
       "      <td>5</td>\n",
       "      <td>1</td>\n",
       "      <td>H</td>\n",
       "      <td>3</td>\n",
       "      <td>0</td>\n",
       "      <td>...</td>\n",
       "      <td>54.644809</td>\n",
       "      <td>48.309179</td>\n",
       "      <td>57.142857</td>\n",
       "      <td>48.780488</td>\n",
       "      <td>(40, 50]</td>\n",
       "      <td>(50, 60]</td>\n",
       "      <td>(50, 60]</td>\n",
       "      <td>(40, 50]</td>\n",
       "      <td>(50, 60]</td>\n",
       "      <td>(40, 50]</td>\n",
       "    </tr>\n",
       "    <tr>\n",
       "      <th>...</th>\n",
       "      <td>...</td>\n",
       "      <td>...</td>\n",
       "      <td>...</td>\n",
       "      <td>...</td>\n",
       "      <td>...</td>\n",
       "      <td>...</td>\n",
       "      <td>...</td>\n",
       "      <td>...</td>\n",
       "      <td>...</td>\n",
       "      <td>...</td>\n",
       "      <td>...</td>\n",
       "      <td>...</td>\n",
       "      <td>...</td>\n",
       "      <td>...</td>\n",
       "      <td>...</td>\n",
       "      <td>...</td>\n",
       "      <td>...</td>\n",
       "      <td>...</td>\n",
       "      <td>...</td>\n",
       "      <td>...</td>\n",
       "      <td>...</td>\n",
       "    </tr>\n",
       "    <tr>\n",
       "      <th>415</th>\n",
       "      <td>T1</td>\n",
       "      <td>15/05/2021</td>\n",
       "      <td>16:00</td>\n",
       "      <td>Sivasspor</td>\n",
       "      <td>Kasimpasa</td>\n",
       "      <td>2</td>\n",
       "      <td>1</td>\n",
       "      <td>H</td>\n",
       "      <td>1</td>\n",
       "      <td>0</td>\n",
       "      <td>...</td>\n",
       "      <td>46.728972</td>\n",
       "      <td>57.142857</td>\n",
       "      <td>47.619048</td>\n",
       "      <td>58.823529</td>\n",
       "      <td>(50, 60]</td>\n",
       "      <td>(40, 50]</td>\n",
       "      <td>(40, 50]</td>\n",
       "      <td>(50, 60]</td>\n",
       "      <td>(40, 50]</td>\n",
       "      <td>(50, 60]</td>\n",
       "    </tr>\n",
       "    <tr>\n",
       "      <th>416</th>\n",
       "      <td>T1</td>\n",
       "      <td>15/05/2021</td>\n",
       "      <td>18:30</td>\n",
       "      <td>Galatasaray</td>\n",
       "      <td>Yeni Malatyaspor</td>\n",
       "      <td>3</td>\n",
       "      <td>1</td>\n",
       "      <td>H</td>\n",
       "      <td>0</td>\n",
       "      <td>1</td>\n",
       "      <td>...</td>\n",
       "      <td>23.584906</td>\n",
       "      <td>81.300813</td>\n",
       "      <td>23.094688</td>\n",
       "      <td>83.333333</td>\n",
       "      <td>(80, 90]</td>\n",
       "      <td>(20, 30]</td>\n",
       "      <td>(20, 30]</td>\n",
       "      <td>(80, 90]</td>\n",
       "      <td>(20, 30]</td>\n",
       "      <td>(80, 90]</td>\n",
       "    </tr>\n",
       "    <tr>\n",
       "      <th>417</th>\n",
       "      <td>T1</td>\n",
       "      <td>15/05/2021</td>\n",
       "      <td>18:30</td>\n",
       "      <td>Goztep</td>\n",
       "      <td>Besiktas</td>\n",
       "      <td>1</td>\n",
       "      <td>2</td>\n",
       "      <td>A</td>\n",
       "      <td>1</td>\n",
       "      <td>1</td>\n",
       "      <td>...</td>\n",
       "      <td>28.328612</td>\n",
       "      <td>76.335878</td>\n",
       "      <td>27.777778</td>\n",
       "      <td>78.125000</td>\n",
       "      <td>(70, 80]</td>\n",
       "      <td>(20, 30]</td>\n",
       "      <td>(20, 30]</td>\n",
       "      <td>(70, 80]</td>\n",
       "      <td>(20, 30]</td>\n",
       "      <td>(70, 80]</td>\n",
       "    </tr>\n",
       "    <tr>\n",
       "      <th>418</th>\n",
       "      <td>T1</td>\n",
       "      <td>15/05/2021</td>\n",
       "      <td>18:30</td>\n",
       "      <td>Kayserispor</td>\n",
       "      <td>Fenerbahce</td>\n",
       "      <td>1</td>\n",
       "      <td>2</td>\n",
       "      <td>A</td>\n",
       "      <td>1</td>\n",
       "      <td>0</td>\n",
       "      <td>...</td>\n",
       "      <td>40.322581</td>\n",
       "      <td>63.694268</td>\n",
       "      <td>42.553191</td>\n",
       "      <td>63.694268</td>\n",
       "      <td>(60, 70]</td>\n",
       "      <td>(40, 50]</td>\n",
       "      <td>(40, 50]</td>\n",
       "      <td>(60, 70]</td>\n",
       "      <td>(40, 50]</td>\n",
       "      <td>(60, 70]</td>\n",
       "    </tr>\n",
       "    <tr>\n",
       "      <th>419</th>\n",
       "      <td>T1</td>\n",
       "      <td>15/05/2021</td>\n",
       "      <td>18:30</td>\n",
       "      <td>Trabzonspor</td>\n",
       "      <td>Genclerbirligi</td>\n",
       "      <td>2</td>\n",
       "      <td>1</td>\n",
       "      <td>H</td>\n",
       "      <td>1</td>\n",
       "      <td>0</td>\n",
       "      <td>...</td>\n",
       "      <td>37.593985</td>\n",
       "      <td>67.567568</td>\n",
       "      <td>38.461538</td>\n",
       "      <td>68.027211</td>\n",
       "      <td>(60, 70]</td>\n",
       "      <td>(30, 40]</td>\n",
       "      <td>(30, 40]</td>\n",
       "      <td>(60, 70]</td>\n",
       "      <td>(30, 40]</td>\n",
       "      <td>(60, 70]</td>\n",
       "    </tr>\n",
       "  </tbody>\n",
       "</table>\n",
       "<p>420 rows × 126 columns</p>\n",
       "</div>"
      ],
      "text/plain": [
       "    Div        Date   Time     HomeTeam          AwayTeam  FTHG  FTAG FTR  \\\n",
       "0    T1  11/09/2020  18:00     Rizespor        Fenerbahce     1     2   A   \n",
       "1    T1  12/09/2020  15:00   Karagumruk  Yeni Malatyaspor     3     0   H   \n",
       "2    T1  12/09/2020  15:00    Sivasspor        Alanyaspor     0     2   A   \n",
       "3    T1  12/09/2020  18:00  Galatasaray         Gaziantep     3     1   H   \n",
       "4    T1  12/09/2020  18:00       Goztep       Denizlispor     5     1   H   \n",
       "..   ..         ...    ...          ...               ...   ...   ...  ..   \n",
       "415  T1  15/05/2021  16:00    Sivasspor         Kasimpasa     2     1   H   \n",
       "416  T1  15/05/2021  18:30  Galatasaray  Yeni Malatyaspor     3     1   H   \n",
       "417  T1  15/05/2021  18:30       Goztep          Besiktas     1     2   A   \n",
       "418  T1  15/05/2021  18:30  Kayserispor        Fenerbahce     1     2   A   \n",
       "419  T1  15/05/2021  18:30  Trabzonspor    Genclerbirligi     2     1   H   \n",
       "\n",
       "     HTHG  HTAG  ... Implied Probability <2.5 pinacle  \\\n",
       "0       0     0  ...                        46.082949   \n",
       "1       1     0  ...                        51.020408   \n",
       "2       0     1  ...                        46.728972   \n",
       "3       3     0  ...                        41.666667   \n",
       "4       3     0  ...                        54.644809   \n",
       "..    ...   ...  ...                              ...   \n",
       "415     1     0  ...                        46.728972   \n",
       "416     0     1  ...                        23.584906   \n",
       "417     1     1  ...                        28.328612   \n",
       "418     1     0  ...                        40.322581   \n",
       "419     1     0  ...                        37.593985   \n",
       "\n",
       "     Implied Probability >2.5 pinacle  Implied Probability <2.5 365  \\\n",
       "0                           57.142857                     47.619048   \n",
       "1                           51.813472                     51.282051   \n",
       "2                           56.818182                     47.619048   \n",
       "3                           61.728395                     43.478261   \n",
       "4                           48.309179                     57.142857   \n",
       "..                                ...                           ...   \n",
       "415                         57.142857                     47.619048   \n",
       "416                         81.300813                     23.094688   \n",
       "417                         76.335878                     27.777778   \n",
       "418                         63.694268                     42.553191   \n",
       "419                         67.567568                     38.461538   \n",
       "\n",
       "     Implied Probability >2.5 365    binned  binned <2.5  binned <2.5 pinacle  \\\n",
       "0                       58.823529  (50, 60]     (40, 50]             (40, 50]   \n",
       "1                       52.631579  (50, 60]     (50, 60]             (50, 60]   \n",
       "2                       58.823529  (50, 60]     (40, 50]             (40, 50]   \n",
       "3                       62.500000  (60, 70]     (40, 50]             (40, 50]   \n",
       "4                       48.780488  (40, 50]     (50, 60]             (50, 60]   \n",
       "..                            ...       ...          ...                  ...   \n",
       "415                     58.823529  (50, 60]     (40, 50]             (40, 50]   \n",
       "416                     83.333333  (80, 90]     (20, 30]             (20, 30]   \n",
       "417                     78.125000  (70, 80]     (20, 30]             (20, 30]   \n",
       "418                     63.694268  (60, 70]     (40, 50]             (40, 50]   \n",
       "419                     68.027211  (60, 70]     (30, 40]             (30, 40]   \n",
       "\n",
       "     binned >2.5 pinacle  binned <2.5 365  binned >2.5 365  \n",
       "0               (50, 60]         (40, 50]         (50, 60]  \n",
       "1               (50, 60]         (50, 60]         (50, 60]  \n",
       "2               (50, 60]         (40, 50]         (50, 60]  \n",
       "3               (60, 70]         (40, 50]         (60, 70]  \n",
       "4               (40, 50]         (50, 60]         (40, 50]  \n",
       "..                   ...              ...              ...  \n",
       "415             (50, 60]         (40, 50]         (50, 60]  \n",
       "416             (80, 90]         (20, 30]         (80, 90]  \n",
       "417             (70, 80]         (20, 30]         (70, 80]  \n",
       "418             (60, 70]         (40, 50]         (60, 70]  \n",
       "419             (60, 70]         (30, 40]         (60, 70]  \n",
       "\n",
       "[420 rows x 126 columns]"
      ]
     },
     "execution_count": 26,
     "metadata": {},
     "output_type": "execute_result"
    }
   ],
   "source": [
    "data"
   ]
  },
  {
   "cell_type": "markdown",
   "id": "e45ec430",
   "metadata": {},
   "source": [
    "## Final Dataset"
   ]
  },
  {
   "cell_type": "code",
   "execution_count": 27,
   "id": "65dfe064",
   "metadata": {},
   "outputs": [],
   "source": [
    "#creating final datasets "
   ]
  },
  {
   "cell_type": "code",
   "execution_count": 28,
   "id": "48620cde",
   "metadata": {},
   "outputs": [],
   "source": [
    "fdf = data[['Implied Probability','over_2.5_goals','binned','payout']]"
   ]
  },
  {
   "cell_type": "code",
   "execution_count": 29,
   "id": "1adecd26",
   "metadata": {},
   "outputs": [],
   "source": [
    "fdf_Under = data[['Implied Probability <2.5','under_2.5_goals','binned <2.5','payout_under_2.5']]"
   ]
  },
  {
   "cell_type": "code",
   "execution_count": 30,
   "id": "d6a444fd",
   "metadata": {},
   "outputs": [],
   "source": [
    "fdf_Under_365 = data[['Implied Probability <2.5 365','under_2.5_goals','binned <2.5 365','payout_under_2.5_365']]"
   ]
  },
  {
   "cell_type": "code",
   "execution_count": 31,
   "id": "114d0e78",
   "metadata": {},
   "outputs": [],
   "source": [
    "fdf_Under_pinacle = data[['Implied Probability <2.5 pinacle','under_2.5_goals','binned <2.5 pinacle','payout_under_2.5_pinacle']]"
   ]
  },
  {
   "cell_type": "code",
   "execution_count": 32,
   "id": "662796aa",
   "metadata": {},
   "outputs": [
    {
     "ename": "KeyError",
     "evalue": "\"['Implied Probability >2.5', 'binned >2.5', 'payout_over_2.5'] not in index\"",
     "output_type": "error",
     "traceback": [
      "\u001b[0;31m---------------------------------------------------------------------------\u001b[0m",
      "\u001b[0;31mKeyError\u001b[0m                                  Traceback (most recent call last)",
      "Input \u001b[0;32mIn [32]\u001b[0m, in \u001b[0;36m<cell line: 1>\u001b[0;34m()\u001b[0m\n\u001b[0;32m----> 1\u001b[0m fdf_over \u001b[38;5;241m=\u001b[39m \u001b[43mdata\u001b[49m\u001b[43m[\u001b[49m\u001b[43m[\u001b[49m\u001b[38;5;124;43m'\u001b[39;49m\u001b[38;5;124;43mImplied Probability >2.5\u001b[39;49m\u001b[38;5;124;43m'\u001b[39;49m\u001b[43m,\u001b[49m\u001b[38;5;124;43m'\u001b[39;49m\u001b[38;5;124;43mover_2.5_goals\u001b[39;49m\u001b[38;5;124;43m'\u001b[39;49m\u001b[43m,\u001b[49m\u001b[38;5;124;43m'\u001b[39;49m\u001b[38;5;124;43mbinned >2.5\u001b[39;49m\u001b[38;5;124;43m'\u001b[39;49m\u001b[43m,\u001b[49m\u001b[38;5;124;43m'\u001b[39;49m\u001b[38;5;124;43mpayout_over_2.5\u001b[39;49m\u001b[38;5;124;43m'\u001b[39;49m\u001b[43m]\u001b[49m\u001b[43m]\u001b[49m\n",
      "File \u001b[0;32m~/.pyenv/versions/3.8.12/envs/OnThePitch/lib/python3.8/site-packages/pandas/core/frame.py:3511\u001b[0m, in \u001b[0;36mDataFrame.__getitem__\u001b[0;34m(self, key)\u001b[0m\n\u001b[1;32m   3509\u001b[0m     \u001b[38;5;28;01mif\u001b[39;00m is_iterator(key):\n\u001b[1;32m   3510\u001b[0m         key \u001b[38;5;241m=\u001b[39m \u001b[38;5;28mlist\u001b[39m(key)\n\u001b[0;32m-> 3511\u001b[0m     indexer \u001b[38;5;241m=\u001b[39m \u001b[38;5;28;43mself\u001b[39;49m\u001b[38;5;241;43m.\u001b[39;49m\u001b[43mcolumns\u001b[49m\u001b[38;5;241;43m.\u001b[39;49m\u001b[43m_get_indexer_strict\u001b[49m\u001b[43m(\u001b[49m\u001b[43mkey\u001b[49m\u001b[43m,\u001b[49m\u001b[43m \u001b[49m\u001b[38;5;124;43m\"\u001b[39;49m\u001b[38;5;124;43mcolumns\u001b[39;49m\u001b[38;5;124;43m\"\u001b[39;49m\u001b[43m)\u001b[49m[\u001b[38;5;241m1\u001b[39m]\n\u001b[1;32m   3513\u001b[0m \u001b[38;5;66;03m# take() does not accept boolean indexers\u001b[39;00m\n\u001b[1;32m   3514\u001b[0m \u001b[38;5;28;01mif\u001b[39;00m \u001b[38;5;28mgetattr\u001b[39m(indexer, \u001b[38;5;124m\"\u001b[39m\u001b[38;5;124mdtype\u001b[39m\u001b[38;5;124m\"\u001b[39m, \u001b[38;5;28;01mNone\u001b[39;00m) \u001b[38;5;241m==\u001b[39m \u001b[38;5;28mbool\u001b[39m:\n",
      "File \u001b[0;32m~/.pyenv/versions/3.8.12/envs/OnThePitch/lib/python3.8/site-packages/pandas/core/indexes/base.py:5782\u001b[0m, in \u001b[0;36mIndex._get_indexer_strict\u001b[0;34m(self, key, axis_name)\u001b[0m\n\u001b[1;32m   5779\u001b[0m \u001b[38;5;28;01melse\u001b[39;00m:\n\u001b[1;32m   5780\u001b[0m     keyarr, indexer, new_indexer \u001b[38;5;241m=\u001b[39m \u001b[38;5;28mself\u001b[39m\u001b[38;5;241m.\u001b[39m_reindex_non_unique(keyarr)\n\u001b[0;32m-> 5782\u001b[0m \u001b[38;5;28;43mself\u001b[39;49m\u001b[38;5;241;43m.\u001b[39;49m\u001b[43m_raise_if_missing\u001b[49m\u001b[43m(\u001b[49m\u001b[43mkeyarr\u001b[49m\u001b[43m,\u001b[49m\u001b[43m \u001b[49m\u001b[43mindexer\u001b[49m\u001b[43m,\u001b[49m\u001b[43m \u001b[49m\u001b[43maxis_name\u001b[49m\u001b[43m)\u001b[49m\n\u001b[1;32m   5784\u001b[0m keyarr \u001b[38;5;241m=\u001b[39m \u001b[38;5;28mself\u001b[39m\u001b[38;5;241m.\u001b[39mtake(indexer)\n\u001b[1;32m   5785\u001b[0m \u001b[38;5;28;01mif\u001b[39;00m \u001b[38;5;28misinstance\u001b[39m(key, Index):\n\u001b[1;32m   5786\u001b[0m     \u001b[38;5;66;03m# GH 42790 - Preserve name from an Index\u001b[39;00m\n",
      "File \u001b[0;32m~/.pyenv/versions/3.8.12/envs/OnThePitch/lib/python3.8/site-packages/pandas/core/indexes/base.py:5845\u001b[0m, in \u001b[0;36mIndex._raise_if_missing\u001b[0;34m(self, key, indexer, axis_name)\u001b[0m\n\u001b[1;32m   5842\u001b[0m     \u001b[38;5;28;01mraise\u001b[39;00m \u001b[38;5;167;01mKeyError\u001b[39;00m(\u001b[38;5;124mf\u001b[39m\u001b[38;5;124m\"\u001b[39m\u001b[38;5;124mNone of [\u001b[39m\u001b[38;5;132;01m{\u001b[39;00mkey\u001b[38;5;132;01m}\u001b[39;00m\u001b[38;5;124m] are in the [\u001b[39m\u001b[38;5;132;01m{\u001b[39;00maxis_name\u001b[38;5;132;01m}\u001b[39;00m\u001b[38;5;124m]\u001b[39m\u001b[38;5;124m\"\u001b[39m)\n\u001b[1;32m   5844\u001b[0m not_found \u001b[38;5;241m=\u001b[39m \u001b[38;5;28mlist\u001b[39m(ensure_index(key)[missing_mask\u001b[38;5;241m.\u001b[39mnonzero()[\u001b[38;5;241m0\u001b[39m]]\u001b[38;5;241m.\u001b[39munique())\n\u001b[0;32m-> 5845\u001b[0m \u001b[38;5;28;01mraise\u001b[39;00m \u001b[38;5;167;01mKeyError\u001b[39;00m(\u001b[38;5;124mf\u001b[39m\u001b[38;5;124m\"\u001b[39m\u001b[38;5;132;01m{\u001b[39;00mnot_found\u001b[38;5;132;01m}\u001b[39;00m\u001b[38;5;124m not in index\u001b[39m\u001b[38;5;124m\"\u001b[39m)\n",
      "\u001b[0;31mKeyError\u001b[0m: \"['Implied Probability >2.5', 'binned >2.5', 'payout_over_2.5'] not in index\""
     ]
    }
   ],
   "source": [
    "fdf_over = data[['Implied Probability >2.5','over_2.5_goals','binned >2.5','payout_over_2.5']]"
   ]
  },
  {
   "cell_type": "code",
   "execution_count": null,
   "id": "0980a885",
   "metadata": {},
   "outputs": [],
   "source": [
    "fdf_over_pinacle = data[['Implied Probability >2.5 pinacle','over_2.5_goals','binned >2.5 pinacle','payout_over_2.5_pinacle']]"
   ]
  },
  {
   "cell_type": "code",
   "execution_count": null,
   "id": "4c1817bb",
   "metadata": {},
   "outputs": [],
   "source": [
    "fdf_over_365 = data[['Implied Probability >2.5 365','over_2.5_goals','binned >2.5 365','payout_over_2.5_365']]"
   ]
  },
  {
   "cell_type": "markdown",
   "id": "f86ea04f",
   "metadata": {},
   "source": [
    "## Returns per implied prob bucket"
   ]
  },
  {
   "cell_type": "code",
   "execution_count": null,
   "id": "dd81c6f3",
   "metadata": {},
   "outputs": [],
   "source": [
    "#group by BINS of implied probability (whole market) for > 2.5 goals --> series is the number of games"
   ]
  },
  {
   "cell_type": "code",
   "execution_count": null,
   "id": "66b67728",
   "metadata": {},
   "outputs": [],
   "source": [
    "fdf.groupby('binned')['payout'].count()"
   ]
  },
  {
   "cell_type": "code",
   "execution_count": null,
   "id": "895dc57d",
   "metadata": {},
   "outputs": [],
   "source": [
    "#group by BINS of implied probability (whole market) for > 2.5 goals --> series is the average payout"
   ]
  },
  {
   "cell_type": "code",
   "execution_count": null,
   "id": "5f7b1874",
   "metadata": {},
   "outputs": [],
   "source": [
    "fdf.groupby('binned')['payout'].mean()"
   ]
  },
  {
   "cell_type": "markdown",
   "id": "18529a22",
   "metadata": {},
   "source": [
    "## Returns per implied prob bucket"
   ]
  },
  {
   "cell_type": "code",
   "execution_count": null,
   "id": "c9f73997",
   "metadata": {},
   "outputs": [],
   "source": [
    "#group by BINS of implied probability (whole market) for < 2.5 goals --> series is the number of games\n",
    "fdf_Under.groupby('binned <2.5')['payout_under_2.5'].count()"
   ]
  },
  {
   "cell_type": "code",
   "execution_count": null,
   "id": "947d9331",
   "metadata": {},
   "outputs": [],
   "source": [
    "#group by BINS of implied probability (whole market) for < 2.5 goals --> series is the average payout\n",
    "fdf_Under.groupby('binned <2.5')['payout_under_2.5'].mean()"
   ]
  },
  {
   "cell_type": "markdown",
   "id": "ff35c29c",
   "metadata": {},
   "source": [
    "## Returns per implied prob bucket 365"
   ]
  },
  {
   "cell_type": "code",
   "execution_count": null,
   "id": "d64f9d96",
   "metadata": {},
   "outputs": [],
   "source": [
    "# Same only for 365 bookie\n",
    "fdf_Under_365.groupby('binned <2.5 365')['payout_under_2.5_365'].mean() "
   ]
  },
  {
   "cell_type": "code",
   "execution_count": null,
   "id": "f5b7baa4",
   "metadata": {},
   "outputs": [],
   "source": [
    "fdf_Under_365['payout_under_2.5_365'].mean()"
   ]
  },
  {
   "cell_type": "code",
   "execution_count": null,
   "id": "6dbd84cf",
   "metadata": {},
   "outputs": [],
   "source": [
    "fdf_Under_365_above_40 = fdf_Under_365[fdf_Under_365['Implied Probability <2.5 365']>40]"
   ]
  },
  {
   "cell_type": "code",
   "execution_count": null,
   "id": "627d6994",
   "metadata": {},
   "outputs": [],
   "source": [
    "fdf_Under_365_above_40['payout_under_2.5_365'].mean()"
   ]
  },
  {
   "cell_type": "code",
   "execution_count": null,
   "id": "7dd6ab54",
   "metadata": {},
   "outputs": [],
   "source": [
    "# 365 paid on average 1.002 "
   ]
  },
  {
   "cell_type": "markdown",
   "id": "2fb2d999",
   "metadata": {},
   "source": [
    "## Returns per implied prob pinacle"
   ]
  },
  {
   "cell_type": "code",
   "execution_count": null,
   "id": "705d98d8",
   "metadata": {},
   "outputs": [],
   "source": [
    "# Same only for Pinacle bookie"
   ]
  },
  {
   "cell_type": "code",
   "execution_count": null,
   "id": "28c5917a",
   "metadata": {},
   "outputs": [],
   "source": [
    "fdf_Under_pinacle.groupby('binned <2.5 pinacle')['payout_under_2.5_pinacle'].mean()"
   ]
  },
  {
   "cell_type": "code",
   "execution_count": null,
   "id": "edd2282d",
   "metadata": {},
   "outputs": [],
   "source": [
    "fdf_Under_pinacle['payout_under_2.5_pinacle'].mean()"
   ]
  },
  {
   "cell_type": "code",
   "execution_count": null,
   "id": "9be6e0c1",
   "metadata": {},
   "outputs": [],
   "source": [
    "fdf_Under_pinacle_above_40 = fdf_Under_pinacle[fdf_Under_pinacle['Implied Probability <2.5 pinacle']>40]"
   ]
  },
  {
   "cell_type": "code",
   "execution_count": null,
   "id": "3f980c79",
   "metadata": {},
   "outputs": [],
   "source": [
    "fdf_Under_pinacle_above_40['payout_under_2.5_pinacle'].mean()"
   ]
  },
  {
   "cell_type": "code",
   "execution_count": null,
   "id": "469ded75",
   "metadata": {},
   "outputs": [],
   "source": [
    "# Pinacle paid on average 3 percent!"
   ]
  },
  {
   "cell_type": "markdown",
   "id": "d8914022",
   "metadata": {},
   "source": [
    "## Returns per implied prob pinacle OVER"
   ]
  },
  {
   "cell_type": "code",
   "execution_count": null,
   "id": "8eac2ae0",
   "metadata": {},
   "outputs": [],
   "source": [
    "# Pinacle + OVER"
   ]
  },
  {
   "cell_type": "code",
   "execution_count": null,
   "id": "82df8790",
   "metadata": {},
   "outputs": [],
   "source": [
    "fdf_over_pinacle.groupby('binned >2.5 pinacle')['payout_over_2.5_pinacle'].mean()"
   ]
  },
  {
   "cell_type": "code",
   "execution_count": null,
   "id": "bd75ca05",
   "metadata": {},
   "outputs": [],
   "source": [
    "fdf_over_pinacle['payout_over_2.5_pinacle'].mean()"
   ]
  },
  {
   "cell_type": "code",
   "execution_count": null,
   "id": "ac1f31dd",
   "metadata": {},
   "outputs": [],
   "source": [
    "## 365 how much they take OVER"
   ]
  },
  {
   "cell_type": "code",
   "execution_count": null,
   "id": "42b66601",
   "metadata": {},
   "outputs": [],
   "source": [
    "fdf_over_365['payout_over_2.5_365'].mean()"
   ]
  },
  {
   "cell_type": "code",
   "execution_count": null,
   "id": "dcfe8c84",
   "metadata": {},
   "outputs": [],
   "source": [
    "fdf_over_pinacle.groupby('binned >2.5 pinacle')['payout_over_2.5_pinacle'].count()"
   ]
  }
 ],
 "metadata": {
  "kernelspec": {
   "display_name": "Python 3 (ipykernel)",
   "language": "python",
   "name": "python3"
  },
  "language_info": {
   "codemirror_mode": {
    "name": "ipython",
    "version": 3
   },
   "file_extension": ".py",
   "mimetype": "text/x-python",
   "name": "python",
   "nbconvert_exporter": "python",
   "pygments_lexer": "ipython3",
   "version": "3.8.12"
  },
  "toc": {
   "base_numbering": 1,
   "nav_menu": {},
   "number_sections": true,
   "sideBar": true,
   "skip_h1_title": false,
   "title_cell": "Table of Contents",
   "title_sidebar": "Contents",
   "toc_cell": false,
   "toc_position": {},
   "toc_section_display": true,
   "toc_window_display": false
  }
 },
 "nbformat": 4,
 "nbformat_minor": 5
}
