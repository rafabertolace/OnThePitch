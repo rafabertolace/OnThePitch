{
 "cells": [
  {
   "cell_type": "markdown",
   "id": "d8b17609",
   "metadata": {},
   "source": [
    "# Getting the data"
   ]
  },
  {
   "cell_type": "code",
   "execution_count": null,
   "id": "8e286843",
   "metadata": {},
   "outputs": [],
   "source": []
  },
  {
   "cell_type": "markdown",
   "id": "d1816ff7",
   "metadata": {},
   "source": [
    "## Imports"
   ]
  },
  {
   "cell_type": "code",
   "execution_count": 3,
   "id": "06e1f50a",
   "metadata": {},
   "outputs": [],
   "source": [
    "import pandas as pd\n",
    "from os import listdir\n",
    "from os.path import isfile, join\n",
    "import matplotlib.pyplot as plt  \n",
    "plt.style.use('dark_background')"
   ]
  },
  {
   "cell_type": "markdown",
   "id": "b295e690",
   "metadata": {},
   "source": [
    "## Loading the Dataframe"
   ]
  },
  {
   "cell_type": "code",
   "execution_count": 8,
   "id": "b95d2a37",
   "metadata": {},
   "outputs": [
    {
     "data": {
      "text/plain": [
       "'/home/jonathan/code/rafabertolace/OnThePitch/notebooks'"
      ]
     },
     "execution_count": 8,
     "metadata": {},
     "output_type": "execute_result"
    }
   ],
   "source": [
    "pwd"
   ]
  },
  {
   "cell_type": "markdown",
   "id": "3fa4f75c",
   "metadata": {},
   "source": [
    "### Merging the Seasons csv files (2019-2020 untill 2021-2022)"
   ]
  },
  {
   "cell_type": "code",
   "execution_count": 10,
   "id": "39b6d4af",
   "metadata": {},
   "outputs": [
    {
     "ename": "FileNotFoundError",
     "evalue": "[Errno 2] No such file or directory: './../raw_data/england'",
     "output_type": "error",
     "traceback": [
      "\u001b[0;31m---------------------------------------------------------------------------\u001b[0m",
      "\u001b[0;31mFileNotFoundError\u001b[0m                         Traceback (most recent call last)",
      "Input \u001b[0;32mIn [10]\u001b[0m, in \u001b[0;36m<cell line: 1>\u001b[0;34m()\u001b[0m\n\u001b[0;32m----> 1\u001b[0m \u001b[38;5;28mprint\u001b[39m(\u001b[43mlistdir\u001b[49m\u001b[43m(\u001b[49m\u001b[38;5;124;43m'\u001b[39;49m\u001b[38;5;124;43m./../raw_data/england\u001b[39;49m\u001b[38;5;124;43m'\u001b[39;49m\u001b[43m)\u001b[49m)\n",
      "\u001b[0;31mFileNotFoundError\u001b[0m: [Errno 2] No such file or directory: './../raw_data/england'"
     ]
    }
   ],
   "source": [
    "print(listdir('./../raw_data/england'))"
   ]
  },
  {
   "cell_type": "code",
   "execution_count": 1,
   "id": "2208c966",
   "metadata": {},
   "outputs": [
    {
     "ename": "NameError",
     "evalue": "name 'listdir' is not defined",
     "output_type": "error",
     "traceback": [
      "\u001b[0;31m---------------------------------------------------------------------------\u001b[0m",
      "\u001b[0;31mNameError\u001b[0m                                 Traceback (most recent call last)",
      "Input \u001b[0;32mIn [1]\u001b[0m, in \u001b[0;36m<cell line: 1>\u001b[0;34m()\u001b[0m\n\u001b[0;32m----> 1\u001b[0m files \u001b[38;5;241m=\u001b[39m [file \u001b[38;5;28;01mfor\u001b[39;00m file \u001b[38;5;129;01min\u001b[39;00m \u001b[43mlistdir\u001b[49m(\u001b[38;5;124m'\u001b[39m\u001b[38;5;124m./../raw_data/England\u001b[39m\u001b[38;5;124m'\u001b[39m)]\n\u001b[1;32m      2\u001b[0m data \u001b[38;5;241m=\u001b[39m pd\u001b[38;5;241m.\u001b[39mDataFrame()\n\u001b[1;32m      5\u001b[0m \u001b[38;5;28;01mfor\u001b[39;00m file \u001b[38;5;129;01min\u001b[39;00m files:\n",
      "\u001b[0;31mNameError\u001b[0m: name 'listdir' is not defined"
     ]
    }
   ],
   "source": [
    "files = [file for file in listdir('./../raw_data/England')]\n",
    "data = pd.DataFrame()\n",
    "\n",
    "\n",
    "for file in files:\n",
    "    df = pd.read_csv('./../raw_data/England/'+file)\n",
    "    data = pd.concat([data, df])"
   ]
  },
  {
   "cell_type": "code",
   "execution_count": 7,
   "id": "c932f0b1",
   "metadata": {},
   "outputs": [
    {
     "data": {
      "text/html": [
       "<div>\n",
       "<style scoped>\n",
       "    .dataframe tbody tr th:only-of-type {\n",
       "        vertical-align: middle;\n",
       "    }\n",
       "\n",
       "    .dataframe tbody tr th {\n",
       "        vertical-align: top;\n",
       "    }\n",
       "\n",
       "    .dataframe thead th {\n",
       "        text-align: right;\n",
       "    }\n",
       "</style>\n",
       "<table border=\"1\" class=\"dataframe\">\n",
       "  <thead>\n",
       "    <tr style=\"text-align: right;\">\n",
       "      <th></th>\n",
       "      <th>Div</th>\n",
       "      <th>Date</th>\n",
       "      <th>Time</th>\n",
       "      <th>HomeTeam</th>\n",
       "      <th>AwayTeam</th>\n",
       "      <th>FTHG</th>\n",
       "      <th>FTAG</th>\n",
       "      <th>FTR</th>\n",
       "      <th>HTHG</th>\n",
       "      <th>HTAG</th>\n",
       "      <th>...</th>\n",
       "      <th>AvgC&lt;2.5</th>\n",
       "      <th>AHCh</th>\n",
       "      <th>B365CAHH</th>\n",
       "      <th>B365CAHA</th>\n",
       "      <th>PCAHH</th>\n",
       "      <th>PCAHA</th>\n",
       "      <th>MaxCAHH</th>\n",
       "      <th>MaxCAHA</th>\n",
       "      <th>AvgCAHH</th>\n",
       "      <th>AvgCAHA</th>\n",
       "    </tr>\n",
       "  </thead>\n",
       "  <tbody>\n",
       "    <tr>\n",
       "      <th>0</th>\n",
       "      <td>T1</td>\n",
       "      <td>13/08/2021</td>\n",
       "      <td>18:30</td>\n",
       "      <td>Besiktas</td>\n",
       "      <td>Rizespor</td>\n",
       "      <td>3</td>\n",
       "      <td>0</td>\n",
       "      <td>H</td>\n",
       "      <td>1</td>\n",
       "      <td>0</td>\n",
       "      <td>...</td>\n",
       "      <td>2.42</td>\n",
       "      <td>-1.00</td>\n",
       "      <td>1.73</td>\n",
       "      <td>2.08</td>\n",
       "      <td>1.76</td>\n",
       "      <td>2.17</td>\n",
       "      <td>1.88</td>\n",
       "      <td>2.28</td>\n",
       "      <td>1.77</td>\n",
       "      <td>2.09</td>\n",
       "    </tr>\n",
       "    <tr>\n",
       "      <th>1</th>\n",
       "      <td>T1</td>\n",
       "      <td>14/08/2021</td>\n",
       "      <td>17:15</td>\n",
       "      <td>Karagumruk</td>\n",
       "      <td>Gaziantep</td>\n",
       "      <td>3</td>\n",
       "      <td>2</td>\n",
       "      <td>H</td>\n",
       "      <td>2</td>\n",
       "      <td>1</td>\n",
       "      <td>...</td>\n",
       "      <td>1.90</td>\n",
       "      <td>-0.50</td>\n",
       "      <td>1.90</td>\n",
       "      <td>1.95</td>\n",
       "      <td>1.93</td>\n",
       "      <td>1.98</td>\n",
       "      <td>1.98</td>\n",
       "      <td>2.00</td>\n",
       "      <td>1.90</td>\n",
       "      <td>1.94</td>\n",
       "    </tr>\n",
       "    <tr>\n",
       "      <th>2</th>\n",
       "      <td>T1</td>\n",
       "      <td>14/08/2021</td>\n",
       "      <td>19:45</td>\n",
       "      <td>Altay</td>\n",
       "      <td>Kayserispor</td>\n",
       "      <td>3</td>\n",
       "      <td>0</td>\n",
       "      <td>H</td>\n",
       "      <td>2</td>\n",
       "      <td>0</td>\n",
       "      <td>...</td>\n",
       "      <td>1.84</td>\n",
       "      <td>-0.75</td>\n",
       "      <td>1.95</td>\n",
       "      <td>1.90</td>\n",
       "      <td>2.01</td>\n",
       "      <td>1.89</td>\n",
       "      <td>2.06</td>\n",
       "      <td>1.96</td>\n",
       "      <td>1.98</td>\n",
       "      <td>1.86</td>\n",
       "    </tr>\n",
       "    <tr>\n",
       "      <th>3</th>\n",
       "      <td>T1</td>\n",
       "      <td>14/08/2021</td>\n",
       "      <td>19:45</td>\n",
       "      <td>Hatayspor</td>\n",
       "      <td>Kasimpasa</td>\n",
       "      <td>1</td>\n",
       "      <td>1</td>\n",
       "      <td>D</td>\n",
       "      <td>0</td>\n",
       "      <td>1</td>\n",
       "      <td>...</td>\n",
       "      <td>2.26</td>\n",
       "      <td>0.00</td>\n",
       "      <td>1.93</td>\n",
       "      <td>1.93</td>\n",
       "      <td>1.95</td>\n",
       "      <td>1.95</td>\n",
       "      <td>2.00</td>\n",
       "      <td>2.01</td>\n",
       "      <td>1.90</td>\n",
       "      <td>1.94</td>\n",
       "    </tr>\n",
       "    <tr>\n",
       "      <th>4</th>\n",
       "      <td>T1</td>\n",
       "      <td>15/08/2021</td>\n",
       "      <td>17:15</td>\n",
       "      <td>Buyuksehyr</td>\n",
       "      <td>Alanyaspor</td>\n",
       "      <td>0</td>\n",
       "      <td>1</td>\n",
       "      <td>A</td>\n",
       "      <td>0</td>\n",
       "      <td>1</td>\n",
       "      <td>...</td>\n",
       "      <td>1.71</td>\n",
       "      <td>-0.25</td>\n",
       "      <td>1.85</td>\n",
       "      <td>2.00</td>\n",
       "      <td>1.87</td>\n",
       "      <td>2.04</td>\n",
       "      <td>1.89</td>\n",
       "      <td>2.18</td>\n",
       "      <td>1.83</td>\n",
       "      <td>2.02</td>\n",
       "    </tr>\n",
       "  </tbody>\n",
       "</table>\n",
       "<p>5 rows × 105 columns</p>\n",
       "</div>"
      ],
      "text/plain": [
       "  Div        Date   Time    HomeTeam     AwayTeam  FTHG  FTAG FTR  HTHG  HTAG  \\\n",
       "0  T1  13/08/2021  18:30    Besiktas     Rizespor     3     0   H     1     0   \n",
       "1  T1  14/08/2021  17:15  Karagumruk    Gaziantep     3     2   H     2     1   \n",
       "2  T1  14/08/2021  19:45       Altay  Kayserispor     3     0   H     2     0   \n",
       "3  T1  14/08/2021  19:45   Hatayspor    Kasimpasa     1     1   D     0     1   \n",
       "4  T1  15/08/2021  17:15  Buyuksehyr   Alanyaspor     0     1   A     0     1   \n",
       "\n",
       "   ... AvgC<2.5  AHCh  B365CAHH  B365CAHA  PCAHH  PCAHA  MaxCAHH  MaxCAHA  \\\n",
       "0  ...     2.42 -1.00      1.73      2.08   1.76   2.17     1.88     2.28   \n",
       "1  ...     1.90 -0.50      1.90      1.95   1.93   1.98     1.98     2.00   \n",
       "2  ...     1.84 -0.75      1.95      1.90   2.01   1.89     2.06     1.96   \n",
       "3  ...     2.26  0.00      1.93      1.93   1.95   1.95     2.00     2.01   \n",
       "4  ...     1.71 -0.25      1.85      2.00   1.87   2.04     1.89     2.18   \n",
       "\n",
       "   AvgCAHH  AvgCAHA  \n",
       "0     1.77     2.09  \n",
       "1     1.90     1.94  \n",
       "2     1.98     1.86  \n",
       "3     1.90     1.94  \n",
       "4     1.83     2.02  \n",
       "\n",
       "[5 rows x 105 columns]"
      ]
     },
     "execution_count": 7,
     "metadata": {},
     "output_type": "execute_result"
    }
   ],
   "source": [
    "data.head()"
   ]
  },
  {
   "cell_type": "code",
   "execution_count": 284,
   "id": "fe07720d",
   "metadata": {},
   "outputs": [
    {
     "name": "stdout",
     "output_type": "stream",
     "text": [
      "Div\n",
      "Date\n",
      "Time\n",
      "HomeTeam\n",
      "AwayTeam\n",
      "FTHG\n",
      "FTAG\n",
      "FTR\n",
      "HTHG\n",
      "HTAG\n",
      "HTR\n",
      "HS\n",
      "AS\n",
      "HST\n",
      "AST\n",
      "HF\n",
      "AF\n",
      "HC\n",
      "AC\n",
      "HY\n",
      "AY\n",
      "HR\n",
      "AR\n",
      "B365H\n",
      "B365D\n",
      "B365A\n",
      "BWH\n",
      "BWD\n",
      "BWA\n",
      "IWH\n",
      "IWD\n",
      "IWA\n",
      "PSH\n",
      "PSD\n",
      "PSA\n",
      "WHH\n",
      "WHD\n",
      "WHA\n",
      "VCH\n",
      "VCD\n",
      "VCA\n",
      "MaxH\n",
      "MaxD\n",
      "MaxA\n",
      "AvgH\n",
      "AvgD\n",
      "AvgA\n",
      "B365>2.5\n",
      "B365<2.5\n",
      "P>2.5\n",
      "P<2.5\n",
      "Max>2.5\n",
      "Max<2.5\n",
      "Avg>2.5\n",
      "Avg<2.5\n",
      "AHh\n",
      "B365AHH\n",
      "B365AHA\n",
      "PAHH\n",
      "PAHA\n",
      "MaxAHH\n",
      "MaxAHA\n",
      "AvgAHH\n",
      "AvgAHA\n",
      "B365CH\n",
      "B365CD\n",
      "B365CA\n",
      "BWCH\n",
      "BWCD\n",
      "BWCA\n",
      "IWCH\n",
      "IWCD\n",
      "IWCA\n",
      "PSCH\n",
      "PSCD\n",
      "PSCA\n",
      "WHCH\n",
      "WHCD\n",
      "WHCA\n",
      "VCCH\n",
      "VCCD\n",
      "VCCA\n",
      "MaxCH\n",
      "MaxCD\n",
      "MaxCA\n",
      "AvgCH\n",
      "AvgCD\n",
      "AvgCA\n",
      "B365C>2.5\n",
      "B365C<2.5\n",
      "PC>2.5\n",
      "PC<2.5\n",
      "MaxC>2.5\n",
      "MaxC<2.5\n",
      "AvgC>2.5\n",
      "AvgC<2.5\n",
      "AHCh\n",
      "B365CAHH\n",
      "B365CAHA\n",
      "PCAHH\n",
      "PCAHA\n",
      "MaxCAHH\n",
      "MaxCAHA\n",
      "AvgCAHH\n",
      "AvgCAHA\n",
      "nb_goals\n",
      "over_2.5_goals\n",
      "under_2.5_goals\n",
      "payout\n",
      "payout_under_2.5\n",
      "payout_under_2.5_pinacle\n",
      "payout_over_2.5_pinacle\n",
      "payout_under_2.5_365\n",
      "payout_over_2.5_365\n",
      "Implied Probability\n",
      "Implied Probability <2.5\n",
      "Implied Probability <2.5 pinacle\n",
      "Implied Probability >2.5 pinacle\n",
      "Implied Probability <2.5 365\n",
      "Implied Probability >2.5 365\n",
      "binned\n",
      "binned <2.5\n",
      "binned <2.5 pinacle\n",
      "binned >2.5 pinacle\n",
      "binned <2.5 365\n",
      "binned >2.5 365\n",
      "payout_under_2.5_pinacle_closing\n",
      "payout_over_2.5_pinacle_closing\n",
      "payout_under_2.5_365_closing\n",
      "payout_over_2.5_365_closing\n",
      "Implied Probability >2.5 pinacle closing\n",
      "Implied Probability <2.5 pinacle closing\n",
      "Implied Probability <2.5 365 closing\n",
      "Implied Probability >2.5 365 closing\n",
      "binned <2.5 pinacle closing\n",
      "binned >2.5 pinacle closing\n",
      "binned <2.5 365 closing\n",
      "binned >2.5 365 closing\n"
     ]
    }
   ],
   "source": [
    "for col_name in data.columns: \n",
    "    print(col_name)"
   ]
  },
  {
   "cell_type": "code",
   "execution_count": 6,
   "id": "8c5821c7",
   "metadata": {
    "collapsed": true
   },
   "outputs": [
    {
     "ename": "NameError",
     "evalue": "name 'data_date' is not defined",
     "output_type": "error",
     "traceback": [
      "\u001b[0;31m---------------------------------------------------------------------------\u001b[0m",
      "\u001b[0;31mNameError\u001b[0m                                 Traceback (most recent call last)",
      "Input \u001b[0;32mIn [6]\u001b[0m, in \u001b[0;36m<cell line: 1>\u001b[0;34m()\u001b[0m\n\u001b[0;32m----> 1\u001b[0m data_date_2 \u001b[38;5;241m=\u001b[39m pd\u001b[38;5;241m.\u001b[39mto_datetime(\u001b[43mdata_date\u001b[49m, dayfirst \u001b[38;5;241m=\u001b[39m \u001b[38;5;28;01mTrue\u001b[39;00m)\n",
      "\u001b[0;31mNameError\u001b[0m: name 'data_date' is not defined"
     ]
    }
   ],
   "source": [
    "# data_date_2 = pd.to_datetime(data_date, dayfirst = True)"
   ]
  },
  {
   "cell_type": "markdown",
   "id": "32c8ad8d",
   "metadata": {},
   "source": [
    "## Features Engineering"
   ]
  },
  {
   "cell_type": "markdown",
   "id": "c84939f7",
   "metadata": {},
   "source": [
    "### Number of Goals, Over and Under"
   ]
  },
  {
   "cell_type": "code",
   "execution_count": 8,
   "id": "fed74758",
   "metadata": {},
   "outputs": [],
   "source": [
    "# total number of goals = goals from the home team + goals from visiting team\n",
    "data['nb_goals']=data['FTHG']+data['FTAG']\n",
    "\n",
    "# boolean: true or false regarding whether they were more than 2.5 goals\n",
    "data['over_2.5_goals']=data['nb_goals']>2.5\n",
    "\n",
    "# boolean: true or false regarding whether they were less than 2.5 goals\n",
    "data['under_2.5_goals']=data['nb_goals']<2.5"
   ]
  },
  {
   "cell_type": "markdown",
   "id": "3ffc1554",
   "metadata": {},
   "source": [
    "### Payout Average"
   ]
  },
  {
   "cell_type": "markdown",
   "id": "466f6de3",
   "metadata": {},
   "source": [
    "  Payout of betting on over/under 2.5 goals: we get 0 if we lose the bet, we get the Avg if we win the bet (Avg = market average of the odds)\n"
   ]
  },
  {
   "cell_type": "code",
   "execution_count": 9,
   "id": "4b10653e",
   "metadata": {},
   "outputs": [],
   "source": [
    "# payout under 2.5 for Average OPENING odds\n",
    "data['payout_avg_under_2.5'] = data['under_2.5_goals']*data['Avg<2.5']\n",
    "\n",
    "# payout over 2.5 for Average OPENING odds\n",
    "data['payout_avg_over_2.5'] = data['over_2.5_goals']*data['Avg>2.5']\n",
    "\n",
    "# payout under 2.5 for Average CLOSING odds\n",
    "data['payout_avg_under_closing_2.5'] = data['under_2.5_goals']*data['AvgC<2.5']\n",
    "\n",
    "# payout over 2.5 for Average CLOSING odds\n",
    "data['payout_avg_over_closing_2.5'] = data['over_2.5_goals']*data['AvgC>2.5']"
   ]
  },
  {
   "cell_type": "markdown",
   "id": "e7499f75",
   "metadata": {},
   "source": [
    "#### Payout Pinnacle"
   ]
  },
  {
   "cell_type": "code",
   "execution_count": 10,
   "id": "7ebcc6f1",
   "metadata": {},
   "outputs": [],
   "source": [
    "#payout UNDER 2.5 for PINACLE specifically\n",
    "data['payout_under_2.5_pinacle'] = data['under_2.5_goals']*data['P<2.5']\n",
    "\n",
    "#payout UNDER 2.5 for PINACLE closing ddds specifically\n",
    "data['payout_under_2.5_pinacle_closing'] = data['under_2.5_goals']*data['PC<2.5']\n",
    "\n",
    "#payout OVER 2.5 for PINACLE specifically\n",
    "data['payout_over_2.5_pinacle'] = data['over_2.5_goals']*data['P>2.5']\n",
    "\n",
    "#payout OVER 2.5 for PINACLE closing odds specifically\n",
    "data['payout_over_2.5_pinacle_closing'] = data['over_2.5_goals']*data['PC>2.5']"
   ]
  },
  {
   "cell_type": "markdown",
   "id": "87aef2eb",
   "metadata": {},
   "source": [
    "#### Payout bet365"
   ]
  },
  {
   "cell_type": "code",
   "execution_count": 11,
   "id": "2fe3c17b",
   "metadata": {},
   "outputs": [],
   "source": [
    "#payout UNDER 2.5 for 365 specifically\n",
    "data['payout_under_2.5_365'] = data['under_2.5_goals']*data['B365<2.5']\n",
    "\n",
    "#payout UNDER 2.5 for 365 closing odds specifically\n",
    "data['payout_under_2.5_365_closing'] = data['under_2.5_goals']*data['B365C<2.5']\n",
    "\n",
    "#payout OVER 2.5 for 365 specifically\n",
    "data['payout_over_2.5_365'] = data['over_2.5_goals']*data['B365>2.5']\n",
    "\n",
    "#payout OVER 2.5 for 365 closing odds specifically\n",
    "data['payout_over_2.5_365_closing'] = data['over_2.5_goals']*data['B365C>2.5']"
   ]
  },
  {
   "cell_type": "markdown",
   "id": "9ad9c30c",
   "metadata": {},
   "source": [
    "### Implied Probability Market Average"
   ]
  },
  {
   "cell_type": "code",
   "execution_count": 12,
   "id": "4cdcecbb",
   "metadata": {},
   "outputs": [],
   "source": [
    "#Implied Probability UNDER 2.5 goals for for overall market opening odds (Avg) \n",
    "data['Implied Probability <2.5 avg']=1/data['Avg<2.5']*100\n",
    "\n",
    "#Implied Probability OVER 2.5 goals for for overall market opening odds (Avg) \n",
    "data['Implied Probability >2.5 avg']=1/data['Avg>2.5']*100\n",
    "\n",
    "#Implied Probability UNDER 2.5 goals for overall market closing odds (AvgC)\n",
    "data['Implied Probability <2.5 avg closing']=1/data['AvgC<2.5']*100\n",
    "\n",
    "#Implied Probability OVER 2.5 goals for overall market closing odds (AvgC)\n",
    "data['Implied Probability >2.5 avg closing']=1/data['AvgC>2.5']*100"
   ]
  },
  {
   "cell_type": "markdown",
   "id": "d3cd6ba0",
   "metadata": {},
   "source": [
    "### Implied Probability Pinnacle"
   ]
  },
  {
   "cell_type": "code",
   "execution_count": 13,
   "id": "ecdfbb9d",
   "metadata": {},
   "outputs": [],
   "source": [
    "#Implied Probability UNDER 2.5 goals for PINACLE\n",
    "data['Implied Probability <2.5 pinacle']=1/data['P<2.5']*100\n",
    "\n",
    "#Implied Probability OVER 2.5 goals for PINACLE\n",
    "data['Implied Probability >2.5 pinacle']=1/data['P>2.5']*100\n",
    "\n",
    "#Implied Probability UNDER 2.5 goals for PINACLE closing odds\n",
    "data['Implied Probability <2.5 pinacle closing']=1/data['PC<2.5']*100\n",
    "\n",
    "#Implied Probability OVER 2.5 goals for PINACLE closing odds\n",
    "data['Implied Probability >2.5 pinacle closing']=1/data['PC>2.5']*100"
   ]
  },
  {
   "cell_type": "markdown",
   "id": "8dc6d342",
   "metadata": {},
   "source": [
    "### Implied Probability bet365"
   ]
  },
  {
   "cell_type": "code",
   "execution_count": 14,
   "id": "eab84c20",
   "metadata": {},
   "outputs": [],
   "source": [
    "#Implied Probability UNDER 2.5 goals for 365\n",
    "data['Implied Probability <2.5 365']=1/data['B365<2.5']*100\n",
    "\n",
    "#Implied Probability UNDER 2.5 goals for 365 closing odds\n",
    "data['Implied Probability <2.5 365 closing']=1/data['B365C<2.5']*100\n",
    "\n",
    "#Implied Probability OVER 2.5 goals for 365\n",
    "data['Implied Probability >2.5 365']=1/data['B365>2.5']*100\n",
    "\n",
    "#Implied Probability OVER 2.5 goals for 365 closing odds\n",
    "data['Implied Probability >2.5 365 closing']=1/data['B365C>2.5']*100"
   ]
  },
  {
   "cell_type": "code",
   "execution_count": null,
   "id": "6e4e1e50",
   "metadata": {},
   "outputs": [],
   "source": []
  },
  {
   "cell_type": "markdown",
   "id": "56fa1da6",
   "metadata": {},
   "source": [
    "### Binning the implied probabilities"
   ]
  },
  {
   "cell_type": "code",
   "execution_count": 290,
   "id": "8e1c90a8",
   "metadata": {},
   "outputs": [],
   "source": [
    "bins = [0, 5, 10, 15, 20, 25, 30, 35, 40, 45, 50, 55, 60, 65, 70, 75, 80, 85, 90, 95, 100]\n",
    "\n",
    "#Binning UNDER 2.5 Average Market opening odds\n",
    "data['binned <2.5 avg'] = pd.cut(data['Implied Probability <2.5 avg'], bins)\n",
    "\n",
    "#Binning Over 2.5 Average Market opening odds\n",
    "data['binned >2.5 avg'] = pd.cut(data['Implied Probability >2.5 avg'], bins)\n",
    "\n",
    "#Binning UNDER 2.5 Average Market closing odds\n",
    "data['binned <2.5 avg closing'] = pd.cut(data['Implied Probability <2.5 avg closing'], bins)\n",
    "\n",
    "#Binning OVER 2.5 Average Market closing odds\n",
    "data['binned >2.5 avg closing'] = pd.cut(data['Implied Probability >2.5 avg closing'], bins)"
   ]
  },
  {
   "cell_type": "markdown",
   "id": "ec7d023e",
   "metadata": {},
   "source": [
    "# Creating (new) features for the feature analysis"
   ]
  },
  {
   "cell_type": "markdown",
   "id": "f547a0de",
   "metadata": {},
   "source": [
    "## Building new features for Pinnacle"
   ]
  },
  {
   "cell_type": "code",
   "execution_count": 271,
   "id": "726978c9",
   "metadata": {},
   "outputs": [],
   "source": [
    "bins = [0, 5, 10, 15, 20, 25, 30, 35, 40, 45, 50, 55, 60, 65, 70, 75, 80, 85, 90, 95, 100]\n",
    "\n",
    "#Binned UNDER 2.5 Pinnacle opening odds\n",
    "data['binned <2.5 pinacle'] = pd.cut(data['Implied Probability <2.5 pinacle'], bins)\n",
    "\n",
    "#Binned UNDER 2.5 Pinnacle closing odds\n",
    "data['binned <2.5 pinacle closing'] = pd.cut(data['Implied Probability <2.5 pinacle closing'], bins)\n",
    "\n",
    "#Binned OVER 2.5 Pinnacle\n",
    "data['binned >2.5 pinacle'] = pd.cut(data['Implied Probability >2.5 pinacle'], bins)\n",
    "\n",
    "#Binned OVER 2.5 Pinnacle CLOSING odds\n",
    "data['binned >2.5 pinacle closing'] = pd.cut(data['Implied Probability >2.5 pinacle closing'], bins)"
   ]
  },
  {
   "cell_type": "code",
   "execution_count": 29,
   "id": "68d0562f",
   "metadata": {},
   "outputs": [],
   "source": [
    "# I am binning the odds of Pinnacle with the bins_odds defined below for feature exploration\n",
    "\n",
    "bins_odds = [1, 1.5, 1.6, 1.7, 1.8, 1.9, 2, 2.5, 3, 999999]\n",
    "\n",
    "#Binned UNDER 2.5 Pinnacle opening odds\n",
    "data['binned PC<2.5'] = pd.cut(data['PC<2.5'], bins_odds)\n",
    "\n",
    "#Binned OVER 2.5 Pinnacle opening odds\n",
    "data['binned PC>2.5'] = pd.cut(data['PC>2.5'], bins_odds)"
   ]
  },
  {
   "cell_type": "markdown",
   "id": "fa79b2a0",
   "metadata": {},
   "source": [
    "## Does Pinnacle pays better than the market matter?"
   ]
  },
  {
   "cell_type": "markdown",
   "id": "41ca285f",
   "metadata": {},
   "source": [
    "### Feature Engineering"
   ]
  },
  {
   "cell_type": "code",
   "execution_count": 43,
   "id": "8368a0b9",
   "metadata": {},
   "outputs": [],
   "source": [
    "# Does Pinnacle pays better than the market feature\n",
    "\n",
    "data['PC<2.5_is_better_than_AvgC'] = data['PC<2.5']>data['AvgC<2.5']\n",
    "\n",
    "data['PC>2.5_is_better_than_AvgC'] = data['PC>2.5']>data['AvgC>2.5']"
   ]
  },
  {
   "cell_type": "markdown",
   "id": "1f7feb01",
   "metadata": {},
   "source": [
    "### Analysis"
   ]
  },
  {
   "cell_type": "code",
   "execution_count": 47,
   "id": "c6460e88",
   "metadata": {},
   "outputs": [
    {
     "data": {
      "text/html": [
       "<div>\n",
       "<style scoped>\n",
       "    .dataframe tbody tr th:only-of-type {\n",
       "        vertical-align: middle;\n",
       "    }\n",
       "\n",
       "    .dataframe tbody tr th {\n",
       "        vertical-align: top;\n",
       "    }\n",
       "\n",
       "    .dataframe thead th {\n",
       "        text-align: right;\n",
       "    }\n",
       "</style>\n",
       "<table border=\"1\" class=\"dataframe\">\n",
       "  <thead>\n",
       "    <tr style=\"text-align: right;\">\n",
       "      <th></th>\n",
       "      <th>mean</th>\n",
       "      <th>count</th>\n",
       "    </tr>\n",
       "    <tr>\n",
       "      <th>PC&lt;2.5_is_better_than_AvgC</th>\n",
       "      <th></th>\n",
       "      <th></th>\n",
       "    </tr>\n",
       "  </thead>\n",
       "  <tbody>\n",
       "    <tr>\n",
       "      <th>False</th>\n",
       "      <td>0.891172</td>\n",
       "      <td>128</td>\n",
       "    </tr>\n",
       "    <tr>\n",
       "      <th>True</th>\n",
       "      <td>0.974258</td>\n",
       "      <td>977</td>\n",
       "    </tr>\n",
       "  </tbody>\n",
       "</table>\n",
       "</div>"
      ],
      "text/plain": [
       "                                mean  count\n",
       "PC<2.5_is_better_than_AvgC                 \n",
       "False                       0.891172    128\n",
       "True                        0.974258    977"
      ]
     },
     "execution_count": 47,
     "metadata": {},
     "output_type": "execute_result"
    }
   ],
   "source": [
    "# binned OVER 2.5 Pinacle\n",
    "\n",
    "new_view = data.groupby('PC<2.5_is_better_than_AvgC')['payout_under_2.5_pinacle_closing'].agg(['mean','count'])\n",
    "new_view"
   ]
  },
  {
   "cell_type": "code",
   "execution_count": 48,
   "id": "ceb9496d",
   "metadata": {},
   "outputs": [
    {
     "data": {
      "text/html": [
       "<div>\n",
       "<style scoped>\n",
       "    .dataframe tbody tr th:only-of-type {\n",
       "        vertical-align: middle;\n",
       "    }\n",
       "\n",
       "    .dataframe tbody tr th {\n",
       "        vertical-align: top;\n",
       "    }\n",
       "\n",
       "    .dataframe thead th {\n",
       "        text-align: right;\n",
       "    }\n",
       "</style>\n",
       "<table border=\"1\" class=\"dataframe\">\n",
       "  <thead>\n",
       "    <tr style=\"text-align: right;\">\n",
       "      <th></th>\n",
       "      <th>mean</th>\n",
       "      <th>count</th>\n",
       "    </tr>\n",
       "    <tr>\n",
       "      <th>PC&gt;2.5_is_better_than_AvgC</th>\n",
       "      <th></th>\n",
       "      <th></th>\n",
       "    </tr>\n",
       "  </thead>\n",
       "  <tbody>\n",
       "    <tr>\n",
       "      <th>False</th>\n",
       "      <td>0.861157</td>\n",
       "      <td>121</td>\n",
       "    </tr>\n",
       "    <tr>\n",
       "      <th>True</th>\n",
       "      <td>0.977785</td>\n",
       "      <td>984</td>\n",
       "    </tr>\n",
       "  </tbody>\n",
       "</table>\n",
       "</div>"
      ],
      "text/plain": [
       "                                mean  count\n",
       "PC>2.5_is_better_than_AvgC                 \n",
       "False                       0.861157    121\n",
       "True                        0.977785    984"
      ]
     },
     "execution_count": 48,
     "metadata": {},
     "output_type": "execute_result"
    }
   ],
   "source": [
    "# binned OVER 2.5 Pinacle\n",
    "\n",
    "new_view2 = data.groupby('PC>2.5_is_better_than_AvgC')['payout_over_2.5_pinacle_closing'].agg(['mean','count'])\n",
    "new_view2"
   ]
  },
  {
   "cell_type": "markdown",
   "id": "5cfe3016",
   "metadata": {},
   "source": [
    "## Does the difference between Pinnacle and the market matters?"
   ]
  },
  {
   "cell_type": "markdown",
   "id": "42218c38",
   "metadata": {},
   "source": [
    "### Feature Engineering"
   ]
  },
  {
   "cell_type": "code",
   "execution_count": 96,
   "id": "8e41dda1",
   "metadata": {},
   "outputs": [],
   "source": [
    "# Does Pinnacle pays better than the market feature\n",
    "\n",
    "data['PC<2.5_AvgC_relative_diff'] = data['PC<2.5']/data['AvgC<2.5']\n",
    "\n",
    "data['PC>2.5_AvgC_relative_diff'] = data['PC>2.5']/data['AvgC>2.5']\n",
    "\n",
    "data['PC>2.5_AvgC_relative_diff'] = data['PC>2.5']>data['AvgC>2.5']\n",
    "\n",
    "\n",
    "buckets_diff = [0, 0.5, 0.7, 0.8, 0.9, 0.95, 1, 1.05, 1.1, 1.2, 1.3, 1.4, 1.5, 999999]\n",
    "\n",
    "#Binned UNDER 2.5 Pinnacle opening odds\n",
    "data['binned PC<2.5_AvgC_relative_diff'] = pd.cut(data['PC<2.5_AvgC_relative_diff'], buckets_diff)\n",
    "\n",
    "#Binned OVER 2.5 Pinnacle opening odds\n",
    "data['binned PC>2.5_AvgC_relative_diff'] = pd.cut(data['PC>2.5_AvgC_relative_diff'], buckets_diff)"
   ]
  },
  {
   "cell_type": "markdown",
   "id": "9e4d246a",
   "metadata": {},
   "source": [
    "### Analysis"
   ]
  },
  {
   "cell_type": "code",
   "execution_count": 100,
   "id": "8e722abf",
   "metadata": {},
   "outputs": [
    {
     "data": {
      "text/html": [
       "<div>\n",
       "<style scoped>\n",
       "    .dataframe tbody tr th:only-of-type {\n",
       "        vertical-align: middle;\n",
       "    }\n",
       "\n",
       "    .dataframe tbody tr th {\n",
       "        vertical-align: top;\n",
       "    }\n",
       "\n",
       "    .dataframe thead th {\n",
       "        text-align: right;\n",
       "    }\n",
       "</style>\n",
       "<table border=\"1\" class=\"dataframe\">\n",
       "  <thead>\n",
       "    <tr style=\"text-align: right;\">\n",
       "      <th></th>\n",
       "      <th>mean</th>\n",
       "      <th>count</th>\n",
       "    </tr>\n",
       "    <tr>\n",
       "      <th>binned PC&lt;2.5_AvgC_relative_diff</th>\n",
       "      <th></th>\n",
       "      <th></th>\n",
       "    </tr>\n",
       "  </thead>\n",
       "  <tbody>\n",
       "    <tr>\n",
       "      <th>(0.0, 0.5]</th>\n",
       "      <td>NaN</td>\n",
       "      <td>0</td>\n",
       "    </tr>\n",
       "    <tr>\n",
       "      <th>(0.5, 0.7]</th>\n",
       "      <td>NaN</td>\n",
       "      <td>0</td>\n",
       "    </tr>\n",
       "    <tr>\n",
       "      <th>(0.7, 0.8]</th>\n",
       "      <td>NaN</td>\n",
       "      <td>0</td>\n",
       "    </tr>\n",
       "    <tr>\n",
       "      <th>(0.8, 0.9]</th>\n",
       "      <td>NaN</td>\n",
       "      <td>0</td>\n",
       "    </tr>\n",
       "    <tr>\n",
       "      <th>(0.9, 0.95]</th>\n",
       "      <td>0.000000</td>\n",
       "      <td>2</td>\n",
       "    </tr>\n",
       "    <tr>\n",
       "      <th>(0.95, 1.0]</th>\n",
       "      <td>0.905317</td>\n",
       "      <td>126</td>\n",
       "    </tr>\n",
       "    <tr>\n",
       "      <th>(1.0, 1.05]</th>\n",
       "      <td>0.970526</td>\n",
       "      <td>893</td>\n",
       "    </tr>\n",
       "    <tr>\n",
       "      <th>(1.05, 1.1]</th>\n",
       "      <td>1.020741</td>\n",
       "      <td>81</td>\n",
       "    </tr>\n",
       "    <tr>\n",
       "      <th>(1.1, 1.2]</th>\n",
       "      <td>0.830000</td>\n",
       "      <td>3</td>\n",
       "    </tr>\n",
       "    <tr>\n",
       "      <th>(1.2, 1.3]</th>\n",
       "      <td>NaN</td>\n",
       "      <td>0</td>\n",
       "    </tr>\n",
       "    <tr>\n",
       "      <th>(1.3, 1.4]</th>\n",
       "      <td>NaN</td>\n",
       "      <td>0</td>\n",
       "    </tr>\n",
       "    <tr>\n",
       "      <th>(1.4, 1.5]</th>\n",
       "      <td>NaN</td>\n",
       "      <td>0</td>\n",
       "    </tr>\n",
       "    <tr>\n",
       "      <th>(1.5, 999999.0]</th>\n",
       "      <td>NaN</td>\n",
       "      <td>0</td>\n",
       "    </tr>\n",
       "  </tbody>\n",
       "</table>\n",
       "</div>"
      ],
      "text/plain": [
       "                                      mean  count\n",
       "binned PC<2.5_AvgC_relative_diff                 \n",
       "(0.0, 0.5]                             NaN      0\n",
       "(0.5, 0.7]                             NaN      0\n",
       "(0.7, 0.8]                             NaN      0\n",
       "(0.8, 0.9]                             NaN      0\n",
       "(0.9, 0.95]                       0.000000      2\n",
       "(0.95, 1.0]                       0.905317    126\n",
       "(1.0, 1.05]                       0.970526    893\n",
       "(1.05, 1.1]                       1.020741     81\n",
       "(1.1, 1.2]                        0.830000      3\n",
       "(1.2, 1.3]                             NaN      0\n",
       "(1.3, 1.4]                             NaN      0\n",
       "(1.4, 1.5]                             NaN      0\n",
       "(1.5, 999999.0]                        NaN      0"
      ]
     },
     "execution_count": 100,
     "metadata": {},
     "output_type": "execute_result"
    }
   ],
   "source": [
    "# binned OVER 2.5 Pinacle\n",
    "\n",
    "new_view = data.groupby('binned PC<2.5_AvgC_relative_diff')['payout_under_2.5_pinacle_closing'].agg(['mean','count'])\n",
    "new_view"
   ]
  },
  {
   "cell_type": "markdown",
   "id": "7ea5d75e",
   "metadata": {},
   "source": [
    "## Does the VIG matter?"
   ]
  },
  {
   "cell_type": "markdown",
   "id": "0d56292f",
   "metadata": {},
   "source": [
    "### Feature Engineering"
   ]
  },
  {
   "cell_type": "code",
   "execution_count": 295,
   "id": "c7daed91",
   "metadata": {},
   "outputs": [
    {
     "data": {
      "text/plain": [
       "3.3369648593084245"
      ]
     },
     "execution_count": 295,
     "metadata": {},
     "output_type": "execute_result"
    }
   ],
   "source": [
    "data['%vig_p'].mean()"
   ]
  },
  {
   "cell_type": "code",
   "execution_count": 284,
   "id": "d3f7597e",
   "metadata": {},
   "outputs": [],
   "source": [
    "data['%vig_365'] = (1 - (1 / (1/data['B365C>2.5'] + 1/data['B365C<2.5'])))*100\n",
    "data['%vig_p'] = (1 - (1 / (1/data['PC>2.5'] + 1/data['PC<2.5'])))*100\n",
    "\n",
    "buckets_vig = [0, 2, 3, 3.5, 4, 5, 10, 20, 50, 90, 95, 97.5, 100]\n",
    "\n",
    "#Binned UNDER 2.5 Pinnacle opening odds\n",
    "data['binned vig_p'] = pd.cut(data['%vig_p'], buckets_vig)\n",
    "\n",
    "data['vig_p is low'] = data['%vig_p']<3.3\n",
    "#fair odds, no VIG\n",
    "#data['B365IP>2.5'] = ((1/(data['B365C>2.5']))*100 / (data['%vigC_365'] + 100))\n",
    "#data['B365FOC>2.5'] = 1 / data['B365IPC>2.5']"
   ]
  },
  {
   "cell_type": "markdown",
   "id": "23f14c29",
   "metadata": {},
   "source": [
    "### Analysis"
   ]
  },
  {
   "cell_type": "code",
   "execution_count": 345,
   "id": "a69d20f7",
   "metadata": {},
   "outputs": [
    {
     "data": {
      "text/html": [
       "<div>\n",
       "<style scoped>\n",
       "    .dataframe tbody tr th:only-of-type {\n",
       "        vertical-align: middle;\n",
       "    }\n",
       "\n",
       "    .dataframe tbody tr th {\n",
       "        vertical-align: top;\n",
       "    }\n",
       "\n",
       "    .dataframe thead th {\n",
       "        text-align: right;\n",
       "    }\n",
       "</style>\n",
       "<table border=\"1\" class=\"dataframe\">\n",
       "  <thead>\n",
       "    <tr style=\"text-align: right;\">\n",
       "      <th></th>\n",
       "      <th>mean</th>\n",
       "      <th>count</th>\n",
       "    </tr>\n",
       "    <tr>\n",
       "      <th>vig_p is low</th>\n",
       "      <th></th>\n",
       "      <th></th>\n",
       "    </tr>\n",
       "  </thead>\n",
       "  <tbody>\n",
       "    <tr>\n",
       "      <th>False</th>\n",
       "      <td>0.961378</td>\n",
       "      <td>588</td>\n",
       "    </tr>\n",
       "    <tr>\n",
       "      <th>True</th>\n",
       "      <td>0.968337</td>\n",
       "      <td>517</td>\n",
       "    </tr>\n",
       "  </tbody>\n",
       "</table>\n",
       "</div>"
      ],
      "text/plain": [
       "                  mean  count\n",
       "vig_p is low                 \n",
       "False         0.961378    588\n",
       "True          0.968337    517"
      ]
     },
     "execution_count": 345,
     "metadata": {},
     "output_type": "execute_result"
    }
   ],
   "source": [
    "new_view_3 = data.groupby('vig_p is low')['payout_under_2.5_pinacle_closing'].agg(['mean','count'])\n",
    "new_view_3"
   ]
  },
  {
   "cell_type": "code",
   "execution_count": 270,
   "id": "6031ccdf",
   "metadata": {},
   "outputs": [
    {
     "data": {
      "text/html": [
       "<div>\n",
       "<style scoped>\n",
       "    .dataframe tbody tr th:only-of-type {\n",
       "        vertical-align: middle;\n",
       "    }\n",
       "\n",
       "    .dataframe tbody tr th {\n",
       "        vertical-align: top;\n",
       "    }\n",
       "\n",
       "    .dataframe thead th {\n",
       "        text-align: right;\n",
       "    }\n",
       "</style>\n",
       "<table border=\"1\" class=\"dataframe\">\n",
       "  <thead>\n",
       "    <tr style=\"text-align: right;\">\n",
       "      <th></th>\n",
       "      <th>mean</th>\n",
       "      <th>count</th>\n",
       "    </tr>\n",
       "    <tr>\n",
       "      <th>vig_p is low</th>\n",
       "      <th></th>\n",
       "      <th></th>\n",
       "    </tr>\n",
       "  </thead>\n",
       "  <tbody>\n",
       "    <tr>\n",
       "      <th>False</th>\n",
       "      <td>1.001724</td>\n",
       "      <td>29</td>\n",
       "    </tr>\n",
       "    <tr>\n",
       "      <th>True</th>\n",
       "      <td>0.964024</td>\n",
       "      <td>1076</td>\n",
       "    </tr>\n",
       "  </tbody>\n",
       "</table>\n",
       "</div>"
      ],
      "text/plain": [
       "                  mean  count\n",
       "vig_p is low                 \n",
       "False         1.001724     29\n",
       "True          0.964024   1076"
      ]
     },
     "execution_count": 270,
     "metadata": {},
     "output_type": "execute_result"
    }
   ],
   "source": [
    "new_view_3 = data.groupby('vig_p is low')['payout_over_2.5_pinacle_closing'].agg(['mean','count'])\n",
    "new_view_3"
   ]
  },
  {
   "cell_type": "code",
   "execution_count": 92,
   "id": "1bb67e61",
   "metadata": {},
   "outputs": [
    {
     "data": {
      "text/html": [
       "<div>\n",
       "<style scoped>\n",
       "    .dataframe tbody tr th:only-of-type {\n",
       "        vertical-align: middle;\n",
       "    }\n",
       "\n",
       "    .dataframe tbody tr th {\n",
       "        vertical-align: top;\n",
       "    }\n",
       "\n",
       "    .dataframe thead th {\n",
       "        text-align: right;\n",
       "    }\n",
       "</style>\n",
       "<table border=\"1\" class=\"dataframe\">\n",
       "  <thead>\n",
       "    <tr style=\"text-align: right;\">\n",
       "      <th></th>\n",
       "      <th>mean</th>\n",
       "      <th>count</th>\n",
       "    </tr>\n",
       "    <tr>\n",
       "      <th>binned PC&lt;2.5</th>\n",
       "      <th></th>\n",
       "      <th></th>\n",
       "    </tr>\n",
       "  </thead>\n",
       "  <tbody>\n",
       "    <tr>\n",
       "      <th>(1.0, 1.5]</th>\n",
       "      <td>NaN</td>\n",
       "      <td>0</td>\n",
       "    </tr>\n",
       "    <tr>\n",
       "      <th>(1.5, 1.6]</th>\n",
       "      <td>0.776000</td>\n",
       "      <td>10</td>\n",
       "    </tr>\n",
       "    <tr>\n",
       "      <th>(1.6, 1.7]</th>\n",
       "      <td>0.873279</td>\n",
       "      <td>61</td>\n",
       "    </tr>\n",
       "    <tr>\n",
       "      <th>(1.7, 1.8]</th>\n",
       "      <td>0.881548</td>\n",
       "      <td>84</td>\n",
       "    </tr>\n",
       "    <tr>\n",
       "      <th>(1.8, 1.9]</th>\n",
       "      <td>1.057500</td>\n",
       "      <td>100</td>\n",
       "    </tr>\n",
       "    <tr>\n",
       "      <th>(1.9, 2.0]</th>\n",
       "      <td>1.038734</td>\n",
       "      <td>158</td>\n",
       "    </tr>\n",
       "    <tr>\n",
       "      <th>(2.0, 2.5]</th>\n",
       "      <td>1.037927</td>\n",
       "      <td>468</td>\n",
       "    </tr>\n",
       "    <tr>\n",
       "      <th>(2.5, 3.0]</th>\n",
       "      <td>0.667561</td>\n",
       "      <td>82</td>\n",
       "    </tr>\n",
       "    <tr>\n",
       "      <th>(3.0, 999999.0]</th>\n",
       "      <td>0.457857</td>\n",
       "      <td>14</td>\n",
       "    </tr>\n",
       "  </tbody>\n",
       "</table>\n",
       "</div>"
      ],
      "text/plain": [
       "                     mean  count\n",
       "binned PC<2.5                   \n",
       "(1.0, 1.5]            NaN      0\n",
       "(1.5, 1.6]       0.776000     10\n",
       "(1.6, 1.7]       0.873279     61\n",
       "(1.7, 1.8]       0.881548     84\n",
       "(1.8, 1.9]       1.057500    100\n",
       "(1.9, 2.0]       1.038734    158\n",
       "(2.0, 2.5]       1.037927    468\n",
       "(2.5, 3.0]       0.667561     82\n",
       "(3.0, 999999.0]  0.457857     14"
      ]
     },
     "execution_count": 92,
     "metadata": {},
     "output_type": "execute_result"
    }
   ],
   "source": [
    "data2 = data[data['PC<2.5_is_better_than_AvgC']==True]\n",
    "\n",
    "new_view_3 = data2[data2['binned vig_p']==True].groupby('binned PC<2.5')['payout_under_2.5_pinacle_closing'].agg(['mean','count'])\n",
    "new_view_3"
   ]
  },
  {
   "cell_type": "markdown",
   "id": "ca122d4a",
   "metadata": {},
   "source": [
    "## Does the seasonality matter?"
   ]
  },
  {
   "cell_type": "markdown",
   "id": "d224c534",
   "metadata": {},
   "source": [
    "### Feature Engineering"
   ]
  },
  {
   "cell_type": "code",
   "execution_count": 112,
   "id": "e4c719d0",
   "metadata": {},
   "outputs": [],
   "source": [
    "## Adding the Year Feature\n",
    "data_date = data['Date']\n",
    "data_date_2 = pd.to_datetime(data_date, dayfirst = True)\n",
    "data['month'] = pd.DatetimeIndex(data_date_2).month\n",
    "data['year'] = pd.DatetimeIndex(data_date_2).year\n",
    "data['month_year']=str(data['month'])+' '+str(data['year'])"
   ]
  },
  {
   "cell_type": "code",
   "execution_count": 114,
   "id": "5fac6ac8",
   "metadata": {},
   "outputs": [
    {
     "data": {
      "text/plain": [
       "0      2021\n",
       "1      2021\n",
       "2      2021\n",
       "3      2021\n",
       "4      2021\n",
       "       ... \n",
       "415    2021\n",
       "416    2021\n",
       "417    2021\n",
       "418    2021\n",
       "419    2021\n",
       "Name: year, Length: 1106, dtype: int64"
      ]
     },
     "execution_count": 114,
     "metadata": {},
     "output_type": "execute_result"
    }
   ],
   "source": [
    "data['year']"
   ]
  },
  {
   "cell_type": "markdown",
   "id": "130154b0",
   "metadata": {},
   "source": [
    "### Analysis"
   ]
  },
  {
   "cell_type": "code",
   "execution_count": 116,
   "id": "4f45ae14",
   "metadata": {},
   "outputs": [
    {
     "data": {
      "text/html": [
       "<div>\n",
       "<style scoped>\n",
       "    .dataframe tbody tr th:only-of-type {\n",
       "        vertical-align: middle;\n",
       "    }\n",
       "\n",
       "    .dataframe tbody tr th {\n",
       "        vertical-align: top;\n",
       "    }\n",
       "\n",
       "    .dataframe thead th {\n",
       "        text-align: right;\n",
       "    }\n",
       "</style>\n",
       "<table border=\"1\" class=\"dataframe\">\n",
       "  <thead>\n",
       "    <tr style=\"text-align: right;\">\n",
       "      <th></th>\n",
       "      <th>mean</th>\n",
       "      <th>count</th>\n",
       "    </tr>\n",
       "    <tr>\n",
       "      <th>year</th>\n",
       "      <th></th>\n",
       "      <th></th>\n",
       "    </tr>\n",
       "  </thead>\n",
       "  <tbody>\n",
       "    <tr>\n",
       "      <th>2019</th>\n",
       "      <td>0.934575</td>\n",
       "      <td>153</td>\n",
       "    </tr>\n",
       "    <tr>\n",
       "      <th>2020</th>\n",
       "      <td>1.026634</td>\n",
       "      <td>303</td>\n",
       "    </tr>\n",
       "    <tr>\n",
       "      <th>2021</th>\n",
       "      <td>0.967826</td>\n",
       "      <td>460</td>\n",
       "    </tr>\n",
       "    <tr>\n",
       "      <th>2022</th>\n",
       "      <td>0.881799</td>\n",
       "      <td>189</td>\n",
       "    </tr>\n",
       "  </tbody>\n",
       "</table>\n",
       "</div>"
      ],
      "text/plain": [
       "          mean  count\n",
       "year                 \n",
       "2019  0.934575    153\n",
       "2020  1.026634    303\n",
       "2021  0.967826    460\n",
       "2022  0.881799    189"
      ]
     },
     "execution_count": 116,
     "metadata": {},
     "output_type": "execute_result"
    }
   ],
   "source": [
    "new_view_4 = data.groupby('year')['payout_under_2.5_pinacle_closing'].agg(['mean','count'])\n",
    "new_view_4"
   ]
  },
  {
   "cell_type": "markdown",
   "id": "8eb9cc42",
   "metadata": {},
   "source": [
    "## Does the spread min-max matters?"
   ]
  },
  {
   "cell_type": "code",
   "execution_count": 119,
   "id": "3e65eb57",
   "metadata": {},
   "outputs": [
    {
     "name": "stdout",
     "output_type": "stream",
     "text": [
      "Div\n",
      "Date\n",
      "Time\n",
      "HomeTeam\n",
      "AwayTeam\n",
      "FTHG\n",
      "FTAG\n",
      "FTR\n",
      "HTHG\n",
      "HTAG\n",
      "HTR\n",
      "HS\n",
      "AS\n",
      "HST\n",
      "AST\n",
      "HF\n",
      "AF\n",
      "HC\n",
      "AC\n",
      "HY\n",
      "AY\n",
      "HR\n",
      "AR\n",
      "B365H\n",
      "B365D\n",
      "B365A\n",
      "BWH\n",
      "BWD\n",
      "BWA\n",
      "IWH\n",
      "IWD\n",
      "IWA\n",
      "PSH\n",
      "PSD\n",
      "PSA\n",
      "WHH\n",
      "WHD\n",
      "WHA\n",
      "VCH\n",
      "VCD\n",
      "VCA\n",
      "MaxH\n",
      "MaxD\n",
      "MaxA\n",
      "AvgH\n",
      "AvgD\n",
      "AvgA\n",
      "B365>2.5\n",
      "B365<2.5\n",
      "P>2.5\n",
      "P<2.5\n",
      "Max>2.5\n",
      "Max<2.5\n",
      "Avg>2.5\n",
      "Avg<2.5\n",
      "AHh\n",
      "B365AHH\n",
      "B365AHA\n",
      "PAHH\n",
      "PAHA\n",
      "MaxAHH\n",
      "MaxAHA\n",
      "AvgAHH\n",
      "AvgAHA\n",
      "B365CH\n",
      "B365CD\n",
      "B365CA\n",
      "BWCH\n",
      "BWCD\n",
      "BWCA\n",
      "IWCH\n",
      "IWCD\n",
      "IWCA\n",
      "PSCH\n",
      "PSCD\n",
      "PSCA\n",
      "WHCH\n",
      "WHCD\n",
      "WHCA\n",
      "VCCH\n",
      "VCCD\n",
      "VCCA\n",
      "MaxCH\n",
      "MaxCD\n",
      "MaxCA\n",
      "AvgCH\n",
      "AvgCD\n",
      "AvgCA\n",
      "B365C>2.5\n",
      "B365C<2.5\n",
      "PC>2.5\n",
      "PC<2.5\n",
      "MaxC>2.5\n",
      "MaxC<2.5\n",
      "AvgC>2.5\n",
      "AvgC<2.5\n",
      "AHCh\n",
      "B365CAHH\n",
      "B365CAHA\n",
      "PCAHH\n",
      "PCAHA\n",
      "MaxCAHH\n",
      "MaxCAHA\n",
      "AvgCAHH\n",
      "AvgCAHA\n",
      "nb_goals\n",
      "over_2.5_goals\n",
      "under_2.5_goals\n",
      "payout_avg_under_2.5\n",
      "payout_avg_over_2.5\n",
      "payout_avg_under_closing_2.5\n",
      "payout_avg_over_closing_2.5\n",
      "payout_under_2.5_pinacle\n",
      "payout_under_2.5_pinacle_closing\n",
      "payout_over_2.5_pinacle\n",
      "payout_over_2.5_pinacle_closing\n",
      "payout_under_2.5_365\n",
      "payout_under_2.5_365_closing\n",
      "payout_over_2.5_365\n",
      "payout_over_2.5_365_closing\n",
      "Implied Probability <2.5 avg\n",
      "Implied Probability >2.5 avg\n",
      "Implied Probability <2.5 avg closing\n",
      "Implied Probability >2.5 avg closing\n",
      "Implied Probability <2.5 pinacle\n",
      "Implied Probability >2.5 pinacle\n",
      "Implied Probability <2.5 pinacle closing\n",
      "Implied Probability >2.5 pinacle closing\n",
      "Implied Probability <2.5 365\n",
      "Implied Probability <2.5 365 closing\n",
      "Implied Probability >2.5 365\n",
      "Implied Probability >2.5 365 closing\n",
      "binned PC<2.5\n",
      "binned PC>2.5\n",
      "binned AvgC<2.5\n",
      "binned AvgC>2.5\n",
      "PC<2.5_is_better_than_AvgC\n",
      "PC>2.5_is_better_than_AvgC\n",
      "PC<2.5_AvgC_relative_diff\n",
      "PC>2.5_AvgC_relative_diff\n",
      "binned PC<2.5_AvgC_relative_diff\n",
      "binned PC>2.5_AvgC_relative_diff\n",
      "%vig_365\n",
      "%vig_p\n",
      "binned vig_p\n",
      "month\n",
      "year\n",
      "month year\n",
      "month_year\n"
     ]
    }
   ],
   "source": [
    "for col_name in data.columns: \n",
    "    print(col_name)"
   ]
  },
  {
   "cell_type": "code",
   "execution_count": 340,
   "id": "6944b2b1",
   "metadata": {},
   "outputs": [],
   "source": [
    " ## Min-Max\n",
    "    \n",
    "#MaxC<2.5\n",
    "#AvgC>2.5\n",
    "#AvgC<2.5\n",
    "\n",
    "data['MaxC<2.5_AvgC_relative_diff'] = data['MaxC<2.5']/data['AvgC<2.5']\n",
    "data['MaxC>2.5_AvgC_relative_diff'] = data['MaxC>2.5']/data['AvgC>2.5']\n",
    "\n",
    "data['Market_consensus'] = data['MaxC>2.5_AvgC_relative_diff']<1.05\n",
    "\n",
    "data['MaxC>2.5_AvgC_relative_diff'] = data['MaxC<2.5']/data['AvgC>2.5']\n",
    "\n",
    "buckets_diff = [0, 0.5, 0.7, 0.8, 0.9, 0.95, 1, 1.02, 1.03, 1.04, 1.05, 1.1, 1.2, 1.3, 1.4, 1.5, 999999]\n",
    "\n",
    "#Binned UNDER 2.5 Pinnacle opening odds\n",
    "data['binned MaxC<2.5_AvgC_relative_diff'] = pd.cut(data['MaxC<2.5_AvgC_relative_diff'], buckets_diff)"
   ]
  },
  {
   "cell_type": "code",
   "execution_count": 341,
   "id": "a974ea7c",
   "metadata": {
    "scrolled": true
   },
   "outputs": [
    {
     "data": {
      "text/html": [
       "<div>\n",
       "<style scoped>\n",
       "    .dataframe tbody tr th:only-of-type {\n",
       "        vertical-align: middle;\n",
       "    }\n",
       "\n",
       "    .dataframe tbody tr th {\n",
       "        vertical-align: top;\n",
       "    }\n",
       "\n",
       "    .dataframe thead th {\n",
       "        text-align: right;\n",
       "    }\n",
       "</style>\n",
       "<table border=\"1\" class=\"dataframe\">\n",
       "  <thead>\n",
       "    <tr style=\"text-align: right;\">\n",
       "      <th></th>\n",
       "      <th>mean</th>\n",
       "      <th>count</th>\n",
       "    </tr>\n",
       "    <tr>\n",
       "      <th>Market_consensus</th>\n",
       "      <th></th>\n",
       "      <th></th>\n",
       "    </tr>\n",
       "  </thead>\n",
       "  <tbody>\n",
       "    <tr>\n",
       "      <th>False</th>\n",
       "      <td>1.005082</td>\n",
       "      <td>488</td>\n",
       "    </tr>\n",
       "    <tr>\n",
       "      <th>True</th>\n",
       "      <td>0.932642</td>\n",
       "      <td>617</td>\n",
       "    </tr>\n",
       "  </tbody>\n",
       "</table>\n",
       "</div>"
      ],
      "text/plain": [
       "                      mean  count\n",
       "Market_consensus                 \n",
       "False             1.005082    488\n",
       "True              0.932642    617"
      ]
     },
     "execution_count": 341,
     "metadata": {},
     "output_type": "execute_result"
    }
   ],
   "source": [
    "new_view_5 = data.groupby('Market_consensus')['payout_under_2.5_pinacle_closing'].agg(['mean','count'])\n",
    "new_view_5\n",
    "\n",
    "#data[data['year']==2022]"
   ]
  },
  {
   "cell_type": "code",
   "execution_count": null,
   "id": "1ce8ad95",
   "metadata": {},
   "outputs": [],
   "source": [
    "## better to bet on ODDS that are consensual (max vs avg close to 1)"
   ]
  },
  {
   "cell_type": "markdown",
   "id": "f77a33f8",
   "metadata": {},
   "source": [
    "## Does the spread P-PC matters?"
   ]
  },
  {
   "cell_type": "code",
   "execution_count": 122,
   "id": "a694532f",
   "metadata": {},
   "outputs": [
    {
     "name": "stdout",
     "output_type": "stream",
     "text": [
      "Div\n",
      "Date\n",
      "Time\n",
      "HomeTeam\n",
      "AwayTeam\n",
      "FTHG\n",
      "FTAG\n",
      "FTR\n",
      "HTHG\n",
      "HTAG\n",
      "HTR\n",
      "HS\n",
      "AS\n",
      "HST\n",
      "AST\n",
      "HF\n",
      "AF\n",
      "HC\n",
      "AC\n",
      "HY\n",
      "AY\n",
      "HR\n",
      "AR\n",
      "B365H\n",
      "B365D\n",
      "B365A\n",
      "BWH\n",
      "BWD\n",
      "BWA\n",
      "IWH\n",
      "IWD\n",
      "IWA\n",
      "PSH\n",
      "PSD\n",
      "PSA\n",
      "WHH\n",
      "WHD\n",
      "WHA\n",
      "VCH\n",
      "VCD\n",
      "VCA\n",
      "MaxH\n",
      "MaxD\n",
      "MaxA\n",
      "AvgH\n",
      "AvgD\n",
      "AvgA\n",
      "B365>2.5\n",
      "B365<2.5\n",
      "P>2.5\n",
      "P<2.5\n",
      "Max>2.5\n",
      "Max<2.5\n",
      "Avg>2.5\n",
      "Avg<2.5\n",
      "AHh\n",
      "B365AHH\n",
      "B365AHA\n",
      "PAHH\n",
      "PAHA\n",
      "MaxAHH\n",
      "MaxAHA\n",
      "AvgAHH\n",
      "AvgAHA\n",
      "B365CH\n",
      "B365CD\n",
      "B365CA\n",
      "BWCH\n",
      "BWCD\n",
      "BWCA\n",
      "IWCH\n",
      "IWCD\n",
      "IWCA\n",
      "PSCH\n",
      "PSCD\n",
      "PSCA\n",
      "WHCH\n",
      "WHCD\n",
      "WHCA\n",
      "VCCH\n",
      "VCCD\n",
      "VCCA\n",
      "MaxCH\n",
      "MaxCD\n",
      "MaxCA\n",
      "AvgCH\n",
      "AvgCD\n",
      "AvgCA\n",
      "B365C>2.5\n",
      "B365C<2.5\n",
      "PC>2.5\n",
      "PC<2.5\n",
      "MaxC>2.5\n",
      "MaxC<2.5\n",
      "AvgC>2.5\n",
      "AvgC<2.5\n",
      "AHCh\n",
      "B365CAHH\n",
      "B365CAHA\n",
      "PCAHH\n",
      "PCAHA\n",
      "MaxCAHH\n",
      "MaxCAHA\n",
      "AvgCAHH\n",
      "AvgCAHA\n",
      "nb_goals\n",
      "over_2.5_goals\n",
      "under_2.5_goals\n",
      "payout_avg_under_2.5\n",
      "payout_avg_over_2.5\n",
      "payout_avg_under_closing_2.5\n",
      "payout_avg_over_closing_2.5\n",
      "payout_under_2.5_pinacle\n",
      "payout_under_2.5_pinacle_closing\n",
      "payout_over_2.5_pinacle\n",
      "payout_over_2.5_pinacle_closing\n",
      "payout_under_2.5_365\n",
      "payout_under_2.5_365_closing\n",
      "payout_over_2.5_365\n",
      "payout_over_2.5_365_closing\n",
      "Implied Probability <2.5 avg\n",
      "Implied Probability >2.5 avg\n",
      "Implied Probability <2.5 avg closing\n",
      "Implied Probability >2.5 avg closing\n",
      "Implied Probability <2.5 pinacle\n",
      "Implied Probability >2.5 pinacle\n",
      "Implied Probability <2.5 pinacle closing\n",
      "Implied Probability >2.5 pinacle closing\n",
      "Implied Probability <2.5 365\n",
      "Implied Probability <2.5 365 closing\n",
      "Implied Probability >2.5 365\n",
      "Implied Probability >2.5 365 closing\n",
      "binned PC<2.5\n",
      "binned PC>2.5\n",
      "binned AvgC<2.5\n",
      "binned AvgC>2.5\n",
      "PC<2.5_is_better_than_AvgC\n",
      "PC>2.5_is_better_than_AvgC\n",
      "PC<2.5_AvgC_relative_diff\n",
      "PC>2.5_AvgC_relative_diff\n",
      "binned PC<2.5_AvgC_relative_diff\n",
      "binned PC>2.5_AvgC_relative_diff\n",
      "%vig_365\n",
      "%vig_p\n",
      "binned vig_p\n",
      "month\n",
      "year\n",
      "month year\n",
      "month_year\n",
      "MaxC<2.5_AvgC_relative_diff\n",
      "MaxC>2.5_AvgC_relative_diff\n",
      "binned MaxC<2.5_AvgC_relative_diff\n"
     ]
    }
   ],
   "source": [
    "for col_name in data.columns: \n",
    "    print(col_name)"
   ]
  },
  {
   "cell_type": "code",
   "execution_count": 330,
   "id": "91f9da37",
   "metadata": {},
   "outputs": [],
   "source": [
    " ## Min-Max\n",
    "    \n",
    "#MaxC<2.5\n",
    "#AvgC>2.5\n",
    "#AvgC<2.5\n",
    "\n",
    "data['PC<2.5_P_relative_diff'] = data['PC<2.5']>data['P<2.5']\n",
    "\n",
    "data['PC>2.5_P_relative_diff'] = data['PC>2.5']>data['P>2.5']\n",
    "\n",
    "buckets_diff = [0, 0.5, 0.7, 0.8, 0.9, 0.95, 1, 1.025, 1.05, 1.1, 1.2, 1.3, 1.4, 1.5, 999999]\n",
    "\n",
    "#Binned UNDER 2.5 Pinnacle opening odds\n",
    "data['binned PC<2.5_P_relative_diff'] = pd.cut(data['PC<2.5_P_relative_diff'], buckets_diff)"
   ]
  },
  {
   "cell_type": "code",
   "execution_count": 335,
   "id": "01cbf145",
   "metadata": {},
   "outputs": [
    {
     "data": {
      "text/html": [
       "<div>\n",
       "<style scoped>\n",
       "    .dataframe tbody tr th:only-of-type {\n",
       "        vertical-align: middle;\n",
       "    }\n",
       "\n",
       "    .dataframe tbody tr th {\n",
       "        vertical-align: top;\n",
       "    }\n",
       "\n",
       "    .dataframe thead th {\n",
       "        text-align: right;\n",
       "    }\n",
       "</style>\n",
       "<table border=\"1\" class=\"dataframe\">\n",
       "  <thead>\n",
       "    <tr style=\"text-align: right;\">\n",
       "      <th></th>\n",
       "      <th>mean</th>\n",
       "      <th>count</th>\n",
       "    </tr>\n",
       "    <tr>\n",
       "      <th>PC&lt;2.5_P_relative_diff</th>\n",
       "      <th></th>\n",
       "      <th></th>\n",
       "    </tr>\n",
       "  </thead>\n",
       "  <tbody>\n",
       "    <tr>\n",
       "      <th>False</th>\n",
       "      <td>1.018260</td>\n",
       "      <td>546</td>\n",
       "    </tr>\n",
       "    <tr>\n",
       "      <th>True</th>\n",
       "      <td>0.912254</td>\n",
       "      <td>559</td>\n",
       "    </tr>\n",
       "  </tbody>\n",
       "</table>\n",
       "</div>"
      ],
      "text/plain": [
       "                            mean  count\n",
       "PC<2.5_P_relative_diff                 \n",
       "False                   1.018260    546\n",
       "True                    0.912254    559"
      ]
     },
     "execution_count": 335,
     "metadata": {},
     "output_type": "execute_result"
    }
   ],
   "source": [
    "new_view_5 = data.groupby('PC<2.5_P_relative_diff')['payout_under_2.5_pinacle_closing'].agg(['mean','count'])\n",
    "new_view_5"
   ]
  },
  {
   "cell_type": "code",
   "execution_count": null,
   "id": "28ad63e4",
   "metadata": {},
   "outputs": [],
   "source": []
  },
  {
   "cell_type": "code",
   "execution_count": null,
   "id": "b57fc3d6",
   "metadata": {},
   "outputs": [],
   "source": []
  },
  {
   "cell_type": "code",
   "execution_count": null,
   "id": "84c75ee9",
   "metadata": {},
   "outputs": [],
   "source": []
  },
  {
   "cell_type": "markdown",
   "id": "611c0ff6",
   "metadata": {},
   "source": [
    "## Does the ODDS matter?"
   ]
  },
  {
   "cell_type": "code",
   "execution_count": 327,
   "id": "622d5dd1",
   "metadata": {},
   "outputs": [],
   "source": [
    "# I am binning the odds of Pinnacle with the bins_odds defined below for feature exploration\n",
    "\n",
    "bins_odds = [1, 1.5, 2, 2.5, 3, 999999]\n",
    "bins_odds_2 = [1,2,999999]\n",
    "\n",
    "\n",
    "#Binned UNDER 2.5 Pinnacle opening odds\n",
    "data['binned PC<2.5'] = pd.cut(data['PC<2.5'], bins_odds)\n",
    "data['PC<2.5 low odds'] = data['PC<2.5']<2\n",
    "\n",
    "#Binned OVER 2.5 Pinnacle opening odds\n",
    "data['binned PC>2.5'] = pd.cut(data['PC>2.5'], bins_odds)"
   ]
  },
  {
   "cell_type": "code",
   "execution_count": 329,
   "id": "053ea120",
   "metadata": {},
   "outputs": [
    {
     "data": {
      "text/html": [
       "<div>\n",
       "<style scoped>\n",
       "    .dataframe tbody tr th:only-of-type {\n",
       "        vertical-align: middle;\n",
       "    }\n",
       "\n",
       "    .dataframe tbody tr th {\n",
       "        vertical-align: top;\n",
       "    }\n",
       "\n",
       "    .dataframe thead th {\n",
       "        text-align: right;\n",
       "    }\n",
       "</style>\n",
       "<table border=\"1\" class=\"dataframe\">\n",
       "  <thead>\n",
       "    <tr style=\"text-align: right;\">\n",
       "      <th></th>\n",
       "      <th>mean</th>\n",
       "      <th>count</th>\n",
       "    </tr>\n",
       "    <tr>\n",
       "      <th>binned PC&lt;2.5</th>\n",
       "      <th></th>\n",
       "      <th></th>\n",
       "    </tr>\n",
       "  </thead>\n",
       "  <tbody>\n",
       "    <tr>\n",
       "      <th>(1.0, 1.5]</th>\n",
       "      <td>1.660000</td>\n",
       "      <td>1</td>\n",
       "    </tr>\n",
       "    <tr>\n",
       "      <th>(1.5, 2.0]</th>\n",
       "      <td>0.978403</td>\n",
       "      <td>501</td>\n",
       "    </tr>\n",
       "    <tr>\n",
       "      <th>(2.0, 2.5]</th>\n",
       "      <td>0.982116</td>\n",
       "      <td>501</td>\n",
       "    </tr>\n",
       "    <tr>\n",
       "      <th>(2.5, 3.0]</th>\n",
       "      <td>0.592442</td>\n",
       "      <td>86</td>\n",
       "    </tr>\n",
       "    <tr>\n",
       "      <th>(3.0, 999999.0]</th>\n",
       "      <td>0.349375</td>\n",
       "      <td>16</td>\n",
       "    </tr>\n",
       "  </tbody>\n",
       "</table>\n",
       "</div>"
      ],
      "text/plain": [
       "                     mean  count\n",
       "binned PC<2.5                   \n",
       "(1.0, 1.5]       1.660000      1\n",
       "(1.5, 2.0]       0.978403    501\n",
       "(2.0, 2.5]       0.982116    501\n",
       "(2.5, 3.0]       0.592442     86\n",
       "(3.0, 999999.0]  0.349375     16"
      ]
     },
     "execution_count": 329,
     "metadata": {},
     "output_type": "execute_result"
    }
   ],
   "source": [
    "# binned UNDER 2.5 MktAvg\n",
    "\n",
    "fdf_under_average_closing_gb_mean = data.groupby('binned PC<2.5')['payout_avg_under_2.5'].agg(['mean','count'])\n",
    "fdf_under_average_closing_gb_mean\n"
   ]
  },
  {
   "cell_type": "markdown",
   "id": "6e2a000b",
   "metadata": {},
   "source": [
    "## Combining everything"
   ]
  },
  {
   "cell_type": "code",
   "execution_count": 394,
   "id": "91812b43",
   "metadata": {},
   "outputs": [],
   "source": [
    "data_f = data[\n",
    "    (data['PC<2.5_is_better_than_AvgC'] == True) \n",
    "     # (data['PC<2.5 low odds'] == False)\n",
    "     & (data['vig_p is low'] == False)\n",
    "    #& (data['PC<2.5_P_relative_diff'] == False)\n",
    "    #& (data['Market_consensus'] == True)\n",
    "             ]"
   ]
  },
  {
   "cell_type": "code",
   "execution_count": 410,
   "id": "5796b20e",
   "metadata": {},
   "outputs": [
    {
     "data": {
      "text/plain": [
       "mean       0.936530\n",
       "std        1.029113\n",
       "count    513.000000\n",
       "Name: payout_avg_under_2.5, dtype: float64"
      ]
     },
     "execution_count": 410,
     "metadata": {},
     "output_type": "execute_result"
    }
   ],
   "source": [
    "data_f_2 = data_f['payout_avg_under_2.5'].agg(['mean','std','count'])\n",
    "#data_f_2.sort_values(by=['count'], inplace=True)\n",
    "data_f_2\n",
    "#,'PC<2.5_P_relative_diff','Market_consensus'"
   ]
  },
  {
   "cell_type": "code",
   "execution_count": 198,
   "id": "99c217db",
   "metadata": {},
   "outputs": [
    {
     "data": {
      "text/html": [
       "<div>\n",
       "<style scoped>\n",
       "    .dataframe tbody tr th:only-of-type {\n",
       "        vertical-align: middle;\n",
       "    }\n",
       "\n",
       "    .dataframe tbody tr th {\n",
       "        vertical-align: top;\n",
       "    }\n",
       "\n",
       "    .dataframe thead th {\n",
       "        text-align: right;\n",
       "    }\n",
       "</style>\n",
       "<table border=\"1\" class=\"dataframe\">\n",
       "  <thead>\n",
       "    <tr style=\"text-align: right;\">\n",
       "      <th></th>\n",
       "      <th>Div</th>\n",
       "      <th>Date</th>\n",
       "      <th>Time</th>\n",
       "      <th>HomeTeam</th>\n",
       "      <th>AwayTeam</th>\n",
       "      <th>FTHG</th>\n",
       "      <th>FTAG</th>\n",
       "      <th>FTR</th>\n",
       "      <th>HTHG</th>\n",
       "      <th>HTAG</th>\n",
       "      <th>...</th>\n",
       "      <th>month_year</th>\n",
       "      <th>MaxC&lt;2.5_AvgC_relative_diff</th>\n",
       "      <th>MaxC&gt;2.5_AvgC_relative_diff</th>\n",
       "      <th>binned MaxC&lt;2.5_AvgC_relative_diff</th>\n",
       "      <th>P&lt;2.5_PC_relative_diff</th>\n",
       "      <th>P&gt;2.5_PC_relative_diff</th>\n",
       "      <th>binned P&lt;2.5_PC_relative_diff</th>\n",
       "      <th>PC&lt;2.5_P_relative_diff</th>\n",
       "      <th>PC&gt;2.5_P_relative_diff</th>\n",
       "      <th>binned PC&lt;2.5_P_relative_diff</th>\n",
       "    </tr>\n",
       "  </thead>\n",
       "  <tbody>\n",
       "    <tr>\n",
       "      <th>0</th>\n",
       "      <td>T1</td>\n",
       "      <td>13/08/2021</td>\n",
       "      <td>18:30</td>\n",
       "      <td>Besiktas</td>\n",
       "      <td>Rizespor</td>\n",
       "      <td>3</td>\n",
       "      <td>0</td>\n",
       "      <td>H</td>\n",
       "      <td>1</td>\n",
       "      <td>0</td>\n",
       "      <td>...</td>\n",
       "      <td>0      8\\n1      8\\n2      8\\n3      8\\n4     ...</td>\n",
       "      <td>1.066116</td>\n",
       "      <td>1.664516</td>\n",
       "      <td>(1.05, 1.1]</td>\n",
       "      <td>1.003922</td>\n",
       "      <td>1.000000</td>\n",
       "      <td>(1.0, 1.05]</td>\n",
       "      <td>False</td>\n",
       "      <td>False</td>\n",
       "      <td>NaN</td>\n",
       "    </tr>\n",
       "    <tr>\n",
       "      <th>1</th>\n",
       "      <td>T1</td>\n",
       "      <td>14/08/2021</td>\n",
       "      <td>17:15</td>\n",
       "      <td>Karagumruk</td>\n",
       "      <td>Gaziantep</td>\n",
       "      <td>3</td>\n",
       "      <td>2</td>\n",
       "      <td>H</td>\n",
       "      <td>2</td>\n",
       "      <td>1</td>\n",
       "      <td>...</td>\n",
       "      <td>0      8\\n1      8\\n2      8\\n3      8\\n4     ...</td>\n",
       "      <td>1.042105</td>\n",
       "      <td>1.042105</td>\n",
       "      <td>(1.04, 1.05]</td>\n",
       "      <td>1.047368</td>\n",
       "      <td>0.944724</td>\n",
       "      <td>(1.0, 1.05]</td>\n",
       "      <td>False</td>\n",
       "      <td>True</td>\n",
       "      <td>NaN</td>\n",
       "    </tr>\n",
       "    <tr>\n",
       "      <th>2</th>\n",
       "      <td>T1</td>\n",
       "      <td>14/08/2021</td>\n",
       "      <td>19:45</td>\n",
       "      <td>Altay</td>\n",
       "      <td>Kayserispor</td>\n",
       "      <td>3</td>\n",
       "      <td>0</td>\n",
       "      <td>H</td>\n",
       "      <td>2</td>\n",
       "      <td>0</td>\n",
       "      <td>...</td>\n",
       "      <td>0      8\\n1      8\\n2      8\\n3      8\\n4     ...</td>\n",
       "      <td>1.043478</td>\n",
       "      <td>0.979592</td>\n",
       "      <td>(1.04, 1.05]</td>\n",
       "      <td>0.984293</td>\n",
       "      <td>1.010101</td>\n",
       "      <td>(0.95, 1.0]</td>\n",
       "      <td>True</td>\n",
       "      <td>False</td>\n",
       "      <td>(0.95, 1.0]</td>\n",
       "    </tr>\n",
       "    <tr>\n",
       "      <th>3</th>\n",
       "      <td>T1</td>\n",
       "      <td>14/08/2021</td>\n",
       "      <td>19:45</td>\n",
       "      <td>Hatayspor</td>\n",
       "      <td>Kasimpasa</td>\n",
       "      <td>1</td>\n",
       "      <td>1</td>\n",
       "      <td>D</td>\n",
       "      <td>0</td>\n",
       "      <td>1</td>\n",
       "      <td>...</td>\n",
       "      <td>0      8\\n1      8\\n2      8\\n3      8\\n4     ...</td>\n",
       "      <td>1.053097</td>\n",
       "      <td>1.460123</td>\n",
       "      <td>(1.05, 1.1]</td>\n",
       "      <td>0.873913</td>\n",
       "      <td>1.113772</td>\n",
       "      <td>(0.8, 0.9]</td>\n",
       "      <td>True</td>\n",
       "      <td>False</td>\n",
       "      <td>(0.95, 1.0]</td>\n",
       "    </tr>\n",
       "    <tr>\n",
       "      <th>4</th>\n",
       "      <td>T1</td>\n",
       "      <td>15/08/2021</td>\n",
       "      <td>17:15</td>\n",
       "      <td>Buyuksehyr</td>\n",
       "      <td>Alanyaspor</td>\n",
       "      <td>0</td>\n",
       "      <td>1</td>\n",
       "      <td>A</td>\n",
       "      <td>0</td>\n",
       "      <td>1</td>\n",
       "      <td>...</td>\n",
       "      <td>0      8\\n1      8\\n2      8\\n3      8\\n4     ...</td>\n",
       "      <td>1.035088</td>\n",
       "      <td>0.830986</td>\n",
       "      <td>(1.03, 1.04]</td>\n",
       "      <td>1.081395</td>\n",
       "      <td>0.909502</td>\n",
       "      <td>(1.05, 1.1]</td>\n",
       "      <td>False</td>\n",
       "      <td>True</td>\n",
       "      <td>NaN</td>\n",
       "    </tr>\n",
       "    <tr>\n",
       "      <th>...</th>\n",
       "      <td>...</td>\n",
       "      <td>...</td>\n",
       "      <td>...</td>\n",
       "      <td>...</td>\n",
       "      <td>...</td>\n",
       "      <td>...</td>\n",
       "      <td>...</td>\n",
       "      <td>...</td>\n",
       "      <td>...</td>\n",
       "      <td>...</td>\n",
       "      <td>...</td>\n",
       "      <td>...</td>\n",
       "      <td>...</td>\n",
       "      <td>...</td>\n",
       "      <td>...</td>\n",
       "      <td>...</td>\n",
       "      <td>...</td>\n",
       "      <td>...</td>\n",
       "      <td>...</td>\n",
       "      <td>...</td>\n",
       "      <td>...</td>\n",
       "    </tr>\n",
       "    <tr>\n",
       "      <th>415</th>\n",
       "      <td>T1</td>\n",
       "      <td>15/05/2021</td>\n",
       "      <td>16:00</td>\n",
       "      <td>Sivasspor</td>\n",
       "      <td>Kasimpasa</td>\n",
       "      <td>2</td>\n",
       "      <td>1</td>\n",
       "      <td>H</td>\n",
       "      <td>1</td>\n",
       "      <td>0</td>\n",
       "      <td>...</td>\n",
       "      <td>0      8\\n1      8\\n2      8\\n3      8\\n4     ...</td>\n",
       "      <td>1.042056</td>\n",
       "      <td>1.319527</td>\n",
       "      <td>(1.04, 1.05]</td>\n",
       "      <td>0.976636</td>\n",
       "      <td>1.011429</td>\n",
       "      <td>(0.95, 1.0]</td>\n",
       "      <td>True</td>\n",
       "      <td>False</td>\n",
       "      <td>(0.95, 1.0]</td>\n",
       "    </tr>\n",
       "    <tr>\n",
       "      <th>416</th>\n",
       "      <td>T1</td>\n",
       "      <td>15/05/2021</td>\n",
       "      <td>18:30</td>\n",
       "      <td>Galatasaray</td>\n",
       "      <td>Yeni Malatyaspor</td>\n",
       "      <td>3</td>\n",
       "      <td>1</td>\n",
       "      <td>H</td>\n",
       "      <td>0</td>\n",
       "      <td>1</td>\n",
       "      <td>...</td>\n",
       "      <td>0      8\\n1      8\\n2      8\\n3      8\\n4     ...</td>\n",
       "      <td>1.163793</td>\n",
       "      <td>4.537815</td>\n",
       "      <td>(1.1, 1.2]</td>\n",
       "      <td>1.037736</td>\n",
       "      <td>0.983740</td>\n",
       "      <td>(1.0, 1.05]</td>\n",
       "      <td>False</td>\n",
       "      <td>True</td>\n",
       "      <td>NaN</td>\n",
       "    </tr>\n",
       "    <tr>\n",
       "      <th>417</th>\n",
       "      <td>T1</td>\n",
       "      <td>15/05/2021</td>\n",
       "      <td>18:30</td>\n",
       "      <td>Goztep</td>\n",
       "      <td>Besiktas</td>\n",
       "      <td>1</td>\n",
       "      <td>2</td>\n",
       "      <td>A</td>\n",
       "      <td>1</td>\n",
       "      <td>1</td>\n",
       "      <td>...</td>\n",
       "      <td>0      8\\n1      8\\n2      8\\n3      8\\n4     ...</td>\n",
       "      <td>1.085635</td>\n",
       "      <td>3.070312</td>\n",
       "      <td>(1.05, 1.1]</td>\n",
       "      <td>0.954674</td>\n",
       "      <td>1.007634</td>\n",
       "      <td>(0.95, 1.0]</td>\n",
       "      <td>True</td>\n",
       "      <td>False</td>\n",
       "      <td>(0.95, 1.0]</td>\n",
       "    </tr>\n",
       "    <tr>\n",
       "      <th>418</th>\n",
       "      <td>T1</td>\n",
       "      <td>15/05/2021</td>\n",
       "      <td>18:30</td>\n",
       "      <td>Kayserispor</td>\n",
       "      <td>Fenerbahce</td>\n",
       "      <td>1</td>\n",
       "      <td>2</td>\n",
       "      <td>A</td>\n",
       "      <td>1</td>\n",
       "      <td>0</td>\n",
       "      <td>...</td>\n",
       "      <td>0      8\\n1      8\\n2      8\\n3      8\\n4     ...</td>\n",
       "      <td>1.046025</td>\n",
       "      <td>1.602564</td>\n",
       "      <td>(1.04, 1.05]</td>\n",
       "      <td>0.955645</td>\n",
       "      <td>1.025478</td>\n",
       "      <td>(0.95, 1.0]</td>\n",
       "      <td>True</td>\n",
       "      <td>False</td>\n",
       "      <td>(0.95, 1.0]</td>\n",
       "    </tr>\n",
       "    <tr>\n",
       "      <th>419</th>\n",
       "      <td>T1</td>\n",
       "      <td>15/05/2021</td>\n",
       "      <td>18:30</td>\n",
       "      <td>Trabzonspor</td>\n",
       "      <td>Genclerbirligi</td>\n",
       "      <td>2</td>\n",
       "      <td>1</td>\n",
       "      <td>H</td>\n",
       "      <td>1</td>\n",
       "      <td>0</td>\n",
       "      <td>...</td>\n",
       "      <td>0      8\\n1      8\\n2      8\\n3      8\\n4     ...</td>\n",
       "      <td>1.076336</td>\n",
       "      <td>1.918367</td>\n",
       "      <td>(1.05, 1.1]</td>\n",
       "      <td>0.917293</td>\n",
       "      <td>1.054054</td>\n",
       "      <td>(0.9, 0.95]</td>\n",
       "      <td>True</td>\n",
       "      <td>False</td>\n",
       "      <td>(0.95, 1.0]</td>\n",
       "    </tr>\n",
       "  </tbody>\n",
       "</table>\n",
       "<p>1106 rows × 158 columns</p>\n",
       "</div>"
      ],
      "text/plain": [
       "    Div        Date   Time     HomeTeam          AwayTeam  FTHG  FTAG FTR  \\\n",
       "0    T1  13/08/2021  18:30     Besiktas          Rizespor     3     0   H   \n",
       "1    T1  14/08/2021  17:15   Karagumruk         Gaziantep     3     2   H   \n",
       "2    T1  14/08/2021  19:45        Altay       Kayserispor     3     0   H   \n",
       "3    T1  14/08/2021  19:45    Hatayspor         Kasimpasa     1     1   D   \n",
       "4    T1  15/08/2021  17:15   Buyuksehyr        Alanyaspor     0     1   A   \n",
       "..   ..         ...    ...          ...               ...   ...   ...  ..   \n",
       "415  T1  15/05/2021  16:00    Sivasspor         Kasimpasa     2     1   H   \n",
       "416  T1  15/05/2021  18:30  Galatasaray  Yeni Malatyaspor     3     1   H   \n",
       "417  T1  15/05/2021  18:30       Goztep          Besiktas     1     2   A   \n",
       "418  T1  15/05/2021  18:30  Kayserispor        Fenerbahce     1     2   A   \n",
       "419  T1  15/05/2021  18:30  Trabzonspor    Genclerbirligi     2     1   H   \n",
       "\n",
       "     HTHG  HTAG  ...                                         month_year  \\\n",
       "0       1     0  ...  0      8\\n1      8\\n2      8\\n3      8\\n4     ...   \n",
       "1       2     1  ...  0      8\\n1      8\\n2      8\\n3      8\\n4     ...   \n",
       "2       2     0  ...  0      8\\n1      8\\n2      8\\n3      8\\n4     ...   \n",
       "3       0     1  ...  0      8\\n1      8\\n2      8\\n3      8\\n4     ...   \n",
       "4       0     1  ...  0      8\\n1      8\\n2      8\\n3      8\\n4     ...   \n",
       "..    ...   ...  ...                                                ...   \n",
       "415     1     0  ...  0      8\\n1      8\\n2      8\\n3      8\\n4     ...   \n",
       "416     0     1  ...  0      8\\n1      8\\n2      8\\n3      8\\n4     ...   \n",
       "417     1     1  ...  0      8\\n1      8\\n2      8\\n3      8\\n4     ...   \n",
       "418     1     0  ...  0      8\\n1      8\\n2      8\\n3      8\\n4     ...   \n",
       "419     1     0  ...  0      8\\n1      8\\n2      8\\n3      8\\n4     ...   \n",
       "\n",
       "     MaxC<2.5_AvgC_relative_diff  MaxC>2.5_AvgC_relative_diff  \\\n",
       "0                       1.066116                     1.664516   \n",
       "1                       1.042105                     1.042105   \n",
       "2                       1.043478                     0.979592   \n",
       "3                       1.053097                     1.460123   \n",
       "4                       1.035088                     0.830986   \n",
       "..                           ...                          ...   \n",
       "415                     1.042056                     1.319527   \n",
       "416                     1.163793                     4.537815   \n",
       "417                     1.085635                     3.070312   \n",
       "418                     1.046025                     1.602564   \n",
       "419                     1.076336                     1.918367   \n",
       "\n",
       "     binned MaxC<2.5_AvgC_relative_diff  P<2.5_PC_relative_diff  \\\n",
       "0                           (1.05, 1.1]                1.003922   \n",
       "1                          (1.04, 1.05]                1.047368   \n",
       "2                          (1.04, 1.05]                0.984293   \n",
       "3                           (1.05, 1.1]                0.873913   \n",
       "4                          (1.03, 1.04]                1.081395   \n",
       "..                                  ...                     ...   \n",
       "415                        (1.04, 1.05]                0.976636   \n",
       "416                          (1.1, 1.2]                1.037736   \n",
       "417                         (1.05, 1.1]                0.954674   \n",
       "418                        (1.04, 1.05]                0.955645   \n",
       "419                         (1.05, 1.1]                0.917293   \n",
       "\n",
       "     P>2.5_PC_relative_diff  binned P<2.5_PC_relative_diff  \\\n",
       "0                  1.000000                    (1.0, 1.05]   \n",
       "1                  0.944724                    (1.0, 1.05]   \n",
       "2                  1.010101                    (0.95, 1.0]   \n",
       "3                  1.113772                     (0.8, 0.9]   \n",
       "4                  0.909502                    (1.05, 1.1]   \n",
       "..                      ...                            ...   \n",
       "415                1.011429                    (0.95, 1.0]   \n",
       "416                0.983740                    (1.0, 1.05]   \n",
       "417                1.007634                    (0.95, 1.0]   \n",
       "418                1.025478                    (0.95, 1.0]   \n",
       "419                1.054054                    (0.9, 0.95]   \n",
       "\n",
       "     PC<2.5_P_relative_diff  PC>2.5_P_relative_diff  \\\n",
       "0                     False                   False   \n",
       "1                     False                    True   \n",
       "2                      True                   False   \n",
       "3                      True                   False   \n",
       "4                     False                    True   \n",
       "..                      ...                     ...   \n",
       "415                    True                   False   \n",
       "416                   False                    True   \n",
       "417                    True                   False   \n",
       "418                    True                   False   \n",
       "419                    True                   False   \n",
       "\n",
       "     binned PC<2.5_P_relative_diff  \n",
       "0                              NaN  \n",
       "1                              NaN  \n",
       "2                      (0.95, 1.0]  \n",
       "3                      (0.95, 1.0]  \n",
       "4                              NaN  \n",
       "..                             ...  \n",
       "415                    (0.95, 1.0]  \n",
       "416                            NaN  \n",
       "417                    (0.95, 1.0]  \n",
       "418                    (0.95, 1.0]  \n",
       "419                    (0.95, 1.0]  \n",
       "\n",
       "[1106 rows x 158 columns]"
      ]
     },
     "execution_count": 198,
     "metadata": {},
     "output_type": "execute_result"
    }
   ],
   "source": [
    "# P pays better than Avg\n",
    "'PC<2.5_is_better_than_AvgC' == True\n",
    "\n",
    "# Odds are <2 (low)\n",
    "'PC<2.5 low odds' == True\n",
    "\n",
    "# P VIG is <4 (low)\n",
    "'vig_p is low' == True\n",
    "\n",
    "# PC is NOT greater than P (odds did not increase)\n",
    "'PC<2.5_P_relative_diff' == False\n",
    "\n",
    "# Diff between max and avg is < 1.05\n",
    "'Market_consensus'== True"
   ]
  },
  {
   "cell_type": "markdown",
   "id": "b3efe173",
   "metadata": {},
   "source": [
    "# Analysing the payouts per feature"
   ]
  },
  {
   "cell_type": "markdown",
   "id": "ec526645",
   "metadata": {},
   "source": [
    "### Market Average"
   ]
  },
  {
   "cell_type": "code",
   "execution_count": 33,
   "id": "d03bb9f5",
   "metadata": {},
   "outputs": [
    {
     "data": {
      "text/html": [
       "<div>\n",
       "<style scoped>\n",
       "    .dataframe tbody tr th:only-of-type {\n",
       "        vertical-align: middle;\n",
       "    }\n",
       "\n",
       "    .dataframe tbody tr th {\n",
       "        vertical-align: top;\n",
       "    }\n",
       "\n",
       "    .dataframe thead th {\n",
       "        text-align: right;\n",
       "    }\n",
       "</style>\n",
       "<table border=\"1\" class=\"dataframe\">\n",
       "  <thead>\n",
       "    <tr style=\"text-align: right;\">\n",
       "      <th></th>\n",
       "      <th>mean</th>\n",
       "      <th>count</th>\n",
       "    </tr>\n",
       "    <tr>\n",
       "      <th>binned AvgC&lt;2.5</th>\n",
       "      <th></th>\n",
       "      <th></th>\n",
       "    </tr>\n",
       "  </thead>\n",
       "  <tbody>\n",
       "    <tr>\n",
       "      <th>(1.0, 1.5]</th>\n",
       "      <td>1.660000</td>\n",
       "      <td>3</td>\n",
       "    </tr>\n",
       "    <tr>\n",
       "      <th>(1.5, 1.6]</th>\n",
       "      <td>0.886087</td>\n",
       "      <td>23</td>\n",
       "    </tr>\n",
       "    <tr>\n",
       "      <th>(1.6, 1.7]</th>\n",
       "      <td>0.856818</td>\n",
       "      <td>88</td>\n",
       "    </tr>\n",
       "    <tr>\n",
       "      <th>(1.7, 1.8]</th>\n",
       "      <td>0.962385</td>\n",
       "      <td>130</td>\n",
       "    </tr>\n",
       "    <tr>\n",
       "      <th>(1.8, 1.9]</th>\n",
       "      <td>1.026149</td>\n",
       "      <td>161</td>\n",
       "    </tr>\n",
       "    <tr>\n",
       "      <th>(1.9, 2.0]</th>\n",
       "      <td>0.997208</td>\n",
       "      <td>154</td>\n",
       "    </tr>\n",
       "    <tr>\n",
       "      <th>(2.0, 2.5]</th>\n",
       "      <td>0.936392</td>\n",
       "      <td>474</td>\n",
       "    </tr>\n",
       "    <tr>\n",
       "      <th>(2.5, 3.0]</th>\n",
       "      <td>0.830000</td>\n",
       "      <td>59</td>\n",
       "    </tr>\n",
       "    <tr>\n",
       "      <th>(3.0, 999999.0]</th>\n",
       "      <td>0.210714</td>\n",
       "      <td>14</td>\n",
       "    </tr>\n",
       "  </tbody>\n",
       "</table>\n",
       "</div>"
      ],
      "text/plain": [
       "                     mean  count\n",
       "binned AvgC<2.5                 \n",
       "(1.0, 1.5]       1.660000      3\n",
       "(1.5, 1.6]       0.886087     23\n",
       "(1.6, 1.7]       0.856818     88\n",
       "(1.7, 1.8]       0.962385    130\n",
       "(1.8, 1.9]       1.026149    161\n",
       "(1.9, 2.0]       0.997208    154\n",
       "(2.0, 2.5]       0.936392    474\n",
       "(2.5, 3.0]       0.830000     59\n",
       "(3.0, 999999.0]  0.210714     14"
      ]
     },
     "execution_count": 33,
     "metadata": {},
     "output_type": "execute_result"
    }
   ],
   "source": [
    "# binned UNDER 2.5 MktAvg\n",
    "\n",
    "fdf_under_average_closing_gb_mean = data.groupby('binned AvgC<2.5')['payout_avg_under_2.5'].agg(['mean','count'])\n",
    "fdf_under_average_closing_gb_mean\n",
    "\n"
   ]
  },
  {
   "cell_type": "code",
   "execution_count": 34,
   "id": "6299bb76",
   "metadata": {},
   "outputs": [
    {
     "data": {
      "text/html": [
       "<div>\n",
       "<style scoped>\n",
       "    .dataframe tbody tr th:only-of-type {\n",
       "        vertical-align: middle;\n",
       "    }\n",
       "\n",
       "    .dataframe tbody tr th {\n",
       "        vertical-align: top;\n",
       "    }\n",
       "\n",
       "    .dataframe thead th {\n",
       "        text-align: right;\n",
       "    }\n",
       "</style>\n",
       "<table border=\"1\" class=\"dataframe\">\n",
       "  <thead>\n",
       "    <tr style=\"text-align: right;\">\n",
       "      <th></th>\n",
       "      <th>mean</th>\n",
       "      <th>count</th>\n",
       "    </tr>\n",
       "    <tr>\n",
       "      <th>binned AvgC&gt;2.5</th>\n",
       "      <th></th>\n",
       "      <th></th>\n",
       "    </tr>\n",
       "  </thead>\n",
       "  <tbody>\n",
       "    <tr>\n",
       "      <th>(1.0, 1.5]</th>\n",
       "      <td>1.059545</td>\n",
       "      <td>66</td>\n",
       "    </tr>\n",
       "    <tr>\n",
       "      <th>(1.5, 1.6]</th>\n",
       "      <td>1.178727</td>\n",
       "      <td>110</td>\n",
       "    </tr>\n",
       "    <tr>\n",
       "      <th>(1.6, 1.7]</th>\n",
       "      <td>0.868129</td>\n",
       "      <td>171</td>\n",
       "    </tr>\n",
       "    <tr>\n",
       "      <th>(1.7, 1.8]</th>\n",
       "      <td>0.882222</td>\n",
       "      <td>207</td>\n",
       "    </tr>\n",
       "    <tr>\n",
       "      <th>(1.8, 1.9]</th>\n",
       "      <td>0.945355</td>\n",
       "      <td>183</td>\n",
       "    </tr>\n",
       "    <tr>\n",
       "      <th>(1.9, 2.0]</th>\n",
       "      <td>0.821504</td>\n",
       "      <td>133</td>\n",
       "    </tr>\n",
       "    <tr>\n",
       "      <th>(2.0, 2.5]</th>\n",
       "      <td>0.995517</td>\n",
       "      <td>232</td>\n",
       "    </tr>\n",
       "    <tr>\n",
       "      <th>(2.5, 3.0]</th>\n",
       "      <td>0.525000</td>\n",
       "      <td>4</td>\n",
       "    </tr>\n",
       "    <tr>\n",
       "      <th>(3.0, 999999.0]</th>\n",
       "      <td>NaN</td>\n",
       "      <td>0</td>\n",
       "    </tr>\n",
       "  </tbody>\n",
       "</table>\n",
       "</div>"
      ],
      "text/plain": [
       "                     mean  count\n",
       "binned AvgC>2.5                 \n",
       "(1.0, 1.5]       1.059545     66\n",
       "(1.5, 1.6]       1.178727    110\n",
       "(1.6, 1.7]       0.868129    171\n",
       "(1.7, 1.8]       0.882222    207\n",
       "(1.8, 1.9]       0.945355    183\n",
       "(1.9, 2.0]       0.821504    133\n",
       "(2.0, 2.5]       0.995517    232\n",
       "(2.5, 3.0]       0.525000      4\n",
       "(3.0, 999999.0]       NaN      0"
      ]
     },
     "execution_count": 34,
     "metadata": {},
     "output_type": "execute_result"
    }
   ],
   "source": [
    "# binned OVER 2.5 MktAvg\n",
    "\n",
    "fdf_over_average_closing_gb_mean = data.groupby('binned AvgC>2.5')['payout_avg_over_2.5'].agg(['mean','count'])\n",
    "fdf_over_average_closing_gb_mean"
   ]
  },
  {
   "cell_type": "markdown",
   "id": "aa92c8a6",
   "metadata": {},
   "source": [
    "### Pinnacle"
   ]
  },
  {
   "cell_type": "code",
   "execution_count": 30,
   "id": "cf8c8f9f",
   "metadata": {},
   "outputs": [
    {
     "data": {
      "text/html": [
       "<div>\n",
       "<style scoped>\n",
       "    .dataframe tbody tr th:only-of-type {\n",
       "        vertical-align: middle;\n",
       "    }\n",
       "\n",
       "    .dataframe tbody tr th {\n",
       "        vertical-align: top;\n",
       "    }\n",
       "\n",
       "    .dataframe thead th {\n",
       "        text-align: right;\n",
       "    }\n",
       "</style>\n",
       "<table border=\"1\" class=\"dataframe\">\n",
       "  <thead>\n",
       "    <tr style=\"text-align: right;\">\n",
       "      <th></th>\n",
       "      <th>mean</th>\n",
       "      <th>count</th>\n",
       "    </tr>\n",
       "    <tr>\n",
       "      <th>binned PC&gt;2.5</th>\n",
       "      <th></th>\n",
       "      <th></th>\n",
       "    </tr>\n",
       "  </thead>\n",
       "  <tbody>\n",
       "    <tr>\n",
       "      <th>(1.0, 1.5]</th>\n",
       "      <td>1.018929</td>\n",
       "      <td>56</td>\n",
       "    </tr>\n",
       "    <tr>\n",
       "      <th>(1.5, 1.6]</th>\n",
       "      <td>1.142903</td>\n",
       "      <td>93</td>\n",
       "    </tr>\n",
       "    <tr>\n",
       "      <th>(1.6, 1.7]</th>\n",
       "      <td>0.908028</td>\n",
       "      <td>142</td>\n",
       "    </tr>\n",
       "    <tr>\n",
       "      <th>(1.7, 1.8]</th>\n",
       "      <td>0.886806</td>\n",
       "      <td>216</td>\n",
       "    </tr>\n",
       "    <tr>\n",
       "      <th>(1.8, 1.9]</th>\n",
       "      <td>0.870612</td>\n",
       "      <td>147</td>\n",
       "    </tr>\n",
       "    <tr>\n",
       "      <th>(1.9, 2.0]</th>\n",
       "      <td>1.011605</td>\n",
       "      <td>162</td>\n",
       "    </tr>\n",
       "    <tr>\n",
       "      <th>(2.0, 2.5]</th>\n",
       "      <td>0.999173</td>\n",
       "      <td>278</td>\n",
       "    </tr>\n",
       "    <tr>\n",
       "      <th>(2.5, 3.0]</th>\n",
       "      <td>1.170000</td>\n",
       "      <td>11</td>\n",
       "    </tr>\n",
       "    <tr>\n",
       "      <th>(3.0, 999999.0]</th>\n",
       "      <td>NaN</td>\n",
       "      <td>0</td>\n",
       "    </tr>\n",
       "  </tbody>\n",
       "</table>\n",
       "</div>"
      ],
      "text/plain": [
       "                     mean  count\n",
       "binned PC>2.5                   \n",
       "(1.0, 1.5]       1.018929     56\n",
       "(1.5, 1.6]       1.142903     93\n",
       "(1.6, 1.7]       0.908028    142\n",
       "(1.7, 1.8]       0.886806    216\n",
       "(1.8, 1.9]       0.870612    147\n",
       "(1.9, 2.0]       1.011605    162\n",
       "(2.0, 2.5]       0.999173    278\n",
       "(2.5, 3.0]       1.170000     11\n",
       "(3.0, 999999.0]       NaN      0"
      ]
     },
     "execution_count": 30,
     "metadata": {},
     "output_type": "execute_result"
    }
   ],
   "source": [
    "# binned OVER 2.5 Pinacle\n",
    "\n",
    "fdf_under_pinacle_closing_gb_mean = data.groupby('binned PC>2.5')['payout_over_2.5_pinacle_closing'].agg(['mean','count'])\n",
    "fdf_under_pinacle_closing_gb_mean"
   ]
  },
  {
   "cell_type": "code",
   "execution_count": null,
   "id": "21dfd884",
   "metadata": {},
   "outputs": [],
   "source": [
    "# binned OVER 2.5 Avg\n",
    "\n",
    "fdf_under_pinacle_closing_gb_mean = data.groupby('binned AvgC>2.5')['payout_over_2.5_market_closing'].agg(['mean','count'])\n",
    "fdf_under_pinacle_closing_gb_mean"
   ]
  },
  {
   "cell_type": "markdown",
   "id": "2029ae39",
   "metadata": {},
   "source": [
    "### Binning bet365"
   ]
  },
  {
   "cell_type": "code",
   "execution_count": 272,
   "id": "4a73f0c4",
   "metadata": {},
   "outputs": [],
   "source": [
    "bins = [0, 5, 10, 15, 20, 25, 30, 35, 40, 45, 50, 55, 60, 65, 70, 75, 80, 85, 90, 95, 100]\n",
    "\n",
    "#Binned UNDER 2.5 bet365 OPENING odds\n",
    "data['binned <2.5 365'] = pd.cut(data['Implied Probability <2.5 365'], bins)\n",
    "\n",
    "#Binned UNDER 2.5 bet365 CLOSING odds\n",
    "data['binned <2.5 365 closing'] = pd.cut(data['Implied Probability <2.5 365 closing'], bins)\n",
    "\n",
    "#Binned OVER 2.5 bet365 OPENING odds\n",
    "data['binned >2.5 365'] = pd.cut(data['Implied Probability >2.5 365'], bins)\n",
    "\n",
    "#Binned OVER 2.5 bet365 CLOSING odds\n",
    "data['binned >2.5 365 closing'] = pd.cut(data['Implied Probability >2.5 365 closing'], bins)"
   ]
  },
  {
   "cell_type": "code",
   "execution_count": 170,
   "id": "c8c0a485",
   "metadata": {
    "collapsed": true
   },
   "outputs": [
    {
     "data": {
      "text/html": [
       "<div>\n",
       "<style scoped>\n",
       "    .dataframe tbody tr th:only-of-type {\n",
       "        vertical-align: middle;\n",
       "    }\n",
       "\n",
       "    .dataframe tbody tr th {\n",
       "        vertical-align: top;\n",
       "    }\n",
       "\n",
       "    .dataframe thead th {\n",
       "        text-align: right;\n",
       "    }\n",
       "</style>\n",
       "<table border=\"1\" class=\"dataframe\">\n",
       "  <thead>\n",
       "    <tr style=\"text-align: right;\">\n",
       "      <th></th>\n",
       "      <th>Div</th>\n",
       "      <th>Date</th>\n",
       "      <th>Time</th>\n",
       "      <th>HomeTeam</th>\n",
       "      <th>AwayTeam</th>\n",
       "      <th>FTHG</th>\n",
       "      <th>FTAG</th>\n",
       "      <th>FTR</th>\n",
       "      <th>HTHG</th>\n",
       "      <th>HTAG</th>\n",
       "      <th>...</th>\n",
       "      <th>payout_under_2.5_365_closing</th>\n",
       "      <th>payout_over_2.5_365_closing</th>\n",
       "      <th>Implied Probability &gt;2.5 pinacle closing</th>\n",
       "      <th>Implied Probability &lt;2.5 pinacle closing</th>\n",
       "      <th>Implied Probability &lt;2.5 365 closing</th>\n",
       "      <th>Implied Probability &gt;2.5 365 closing</th>\n",
       "      <th>binned &lt;2.5 pinacle closing</th>\n",
       "      <th>binned &gt;2.5 pinacle closing</th>\n",
       "      <th>binned &lt;2.5 365 closing</th>\n",
       "      <th>binned &gt;2.5 365 closing</th>\n",
       "    </tr>\n",
       "  </thead>\n",
       "  <tbody>\n",
       "    <tr>\n",
       "      <th>0</th>\n",
       "      <td>T1</td>\n",
       "      <td>11/09/2020</td>\n",
       "      <td>18:00</td>\n",
       "      <td>Rizespor</td>\n",
       "      <td>Fenerbahce</td>\n",
       "      <td>1</td>\n",
       "      <td>2</td>\n",
       "      <td>A</td>\n",
       "      <td>0</td>\n",
       "      <td>0</td>\n",
       "      <td>...</td>\n",
       "      <td>0.00</td>\n",
       "      <td>1.70</td>\n",
       "      <td>57.142857</td>\n",
       "      <td>46.082949</td>\n",
       "      <td>47.619048</td>\n",
       "      <td>58.823529</td>\n",
       "      <td>(45, 50]</td>\n",
       "      <td>(55, 60]</td>\n",
       "      <td>(45, 50]</td>\n",
       "      <td>(55, 60]</td>\n",
       "    </tr>\n",
       "    <tr>\n",
       "      <th>1</th>\n",
       "      <td>T1</td>\n",
       "      <td>12/09/2020</td>\n",
       "      <td>15:00</td>\n",
       "      <td>Karagumruk</td>\n",
       "      <td>Yeni Malatyaspor</td>\n",
       "      <td>3</td>\n",
       "      <td>0</td>\n",
       "      <td>H</td>\n",
       "      <td>1</td>\n",
       "      <td>0</td>\n",
       "      <td>...</td>\n",
       "      <td>0.00</td>\n",
       "      <td>1.90</td>\n",
       "      <td>51.813472</td>\n",
       "      <td>51.020408</td>\n",
       "      <td>51.282051</td>\n",
       "      <td>52.631579</td>\n",
       "      <td>(50, 55]</td>\n",
       "      <td>(50, 55]</td>\n",
       "      <td>(50, 55]</td>\n",
       "      <td>(50, 55]</td>\n",
       "    </tr>\n",
       "    <tr>\n",
       "      <th>2</th>\n",
       "      <td>T1</td>\n",
       "      <td>12/09/2020</td>\n",
       "      <td>15:00</td>\n",
       "      <td>Sivasspor</td>\n",
       "      <td>Alanyaspor</td>\n",
       "      <td>0</td>\n",
       "      <td>2</td>\n",
       "      <td>A</td>\n",
       "      <td>0</td>\n",
       "      <td>1</td>\n",
       "      <td>...</td>\n",
       "      <td>2.10</td>\n",
       "      <td>0.00</td>\n",
       "      <td>56.818182</td>\n",
       "      <td>46.728972</td>\n",
       "      <td>47.619048</td>\n",
       "      <td>58.823529</td>\n",
       "      <td>(45, 50]</td>\n",
       "      <td>(55, 60]</td>\n",
       "      <td>(45, 50]</td>\n",
       "      <td>(55, 60]</td>\n",
       "    </tr>\n",
       "    <tr>\n",
       "      <th>3</th>\n",
       "      <td>T1</td>\n",
       "      <td>12/09/2020</td>\n",
       "      <td>18:00</td>\n",
       "      <td>Galatasaray</td>\n",
       "      <td>Gaziantep</td>\n",
       "      <td>3</td>\n",
       "      <td>1</td>\n",
       "      <td>H</td>\n",
       "      <td>3</td>\n",
       "      <td>0</td>\n",
       "      <td>...</td>\n",
       "      <td>0.00</td>\n",
       "      <td>1.60</td>\n",
       "      <td>61.728395</td>\n",
       "      <td>41.666667</td>\n",
       "      <td>43.478261</td>\n",
       "      <td>62.500000</td>\n",
       "      <td>(40, 45]</td>\n",
       "      <td>(60, 65]</td>\n",
       "      <td>(40, 45]</td>\n",
       "      <td>(60, 65]</td>\n",
       "    </tr>\n",
       "    <tr>\n",
       "      <th>4</th>\n",
       "      <td>T1</td>\n",
       "      <td>12/09/2020</td>\n",
       "      <td>18:00</td>\n",
       "      <td>Goztep</td>\n",
       "      <td>Denizlispor</td>\n",
       "      <td>5</td>\n",
       "      <td>1</td>\n",
       "      <td>H</td>\n",
       "      <td>3</td>\n",
       "      <td>0</td>\n",
       "      <td>...</td>\n",
       "      <td>0.00</td>\n",
       "      <td>2.05</td>\n",
       "      <td>48.309179</td>\n",
       "      <td>54.644809</td>\n",
       "      <td>57.142857</td>\n",
       "      <td>48.780488</td>\n",
       "      <td>(50, 55]</td>\n",
       "      <td>(45, 50]</td>\n",
       "      <td>(55, 60]</td>\n",
       "      <td>(45, 50]</td>\n",
       "    </tr>\n",
       "    <tr>\n",
       "      <th>...</th>\n",
       "      <td>...</td>\n",
       "      <td>...</td>\n",
       "      <td>...</td>\n",
       "      <td>...</td>\n",
       "      <td>...</td>\n",
       "      <td>...</td>\n",
       "      <td>...</td>\n",
       "      <td>...</td>\n",
       "      <td>...</td>\n",
       "      <td>...</td>\n",
       "      <td>...</td>\n",
       "      <td>...</td>\n",
       "      <td>...</td>\n",
       "      <td>...</td>\n",
       "      <td>...</td>\n",
       "      <td>...</td>\n",
       "      <td>...</td>\n",
       "      <td>...</td>\n",
       "      <td>...</td>\n",
       "      <td>...</td>\n",
       "      <td>...</td>\n",
       "    </tr>\n",
       "    <tr>\n",
       "      <th>375</th>\n",
       "      <td>T1</td>\n",
       "      <td>21/05/2022</td>\n",
       "      <td>17:00</td>\n",
       "      <td>Yeni Malatyaspor</td>\n",
       "      <td>Fenerbahce</td>\n",
       "      <td>0</td>\n",
       "      <td>5</td>\n",
       "      <td>A</td>\n",
       "      <td>0</td>\n",
       "      <td>1</td>\n",
       "      <td>...</td>\n",
       "      <td>0.00</td>\n",
       "      <td>1.40</td>\n",
       "      <td>69.930070</td>\n",
       "      <td>34.602076</td>\n",
       "      <td>34.843206</td>\n",
       "      <td>71.428571</td>\n",
       "      <td>(30, 35]</td>\n",
       "      <td>(65, 70]</td>\n",
       "      <td>(30, 35]</td>\n",
       "      <td>(70, 75]</td>\n",
       "    </tr>\n",
       "    <tr>\n",
       "      <th>376</th>\n",
       "      <td>T1</td>\n",
       "      <td>22/05/2022</td>\n",
       "      <td>14:00</td>\n",
       "      <td>Buyuksehyr</td>\n",
       "      <td>Trabzonspor</td>\n",
       "      <td>3</td>\n",
       "      <td>1</td>\n",
       "      <td>H</td>\n",
       "      <td>3</td>\n",
       "      <td>0</td>\n",
       "      <td>...</td>\n",
       "      <td>0.00</td>\n",
       "      <td>1.66</td>\n",
       "      <td>58.139535</td>\n",
       "      <td>45.045045</td>\n",
       "      <td>46.511628</td>\n",
       "      <td>60.240964</td>\n",
       "      <td>(45, 50]</td>\n",
       "      <td>(55, 60]</td>\n",
       "      <td>(45, 50]</td>\n",
       "      <td>(60, 65]</td>\n",
       "    </tr>\n",
       "    <tr>\n",
       "      <th>377</th>\n",
       "      <td>T1</td>\n",
       "      <td>22/05/2022</td>\n",
       "      <td>14:00</td>\n",
       "      <td>Karagumruk</td>\n",
       "      <td>Alanyaspor</td>\n",
       "      <td>0</td>\n",
       "      <td>1</td>\n",
       "      <td>A</td>\n",
       "      <td>0</td>\n",
       "      <td>1</td>\n",
       "      <td>...</td>\n",
       "      <td>2.35</td>\n",
       "      <td>0.00</td>\n",
       "      <td>62.893082</td>\n",
       "      <td>40.485830</td>\n",
       "      <td>42.553191</td>\n",
       "      <td>63.694268</td>\n",
       "      <td>(40, 45]</td>\n",
       "      <td>(60, 65]</td>\n",
       "      <td>(40, 45]</td>\n",
       "      <td>(60, 65]</td>\n",
       "    </tr>\n",
       "    <tr>\n",
       "      <th>378</th>\n",
       "      <td>T1</td>\n",
       "      <td>22/05/2022</td>\n",
       "      <td>17:00</td>\n",
       "      <td>Ad. Demirspor</td>\n",
       "      <td>Goztep</td>\n",
       "      <td>7</td>\n",
       "      <td>0</td>\n",
       "      <td>H</td>\n",
       "      <td>5</td>\n",
       "      <td>0</td>\n",
       "      <td>...</td>\n",
       "      <td>0.00</td>\n",
       "      <td>1.40</td>\n",
       "      <td>71.428571</td>\n",
       "      <td>32.467532</td>\n",
       "      <td>34.843206</td>\n",
       "      <td>71.428571</td>\n",
       "      <td>(30, 35]</td>\n",
       "      <td>(70, 75]</td>\n",
       "      <td>(30, 35]</td>\n",
       "      <td>(70, 75]</td>\n",
       "    </tr>\n",
       "    <tr>\n",
       "      <th>379</th>\n",
       "      <td>T1</td>\n",
       "      <td>22/05/2022</td>\n",
       "      <td>17:00</td>\n",
       "      <td>Hatayspor</td>\n",
       "      <td>Giresunspor</td>\n",
       "      <td>4</td>\n",
       "      <td>1</td>\n",
       "      <td>H</td>\n",
       "      <td>1</td>\n",
       "      <td>1</td>\n",
       "      <td>...</td>\n",
       "      <td>0.00</td>\n",
       "      <td>1.57</td>\n",
       "      <td>62.111801</td>\n",
       "      <td>41.152263</td>\n",
       "      <td>42.553191</td>\n",
       "      <td>63.694268</td>\n",
       "      <td>(40, 45]</td>\n",
       "      <td>(60, 65]</td>\n",
       "      <td>(40, 45]</td>\n",
       "      <td>(60, 65]</td>\n",
       "    </tr>\n",
       "  </tbody>\n",
       "</table>\n",
       "<p>1106 rows × 138 columns</p>\n",
       "</div>"
      ],
      "text/plain": [
       "    Div        Date   Time          HomeTeam          AwayTeam  FTHG  FTAG  \\\n",
       "0    T1  11/09/2020  18:00          Rizespor        Fenerbahce     1     2   \n",
       "1    T1  12/09/2020  15:00        Karagumruk  Yeni Malatyaspor     3     0   \n",
       "2    T1  12/09/2020  15:00         Sivasspor        Alanyaspor     0     2   \n",
       "3    T1  12/09/2020  18:00       Galatasaray         Gaziantep     3     1   \n",
       "4    T1  12/09/2020  18:00            Goztep       Denizlispor     5     1   \n",
       "..   ..         ...    ...               ...               ...   ...   ...   \n",
       "375  T1  21/05/2022  17:00  Yeni Malatyaspor        Fenerbahce     0     5   \n",
       "376  T1  22/05/2022  14:00        Buyuksehyr       Trabzonspor     3     1   \n",
       "377  T1  22/05/2022  14:00        Karagumruk        Alanyaspor     0     1   \n",
       "378  T1  22/05/2022  17:00     Ad. Demirspor            Goztep     7     0   \n",
       "379  T1  22/05/2022  17:00         Hatayspor       Giresunspor     4     1   \n",
       "\n",
       "    FTR  HTHG  HTAG  ... payout_under_2.5_365_closing  \\\n",
       "0     A     0     0  ...                         0.00   \n",
       "1     H     1     0  ...                         0.00   \n",
       "2     A     0     1  ...                         2.10   \n",
       "3     H     3     0  ...                         0.00   \n",
       "4     H     3     0  ...                         0.00   \n",
       "..   ..   ...   ...  ...                          ...   \n",
       "375   A     0     1  ...                         0.00   \n",
       "376   H     3     0  ...                         0.00   \n",
       "377   A     0     1  ...                         2.35   \n",
       "378   H     5     0  ...                         0.00   \n",
       "379   H     1     1  ...                         0.00   \n",
       "\n",
       "     payout_over_2.5_365_closing  Implied Probability >2.5 pinacle closing  \\\n",
       "0                           1.70                                 57.142857   \n",
       "1                           1.90                                 51.813472   \n",
       "2                           0.00                                 56.818182   \n",
       "3                           1.60                                 61.728395   \n",
       "4                           2.05                                 48.309179   \n",
       "..                           ...                                       ...   \n",
       "375                         1.40                                 69.930070   \n",
       "376                         1.66                                 58.139535   \n",
       "377                         0.00                                 62.893082   \n",
       "378                         1.40                                 71.428571   \n",
       "379                         1.57                                 62.111801   \n",
       "\n",
       "     Implied Probability <2.5 pinacle closing  \\\n",
       "0                                   46.082949   \n",
       "1                                   51.020408   \n",
       "2                                   46.728972   \n",
       "3                                   41.666667   \n",
       "4                                   54.644809   \n",
       "..                                        ...   \n",
       "375                                 34.602076   \n",
       "376                                 45.045045   \n",
       "377                                 40.485830   \n",
       "378                                 32.467532   \n",
       "379                                 41.152263   \n",
       "\n",
       "     Implied Probability <2.5 365 closing  \\\n",
       "0                               47.619048   \n",
       "1                               51.282051   \n",
       "2                               47.619048   \n",
       "3                               43.478261   \n",
       "4                               57.142857   \n",
       "..                                    ...   \n",
       "375                             34.843206   \n",
       "376                             46.511628   \n",
       "377                             42.553191   \n",
       "378                             34.843206   \n",
       "379                             42.553191   \n",
       "\n",
       "     Implied Probability >2.5 365 closing  binned <2.5 pinacle closing  \\\n",
       "0                               58.823529                     (45, 50]   \n",
       "1                               52.631579                     (50, 55]   \n",
       "2                               58.823529                     (45, 50]   \n",
       "3                               62.500000                     (40, 45]   \n",
       "4                               48.780488                     (50, 55]   \n",
       "..                                    ...                          ...   \n",
       "375                             71.428571                     (30, 35]   \n",
       "376                             60.240964                     (45, 50]   \n",
       "377                             63.694268                     (40, 45]   \n",
       "378                             71.428571                     (30, 35]   \n",
       "379                             63.694268                     (40, 45]   \n",
       "\n",
       "     binned >2.5 pinacle closing  binned <2.5 365 closing  \\\n",
       "0                       (55, 60]                 (45, 50]   \n",
       "1                       (50, 55]                 (50, 55]   \n",
       "2                       (55, 60]                 (45, 50]   \n",
       "3                       (60, 65]                 (40, 45]   \n",
       "4                       (45, 50]                 (55, 60]   \n",
       "..                           ...                      ...   \n",
       "375                     (65, 70]                 (30, 35]   \n",
       "376                     (55, 60]                 (45, 50]   \n",
       "377                     (60, 65]                 (40, 45]   \n",
       "378                     (70, 75]                 (30, 35]   \n",
       "379                     (60, 65]                 (40, 45]   \n",
       "\n",
       "     binned >2.5 365 closing  \n",
       "0                   (55, 60]  \n",
       "1                   (50, 55]  \n",
       "2                   (55, 60]  \n",
       "3                   (60, 65]  \n",
       "4                   (45, 50]  \n",
       "..                       ...  \n",
       "375                 (70, 75]  \n",
       "376                 (60, 65]  \n",
       "377                 (60, 65]  \n",
       "378                 (70, 75]  \n",
       "379                 (60, 65]  \n",
       "\n",
       "[1106 rows x 138 columns]"
      ]
     },
     "execution_count": 170,
     "metadata": {},
     "output_type": "execute_result"
    }
   ],
   "source": [
    "data"
   ]
  },
  {
   "cell_type": "markdown",
   "id": "e45ec430",
   "metadata": {},
   "source": [
    "## Final Dataset"
   ]
  },
  {
   "cell_type": "markdown",
   "id": "c06f280c",
   "metadata": {},
   "source": [
    "### Average Market (AvG)"
   ]
  },
  {
   "cell_type": "code",
   "execution_count": 293,
   "id": "8075c1a9",
   "metadata": {},
   "outputs": [],
   "source": [
    "#Average Market UNDER opening odds\n",
    "fdf_under_avg = data[['Implied Probability <2.5 avg','under_2.5_goals','binned <2.5 avg','payout_avg_under_2.5']]\n",
    "\n",
    "#Average Market OVER opening odds\n",
    "fdf_over_avg = data[['Implied Probability >2.5 avg','over_2.5_goals','binned >2.5 avg','payout_avg_over_2.5']]\n",
    "\n",
    "#Average Market UNDER closing odds\n",
    "fdf_under_avg_closing = data[['Implied Probability <2.5 avg closing','under_2.5_goals','binned <2.5 avg closing','payout_avg_under_closing_2.5']]\n",
    "\n",
    "#Average Market OVER opening odds\n",
    "fdf_over_avg_closing = data[['Implied Probability >2.5 avg closing','over_2.5_goals','binned >2.5 avg closing','payout_avg_over_closing_2.5']]"
   ]
  },
  {
   "cell_type": "markdown",
   "id": "efd3a216",
   "metadata": {},
   "source": [
    "### Pinnacle"
   ]
  },
  {
   "cell_type": "code",
   "execution_count": 177,
   "id": "114d0e78",
   "metadata": {},
   "outputs": [],
   "source": [
    "#pinnacle UNDER opening odds\n",
    "fdf_under_pinacle = data[['Implied Probability <2.5 pinacle','under_2.5_goals','binned <2.5 pinacle','payout_under_2.5_pinacle']]\n",
    "\n",
    "#pinnacle OVER opening odds\n",
    "fdf_over_pinacle = data[['Implied Probability >2.5 pinacle','over_2.5_goals','binned >2.5 pinacle','payout_over_2.5_pinacle']]\n",
    "\n",
    "#pinnacle UNDER closing odds\n",
    "fdf_under_pinacle_closing = data[['Implied Probability <2.5 pinacle closing','under_2.5_goals','binned <2.5 pinacle closing','payout_under_2.5_pinacle_closing']]\n",
    "\n",
    "#pinnacle OVER closing odds\n",
    "fdf_over_pinacle_closing = data[['Implied Probability >2.5 pinacle closing','over_2.5_goals','binned >2.5 pinacle closing','payout_over_2.5_pinacle_closing']]"
   ]
  },
  {
   "cell_type": "markdown",
   "id": "6ea5b9f4",
   "metadata": {},
   "source": [
    "### bet365"
   ]
  },
  {
   "cell_type": "code",
   "execution_count": 295,
   "id": "d6a444fd",
   "metadata": {},
   "outputs": [],
   "source": [
    "#bet365 UNDER opening odds\n",
    "fdf_under_365 = data[['Implied Probability <2.5 365','under_2.5_goals','binned <2.5 365','payout_under_2.5_365']]\n",
    "\n",
    "#bet365 OVER opening odds\n",
    "fdf_over_365 = data[['Implied Probability >2.5 365','over_2.5_goals','binned >2.5 365','payout_over_2.5_365']]\n",
    "\n",
    "#bet365 UNDER closing odds\n",
    "fdf_under_365_closing = data[['Implied Probability <2.5 365 closing','under_2.5_goals','binned <2.5 365 closing','payout_under_2.5_365_closing']]\n",
    "\n",
    "#bet365 OVER closing odds\n",
    "fdf_over_365_closing = data[['Implied Probability >2.5 365 closing','over_2.5_goals','binned >2.5 365 closing','payout_over_2.5_365_closing']]"
   ]
  },
  {
   "cell_type": "markdown",
   "id": "f86ea04f",
   "metadata": {},
   "source": [
    "## Results per implied prob Average Market"
   ]
  },
  {
   "cell_type": "markdown",
   "id": "66684c60",
   "metadata": {},
   "source": [
    "### Under"
   ]
  },
  {
   "cell_type": "markdown",
   "id": "167a9db6",
   "metadata": {},
   "source": [
    "#### Avg opening odds"
   ]
  },
  {
   "cell_type": "code",
   "execution_count": 302,
   "id": "b8d712a0",
   "metadata": {
    "collapsed": true
   },
   "outputs": [
    {
     "data": {
      "text/plain": [
       "binned <2.5 avg\n",
       "(0, 5]         0\n",
       "(5, 10]        0\n",
       "(10, 15]       0\n",
       "(15, 20]       0\n",
       "(20, 25]       1\n",
       "(25, 30]       1\n",
       "(30, 35]      10\n",
       "(35, 40]      36\n",
       "(40, 45]     156\n",
       "(45, 50]     349\n",
       "(50, 55]     327\n",
       "(55, 60]     193\n",
       "(60, 65]      31\n",
       "(65, 70]       2\n",
       "(70, 75]       0\n",
       "(75, 80]       0\n",
       "(80, 85]       0\n",
       "(85, 90]       0\n",
       "(90, 95]       0\n",
       "(95, 100]      0\n",
       "Name: payout_avg_under_2.5, dtype: int64"
      ]
     },
     "execution_count": 302,
     "metadata": {},
     "output_type": "execute_result"
    }
   ],
   "source": [
    "fdf_under_avg_gb_count = fdf_under_avg.groupby('binned <2.5 avg')['payout_avg_under_2.5'].count()\n",
    "fdf_under_avg_gb_count"
   ]
  },
  {
   "cell_type": "code",
   "execution_count": 301,
   "id": "368751a7",
   "metadata": {
    "collapsed": true
   },
   "outputs": [
    {
     "data": {
      "text/plain": [
       "binned <2.5 avg\n",
       "(0, 5]            NaN\n",
       "(5, 10]           NaN\n",
       "(10, 15]          NaN\n",
       "(15, 20]          NaN\n",
       "(20, 25]     0.000000\n",
       "(25, 30]     0.000000\n",
       "(30, 35]     0.295000\n",
       "(35, 40]     0.782500\n",
       "(40, 45]     0.756154\n",
       "(45, 50]     1.049083\n",
       "(50, 55]     0.997492\n",
       "(55, 60]     0.889223\n",
       "(60, 65]     0.835161\n",
       "(65, 70]     0.760000\n",
       "(70, 75]          NaN\n",
       "(75, 80]          NaN\n",
       "(80, 85]          NaN\n",
       "(85, 90]          NaN\n",
       "(90, 95]          NaN\n",
       "(95, 100]         NaN\n",
       "Name: payout_avg_under_2.5, dtype: float64"
      ]
     },
     "execution_count": 301,
     "metadata": {},
     "output_type": "execute_result"
    }
   ],
   "source": [
    "fdf_under_avg_gb_mean = fdf_under_avg.groupby('binned <2.5 avg')['payout_avg_under_2.5'].mean()\n",
    "fdf_under_avg_gb_mean"
   ]
  },
  {
   "cell_type": "markdown",
   "id": "da439352",
   "metadata": {},
   "source": [
    "#### Avg closing odds"
   ]
  },
  {
   "cell_type": "code",
   "execution_count": 304,
   "id": "b5c7d35d",
   "metadata": {
    "collapsed": true
   },
   "outputs": [
    {
     "data": {
      "text/plain": [
       "binned <2.5 avg closing\n",
       "(0, 5]         0\n",
       "(5, 10]        0\n",
       "(10, 15]       0\n",
       "(15, 20]       0\n",
       "(20, 25]       1\n",
       "(25, 30]       3\n",
       "(30, 35]      14\n",
       "(35, 40]      56\n",
       "(40, 45]     167\n",
       "(45, 50]     315\n",
       "(50, 55]     304\n",
       "(55, 60]     176\n",
       "(60, 65]      62\n",
       "(65, 70]       8\n",
       "(70, 75]       0\n",
       "(75, 80]       0\n",
       "(80, 85]       0\n",
       "(85, 90]       0\n",
       "(90, 95]       0\n",
       "(95, 100]      0\n",
       "Name: payout_avg_under_closing_2.5, dtype: int64"
      ]
     },
     "execution_count": 304,
     "metadata": {},
     "output_type": "execute_result"
    }
   ],
   "source": [
    "fdf_under_avg_closing_gb_count = fdf_under_avg_closing.groupby('binned <2.5 avg closing')['payout_avg_under_closing_2.5'].count()\n",
    "fdf_under_avg_closing_gb_count"
   ]
  },
  {
   "cell_type": "code",
   "execution_count": 305,
   "id": "130a9d40",
   "metadata": {
    "collapsed": true
   },
   "outputs": [
    {
     "data": {
      "text/plain": [
       "binned <2.5 avg closing\n",
       "(0, 5]            NaN\n",
       "(5, 10]           NaN\n",
       "(10, 15]          NaN\n",
       "(15, 20]          NaN\n",
       "(20, 25]     0.000000\n",
       "(25, 30]     0.000000\n",
       "(30, 35]     0.233571\n",
       "(35, 40]     0.996964\n",
       "(40, 45]     0.760898\n",
       "(45, 50]     1.059079\n",
       "(50, 55]     0.987401\n",
       "(55, 60]     0.919659\n",
       "(60, 65]     0.861129\n",
       "(65, 70]     0.742500\n",
       "(70, 75]          NaN\n",
       "(75, 80]          NaN\n",
       "(80, 85]          NaN\n",
       "(85, 90]          NaN\n",
       "(90, 95]          NaN\n",
       "(95, 100]         NaN\n",
       "Name: payout_avg_under_closing_2.5, dtype: float64"
      ]
     },
     "execution_count": 305,
     "metadata": {},
     "output_type": "execute_result"
    }
   ],
   "source": [
    "fdf_under_avg_closing_gb_mean = fdf_under_avg_closing.groupby('binned <2.5 avg closing')['payout_avg_under_closing_2.5'].mean()\n",
    "fdf_under_avg_closing_gb_mean"
   ]
  },
  {
   "cell_type": "markdown",
   "id": "d5b57f08",
   "metadata": {},
   "source": [
    "### Over"
   ]
  },
  {
   "cell_type": "markdown",
   "id": "893845a5",
   "metadata": {},
   "source": [
    "#### Opening Odds"
   ]
  },
  {
   "cell_type": "code",
   "execution_count": 309,
   "id": "b6fa9a98",
   "metadata": {
    "collapsed": true
   },
   "outputs": [
    {
     "data": {
      "text/plain": [
       "binned >2.5 avg\n",
       "(0, 5]         0\n",
       "(5, 10]        0\n",
       "(10, 15]       0\n",
       "(15, 20]       0\n",
       "(20, 25]       0\n",
       "(25, 30]       0\n",
       "(30, 35]       0\n",
       "(35, 40]       2\n",
       "(40, 45]      23\n",
       "(45, 50]     185\n",
       "(50, 55]     322\n",
       "(55, 60]     332\n",
       "(60, 65]     184\n",
       "(65, 70]      43\n",
       "(70, 75]      10\n",
       "(75, 80]       4\n",
       "(80, 85]       0\n",
       "(85, 90]       1\n",
       "(90, 95]       0\n",
       "(95, 100]      0\n",
       "Name: payout_avg_over_2.5, dtype: int64"
      ]
     },
     "execution_count": 309,
     "metadata": {},
     "output_type": "execute_result"
    }
   ],
   "source": [
    "fdf_over_avg_gb_count = fdf_over_avg.groupby('binned >2.5 avg')['payout_avg_over_2.5'].count()\n",
    "fdf_over_avg_gb_count"
   ]
  },
  {
   "cell_type": "code",
   "execution_count": 308,
   "id": "1f0a3a6a",
   "metadata": {
    "collapsed": true
   },
   "outputs": [
    {
     "data": {
      "text/plain": [
       "binned >2.5 avg\n",
       "(0, 5]            NaN\n",
       "(5, 10]           NaN\n",
       "(10, 15]          NaN\n",
       "(15, 20]          NaN\n",
       "(20, 25]          NaN\n",
       "(25, 30]          NaN\n",
       "(30, 35]          NaN\n",
       "(35, 40]     1.310000\n",
       "(40, 45]     1.104348\n",
       "(45, 50]     1.016757\n",
       "(50, 55]     0.905590\n",
       "(55, 60]     0.878283\n",
       "(60, 65]     1.010272\n",
       "(65, 70]     0.974651\n",
       "(70, 75]     1.243000\n",
       "(75, 80]     1.317500\n",
       "(80, 85]          NaN\n",
       "(85, 90]     1.170000\n",
       "(90, 95]          NaN\n",
       "(95, 100]         NaN\n",
       "Name: payout_avg_over_2.5, dtype: float64"
      ]
     },
     "execution_count": 308,
     "metadata": {},
     "output_type": "execute_result"
    }
   ],
   "source": [
    "fdf_over_avg_gb_mean = fdf_over_avg.groupby('binned >2.5 avg')['payout_avg_over_2.5'].mean()\n",
    "fdf_over_avg_gb_mean"
   ]
  },
  {
   "cell_type": "markdown",
   "id": "387c70f7",
   "metadata": {},
   "source": [
    "#### Closing Odds"
   ]
  },
  {
   "cell_type": "code",
   "execution_count": 313,
   "id": "0548fcc8",
   "metadata": {
    "collapsed": true
   },
   "outputs": [
    {
     "data": {
      "text/plain": [
       "binned >2.5 avg closing\n",
       "(0, 5]         0\n",
       "(5, 10]        0\n",
       "(10, 15]       0\n",
       "(15, 20]       0\n",
       "(20, 25]       0\n",
       "(25, 30]       0\n",
       "(30, 35]       0\n",
       "(35, 40]       5\n",
       "(40, 45]      46\n",
       "(45, 50]     191\n",
       "(50, 55]     297\n",
       "(55, 60]     296\n",
       "(60, 65]     186\n",
       "(65, 70]      62\n",
       "(70, 75]      14\n",
       "(75, 80]       7\n",
       "(80, 85]       2\n",
       "(85, 90]       0\n",
       "(90, 95]       0\n",
       "(95, 100]      0\n",
       "Name: payout_avg_over_closing_2.5, dtype: int64"
      ]
     },
     "execution_count": 313,
     "metadata": {},
     "output_type": "execute_result"
    }
   ],
   "source": [
    "fdf_over_avg_closing_gb_count = fdf_over_avg_closing.groupby('binned >2.5 avg closing')['payout_avg_over_closing_2.5'].count()\n",
    "fdf_over_avg_closing_gb_count"
   ]
  },
  {
   "cell_type": "code",
   "execution_count": 312,
   "id": "02c06fa6",
   "metadata": {
    "collapsed": true
   },
   "outputs": [
    {
     "data": {
      "text/plain": [
       "binned >2.5 avg closing\n",
       "(0, 5]            NaN\n",
       "(5, 10]           NaN\n",
       "(10, 15]          NaN\n",
       "(15, 20]          NaN\n",
       "(20, 25]          NaN\n",
       "(25, 30]          NaN\n",
       "(30, 35]          NaN\n",
       "(35, 40]     0.502000\n",
       "(40, 45]     1.256739\n",
       "(45, 50]     0.976545\n",
       "(50, 55]     0.917239\n",
       "(55, 60]     0.862230\n",
       "(60, 65]     0.979140\n",
       "(65, 70]     1.056129\n",
       "(70, 75]     0.982143\n",
       "(75, 80]     1.120000\n",
       "(80, 85]     1.215000\n",
       "(85, 90]          NaN\n",
       "(90, 95]          NaN\n",
       "(95, 100]         NaN\n",
       "Name: payout_avg_over_closing_2.5, dtype: float64"
      ]
     },
     "execution_count": 312,
     "metadata": {},
     "output_type": "execute_result"
    }
   ],
   "source": [
    "fdf_over_avg_closing_gb_mean = fdf_over_avg_closing.groupby('binned >2.5 avg closing')['payout_avg_over_closing_2.5'].mean()\n",
    "fdf_over_avg_closing_gb_mean"
   ]
  },
  {
   "cell_type": "markdown",
   "id": "641bdc48",
   "metadata": {},
   "source": [
    "## Results per implied prob Pinnacle"
   ]
  },
  {
   "cell_type": "markdown",
   "id": "2fb2d999",
   "metadata": {},
   "source": [
    "### Under"
   ]
  },
  {
   "cell_type": "markdown",
   "id": "429bee77",
   "metadata": {},
   "source": [
    "#### Pinnacle opening odds"
   ]
  },
  {
   "cell_type": "code",
   "execution_count": 296,
   "id": "51983fc1",
   "metadata": {
    "collapsed": true
   },
   "outputs": [
    {
     "data": {
      "text/plain": [
       "binned <2.5 pinacle\n",
       "(0, 5]         0\n",
       "(5, 10]        0\n",
       "(10, 15]       0\n",
       "(15, 20]       0\n",
       "(20, 25]       1\n",
       "(25, 30]       3\n",
       "(30, 35]      12\n",
       "(35, 40]      49\n",
       "(40, 45]     192\n",
       "(45, 50]     398\n",
       "(50, 55]     276\n",
       "(55, 60]     146\n",
       "(60, 65]      23\n",
       "(65, 70]       2\n",
       "(70, 75]       0\n",
       "(75, 80]       0\n",
       "(80, 85]       0\n",
       "(85, 90]       0\n",
       "(90, 95]       0\n",
       "(95, 100]      0\n",
       "Name: payout_under_2.5_pinacle, dtype: int64"
      ]
     },
     "execution_count": 296,
     "metadata": {},
     "output_type": "execute_result"
    }
   ],
   "source": [
    "fdf_under_pinacle_gb_count = fdf_under_pinacle.groupby('binned <2.5 pinacle')['payout_under_2.5_pinacle'].count()\n",
    "fdf_under_pinacle_gb_count"
   ]
  },
  {
   "cell_type": "code",
   "execution_count": 298,
   "id": "28c5917a",
   "metadata": {
    "collapsed": true
   },
   "outputs": [
    {
     "data": {
      "text/plain": [
       "binned <2.5 pinacle\n",
       "(0, 5]            NaN\n",
       "(5, 10]           NaN\n",
       "(10, 15]          NaN\n",
       "(15, 20]          NaN\n",
       "(20, 25]     0.000000\n",
       "(25, 30]     0.000000\n",
       "(30, 35]     0.260000\n",
       "(35, 40]     0.956939\n",
       "(40, 45]     0.835833\n",
       "(45, 50]     1.044196\n",
       "(50, 55]     1.001304\n",
       "(55, 60]     0.910068\n",
       "(60, 65]     0.847826\n",
       "(65, 70]     0.765000\n",
       "(70, 75]          NaN\n",
       "(75, 80]          NaN\n",
       "(80, 85]          NaN\n",
       "(85, 90]          NaN\n",
       "(90, 95]          NaN\n",
       "(95, 100]         NaN\n",
       "Name: payout_under_2.5_pinacle, dtype: float64"
      ]
     },
     "execution_count": 298,
     "metadata": {},
     "output_type": "execute_result"
    }
   ],
   "source": [
    "fdf_under_pinacle_gb_mean = fdf_under_pinacle.groupby('binned <2.5 pinacle')['payout_under_2.5_pinacle'].mean()\n",
    "fdf_under_pinacle_gb_mean"
   ]
  },
  {
   "cell_type": "code",
   "execution_count": 207,
   "id": "edd2282d",
   "metadata": {},
   "outputs": [
    {
     "data": {
      "text/plain": [
       "0.9585662431941923"
      ]
     },
     "execution_count": 207,
     "metadata": {},
     "output_type": "execute_result"
    }
   ],
   "source": [
    "fdf_under_pinacle['payout_under_2.5_pinacle'].mean()"
   ]
  },
  {
   "cell_type": "code",
   "execution_count": 208,
   "id": "9be6e0c1",
   "metadata": {},
   "outputs": [],
   "source": [
    "fdf_under_pinacle_above_40 = fdf_Under_pinacle[fdf_Under_pinacle['Implied Probability <2.5 pinacle']>40]"
   ]
  },
  {
   "cell_type": "code",
   "execution_count": 209,
   "id": "3f980c79",
   "metadata": {},
   "outputs": [
    {
     "data": {
      "text/plain": [
       "0.9975848303393213"
      ]
     },
     "execution_count": 209,
     "metadata": {},
     "output_type": "execute_result"
    }
   ],
   "source": [
    "fdf_under_pinacle_above_40['payout_under_2.5_pinacle'].mean()"
   ]
  },
  {
   "cell_type": "markdown",
   "id": "adf003fc",
   "metadata": {},
   "source": [
    "#### Closing Odds"
   ]
  },
  {
   "cell_type": "code",
   "execution_count": 299,
   "id": "8540ed1c",
   "metadata": {
    "collapsed": true
   },
   "outputs": [
    {
     "data": {
      "text/plain": [
       "binned <2.5 pinacle closing\n",
       "(0, 5]         0\n",
       "(5, 10]        0\n",
       "(10, 15]       0\n",
       "(15, 20]       0\n",
       "(20, 25]       2\n",
       "(25, 30]       6\n",
       "(30, 35]      16\n",
       "(35, 40]      79\n",
       "(40, 45]     187\n",
       "(45, 50]     329\n",
       "(50, 55]     272\n",
       "(55, 60]     164\n",
       "(60, 65]      45\n",
       "(65, 70]       5\n",
       "(70, 75]       0\n",
       "(75, 80]       0\n",
       "(80, 85]       0\n",
       "(85, 90]       0\n",
       "(90, 95]       0\n",
       "(95, 100]      0\n",
       "Name: payout_under_2.5_pinacle_closing, dtype: int64"
      ]
     },
     "execution_count": 299,
     "metadata": {},
     "output_type": "execute_result"
    }
   ],
   "source": [
    "fdf_under_pinacle_closing_gb_count = fdf_under_pinacle_closing.groupby('binned <2.5 pinacle closing')['payout_under_2.5_pinacle_closing'].count()\n",
    "fdf_under_pinacle_closing_gb_count"
   ]
  },
  {
   "cell_type": "code",
   "execution_count": 300,
   "id": "5454fea6",
   "metadata": {
    "collapsed": true
   },
   "outputs": [
    {
     "data": {
      "text/plain": [
       "binned <2.5 pinacle closing\n",
       "(0, 5]            NaN\n",
       "(5, 10]           NaN\n",
       "(10, 15]          NaN\n",
       "(15, 20]          NaN\n",
       "(20, 25]     0.000000\n",
       "(25, 30]     0.566667\n",
       "(30, 35]     1.102500\n",
       "(35, 40]     0.573418\n",
       "(40, 45]     0.990428\n",
       "(45, 50]     1.064468\n",
       "(50, 55]     1.010147\n",
       "(55, 60]     0.891341\n",
       "(60, 65]     0.861333\n",
       "(65, 70]     0.892000\n",
       "(70, 75]          NaN\n",
       "(75, 80]          NaN\n",
       "(80, 85]          NaN\n",
       "(85, 90]          NaN\n",
       "(90, 95]          NaN\n",
       "(95, 100]         NaN\n",
       "Name: payout_under_2.5_pinacle_closing, dtype: float64"
      ]
     },
     "execution_count": 300,
     "metadata": {},
     "output_type": "execute_result"
    }
   ],
   "source": [
    "fdf_under_pinacle_closing_gb_mean = fdf_under_pinacle_closing.groupby('binned <2.5 pinacle closing')['payout_under_2.5_pinacle_closing'].mean()\n",
    "fdf_under_pinacle_closing_gb_mean"
   ]
  },
  {
   "cell_type": "code",
   "execution_count": 17,
   "id": "17c1f2ce",
   "metadata": {},
   "outputs": [
    {
     "ename": "NameError",
     "evalue": "name 'fdf_under_pinacle_closing' is not defined",
     "output_type": "error",
     "traceback": [
      "\u001b[0;31m---------------------------------------------------------------------------\u001b[0m",
      "\u001b[0;31mNameError\u001b[0m                                 Traceback (most recent call last)",
      "Input \u001b[0;32mIn [17]\u001b[0m, in \u001b[0;36m<cell line: 1>\u001b[0;34m()\u001b[0m\n\u001b[0;32m----> 1\u001b[0m fdf_under_pinacle_closing_gb_count \u001b[38;5;241m=\u001b[39m \u001b[43mfdf_under_pinacle_closing\u001b[49m\u001b[38;5;241m.\u001b[39mgroupby(\u001b[38;5;124m'\u001b[39m\u001b[38;5;124mbinned <2.5 pinacle odds\u001b[39m\u001b[38;5;124m'\u001b[39m)[\u001b[38;5;124m'\u001b[39m\u001b[38;5;124mpayout_under_2.5_pinacle_closing\u001b[39m\u001b[38;5;124m'\u001b[39m]\u001b[38;5;241m.\u001b[39mcount()\n\u001b[1;32m      2\u001b[0m fdf_under_pinacle_closing_gb_count\n",
      "\u001b[0;31mNameError\u001b[0m: name 'fdf_under_pinacle_closing' is not defined"
     ]
    }
   ],
   "source": [
    "fdf_under_pinacle_closing_gb_count = fdf_under_pinacle_closing.groupby('binned <2.5 pinacle odds')['payout_under_2.5_pinacle_closing'].count()\n",
    "fdf_under_pinacle_closing_gb_count"
   ]
  },
  {
   "cell_type": "code",
   "execution_count": 21,
   "id": "f8c4f20c",
   "metadata": {},
   "outputs": [
    {
     "data": {
      "text/html": [
       "<div>\n",
       "<style scoped>\n",
       "    .dataframe tbody tr th:only-of-type {\n",
       "        vertical-align: middle;\n",
       "    }\n",
       "\n",
       "    .dataframe tbody tr th {\n",
       "        vertical-align: top;\n",
       "    }\n",
       "\n",
       "    .dataframe thead th {\n",
       "        text-align: right;\n",
       "    }\n",
       "</style>\n",
       "<table border=\"1\" class=\"dataframe\">\n",
       "  <thead>\n",
       "    <tr style=\"text-align: right;\">\n",
       "      <th></th>\n",
       "      <th>mean</th>\n",
       "      <th>count</th>\n",
       "    </tr>\n",
       "    <tr>\n",
       "      <th>binned PC&lt;2.5</th>\n",
       "      <th></th>\n",
       "      <th></th>\n",
       "    </tr>\n",
       "  </thead>\n",
       "  <tbody>\n",
       "    <tr>\n",
       "      <th>(1.0, 1.5]</th>\n",
       "      <td>1.440000</td>\n",
       "      <td>1</td>\n",
       "    </tr>\n",
       "    <tr>\n",
       "      <th>(1.5, 2.0]</th>\n",
       "      <td>0.967505</td>\n",
       "      <td>501</td>\n",
       "    </tr>\n",
       "    <tr>\n",
       "      <th>(2.0, 3.0]</th>\n",
       "      <td>0.976746</td>\n",
       "      <td>587</td>\n",
       "    </tr>\n",
       "    <tr>\n",
       "      <th>(3.0, 999999.0]</th>\n",
       "      <td>0.400625</td>\n",
       "      <td>16</td>\n",
       "    </tr>\n",
       "  </tbody>\n",
       "</table>\n",
       "</div>"
      ],
      "text/plain": [
       "                     mean  count\n",
       "binned PC<2.5                   \n",
       "(1.0, 1.5]       1.440000      1\n",
       "(1.5, 2.0]       0.967505    501\n",
       "(2.0, 3.0]       0.976746    587\n",
       "(3.0, 999999.0]  0.400625     16"
      ]
     },
     "execution_count": 21,
     "metadata": {},
     "output_type": "execute_result"
    }
   ],
   "source": [
    "fdf_under_pinacle_closing_gb_mean = data.groupby('binned PC<2.5')['payout_under_2.5_pinacle_closing'].agg(['mean','count'])\n",
    "fdf_under_pinacle_closing_gb_mean"
   ]
  },
  {
   "cell_type": "markdown",
   "id": "d8914022",
   "metadata": {},
   "source": [
    "### Over"
   ]
  },
  {
   "cell_type": "markdown",
   "id": "928173aa",
   "metadata": {},
   "source": [
    "#### Opening odds"
   ]
  },
  {
   "cell_type": "code",
   "execution_count": 258,
   "id": "54ff8220",
   "metadata": {
    "collapsed": true
   },
   "outputs": [
    {
     "data": {
      "text/plain": [
       "binned >2.5 pinacle\n",
       "(0, 5]         0\n",
       "(5, 10]        0\n",
       "(10, 15]       0\n",
       "(15, 20]       0\n",
       "(20, 25]       0\n",
       "(25, 30]       0\n",
       "(30, 35]       0\n",
       "(35, 40]       2\n",
       "(40, 45]      46\n",
       "(45, 50]     224\n",
       "(50, 55]     297\n",
       "(55, 60]     321\n",
       "(60, 65]     158\n",
       "(65, 70]      43\n",
       "(70, 75]       7\n",
       "(75, 80]       3\n",
       "(80, 85]       1\n",
       "(85, 90]       0\n",
       "(90, 95]       0\n",
       "(95, 100]      0\n",
       "Name: payout_over_2.5_pinacle, dtype: int64"
      ]
     },
     "execution_count": 258,
     "metadata": {},
     "output_type": "execute_result"
    }
   ],
   "source": [
    "fdf_over_pinacle_gb_count = fdf_over_pinacle.groupby('binned >2.5 pinacle')['payout_over_2.5_pinacle'].count()\n",
    "fdf_over_pinacle_gb_count"
   ]
  },
  {
   "cell_type": "code",
   "execution_count": 217,
   "id": "82df8790",
   "metadata": {
    "collapsed": true
   },
   "outputs": [
    {
     "data": {
      "text/plain": [
       "binned >2.5 pinacle\n",
       "(0, 5]            NaN\n",
       "(5, 10]           NaN\n",
       "(10, 15]          NaN\n",
       "(15, 20]          NaN\n",
       "(20, 25]          NaN\n",
       "(25, 30]          NaN\n",
       "(30, 35]          NaN\n",
       "(35, 40]     1.390000\n",
       "(40, 45]     0.912391\n",
       "(45, 50]     1.031205\n",
       "(50, 55]     0.964141\n",
       "(55, 60]     0.844486\n",
       "(60, 65]     1.069367\n",
       "(65, 70]     1.075116\n",
       "(70, 75]     1.167143\n",
       "(75, 80]     1.303333\n",
       "(80, 85]     1.210000\n",
       "(85, 90]          NaN\n",
       "(90, 95]          NaN\n",
       "(95, 100]         NaN\n",
       "Name: payout_over_2.5_pinacle, dtype: float64"
      ]
     },
     "execution_count": 217,
     "metadata": {},
     "output_type": "execute_result"
    }
   ],
   "source": [
    "fdf_over_pinacle.groupby('binned >2.5 pinacle')['payout_over_2.5_pinacle'].mean()"
   ]
  },
  {
   "cell_type": "code",
   "execution_count": 257,
   "id": "bd75ca05",
   "metadata": {
    "collapsed": true
   },
   "outputs": [
    {
     "data": {
      "text/plain": [
       "0.9633847549909257"
      ]
     },
     "execution_count": 257,
     "metadata": {},
     "output_type": "execute_result"
    }
   ],
   "source": [
    "fdf_over_pinacle_gb_mean = fdf_over_pinacle['payout_over_2.5_pinacle'].mean()\n",
    "fdf_over_pinacle_gb_mean"
   ]
  },
  {
   "cell_type": "code",
   "execution_count": 229,
   "id": "4ea9b7f0",
   "metadata": {},
   "outputs": [],
   "source": [
    "fdf_over_pinacle_above_60 = fdf_over_pinacle[fdf_over_pinacle['Implied Probability >2.5 pinacle']>60]"
   ]
  },
  {
   "cell_type": "code",
   "execution_count": 220,
   "id": "a4cf561f",
   "metadata": {
    "collapsed": true
   },
   "outputs": [
    {
     "data": {
      "text/plain": [
       "1.0777358490566038"
      ]
     },
     "execution_count": 220,
     "metadata": {},
     "output_type": "execute_result"
    }
   ],
   "source": [
    "fdf_over_pinacle_above_60['payout_over_2.5_pinacle'].mean()"
   ]
  },
  {
   "cell_type": "markdown",
   "id": "7271f40c",
   "metadata": {},
   "source": [
    "#### Closing odds"
   ]
  },
  {
   "cell_type": "code",
   "execution_count": 228,
   "id": "dcfe8c84",
   "metadata": {},
   "outputs": [
    {
     "data": {
      "text/plain": [
       "binned >2.5 pinacle closing\n",
       "(0, 5]         0\n",
       "(5, 10]        0\n",
       "(10, 15]       0\n",
       "(15, 20]       0\n",
       "(20, 25]       0\n",
       "(25, 30]       0\n",
       "(30, 35]       1\n",
       "(35, 40]      12\n",
       "(40, 45]      82\n",
       "(45, 50]     203\n",
       "(50, 55]     281\n",
       "(55, 60]     293\n",
       "(60, 65]     158\n",
       "(65, 70]      56\n",
       "(70, 75]      12\n",
       "(75, 80]       5\n",
       "(80, 85]       2\n",
       "(85, 90]       0\n",
       "(90, 95]       0\n",
       "(95, 100]      0\n",
       "Name: payout_over_2.5_pinacle_closing, dtype: int64"
      ]
     },
     "execution_count": 228,
     "metadata": {},
     "output_type": "execute_result"
    }
   ],
   "source": [
    "fdf_over_pinacle_closing_gb_count = fdf_over_pinacle_closing.groupby('binned >2.5 pinacle closing')['payout_over_2.5_pinacle_closing'].count()\n",
    "fdf_over_pinacle_closing_gb_count"
   ]
  },
  {
   "cell_type": "code",
   "execution_count": 226,
   "id": "424a88e2",
   "metadata": {},
   "outputs": [
    {
     "data": {
      "text/plain": [
       "binned >2.5 pinacle closing\n",
       "(0, 5]            NaN\n",
       "(5, 10]           NaN\n",
       "(10, 15]          NaN\n",
       "(15, 20]          NaN\n",
       "(20, 25]          NaN\n",
       "(25, 30]          NaN\n",
       "(30, 35]     0.000000\n",
       "(35, 40]     1.072500\n",
       "(40, 45]     1.155732\n",
       "(45, 50]     0.931034\n",
       "(50, 55]     0.933559\n",
       "(55, 60]     0.894915\n",
       "(60, 65]     1.055696\n",
       "(65, 70]     1.040000\n",
       "(70, 75]     0.921667\n",
       "(75, 80]     1.320000\n",
       "(80, 85]     1.230000\n",
       "(85, 90]          NaN\n",
       "(90, 95]          NaN\n",
       "(95, 100]         NaN\n",
       "Name: payout_over_2.5_pinacle_closing, dtype: float64"
      ]
     },
     "execution_count": 226,
     "metadata": {},
     "output_type": "execute_result"
    }
   ],
   "source": [
    "fdf_over_pinacle_closing_gb_mean = fdf_over_pinacle_closing.groupby('binned >2.5 pinacle closing')['payout_over_2.5_pinacle_closing'].mean()\n",
    "fdf_over_pinacle_closing_gb_mean"
   ]
  },
  {
   "cell_type": "markdown",
   "id": "eca3df08",
   "metadata": {},
   "source": [
    "## Results per implied prob bet365"
   ]
  },
  {
   "cell_type": "markdown",
   "id": "a4abadb9",
   "metadata": {},
   "source": [
    "### Under"
   ]
  },
  {
   "cell_type": "markdown",
   "id": "c5b84deb",
   "metadata": {},
   "source": [
    "#### Opening odds"
   ]
  },
  {
   "cell_type": "code",
   "execution_count": 240,
   "id": "4c377d92",
   "metadata": {
    "collapsed": true
   },
   "outputs": [
    {
     "data": {
      "text/plain": [
       "binned <2.5 365\n",
       "(0, 5]         0\n",
       "(5, 10]        0\n",
       "(10, 15]       0\n",
       "(15, 20]       0\n",
       "(20, 25]       1\n",
       "(25, 30]       5\n",
       "(30, 35]       9\n",
       "(35, 40]      26\n",
       "(40, 45]     137\n",
       "(45, 50]     458\n",
       "(50, 55]     233\n",
       "(55, 60]     173\n",
       "(60, 65]      58\n",
       "(65, 70]       3\n",
       "(70, 75]       0\n",
       "(75, 80]       0\n",
       "(80, 85]       0\n",
       "(85, 90]       0\n",
       "(90, 95]       0\n",
       "(95, 100]      0\n",
       "Name: payout_under_2.5_365, dtype: int64"
      ]
     },
     "execution_count": 240,
     "metadata": {},
     "output_type": "execute_result"
    }
   ],
   "source": [
    "fdf_under_bet365_gb_count = fdf_under_365.groupby('binned <2.5 365')['payout_under_2.5_365'].count()\n",
    "fdf_under_bet365_gb_count"
   ]
  },
  {
   "cell_type": "code",
   "execution_count": 241,
   "id": "d64f9d96",
   "metadata": {
    "collapsed": true
   },
   "outputs": [
    {
     "data": {
      "text/plain": [
       "binned <2.5 365\n",
       "(0, 5]            NaN\n",
       "(5, 10]           NaN\n",
       "(10, 15]          NaN\n",
       "(15, 20]          NaN\n",
       "(20, 25]     0.000000\n",
       "(25, 30]     0.000000\n",
       "(30, 35]     0.344444\n",
       "(35, 40]     0.788462\n",
       "(40, 45]     0.729197\n",
       "(45, 50]     1.023166\n",
       "(50, 55]     1.053391\n",
       "(55, 60]     0.831561\n",
       "(60, 65]     0.959310\n",
       "(65, 70]     0.500000\n",
       "(70, 75]          NaN\n",
       "(75, 80]          NaN\n",
       "(80, 85]          NaN\n",
       "(85, 90]          NaN\n",
       "(90, 95]          NaN\n",
       "(95, 100]         NaN\n",
       "Name: payout_under_2.5_365, dtype: float64"
      ]
     },
     "execution_count": 241,
     "metadata": {},
     "output_type": "execute_result"
    }
   ],
   "source": [
    "fdf_under_bet365_gb_mean = fdf_under_365.groupby('binned <2.5 365')['payout_under_2.5_365'].mean()\n",
    "fdf_under_bet365_gb_mean"
   ]
  },
  {
   "cell_type": "code",
   "execution_count": 237,
   "id": "f5b7baa4",
   "metadata": {},
   "outputs": [
    {
     "data": {
      "text/plain": [
       "0.9415684496826835"
      ]
     },
     "execution_count": 237,
     "metadata": {},
     "output_type": "execute_result"
    }
   ],
   "source": [
    "fdf_under_365['payout_under_2.5_365'].mean()"
   ]
  },
  {
   "cell_type": "code",
   "execution_count": 231,
   "id": "e5a1828a",
   "metadata": {},
   "outputs": [],
   "source": [
    "fdf_under_365_above_40 = fdf_under_365[fdf_under_365['Implied Probability <2.5 365']>40]"
   ]
  },
  {
   "cell_type": "code",
   "execution_count": 232,
   "id": "a17ec083",
   "metadata": {},
   "outputs": [
    {
     "data": {
      "text/plain": [
       "0.9556967984934087"
      ]
     },
     "execution_count": 232,
     "metadata": {},
     "output_type": "execute_result"
    }
   ],
   "source": [
    "fdf_under_365_above_40['payout_under_2.5_365'].mean()"
   ]
  },
  {
   "cell_type": "markdown",
   "id": "cab820bb",
   "metadata": {},
   "source": [
    "#### Closing odds"
   ]
  },
  {
   "cell_type": "code",
   "execution_count": 244,
   "id": "7bb752be",
   "metadata": {},
   "outputs": [
    {
     "data": {
      "text/plain": [
       "binned <2.5 365 closing\n",
       "(0, 5]         0\n",
       "(5, 10]        0\n",
       "(10, 15]       0\n",
       "(15, 20]       0\n",
       "(20, 25]       3\n",
       "(25, 30]       7\n",
       "(30, 35]      15\n",
       "(35, 40]      49\n",
       "(40, 45]     148\n",
       "(45, 50]     391\n",
       "(50, 55]     217\n",
       "(55, 60]     162\n",
       "(60, 65]     100\n",
       "(65, 70]      14\n",
       "(70, 75]       0\n",
       "(75, 80]       0\n",
       "(80, 85]       0\n",
       "(85, 90]       0\n",
       "(90, 95]       0\n",
       "(95, 100]      0\n",
       "Name: payout_under_2.5_365_closing, dtype: int64"
      ]
     },
     "execution_count": 244,
     "metadata": {},
     "output_type": "execute_result"
    }
   ],
   "source": [
    "fdf_under_bet365_closing_gb_count = fdf_under_365_closing.groupby('binned <2.5 365 closing')['payout_under_2.5_365_closing'].count()\n",
    "fdf_under_bet365_closing_gb_count"
   ]
  },
  {
   "cell_type": "code",
   "execution_count": 245,
   "id": "cd7cd46c",
   "metadata": {
    "collapsed": true
   },
   "outputs": [
    {
     "data": {
      "text/plain": [
       "binned <2.5 365 closing\n",
       "(0, 5]            NaN\n",
       "(5, 10]           NaN\n",
       "(10, 15]          NaN\n",
       "(15, 20]          NaN\n",
       "(20, 25]     0.000000\n",
       "(25, 30]     0.500000\n",
       "(30, 35]     0.956667\n",
       "(35, 40]     0.744898\n",
       "(40, 45]     0.800000\n",
       "(45, 50]     1.031867\n",
       "(50, 55]     0.980968\n",
       "(55, 60]     0.959815\n",
       "(60, 65]     0.798700\n",
       "(65, 70]     0.966429\n",
       "(70, 75]          NaN\n",
       "(75, 80]          NaN\n",
       "(80, 85]          NaN\n",
       "(85, 90]          NaN\n",
       "(90, 95]          NaN\n",
       "(95, 100]         NaN\n",
       "Name: payout_under_2.5_365_closing, dtype: float64"
      ]
     },
     "execution_count": 245,
     "metadata": {},
     "output_type": "execute_result"
    }
   ],
   "source": [
    "fdf_under_bet365_closing_gb_mean = fdf_under_365_closing.groupby('binned <2.5 365 closing')['payout_under_2.5_365_closing'].mean()\n",
    "fdf_under_bet365_closing_gb_mean"
   ]
  },
  {
   "cell_type": "markdown",
   "id": "d066b0ca",
   "metadata": {},
   "source": [
    "### Over"
   ]
  },
  {
   "cell_type": "markdown",
   "id": "12e4a9a9",
   "metadata": {},
   "source": [
    "#### Opening Odds"
   ]
  },
  {
   "cell_type": "code",
   "execution_count": 247,
   "id": "f0ec2853",
   "metadata": {
    "collapsed": true
   },
   "outputs": [
    {
     "data": {
      "text/plain": [
       "binned >2.5 365\n",
       "(0, 5]         0\n",
       "(5, 10]        0\n",
       "(10, 15]       0\n",
       "(15, 20]       0\n",
       "(20, 25]       0\n",
       "(25, 30]       0\n",
       "(30, 35]       0\n",
       "(35, 40]       2\n",
       "(40, 45]      23\n",
       "(45, 50]     246\n",
       "(50, 55]     236\n",
       "(55, 60]     322\n",
       "(60, 65]     205\n",
       "(65, 70]      54\n",
       "(70, 75]       9\n",
       "(75, 80]       5\n",
       "(80, 85]       1\n",
       "(85, 90]       0\n",
       "(90, 95]       0\n",
       "(95, 100]      0\n",
       "Name: payout_over_2.5_365, dtype: int64"
      ]
     },
     "execution_count": 247,
     "metadata": {},
     "output_type": "execute_result"
    }
   ],
   "source": [
    "fdf_over_bet365_gb_count = fdf_over_365.groupby('binned >2.5 365')['payout_over_2.5_365'].count()\n",
    "fdf_over_bet365_gb_count"
   ]
  },
  {
   "cell_type": "code",
   "execution_count": 248,
   "id": "7e9083d7",
   "metadata": {},
   "outputs": [
    {
     "data": {
      "text/plain": [
       "binned >2.5 365\n",
       "(0, 5]            NaN\n",
       "(5, 10]           NaN\n",
       "(10, 15]          NaN\n",
       "(15, 20]          NaN\n",
       "(20, 25]          NaN\n",
       "(25, 30]          NaN\n",
       "(30, 35]          NaN\n",
       "(35, 40]     1.300000\n",
       "(40, 45]     1.097826\n",
       "(45, 50]     1.034350\n",
       "(50, 55]     0.880551\n",
       "(55, 60]     0.868851\n",
       "(60, 65]     0.976537\n",
       "(65, 70]     0.973333\n",
       "(70, 75]     1.231111\n",
       "(75, 80]     1.318000\n",
       "(80, 85]     1.180000\n",
       "(85, 90]          NaN\n",
       "(90, 95]          NaN\n",
       "(95, 100]         NaN\n",
       "Name: payout_over_2.5_365, dtype: float64"
      ]
     },
     "execution_count": 248,
     "metadata": {},
     "output_type": "execute_result"
    }
   ],
   "source": [
    "fdf_over_bet365_gb_mean = fdf_over_365.groupby('binned >2.5 365')['payout_over_2.5_365'].mean()\n",
    "fdf_over_bet365_gb_mean"
   ]
  },
  {
   "cell_type": "code",
   "execution_count": 131,
   "id": "42b66601",
   "metadata": {},
   "outputs": [
    {
     "data": {
      "text/plain": [
       "0.9448462929475587"
      ]
     },
     "execution_count": 131,
     "metadata": {},
     "output_type": "execute_result"
    }
   ],
   "source": [
    "fdf_over_365['payout_over_2.5_365'].mean()"
   ]
  },
  {
   "cell_type": "markdown",
   "id": "c0969105",
   "metadata": {},
   "source": [
    "#### Closing Odds"
   ]
  },
  {
   "cell_type": "code",
   "execution_count": 251,
   "id": "d4f91b68",
   "metadata": {},
   "outputs": [
    {
     "data": {
      "text/plain": [
       "binned >2.5 365 closing\n",
       "(0, 5]         0\n",
       "(5, 10]        0\n",
       "(10, 15]       0\n",
       "(15, 20]       0\n",
       "(20, 25]       0\n",
       "(25, 30]       0\n",
       "(30, 35]       0\n",
       "(35, 40]       6\n",
       "(40, 45]      53\n",
       "(45, 50]     236\n",
       "(50, 55]     224\n",
       "(55, 60]     279\n",
       "(60, 65]     202\n",
       "(65, 70]      81\n",
       "(70, 75]      15\n",
       "(75, 80]       8\n",
       "(80, 85]       2\n",
       "(85, 90]       0\n",
       "(90, 95]       0\n",
       "(95, 100]      0\n",
       "Name: payout_over_2.5_365_closing, dtype: int64"
      ]
     },
     "execution_count": 251,
     "metadata": {},
     "output_type": "execute_result"
    }
   ],
   "source": [
    "fdf_over_bet365_closing_gb_count = fdf_over_365_closing.groupby('binned >2.5 365 closing')['payout_over_2.5_365_closing'].count()\n",
    "fdf_over_bet365_closing_gb_count"
   ]
  },
  {
   "cell_type": "code",
   "execution_count": 252,
   "id": "901ec7b4",
   "metadata": {},
   "outputs": [
    {
     "data": {
      "text/plain": [
       "binned >2.5 365 closing\n",
       "(0, 5]            NaN\n",
       "(5, 10]           NaN\n",
       "(10, 15]          NaN\n",
       "(15, 20]          NaN\n",
       "(20, 25]          NaN\n",
       "(25, 30]          NaN\n",
       "(30, 35]          NaN\n",
       "(35, 40]     0.833333\n",
       "(40, 45]     1.083962\n",
       "(45, 50]     0.975636\n",
       "(50, 55]     0.931518\n",
       "(55, 60]     0.854229\n",
       "(60, 65]     0.942079\n",
       "(65, 70]     1.107407\n",
       "(70, 75]     0.920000\n",
       "(75, 80]     1.136250\n",
       "(80, 85]     1.210000\n",
       "(85, 90]          NaN\n",
       "(90, 95]          NaN\n",
       "(95, 100]         NaN\n",
       "Name: payout_over_2.5_365_closing, dtype: float64"
      ]
     },
     "execution_count": 252,
     "metadata": {},
     "output_type": "execute_result"
    }
   ],
   "source": [
    "fdf_over_bet365_closing_gb_mean = fdf_over_365_closing.groupby('binned >2.5 365 closing')['payout_over_2.5_365_closing'].mean()\n",
    "fdf_over_bet365_closing_gb_mean"
   ]
  },
  {
   "cell_type": "code",
   "execution_count": 256,
   "id": "6929b581",
   "metadata": {},
   "outputs": [
    {
     "data": {
      "text/plain": [
       "0.9448462929475587"
      ]
     },
     "execution_count": 256,
     "metadata": {},
     "output_type": "execute_result"
    }
   ],
   "source": [
    "fdf_over_365_closing['payout_over_2.5_365_closing'].mean()"
   ]
  }
 ],
 "metadata": {
  "kernelspec": {
   "display_name": "Python 3 (ipykernel)",
   "language": "python",
   "name": "python3"
  },
  "language_info": {
   "codemirror_mode": {
    "name": "ipython",
    "version": 3
   },
   "file_extension": ".py",
   "mimetype": "text/x-python",
   "name": "python",
   "nbconvert_exporter": "python",
   "pygments_lexer": "ipython3",
   "version": "3.8.12"
  },
  "toc": {
   "base_numbering": 1,
   "nav_menu": {},
   "number_sections": true,
   "sideBar": true,
   "skip_h1_title": false,
   "title_cell": "Table of Contents",
   "title_sidebar": "Contents",
   "toc_cell": false,
   "toc_position": {
    "height": "calc(100% - 180px)",
    "left": "10px",
    "top": "150px",
    "width": "303.837px"
   },
   "toc_section_display": true,
   "toc_window_display": true
  },
  "varInspector": {
   "cols": {
    "lenName": 16,
    "lenType": 16,
    "lenVar": 40
   },
   "kernels_config": {
    "python": {
     "delete_cmd_postfix": "",
     "delete_cmd_prefix": "del ",
     "library": "var_list.py",
     "varRefreshCmd": "print(var_dic_list())"
    },
    "r": {
     "delete_cmd_postfix": ") ",
     "delete_cmd_prefix": "rm(",
     "library": "var_list.r",
     "varRefreshCmd": "cat(var_dic_list()) "
    }
   },
   "types_to_exclude": [
    "module",
    "function",
    "builtin_function_or_method",
    "instance",
    "_Feature"
   ],
   "window_display": false
  }
 },
 "nbformat": 4,
 "nbformat_minor": 5
}
