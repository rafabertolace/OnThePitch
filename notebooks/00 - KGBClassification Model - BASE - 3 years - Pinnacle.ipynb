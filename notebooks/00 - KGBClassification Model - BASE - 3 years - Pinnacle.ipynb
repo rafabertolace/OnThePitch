{
 "cells": [
  {
   "cell_type": "markdown",
   "id": "75d64e98",
   "metadata": {},
   "source": [
    "# Imports and installs"
   ]
  },
  {
   "cell_type": "code",
   "execution_count": 26,
   "id": "5ea88ba1",
   "metadata": {},
   "outputs": [],
   "source": [
    "# #Only Rafa\n",
    "from jupyterthemes import jtplot\n",
    "jtplot.style(theme='monokai', context='notebook', ticks=True, grid=False)"
   ]
  },
  {
   "cell_type": "code",
   "execution_count": 27,
   "id": "1aa8753c",
   "metadata": {},
   "outputs": [],
   "source": [
    "import pandas as pd\n",
    "import os\n",
    "from os import listdir\n",
    "from os.path import isfile, join\n",
    "import matplotlib.pyplot as plt\n",
    "from scipy.stats import mode\n",
    "from sklearn.preprocessing import OneHotEncoder\n",
    "from sklearn.linear_model import LogisticRegression\n",
    "import numpy as np\n",
    "import xgboost as xgb\n",
    "import sklearn\n",
    "from sklearn.model_selection import train_test_split\n",
    "import statsmodels.api as sm\n",
    "import seaborn as sns\n",
    "from sklearn.ensemble import RandomForestRegressor\n",
    "import sklearn\n",
    "import shap\n",
    "from sklearn.metrics import r2_score, accuracy_score, precision_score"
   ]
  },
  {
   "cell_type": "markdown",
   "id": "03ce4b9d",
   "metadata": {},
   "source": [
    "# Loading the Dataframe"
   ]
  },
  {
   "cell_type": "markdown",
   "id": "7e6cea11",
   "metadata": {},
   "source": [
    "## Merging the Seasons csv files (2019-2020 untill 2021-2022)"
   ]
  },
  {
   "cell_type": "code",
   "execution_count": 28,
   "id": "a20d9e68",
   "metadata": {},
   "outputs": [
    {
     "name": "stdout",
     "output_type": "stream",
     "text": [
      "['spain_2019_2020_1.csv', 'italy_2020_2021_2.csv', 'italy_2021_2022_1.csv', 'italy_2021_2022_2.csv', 'spain_2020_2021_1.csv', 'spain_2020_2021_2.csv', 'scotland_2020_2021_2.csv', 'Turkey_2021_2022_1.csv', 'scotland_2020_2021_3.csv', 'scotland_2019_2020_1.csv', 'france_2021_2022_1.csv', 'germany_2021_2022_1.csv', 'belgium_2020_2021_1.csv', 'scotland_2021_2022_4.csv', 'scotland_2020_2021_1.csv', 'france_2019_2020_1.csv', 'germany_2021_2022_2.csv', 'germany_2019_2020_1.csv', 'england_2020_2021_3.csv', 'scotland_2019_2020_2.csv', 'italy_2019_2020_1.csv', 'scotland_2020_2021_4.csv', 'portugal_2021_2022_1.csv', 'france_2020_2021_2.csv', 'scotland_2021_2022_3.csv', 'england_2021_2022_3.csv', 'portugal_2019_2020_1.csv', 'Greece_2021_2022_1.csv', 'england_2020_2021_4.csv', 'england_2021_2022_4.csv', 'france_2020_2021_1.csv', 'germany_2020_2021_1.csv', 'scotland_2019_2020_4.csv', 'spain_2019_20220_2.csv', 'germany_2019_2020_2.csv', 'england_2019_2020_4.csv', 'scotland_2021_2022_1.csv', 'england_2020_2021_2.csv', 'france_2019_2020_2.csv', 'Turkey_2019_2020_1.csv', 'england_2019_2020_2.csv', 'Eredivisie_2021_2022_1.csv', 'Turkey_2020_2021_1.csv', 'spain_2021_2022_1.csv', 'france_2021_2022_2.csv', 'belgium_2021_2022_1.csv', 'Greece_2019_2020_1.csv', 'belgium_2019_2020_1.csv', 'england_2019_2020_1.csv', 'Greece_2020_2021_1.csv', 'spain_2021_2022_2.csv', 'italy_2019_2020_2.csv', 'portugal_2020_2021_1.csv', 'Eredivisie_2020_2021_1.csv', 'italy_2020_2021_1.csv', 'Eredivisie_2019_2020_1.csv', 'england_2021_2022_2.csv', 'england_2020_2021_1.csv', 'england_2019_2020_3.csv', 'scotland_2021_2022_2.csv', 'scotland_2019_2020_3.csv', 'england_2021_2022_1.csv', 'germany_2020_2021_2.csv']\n"
     ]
    }
   ],
   "source": [
    "# Customise based on your path and folder organisation\n",
    "print(os.listdir('../raw_data/All4'))"
   ]
  },
  {
   "cell_type": "code",
   "execution_count": 29,
   "id": "72b755ae",
   "metadata": {},
   "outputs": [],
   "source": [
    "# Concatenate all the CSVs\n",
    "files = [file for file in os.listdir('../raw_data/All4') if file.endswith('.csv')]\n",
    "data = pd.DataFrame()\n",
    "\n",
    "for file in files:\n",
    "    df = pd.read_csv('../raw_data/All4/' + file)\n",
    "    df['country']=str(file)[0:2]\n",
    "    df['country_division']=int(str(file)[-5:-4])\n",
    "    data = pd.concat([data, df])"
   ]
  },
  {
   "cell_type": "code",
   "execution_count": 30,
   "id": "272fdf06",
   "metadata": {},
   "outputs": [],
   "source": [
    "# Getting all data\n",
    "\n",
    "def get_data(league1, wall=False):\n",
    "    if wall:\n",
    "        data = pd.DataFrame()\n",
    "        leagues = listdir(f'./../raw_data/')\n",
    "        data = pd.DataFrame()\n",
    "        for league in leagues:\n",
    "            files = listdir(f'./../raw_data/{league}')\n",
    "            for file in files:\n",
    "                df = pd.read_csv((f'./../raw_data/{league}/'+file))\n",
    "                df['country']=str(file)[0:2]\n",
    "                data = pd.concat([data, df])\n",
    "        return data\n",
    "    else:\n",
    "        files = [file for file in listdir(f'./../raw_data/{league1}')]\n",
    "        data = pd.DataFrame()\n",
    "        for file in files:\n",
    "            df = pd.read_csv(f'./../raw_data/{league1}/'+file)\n",
    "            data = pd.concat([data, df])\n",
    "        return data"
   ]
  },
  {
   "cell_type": "markdown",
   "id": "8c122549",
   "metadata": {},
   "source": [
    "# Features Engineering"
   ]
  },
  {
   "cell_type": "code",
   "execution_count": 31,
   "id": "46e8bed8",
   "metadata": {},
   "outputs": [],
   "source": [
    "#Loading the function\n",
    "\n",
    "def feature_engineering(data, b=20, binned=False):\n",
    "    '''\n",
    "    This function creates all the columns that will be needed to create the analysis \n",
    "    and return the dataframe with all this changes\n",
    "    \n",
    "    b is the number of bins that we want to work with. Our start value for b will be 20.\n",
    "        '''\n",
    "    #------------------------Number of Goals, Over and Under -----------------------------------\n",
    "    \n",
    "    # total number of goals = goals from the home team + goals from visiting team\n",
    "    data['nb_goals']=data['FTHG']+data['FTAG']\n",
    "\n",
    "    # boolean: true or false regarding whether they were more than 2.5 goals\n",
    "    data['over_2.5_goals']=data['nb_goals']>2.5\n",
    "\n",
    "    # boolean: true or false regarding whether they were less than 2.5 goals\n",
    "    data['under_2.5_goals']=data['nb_goals']<2.5\n",
    "    \n",
    "    #-----------------------------Payout Opening ----------------------------------------------\n",
    "    \n",
    "    # payout under 2.5 for Average OPENING odds\n",
    "    data['payout_avg_under_2.5'] = data['under_2.5_goals']*data['Avg<2.5']\n",
    "\n",
    "    # payout over 2.5 for Average OPENING odds\n",
    "    data['payout_avg_over_2.5'] = data['over_2.5_goals']*data['Avg>2.5']\n",
    "\n",
    "    #payout UNDER 2.5 for PINACLE specifically\n",
    "    data['payout_under_2.5_pinacle'] = data['under_2.5_goals']*data['P<2.5']\n",
    "\n",
    "    #payout OVER 2.5 for PINACLE specifically\n",
    "    data['payout_over_2.5_pinacle'] = data['over_2.5_goals']*data['P>2.5']\n",
    "\n",
    "    #payout UNDER 2.5 for 365 specifically\n",
    "    data['payout_under_2.5_365'] = data['under_2.5_goals']*data['B365<2.5']\n",
    "\n",
    "    #payout OVER 2.5 for 365 specifically\n",
    "    data['payout_over_2.5_365'] = data['over_2.5_goals']*data['B365>2.5']\n",
    "    \n",
    "    #------------------------------Payout Closing --------------------------------------------\n",
    "    \n",
    "    # payout under 2.5 for Average CLOSING odds\n",
    "    data['payout_avg_under_closing_2.5'] = data['under_2.5_goals']*data['AvgC<2.5']\n",
    "\n",
    "    # payout over 2.5 for Average CLOSING odds\n",
    "    data['payout_avg_over_closing_2.5'] = data['over_2.5_goals']*data['AvgC>2.5']\n",
    "\n",
    "    #payout UNDER 2.5 for PINACLE closing ddds specifically\n",
    "    data['payout_under_2.5_pinacle_closing'] = data['under_2.5_goals']*data['PC<2.5']\n",
    "\n",
    "    #payout OVER 2.5 for PINACLE closing odds specifically\n",
    "    data['payout_over_2.5_pinacle_closing'] = data['over_2.5_goals']*data['PC>2.5']\n",
    "\n",
    "    #payout UNDER 2.5 for 365 closing odds specifically\n",
    "    data['payout_under_2.5_365_closing'] = data['under_2.5_goals']*data['B365C<2.5']\n",
    "\n",
    "    #payout OVER 2.5 for 365 closing odds specifically\n",
    "    data['payout_over_2.5_365_closing'] = data['over_2.5_goals']*data['B365C>2.5']\n",
    "    \n",
    "    #-------------------------- Implied Probability Opening ----------------------------------------\n",
    "    \n",
    "    #Implied Probability UNDER 2.5 goals for for overall market opening odds (Avg) \n",
    "    data['Implied Probability <2.5 avg']=1/data['Avg<2.5']*100\n",
    "\n",
    "    #Implied Probability OVER 2.5 goals for for overall market opening odds (Avg) \n",
    "    data['Implied Probability >2.5 avg']=1/data['Avg>2.5']*100\n",
    "\n",
    "    #Implied Probability UNDER 2.5 goals for PINACLE\n",
    "    data['Implied Probability <2.5 pinacle']=1/data['P<2.5']*100\n",
    "\n",
    "    #Implied Probability OVER 2.5 goals for PINACLE\n",
    "    data['Implied Probability >2.5 pinacle']=1/data['P>2.5']*100\n",
    "\n",
    "    #Implied Probability UNDER 2.5 goals for 365\n",
    "    data['Implied Probability <2.5 365']=1/data['B365<2.5']*100\n",
    "\n",
    "    #Implied Probability OVER 2.5 goals for 365\n",
    "    data['Implied Probability >2.5 365']=1/data['B365>2.5']*100\n",
    "    \n",
    "    #------------------------- Implied Probability Closing -----------------------------------\n",
    "    \n",
    "    #Implied Probability UNDER 2.5 goals for overall market closing odds (AvgC)\n",
    "    data['Implied Probability <2.5 avg closing']=1/data['AvgC<2.5']*100\n",
    "\n",
    "    #Implied Probability OVER 2.5 goals for overall market closing odds (AvgC)\n",
    "    data['Implied Probability >2.5 avg closing']=1/data['AvgC>2.5']*100\n",
    "\n",
    "    #Implied Probability UNDER 2.5 goals for PINACLE closing odds\n",
    "    data['Implied Probability <2.5 pinacle closing']=1/data['PC<2.5']*100\n",
    "\n",
    "    #Implied Probability OVER 2.5 goals for PINACLE closing odds\n",
    "    data['Implied Probability >2.5 pinacle closing']=1/data['PC>2.5']*100\n",
    "\n",
    "    #Implied Probability UNDER 2.5 goals for 365 closing odds\n",
    "    data['Implied Probability <2.5 365 closing']=1/data['B365C<2.5']*100\n",
    "\n",
    "    #Implied Probability OVER 2.5 goals for 365 closing odds\n",
    "    data['Implied Probability >2.5 365 closing']=1/data['B365C>2.5']*100\n",
    "    \n",
    "    #---------------------------- Binning IP Opening -------------------------------------\n",
    "\n",
    "    b=b\n",
    "    bins = np.arange(0, 101, int(100/b))\n",
    "    bins = bins.tolist()\n",
    "\n",
    "    #Binning UNDER 2.5 Average Market opening odds\n",
    "    data['binned <2.5 avg'] = pd.cut(data['Implied Probability <2.5 avg'], bins)\n",
    "\n",
    "    #Binning Over 2.5 Average Market opening odds\n",
    "    data['binned >2.5 avg'] = pd.cut(data['Implied Probability >2.5 avg'], bins)\n",
    "\n",
    "    #Binned UNDER 2.5 Pinnacle opening odds\n",
    "    data['binned <2.5 pinacle'] = pd.cut(data['Implied Probability <2.5 pinacle'], bins)\n",
    "\n",
    "    #Binned OVER 2.5 Pinnacle\n",
    "    data['binned >2.5 pinacle'] = pd.cut(data['Implied Probability >2.5 pinacle'], bins)\n",
    "\n",
    "    #Binned UNDER 2.5 bet365 OPENING odds\n",
    "    data['binned <2.5 365'] = pd.cut(data['Implied Probability <2.5 365'], bins)\n",
    "\n",
    "    #Binned OVER 2.5 bet365 OPENING odds\n",
    "    data['binned >2.5 365'] = pd.cut(data['Implied Probability >2.5 365'], bins)\n",
    "    \n",
    "    #----------------------------- Binning IP Closing ------------------------------------------------\n",
    "\n",
    "    #Binning UNDER 2.5 Average Market closing odds\n",
    "    data['binned <2.5 avg closing'] = pd.cut(data['Implied Probability <2.5 avg closing'], bins)\n",
    "\n",
    "    #Binning OVER 2.5 Average Market closing odds\n",
    "    data['binned >2.5 avg closing'] = pd.cut(data['Implied Probability >2.5 avg closing'], bins)\n",
    "\n",
    "    #Binned UNDER 2.5 Pinnacle closing odds\n",
    "    data['binned <2.5 pinacle closing'] = pd.cut(data['Implied Probability <2.5 pinacle closing'], bins)\n",
    "\n",
    "    #Binned OVER 2.5 Pinnacle CLOSING odds\n",
    "    data['binned >2.5 pinacle closing'] = pd.cut(data['Implied Probability >2.5 pinacle closing'], bins)\n",
    "\n",
    "    #Binned UNDER 2.5 bet365 CLOSING odds\n",
    "    data['binned <2.5 365 closing'] = pd.cut(data['Implied Probability <2.5 365 closing'], bins)\n",
    "\n",
    "    #Binned OVER 2.5 bet365 CLOSING odds\n",
    "    data['binned >2.5 365 closing'] = pd.cut(data['Implied Probability >2.5 365 closing'], bins)\n",
    "    \n",
    "    #---------------------------- Binning Odds Opening ----------------------------------------------------\n",
    "    \n",
    "    bins2 = [1, 1.5, 2, 3, 10]\n",
    "\n",
    "    #Binning UNDER 2.5 Average Market opening odds\n",
    "    data['binned odds <2.5 avg'] = pd.cut(data['Avg<2.5'], bins2)\n",
    "\n",
    "    #Binning Over 2.5 Average Market opening odds\n",
    "    data['binned odds >2.5 avg'] = pd.cut(data['Avg>2.5'], bins2)\n",
    "\n",
    "    #Binned UNDER 2.5 Pinnacle opening odds\n",
    "    data['binned odds <2.5 pinacle'] = pd.cut(data['P<2.5'], bins2)\n",
    "\n",
    "    #Binned OVER 2.5 Pinnacle\n",
    "    data['binned odds >2.5 pinacle'] = pd.cut(data['P>2.5'], bins2)\n",
    "\n",
    "    #Binned UNDER 2.5 bet365 OPENING odds\n",
    "    data['binned odds <2.5 365'] = pd.cut(data['B365<2.5'], bins2)\n",
    "\n",
    "    #Binned OVER 2.5 bet365 OPENING odds\n",
    "    data['binned odds >2.5 365'] = pd.cut(data['B365>2.5'], bins2)\n",
    "    \n",
    "    #----------------------------- Binning Odds Closing ----------------------------------------------------------\n",
    "    \n",
    "    #Binning UNDER 2.5 Average Market opening odds\n",
    "    data['binned odds <2.5 avg closing'] = pd.cut(data['AvgC<2.5'], bins2)\n",
    "\n",
    "    #Binning Over 2.5 Average Market opening odds\n",
    "    data['binned odds >2.5 avg closing'] = pd.cut(data['AvgC>2.5'], bins2)\n",
    "\n",
    "    #Binned UNDER 2.5 Pinnacle opening odds\n",
    "    data['binned odds <2.5 pinacle closing'] = pd.cut(data['PC<2.5'], bins2)\n",
    "\n",
    "    #Binned OVER 2.5 Pinnacle\n",
    "    data['binned odds >2.5 pinacle closing'] = pd.cut(data['PC>2.5'], bins2)\n",
    "\n",
    "    #Binned UNDER 2.5 bet365 OPENING odds\n",
    "    data['binned odds <2.5 365 closing'] = pd.cut(data['B365C<2.5'], bins2)\n",
    "\n",
    "    #Binned OVER 2.5 bet365 OPENING odds\n",
    "    data['binned odds >2.5 365 closing'] = pd.cut(data['B365C>2.5'], bins2)\n",
    "    \n",
    "    \n",
    "    #----------------------------- Other Features from D3 ------------------------------------------------------\n",
    "    \n",
    "    data['Pin_pays_better_under_boolean'] = data['PC<2.5'] > data['AvgC<2.5']\n",
    "    data['Pin_pays_better_under_difference'] = data['PC<2.5'] / data['AvgC<2.5']\n",
    "    data['%vig_p'] = (1 - (1 / (1/data['PC>2.5'] + 1/data['PC<2.5'])))*100\n",
    "    data['%vig_avg'] = (1 - (1 / (1/data['AvgC>2.5'] + 1/data['AvgC<2.5'])))*100\n",
    "    data['PC<2.5_P_boolean'] = data['PC<2.5'] < data['P<2.5']\n",
    "    data['PC<2.5_P_relative_diff'] = data['PC<2.5'] / data['P<2.5']\n",
    "    \n",
    "    #----------------------- Odds and probability of the home team scoring under 2.5 -------------------------------\n",
    "    \n",
    "\n",
    "    \n",
    "    #------------------------------------ Cleaning the data ---------------------------------------------------------\n",
    "    \n",
    "    #data = data.dropna(subset=['HomeTeam', 'AwayTeam'], how='any')\n",
    "    data = data[~data['HomeTeam'].isna()]\n",
    "    data = data[~data['AwayTeam'].isna()]\n",
    "    data = data[~data['PC>2.5'].isna()]\n",
    "    data.drop(columns=['Referee','Unnamed: 105'], inplace=True) #, 'Unnamed: 105' 'Referee', \n",
    "    #data.dropna()\n",
    "    \n",
    "     #-------------------------- OneHotEncoding the binned odds ------------------------------------------\n",
    "   \n",
    "    ohe = OneHotEncoder(sparse=False) \n",
    "    ohe.fit(data[['binned odds <2.5 pinacle closing']])\n",
    "    bins_encoded = ohe.transform(data[['binned odds <2.5 pinacle closing']])\n",
    "    data[\"1.0_to_1.5\"], data[\"1.5_to_2.0\"], data[\"2.0_to_3\"], data[\"3_to_10\"] = bins_encoded.T\n",
    "    data.drop(columns='binned odds <2.5 pinacle closing', inplace=True)\n",
    "    \n",
    "    #-------------------------- OneHotEncoding the binned odds ------------------------------------------\n",
    "   \n",
    "    ohe = OneHotEncoder(sparse=False) \n",
    "    ohe.fit(data[['binned odds <2.5 avg closing']])\n",
    "    bins_encoded = ohe.transform(data[['binned odds <2.5 avg closing']])\n",
    "    data[\"avg_1.0_to_1.5\"], data[\"avg_1.5_to_2.0\"], data[\"avg_2.0_to_3\"], data[\"avg_3_to_10\"] = bins_encoded.T\n",
    "    data.drop(columns='binned odds <2.5 avg closing', inplace=True)\n",
    "    \n",
    "    \n",
    "    #-------------------------- OneHotEncoding the binned countries ------------------------------------------\n",
    "\n",
    "    ohe = OneHotEncoder(sparse=False) \n",
    "    ohe.fit(data[['country']])\n",
    "    bins_encoded = ohe.transform(data[['country']])\n",
    "    data[\"country_1\"], data[\"country_2\"], data[\"country_3\"], data[\"country_4\"], data[\"country_5\"],data[\"country_6\"], data[\"country_7\"], data[\"country_8\"], data[\"country_9\"], data[\"country_10\"], data[\"country_11\"] = bins_encoded.T\n",
    "    data.drop(columns='country', inplace=True)\n",
    "\n",
    "    #-------------------------- OneHotEncoding the binned country divisions ------------------------------------------\n",
    "    \n",
    "    ohe = OneHotEncoder(sparse=False) \n",
    "    ohe.fit(data[['country_division']])\n",
    "    bins_encoded = ohe.transform(data[['country_division']])\n",
    "    data[\"country_div_1\"], data[\"country_div_2\"], data[\"country_div_3\"], data[\"country_div_4\"] = bins_encoded.T\n",
    "    #data.drop(columns='country_division', inplace=True)\n",
    "    \n",
    "    return data"
   ]
  },
  {
   "cell_type": "code",
   "execution_count": 32,
   "id": "92d26946",
   "metadata": {},
   "outputs": [],
   "source": [
    "#Running the function and creating the dataset data\n",
    "\n",
    "data = feature_engineering(data, b=5)"
   ]
  },
  {
   "cell_type": "code",
   "execution_count": 33,
   "id": "0eed5707",
   "metadata": {},
   "outputs": [],
   "source": [
    "## WE WILL NEED TO ADD ALL THOSE IN THE feature_engineering FUNCTION\n",
    "\n",
    "## Adding the Year Feature \n",
    "data_date = data['Date']\n",
    "data_time = data['Time']\n",
    "data_date_2 = pd.to_datetime(data_date, dayfirst = True)\n",
    "data_time_2 = pd.to_datetime(data_time, dayfirst = True)\n",
    "data['month'] = pd.DatetimeIndex(data_date_2).month\n",
    "data['month_after_July'] = data['month']>=7\n",
    "data['year'] = pd.DatetimeIndex(data_date_2).year\n",
    "data['year_2021_2022'] = data['year']>=2021\n",
    "data['year_2022'] = data['year']>=2022\n",
    "data['year_2020'] = data['year']==2020\n",
    "data['season_21_22'] = data_date_2>='2021-09-01'\n",
    "data['season_20_21'] = (data_date_2>='2020-09-01') & (data_date_2<'2021-09-01')\n",
    "data['season_training2'] = (data_date_2<'2020-09-01')\n",
    "\n",
    "data['hour'] = pd.DatetimeIndex(data_time_2).hour\n",
    "data['game_starts_after_4pm']=data['hour']>=16\n",
    "\n",
    "#Other features\n",
    "data['Pin_pays_better_under_boolean'] = data['PC<2.5'] > data['AvgC<2.5']\n",
    "data['Pin_pays_better_under_difference'] = data['PC<2.5'] / data['AvgC<2.5']\n",
    "data['%vig_p'] = (1 - (1 / (1/data['PC>2.5'] + 1/data['PC<2.5'])))*100\n",
    "data['%vig_p_bool'] = data['%vig_p']>3.3\n",
    "data['%vig_avg'] = (1 - (1 / (1/data['AvgC>2.5'] + 1/data['AvgC<2.5'])))*100\n",
    "data['%vig_avg_bool'] = data['%vig_avg']>5.4\n",
    "data['PC<2.5_P_boolean'] = data['PC<2.5'] < data['P<2.5']\n",
    "data['PC<2.5_P_relative_diff'] = data['PC<2.5'] / data['P<2.5']\n",
    "data['MaxC>2.5_AvgC_relative_diff'] = data['MaxC>2.5']/data['AvgC>2.5']\n",
    "data['Market_consensus'] = data['MaxC>2.5_AvgC_relative_diff']<1.05"
   ]
  },
  {
   "cell_type": "code",
   "execution_count": 34,
   "id": "cf08f1b4",
   "metadata": {},
   "outputs": [],
   "source": [
    "data['month_number']=data['month']\n",
    "data['month_number_ratio']=data['month']/12"
   ]
  },
  {
   "cell_type": "code",
   "execution_count": 35,
   "id": "6fee0fe6",
   "metadata": {},
   "outputs": [],
   "source": [
    "data['year_number'] = data['year'].map({2019:1, 2020:2, 2021:3, 2022:4})\n",
    "data['year_number_ratio'] = data['year'].map({2019:1, 2020:2, 2021:3, 2022:4})/4\n",
    "data['year_number_month_ratio'] = data['year_number']+data['month_number_ratio']\n",
    "data['year_number_month_decimal'] = data['year_number']+data['month_number']/10"
   ]
  },
  {
   "cell_type": "code",
   "execution_count": 36,
   "id": "29383006",
   "metadata": {},
   "outputs": [],
   "source": [
    "ohe = OneHotEncoder(sparse=False) \n",
    "ohe.fit(data[['year_number']])\n",
    "bins_encoded = ohe.transform(data[['year_number']])\n",
    "data[\"year_1\"], data[\"year_2\"], data[\"year_3\"], data[\"year_4\"] = bins_encoded.T\n",
    "   # data.drop(columns='country_division', inplace=True)"
   ]
  },
  {
   "cell_type": "code",
   "execution_count": 37,
   "id": "22e0c140",
   "metadata": {},
   "outputs": [],
   "source": [
    "ohe = OneHotEncoder(sparse=False) \n",
    "ohe.fit(data[['month_number']])\n",
    "bins_encoded = ohe.transform(data[['month_number']])\n",
    "data[\"month_1\"], data[\"month_2\"], data[\"month_3\"], data[\"month_4\"], data[\"month_5\"], data[\"month_6\"], data[\"month_7\"], data[\"month_8\"], data[\"month_9\"], data[\"month_10\"], data[\"month_11\"], data[\"month_12\"] = bins_encoded.T\n",
    "   # data.drop(columns='country_division', inplace=True)"
   ]
  },
  {
   "cell_type": "code",
   "execution_count": 38,
   "id": "41b40963",
   "metadata": {},
   "outputs": [],
   "source": [
    "ohe = OneHotEncoder(sparse=False) \n",
    "ohe.fit(data[['game_starts_after_4pm']])\n",
    "bins_encoded = ohe.transform(data[['game_starts_after_4pm']])\n",
    "data[\"game_starts_after_4pm_1\"], data[\"game_starts_after_4pm_2\"] = bins_encoded.T\n",
    "   # data.drop(columns='country_division', inplace=True)"
   ]
  },
  {
   "cell_type": "code",
   "execution_count": 39,
   "id": "e9c76272",
   "metadata": {},
   "outputs": [],
   "source": [
    "ohe = OneHotEncoder(sparse=False) \n",
    "ohe.fit(data[['game_starts_after_4pm']])\n",
    "bins_encoded = ohe.transform(data[['game_starts_after_4pm']])\n",
    "data[\"game_starts_after_4pm_1\"], data[\"game_starts_after_4pm_2\"] = bins_encoded.T\n",
    "   # data.drop(columns='country_division', inplace=True)"
   ]
  },
  {
   "cell_type": "code",
   "execution_count": 40,
   "id": "88298532",
   "metadata": {},
   "outputs": [],
   "source": [
    "data['hour_number'] = data['hour'].map({10:1, 11:2, 12:3, 13:4, 14:5, 15:6, 16:7, 17:8, 18:9, 19:10, 20:11, 21:12})\n",
    "data['hour_number_2'] = data['hour'].map({10:1, 11:1, 12:1, 13:2, 14:2, 15:2, 16:3, 17:3, 18:3, 19:4, 20:4, 21:4})\n",
    "data['hour_number_2_ratio'] = data['hour'].map({10:1, 11:1, 12:1, 13:2, 14:2, 15:2, 16:3, 17:3, 18:3, 19:4, 20:4, 21:4})/4\n",
    "data['hour_number_ratio'] = data['hour'].map({10:1, 11:2, 12:3, 13:4, 14:5, 15:6, 16:7, 17:8, 18:9, 19:10, 20:11, 21:12})/12"
   ]
  },
  {
   "cell_type": "code",
   "execution_count": 41,
   "id": "19a30fcf",
   "metadata": {},
   "outputs": [],
   "source": [
    "ohe = OneHotEncoder(sparse=False) \n",
    "ohe.fit(data[['hour_number_2']])\n",
    "bins_encoded = ohe.transform(data[['hour_number_2']])\n",
    "data[\"hour_group_1\"], data[\"hour_group_2\"], data[\"hour_group_3\"], data[\"hour_group_4\"] = bins_encoded.T\n",
    "   # data.drop(columns='country_division', inplace=True)"
   ]
  },
  {
   "cell_type": "code",
   "execution_count": 42,
   "id": "6f1cf2bb",
   "metadata": {},
   "outputs": [],
   "source": [
    "data['PC<2.5']\n",
    "\n",
    "data.rename(columns = {'PC<2.5':'PC_under_2.5'}, inplace = True)"
   ]
  },
  {
   "cell_type": "markdown",
   "id": "687d2cfb",
   "metadata": {},
   "source": [
    "# Running the XGB model for under 2.5"
   ]
  },
  {
   "cell_type": "markdown",
   "id": "052b2a78",
   "metadata": {},
   "source": [
    "## Creating the Dataset, X_train, X_test..."
   ]
  },
  {
   "cell_type": "code",
   "execution_count": 43,
   "id": "674cb54a",
   "metadata": {},
   "outputs": [],
   "source": [
    "# Creating the model dataset with relevant variables\n",
    "data_linear_booleans_lean_P_under = data[['year_number','year_number_ratio','year_number_month_ratio','year_number_month_decimal','month_number','month_number_ratio','country_div_1','country_div_2','country_div_3','country_div_4','month_after_July','season_21_22','year_2020','game_starts_after_4pm','Market_consensus','%vig_p_bool','%vig_avg_bool','avg_1.0_to_1.5','avg_1.5_to_2.0','avg_2.0_to_3','avg_3_to_10','payout_under_2.5_pinacle_closing',\"1.0_to_1.5\", \"1.5_to_2.0\", \"2.0_to_3\", \"3_to_10\",'year_1','year_2','year_3','year_4','month_1','month_2','month_3','month_4','month_5','month_6','month_7','month_8','month_9','month_10','month_11','month_12','hour_number','hour_number_ratio','hour_number_2','hour_number_2_ratio',\"game_starts_after_4pm_1\",\"game_starts_after_4pm_2\",'hour_group_1','hour_group_2','hour_group_3','hour_group_4','country_division','season_training2','season_20_21']]"
   ]
  },
  {
   "cell_type": "code",
   "execution_count": 140,
   "id": "a8c7a488",
   "metadata": {},
   "outputs": [],
   "source": [
    "#reset the indices\n",
    "data_linear_booleans_lean_P_under.reset_index(inplace=True, drop=True)\n",
    "\n",
    "# Select here the variables you want to include in the testing\n",
    "#'hour_number','hour_number_ratio',\"hour_10\",\"hour_11\",\"hour_12\",\"hour_13\",\"hour_14\",\"hour_15\",\"hour_16\",\"hour_17\",\"hour_18\",\"hour_19\",\"hour_20\",\"hour_21\",'hour_number','hour_number_ratio','hour_number_2_ratio'\n",
    "X_train_0 = data_linear_booleans_lean_P_under[data_linear_booleans_lean_P_under['season_21_22']==False][['country_div_1','country_div_2','country_div_3','country_div_4','%vig_p_bool','Market_consensus','year_number',\"game_starts_after_4pm_2\",\"game_starts_after_4pm_1\",\"1.0_to_1.5\", \"1.5_to_2.0\", \"2.0_to_3\", \"3_to_10\"]]#,'year_number_ratio','month_number_ratio']]\n",
    "X_test_0 = data_linear_booleans_lean_P_under[data_linear_booleans_lean_P_under['season_21_22']==True][['country_div_1','country_div_2','country_div_3','country_div_4','%vig_p_bool','Market_consensus','year_number',\"game_starts_after_4pm_2\",\"game_starts_after_4pm_1\",\"1.0_to_1.5\", \"1.5_to_2.0\", \"2.0_to_3\", \"3_to_10\"]]#,'year_number_ratio','month_number_ratio']]\n",
    "y_train_0 = data_linear_booleans_lean_P_under[data_linear_booleans_lean_P_under['season_21_22']==False]['payout_under_2.5_pinacle_closing']-1\n",
    "y_test_0 = data_linear_booleans_lean_P_under[data_linear_booleans_lean_P_under['season_21_22']==True]['payout_under_2.5_pinacle_closing']-1\n",
    "\n",
    "#creating the classifier model\n",
    "y_test_0_classifier = data_linear_booleans_lean_P_under[data_linear_booleans_lean_P_under['season_21_22']==True]['payout_under_2.5_pinacle_closing']!=0\n",
    "y_train_0_classifier = data_linear_booleans_lean_P_under[data_linear_booleans_lean_P_under['season_21_22']==False]['payout_under_2.5_pinacle_closing']!=0\n",
    "\n",
    "#div_1',country_div_1','country_div_2','country_div_3','country_div_4\n",
    "test_size_0=0.2"
   ]
  },
  {
   "cell_type": "code",
   "execution_count": 141,
   "id": "fcee8d84",
   "metadata": {},
   "outputs": [],
   "source": [
    "# Run the function testing_models\n",
    "results_False=[]\n",
    "results_True=[]"
   ]
  },
  {
   "cell_type": "markdown",
   "id": "5e93b589",
   "metadata": {},
   "source": [
    "## Defining the functions"
   ]
  },
  {
   "cell_type": "markdown",
   "id": "c180b628",
   "metadata": {},
   "source": [
    "##### XGB Classifier Model"
   ]
  },
  {
   "cell_type": "code",
   "execution_count": 142,
   "id": "1033ed12",
   "metadata": {},
   "outputs": [],
   "source": [
    "def testing_models_classifier(iterations):   \n",
    "    \n",
    "    i=0\n",
    "    lista_final = []\n",
    "    \n",
    "    while i < iterations:\n",
    "        # Split into Train/Test\n",
    "        #X_train, X_test, y_train, y_test = train_test_split(X1, y, test_size=0.3) # Split into Train/Test\n",
    "        X_train, X_test, y_train, y_test = train_test_split(X_test_0, y_test_0_classifier, test_size=test_size_0) # Split into Train/Test\n",
    "\n",
    "            #------------------------Run the Models -----------------------------------\n",
    "\n",
    "        #Initiate XGBoost\n",
    "        m = 0\n",
    "        m = xgb.XGBClassifier()\n",
    "        \n",
    "        #Fit XGBoost\n",
    "        m.fit(X_train_0,y_train_0_classifier) \n",
    "        \n",
    "        #Make and store the predictions XGBoost\n",
    "        y_pred_test = m.predict(X_test)\n",
    "        y_pred_test_df = pd.DataFrame(y_pred_test,columns=['prediction'])\n",
    "        y_pred_train = m.predict(X_train_0)\n",
    "        y_pred_train_df = pd.DataFrame(y_pred_train)\n",
    "        y_test_df = pd.DataFrame(y_test).reset_index()\n",
    "        y_final_df = y_pred_test_df.copy()\n",
    "        y_final_df['actual'] = y_test_df['payout_under_2.5_pinacle_closing']\n",
    "        y_final_df['index'] = y_test_df['index']\n",
    "\n",
    "        \n",
    "        # accuracy\n",
    "        accuracy_test = accuracy_score(y_test,y_pred_test)\n",
    "        accuracy_train = accuracy_score(y_train_0_classifier,y_pred_train)\n",
    "        \n",
    "        # precision\n",
    "        precision_test = precision_score(y_test,y_pred_test)\n",
    "        precision_train = precision_score(y_train_0_classifier,y_pred_train)\n",
    "    \n",
    "  #------------------------Creating the bins for the predictions for both models -----------------------------------\n",
    "        #Function to replace bin with default value when it is null\n",
    "        def ifnull(var, val):\n",
    "          if var > 0:\n",
    "            return var\n",
    "          return val\n",
    "\n",
    "        y_final_df['payout_under_2.5_pinacle_closing'] = y_test_0.loc[y_test.index].reset_index()['payout_under_2.5_pinacle_closing']\n",
    "        #import ipdb; ipdb.set_trace()\n",
    "        #y_final_df['payout_under_2.5_pinacle_closing'] = 0\n",
    "        \n",
    "        tmp = X_test.loc[y_final_df['index'], [\"1.0_to_1.5\", \"1.5_to_2.0\", \"2.0_to_3\", \"3_to_10\"]].reset_index(drop=True)\n",
    "        y_final_df[[\"1.0_to_1.5\", \"1.5_to_2.0\", \"2.0_to_3\", \"3_to_10\"]] = tmp\n",
    "        dicionario = {}\n",
    "        \n",
    "        for column in [\"1.0_to_1.5\", \"1.5_to_2.0\", \"2.0_to_3\", \"3_to_10\"]:\n",
    "            dicionario[column] = []\n",
    "            dicionario[column].append(y_final_df[(y_final_df['prediction']== True) & (y_final_df[column] == 1)]['payout_under_2.5_pinacle_closing'].mean())\n",
    "            dicionario[column].append(y_final_df[(y_final_df['prediction']== False) & (y_final_df[column] == 1)]['payout_under_2.5_pinacle_closing'].mean())\n",
    "\n",
    "                \n",
    "        lista_final.append(dicionario)\n",
    "        \n",
    "        result_False = y_final_df[y_final_df['prediction']==False]['payout_under_2.5_pinacle_closing'].mean()\n",
    "        result_True = y_final_df[y_final_df['prediction']==True]['payout_under_2.5_pinacle_closing'].mean()\n",
    "        \n",
    "        results_False.append(result_False)\n",
    "        results_True.append(result_True)\n",
    "        \n",
    "        i=i+1\n",
    "        \n",
    "    return accuracy_test, accuracy_train, precision_train, precision_test, y_final_df, lista_final"
   ]
  },
  {
   "cell_type": "code",
   "execution_count": 143,
   "id": "1cf4920d",
   "metadata": {},
   "outputs": [],
   "source": [
    "def testing_models_classifier2(iterations, m):   \n",
    "    \n",
    "    i=0\n",
    "    lista_final = []\n",
    "    \n",
    "    while i < iterations:\n",
    "        # Split into Train/Test\n",
    "        #X_train, X_test, y_train, y_test = train_test_split(X1, y, test_size=0.3) # Split into Train/Test\n",
    "        X_train, X_test, y_train, y_test = train_test_split(X_test_0, y_test_0_classifier, test_size=test_size_0) # Split into Train/Test\n",
    "\n",
    "            #------------------------Run the Models -----------------------------------\n",
    "        \n",
    "        #Make and store the predictions XGBoost\n",
    "        y_pred_test = m.predict(X_test)\n",
    "        y_pred_test_df = pd.DataFrame(y_pred_test,columns=['prediction'])\n",
    "        y_pred_train = m.predict(X_train_0)\n",
    "        y_pred_train_df = pd.DataFrame(y_pred_train)\n",
    "        y_test_df = pd.DataFrame(y_test).reset_index()\n",
    "        y_final_df = y_pred_test_df.copy()\n",
    "        y_final_df['actual'] = y_test_df['payout_under_2.5_pinacle_closing']\n",
    "        y_final_df['index'] = y_test_df['index']\n",
    "\n",
    "        \n",
    "        # accuracy\n",
    "        accuracy_test = accuracy_score(y_test,y_pred_test)\n",
    "        accuracy_train = accuracy_score(y_train_0_classifier,y_pred_train)\n",
    "        \n",
    "        # precision\n",
    "        precision_test = precision_score(y_test,y_pred_test)\n",
    "        precision_train = precision_score(y_train_0_classifier,y_pred_train)\n",
    "    \n",
    "  #------------------------Creating the bins for the predictions for both models -----------------------------------\n",
    "        #Function to replace bin with default value when it is null\n",
    "        def ifnull(var, val):\n",
    "          if var > 0:\n",
    "            return var\n",
    "          return val\n",
    "\n",
    "        y_final_df['payout_under_2.5_pinacle_closing'] = y_test_0.loc[y_test.index].reset_index()['payout_under_2.5_pinacle_closing']\n",
    "        #import ipdb; ipdb.set_trace()\n",
    "        #y_final_df['payout_under_2.5_pinacle_closing'] = 0\n",
    "        \n",
    "        tmp = X_test.loc[y_final_df['index'], [\"1.0_to_1.5\", \"1.5_to_2.0\", \"2.0_to_3\", \"3_to_10\"]].reset_index(drop=True)\n",
    "        y_final_df[[\"1.0_to_1.5\", \"1.5_to_2.0\", \"2.0_to_3\", \"3_to_10\"]] = tmp\n",
    "        dicionario = {}\n",
    "        \n",
    "        for column in [\"1.0_to_1.5\", \"1.5_to_2.0\", \"2.0_to_3\", \"3_to_10\"]:\n",
    "            dicionario[column] = []\n",
    "            dicionario[column].append(y_final_df[(y_final_df['prediction']== True) & (y_final_df[column] == 1)]['payout_under_2.5_pinacle_closing'].mean())\n",
    "            dicionario[column].append(y_final_df[(y_final_df['prediction']== False) & (y_final_df[column] == 1)]['payout_under_2.5_pinacle_closing'].mean())\n",
    "\n",
    "                \n",
    "        lista_final.append(dicionario)\n",
    "        \n",
    "        result_False = y_final_df[y_final_df['prediction']==False]['payout_under_2.5_pinacle_closing'].mean()\n",
    "        result_True = y_final_df[y_final_df['prediction']==True]['payout_under_2.5_pinacle_closing'].mean()\n",
    "        \n",
    "        results_False.append(result_False)\n",
    "        results_True.append(result_True)\n",
    "        \n",
    "        i=i+1\n",
    "        \n",
    "    return accuracy_test, accuracy_train, precision_train, precision_test, y_final_df, lista_final"
   ]
  },
  {
   "cell_type": "markdown",
   "id": "39150dc0",
   "metadata": {},
   "source": [
    "##### Results"
   ]
  },
  {
   "cell_type": "code",
   "execution_count": 144,
   "id": "e1c8624a",
   "metadata": {},
   "outputs": [],
   "source": [
    "def model_classifier_results(n=10, m=False):\n",
    "    \n",
    "    #empty_lists\n",
    "    results_False=[]\n",
    "    results_True=[]\n",
    "    avg_1_15_true = []\n",
    "    avg_15_2_true = []\n",
    "    avg_2_3_true = []\n",
    "    avg_3_10_true = []\n",
    "    avg_1_15_false = []\n",
    "    avg_15_2_false = []\n",
    "    avg_2_3_false = []\n",
    "    avg_3_10_false = []\n",
    "    \n",
    "    if m != False:\n",
    "        print('Iniciando modelo pré treinado')\n",
    "        accuracy_test, accuracy_train, precision_train, precision_test, y_final_df, lista_final = testing_models_classifier2(n, m)\n",
    "\n",
    "    else:\n",
    "        print('Iniciando modelo não treinado')\n",
    "        # Run the model regressor X times\n",
    "        accuracy_test, accuracy_train, precision_train, precision_test, y_final_df, lista_final = testing_models_classifier(n)\n",
    "    \n",
    "    #empty_lists\n",
    "    \n",
    "    \n",
    "    #creating a data frame\n",
    "    lista_final_df = pd.DataFrame(lista_final)\n",
    "    for i in range(n):\n",
    "        avg_1_15_true.append(lista_final_df[\"1.0_to_1.5\"][i][0])\n",
    "        avg_15_2_true.append(lista_final_df[\"1.5_to_2.0\"][i][0])\n",
    "        avg_2_3_true.append(lista_final_df[\"2.0_to_3\"][i][0])\n",
    "        avg_3_10_true.append(lista_final_df[\"3_to_10\"][i][0])\n",
    "        avg_1_15_false.append(lista_final_df[\"1.0_to_1.5\"][i][1])\n",
    "        avg_15_2_false.append(lista_final_df[\"1.5_to_2.0\"][i][1])\n",
    "        avg_2_3_false.append(lista_final_df[\"2.0_to_3\"][i][1])\n",
    "        avg_3_10_false.append(lista_final_df[\"3_to_10\"][i][1])\n",
    "\n",
    "    # creating columns \n",
    "\n",
    "    lista_final_df['1.0_to_1.5_true'] = pd.DataFrame(avg_1_15_true)\n",
    "    lista_final_df['1.5_to_2.0_true'] = pd.DataFrame(avg_15_2_true)\n",
    "    lista_final_df['2.0_to_3_true'] = pd.DataFrame(avg_2_3_true)\n",
    "    lista_final_df['3_to_10_true'] = pd.DataFrame(avg_3_10_true)\n",
    "    lista_final_df['1.0_to_1.5_false'] = pd.DataFrame(avg_1_15_false)\n",
    "    lista_final_df['1.5_to_2.0_false'] = pd.DataFrame(avg_15_2_false)\n",
    "    lista_final_df['2.0_to_3_false'] = pd.DataFrame(avg_2_3_false)\n",
    "    lista_final_df['3_to_10_false'] = pd.DataFrame(avg_3_10_false)\n",
    "\n",
    "    #dropping columns \n",
    "    lista_final_df.drop(columns=[\"1.0_to_1.5\", \"1.5_to_2.0\", \"2.0_to_3\", \"3_to_10\"], inplace = True)\n",
    "    \n",
    "    #Plotting the results of the XGBClassification\n",
    "    figure = plt.figure(figsize=(18, 9))\n",
    "    plt.subplot(2,2,1)\n",
    "    sns.histplot(lista_final_df['1.0_to_1.5_true'], kde=True,bins=50,color='green');\n",
    "    sns.histplot(lista_final_df['1.0_to_1.5_false'], kde=True,bins=50,color='red');\n",
    "\n",
    "    plt.subplot(2,2,2)\n",
    "    sns.histplot(lista_final_df['1.5_to_2.0_true'], kde=True,bins=30,color='green');\n",
    "    sns.histplot(lista_final_df['1.5_to_2.0_false'], kde=True,bins=30,color='red');\n",
    "\n",
    "    plt.subplot(2,2,3)\n",
    "    sns.histplot(lista_final_df['2.0_to_3_true'], kde=True,bins=30,color='green');\n",
    "    sns.histplot(lista_final_df['2.0_to_3_false'], kde=True,bins=30,color='red');\n",
    "\n",
    "    plt.subplot(2,2,4)\n",
    "    sns.histplot(lista_final_df['3_to_10_true'], kde=True,bins=30,color='green');\n",
    "    sns.histplot(lista_final_df['3_to_10_false'], kde=True,bins=30,color='red');\n",
    "    \n",
    "#     return accuracy_test, accuracy_train, precision_train, precision_test, y_final_df, lista_final, lista_final_df"
   ]
  },
  {
   "cell_type": "code",
   "execution_count": 145,
   "id": "57b2618b",
   "metadata": {},
   "outputs": [
    {
     "name": "stdout",
     "output_type": "stream",
     "text": [
      "Iniciando modelo não treinado\n"
     ]
    },
    {
     "ename": "KeyboardInterrupt",
     "evalue": "",
     "output_type": "error",
     "traceback": [
      "\u001b[0;31m---------------------------------------------------------------------------\u001b[0m",
      "\u001b[0;31mKeyboardInterrupt\u001b[0m                         Traceback (most recent call last)",
      "Input \u001b[0;32mIn [145]\u001b[0m, in \u001b[0;36m<cell line: 1>\u001b[0;34m()\u001b[0m\n\u001b[0;32m----> 1\u001b[0m accuracy_test, accuracy_train, precision_train, precision_test, y_final_df, lista_final, lista_final_df \u001b[38;5;241m=\u001b[39m \u001b[43mmodel_classifier_results\u001b[49m\u001b[43m(\u001b[49m\u001b[38;5;241;43m100\u001b[39;49m\u001b[43m)\u001b[49m\n",
      "Input \u001b[0;32mIn [144]\u001b[0m, in \u001b[0;36mmodel_classifier_results\u001b[0;34m(n, m)\u001b[0m\n\u001b[1;32m     20\u001b[0m     \u001b[38;5;28mprint\u001b[39m(\u001b[38;5;124m'\u001b[39m\u001b[38;5;124mIniciando modelo não treinado\u001b[39m\u001b[38;5;124m'\u001b[39m)\n\u001b[1;32m     21\u001b[0m     \u001b[38;5;66;03m# Run the model regressor X times\u001b[39;00m\n\u001b[0;32m---> 22\u001b[0m     accuracy_test, accuracy_train, precision_train, precision_test, y_final_df, lista_final \u001b[38;5;241m=\u001b[39m \u001b[43mtesting_models_classifier\u001b[49m\u001b[43m(\u001b[49m\u001b[43mn\u001b[49m\u001b[43m)\u001b[49m\n\u001b[1;32m     24\u001b[0m \u001b[38;5;66;03m#empty_lists\u001b[39;00m\n\u001b[1;32m     25\u001b[0m \n\u001b[1;32m     26\u001b[0m \n\u001b[1;32m     27\u001b[0m \u001b[38;5;66;03m#creating a data frame\u001b[39;00m\n\u001b[1;32m     28\u001b[0m lista_final_df \u001b[38;5;241m=\u001b[39m pd\u001b[38;5;241m.\u001b[39mDataFrame(lista_final)\n",
      "Input \u001b[0;32mIn [142]\u001b[0m, in \u001b[0;36mtesting_models_classifier\u001b[0;34m(iterations)\u001b[0m\n\u001b[1;32m     15\u001b[0m m \u001b[38;5;241m=\u001b[39m xgb\u001b[38;5;241m.\u001b[39mXGBClassifier()\n\u001b[1;32m     17\u001b[0m \u001b[38;5;66;03m#Fit XGBoost\u001b[39;00m\n\u001b[0;32m---> 18\u001b[0m \u001b[43mm\u001b[49m\u001b[38;5;241;43m.\u001b[39;49m\u001b[43mfit\u001b[49m\u001b[43m(\u001b[49m\u001b[43mX_train_0\u001b[49m\u001b[43m,\u001b[49m\u001b[43my_train_0_classifier\u001b[49m\u001b[43m)\u001b[49m \n\u001b[1;32m     20\u001b[0m \u001b[38;5;66;03m#Make and store the predictions XGBoost\u001b[39;00m\n\u001b[1;32m     21\u001b[0m y_pred_test \u001b[38;5;241m=\u001b[39m m\u001b[38;5;241m.\u001b[39mpredict(X_test)\n",
      "File \u001b[0;32m~/.pyenv/versions/3.8.12/envs/OnThePitch/lib/python3.8/site-packages/xgboost/core.py:532\u001b[0m, in \u001b[0;36m_deprecate_positional_args.<locals>.inner_f\u001b[0;34m(*args, **kwargs)\u001b[0m\n\u001b[1;32m    530\u001b[0m \u001b[38;5;28;01mfor\u001b[39;00m k, arg \u001b[38;5;129;01min\u001b[39;00m \u001b[38;5;28mzip\u001b[39m(sig\u001b[38;5;241m.\u001b[39mparameters, args):\n\u001b[1;32m    531\u001b[0m     kwargs[k] \u001b[38;5;241m=\u001b[39m arg\n\u001b[0;32m--> 532\u001b[0m \u001b[38;5;28;01mreturn\u001b[39;00m \u001b[43mf\u001b[49m\u001b[43m(\u001b[49m\u001b[38;5;241;43m*\u001b[39;49m\u001b[38;5;241;43m*\u001b[39;49m\u001b[43mkwargs\u001b[49m\u001b[43m)\u001b[49m\n",
      "File \u001b[0;32m~/.pyenv/versions/3.8.12/envs/OnThePitch/lib/python3.8/site-packages/xgboost/sklearn.py:1400\u001b[0m, in \u001b[0;36mXGBClassifier.fit\u001b[0;34m(self, X, y, sample_weight, base_margin, eval_set, eval_metric, early_stopping_rounds, verbose, xgb_model, sample_weight_eval_set, base_margin_eval_set, feature_weights, callbacks)\u001b[0m\n\u001b[1;32m   1379\u001b[0m model, metric, params, early_stopping_rounds, callbacks \u001b[38;5;241m=\u001b[39m \u001b[38;5;28mself\u001b[39m\u001b[38;5;241m.\u001b[39m_configure_fit(\n\u001b[1;32m   1380\u001b[0m     xgb_model, eval_metric, params, early_stopping_rounds, callbacks\n\u001b[1;32m   1381\u001b[0m )\n\u001b[1;32m   1382\u001b[0m train_dmatrix, evals \u001b[38;5;241m=\u001b[39m _wrap_evaluation_matrices(\n\u001b[1;32m   1383\u001b[0m     missing\u001b[38;5;241m=\u001b[39m\u001b[38;5;28mself\u001b[39m\u001b[38;5;241m.\u001b[39mmissing,\n\u001b[1;32m   1384\u001b[0m     X\u001b[38;5;241m=\u001b[39mX,\n\u001b[0;32m   (...)\u001b[0m\n\u001b[1;32m   1397\u001b[0m     enable_categorical\u001b[38;5;241m=\u001b[39m\u001b[38;5;28mself\u001b[39m\u001b[38;5;241m.\u001b[39menable_categorical,\n\u001b[1;32m   1398\u001b[0m )\n\u001b[0;32m-> 1400\u001b[0m \u001b[38;5;28mself\u001b[39m\u001b[38;5;241m.\u001b[39m_Booster \u001b[38;5;241m=\u001b[39m \u001b[43mtrain\u001b[49m\u001b[43m(\u001b[49m\n\u001b[1;32m   1401\u001b[0m \u001b[43m    \u001b[49m\u001b[43mparams\u001b[49m\u001b[43m,\u001b[49m\n\u001b[1;32m   1402\u001b[0m \u001b[43m    \u001b[49m\u001b[43mtrain_dmatrix\u001b[49m\u001b[43m,\u001b[49m\n\u001b[1;32m   1403\u001b[0m \u001b[43m    \u001b[49m\u001b[38;5;28;43mself\u001b[39;49m\u001b[38;5;241;43m.\u001b[39;49m\u001b[43mget_num_boosting_rounds\u001b[49m\u001b[43m(\u001b[49m\u001b[43m)\u001b[49m\u001b[43m,\u001b[49m\n\u001b[1;32m   1404\u001b[0m \u001b[43m    \u001b[49m\u001b[43mevals\u001b[49m\u001b[38;5;241;43m=\u001b[39;49m\u001b[43mevals\u001b[49m\u001b[43m,\u001b[49m\n\u001b[1;32m   1405\u001b[0m \u001b[43m    \u001b[49m\u001b[43mearly_stopping_rounds\u001b[49m\u001b[38;5;241;43m=\u001b[39;49m\u001b[43mearly_stopping_rounds\u001b[49m\u001b[43m,\u001b[49m\n\u001b[1;32m   1406\u001b[0m \u001b[43m    \u001b[49m\u001b[43mevals_result\u001b[49m\u001b[38;5;241;43m=\u001b[39;49m\u001b[43mevals_result\u001b[49m\u001b[43m,\u001b[49m\n\u001b[1;32m   1407\u001b[0m \u001b[43m    \u001b[49m\u001b[43mobj\u001b[49m\u001b[38;5;241;43m=\u001b[39;49m\u001b[43mobj\u001b[49m\u001b[43m,\u001b[49m\n\u001b[1;32m   1408\u001b[0m \u001b[43m    \u001b[49m\u001b[43mcustom_metric\u001b[49m\u001b[38;5;241;43m=\u001b[39;49m\u001b[43mmetric\u001b[49m\u001b[43m,\u001b[49m\n\u001b[1;32m   1409\u001b[0m \u001b[43m    \u001b[49m\u001b[43mverbose_eval\u001b[49m\u001b[38;5;241;43m=\u001b[39;49m\u001b[43mverbose\u001b[49m\u001b[43m,\u001b[49m\n\u001b[1;32m   1410\u001b[0m \u001b[43m    \u001b[49m\u001b[43mxgb_model\u001b[49m\u001b[38;5;241;43m=\u001b[39;49m\u001b[43mmodel\u001b[49m\u001b[43m,\u001b[49m\n\u001b[1;32m   1411\u001b[0m \u001b[43m    \u001b[49m\u001b[43mcallbacks\u001b[49m\u001b[38;5;241;43m=\u001b[39;49m\u001b[43mcallbacks\u001b[49m\u001b[43m,\u001b[49m\n\u001b[1;32m   1412\u001b[0m \u001b[43m\u001b[49m\u001b[43m)\u001b[49m\n\u001b[1;32m   1414\u001b[0m \u001b[38;5;28;01mif\u001b[39;00m \u001b[38;5;129;01mnot\u001b[39;00m callable(\u001b[38;5;28mself\u001b[39m\u001b[38;5;241m.\u001b[39mobjective):\n\u001b[1;32m   1415\u001b[0m     \u001b[38;5;28mself\u001b[39m\u001b[38;5;241m.\u001b[39mobjective \u001b[38;5;241m=\u001b[39m params[\u001b[38;5;124m\"\u001b[39m\u001b[38;5;124mobjective\u001b[39m\u001b[38;5;124m\"\u001b[39m]\n",
      "File \u001b[0;32m~/.pyenv/versions/3.8.12/envs/OnThePitch/lib/python3.8/site-packages/xgboost/core.py:532\u001b[0m, in \u001b[0;36m_deprecate_positional_args.<locals>.inner_f\u001b[0;34m(*args, **kwargs)\u001b[0m\n\u001b[1;32m    530\u001b[0m \u001b[38;5;28;01mfor\u001b[39;00m k, arg \u001b[38;5;129;01min\u001b[39;00m \u001b[38;5;28mzip\u001b[39m(sig\u001b[38;5;241m.\u001b[39mparameters, args):\n\u001b[1;32m    531\u001b[0m     kwargs[k] \u001b[38;5;241m=\u001b[39m arg\n\u001b[0;32m--> 532\u001b[0m \u001b[38;5;28;01mreturn\u001b[39;00m \u001b[43mf\u001b[49m\u001b[43m(\u001b[49m\u001b[38;5;241;43m*\u001b[39;49m\u001b[38;5;241;43m*\u001b[39;49m\u001b[43mkwargs\u001b[49m\u001b[43m)\u001b[49m\n",
      "File \u001b[0;32m~/.pyenv/versions/3.8.12/envs/OnThePitch/lib/python3.8/site-packages/xgboost/training.py:181\u001b[0m, in \u001b[0;36mtrain\u001b[0;34m(params, dtrain, num_boost_round, evals, obj, feval, maximize, early_stopping_rounds, evals_result, verbose_eval, xgb_model, callbacks, custom_metric)\u001b[0m\n\u001b[1;32m    179\u001b[0m \u001b[38;5;28;01mif\u001b[39;00m cb_container\u001b[38;5;241m.\u001b[39mbefore_iteration(bst, i, dtrain, evals):\n\u001b[1;32m    180\u001b[0m     \u001b[38;5;28;01mbreak\u001b[39;00m\n\u001b[0;32m--> 181\u001b[0m \u001b[43mbst\u001b[49m\u001b[38;5;241;43m.\u001b[39;49m\u001b[43mupdate\u001b[49m\u001b[43m(\u001b[49m\u001b[43mdtrain\u001b[49m\u001b[43m,\u001b[49m\u001b[43m \u001b[49m\u001b[43mi\u001b[49m\u001b[43m,\u001b[49m\u001b[43m \u001b[49m\u001b[43mobj\u001b[49m\u001b[43m)\u001b[49m\n\u001b[1;32m    182\u001b[0m \u001b[38;5;28;01mif\u001b[39;00m cb_container\u001b[38;5;241m.\u001b[39mafter_iteration(bst, i, dtrain, evals):\n\u001b[1;32m    183\u001b[0m     \u001b[38;5;28;01mbreak\u001b[39;00m\n",
      "File \u001b[0;32m~/.pyenv/versions/3.8.12/envs/OnThePitch/lib/python3.8/site-packages/xgboost/core.py:1733\u001b[0m, in \u001b[0;36mBooster.update\u001b[0;34m(self, dtrain, iteration, fobj)\u001b[0m\n\u001b[1;32m   1730\u001b[0m \u001b[38;5;28mself\u001b[39m\u001b[38;5;241m.\u001b[39m_validate_features(dtrain)\n\u001b[1;32m   1732\u001b[0m \u001b[38;5;28;01mif\u001b[39;00m fobj \u001b[38;5;129;01mis\u001b[39;00m \u001b[38;5;28;01mNone\u001b[39;00m:\n\u001b[0;32m-> 1733\u001b[0m     _check_call(\u001b[43m_LIB\u001b[49m\u001b[38;5;241;43m.\u001b[39;49m\u001b[43mXGBoosterUpdateOneIter\u001b[49m\u001b[43m(\u001b[49m\u001b[38;5;28;43mself\u001b[39;49m\u001b[38;5;241;43m.\u001b[39;49m\u001b[43mhandle\u001b[49m\u001b[43m,\u001b[49m\n\u001b[1;32m   1734\u001b[0m \u001b[43m                                            \u001b[49m\u001b[43mctypes\u001b[49m\u001b[38;5;241;43m.\u001b[39;49m\u001b[43mc_int\u001b[49m\u001b[43m(\u001b[49m\u001b[43miteration\u001b[49m\u001b[43m)\u001b[49m\u001b[43m,\u001b[49m\n\u001b[1;32m   1735\u001b[0m \u001b[43m                                            \u001b[49m\u001b[43mdtrain\u001b[49m\u001b[38;5;241;43m.\u001b[39;49m\u001b[43mhandle\u001b[49m\u001b[43m)\u001b[49m)\n\u001b[1;32m   1736\u001b[0m \u001b[38;5;28;01melse\u001b[39;00m:\n\u001b[1;32m   1737\u001b[0m     pred \u001b[38;5;241m=\u001b[39m \u001b[38;5;28mself\u001b[39m\u001b[38;5;241m.\u001b[39mpredict(dtrain, output_margin\u001b[38;5;241m=\u001b[39m\u001b[38;5;28;01mTrue\u001b[39;00m, training\u001b[38;5;241m=\u001b[39m\u001b[38;5;28;01mTrue\u001b[39;00m)\n",
      "\u001b[0;31mKeyboardInterrupt\u001b[0m: "
     ]
    }
   ],
   "source": [
    "accuracy_test, accuracy_train, precision_train, precision_test, y_final_df, lista_final, lista_final_df = model_classifier_results(100)"
   ]
  },
  {
   "cell_type": "code",
   "execution_count": 49,
   "id": "44d9f578",
   "metadata": {},
   "outputs": [
    {
     "data": {
      "text/plain": [
       "(0.5585312447363988,\n",
       " 0.5910965126843245,\n",
       " 0.5867690490253987,\n",
       " 0.5508790623335109)"
      ]
     },
     "execution_count": 49,
     "metadata": {},
     "output_type": "execute_result"
    }
   ],
   "source": [
    "accuracy_test, accuracy_train, precision_train, precision_test"
   ]
  },
  {
   "cell_type": "code",
   "execution_count": 115,
   "id": "68698675",
   "metadata": {},
   "outputs": [
    {
     "data": {
      "text/html": [
       "<div>\n",
       "<style scoped>\n",
       "    .dataframe tbody tr th:only-of-type {\n",
       "        vertical-align: middle;\n",
       "    }\n",
       "\n",
       "    .dataframe tbody tr th {\n",
       "        vertical-align: top;\n",
       "    }\n",
       "\n",
       "    .dataframe thead th {\n",
       "        text-align: right;\n",
       "    }\n",
       "</style>\n",
       "<table border=\"1\" class=\"dataframe\">\n",
       "  <thead>\n",
       "    <tr style=\"text-align: right;\">\n",
       "      <th></th>\n",
       "      <th>1.0_to_1.5_true</th>\n",
       "      <th>1.5_to_2.0_true</th>\n",
       "      <th>2.0_to_3_true</th>\n",
       "      <th>3_to_10_true</th>\n",
       "      <th>1.0_to_1.5_false</th>\n",
       "      <th>1.5_to_2.0_false</th>\n",
       "      <th>2.0_to_3_false</th>\n",
       "      <th>3_to_10_false</th>\n",
       "    </tr>\n",
       "  </thead>\n",
       "  <tbody>\n",
       "    <tr>\n",
       "      <th>0</th>\n",
       "      <td>-0.034718</td>\n",
       "      <td>-0.030582</td>\n",
       "      <td>0.023333</td>\n",
       "      <td>NaN</td>\n",
       "      <td>0.061429</td>\n",
       "      <td>0.015975</td>\n",
       "      <td>-0.048021</td>\n",
       "      <td>-0.224577</td>\n",
       "    </tr>\n",
       "    <tr>\n",
       "      <th>1</th>\n",
       "      <td>-0.061270</td>\n",
       "      <td>-0.040487</td>\n",
       "      <td>-0.022827</td>\n",
       "      <td>NaN</td>\n",
       "      <td>-0.150000</td>\n",
       "      <td>0.001787</td>\n",
       "      <td>-0.022676</td>\n",
       "      <td>-0.182917</td>\n",
       "    </tr>\n",
       "    <tr>\n",
       "      <th>2</th>\n",
       "      <td>-0.050000</td>\n",
       "      <td>-0.038957</td>\n",
       "      <td>0.013927</td>\n",
       "      <td>NaN</td>\n",
       "      <td>-0.005000</td>\n",
       "      <td>-0.019833</td>\n",
       "      <td>-0.019199</td>\n",
       "      <td>-0.141898</td>\n",
       "    </tr>\n",
       "    <tr>\n",
       "      <th>3</th>\n",
       "      <td>-0.013984</td>\n",
       "      <td>-0.031323</td>\n",
       "      <td>-0.020051</td>\n",
       "      <td>NaN</td>\n",
       "      <td>0.061429</td>\n",
       "      <td>-0.001822</td>\n",
       "      <td>-0.040888</td>\n",
       "      <td>-0.190071</td>\n",
       "    </tr>\n",
       "    <tr>\n",
       "      <th>4</th>\n",
       "      <td>-0.010167</td>\n",
       "      <td>-0.032409</td>\n",
       "      <td>0.007865</td>\n",
       "      <td>NaN</td>\n",
       "      <td>-0.152857</td>\n",
       "      <td>-0.003054</td>\n",
       "      <td>-0.040470</td>\n",
       "      <td>-0.160857</td>\n",
       "    </tr>\n",
       "    <tr>\n",
       "      <th>...</th>\n",
       "      <td>...</td>\n",
       "      <td>...</td>\n",
       "      <td>...</td>\n",
       "      <td>...</td>\n",
       "      <td>...</td>\n",
       "      <td>...</td>\n",
       "      <td>...</td>\n",
       "      <td>...</td>\n",
       "    </tr>\n",
       "    <tr>\n",
       "      <th>95</th>\n",
       "      <td>-0.024879</td>\n",
       "      <td>-0.032807</td>\n",
       "      <td>0.028283</td>\n",
       "      <td>NaN</td>\n",
       "      <td>-0.071250</td>\n",
       "      <td>0.003734</td>\n",
       "      <td>-0.036581</td>\n",
       "      <td>-0.097376</td>\n",
       "    </tr>\n",
       "    <tr>\n",
       "      <th>96</th>\n",
       "      <td>-0.031369</td>\n",
       "      <td>-0.039255</td>\n",
       "      <td>-0.011270</td>\n",
       "      <td>NaN</td>\n",
       "      <td>-0.258333</td>\n",
       "      <td>-0.001792</td>\n",
       "      <td>-0.031011</td>\n",
       "      <td>-0.148978</td>\n",
       "    </tr>\n",
       "    <tr>\n",
       "      <th>97</th>\n",
       "      <td>-0.045630</td>\n",
       "      <td>-0.036832</td>\n",
       "      <td>0.036702</td>\n",
       "      <td>NaN</td>\n",
       "      <td>-0.008333</td>\n",
       "      <td>-0.020424</td>\n",
       "      <td>-0.040387</td>\n",
       "      <td>-0.273143</td>\n",
       "    </tr>\n",
       "    <tr>\n",
       "      <th>98</th>\n",
       "      <td>-0.032470</td>\n",
       "      <td>-0.033638</td>\n",
       "      <td>0.026080</td>\n",
       "      <td>NaN</td>\n",
       "      <td>-0.008333</td>\n",
       "      <td>-0.008566</td>\n",
       "      <td>-0.045579</td>\n",
       "      <td>-0.249437</td>\n",
       "    </tr>\n",
       "    <tr>\n",
       "      <th>99</th>\n",
       "      <td>-0.044066</td>\n",
       "      <td>-0.039324</td>\n",
       "      <td>0.000108</td>\n",
       "      <td>NaN</td>\n",
       "      <td>-0.071250</td>\n",
       "      <td>-0.019677</td>\n",
       "      <td>-0.043935</td>\n",
       "      <td>-0.157343</td>\n",
       "    </tr>\n",
       "  </tbody>\n",
       "</table>\n",
       "<p>100 rows × 8 columns</p>\n",
       "</div>"
      ],
      "text/plain": [
       "    1.0_to_1.5_true  1.5_to_2.0_true  2.0_to_3_true  3_to_10_true  \\\n",
       "0         -0.034718        -0.030582       0.023333           NaN   \n",
       "1         -0.061270        -0.040487      -0.022827           NaN   \n",
       "2         -0.050000        -0.038957       0.013927           NaN   \n",
       "3         -0.013984        -0.031323      -0.020051           NaN   \n",
       "4         -0.010167        -0.032409       0.007865           NaN   \n",
       "..              ...              ...            ...           ...   \n",
       "95        -0.024879        -0.032807       0.028283           NaN   \n",
       "96        -0.031369        -0.039255      -0.011270           NaN   \n",
       "97        -0.045630        -0.036832       0.036702           NaN   \n",
       "98        -0.032470        -0.033638       0.026080           NaN   \n",
       "99        -0.044066        -0.039324       0.000108           NaN   \n",
       "\n",
       "    1.0_to_1.5_false  1.5_to_2.0_false  2.0_to_3_false  3_to_10_false  \n",
       "0           0.061429          0.015975       -0.048021      -0.224577  \n",
       "1          -0.150000          0.001787       -0.022676      -0.182917  \n",
       "2          -0.005000         -0.019833       -0.019199      -0.141898  \n",
       "3           0.061429         -0.001822       -0.040888      -0.190071  \n",
       "4          -0.152857         -0.003054       -0.040470      -0.160857  \n",
       "..               ...               ...             ...            ...  \n",
       "95         -0.071250          0.003734       -0.036581      -0.097376  \n",
       "96         -0.258333         -0.001792       -0.031011      -0.148978  \n",
       "97         -0.008333         -0.020424       -0.040387      -0.273143  \n",
       "98         -0.008333         -0.008566       -0.045579      -0.249437  \n",
       "99         -0.071250         -0.019677       -0.043935      -0.157343  \n",
       "\n",
       "[100 rows x 8 columns]"
      ]
     },
     "execution_count": 115,
     "metadata": {},
     "output_type": "execute_result"
    }
   ],
   "source": [
    "lista_final_df"
   ]
  },
  {
   "cell_type": "code",
   "execution_count": 116,
   "id": "1db980ee",
   "metadata": {},
   "outputs": [
    {
     "data": {
      "text/plain": [
       "Series([], Name: 3_to_10_true, dtype: int64)"
      ]
     },
     "execution_count": 116,
     "metadata": {},
     "output_type": "execute_result"
    }
   ],
   "source": [
    "lista_final_df['3_to_10_true'].value_counts()"
   ]
  },
  {
   "cell_type": "markdown",
   "id": "22adb54d",
   "metadata": {},
   "source": [
    "## Optimizing the model"
   ]
  },
  {
   "cell_type": "code",
   "execution_count": 83,
   "id": "2ef2f181",
   "metadata": {},
   "outputs": [],
   "source": [
    "from sklearn.linear_model import LogisticRegression\n",
    "from sklearn.model_selection import cross_val_predict\n",
    "from sklearn.metrics import precision_recall_curve\n",
    "import matplotlib.pyplot as plt\n",
    "\n",
    "model = xgb.XGBClassifier()"
   ]
  },
  {
   "cell_type": "code",
   "execution_count": 84,
   "id": "061ef555",
   "metadata": {},
   "outputs": [],
   "source": [
    "data = pd.DataFrame()"
   ]
  },
  {
   "cell_type": "code",
   "execution_count": 85,
   "id": "24d54161",
   "metadata": {},
   "outputs": [
    {
     "name": "stdout",
     "output_type": "stream",
     "text": [
      "precision- [0.51156615 0.51160352 0.51161002 0.51157586 0.51161164]\n",
      "recall- [1.         0.99986339 0.99931694 0.99918033 0.99918033]\n",
      "threshold- [0.01643412 0.03804904 0.0452585  0.04619218 0.05007423]\n"
     ]
    }
   ],
   "source": [
    "# Predict class probabilties\n",
    "data['prob_cheap'], data['proba_expensive'] =cross_val_predict(model,\n",
    "                                                              X_train_0,\n",
    "                                                              y_train_0_classifier,\n",
    "                                                              cv=5,\n",
    "                                                              method='predict_proba').T\n",
    "\n",
    "# precision recall data\n",
    "precision, recall, threshold = precision_recall_curve(y_train_0_classifier,\n",
    "                                                      data['proba_expensive']) \n",
    "\n",
    "print(f'precision- {precision[:5]}')\n",
    "print(f'recall- {recall[:5]}')\n",
    "print(f'threshold- {threshold[:5]}')"
   ]
  },
  {
   "cell_type": "code",
   "execution_count": 86,
   "id": "456c4bdc",
   "metadata": {},
   "outputs": [
    {
     "data": {
      "text/html": [
       "<div>\n",
       "<style scoped>\n",
       "    .dataframe tbody tr th:only-of-type {\n",
       "        vertical-align: middle;\n",
       "    }\n",
       "\n",
       "    .dataframe tbody tr th {\n",
       "        vertical-align: top;\n",
       "    }\n",
       "\n",
       "    .dataframe thead th {\n",
       "        text-align: right;\n",
       "    }\n",
       "</style>\n",
       "<table border=\"1\" class=\"dataframe\">\n",
       "  <thead>\n",
       "    <tr style=\"text-align: right;\">\n",
       "      <th></th>\n",
       "      <th>threshold</th>\n",
       "      <th>precision</th>\n",
       "      <th>recall</th>\n",
       "    </tr>\n",
       "  </thead>\n",
       "  <tbody>\n",
       "    <tr>\n",
       "      <th>0</th>\n",
       "      <td>0.016434</td>\n",
       "      <td>0.511566</td>\n",
       "      <td>1.000000</td>\n",
       "    </tr>\n",
       "    <tr>\n",
       "      <th>1</th>\n",
       "      <td>0.038049</td>\n",
       "      <td>0.511604</td>\n",
       "      <td>0.999863</td>\n",
       "    </tr>\n",
       "    <tr>\n",
       "      <th>2</th>\n",
       "      <td>0.045258</td>\n",
       "      <td>0.511610</td>\n",
       "      <td>0.999317</td>\n",
       "    </tr>\n",
       "    <tr>\n",
       "      <th>3</th>\n",
       "      <td>0.046192</td>\n",
       "      <td>0.511576</td>\n",
       "      <td>0.999180</td>\n",
       "    </tr>\n",
       "    <tr>\n",
       "      <th>4</th>\n",
       "      <td>0.050074</td>\n",
       "      <td>0.511612</td>\n",
       "      <td>0.999180</td>\n",
       "    </tr>\n",
       "  </tbody>\n",
       "</table>\n",
       "</div>"
      ],
      "text/plain": [
       "   threshold  precision    recall\n",
       "0   0.016434   0.511566  1.000000\n",
       "1   0.038049   0.511604  0.999863\n",
       "2   0.045258   0.511610  0.999317\n",
       "3   0.046192   0.511576  0.999180\n",
       "4   0.050074   0.511612  0.999180"
      ]
     },
     "execution_count": 86,
     "metadata": {},
     "output_type": "execute_result"
    }
   ],
   "source": [
    "scores = pd.DataFrame({'threshold':threshold,\n",
    "                       'precision': precision[:-1],\n",
    "                       'recall':recall[:-1]})# Store in dataframe\n",
    "scores.head()"
   ]
  },
  {
   "cell_type": "code",
   "execution_count": 87,
   "id": "17ecf84c",
   "metadata": {},
   "outputs": [
    {
     "data": {
      "text/plain": [
       "Text(0.5, 0, 'recall')"
      ]
     },
     "execution_count": 87,
     "metadata": {},
     "output_type": "execute_result"
    },
    {
     "data": {
      "image/png": "[encoded data removed]",
      "text/plain": [
       "<Figure size 576x504 with 1 Axes>"
      ]
     },
     "metadata": {},
     "output_type": "display_data"
    }
   ],
   "source": [
    "plt.plot(scores['recall'],scores['precision'])\n",
    "plt.ylabel('precision')\n",
    "plt.xlabel('recall')"
   ]
  },
  {
   "cell_type": "code",
   "execution_count": 89,
   "id": "5c6190ef",
   "metadata": {},
   "outputs": [
    {
     "data": {
      "text/plain": [
       "0.60522324"
      ]
     },
     "execution_count": 89,
     "metadata": {},
     "output_type": "execute_result"
    }
   ],
   "source": [
    "# Find threshold that guarantees 0.8 recall score\n",
    "scores[scores['precision'] == scores['precision'].max()].threshold.max()"
   ]
  },
  {
   "cell_type": "code",
   "execution_count": 66,
   "id": "4dce7241",
   "metadata": {},
   "outputs": [],
   "source": [
    "from sklearn.metrics import recall_score, precision_score, f1_score"
   ]
  },
  {
   "cell_type": "code",
   "execution_count": 90,
   "id": "4112e2ed",
   "metadata": {},
   "outputs": [
    {
     "name": "stdout",
     "output_type": "stream",
     "text": [
      "0.08920765027322404\n",
      "0.6823406478578893\n",
      "0.1577866376706536\n"
     ]
    }
   ],
   "source": [
    "model = LogisticRegression()\n",
    "model.fit(X_train_0, y_train_0_classifier)\n",
    "\n",
    "def custom_predict(X, custom_threshold):\n",
    "    probs = model.predict_proba(X) # Get likelihood of each sample being classified as 0 or 1\n",
    "    expensive_probs = probs[:, 1] # Only keep expensive likelihoods (1) \n",
    "    return (expensive_probs > custom_threshold).astype(int) # Boolean outcome converted to 0 or 1\n",
    "    \n",
    "    \n",
    "updated_preds = custom_predict(X=X_train_0, custom_threshold=0.60522324) # Update predictions \n",
    "\n",
    "print(recall_score(y_train_0_classifier, updated_preds)) # Rerun recall\n",
    "print(precision_score(y_train_0_classifier, updated_preds)) # Rerun precision\n",
    "print(f1_score(y_train_0_classifier, updated_preds)) # Rerun f1"
   ]
  },
  {
   "cell_type": "markdown",
   "id": "0d5c93b5",
   "metadata": {},
   "source": [
    "### Custom Scorer"
   ]
  },
  {
   "cell_type": "code",
   "execution_count": 91,
   "id": "07f112e7",
   "metadata": {},
   "outputs": [
    {
     "data": {
      "text/plain": [
       "numpy.ndarray"
      ]
     },
     "execution_count": 91,
     "metadata": {},
     "output_type": "execute_result"
    }
   ],
   "source": [
    "type(updated_preds)"
   ]
  },
  {
   "cell_type": "code",
   "execution_count": 92,
   "id": "0ed091f8",
   "metadata": {},
   "outputs": [
    {
     "data": {
      "text/plain": [
       "0    13352\n",
       "1      957\n",
       "dtype: int64"
      ]
     },
     "execution_count": 92,
     "metadata": {},
     "output_type": "execute_result"
    }
   ],
   "source": [
    "pd.DataFrame(updated_preds).value_counts()"
   ]
  },
  {
   "cell_type": "code",
   "execution_count": 93,
   "id": "41f732db",
   "metadata": {},
   "outputs": [
    {
     "data": {
      "image/png": "[encoded data removed]",
      "text/plain": [
       "<Figure size 576x504 with 1 Axes>"
      ]
     },
     "metadata": {},
     "output_type": "display_data"
    }
   ],
   "source": [
    "plt.hist(y_train_0[updated_preds==1], bins=50);"
   ]
  },
  {
   "cell_type": "code",
   "execution_count": 94,
   "id": "6399066f",
   "metadata": {},
   "outputs": [
    {
     "data": {
      "text/plain": [
       "-14.700000000000019"
      ]
     },
     "execution_count": 94,
     "metadata": {},
     "output_type": "execute_result"
    }
   ],
   "source": [
    "y_train_0[updated_preds==1].sum()"
   ]
  },
  {
   "cell_type": "markdown",
   "id": "78ae8147",
   "metadata": {},
   "source": [
    "### Randomized Search - Hyperparams"
   ]
  },
  {
   "cell_type": "code",
   "execution_count": 96,
   "id": "1cddb40d",
   "metadata": {},
   "outputs": [],
   "source": [
    "from sklearn.model_selection import RandomizedSearchCV\n",
    "from scipy import stats"
   ]
  },
  {
   "cell_type": "code",
   "execution_count": 131,
   "id": "2eefed64",
   "metadata": {
    "scrolled": true
   },
   "outputs": [
    {
     "name": "stdout",
     "output_type": "stream",
     "text": [
      "Fitting 5 folds for each of 100 candidates, totalling 500 fits\n"
     ]
    },
    {
     "data": {
      "text/html": [
       "<style>#sk-container-id-6 {color: black;background-color: white;}#sk-container-id-6 pre{padding: 0;}#sk-container-id-6 div.sk-toggleable {background-color: white;}#sk-container-id-6 label.sk-toggleable__label {cursor: pointer;display: block;width: 100%;margin-bottom: 0;padding: 0.3em;box-sizing: border-box;text-align: center;}#sk-container-id-6 label.sk-toggleable__label-arrow:before {content: \"▸\";float: left;margin-right: 0.25em;color: #696969;}#sk-container-id-6 label.sk-toggleable__label-arrow:hover:before {color: black;}#sk-container-id-6 div.sk-estimator:hover label.sk-toggleable__label-arrow:before {color: black;}#sk-container-id-6 div.sk-toggleable__content {max-height: 0;max-width: 0;overflow: hidden;text-align: left;background-color: #f0f8ff;}#sk-container-id-6 div.sk-toggleable__content pre {margin: 0.2em;color: black;border-radius: 0.25em;background-color: #f0f8ff;}#sk-container-id-6 input.sk-toggleable__control:checked~div.sk-toggleable__content {max-height: 200px;max-width: 100%;overflow: auto;}#sk-container-id-6 input.sk-toggleable__control:checked~label.sk-toggleable__label-arrow:before {content: \"▾\";}#sk-container-id-6 div.sk-estimator input.sk-toggleable__control:checked~label.sk-toggleable__label {background-color: #d4ebff;}#sk-container-id-6 div.sk-label input.sk-toggleable__control:checked~label.sk-toggleable__label {background-color: #d4ebff;}#sk-container-id-6 input.sk-hidden--visually {border: 0;clip: rect(1px 1px 1px 1px);clip: rect(1px, 1px, 1px, 1px);height: 1px;margin: -1px;overflow: hidden;padding: 0;position: absolute;width: 1px;}#sk-container-id-6 div.sk-estimator {font-family: monospace;background-color: #f0f8ff;border: 1px dotted black;border-radius: 0.25em;box-sizing: border-box;margin-bottom: 0.5em;}#sk-container-id-6 div.sk-estimator:hover {background-color: #d4ebff;}#sk-container-id-6 div.sk-parallel-item::after {content: \"\";width: 100%;border-bottom: 1px solid gray;flex-grow: 1;}#sk-container-id-6 div.sk-label:hover label.sk-toggleable__label {background-color: #d4ebff;}#sk-container-id-6 div.sk-serial::before {content: \"\";position: absolute;border-left: 1px solid gray;box-sizing: border-box;top: 0;bottom: 0;left: 50%;z-index: 0;}#sk-container-id-6 div.sk-serial {display: flex;flex-direction: column;align-items: center;background-color: white;padding-right: 0.2em;padding-left: 0.2em;position: relative;}#sk-container-id-6 div.sk-item {position: relative;z-index: 1;}#sk-container-id-6 div.sk-parallel {display: flex;align-items: stretch;justify-content: center;background-color: white;position: relative;}#sk-container-id-6 div.sk-item::before, #sk-container-id-6 div.sk-parallel-item::before {content: \"\";position: absolute;border-left: 1px solid gray;box-sizing: border-box;top: 0;bottom: 0;left: 50%;z-index: -1;}#sk-container-id-6 div.sk-parallel-item {display: flex;flex-direction: column;z-index: 1;position: relative;background-color: white;}#sk-container-id-6 div.sk-parallel-item:first-child::after {align-self: flex-end;width: 50%;}#sk-container-id-6 div.sk-parallel-item:last-child::after {align-self: flex-start;width: 50%;}#sk-container-id-6 div.sk-parallel-item:only-child::after {width: 0;}#sk-container-id-6 div.sk-dashed-wrapped {border: 1px dashed gray;margin: 0 0.4em 0.5em 0.4em;box-sizing: border-box;padding-bottom: 0.4em;background-color: white;}#sk-container-id-6 div.sk-label label {font-family: monospace;font-weight: bold;display: inline-block;line-height: 1.2em;}#sk-container-id-6 div.sk-label-container {text-align: center;}#sk-container-id-6 div.sk-container {/* jupyter's `normalize.less` sets `[hidden] { display: none; }` but bootstrap.min.css set `[hidden] { display: none !important; }` so we also need the `!important` here to be able to override the default hidden behavior on the sphinx rendered scikit-learn.org. See: https://github.com/scikit-learn/scikit-learn/issues/21755 */display: inline-block !important;position: relative;}#sk-container-id-6 div.sk-text-repr-fallback {display: none;}</style><div id=\"sk-container-id-6\" class=\"sk-top-container\"><div class=\"sk-text-repr-fallback\"><pre>XGBClassifier(base_score=0.5, booster=&#x27;gbtree&#x27;, callbacks=None,\n",
       "              colsample_bylevel=1, colsample_bynode=1, colsample_bytree=1,\n",
       "              early_stopping_rounds=None, enable_categorical=False,\n",
       "              eval_metric=None, gamma=0, gpu_id=-1, grow_policy=&#x27;depthwise&#x27;,\n",
       "              importance_type=None, interaction_constraints=&#x27;&#x27;,\n",
       "              learning_rate=0.300000012, max_bin=256, max_cat_to_onehot=4,\n",
       "              max_delta_step=0, max_depth=3, max_leaves=0, min_child_weight=1,\n",
       "              missing=nan, monotone_constraints=&#x27;()&#x27;, n_estimators=60, n_jobs=0,\n",
       "              num_parallel_tree=1, predictor=&#x27;auto&#x27;, random_state=0,\n",
       "              reg_alpha=0, reg_lambda=2, ...)</pre><b>In a Jupyter environment, please rerun this cell to show the HTML representation or trust the notebook. <br />On GitHub, the HTML representation is unable to render, please try loading this page with nbviewer.org.</b></div><div class=\"sk-container\" hidden><div class=\"sk-item\"><div class=\"sk-estimator sk-toggleable\"><input class=\"sk-toggleable__control sk-hidden--visually\" id=\"sk-estimator-id-6\" type=\"checkbox\" checked><label for=\"sk-estimator-id-6\" class=\"sk-toggleable__label sk-toggleable__label-arrow\">XGBClassifier</label><div class=\"sk-toggleable__content\"><pre>XGBClassifier(base_score=0.5, booster=&#x27;gbtree&#x27;, callbacks=None,\n",
       "              colsample_bylevel=1, colsample_bynode=1, colsample_bytree=1,\n",
       "              early_stopping_rounds=None, enable_categorical=False,\n",
       "              eval_metric=None, gamma=0, gpu_id=-1, grow_policy=&#x27;depthwise&#x27;,\n",
       "              importance_type=None, interaction_constraints=&#x27;&#x27;,\n",
       "              learning_rate=0.300000012, max_bin=256, max_cat_to_onehot=4,\n",
       "              max_delta_step=0, max_depth=3, max_leaves=0, min_child_weight=1,\n",
       "              missing=nan, monotone_constraints=&#x27;()&#x27;, n_estimators=60, n_jobs=0,\n",
       "              num_parallel_tree=1, predictor=&#x27;auto&#x27;, random_state=0,\n",
       "              reg_alpha=0, reg_lambda=2, ...)</pre></div></div></div></div></div>"
      ],
      "text/plain": [
       "XGBClassifier(base_score=0.5, booster='gbtree', callbacks=None,\n",
       "              colsample_bylevel=1, colsample_bynode=1, colsample_bytree=1,\n",
       "              early_stopping_rounds=None, enable_categorical=False,\n",
       "              eval_metric=None, gamma=0, gpu_id=-1, grow_policy='depthwise',\n",
       "              importance_type=None, interaction_constraints='',\n",
       "              learning_rate=0.300000012, max_bin=256, max_cat_to_onehot=4,\n",
       "              max_delta_step=0, max_depth=3, max_leaves=0, min_child_weight=1,\n",
       "              missing=nan, monotone_constraints='()', n_estimators=60, n_jobs=0,\n",
       "              num_parallel_tree=1, predictor='auto', random_state=0,\n",
       "              reg_alpha=0, reg_lambda=2, ...)"
      ]
     },
     "execution_count": 131,
     "metadata": {},
     "output_type": "execute_result"
    }
   ],
   "source": [
    "model = xgb.XGBClassifier()\n",
    "\n",
    "parameters = {\n",
    "    'booster': ['gbtree'],\n",
    "    'max_depth': [3, 5, 7,10,15],\n",
    "    'reg_lambda':[1,1.5,2, 2.5,3],\n",
    "    'n_estimators': range(60, 500, 50),\n",
    "}\n",
    "\n",
    "# fit_params = {\"early_stopping_rounds\":[20, 40, 60, 80],\n",
    "#               \"eval_metric\": 'r2_score'\n",
    "#               \"eval_set\": [[X_test_0, y_test_0]]\n",
    "#              }\n",
    "\n",
    "random_search = RandomizedSearchCV(\n",
    "    estimator=model,\n",
    "    param_distributions=parameters,\n",
    "    n_iter = 100,\n",
    "    n_jobs = -1,\n",
    "    cv = 5,\n",
    "    verbose=1\n",
    ")\n",
    "\n",
    "random_search.fit(X_train_0,y_train_0_classifier);\n",
    "random_search.best_estimator_"
   ]
  },
  {
   "cell_type": "code",
   "execution_count": 132,
   "id": "0b02704e",
   "metadata": {},
   "outputs": [
    {
     "name": "stdout",
     "output_type": "stream",
     "text": [
      "XGBClassifier(base_score=0.5, booster='gbtree', callbacks=None,\n",
      "              colsample_bylevel=1, colsample_bynode=1, colsample_bytree=1,\n",
      "              early_stopping_rounds=None, enable_categorical=False,\n",
      "              eval_metric=None, gamma=0, gpu_id=-1, grow_policy='depthwise',\n",
      "              importance_type=None, interaction_constraints='',\n",
      "              learning_rate=0.300000012, max_bin=256, max_cat_to_onehot=4,\n",
      "              max_delta_step=0, max_depth=3, max_leaves=0, min_child_weight=1,\n",
      "              missing=nan, monotone_constraints='()', n_estimators=60, n_jobs=0,\n",
      "              num_parallel_tree=1, predictor='auto', random_state=0,\n",
      "              reg_alpha=0, reg_lambda=2, ...)\n"
     ]
    }
   ],
   "source": [
    "print(random_search.best_estimator_)"
   ]
  },
  {
   "cell_type": "code",
   "execution_count": 146,
   "id": "0ec6b10c",
   "metadata": {},
   "outputs": [
    {
     "name": "stdout",
     "output_type": "stream",
     "text": [
      "Iniciando modelo pré treinado\n"
     ]
    },
    {
     "data": {
      "image/png": "[encoded data removed]",
      "text/plain": [
       "<Figure size 1296x648 with 4 Axes>"
      ]
     },
     "metadata": {},
     "output_type": "display_data"
    }
   ],
   "source": [
    "model_classifier_results(n=1000, m=random_search.best_estimator_)"
   ]
  },
  {
   "cell_type": "code",
   "execution_count": 149,
   "id": "6ab0023c",
   "metadata": {},
   "outputs": [
    {
     "data": {
      "text/plain": [
       "3.6142465753424657"
      ]
     },
     "execution_count": 149,
     "metadata": {},
     "output_type": "execute_result"
    }
   ],
   "source": [
    "6596*0.2/365"
   ]
  },
  {
   "cell_type": "markdown",
   "id": "eff25391",
   "metadata": {},
   "source": [
    "### Learning Curves"
   ]
  },
  {
   "cell_type": "code",
   "execution_count": 134,
   "id": "efab7819",
   "metadata": {},
   "outputs": [],
   "source": [
    "from sklearn.model_selection import cross_val_score, learning_curve"
   ]
  },
  {
   "cell_type": "code",
   "execution_count": 135,
   "id": "56864a62",
   "metadata": {},
   "outputs": [
    {
     "data": {
      "image/png": "[encoded data removed]",
      "text/plain": [
       "<Figure size 576x504 with 1 Axes>"
      ]
     },
     "metadata": {},
     "output_type": "display_data"
    }
   ],
   "source": [
    "train_sizes = [1,500,1000,2500,5000,7500,10000,11447]\n",
    "\n",
    "# Get train scores (R2), train sizes, and validation scores using `learning_curve`\n",
    "\n",
    "train_sizes, train_scores, test_scores = learning_curve(\n",
    "estimator=random_search.best_estimator_, X=X_train_0, y=y_train_0_classifier, train_sizes=train_sizes, cv=5)\n",
    "\n",
    "# Take the mean of cross-validated train scores and validation scores\n",
    "\n",
    "train_scores_mean = np.mean(train_scores, axis=1)\n",
    "test_scores_mean = np.mean(test_scores, axis=1)\n",
    "plt.plot(train_sizes, train_scores_mean, label = 'Training score');\n",
    "plt.plot(train_sizes, test_scores_mean, label = 'Test score');\n",
    "plt.ylabel('Precision', fontsize = 14)\n",
    "plt.xlabel('Training set size', fontsize = 14)\n",
    "plt.title('Learning curves', fontsize = 18, y = 1.03)\n",
    "plt.legend();"
   ]
  },
  {
   "cell_type": "code",
   "execution_count": null,
   "id": "47d64d0b",
   "metadata": {},
   "outputs": [],
   "source": []
  },
  {
   "cell_type": "code",
   "execution_count": null,
   "id": "5c215e81",
   "metadata": {},
   "outputs": [],
   "source": []
  }
 ],
 "metadata": {
  "kernelspec": {
   "display_name": "Python 3 (ipykernel)",
   "language": "python",
   "name": "python3"
  },
  "language_info": {
   "codemirror_mode": {
    "name": "ipython",
    "version": 3
   },
   "file_extension": ".py",
   "mimetype": "text/x-python",
   "name": "python",
   "nbconvert_exporter": "python",
   "pygments_lexer": "ipython3",
   "version": "3.8.12"
  },
  "toc": {
   "base_numbering": 1,
   "nav_menu": {},
   "number_sections": true,
   "sideBar": true,
   "skip_h1_title": false,
   "title_cell": "Table of Contents",
   "title_sidebar": "Contents",
   "toc_cell": false,
   "toc_position": {},
   "toc_section_display": true,
   "toc_window_display": false
  },
  "varInspector": {
   "cols": {
    "lenName": 16,
    "lenType": 16,
    "lenVar": 40
   },
   "kernels_config": {
    "python": {
     "delete_cmd_postfix": "",
     "delete_cmd_prefix": "del ",
     "library": "var_list.py",
     "varRefreshCmd": "print(var_dic_list())"
    },
    "r": {
     "delete_cmd_postfix": ") ",
     "delete_cmd_prefix": "rm(",
     "library": "var_list.r",
     "varRefreshCmd": "cat(var_dic_list()) "
    }
   },
   "types_to_exclude": [
    "module",
    "function",
    "builtin_function_or_method",
    "instance",
    "_Feature"
   ],
   "window_display": false
  }
 },
 "nbformat": 4,
 "nbformat_minor": 5
}
