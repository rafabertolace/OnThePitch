{
 "cells": [
  {
   "cell_type": "markdown",
   "id": "d1816ff7",
   "metadata": {},
   "source": [
    "## Imports"
   ]
  },
  {
   "cell_type": "code",
   "execution_count": 1,
   "id": "06e1f50a",
   "metadata": {},
   "outputs": [],
   "source": [
    "import pandas as pd\n",
    "from os import listdir\n",
    "from os.path import isfile, join\n",
    "import matplotlib.pyplot as plt  \n",
    "plt.style.use('dark_background')"
   ]
  },
  {
   "cell_type": "markdown",
   "id": "b295e690",
   "metadata": {},
   "source": [
    "## Loading the Dataframe"
   ]
  },
  {
   "cell_type": "code",
   "execution_count": 2,
   "id": "b95d2a37",
   "metadata": {},
   "outputs": [
    {
     "data": {
      "text/plain": [
       "'/home/rafael/code/rafabertolace/OnThePitch/notebooks'"
      ]
     },
     "execution_count": 2,
     "metadata": {},
     "output_type": "execute_result"
    }
   ],
   "source": [
    "pwd"
   ]
  },
  {
   "cell_type": "markdown",
   "id": "3fa4f75c",
   "metadata": {},
   "source": [
    "### Merging the Seasons csv files (2019-2020 untill 2021-2022)"
   ]
  },
  {
   "cell_type": "code",
   "execution_count": 3,
   "id": "39b6d4af",
   "metadata": {},
   "outputs": [
    {
     "name": "stdout",
     "output_type": "stream",
     "text": [
      "['Serie A 2019-2020.csv', 'Serie A 2020-2021.csv', 'Serie A 2021-2022.csv']\n"
     ]
    }
   ],
   "source": [
    "print(os.listdir('./../raw_data/Italy'))"
   ]
  },
  {
   "cell_type": "code",
   "execution_count": 4,
   "id": "2208c966",
   "metadata": {},
   "outputs": [],
   "source": [
    "files = [file for file in os.listdir('./../raw_data/Italy')]\n",
    "data = pd.DataFrame()\n",
    "\n",
    "\n",
    "for file in files:\n",
    "    df = pd.read_csv('./../raw_data/Italy/'+file)\n",
    "    data = pd.concat([data, df])"
   ]
  },
  {
   "cell_type": "code",
   "execution_count": 5,
   "id": "c932f0b1",
   "metadata": {},
   "outputs": [
    {
     "data": {
      "text/html": [
       "<div>\n",
       "<style scoped>\n",
       "    .dataframe tbody tr th:only-of-type {\n",
       "        vertical-align: middle;\n",
       "    }\n",
       "\n",
       "    .dataframe tbody tr th {\n",
       "        vertical-align: top;\n",
       "    }\n",
       "\n",
       "    .dataframe thead th {\n",
       "        text-align: right;\n",
       "    }\n",
       "</style>\n",
       "<table border=\"1\" class=\"dataframe\">\n",
       "  <thead>\n",
       "    <tr style=\"text-align: right;\">\n",
       "      <th></th>\n",
       "      <th>Div</th>\n",
       "      <th>Date</th>\n",
       "      <th>Time</th>\n",
       "      <th>HomeTeam</th>\n",
       "      <th>AwayTeam</th>\n",
       "      <th>FTHG</th>\n",
       "      <th>FTAG</th>\n",
       "      <th>FTR</th>\n",
       "      <th>HTHG</th>\n",
       "      <th>HTAG</th>\n",
       "      <th>...</th>\n",
       "      <th>AvgC&lt;2.5</th>\n",
       "      <th>AHCh</th>\n",
       "      <th>B365CAHH</th>\n",
       "      <th>B365CAHA</th>\n",
       "      <th>PCAHH</th>\n",
       "      <th>PCAHA</th>\n",
       "      <th>MaxCAHH</th>\n",
       "      <th>MaxCAHA</th>\n",
       "      <th>AvgCAHH</th>\n",
       "      <th>AvgCAHA</th>\n",
       "    </tr>\n",
       "  </thead>\n",
       "  <tbody>\n",
       "    <tr>\n",
       "      <th>0</th>\n",
       "      <td>I1</td>\n",
       "      <td>24/08/2019</td>\n",
       "      <td>17:00</td>\n",
       "      <td>Parma</td>\n",
       "      <td>Juventus</td>\n",
       "      <td>0</td>\n",
       "      <td>1</td>\n",
       "      <td>A</td>\n",
       "      <td>0</td>\n",
       "      <td>1</td>\n",
       "      <td>...</td>\n",
       "      <td>2.15</td>\n",
       "      <td>1.50</td>\n",
       "      <td>1.77</td>\n",
       "      <td>2.02</td>\n",
       "      <td>1.81</td>\n",
       "      <td>2.11</td>\n",
       "      <td>1.93</td>\n",
       "      <td>2.12</td>\n",
       "      <td>1.83</td>\n",
       "      <td>2.04</td>\n",
       "    </tr>\n",
       "    <tr>\n",
       "      <th>1</th>\n",
       "      <td>I1</td>\n",
       "      <td>24/08/2019</td>\n",
       "      <td>19:45</td>\n",
       "      <td>Fiorentina</td>\n",
       "      <td>Napoli</td>\n",
       "      <td>3</td>\n",
       "      <td>4</td>\n",
       "      <td>A</td>\n",
       "      <td>1</td>\n",
       "      <td>2</td>\n",
       "      <td>...</td>\n",
       "      <td>2.15</td>\n",
       "      <td>0.75</td>\n",
       "      <td>1.75</td>\n",
       "      <td>2.05</td>\n",
       "      <td>1.81</td>\n",
       "      <td>2.11</td>\n",
       "      <td>1.94</td>\n",
       "      <td>2.14</td>\n",
       "      <td>1.80</td>\n",
       "      <td>2.09</td>\n",
       "    </tr>\n",
       "    <tr>\n",
       "      <th>2</th>\n",
       "      <td>I1</td>\n",
       "      <td>25/08/2019</td>\n",
       "      <td>17:00</td>\n",
       "      <td>Udinese</td>\n",
       "      <td>Milan</td>\n",
       "      <td>1</td>\n",
       "      <td>0</td>\n",
       "      <td>H</td>\n",
       "      <td>0</td>\n",
       "      <td>0</td>\n",
       "      <td>...</td>\n",
       "      <td>1.78</td>\n",
       "      <td>0.50</td>\n",
       "      <td>1.86</td>\n",
       "      <td>2.07</td>\n",
       "      <td>1.88</td>\n",
       "      <td>2.04</td>\n",
       "      <td>1.91</td>\n",
       "      <td>2.09</td>\n",
       "      <td>1.85</td>\n",
       "      <td>2.04</td>\n",
       "    </tr>\n",
       "    <tr>\n",
       "      <th>3</th>\n",
       "      <td>I1</td>\n",
       "      <td>25/08/2019</td>\n",
       "      <td>19:45</td>\n",
       "      <td>Cagliari</td>\n",
       "      <td>Brescia</td>\n",
       "      <td>0</td>\n",
       "      <td>1</td>\n",
       "      <td>A</td>\n",
       "      <td>0</td>\n",
       "      <td>0</td>\n",
       "      <td>...</td>\n",
       "      <td>1.83</td>\n",
       "      <td>-0.75</td>\n",
       "      <td>2.10</td>\n",
       "      <td>1.83</td>\n",
       "      <td>2.11</td>\n",
       "      <td>1.82</td>\n",
       "      <td>2.12</td>\n",
       "      <td>1.85</td>\n",
       "      <td>2.08</td>\n",
       "      <td>1.82</td>\n",
       "    </tr>\n",
       "    <tr>\n",
       "      <th>4</th>\n",
       "      <td>I1</td>\n",
       "      <td>25/08/2019</td>\n",
       "      <td>19:45</td>\n",
       "      <td>Roma</td>\n",
       "      <td>Genoa</td>\n",
       "      <td>3</td>\n",
       "      <td>3</td>\n",
       "      <td>D</td>\n",
       "      <td>2</td>\n",
       "      <td>2</td>\n",
       "      <td>...</td>\n",
       "      <td>2.23</td>\n",
       "      <td>-0.75</td>\n",
       "      <td>1.97</td>\n",
       "      <td>1.96</td>\n",
       "      <td>1.98</td>\n",
       "      <td>1.94</td>\n",
       "      <td>1.99</td>\n",
       "      <td>2.20</td>\n",
       "      <td>1.92</td>\n",
       "      <td>1.97</td>\n",
       "    </tr>\n",
       "  </tbody>\n",
       "</table>\n",
       "<p>5 rows × 105 columns</p>\n",
       "</div>"
      ],
      "text/plain": [
       "  Div        Date   Time    HomeTeam  AwayTeam  FTHG  FTAG FTR  HTHG  HTAG  \\\n",
       "0  I1  24/08/2019  17:00       Parma  Juventus     0     1   A     0     1   \n",
       "1  I1  24/08/2019  19:45  Fiorentina    Napoli     3     4   A     1     2   \n",
       "2  I1  25/08/2019  17:00     Udinese     Milan     1     0   H     0     0   \n",
       "3  I1  25/08/2019  19:45    Cagliari   Brescia     0     1   A     0     0   \n",
       "4  I1  25/08/2019  19:45        Roma     Genoa     3     3   D     2     2   \n",
       "\n",
       "   ... AvgC<2.5  AHCh  B365CAHH  B365CAHA  PCAHH  PCAHA  MaxCAHH  MaxCAHA  \\\n",
       "0  ...     2.15  1.50      1.77      2.02   1.81   2.11     1.93     2.12   \n",
       "1  ...     2.15  0.75      1.75      2.05   1.81   2.11     1.94     2.14   \n",
       "2  ...     1.78  0.50      1.86      2.07   1.88   2.04     1.91     2.09   \n",
       "3  ...     1.83 -0.75      2.10      1.83   2.11   1.82     2.12     1.85   \n",
       "4  ...     2.23 -0.75      1.97      1.96   1.98   1.94     1.99     2.20   \n",
       "\n",
       "   AvgCAHH  AvgCAHA  \n",
       "0     1.83     2.04  \n",
       "1     1.80     2.09  \n",
       "2     1.85     2.04  \n",
       "3     2.08     1.82  \n",
       "4     1.92     1.97  \n",
       "\n",
       "[5 rows x 105 columns]"
      ]
     },
     "execution_count": 5,
     "metadata": {},
     "output_type": "execute_result"
    }
   ],
   "source": [
    "data.head()"
   ]
  },
  {
   "cell_type": "code",
   "execution_count": 6,
   "id": "fe07720d",
   "metadata": {},
   "outputs": [
    {
     "name": "stdout",
     "output_type": "stream",
     "text": [
      "Div\n",
      "Date\n",
      "Time\n",
      "HomeTeam\n",
      "AwayTeam\n",
      "FTHG\n",
      "FTAG\n",
      "FTR\n",
      "HTHG\n",
      "HTAG\n",
      "HTR\n",
      "HS\n",
      "AS\n",
      "HST\n",
      "AST\n",
      "HF\n",
      "AF\n",
      "HC\n",
      "AC\n",
      "HY\n",
      "AY\n",
      "HR\n",
      "AR\n",
      "B365H\n",
      "B365D\n",
      "B365A\n",
      "BWH\n",
      "BWD\n",
      "BWA\n",
      "IWH\n",
      "IWD\n",
      "IWA\n",
      "PSH\n",
      "PSD\n",
      "PSA\n",
      "WHH\n",
      "WHD\n",
      "WHA\n",
      "VCH\n",
      "VCD\n",
      "VCA\n",
      "MaxH\n",
      "MaxD\n",
      "MaxA\n",
      "AvgH\n",
      "AvgD\n",
      "AvgA\n",
      "B365>2.5\n",
      "B365<2.5\n",
      "P>2.5\n",
      "P<2.5\n",
      "Max>2.5\n",
      "Max<2.5\n",
      "Avg>2.5\n",
      "Avg<2.5\n",
      "AHh\n",
      "B365AHH\n",
      "B365AHA\n",
      "PAHH\n",
      "PAHA\n",
      "MaxAHH\n",
      "MaxAHA\n",
      "AvgAHH\n",
      "AvgAHA\n",
      "B365CH\n",
      "B365CD\n",
      "B365CA\n",
      "BWCH\n",
      "BWCD\n",
      "BWCA\n",
      "IWCH\n",
      "IWCD\n",
      "IWCA\n",
      "PSCH\n",
      "PSCD\n",
      "PSCA\n",
      "WHCH\n",
      "WHCD\n",
      "WHCA\n",
      "VCCH\n",
      "VCCD\n",
      "VCCA\n",
      "MaxCH\n",
      "MaxCD\n",
      "MaxCA\n",
      "AvgCH\n",
      "AvgCD\n",
      "AvgCA\n",
      "B365C>2.5\n",
      "B365C<2.5\n",
      "PC>2.5\n",
      "PC<2.5\n",
      "MaxC>2.5\n",
      "MaxC<2.5\n",
      "AvgC>2.5\n",
      "AvgC<2.5\n",
      "AHCh\n",
      "B365CAHH\n",
      "B365CAHA\n",
      "PCAHH\n",
      "PCAHA\n",
      "MaxCAHH\n",
      "MaxCAHA\n",
      "AvgCAHH\n",
      "AvgCAHA\n"
     ]
    }
   ],
   "source": [
    "for col_name in data.columns: \n",
    "    print(col_name)"
   ]
  },
  {
   "cell_type": "code",
   "execution_count": 7,
   "id": "8c5821c7",
   "metadata": {},
   "outputs": [],
   "source": [
    "# data_date_2 = pd.to_datetime(data_date, dayfirst = True)"
   ]
  },
  {
   "cell_type": "markdown",
   "id": "32c8ad8d",
   "metadata": {},
   "source": [
    "## Features Engineering"
   ]
  },
  {
   "cell_type": "markdown",
   "id": "c84939f7",
   "metadata": {},
   "source": [
    "### Number of Goals, Over and Under"
   ]
  },
  {
   "cell_type": "code",
   "execution_count": 8,
   "id": "fed74758",
   "metadata": {},
   "outputs": [],
   "source": [
    "# total number of goals = goals from the home team + goals from visiting team\n",
    "data['nb_goals']=data['FTHG']+data['FTAG']\n",
    "\n",
    "# boolean: true or false regarding whether they were more than 2.5 goals\n",
    "data['over_2.5_goals']=data['nb_goals']>2.5\n",
    "\n",
    "# boolean: true or false regarding whether they were less than 2.5 goals\n",
    "data['under_2.5_goals']=data['nb_goals']<2.5"
   ]
  },
  {
   "cell_type": "markdown",
   "id": "3ffc1554",
   "metadata": {},
   "source": [
    "### Payout Average"
   ]
  },
  {
   "cell_type": "markdown",
   "id": "466f6de3",
   "metadata": {},
   "source": [
    "  Payout of betting on over/under 2.5 goals: we get 0 if we lose the bet, we get the Avg if we win the bet (Avg = market average of the odds)\n"
   ]
  },
  {
   "cell_type": "code",
   "execution_count": 9,
   "id": "4b10653e",
   "metadata": {},
   "outputs": [],
   "source": [
    "# payout under 2.5 for Average OPENING odds\n",
    "data['payout_avg_under_2.5'] = data['under_2.5_goals']*data['Avg<2.5']\n",
    "\n",
    "# payout over 2.5 for Average OPENING odds\n",
    "data['payout_avg_over_2.5'] = data['over_2.5_goals']*data['Avg>2.5']\n",
    "\n",
    "# payout under 2.5 for Average CLOSING odds\n",
    "data['payout_avg_under_closing_2.5'] = data['under_2.5_goals']*data['AvgC<2.5']\n",
    "\n",
    "# payout over 2.5 for Average CLOSING odds\n",
    "data['payout_avg_over_closing_2.5'] = data['over_2.5_goals']*data['AvgC>2.5']"
   ]
  },
  {
   "cell_type": "markdown",
   "id": "e7499f75",
   "metadata": {},
   "source": [
    "#### Payout Pinnacle"
   ]
  },
  {
   "cell_type": "code",
   "execution_count": 10,
   "id": "7ebcc6f1",
   "metadata": {},
   "outputs": [],
   "source": [
    "#payout UNDER 2.5 for PINACLE specifically\n",
    "data['payout_under_2.5_pinacle'] = data['under_2.5_goals']*data['P<2.5']\n",
    "\n",
    "#payout UNDER 2.5 for PINACLE closing ddds specifically\n",
    "data['payout_under_2.5_pinacle_closing'] = data['under_2.5_goals']*data['PC<2.5']\n",
    "\n",
    "#payout OVER 2.5 for PINACLE specifically\n",
    "data['payout_over_2.5_pinacle'] = data['over_2.5_goals']*data['P>2.5']\n",
    "\n",
    "#payout OVER 2.5 for PINACLE closing odds specifically\n",
    "data['payout_over_2.5_pinacle_closing'] = data['over_2.5_goals']*data['PC>2.5']"
   ]
  },
  {
   "cell_type": "markdown",
   "id": "87aef2eb",
   "metadata": {},
   "source": [
    "#### Payout bet365"
   ]
  },
  {
   "cell_type": "code",
   "execution_count": 11,
   "id": "2fe3c17b",
   "metadata": {},
   "outputs": [],
   "source": [
    "#payout UNDER 2.5 for 365 specifically\n",
    "data['payout_under_2.5_365'] = data['under_2.5_goals']*data['B365<2.5']\n",
    "\n",
    "#payout UNDER 2.5 for 365 closing odds specifically\n",
    "data['payout_under_2.5_365_closing'] = data['under_2.5_goals']*data['B365C<2.5']\n",
    "\n",
    "#payout OVER 2.5 for 365 specifically\n",
    "data['payout_over_2.5_365'] = data['over_2.5_goals']*data['B365>2.5']\n",
    "\n",
    "#payout OVER 2.5 for 365 closing odds specifically\n",
    "data['payout_over_2.5_365_closing'] = data['over_2.5_goals']*data['B365C>2.5']"
   ]
  },
  {
   "cell_type": "markdown",
   "id": "9ad9c30c",
   "metadata": {},
   "source": [
    "### Implied Probability Market Average"
   ]
  },
  {
   "cell_type": "code",
   "execution_count": 12,
   "id": "4cdcecbb",
   "metadata": {},
   "outputs": [],
   "source": [
    "#Implied Probability UNDER 2.5 goals for for overall market opening odds (Avg) \n",
    "data['Implied Probability <2.5 avg']=1/data['Avg<2.5']*100\n",
    "\n",
    "#Implied Probability OVER 2.5 goals for for overall market opening odds (Avg) \n",
    "data['Implied Probability >2.5 avg']=1/data['Avg>2.5']*100\n",
    "\n",
    "#Implied Probability UNDER 2.5 goals for overall market closing odds (AvgC)\n",
    "data['Implied Probability <2.5 avg closing']=1/data['AvgC<2.5']*100\n",
    "\n",
    "#Implied Probability OVER 2.5 goals for overall market closing odds (AvgC)\n",
    "data['Implied Probability >2.5 avg closing']=1/data['AvgC>2.5']*100"
   ]
  },
  {
   "cell_type": "markdown",
   "id": "d3cd6ba0",
   "metadata": {},
   "source": [
    "### Implied Probability Pinnacle"
   ]
  },
  {
   "cell_type": "code",
   "execution_count": 13,
   "id": "ecdfbb9d",
   "metadata": {},
   "outputs": [],
   "source": [
    "#Implied Probability UNDER 2.5 goals for PINACLE\n",
    "data['Implied Probability <2.5 pinacle']=1/data['P<2.5']*100\n",
    "\n",
    "#Implied Probability OVER 2.5 goals for PINACLE\n",
    "data['Implied Probability >2.5 pinacle']=1/data['P>2.5']*100\n",
    "\n",
    "#Implied Probability UNDER 2.5 goals for PINACLE closing odds\n",
    "data['Implied Probability <2.5 pinacle closing']=1/data['PC<2.5']*100\n",
    "\n",
    "#Implied Probability OVER 2.5 goals for PINACLE closing odds\n",
    "data['Implied Probability >2.5 pinacle closing']=1/data['PC>2.5']*100"
   ]
  },
  {
   "cell_type": "markdown",
   "id": "8dc6d342",
   "metadata": {},
   "source": [
    "### Implied Probability bet365"
   ]
  },
  {
   "cell_type": "code",
   "execution_count": 14,
   "id": "eab84c20",
   "metadata": {},
   "outputs": [],
   "source": [
    "#Implied Probability UNDER 2.5 goals for 365\n",
    "data['Implied Probability <2.5 365']=1/data['B365<2.5']*100\n",
    "\n",
    "#Implied Probability UNDER 2.5 goals for 365 closing odds\n",
    "data['Implied Probability <2.5 365 closing']=1/data['B365C<2.5']*100\n",
    "\n",
    "#Implied Probability OVER 2.5 goals for 365\n",
    "data['Implied Probability >2.5 365']=1/data['B365>2.5']*100\n",
    "\n",
    "#Implied Probability OVER 2.5 goals for 365 closing odds\n",
    "data['Implied Probability >2.5 365 closing']=1/data['B365C>2.5']*100"
   ]
  },
  {
   "cell_type": "markdown",
   "id": "56fa1da6",
   "metadata": {},
   "source": [
    "### Binning the implied probabilities"
   ]
  },
  {
   "cell_type": "code",
   "execution_count": 15,
   "id": "8e1c90a8",
   "metadata": {},
   "outputs": [],
   "source": [
    "bins = [0, 5, 10, 15, 20, 25, 30, 35, 40, 45, 50, 55, 60, 65, 70, 75, 80, 85, 90, 95, 100]\n",
    "\n",
    "#Binning UNDER 2.5 Average Market opening odds\n",
    "data['binned <2.5 avg'] = pd.cut(data['Implied Probability <2.5 avg'], bins)\n",
    "\n",
    "#Binning Over 2.5 Average Market opening odds\n",
    "data['binned >2.5 avg'] = pd.cut(data['Implied Probability >2.5 avg'], bins)\n",
    "\n",
    "#Binning UNDER 2.5 Average Market closing odds\n",
    "data['binned <2.5 avg closing'] = pd.cut(data['Implied Probability <2.5 avg closing'], bins)\n",
    "\n",
    "#Binning OVER 2.5 Average Market closing odds\n",
    "data['binned >2.5 avg closing'] = pd.cut(data['Implied Probability >2.5 avg closing'], bins)"
   ]
  },
  {
   "cell_type": "markdown",
   "id": "ec7d023e",
   "metadata": {},
   "source": [
    "### Binning Pinnacle"
   ]
  },
  {
   "cell_type": "code",
   "execution_count": 16,
   "id": "726978c9",
   "metadata": {},
   "outputs": [],
   "source": [
    "bins = [0, 5, 10, 15, 20, 25, 30, 35, 40, 45, 50, 55, 60, 65, 70, 75, 80, 85, 90, 95, 100]\n",
    "\n",
    "#Binned UNDER 2.5 Pinnacle opening odds\n",
    "data['binned <2.5 pinacle'] = pd.cut(data['Implied Probability <2.5 pinacle'], bins)\n",
    "\n",
    "#Binned UNDER 2.5 Pinnacle closing odds\n",
    "data['binned <2.5 pinacle closing'] = pd.cut(data['Implied Probability <2.5 pinacle closing'], bins)\n",
    "\n",
    "#Binned OVER 2.5 Pinnacle\n",
    "data['binned >2.5 pinacle'] = pd.cut(data['Implied Probability >2.5 pinacle'], bins)\n",
    "\n",
    "#Binned OVER 2.5 Pinnacle CLOSING odds\n",
    "data['binned >2.5 pinacle closing'] = pd.cut(data['Implied Probability >2.5 pinacle closing'], bins)"
   ]
  },
  {
   "cell_type": "markdown",
   "id": "2029ae39",
   "metadata": {},
   "source": [
    "### Binning bet365"
   ]
  },
  {
   "cell_type": "code",
   "execution_count": 17,
   "id": "4a73f0c4",
   "metadata": {},
   "outputs": [],
   "source": [
    "bins = [0, 5, 10, 15, 20, 25, 30, 35, 40, 45, 50, 55, 60, 65, 70, 75, 80, 85, 90, 95, 100]\n",
    "\n",
    "#Binned UNDER 2.5 bet365 OPENING odds\n",
    "data['binned <2.5 365'] = pd.cut(data['Implied Probability <2.5 365'], bins)\n",
    "\n",
    "#Binned UNDER 2.5 bet365 CLOSING odds\n",
    "data['binned <2.5 365 closing'] = pd.cut(data['Implied Probability <2.5 365 closing'], bins)\n",
    "\n",
    "#Binned OVER 2.5 bet365 OPENING odds\n",
    "data['binned >2.5 365'] = pd.cut(data['Implied Probability >2.5 365'], bins)\n",
    "\n",
    "#Binned OVER 2.5 bet365 CLOSING odds\n",
    "data['binned >2.5 365 closing'] = pd.cut(data['Implied Probability >2.5 365 closing'], bins)"
   ]
  },
  {
   "cell_type": "code",
   "execution_count": 18,
   "id": "c8c0a485",
   "metadata": {},
   "outputs": [
    {
     "data": {
      "text/html": [
       "<div>\n",
       "<style scoped>\n",
       "    .dataframe tbody tr th:only-of-type {\n",
       "        vertical-align: middle;\n",
       "    }\n",
       "\n",
       "    .dataframe tbody tr th {\n",
       "        vertical-align: top;\n",
       "    }\n",
       "\n",
       "    .dataframe thead th {\n",
       "        text-align: right;\n",
       "    }\n",
       "</style>\n",
       "<table border=\"1\" class=\"dataframe\">\n",
       "  <thead>\n",
       "    <tr style=\"text-align: right;\">\n",
       "      <th></th>\n",
       "      <th>Div</th>\n",
       "      <th>Date</th>\n",
       "      <th>Time</th>\n",
       "      <th>HomeTeam</th>\n",
       "      <th>AwayTeam</th>\n",
       "      <th>FTHG</th>\n",
       "      <th>FTAG</th>\n",
       "      <th>FTR</th>\n",
       "      <th>HTHG</th>\n",
       "      <th>HTAG</th>\n",
       "      <th>...</th>\n",
       "      <th>binned &lt;2.5 avg closing</th>\n",
       "      <th>binned &gt;2.5 avg closing</th>\n",
       "      <th>binned &lt;2.5 pinacle</th>\n",
       "      <th>binned &lt;2.5 pinacle closing</th>\n",
       "      <th>binned &gt;2.5 pinacle</th>\n",
       "      <th>binned &gt;2.5 pinacle closing</th>\n",
       "      <th>binned &lt;2.5 365</th>\n",
       "      <th>binned &lt;2.5 365 closing</th>\n",
       "      <th>binned &gt;2.5 365</th>\n",
       "      <th>binned &gt;2.5 365 closing</th>\n",
       "    </tr>\n",
       "  </thead>\n",
       "  <tbody>\n",
       "    <tr>\n",
       "      <th>0</th>\n",
       "      <td>I1</td>\n",
       "      <td>24/08/2019</td>\n",
       "      <td>17:00</td>\n",
       "      <td>Parma</td>\n",
       "      <td>Juventus</td>\n",
       "      <td>0</td>\n",
       "      <td>1</td>\n",
       "      <td>A</td>\n",
       "      <td>0</td>\n",
       "      <td>1</td>\n",
       "      <td>...</td>\n",
       "      <td>(45, 50]</td>\n",
       "      <td>(55, 60]</td>\n",
       "      <td>(45, 50]</td>\n",
       "      <td>(40, 45]</td>\n",
       "      <td>(55, 60]</td>\n",
       "      <td>(55, 60]</td>\n",
       "      <td>(45, 50]</td>\n",
       "      <td>(45, 50]</td>\n",
       "      <td>(55, 60]</td>\n",
       "      <td>(60, 65]</td>\n",
       "    </tr>\n",
       "    <tr>\n",
       "      <th>1</th>\n",
       "      <td>I1</td>\n",
       "      <td>24/08/2019</td>\n",
       "      <td>19:45</td>\n",
       "      <td>Fiorentina</td>\n",
       "      <td>Napoli</td>\n",
       "      <td>3</td>\n",
       "      <td>4</td>\n",
       "      <td>A</td>\n",
       "      <td>1</td>\n",
       "      <td>2</td>\n",
       "      <td>...</td>\n",
       "      <td>(45, 50]</td>\n",
       "      <td>(55, 60]</td>\n",
       "      <td>(45, 50]</td>\n",
       "      <td>(45, 50]</td>\n",
       "      <td>(50, 55]</td>\n",
       "      <td>(55, 60]</td>\n",
       "      <td>(45, 50]</td>\n",
       "      <td>(45, 50]</td>\n",
       "      <td>(55, 60]</td>\n",
       "      <td>(60, 65]</td>\n",
       "    </tr>\n",
       "    <tr>\n",
       "      <th>2</th>\n",
       "      <td>I1</td>\n",
       "      <td>25/08/2019</td>\n",
       "      <td>17:00</td>\n",
       "      <td>Udinese</td>\n",
       "      <td>Milan</td>\n",
       "      <td>1</td>\n",
       "      <td>0</td>\n",
       "      <td>H</td>\n",
       "      <td>0</td>\n",
       "      <td>0</td>\n",
       "      <td>...</td>\n",
       "      <td>(55, 60]</td>\n",
       "      <td>(45, 50]</td>\n",
       "      <td>(55, 60]</td>\n",
       "      <td>(55, 60]</td>\n",
       "      <td>(45, 50]</td>\n",
       "      <td>(45, 50]</td>\n",
       "      <td>(55, 60]</td>\n",
       "      <td>(55, 60]</td>\n",
       "      <td>(45, 50]</td>\n",
       "      <td>(45, 50]</td>\n",
       "    </tr>\n",
       "    <tr>\n",
       "      <th>3</th>\n",
       "      <td>I1</td>\n",
       "      <td>25/08/2019</td>\n",
       "      <td>19:45</td>\n",
       "      <td>Cagliari</td>\n",
       "      <td>Brescia</td>\n",
       "      <td>0</td>\n",
       "      <td>1</td>\n",
       "      <td>A</td>\n",
       "      <td>0</td>\n",
       "      <td>0</td>\n",
       "      <td>...</td>\n",
       "      <td>(50, 55]</td>\n",
       "      <td>(50, 55]</td>\n",
       "      <td>(50, 55]</td>\n",
       "      <td>(50, 55]</td>\n",
       "      <td>(45, 50]</td>\n",
       "      <td>(45, 50]</td>\n",
       "      <td>(55, 60]</td>\n",
       "      <td>(55, 60]</td>\n",
       "      <td>(45, 50]</td>\n",
       "      <td>(45, 50]</td>\n",
       "    </tr>\n",
       "    <tr>\n",
       "      <th>4</th>\n",
       "      <td>I1</td>\n",
       "      <td>25/08/2019</td>\n",
       "      <td>19:45</td>\n",
       "      <td>Roma</td>\n",
       "      <td>Genoa</td>\n",
       "      <td>3</td>\n",
       "      <td>3</td>\n",
       "      <td>D</td>\n",
       "      <td>2</td>\n",
       "      <td>2</td>\n",
       "      <td>...</td>\n",
       "      <td>(40, 45]</td>\n",
       "      <td>(60, 65]</td>\n",
       "      <td>(45, 50]</td>\n",
       "      <td>(40, 45]</td>\n",
       "      <td>(55, 60]</td>\n",
       "      <td>(55, 60]</td>\n",
       "      <td>(45, 50]</td>\n",
       "      <td>(40, 45]</td>\n",
       "      <td>(55, 60]</td>\n",
       "      <td>(60, 65]</td>\n",
       "    </tr>\n",
       "    <tr>\n",
       "      <th>...</th>\n",
       "      <td>...</td>\n",
       "      <td>...</td>\n",
       "      <td>...</td>\n",
       "      <td>...</td>\n",
       "      <td>...</td>\n",
       "      <td>...</td>\n",
       "      <td>...</td>\n",
       "      <td>...</td>\n",
       "      <td>...</td>\n",
       "      <td>...</td>\n",
       "      <td>...</td>\n",
       "      <td>...</td>\n",
       "      <td>...</td>\n",
       "      <td>...</td>\n",
       "      <td>...</td>\n",
       "      <td>...</td>\n",
       "      <td>...</td>\n",
       "      <td>...</td>\n",
       "      <td>...</td>\n",
       "      <td>...</td>\n",
       "      <td>...</td>\n",
       "    </tr>\n",
       "    <tr>\n",
       "      <th>375</th>\n",
       "      <td>I1</td>\n",
       "      <td>22/05/2022</td>\n",
       "      <td>11:30</td>\n",
       "      <td>Spezia</td>\n",
       "      <td>Napoli</td>\n",
       "      <td>0</td>\n",
       "      <td>3</td>\n",
       "      <td>A</td>\n",
       "      <td>0</td>\n",
       "      <td>3</td>\n",
       "      <td>...</td>\n",
       "      <td>(40, 45]</td>\n",
       "      <td>(65, 70]</td>\n",
       "      <td>(35, 40]</td>\n",
       "      <td>(35, 40]</td>\n",
       "      <td>(65, 70]</td>\n",
       "      <td>(60, 65]</td>\n",
       "      <td>(35, 40]</td>\n",
       "      <td>(35, 40]</td>\n",
       "      <td>(65, 70]</td>\n",
       "      <td>(65, 70]</td>\n",
       "    </tr>\n",
       "    <tr>\n",
       "      <th>376</th>\n",
       "      <td>I1</td>\n",
       "      <td>22/05/2022</td>\n",
       "      <td>17:00</td>\n",
       "      <td>Inter</td>\n",
       "      <td>Sampdoria</td>\n",
       "      <td>3</td>\n",
       "      <td>0</td>\n",
       "      <td>H</td>\n",
       "      <td>0</td>\n",
       "      <td>0</td>\n",
       "      <td>...</td>\n",
       "      <td>(25, 30]</td>\n",
       "      <td>(75, 80]</td>\n",
       "      <td>(25, 30]</td>\n",
       "      <td>(25, 30]</td>\n",
       "      <td>(75, 80]</td>\n",
       "      <td>(75, 80]</td>\n",
       "      <td>(25, 30]</td>\n",
       "      <td>(25, 30]</td>\n",
       "      <td>(75, 80]</td>\n",
       "      <td>(75, 80]</td>\n",
       "    </tr>\n",
       "    <tr>\n",
       "      <th>377</th>\n",
       "      <td>I1</td>\n",
       "      <td>22/05/2022</td>\n",
       "      <td>17:00</td>\n",
       "      <td>Sassuolo</td>\n",
       "      <td>Milan</td>\n",
       "      <td>0</td>\n",
       "      <td>3</td>\n",
       "      <td>A</td>\n",
       "      <td>0</td>\n",
       "      <td>3</td>\n",
       "      <td>...</td>\n",
       "      <td>(35, 40]</td>\n",
       "      <td>(65, 70]</td>\n",
       "      <td>(35, 40]</td>\n",
       "      <td>(35, 40]</td>\n",
       "      <td>(65, 70]</td>\n",
       "      <td>(65, 70]</td>\n",
       "      <td>(35, 40]</td>\n",
       "      <td>(35, 40]</td>\n",
       "      <td>(65, 70]</td>\n",
       "      <td>(65, 70]</td>\n",
       "    </tr>\n",
       "    <tr>\n",
       "      <th>378</th>\n",
       "      <td>I1</td>\n",
       "      <td>22/05/2022</td>\n",
       "      <td>20:00</td>\n",
       "      <td>Salernitana</td>\n",
       "      <td>Udinese</td>\n",
       "      <td>0</td>\n",
       "      <td>4</td>\n",
       "      <td>A</td>\n",
       "      <td>0</td>\n",
       "      <td>3</td>\n",
       "      <td>...</td>\n",
       "      <td>(40, 45]</td>\n",
       "      <td>(60, 65]</td>\n",
       "      <td>(40, 45]</td>\n",
       "      <td>(40, 45]</td>\n",
       "      <td>(60, 65]</td>\n",
       "      <td>(60, 65]</td>\n",
       "      <td>(40, 45]</td>\n",
       "      <td>(40, 45]</td>\n",
       "      <td>(60, 65]</td>\n",
       "      <td>(60, 65]</td>\n",
       "    </tr>\n",
       "    <tr>\n",
       "      <th>379</th>\n",
       "      <td>I1</td>\n",
       "      <td>22/05/2022</td>\n",
       "      <td>20:00</td>\n",
       "      <td>Venezia</td>\n",
       "      <td>Cagliari</td>\n",
       "      <td>0</td>\n",
       "      <td>0</td>\n",
       "      <td>D</td>\n",
       "      <td>0</td>\n",
       "      <td>0</td>\n",
       "      <td>...</td>\n",
       "      <td>(45, 50]</td>\n",
       "      <td>(55, 60]</td>\n",
       "      <td>(45, 50]</td>\n",
       "      <td>(45, 50]</td>\n",
       "      <td>(55, 60]</td>\n",
       "      <td>(55, 60]</td>\n",
       "      <td>(45, 50]</td>\n",
       "      <td>(45, 50]</td>\n",
       "      <td>(55, 60]</td>\n",
       "      <td>(60, 65]</td>\n",
       "    </tr>\n",
       "  </tbody>\n",
       "</table>\n",
       "<p>1140 rows × 144 columns</p>\n",
       "</div>"
      ],
      "text/plain": [
       "    Div        Date   Time     HomeTeam   AwayTeam  FTHG  FTAG FTR  HTHG  \\\n",
       "0    I1  24/08/2019  17:00        Parma   Juventus     0     1   A     0   \n",
       "1    I1  24/08/2019  19:45   Fiorentina     Napoli     3     4   A     1   \n",
       "2    I1  25/08/2019  17:00      Udinese      Milan     1     0   H     0   \n",
       "3    I1  25/08/2019  19:45     Cagliari    Brescia     0     1   A     0   \n",
       "4    I1  25/08/2019  19:45         Roma      Genoa     3     3   D     2   \n",
       "..   ..         ...    ...          ...        ...   ...   ...  ..   ...   \n",
       "375  I1  22/05/2022  11:30       Spezia     Napoli     0     3   A     0   \n",
       "376  I1  22/05/2022  17:00        Inter  Sampdoria     3     0   H     0   \n",
       "377  I1  22/05/2022  17:00     Sassuolo      Milan     0     3   A     0   \n",
       "378  I1  22/05/2022  20:00  Salernitana    Udinese     0     4   A     0   \n",
       "379  I1  22/05/2022  20:00      Venezia   Cagliari     0     0   D     0   \n",
       "\n",
       "     HTAG  ... binned <2.5 avg closing  binned >2.5 avg closing  \\\n",
       "0       1  ...                (45, 50]                 (55, 60]   \n",
       "1       2  ...                (45, 50]                 (55, 60]   \n",
       "2       0  ...                (55, 60]                 (45, 50]   \n",
       "3       0  ...                (50, 55]                 (50, 55]   \n",
       "4       2  ...                (40, 45]                 (60, 65]   \n",
       "..    ...  ...                     ...                      ...   \n",
       "375     3  ...                (40, 45]                 (65, 70]   \n",
       "376     0  ...                (25, 30]                 (75, 80]   \n",
       "377     3  ...                (35, 40]                 (65, 70]   \n",
       "378     3  ...                (40, 45]                 (60, 65]   \n",
       "379     0  ...                (45, 50]                 (55, 60]   \n",
       "\n",
       "     binned <2.5 pinacle  binned <2.5 pinacle closing  binned >2.5 pinacle  \\\n",
       "0               (45, 50]                     (40, 45]             (55, 60]   \n",
       "1               (45, 50]                     (45, 50]             (50, 55]   \n",
       "2               (55, 60]                     (55, 60]             (45, 50]   \n",
       "3               (50, 55]                     (50, 55]             (45, 50]   \n",
       "4               (45, 50]                     (40, 45]             (55, 60]   \n",
       "..                   ...                          ...                  ...   \n",
       "375             (35, 40]                     (35, 40]             (65, 70]   \n",
       "376             (25, 30]                     (25, 30]             (75, 80]   \n",
       "377             (35, 40]                     (35, 40]             (65, 70]   \n",
       "378             (40, 45]                     (40, 45]             (60, 65]   \n",
       "379             (45, 50]                     (45, 50]             (55, 60]   \n",
       "\n",
       "     binned >2.5 pinacle closing  binned <2.5 365  binned <2.5 365 closing  \\\n",
       "0                       (55, 60]         (45, 50]                 (45, 50]   \n",
       "1                       (55, 60]         (45, 50]                 (45, 50]   \n",
       "2                       (45, 50]         (55, 60]                 (55, 60]   \n",
       "3                       (45, 50]         (55, 60]                 (55, 60]   \n",
       "4                       (55, 60]         (45, 50]                 (40, 45]   \n",
       "..                           ...              ...                      ...   \n",
       "375                     (60, 65]         (35, 40]                 (35, 40]   \n",
       "376                     (75, 80]         (25, 30]                 (25, 30]   \n",
       "377                     (65, 70]         (35, 40]                 (35, 40]   \n",
       "378                     (60, 65]         (40, 45]                 (40, 45]   \n",
       "379                     (55, 60]         (45, 50]                 (45, 50]   \n",
       "\n",
       "     binned >2.5 365  binned >2.5 365 closing  \n",
       "0           (55, 60]                 (60, 65]  \n",
       "1           (55, 60]                 (60, 65]  \n",
       "2           (45, 50]                 (45, 50]  \n",
       "3           (45, 50]                 (45, 50]  \n",
       "4           (55, 60]                 (60, 65]  \n",
       "..               ...                      ...  \n",
       "375         (65, 70]                 (65, 70]  \n",
       "376         (75, 80]                 (75, 80]  \n",
       "377         (65, 70]                 (65, 70]  \n",
       "378         (60, 65]                 (60, 65]  \n",
       "379         (55, 60]                 (60, 65]  \n",
       "\n",
       "[1140 rows x 144 columns]"
      ]
     },
     "execution_count": 18,
     "metadata": {},
     "output_type": "execute_result"
    }
   ],
   "source": [
    "data"
   ]
  },
  {
   "cell_type": "markdown",
   "id": "e45ec430",
   "metadata": {},
   "source": [
    "## Final Dataset"
   ]
  },
  {
   "cell_type": "markdown",
   "id": "c06f280c",
   "metadata": {},
   "source": [
    "### Average Market (AvG)"
   ]
  },
  {
   "cell_type": "code",
   "execution_count": 19,
   "id": "8075c1a9",
   "metadata": {},
   "outputs": [],
   "source": [
    "#Average Market UNDER opening odds\n",
    "fdf_under_avg = data[['Implied Probability <2.5 avg','under_2.5_goals','binned <2.5 avg','payout_avg_under_2.5']]\n",
    "\n",
    "#Average Market OVER opening odds\n",
    "fdf_over_avg = data[['Implied Probability >2.5 avg','over_2.5_goals','binned >2.5 avg','payout_avg_over_2.5']]\n",
    "\n",
    "#Average Market UNDER closing odds\n",
    "fdf_under_avg_closing = data[['Implied Probability <2.5 avg closing','under_2.5_goals','binned <2.5 avg closing','payout_avg_under_closing_2.5']]\n",
    "\n",
    "#Average Market OVER opening odds\n",
    "fdf_over_avg_closing = data[['Implied Probability >2.5 avg closing','over_2.5_goals','binned >2.5 avg closing','payout_avg_over_closing_2.5']]"
   ]
  },
  {
   "cell_type": "markdown",
   "id": "efd3a216",
   "metadata": {},
   "source": [
    "### Pinnacle"
   ]
  },
  {
   "cell_type": "code",
   "execution_count": 20,
   "id": "114d0e78",
   "metadata": {},
   "outputs": [],
   "source": [
    "#pinnacle UNDER opening odds\n",
    "fdf_under_pinacle = data[['Implied Probability <2.5 pinacle','under_2.5_goals','binned <2.5 pinacle','payout_under_2.5_pinacle']]\n",
    "\n",
    "#pinnacle OVER opening odds\n",
    "fdf_over_pinacle = data[['Implied Probability >2.5 pinacle','over_2.5_goals','binned >2.5 pinacle','payout_over_2.5_pinacle']]\n",
    "\n",
    "#pinnacle UNDER closing odds\n",
    "fdf_under_pinacle_closing = data[['Implied Probability <2.5 pinacle closing','under_2.5_goals','binned <2.5 pinacle closing','payout_under_2.5_pinacle_closing']]\n",
    "\n",
    "#pinnacle OVER closing odds\n",
    "fdf_over_pinacle_closing = data[['Implied Probability >2.5 pinacle closing','over_2.5_goals','binned >2.5 pinacle closing','payout_over_2.5_pinacle_closing']]"
   ]
  },
  {
   "cell_type": "markdown",
   "id": "6ea5b9f4",
   "metadata": {},
   "source": [
    "### bet365"
   ]
  },
  {
   "cell_type": "code",
   "execution_count": 21,
   "id": "d6a444fd",
   "metadata": {},
   "outputs": [],
   "source": [
    "#bet365 UNDER opening odds\n",
    "fdf_under_365 = data[['Implied Probability <2.5 365','under_2.5_goals','binned <2.5 365','payout_under_2.5_365']]\n",
    "\n",
    "#bet365 OVER opening odds\n",
    "fdf_over_365 = data[['Implied Probability >2.5 365','over_2.5_goals','binned >2.5 365','payout_over_2.5_365']]\n",
    "\n",
    "#bet365 UNDER closing odds\n",
    "fdf_under_365_closing = data[['Implied Probability <2.5 365 closing','under_2.5_goals','binned <2.5 365 closing','payout_under_2.5_365_closing']]\n",
    "\n",
    "#bet365 OVER closing odds\n",
    "fdf_over_365_closing = data[['Implied Probability >2.5 365 closing','over_2.5_goals','binned >2.5 365 closing','payout_over_2.5_365_closing']]"
   ]
  },
  {
   "cell_type": "markdown",
   "id": "f86ea04f",
   "metadata": {},
   "source": [
    "## Results per implied prob Average Market"
   ]
  },
  {
   "cell_type": "markdown",
   "id": "66684c60",
   "metadata": {},
   "source": [
    "### Under"
   ]
  },
  {
   "cell_type": "markdown",
   "id": "167a9db6",
   "metadata": {},
   "source": [
    "#### Avg opening odds"
   ]
  },
  {
   "cell_type": "code",
   "execution_count": 22,
   "id": "b8d712a0",
   "metadata": {},
   "outputs": [
    {
     "data": {
      "text/plain": [
       "binned <2.5 avg\n",
       "(0, 5]         0\n",
       "(5, 10]        0\n",
       "(10, 15]       0\n",
       "(15, 20]       0\n",
       "(20, 25]       0\n",
       "(25, 30]      10\n",
       "(30, 35]      58\n",
       "(35, 40]     138\n",
       "(40, 45]     282\n",
       "(45, 50]     313\n",
       "(50, 55]     224\n",
       "(55, 60]     101\n",
       "(60, 65]      12\n",
       "(65, 70]       0\n",
       "(70, 75]       0\n",
       "(75, 80]       0\n",
       "(80, 85]       0\n",
       "(85, 90]       0\n",
       "(90, 95]       0\n",
       "(95, 100]      0\n",
       "Name: payout_avg_under_2.5, dtype: int64"
      ]
     },
     "execution_count": 22,
     "metadata": {},
     "output_type": "execute_result"
    }
   ],
   "source": [
    "fdf_under_avg_gb_count = fdf_under_avg.groupby('binned <2.5 avg')['payout_avg_under_2.5'].count()\n",
    "fdf_under_avg_gb_count"
   ]
  },
  {
   "cell_type": "code",
   "execution_count": 23,
   "id": "368751a7",
   "metadata": {
    "scrolled": true
   },
   "outputs": [
    {
     "data": {
      "text/plain": [
       "binned <2.5 avg\n",
       "(0, 5]            NaN\n",
       "(5, 10]           NaN\n",
       "(10, 15]          NaN\n",
       "(15, 20]          NaN\n",
       "(20, 25]          NaN\n",
       "(25, 30]     1.397000\n",
       "(30, 35]     1.194655\n",
       "(35, 40]     0.839855\n",
       "(40, 45]     0.922695\n",
       "(45, 50]     0.830575\n",
       "(50, 55]     0.885848\n",
       "(55, 60]     0.971386\n",
       "(60, 65]     1.081667\n",
       "(65, 70]          NaN\n",
       "(70, 75]          NaN\n",
       "(75, 80]          NaN\n",
       "(80, 85]          NaN\n",
       "(85, 90]          NaN\n",
       "(90, 95]          NaN\n",
       "(95, 100]         NaN\n",
       "Name: payout_avg_under_2.5, dtype: float64"
      ]
     },
     "execution_count": 23,
     "metadata": {},
     "output_type": "execute_result"
    }
   ],
   "source": [
    "fdf_under_avg_gb_mean = fdf_under_avg.groupby('binned <2.5 avg')['payout_avg_under_2.5'].mean()\n",
    "fdf_under_avg_gb_mean"
   ]
  },
  {
   "cell_type": "markdown",
   "id": "da439352",
   "metadata": {},
   "source": [
    "#### Avg closing odds"
   ]
  },
  {
   "cell_type": "code",
   "execution_count": 24,
   "id": "b5c7d35d",
   "metadata": {},
   "outputs": [
    {
     "data": {
      "text/plain": [
       "binned <2.5 avg closing\n",
       "(0, 5]         0\n",
       "(5, 10]        0\n",
       "(10, 15]       0\n",
       "(15, 20]       1\n",
       "(20, 25]       0\n",
       "(25, 30]      16\n",
       "(30, 35]      72\n",
       "(35, 40]     135\n",
       "(40, 45]     259\n",
       "(45, 50]     297\n",
       "(50, 55]     216\n",
       "(55, 60]     118\n",
       "(60, 65]      25\n",
       "(65, 70]       1\n",
       "(70, 75]       0\n",
       "(75, 80]       0\n",
       "(80, 85]       0\n",
       "(85, 90]       0\n",
       "(90, 95]       0\n",
       "(95, 100]      0\n",
       "Name: payout_avg_under_closing_2.5, dtype: int64"
      ]
     },
     "execution_count": 24,
     "metadata": {},
     "output_type": "execute_result"
    }
   ],
   "source": [
    "fdf_under_avg_closing_gb_count = fdf_under_avg_closing.groupby('binned <2.5 avg closing')['payout_avg_under_closing_2.5'].count()\n",
    "fdf_under_avg_closing_gb_count"
   ]
  },
  {
   "cell_type": "code",
   "execution_count": 25,
   "id": "130a9d40",
   "metadata": {},
   "outputs": [
    {
     "data": {
      "text/plain": [
       "binned <2.5 avg closing\n",
       "(0, 5]            NaN\n",
       "(5, 10]           NaN\n",
       "(10, 15]          NaN\n",
       "(15, 20]     5.040000\n",
       "(20, 25]          NaN\n",
       "(25, 30]     1.118125\n",
       "(30, 35]     1.143472\n",
       "(35, 40]     0.772222\n",
       "(40, 45]     0.870965\n",
       "(45, 50]     0.908451\n",
       "(50, 55]     0.857361\n",
       "(55, 60]     0.934915\n",
       "(60, 65]     1.102400\n",
       "(65, 70]     1.530000\n",
       "(70, 75]          NaN\n",
       "(75, 80]          NaN\n",
       "(80, 85]          NaN\n",
       "(85, 90]          NaN\n",
       "(90, 95]          NaN\n",
       "(95, 100]         NaN\n",
       "Name: payout_avg_under_closing_2.5, dtype: float64"
      ]
     },
     "execution_count": 25,
     "metadata": {},
     "output_type": "execute_result"
    }
   ],
   "source": [
    "fdf_under_avg_closing_gb_mean = fdf_under_avg_closing.groupby('binned <2.5 avg closing')['payout_avg_under_closing_2.5'].mean()\n",
    "fdf_under_avg_closing_gb_mean"
   ]
  },
  {
   "cell_type": "markdown",
   "id": "d5b57f08",
   "metadata": {},
   "source": [
    "### Over"
   ]
  },
  {
   "cell_type": "markdown",
   "id": "893845a5",
   "metadata": {},
   "source": [
    "#### Opening Odds"
   ]
  },
  {
   "cell_type": "code",
   "execution_count": 26,
   "id": "b6fa9a98",
   "metadata": {},
   "outputs": [
    {
     "data": {
      "text/plain": [
       "binned >2.5 avg\n",
       "(0, 5]         0\n",
       "(5, 10]        0\n",
       "(10, 15]       0\n",
       "(15, 20]       0\n",
       "(20, 25]       0\n",
       "(25, 30]       0\n",
       "(30, 35]       0\n",
       "(35, 40]       0\n",
       "(40, 45]      10\n",
       "(45, 50]     115\n",
       "(50, 55]     220\n",
       "(55, 60]     293\n",
       "(60, 65]     284\n",
       "(65, 70]     137\n",
       "(70, 75]      66\n",
       "(75, 80]      13\n",
       "(80, 85]       0\n",
       "(85, 90]       0\n",
       "(90, 95]       0\n",
       "(95, 100]      0\n",
       "Name: payout_avg_over_2.5, dtype: int64"
      ]
     },
     "execution_count": 26,
     "metadata": {},
     "output_type": "execute_result"
    }
   ],
   "source": [
    "fdf_over_avg_gb_count = fdf_over_avg.groupby('binned >2.5 avg')['payout_avg_over_2.5'].count()\n",
    "fdf_over_avg_gb_count"
   ]
  },
  {
   "cell_type": "code",
   "execution_count": 27,
   "id": "1f0a3a6a",
   "metadata": {},
   "outputs": [
    {
     "data": {
      "text/plain": [
       "binned >2.5 avg\n",
       "(0, 5]            NaN\n",
       "(5, 10]           NaN\n",
       "(10, 15]          NaN\n",
       "(15, 20]          NaN\n",
       "(20, 25]          NaN\n",
       "(25, 30]          NaN\n",
       "(30, 35]          NaN\n",
       "(35, 40]          NaN\n",
       "(40, 45]     0.692000\n",
       "(45, 50]     0.956000\n",
       "(50, 55]     0.989591\n",
       "(55, 60]     1.068635\n",
       "(60, 65]     0.972570\n",
       "(65, 70]     1.046058\n",
       "(70, 75]     0.800455\n",
       "(75, 80]     0.800000\n",
       "(80, 85]          NaN\n",
       "(85, 90]          NaN\n",
       "(90, 95]          NaN\n",
       "(95, 100]         NaN\n",
       "Name: payout_avg_over_2.5, dtype: float64"
      ]
     },
     "execution_count": 27,
     "metadata": {},
     "output_type": "execute_result"
    }
   ],
   "source": [
    "fdf_over_avg_gb_mean = fdf_over_avg.groupby('binned >2.5 avg')['payout_avg_over_2.5'].mean()\n",
    "fdf_over_avg_gb_mean"
   ]
  },
  {
   "cell_type": "markdown",
   "id": "387c70f7",
   "metadata": {},
   "source": [
    "#### Closing Odds"
   ]
  },
  {
   "cell_type": "code",
   "execution_count": 28,
   "id": "0548fcc8",
   "metadata": {},
   "outputs": [
    {
     "data": {
      "text/plain": [
       "binned >2.5 avg closing\n",
       "(0, 5]         0\n",
       "(5, 10]        0\n",
       "(10, 15]       0\n",
       "(15, 20]       0\n",
       "(20, 25]       0\n",
       "(25, 30]       0\n",
       "(30, 35]       0\n",
       "(35, 40]       1\n",
       "(40, 45]      25\n",
       "(45, 50]     127\n",
       "(50, 55]     220\n",
       "(55, 60]     279\n",
       "(60, 65]     257\n",
       "(65, 70]     133\n",
       "(70, 75]      75\n",
       "(75, 80]      21\n",
       "(80, 85]       1\n",
       "(85, 90]       1\n",
       "(90, 95]       0\n",
       "(95, 100]      0\n",
       "Name: payout_avg_over_closing_2.5, dtype: int64"
      ]
     },
     "execution_count": 28,
     "metadata": {},
     "output_type": "execute_result"
    }
   ],
   "source": [
    "fdf_over_avg_closing_gb_count = fdf_over_avg_closing.groupby('binned >2.5 avg closing')['payout_avg_over_closing_2.5'].count()\n",
    "fdf_over_avg_closing_gb_count"
   ]
  },
  {
   "cell_type": "code",
   "execution_count": 29,
   "id": "02c06fa6",
   "metadata": {},
   "outputs": [
    {
     "data": {
      "text/plain": [
       "binned >2.5 avg closing\n",
       "(0, 5]            NaN\n",
       "(5, 10]           NaN\n",
       "(10, 15]          NaN\n",
       "(15, 20]          NaN\n",
       "(20, 25]          NaN\n",
       "(25, 30]          NaN\n",
       "(30, 35]          NaN\n",
       "(35, 40]     0.000000\n",
       "(40, 45]     0.720800\n",
       "(45, 50]     0.968110\n",
       "(50, 55]     1.030545\n",
       "(55, 60]     1.020717\n",
       "(60, 65]     0.992062\n",
       "(65, 70]     1.073233\n",
       "(70, 75]     0.885600\n",
       "(75, 80]     0.746190\n",
       "(80, 85]     1.230000\n",
       "(85, 90]     0.000000\n",
       "(90, 95]          NaN\n",
       "(95, 100]         NaN\n",
       "Name: payout_avg_over_closing_2.5, dtype: float64"
      ]
     },
     "execution_count": 29,
     "metadata": {},
     "output_type": "execute_result"
    }
   ],
   "source": [
    "fdf_over_avg_closing_gb_mean = fdf_over_avg_closing.groupby('binned >2.5 avg closing')['payout_avg_over_closing_2.5'].mean()\n",
    "fdf_over_avg_closing_gb_mean"
   ]
  },
  {
   "cell_type": "markdown",
   "id": "641bdc48",
   "metadata": {},
   "source": [
    "## Results per implied prob Pinnacle"
   ]
  },
  {
   "cell_type": "markdown",
   "id": "2fb2d999",
   "metadata": {},
   "source": [
    "### Under"
   ]
  },
  {
   "cell_type": "markdown",
   "id": "429bee77",
   "metadata": {},
   "source": [
    "#### Pinnacle opening odds"
   ]
  },
  {
   "cell_type": "code",
   "execution_count": 30,
   "id": "51983fc1",
   "metadata": {},
   "outputs": [
    {
     "data": {
      "text/plain": [
       "binned <2.5 pinacle\n",
       "(0, 5]         0\n",
       "(5, 10]        0\n",
       "(10, 15]       0\n",
       "(15, 20]       0\n",
       "(20, 25]       0\n",
       "(25, 30]      10\n",
       "(30, 35]      74\n",
       "(35, 40]     199\n",
       "(40, 45]     282\n",
       "(45, 50]     296\n",
       "(50, 55]     188\n",
       "(55, 60]      79\n",
       "(60, 65]       9\n",
       "(65, 70]       0\n",
       "(70, 75]       0\n",
       "(75, 80]       0\n",
       "(80, 85]       0\n",
       "(85, 90]       0\n",
       "(90, 95]       0\n",
       "(95, 100]      0\n",
       "Name: payout_under_2.5_pinacle, dtype: int64"
      ]
     },
     "execution_count": 30,
     "metadata": {},
     "output_type": "execute_result"
    }
   ],
   "source": [
    "fdf_under_pinacle_gb_count = fdf_under_pinacle.groupby('binned <2.5 pinacle')['payout_under_2.5_pinacle'].count()\n",
    "fdf_under_pinacle_gb_count"
   ]
  },
  {
   "cell_type": "code",
   "execution_count": 31,
   "id": "28c5917a",
   "metadata": {},
   "outputs": [
    {
     "data": {
      "text/plain": [
       "binned <2.5 pinacle\n",
       "(0, 5]            NaN\n",
       "(5, 10]           NaN\n",
       "(10, 15]          NaN\n",
       "(15, 20]          NaN\n",
       "(20, 25]          NaN\n",
       "(25, 30]     1.049000\n",
       "(30, 35]     1.202973\n",
       "(35, 40]     0.935528\n",
       "(40, 45]     0.954149\n",
       "(45, 50]     0.776216\n",
       "(50, 55]     0.971277\n",
       "(55, 60]     0.997975\n",
       "(60, 65]     1.083333\n",
       "(65, 70]          NaN\n",
       "(70, 75]          NaN\n",
       "(75, 80]          NaN\n",
       "(80, 85]          NaN\n",
       "(85, 90]          NaN\n",
       "(90, 95]          NaN\n",
       "(95, 100]         NaN\n",
       "Name: payout_under_2.5_pinacle, dtype: float64"
      ]
     },
     "execution_count": 31,
     "metadata": {},
     "output_type": "execute_result"
    }
   ],
   "source": [
    "fdf_under_pinacle_gb_mean = fdf_under_pinacle.groupby('binned <2.5 pinacle')['payout_under_2.5_pinacle'].mean()\n",
    "fdf_under_pinacle_gb_mean"
   ]
  },
  {
   "cell_type": "code",
   "execution_count": 32,
   "id": "edd2282d",
   "metadata": {},
   "outputs": [
    {
     "data": {
      "text/plain": [
       "0.9284960422163588"
      ]
     },
     "execution_count": 32,
     "metadata": {},
     "output_type": "execute_result"
    }
   ],
   "source": [
    "fdf_under_pinacle['payout_under_2.5_pinacle'].mean()"
   ]
  },
  {
   "cell_type": "code",
   "execution_count": 33,
   "id": "9be6e0c1",
   "metadata": {},
   "outputs": [],
   "source": [
    "fdf_under_pinacle_above_40 = fdf_under_pinacle[fdf_under_pinacle['Implied Probability <2.5 pinacle']>40]"
   ]
  },
  {
   "cell_type": "code",
   "execution_count": 34,
   "id": "3f980c79",
   "metadata": {},
   "outputs": [
    {
     "data": {
      "text/plain": [
       "0.9016627634660421"
      ]
     },
     "execution_count": 34,
     "metadata": {},
     "output_type": "execute_result"
    }
   ],
   "source": [
    "fdf_under_pinacle_above_40['payout_under_2.5_pinacle'].mean()"
   ]
  },
  {
   "cell_type": "markdown",
   "id": "adf003fc",
   "metadata": {},
   "source": [
    "#### Closing Odds"
   ]
  },
  {
   "cell_type": "code",
   "execution_count": 35,
   "id": "8540ed1c",
   "metadata": {},
   "outputs": [
    {
     "data": {
      "text/plain": [
       "binned <2.5 pinacle closing\n",
       "(0, 5]         0\n",
       "(5, 10]        0\n",
       "(10, 15]       0\n",
       "(15, 20]       1\n",
       "(20, 25]       1\n",
       "(25, 30]      20\n",
       "(30, 35]      94\n",
       "(35, 40]     168\n",
       "(40, 45]     264\n",
       "(45, 50]     288\n",
       "(50, 55]     178\n",
       "(55, 60]     107\n",
       "(60, 65]      19\n",
       "(65, 70]       0\n",
       "(70, 75]       0\n",
       "(75, 80]       0\n",
       "(80, 85]       0\n",
       "(85, 90]       0\n",
       "(90, 95]       0\n",
       "(95, 100]      0\n",
       "Name: payout_under_2.5_pinacle_closing, dtype: int64"
      ]
     },
     "execution_count": 35,
     "metadata": {},
     "output_type": "execute_result"
    }
   ],
   "source": [
    "fdf_under_pinacle_closing_gb_count = fdf_under_pinacle_closing.groupby('binned <2.5 pinacle closing')['payout_under_2.5_pinacle_closing'].count()\n",
    "fdf_under_pinacle_closing_gb_count"
   ]
  },
  {
   "cell_type": "code",
   "execution_count": 36,
   "id": "5454fea6",
   "metadata": {
    "scrolled": true
   },
   "outputs": [
    {
     "data": {
      "text/plain": [
       "binned <2.5 pinacle closing\n",
       "(0, 5]            NaN\n",
       "(5, 10]           NaN\n",
       "(10, 15]          NaN\n",
       "(15, 20]     5.530000\n",
       "(20, 25]     0.000000\n",
       "(25, 30]     1.216500\n",
       "(30, 35]     1.200745\n",
       "(35, 40]     0.778690\n",
       "(40, 45]     0.900833\n",
       "(45, 50]     0.913785\n",
       "(50, 55]     0.895056\n",
       "(55, 60]     0.936916\n",
       "(60, 65]     1.112105\n",
       "(65, 70]          NaN\n",
       "(70, 75]          NaN\n",
       "(75, 80]          NaN\n",
       "(80, 85]          NaN\n",
       "(85, 90]          NaN\n",
       "(90, 95]          NaN\n",
       "(95, 100]         NaN\n",
       "Name: payout_under_2.5_pinacle_closing, dtype: float64"
      ]
     },
     "execution_count": 36,
     "metadata": {},
     "output_type": "execute_result"
    }
   ],
   "source": [
    "fdf_under_pinacle_closing_gb_mean = fdf_under_pinacle_closing.groupby('binned <2.5 pinacle closing')['payout_under_2.5_pinacle_closing'].mean()\n",
    "fdf_under_pinacle_closing_gb_mean"
   ]
  },
  {
   "cell_type": "code",
   "execution_count": 37,
   "id": "0b230cc8",
   "metadata": {},
   "outputs": [
    {
     "data": {
      "text/html": [
       "<div>\n",
       "<style scoped>\n",
       "    .dataframe tbody tr th:only-of-type {\n",
       "        vertical-align: middle;\n",
       "    }\n",
       "\n",
       "    .dataframe tbody tr th {\n",
       "        vertical-align: top;\n",
       "    }\n",
       "\n",
       "    .dataframe thead th {\n",
       "        text-align: right;\n",
       "    }\n",
       "</style>\n",
       "<table border=\"1\" class=\"dataframe\">\n",
       "  <thead>\n",
       "    <tr style=\"text-align: right;\">\n",
       "      <th></th>\n",
       "      <th>count</th>\n",
       "      <th>mean</th>\n",
       "      <th>median</th>\n",
       "      <th>max</th>\n",
       "    </tr>\n",
       "    <tr>\n",
       "      <th>binned &lt;2.5 pinacle closing</th>\n",
       "      <th></th>\n",
       "      <th></th>\n",
       "      <th></th>\n",
       "      <th></th>\n",
       "    </tr>\n",
       "  </thead>\n",
       "  <tbody>\n",
       "    <tr>\n",
       "      <th>(0, 5]</th>\n",
       "      <td>0</td>\n",
       "      <td>NaN</td>\n",
       "      <td>NaN</td>\n",
       "      <td>NaN</td>\n",
       "    </tr>\n",
       "    <tr>\n",
       "      <th>(5, 10]</th>\n",
       "      <td>0</td>\n",
       "      <td>NaN</td>\n",
       "      <td>NaN</td>\n",
       "      <td>NaN</td>\n",
       "    </tr>\n",
       "    <tr>\n",
       "      <th>(10, 15]</th>\n",
       "      <td>0</td>\n",
       "      <td>NaN</td>\n",
       "      <td>NaN</td>\n",
       "      <td>NaN</td>\n",
       "    </tr>\n",
       "    <tr>\n",
       "      <th>(15, 20]</th>\n",
       "      <td>1</td>\n",
       "      <td>5.530000</td>\n",
       "      <td>5.53</td>\n",
       "      <td>5.53</td>\n",
       "    </tr>\n",
       "    <tr>\n",
       "      <th>(20, 25]</th>\n",
       "      <td>1</td>\n",
       "      <td>0.000000</td>\n",
       "      <td>0.00</td>\n",
       "      <td>0.00</td>\n",
       "    </tr>\n",
       "    <tr>\n",
       "      <th>(25, 30]</th>\n",
       "      <td>20</td>\n",
       "      <td>1.216500</td>\n",
       "      <td>0.00</td>\n",
       "      <td>3.53</td>\n",
       "    </tr>\n",
       "    <tr>\n",
       "      <th>(30, 35]</th>\n",
       "      <td>94</td>\n",
       "      <td>1.200745</td>\n",
       "      <td>0.00</td>\n",
       "      <td>3.32</td>\n",
       "    </tr>\n",
       "    <tr>\n",
       "      <th>(35, 40]</th>\n",
       "      <td>168</td>\n",
       "      <td>0.778690</td>\n",
       "      <td>0.00</td>\n",
       "      <td>2.84</td>\n",
       "    </tr>\n",
       "    <tr>\n",
       "      <th>(40, 45]</th>\n",
       "      <td>264</td>\n",
       "      <td>0.900833</td>\n",
       "      <td>0.00</td>\n",
       "      <td>2.49</td>\n",
       "    </tr>\n",
       "    <tr>\n",
       "      <th>(45, 50]</th>\n",
       "      <td>288</td>\n",
       "      <td>0.913785</td>\n",
       "      <td>0.00</td>\n",
       "      <td>2.22</td>\n",
       "    </tr>\n",
       "    <tr>\n",
       "      <th>(50, 55]</th>\n",
       "      <td>178</td>\n",
       "      <td>0.895056</td>\n",
       "      <td>0.00</td>\n",
       "      <td>1.99</td>\n",
       "    </tr>\n",
       "    <tr>\n",
       "      <th>(55, 60]</th>\n",
       "      <td>107</td>\n",
       "      <td>0.936916</td>\n",
       "      <td>1.69</td>\n",
       "      <td>1.81</td>\n",
       "    </tr>\n",
       "    <tr>\n",
       "      <th>(60, 65]</th>\n",
       "      <td>19</td>\n",
       "      <td>1.112105</td>\n",
       "      <td>1.59</td>\n",
       "      <td>1.66</td>\n",
       "    </tr>\n",
       "    <tr>\n",
       "      <th>(65, 70]</th>\n",
       "      <td>0</td>\n",
       "      <td>NaN</td>\n",
       "      <td>NaN</td>\n",
       "      <td>NaN</td>\n",
       "    </tr>\n",
       "    <tr>\n",
       "      <th>(70, 75]</th>\n",
       "      <td>0</td>\n",
       "      <td>NaN</td>\n",
       "      <td>NaN</td>\n",
       "      <td>NaN</td>\n",
       "    </tr>\n",
       "    <tr>\n",
       "      <th>(75, 80]</th>\n",
       "      <td>0</td>\n",
       "      <td>NaN</td>\n",
       "      <td>NaN</td>\n",
       "      <td>NaN</td>\n",
       "    </tr>\n",
       "    <tr>\n",
       "      <th>(80, 85]</th>\n",
       "      <td>0</td>\n",
       "      <td>NaN</td>\n",
       "      <td>NaN</td>\n",
       "      <td>NaN</td>\n",
       "    </tr>\n",
       "    <tr>\n",
       "      <th>(85, 90]</th>\n",
       "      <td>0</td>\n",
       "      <td>NaN</td>\n",
       "      <td>NaN</td>\n",
       "      <td>NaN</td>\n",
       "    </tr>\n",
       "    <tr>\n",
       "      <th>(90, 95]</th>\n",
       "      <td>0</td>\n",
       "      <td>NaN</td>\n",
       "      <td>NaN</td>\n",
       "      <td>NaN</td>\n",
       "    </tr>\n",
       "    <tr>\n",
       "      <th>(95, 100]</th>\n",
       "      <td>0</td>\n",
       "      <td>NaN</td>\n",
       "      <td>NaN</td>\n",
       "      <td>NaN</td>\n",
       "    </tr>\n",
       "  </tbody>\n",
       "</table>\n",
       "</div>"
      ],
      "text/plain": [
       "                             count      mean  median   max\n",
       "binned <2.5 pinacle closing                               \n",
       "(0, 5]                           0       NaN     NaN   NaN\n",
       "(5, 10]                          0       NaN     NaN   NaN\n",
       "(10, 15]                         0       NaN     NaN   NaN\n",
       "(15, 20]                         1  5.530000    5.53  5.53\n",
       "(20, 25]                         1  0.000000    0.00  0.00\n",
       "(25, 30]                        20  1.216500    0.00  3.53\n",
       "(30, 35]                        94  1.200745    0.00  3.32\n",
       "(35, 40]                       168  0.778690    0.00  2.84\n",
       "(40, 45]                       264  0.900833    0.00  2.49\n",
       "(45, 50]                       288  0.913785    0.00  2.22\n",
       "(50, 55]                       178  0.895056    0.00  1.99\n",
       "(55, 60]                       107  0.936916    1.69  1.81\n",
       "(60, 65]                        19  1.112105    1.59  1.66\n",
       "(65, 70]                         0       NaN     NaN   NaN\n",
       "(70, 75]                         0       NaN     NaN   NaN\n",
       "(75, 80]                         0       NaN     NaN   NaN\n",
       "(80, 85]                         0       NaN     NaN   NaN\n",
       "(85, 90]                         0       NaN     NaN   NaN\n",
       "(90, 95]                         0       NaN     NaN   NaN\n",
       "(95, 100]                        0       NaN     NaN   NaN"
      ]
     },
     "execution_count": 37,
     "metadata": {},
     "output_type": "execute_result"
    }
   ],
   "source": [
    "fdf_under_pinacle_closing_gb_agg = fdf_under_pinacle_closing.groupby('binned <2.5 pinacle closing')['payout_under_2.5_pinacle_closing'].agg(['count', 'mean', 'median', 'max'])\n",
    "fdf_under_pinacle_closing_gb_agg"
   ]
  },
  {
   "cell_type": "markdown",
   "id": "d8914022",
   "metadata": {},
   "source": [
    "### Over"
   ]
  },
  {
   "cell_type": "markdown",
   "id": "928173aa",
   "metadata": {},
   "source": [
    "#### Opening odds"
   ]
  },
  {
   "cell_type": "code",
   "execution_count": 38,
   "id": "54ff8220",
   "metadata": {},
   "outputs": [
    {
     "data": {
      "text/plain": [
       "binned >2.5 pinacle\n",
       "(0, 5]         0\n",
       "(5, 10]        0\n",
       "(10, 15]       0\n",
       "(15, 20]       0\n",
       "(20, 25]       0\n",
       "(25, 30]       0\n",
       "(30, 35]       0\n",
       "(35, 40]       1\n",
       "(40, 45]      21\n",
       "(45, 50]     138\n",
       "(50, 55]     227\n",
       "(55, 60]     308\n",
       "(60, 65]     261\n",
       "(65, 70]     122\n",
       "(70, 75]      51\n",
       "(75, 80]       8\n",
       "(80, 85]       0\n",
       "(85, 90]       0\n",
       "(90, 95]       0\n",
       "(95, 100]      0\n",
       "Name: payout_over_2.5_pinacle, dtype: int64"
      ]
     },
     "execution_count": 38,
     "metadata": {},
     "output_type": "execute_result"
    }
   ],
   "source": [
    "fdf_over_pinacle_gb_count = fdf_over_pinacle.groupby('binned >2.5 pinacle')['payout_over_2.5_pinacle'].count()\n",
    "fdf_over_pinacle_gb_count"
   ]
  },
  {
   "cell_type": "code",
   "execution_count": 39,
   "id": "82df8790",
   "metadata": {},
   "outputs": [
    {
     "data": {
      "text/plain": [
       "binned >2.5 pinacle\n",
       "(0, 5]            NaN\n",
       "(5, 10]           NaN\n",
       "(10, 15]          NaN\n",
       "(15, 20]          NaN\n",
       "(20, 25]          NaN\n",
       "(25, 30]          NaN\n",
       "(30, 35]          NaN\n",
       "(35, 40]     0.000000\n",
       "(40, 45]     1.103333\n",
       "(45, 50]     0.996667\n",
       "(50, 55]     1.029251\n",
       "(55, 60]     1.083994\n",
       "(60, 65]     0.961188\n",
       "(65, 70]     0.977787\n",
       "(70, 75]     0.821176\n",
       "(75, 80]     0.986250\n",
       "(80, 85]          NaN\n",
       "(85, 90]          NaN\n",
       "(90, 95]          NaN\n",
       "(95, 100]         NaN\n",
       "Name: payout_over_2.5_pinacle, dtype: float64"
      ]
     },
     "execution_count": 39,
     "metadata": {},
     "output_type": "execute_result"
    }
   ],
   "source": [
    "fdf_over_pinacle.groupby('binned >2.5 pinacle')['payout_over_2.5_pinacle'].mean()"
   ]
  },
  {
   "cell_type": "code",
   "execution_count": 40,
   "id": "bd75ca05",
   "metadata": {},
   "outputs": [
    {
     "data": {
      "text/plain": [
       "1.0098065083553212"
      ]
     },
     "execution_count": 40,
     "metadata": {},
     "output_type": "execute_result"
    }
   ],
   "source": [
    "fdf_over_pinacle_gb_mean = fdf_over_pinacle['payout_over_2.5_pinacle'].mean()\n",
    "fdf_over_pinacle_gb_mean"
   ]
  },
  {
   "cell_type": "code",
   "execution_count": 41,
   "id": "4ea9b7f0",
   "metadata": {},
   "outputs": [],
   "source": [
    "fdf_over_pinacle_above_60 = fdf_over_pinacle[fdf_over_pinacle['Implied Probability >2.5 pinacle']>60]"
   ]
  },
  {
   "cell_type": "code",
   "execution_count": 42,
   "id": "a4cf561f",
   "metadata": {},
   "outputs": [
    {
     "data": {
      "text/plain": [
       "0.9500678733031674"
      ]
     },
     "execution_count": 42,
     "metadata": {},
     "output_type": "execute_result"
    }
   ],
   "source": [
    "fdf_over_pinacle_above_60['payout_over_2.5_pinacle'].mean()"
   ]
  },
  {
   "cell_type": "markdown",
   "id": "7271f40c",
   "metadata": {},
   "source": [
    "#### Closing odds"
   ]
  },
  {
   "cell_type": "code",
   "execution_count": 43,
   "id": "dcfe8c84",
   "metadata": {},
   "outputs": [
    {
     "data": {
      "text/plain": [
       "binned >2.5 pinacle closing\n",
       "(0, 5]         0\n",
       "(5, 10]        0\n",
       "(10, 15]       0\n",
       "(15, 20]       0\n",
       "(20, 25]       0\n",
       "(25, 30]       0\n",
       "(30, 35]       0\n",
       "(35, 40]       3\n",
       "(40, 45]      41\n",
       "(45, 50]     161\n",
       "(50, 55]     222\n",
       "(55, 60]     282\n",
       "(60, 65]     232\n",
       "(65, 70]     118\n",
       "(70, 75]      67\n",
       "(75, 80]      12\n",
       "(80, 85]       1\n",
       "(85, 90]       1\n",
       "(90, 95]       0\n",
       "(95, 100]      0\n",
       "Name: payout_over_2.5_pinacle_closing, dtype: int64"
      ]
     },
     "execution_count": 43,
     "metadata": {},
     "output_type": "execute_result"
    }
   ],
   "source": [
    "fdf_over_pinacle_closing_gb_count = fdf_over_pinacle_closing.groupby('binned >2.5 pinacle closing')['payout_over_2.5_pinacle_closing'].count()\n",
    "fdf_over_pinacle_closing_gb_count"
   ]
  },
  {
   "cell_type": "code",
   "execution_count": 44,
   "id": "424a88e2",
   "metadata": {},
   "outputs": [
    {
     "data": {
      "text/plain": [
       "binned >2.5 pinacle closing\n",
       "(0, 5]            NaN\n",
       "(5, 10]           NaN\n",
       "(10, 15]          NaN\n",
       "(15, 20]          NaN\n",
       "(20, 25]          NaN\n",
       "(25, 30]          NaN\n",
       "(30, 35]          NaN\n",
       "(35, 40]     0.000000\n",
       "(40, 45]     1.011463\n",
       "(45, 50]     1.113292\n",
       "(50, 55]     0.975991\n",
       "(55, 60]     1.057766\n",
       "(60, 65]     0.986897\n",
       "(65, 70]     1.021780\n",
       "(70, 75]     0.870299\n",
       "(75, 80]     0.985000\n",
       "(80, 85]     1.230000\n",
       "(85, 90]     0.000000\n",
       "(90, 95]          NaN\n",
       "(95, 100]         NaN\n",
       "Name: payout_over_2.5_pinacle_closing, dtype: float64"
      ]
     },
     "execution_count": 44,
     "metadata": {},
     "output_type": "execute_result"
    }
   ],
   "source": [
    "fdf_over_pinacle_closing_gb_mean = fdf_over_pinacle_closing.groupby('binned >2.5 pinacle closing')['payout_over_2.5_pinacle_closing'].mean()\n",
    "fdf_over_pinacle_closing_gb_mean"
   ]
  },
  {
   "cell_type": "code",
   "execution_count": 58,
   "id": "82e2cc29",
   "metadata": {},
   "outputs": [
    {
     "data": {
      "text/html": [
       "<div>\n",
       "<style scoped>\n",
       "    .dataframe tbody tr th:only-of-type {\n",
       "        vertical-align: middle;\n",
       "    }\n",
       "\n",
       "    .dataframe tbody tr th {\n",
       "        vertical-align: top;\n",
       "    }\n",
       "\n",
       "    .dataframe thead th {\n",
       "        text-align: right;\n",
       "    }\n",
       "</style>\n",
       "<table border=\"1\" class=\"dataframe\">\n",
       "  <thead>\n",
       "    <tr style=\"text-align: right;\">\n",
       "      <th></th>\n",
       "      <th>count</th>\n",
       "      <th>mean</th>\n",
       "      <th>median</th>\n",
       "      <th>max</th>\n",
       "    </tr>\n",
       "    <tr>\n",
       "      <th>binned &gt;2.5 pinacle closing</th>\n",
       "      <th></th>\n",
       "      <th></th>\n",
       "      <th></th>\n",
       "      <th></th>\n",
       "    </tr>\n",
       "  </thead>\n",
       "  <tbody>\n",
       "    <tr>\n",
       "      <th>(0, 5]</th>\n",
       "      <td>0</td>\n",
       "      <td>NaN</td>\n",
       "      <td>NaN</td>\n",
       "      <td>NaN</td>\n",
       "    </tr>\n",
       "    <tr>\n",
       "      <th>(5, 10]</th>\n",
       "      <td>0</td>\n",
       "      <td>NaN</td>\n",
       "      <td>NaN</td>\n",
       "      <td>NaN</td>\n",
       "    </tr>\n",
       "    <tr>\n",
       "      <th>(10, 15]</th>\n",
       "      <td>0</td>\n",
       "      <td>NaN</td>\n",
       "      <td>NaN</td>\n",
       "      <td>NaN</td>\n",
       "    </tr>\n",
       "    <tr>\n",
       "      <th>(15, 20]</th>\n",
       "      <td>0</td>\n",
       "      <td>NaN</td>\n",
       "      <td>NaN</td>\n",
       "      <td>NaN</td>\n",
       "    </tr>\n",
       "    <tr>\n",
       "      <th>(20, 25]</th>\n",
       "      <td>0</td>\n",
       "      <td>NaN</td>\n",
       "      <td>NaN</td>\n",
       "      <td>NaN</td>\n",
       "    </tr>\n",
       "    <tr>\n",
       "      <th>(25, 30]</th>\n",
       "      <td>0</td>\n",
       "      <td>NaN</td>\n",
       "      <td>NaN</td>\n",
       "      <td>NaN</td>\n",
       "    </tr>\n",
       "    <tr>\n",
       "      <th>(30, 35]</th>\n",
       "      <td>0</td>\n",
       "      <td>NaN</td>\n",
       "      <td>NaN</td>\n",
       "      <td>NaN</td>\n",
       "    </tr>\n",
       "    <tr>\n",
       "      <th>(35, 40]</th>\n",
       "      <td>3</td>\n",
       "      <td>0.000000</td>\n",
       "      <td>0.00</td>\n",
       "      <td>0.00</td>\n",
       "    </tr>\n",
       "    <tr>\n",
       "      <th>(40, 45]</th>\n",
       "      <td>41</td>\n",
       "      <td>1.011463</td>\n",
       "      <td>0.00</td>\n",
       "      <td>2.38</td>\n",
       "    </tr>\n",
       "    <tr>\n",
       "      <th>(45, 50]</th>\n",
       "      <td>161</td>\n",
       "      <td>1.113292</td>\n",
       "      <td>2.00</td>\n",
       "      <td>2.21</td>\n",
       "    </tr>\n",
       "    <tr>\n",
       "      <th>(50, 55]</th>\n",
       "      <td>222</td>\n",
       "      <td>0.975991</td>\n",
       "      <td>1.82</td>\n",
       "      <td>1.99</td>\n",
       "    </tr>\n",
       "    <tr>\n",
       "      <th>(55, 60]</th>\n",
       "      <td>282</td>\n",
       "      <td>1.057766</td>\n",
       "      <td>1.68</td>\n",
       "      <td>1.81</td>\n",
       "    </tr>\n",
       "    <tr>\n",
       "      <th>(60, 65]</th>\n",
       "      <td>232</td>\n",
       "      <td>0.986897</td>\n",
       "      <td>1.56</td>\n",
       "      <td>1.66</td>\n",
       "    </tr>\n",
       "    <tr>\n",
       "      <th>(65, 70]</th>\n",
       "      <td>118</td>\n",
       "      <td>1.021780</td>\n",
       "      <td>1.47</td>\n",
       "      <td>1.53</td>\n",
       "    </tr>\n",
       "    <tr>\n",
       "      <th>(70, 75]</th>\n",
       "      <td>67</td>\n",
       "      <td>0.870299</td>\n",
       "      <td>1.37</td>\n",
       "      <td>1.42</td>\n",
       "    </tr>\n",
       "    <tr>\n",
       "      <th>(75, 80]</th>\n",
       "      <td>12</td>\n",
       "      <td>0.985000</td>\n",
       "      <td>1.31</td>\n",
       "      <td>1.33</td>\n",
       "    </tr>\n",
       "    <tr>\n",
       "      <th>(80, 85]</th>\n",
       "      <td>1</td>\n",
       "      <td>1.230000</td>\n",
       "      <td>1.23</td>\n",
       "      <td>1.23</td>\n",
       "    </tr>\n",
       "    <tr>\n",
       "      <th>(85, 90]</th>\n",
       "      <td>1</td>\n",
       "      <td>0.000000</td>\n",
       "      <td>0.00</td>\n",
       "      <td>0.00</td>\n",
       "    </tr>\n",
       "    <tr>\n",
       "      <th>(90, 95]</th>\n",
       "      <td>0</td>\n",
       "      <td>NaN</td>\n",
       "      <td>NaN</td>\n",
       "      <td>NaN</td>\n",
       "    </tr>\n",
       "    <tr>\n",
       "      <th>(95, 100]</th>\n",
       "      <td>0</td>\n",
       "      <td>NaN</td>\n",
       "      <td>NaN</td>\n",
       "      <td>NaN</td>\n",
       "    </tr>\n",
       "  </tbody>\n",
       "</table>\n",
       "</div>"
      ],
      "text/plain": [
       "                             count      mean  median   max\n",
       "binned >2.5 pinacle closing                               \n",
       "(0, 5]                           0       NaN     NaN   NaN\n",
       "(5, 10]                          0       NaN     NaN   NaN\n",
       "(10, 15]                         0       NaN     NaN   NaN\n",
       "(15, 20]                         0       NaN     NaN   NaN\n",
       "(20, 25]                         0       NaN     NaN   NaN\n",
       "(25, 30]                         0       NaN     NaN   NaN\n",
       "(30, 35]                         0       NaN     NaN   NaN\n",
       "(35, 40]                         3  0.000000    0.00  0.00\n",
       "(40, 45]                        41  1.011463    0.00  2.38\n",
       "(45, 50]                       161  1.113292    2.00  2.21\n",
       "(50, 55]                       222  0.975991    1.82  1.99\n",
       "(55, 60]                       282  1.057766    1.68  1.81\n",
       "(60, 65]                       232  0.986897    1.56  1.66\n",
       "(65, 70]                       118  1.021780    1.47  1.53\n",
       "(70, 75]                        67  0.870299    1.37  1.42\n",
       "(75, 80]                        12  0.985000    1.31  1.33\n",
       "(80, 85]                         1  1.230000    1.23  1.23\n",
       "(85, 90]                         1  0.000000    0.00  0.00\n",
       "(90, 95]                         0       NaN     NaN   NaN\n",
       "(95, 100]                        0       NaN     NaN   NaN"
      ]
     },
     "execution_count": 58,
     "metadata": {},
     "output_type": "execute_result"
    }
   ],
   "source": [
    "fdf_over_pinacle_closing_gb_agg = fdf_over_pinacle_closing.groupby('binned >2.5 pinacle closing')['payout_over_2.5_pinacle_closing'].agg(['count', 'mean', 'median', 'max'])\n",
    "fdf_over_pinacle_closing_gb_agg"
   ]
  },
  {
   "cell_type": "markdown",
   "id": "eca3df08",
   "metadata": {},
   "source": [
    "## Results per implied prob bet365"
   ]
  },
  {
   "cell_type": "markdown",
   "id": "a4abadb9",
   "metadata": {},
   "source": [
    "### Under"
   ]
  },
  {
   "cell_type": "markdown",
   "id": "c5b84deb",
   "metadata": {},
   "source": [
    "#### Opening odds"
   ]
  },
  {
   "cell_type": "code",
   "execution_count": 45,
   "id": "4c377d92",
   "metadata": {},
   "outputs": [
    {
     "data": {
      "text/plain": [
       "binned <2.5 365\n",
       "(0, 5]         0\n",
       "(5, 10]        0\n",
       "(10, 15]       0\n",
       "(15, 20]       0\n",
       "(20, 25]       1\n",
       "(25, 30]      12\n",
       "(30, 35]      57\n",
       "(35, 40]     174\n",
       "(40, 45]     171\n",
       "(45, 50]     415\n",
       "(50, 55]     182\n",
       "(55, 60]      94\n",
       "(60, 65]      28\n",
       "(65, 70]       2\n",
       "(70, 75]       0\n",
       "(75, 80]       0\n",
       "(80, 85]       0\n",
       "(85, 90]       0\n",
       "(90, 95]       0\n",
       "(95, 100]      0\n",
       "Name: payout_under_2.5_365, dtype: int64"
      ]
     },
     "execution_count": 45,
     "metadata": {},
     "output_type": "execute_result"
    }
   ],
   "source": [
    "fdf_under_bet365_gb_count = fdf_under_365.groupby('binned <2.5 365')['payout_under_2.5_365'].count()\n",
    "fdf_under_bet365_gb_count"
   ]
  },
  {
   "cell_type": "code",
   "execution_count": 46,
   "id": "d64f9d96",
   "metadata": {},
   "outputs": [
    {
     "data": {
      "text/plain": [
       "binned <2.5 365\n",
       "(0, 5]            NaN\n",
       "(5, 10]           NaN\n",
       "(10, 15]          NaN\n",
       "(15, 20]          NaN\n",
       "(20, 25]     4.000000\n",
       "(25, 30]     1.150000\n",
       "(30, 35]     1.371930\n",
       "(35, 40]     0.845920\n",
       "(40, 45]     0.915906\n",
       "(45, 50]     0.807639\n",
       "(50, 55]     0.972527\n",
       "(55, 60]     0.897872\n",
       "(60, 65]     0.999286\n",
       "(65, 70]     0.765000\n",
       "(70, 75]          NaN\n",
       "(75, 80]          NaN\n",
       "(80, 85]          NaN\n",
       "(85, 90]          NaN\n",
       "(90, 95]          NaN\n",
       "(95, 100]         NaN\n",
       "Name: payout_under_2.5_365, dtype: float64"
      ]
     },
     "execution_count": 46,
     "metadata": {},
     "output_type": "execute_result"
    }
   ],
   "source": [
    "fdf_under_bet365_gb_mean = fdf_under_365.groupby('binned <2.5 365')['payout_under_2.5_365'].mean()\n",
    "fdf_under_bet365_gb_mean"
   ]
  },
  {
   "cell_type": "code",
   "execution_count": 47,
   "id": "f5b7baa4",
   "metadata": {},
   "outputs": [
    {
     "data": {
      "text/plain": [
       "0.9030721830985916"
      ]
     },
     "execution_count": 47,
     "metadata": {},
     "output_type": "execute_result"
    }
   ],
   "source": [
    "fdf_under_365['payout_under_2.5_365'].mean()"
   ]
  },
  {
   "cell_type": "code",
   "execution_count": 48,
   "id": "e5a1828a",
   "metadata": {},
   "outputs": [],
   "source": [
    "fdf_under_365_above_40 = fdf_under_365[fdf_under_365['Implied Probability <2.5 365']>40]"
   ]
  },
  {
   "cell_type": "code",
   "execution_count": 49,
   "id": "a17ec083",
   "metadata": {},
   "outputs": [
    {
     "data": {
      "text/plain": [
       "0.8774663677130046"
      ]
     },
     "execution_count": 49,
     "metadata": {},
     "output_type": "execute_result"
    }
   ],
   "source": [
    "fdf_under_365_above_40['payout_under_2.5_365'].mean()"
   ]
  },
  {
   "cell_type": "markdown",
   "id": "cab820bb",
   "metadata": {},
   "source": [
    "#### Closing odds"
   ]
  },
  {
   "cell_type": "code",
   "execution_count": 50,
   "id": "7bb752be",
   "metadata": {},
   "outputs": [
    {
     "data": {
      "text/plain": [
       "binned <2.5 365 closing\n",
       "(0, 5]         0\n",
       "(5, 10]        0\n",
       "(10, 15]       0\n",
       "(15, 20]       1\n",
       "(20, 25]       3\n",
       "(25, 30]      25\n",
       "(30, 35]      71\n",
       "(35, 40]     156\n",
       "(40, 45]     172\n",
       "(45, 50]     382\n",
       "(50, 55]     156\n",
       "(55, 60]     123\n",
       "(60, 65]      46\n",
       "(65, 70]       4\n",
       "(70, 75]       0\n",
       "(75, 80]       0\n",
       "(80, 85]       0\n",
       "(85, 90]       0\n",
       "(90, 95]       0\n",
       "(95, 100]      0\n",
       "Name: payout_under_2.5_365_closing, dtype: int64"
      ]
     },
     "execution_count": 50,
     "metadata": {},
     "output_type": "execute_result"
    }
   ],
   "source": [
    "fdf_under_bet365_closing_gb_count = fdf_under_365_closing.groupby('binned <2.5 365 closing')['payout_under_2.5_365_closing'].count()\n",
    "fdf_under_bet365_closing_gb_count"
   ]
  },
  {
   "cell_type": "code",
   "execution_count": 51,
   "id": "cd7cd46c",
   "metadata": {},
   "outputs": [
    {
     "data": {
      "text/plain": [
       "binned <2.5 365 closing\n",
       "(0, 5]            NaN\n",
       "(5, 10]           NaN\n",
       "(10, 15]          NaN\n",
       "(15, 20]     5.000000\n",
       "(20, 25]     1.333333\n",
       "(25, 30]     1.382000\n",
       "(30, 35]     1.039437\n",
       "(35, 40]     0.770641\n",
       "(40, 45]     0.952326\n",
       "(45, 50]     0.867356\n",
       "(50, 55]     0.856538\n",
       "(55, 60]     0.933821\n",
       "(60, 65]     0.853478\n",
       "(65, 70]     1.530000\n",
       "(70, 75]          NaN\n",
       "(75, 80]          NaN\n",
       "(80, 85]          NaN\n",
       "(85, 90]          NaN\n",
       "(90, 95]          NaN\n",
       "(95, 100]         NaN\n",
       "Name: payout_under_2.5_365_closing, dtype: float64"
      ]
     },
     "execution_count": 51,
     "metadata": {},
     "output_type": "execute_result"
    }
   ],
   "source": [
    "fdf_under_bet365_closing_gb_mean = fdf_under_365_closing.groupby('binned <2.5 365 closing')['payout_under_2.5_365_closing'].mean()\n",
    "fdf_under_bet365_closing_gb_mean"
   ]
  },
  {
   "cell_type": "markdown",
   "id": "d066b0ca",
   "metadata": {},
   "source": [
    "### Over"
   ]
  },
  {
   "cell_type": "markdown",
   "id": "12e4a9a9",
   "metadata": {},
   "source": [
    "#### Opening Odds"
   ]
  },
  {
   "cell_type": "code",
   "execution_count": 52,
   "id": "f0ec2853",
   "metadata": {},
   "outputs": [
    {
     "data": {
      "text/plain": [
       "binned >2.5 365\n",
       "(0, 5]         0\n",
       "(5, 10]        0\n",
       "(10, 15]       0\n",
       "(15, 20]       0\n",
       "(20, 25]       0\n",
       "(25, 30]       0\n",
       "(30, 35]       0\n",
       "(35, 40]       2\n",
       "(40, 45]       6\n",
       "(45, 50]     142\n",
       "(50, 55]     182\n",
       "(55, 60]     258\n",
       "(60, 65]     302\n",
       "(65, 70]     174\n",
       "(70, 75]      57\n",
       "(75, 80]      13\n",
       "(80, 85]       0\n",
       "(85, 90]       0\n",
       "(90, 95]       0\n",
       "(95, 100]      0\n",
       "Name: payout_over_2.5_365, dtype: int64"
      ]
     },
     "execution_count": 52,
     "metadata": {},
     "output_type": "execute_result"
    }
   ],
   "source": [
    "fdf_over_bet365_gb_count = fdf_over_365.groupby('binned >2.5 365')['payout_over_2.5_365'].count()\n",
    "fdf_over_bet365_gb_count"
   ]
  },
  {
   "cell_type": "code",
   "execution_count": 53,
   "id": "7e9083d7",
   "metadata": {},
   "outputs": [
    {
     "data": {
      "text/plain": [
       "binned >2.5 365\n",
       "(0, 5]            NaN\n",
       "(5, 10]           NaN\n",
       "(10, 15]          NaN\n",
       "(15, 20]          NaN\n",
       "(20, 25]          NaN\n",
       "(25, 30]          NaN\n",
       "(30, 35]          NaN\n",
       "(35, 40]     1.250000\n",
       "(40, 45]     0.766667\n",
       "(45, 50]     0.956972\n",
       "(50, 55]     0.993352\n",
       "(55, 60]     1.081550\n",
       "(60, 65]     0.980464\n",
       "(65, 70]     1.008276\n",
       "(70, 75]     0.773333\n",
       "(75, 80]     0.802308\n",
       "(80, 85]          NaN\n",
       "(85, 90]          NaN\n",
       "(90, 95]          NaN\n",
       "(95, 100]         NaN\n",
       "Name: payout_over_2.5_365, dtype: float64"
      ]
     },
     "execution_count": 53,
     "metadata": {},
     "output_type": "execute_result"
    }
   ],
   "source": [
    "fdf_over_bet365_gb_mean = fdf_over_365.groupby('binned >2.5 365')['payout_over_2.5_365'].mean()\n",
    "fdf_over_bet365_gb_mean"
   ]
  },
  {
   "cell_type": "code",
   "execution_count": 54,
   "id": "42b66601",
   "metadata": {},
   "outputs": [
    {
     "data": {
      "text/plain": [
       "0.9937235915492957"
      ]
     },
     "execution_count": 54,
     "metadata": {},
     "output_type": "execute_result"
    }
   ],
   "source": [
    "fdf_over_365['payout_over_2.5_365'].mean()"
   ]
  },
  {
   "cell_type": "markdown",
   "id": "c0969105",
   "metadata": {},
   "source": [
    "#### Closing Odds"
   ]
  },
  {
   "cell_type": "code",
   "execution_count": 55,
   "id": "d4f91b68",
   "metadata": {},
   "outputs": [
    {
     "data": {
      "text/plain": [
       "binned >2.5 365 closing\n",
       "(0, 5]         0\n",
       "(5, 10]        0\n",
       "(10, 15]       0\n",
       "(15, 20]       0\n",
       "(20, 25]       0\n",
       "(25, 30]       0\n",
       "(30, 35]       0\n",
       "(35, 40]       4\n",
       "(40, 45]      17\n",
       "(45, 50]     174\n",
       "(50, 55]     170\n",
       "(55, 60]     229\n",
       "(60, 65]     289\n",
       "(65, 70]     156\n",
       "(70, 75]      71\n",
       "(75, 80]      27\n",
       "(80, 85]       1\n",
       "(85, 90]       1\n",
       "(90, 95]       0\n",
       "(95, 100]      0\n",
       "Name: payout_over_2.5_365_closing, dtype: int64"
      ]
     },
     "execution_count": 55,
     "metadata": {},
     "output_type": "execute_result"
    }
   ],
   "source": [
    "fdf_over_bet365_closing_gb_count = fdf_over_365_closing.groupby('binned >2.5 365 closing')['payout_over_2.5_365_closing'].count()\n",
    "fdf_over_bet365_closing_gb_count"
   ]
  },
  {
   "cell_type": "code",
   "execution_count": 56,
   "id": "901ec7b4",
   "metadata": {},
   "outputs": [
    {
     "data": {
      "text/plain": [
       "binned >2.5 365 closing\n",
       "(0, 5]            NaN\n",
       "(5, 10]           NaN\n",
       "(10, 15]          NaN\n",
       "(15, 20]          NaN\n",
       "(20, 25]          NaN\n",
       "(25, 30]          NaN\n",
       "(30, 35]          NaN\n",
       "(35, 40]     0.000000\n",
       "(40, 45]     0.947059\n",
       "(45, 50]     1.032011\n",
       "(50, 55]     1.007882\n",
       "(55, 60]     1.016070\n",
       "(60, 65]     0.980208\n",
       "(65, 70]     1.058269\n",
       "(70, 75]     0.916056\n",
       "(75, 80]     0.774074\n",
       "(80, 85]     1.220000\n",
       "(85, 90]     0.000000\n",
       "(90, 95]          NaN\n",
       "(95, 100]         NaN\n",
       "Name: payout_over_2.5_365_closing, dtype: float64"
      ]
     },
     "execution_count": 56,
     "metadata": {},
     "output_type": "execute_result"
    }
   ],
   "source": [
    "fdf_over_bet365_closing_gb_mean = fdf_over_365_closing.groupby('binned >2.5 365 closing')['payout_over_2.5_365_closing'].mean()\n",
    "fdf_over_bet365_closing_gb_mean"
   ]
  },
  {
   "cell_type": "code",
   "execution_count": 57,
   "id": "6929b581",
   "metadata": {},
   "outputs": [
    {
     "data": {
      "text/plain": [
       "0.9966812993854258"
      ]
     },
     "execution_count": 57,
     "metadata": {},
     "output_type": "execute_result"
    }
   ],
   "source": [
    "fdf_over_365_closing['payout_over_2.5_365_closing'].mean()"
   ]
  },
  {
   "cell_type": "code",
   "execution_count": null,
   "id": "b2453aa2",
   "metadata": {},
   "outputs": [],
   "source": []
  },
  {
   "cell_type": "code",
   "execution_count": null,
   "id": "1dd59ee9",
   "metadata": {},
   "outputs": [],
   "source": []
  }
 ],
 "metadata": {
  "kernelspec": {
   "display_name": "Python 3 (ipykernel)",
   "language": "python",
   "name": "python3"
  },
  "language_info": {
   "codemirror_mode": {
    "name": "ipython",
    "version": 3
   },
   "file_extension": ".py",
   "mimetype": "text/x-python",
   "name": "python",
   "nbconvert_exporter": "python",
   "pygments_lexer": "ipython3",
   "version": "3.8.12"
  },
  "toc": {
   "base_numbering": 1,
   "nav_menu": {},
   "number_sections": true,
   "sideBar": true,
   "skip_h1_title": false,
   "title_cell": "Table of Contents",
   "title_sidebar": "Contents",
   "toc_cell": false,
   "toc_position": {},
   "toc_section_display": true,
   "toc_window_display": false
  },
  "varInspector": {
   "cols": {
    "lenName": 16,
    "lenType": 16,
    "lenVar": 40
   },
   "kernels_config": {
    "python": {
     "delete_cmd_postfix": "",
     "delete_cmd_prefix": "del ",
     "library": "var_list.py",
     "varRefreshCmd": "print(var_dic_list())"
    },
    "r": {
     "delete_cmd_postfix": ") ",
     "delete_cmd_prefix": "rm(",
     "library": "var_list.r",
     "varRefreshCmd": "cat(var_dic_list()) "
    }
   },
   "types_to_exclude": [
    "module",
    "function",
    "builtin_function_or_method",
    "instance",
    "_Feature"
   ],
   "window_display": false
  }
 },
 "nbformat": 4,
 "nbformat_minor": 5
}
