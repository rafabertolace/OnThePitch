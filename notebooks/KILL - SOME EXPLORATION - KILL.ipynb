{
 "cells": [
  {
   "cell_type": "code",
   "execution_count": 114,
   "id": "4ca32028",
   "metadata": {},
   "outputs": [],
   "source": [
    "from keras.layers import BatchNormalization, Dense, Input, Dropout\n",
    "from keras.models import Model\n",
    "from keras import backend as K\n",
    "import pandas as pd\n",
    "import numpy as np\n",
    "from sklearn.model_selection import train_test_split\n",
    "from keras.callbacks import EarlyStopping, ModelCheckpoint\n",
    "import matplotlib.pyplot as plt"
   ]
  },
  {
   "cell_type": "code",
   "execution_count": 121,
   "id": "50be4737",
   "metadata": {},
   "outputs": [],
   "source": [
    "import tensorflow.compat.v1 as tf\n",
    "\n",
    "tf.disable_v2_behavior()"
   ]
  },
  {
   "cell_type": "code",
   "execution_count": 143,
   "id": "3b22c0db",
   "metadata": {},
   "outputs": [],
   "source": [
    "def get_data():\n",
    "    data = pd.read_csv('./../raw_data/extract-betsentiment-com.csv')\n",
    "    X = data.values[:, 5:-5]\n",
    "    y = data.values[:, -1]\n",
    "    y_full = np.zeros((X.shape[0], 8))\n",
    "    for i, y_i in enumerate(y):\n",
    "        if y_i == 1:\n",
    "            y_full[i, 0] = 1.0\n",
    "            y_full[i, 1] = 1.0\n",
    "        if y_i == 2:\n",
    "            y_full[i, 2] = 1.0\n",
    "            y_full[i, 3] = 1.0\n",
    "        if y_i == 3:\n",
    "            y_full[i, 1] = 1.0\n",
    "            y_full[i, 3] = 1.0\n",
    "            y_full[i, 4] = 1.0\n",
    "        y_full[i, 6] = X[i, 1]\n",
    "        y_full[i, 7] = X[i, 2]\n",
    "    return X, y_full, y\n",
    "X, y, outcome = get_data()"
   ]
  },
  {
   "cell_type": "code",
   "execution_count": 144,
   "id": "015d1710",
   "metadata": {},
   "outputs": [],
   "source": [
    "train_x, test_x, train_y, test_y, = train_test_split(X, y)"
   ]
  },
  {
   "cell_type": "code",
   "execution_count": 145,
   "id": "3942113b",
   "metadata": {},
   "outputs": [],
   "source": [
    "def odds_loss(y_true, y_pred):\n",
    "    \"\"\"\n",
    "    The function implements the custom loss function mentioned in info.pdf\n",
    "    \n",
    "    Inputs\n",
    "    true : a vector of dimension batch_size, 7. A label encoded version of the output and the backp1_a and backp1_b\n",
    "    pred : a vector of probabilities of dimension batch_size , 5.\n",
    "    \n",
    "    Returns \n",
    "    the loss value\n",
    "    \"\"\"\n",
    "    win_home_team = y_true[:, 0:1]\n",
    "    win_home_or_draw = y_true[:, 1:2]\n",
    "    win_away = y_true[:, 2:3]\n",
    "    win_away_or_draw = y_true[:, 3:4]\n",
    "    draw = y_true[:, 4:5]\n",
    "    no_bet = y_true[:, 5:6]\n",
    "    odds_a = y_true[:, 6:7]\n",
    "    odds_b = y_true[:, 7:8]\n",
    "    gain_loss_vector = K.concatenate([win_home_team * (odds_a - 1) + (1 - win_home_team) * -1,\n",
    "                                      win_home_or_draw * (1/(1 -1/odds_b) - 1) + (1 - win_home_or_draw) * -1,\n",
    "                                      win_away * (odds_b - 1) + (1 - win_away) * -1,\n",
    "                                      win_away_or_draw * (1/(1 -1/odds_a) - 1) + (1 - win_away_or_draw) * -1,\n",
    "                                      draw * (1/(1 - 1/odds_a - 1/odds_b) - 1) + (1 - draw) * -1,\n",
    "                                      K.zeros_like(odds_a)], axis=1)\n",
    "    return -1 * K.mean(K.sum(gain_loss_vector * y_pred, axis=1))"
   ]
  },
  {
   "cell_type": "code",
   "execution_count": null,
   "id": "b9794533",
   "metadata": {},
   "outputs": [],
   "source": [
    "true = K.variable(np.array([[1, 1, 0, 0, 0, 0, 2.0, 3.0]]), dtype='float32')\n",
    "pred = K.variable(np.array([[0.6, 0.1, 0.2, 0.05, 0.05, 0.0]]), dtype='float32')\n",
    "\n",
    "K.eval(odds_loss(true, pred))"
   ]
  },
  {
   "cell_type": "code",
   "execution_count": null,
   "id": "3f67aeec",
   "metadata": {
    "scrolled": false
   },
   "outputs": [],
   "source": [
    "def get_model(input_dim, output_dim, base=1000, multiplier=0.25, p=0.2):\n",
    "    inputs = Input(shape=(input_dim,))\n",
    "    l = BatchNormalization()(inputs)\n",
    "    l = Dropout(p)(l)\n",
    "    n = base\n",
    "    l = Dense(n, activation='relu')(l)\n",
    "    l = BatchNormalization()(l)\n",
    "    l = Dropout(p)(l)\n",
    "    n = int(n * multiplier)\n",
    "    l = Dense(n, activation='relu')(l)\n",
    "    l = BatchNormalization()(l)\n",
    "    l = Dropout(p)(l)\n",
    "    n = int(n * multiplier)\n",
    "    l = Dense(n, activation='relu')(l)\n",
    "    outputs = Dense(output_dim, activation='softmax')(l)\n",
    "    model = Model(inputs=inputs, outputs=outputs)\n",
    "    model.compile(optimizer='Nadam', loss=odds_loss)\n",
    "    return model\n",
    "\n",
    "model = get_model(21, 6, 1000, 0.9, 0.8)\n",
    "history = model.fit(train_x, train_y, validation_data=(test_x, test_y),\n",
    "          epochs=200, batch_size=5, callbacks=[EarlyStopping(patience=25),\n",
    "                                                ModelCheckpoint('odds_loss.hdf5',\n",
    "                                                                save_best_only=True)])"
   ]
  },
  {
   "cell_type": "code",
   "execution_count": 141,
   "id": "c2668610",
   "metadata": {},
   "outputs": [
    {
     "name": "stdout",
     "output_type": "stream",
     "text": [
      "Training Loss : 0.030611092448234557\n",
      "Validation Loss : 0.09850836515426636\n"
     ]
    }
   ],
   "source": [
    "print('Training Loss : {}\\nValidation Loss : {}'.format(model.evaluate(train_x, train_y), model.evaluate(test_x, test_y)))"
   ]
  },
  {
   "cell_type": "code",
   "execution_count": 142,
   "id": "94e98d04",
   "metadata": {},
   "outputs": [],
   "source": [
    "# import tensorflow as tf\n",
    "# #Considering y variable holds numpy array\n",
    "# y_train_tensor = tf.convert_to_tensor(train_y, dtype=tf.int64)\n",
    "# X_train_tensor = tf.convert_to_tensor(train_x, dtype=tf.int64)\n",
    "# y_test_tensor = tf.convert_to_tensor(test_y, dtype=tf.int64)\n",
    "# X_test_tensor = tf.convert_to_tensor(test_x, dtype=tf.int64)\n",
    "# y_tensor = tf.convert_to_tensor(y, dtype=tf.int64)"
   ]
  },
  {
   "cell_type": "code",
   "execution_count": null,
   "id": "a26c59cf",
   "metadata": {},
   "outputs": [],
   "source": []
  },
  {
   "cell_type": "code",
   "execution_count": null,
   "id": "9b6ab266",
   "metadata": {},
   "outputs": [],
   "source": []
  },
  {
   "cell_type": "code",
   "execution_count": null,
   "id": "7d4003be",
   "metadata": {},
   "outputs": [],
   "source": []
  }
 ],
 "metadata": {
  "kernelspec": {
   "display_name": "Python 3 (ipykernel)",
   "language": "python",
   "name": "python3"
  },
  "language_info": {
   "codemirror_mode": {
    "name": "ipython",
    "version": 3
   },
   "file_extension": ".py",
   "mimetype": "text/x-python",
   "name": "python",
   "nbconvert_exporter": "python",
   "pygments_lexer": "ipython3",
   "version": "3.8.12"
  },
  "toc": {
   "base_numbering": 1,
   "nav_menu": {},
   "number_sections": true,
   "sideBar": true,
   "skip_h1_title": false,
   "title_cell": "Table of Contents",
   "title_sidebar": "Contents",
   "toc_cell": false,
   "toc_position": {},
   "toc_section_display": true,
   "toc_window_display": false
  },
  "varInspector": {
   "cols": {
    "lenName": 16,
    "lenType": 16,
    "lenVar": 40
   },
   "kernels_config": {
    "python": {
     "delete_cmd_postfix": "",
     "delete_cmd_prefix": "del ",
     "library": "var_list.py",
     "varRefreshCmd": "print(var_dic_list())"
    },
    "r": {
     "delete_cmd_postfix": ") ",
     "delete_cmd_prefix": "rm(",
     "library": "var_list.r",
     "varRefreshCmd": "cat(var_dic_list()) "
    }
   },
   "types_to_exclude": [
    "module",
    "function",
    "builtin_function_or_method",
    "instance",
    "_Feature"
   ],
   "window_display": false
  }
 },
 "nbformat": 4,
 "nbformat_minor": 5
}
