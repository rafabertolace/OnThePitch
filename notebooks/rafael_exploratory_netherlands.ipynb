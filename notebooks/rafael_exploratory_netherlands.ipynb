{
 "cells": [
  {
   "cell_type": "markdown",
   "id": "d1816ff7",
   "metadata": {},
   "source": [
    "## Imports"
   ]
  },
  {
   "cell_type": "code",
   "execution_count": 1,
   "id": "06e1f50a",
   "metadata": {},
   "outputs": [],
   "source": [
    "import pandas as pd\n",
    "from os import listdir\n",
    "from os.path import isfile, join\n",
    "import matplotlib.pyplot as plt  \n",
    "plt.style.use('dark_background')"
   ]
  },
  {
   "cell_type": "markdown",
   "id": "b295e690",
   "metadata": {},
   "source": [
    "## Loading the Dataframe"
   ]
  },
  {
   "cell_type": "code",
   "execution_count": 2,
   "id": "b95d2a37",
   "metadata": {},
   "outputs": [
    {
     "data": {
      "text/plain": [
       "'/home/rafael/code/rafabertolace/OnThePitch/notebooks'"
      ]
     },
     "execution_count": 2,
     "metadata": {},
     "output_type": "execute_result"
    }
   ],
   "source": [
    "pwd"
   ]
  },
  {
   "cell_type": "markdown",
   "id": "3fa4f75c",
   "metadata": {},
   "source": [
    "### Merging the Seasons csv files (2019-2020 untill 2021-2022)"
   ]
  },
  {
   "cell_type": "code",
   "execution_count": 3,
   "id": "39b6d4af",
   "metadata": {},
   "outputs": [
    {
     "name": "stdout",
     "output_type": "stream",
     "text": [
      "['Eredivise 2019-2020.csv', 'Eredivise 2020-2021.csv', 'Eredivise 2021-2022.csv']\n"
     ]
    }
   ],
   "source": [
    "print(os.listdir('./../raw_data/Netherlands'))"
   ]
  },
  {
   "cell_type": "code",
   "execution_count": 4,
   "id": "2208c966",
   "metadata": {},
   "outputs": [],
   "source": [
    "files = [file for file in os.listdir('./../raw_data/Netherlands')]\n",
    "data = pd.DataFrame()\n",
    "\n",
    "\n",
    "for file in files:\n",
    "    df = pd.read_csv('./../raw_data/Netherlands/'+file)\n",
    "    data = pd.concat([data, df])"
   ]
  },
  {
   "cell_type": "code",
   "execution_count": 5,
   "id": "c932f0b1",
   "metadata": {},
   "outputs": [
    {
     "data": {
      "text/html": [
       "<div>\n",
       "<style scoped>\n",
       "    .dataframe tbody tr th:only-of-type {\n",
       "        vertical-align: middle;\n",
       "    }\n",
       "\n",
       "    .dataframe tbody tr th {\n",
       "        vertical-align: top;\n",
       "    }\n",
       "\n",
       "    .dataframe thead th {\n",
       "        text-align: right;\n",
       "    }\n",
       "</style>\n",
       "<table border=\"1\" class=\"dataframe\">\n",
       "  <thead>\n",
       "    <tr style=\"text-align: right;\">\n",
       "      <th></th>\n",
       "      <th>Div</th>\n",
       "      <th>Date</th>\n",
       "      <th>Time</th>\n",
       "      <th>HomeTeam</th>\n",
       "      <th>AwayTeam</th>\n",
       "      <th>FTHG</th>\n",
       "      <th>FTAG</th>\n",
       "      <th>FTR</th>\n",
       "      <th>HTHG</th>\n",
       "      <th>HTAG</th>\n",
       "      <th>...</th>\n",
       "      <th>AvgC&lt;2.5</th>\n",
       "      <th>AHCh</th>\n",
       "      <th>B365CAHH</th>\n",
       "      <th>B365CAHA</th>\n",
       "      <th>PCAHH</th>\n",
       "      <th>PCAHA</th>\n",
       "      <th>MaxCAHH</th>\n",
       "      <th>MaxCAHA</th>\n",
       "      <th>AvgCAHH</th>\n",
       "      <th>AvgCAHA</th>\n",
       "    </tr>\n",
       "  </thead>\n",
       "  <tbody>\n",
       "    <tr>\n",
       "      <th>0</th>\n",
       "      <td>N1</td>\n",
       "      <td>02/08/2019</td>\n",
       "      <td>19:00</td>\n",
       "      <td>Zwolle</td>\n",
       "      <td>Willem II</td>\n",
       "      <td>1</td>\n",
       "      <td>3</td>\n",
       "      <td>A</td>\n",
       "      <td>1</td>\n",
       "      <td>1</td>\n",
       "      <td>...</td>\n",
       "      <td>2.17</td>\n",
       "      <td>-0.25</td>\n",
       "      <td>2.06</td>\n",
       "      <td>1.84</td>\n",
       "      <td>2.02</td>\n",
       "      <td>1.88</td>\n",
       "      <td>2.07</td>\n",
       "      <td>1.90</td>\n",
       "      <td>2.01</td>\n",
       "      <td>1.85</td>\n",
       "    </tr>\n",
       "    <tr>\n",
       "      <th>1</th>\n",
       "      <td>N1</td>\n",
       "      <td>03/08/2019</td>\n",
       "      <td>17:30</td>\n",
       "      <td>FC Emmen</td>\n",
       "      <td>Groningen</td>\n",
       "      <td>0</td>\n",
       "      <td>1</td>\n",
       "      <td>A</td>\n",
       "      <td>0</td>\n",
       "      <td>0</td>\n",
       "      <td>...</td>\n",
       "      <td>1.84</td>\n",
       "      <td>0.00</td>\n",
       "      <td>1.92</td>\n",
       "      <td>1.98</td>\n",
       "      <td>1.93</td>\n",
       "      <td>1.97</td>\n",
       "      <td>2.00</td>\n",
       "      <td>2.02</td>\n",
       "      <td>1.92</td>\n",
       "      <td>1.95</td>\n",
       "    </tr>\n",
       "    <tr>\n",
       "      <th>2</th>\n",
       "      <td>N1</td>\n",
       "      <td>03/08/2019</td>\n",
       "      <td>17:30</td>\n",
       "      <td>Vitesse</td>\n",
       "      <td>Ajax</td>\n",
       "      <td>2</td>\n",
       "      <td>2</td>\n",
       "      <td>D</td>\n",
       "      <td>1</td>\n",
       "      <td>1</td>\n",
       "      <td>...</td>\n",
       "      <td>2.87</td>\n",
       "      <td>1.00</td>\n",
       "      <td>2.02</td>\n",
       "      <td>1.77</td>\n",
       "      <td>2.10</td>\n",
       "      <td>1.81</td>\n",
       "      <td>2.14</td>\n",
       "      <td>1.84</td>\n",
       "      <td>2.09</td>\n",
       "      <td>1.79</td>\n",
       "    </tr>\n",
       "    <tr>\n",
       "      <th>3</th>\n",
       "      <td>N1</td>\n",
       "      <td>03/08/2019</td>\n",
       "      <td>19:45</td>\n",
       "      <td>Twente</td>\n",
       "      <td>PSV Eindhoven</td>\n",
       "      <td>1</td>\n",
       "      <td>1</td>\n",
       "      <td>D</td>\n",
       "      <td>1</td>\n",
       "      <td>0</td>\n",
       "      <td>...</td>\n",
       "      <td>2.41</td>\n",
       "      <td>1.00</td>\n",
       "      <td>2.09</td>\n",
       "      <td>1.81</td>\n",
       "      <td>2.15</td>\n",
       "      <td>1.77</td>\n",
       "      <td>2.16</td>\n",
       "      <td>1.85</td>\n",
       "      <td>2.08</td>\n",
       "      <td>1.79</td>\n",
       "    </tr>\n",
       "    <tr>\n",
       "      <th>4</th>\n",
       "      <td>N1</td>\n",
       "      <td>03/08/2019</td>\n",
       "      <td>19:45</td>\n",
       "      <td>VVV Venlo</td>\n",
       "      <td>Waalwijk</td>\n",
       "      <td>3</td>\n",
       "      <td>1</td>\n",
       "      <td>H</td>\n",
       "      <td>0</td>\n",
       "      <td>1</td>\n",
       "      <td>...</td>\n",
       "      <td>2.26</td>\n",
       "      <td>-0.75</td>\n",
       "      <td>2.05</td>\n",
       "      <td>1.75</td>\n",
       "      <td>2.12</td>\n",
       "      <td>1.79</td>\n",
       "      <td>2.15</td>\n",
       "      <td>1.81</td>\n",
       "      <td>2.11</td>\n",
       "      <td>1.77</td>\n",
       "    </tr>\n",
       "  </tbody>\n",
       "</table>\n",
       "<p>5 rows × 105 columns</p>\n",
       "</div>"
      ],
      "text/plain": [
       "  Div        Date   Time   HomeTeam       AwayTeam  FTHG  FTAG FTR  HTHG  \\\n",
       "0  N1  02/08/2019  19:00     Zwolle      Willem II     1     3   A     1   \n",
       "1  N1  03/08/2019  17:30   FC Emmen      Groningen     0     1   A     0   \n",
       "2  N1  03/08/2019  17:30    Vitesse           Ajax     2     2   D     1   \n",
       "3  N1  03/08/2019  19:45     Twente  PSV Eindhoven     1     1   D     1   \n",
       "4  N1  03/08/2019  19:45  VVV Venlo       Waalwijk     3     1   H     0   \n",
       "\n",
       "   HTAG  ... AvgC<2.5  AHCh  B365CAHH  B365CAHA  PCAHH  PCAHA  MaxCAHH  \\\n",
       "0     1  ...     2.17 -0.25      2.06      1.84   2.02   1.88     2.07   \n",
       "1     0  ...     1.84  0.00      1.92      1.98   1.93   1.97     2.00   \n",
       "2     1  ...     2.87  1.00      2.02      1.77   2.10   1.81     2.14   \n",
       "3     0  ...     2.41  1.00      2.09      1.81   2.15   1.77     2.16   \n",
       "4     1  ...     2.26 -0.75      2.05      1.75   2.12   1.79     2.15   \n",
       "\n",
       "   MaxCAHA  AvgCAHH  AvgCAHA  \n",
       "0     1.90     2.01     1.85  \n",
       "1     2.02     1.92     1.95  \n",
       "2     1.84     2.09     1.79  \n",
       "3     1.85     2.08     1.79  \n",
       "4     1.81     2.11     1.77  \n",
       "\n",
       "[5 rows x 105 columns]"
      ]
     },
     "execution_count": 5,
     "metadata": {},
     "output_type": "execute_result"
    }
   ],
   "source": [
    "data.head()"
   ]
  },
  {
   "cell_type": "code",
   "execution_count": 6,
   "id": "fe07720d",
   "metadata": {},
   "outputs": [
    {
     "name": "stdout",
     "output_type": "stream",
     "text": [
      "Div\n",
      "Date\n",
      "Time\n",
      "HomeTeam\n",
      "AwayTeam\n",
      "FTHG\n",
      "FTAG\n",
      "FTR\n",
      "HTHG\n",
      "HTAG\n",
      "HTR\n",
      "HS\n",
      "AS\n",
      "HST\n",
      "AST\n",
      "HF\n",
      "AF\n",
      "HC\n",
      "AC\n",
      "HY\n",
      "AY\n",
      "HR\n",
      "AR\n",
      "B365H\n",
      "B365D\n",
      "B365A\n",
      "BWH\n",
      "BWD\n",
      "BWA\n",
      "IWH\n",
      "IWD\n",
      "IWA\n",
      "PSH\n",
      "PSD\n",
      "PSA\n",
      "WHH\n",
      "WHD\n",
      "WHA\n",
      "VCH\n",
      "VCD\n",
      "VCA\n",
      "MaxH\n",
      "MaxD\n",
      "MaxA\n",
      "AvgH\n",
      "AvgD\n",
      "AvgA\n",
      "B365>2.5\n",
      "B365<2.5\n",
      "P>2.5\n",
      "P<2.5\n",
      "Max>2.5\n",
      "Max<2.5\n",
      "Avg>2.5\n",
      "Avg<2.5\n",
      "AHh\n",
      "B365AHH\n",
      "B365AHA\n",
      "PAHH\n",
      "PAHA\n",
      "MaxAHH\n",
      "MaxAHA\n",
      "AvgAHH\n",
      "AvgAHA\n",
      "B365CH\n",
      "B365CD\n",
      "B365CA\n",
      "BWCH\n",
      "BWCD\n",
      "BWCA\n",
      "IWCH\n",
      "IWCD\n",
      "IWCA\n",
      "PSCH\n",
      "PSCD\n",
      "PSCA\n",
      "WHCH\n",
      "WHCD\n",
      "WHCA\n",
      "VCCH\n",
      "VCCD\n",
      "VCCA\n",
      "MaxCH\n",
      "MaxCD\n",
      "MaxCA\n",
      "AvgCH\n",
      "AvgCD\n",
      "AvgCA\n",
      "B365C>2.5\n",
      "B365C<2.5\n",
      "PC>2.5\n",
      "PC<2.5\n",
      "MaxC>2.5\n",
      "MaxC<2.5\n",
      "AvgC>2.5\n",
      "AvgC<2.5\n",
      "AHCh\n",
      "B365CAHH\n",
      "B365CAHA\n",
      "PCAHH\n",
      "PCAHA\n",
      "MaxCAHH\n",
      "MaxCAHA\n",
      "AvgCAHH\n",
      "AvgCAHA\n"
     ]
    }
   ],
   "source": [
    "for col_name in data.columns: \n",
    "    print(col_name)"
   ]
  },
  {
   "cell_type": "code",
   "execution_count": 7,
   "id": "8c5821c7",
   "metadata": {},
   "outputs": [],
   "source": [
    "# data_date_2 = pd.to_datetime(data_date, dayfirst = True)"
   ]
  },
  {
   "cell_type": "markdown",
   "id": "32c8ad8d",
   "metadata": {},
   "source": [
    "## Features Engineering"
   ]
  },
  {
   "cell_type": "markdown",
   "id": "c84939f7",
   "metadata": {},
   "source": [
    "### Number of Goals, Over and Under"
   ]
  },
  {
   "cell_type": "code",
   "execution_count": 8,
   "id": "fed74758",
   "metadata": {},
   "outputs": [],
   "source": [
    "# total number of goals = goals from the home team + goals from visiting team\n",
    "data['nb_goals']=data['FTHG']+data['FTAG']\n",
    "\n",
    "# boolean: true or false regarding whether they were more than 2.5 goals\n",
    "data['over_2.5_goals']=data['nb_goals']>2.5\n",
    "\n",
    "# boolean: true or false regarding whether they were less than 2.5 goals\n",
    "data['under_2.5_goals']=data['nb_goals']<2.5"
   ]
  },
  {
   "cell_type": "markdown",
   "id": "3ffc1554",
   "metadata": {},
   "source": [
    "### Payout Average"
   ]
  },
  {
   "cell_type": "markdown",
   "id": "466f6de3",
   "metadata": {},
   "source": [
    "  Payout of betting on over/under 2.5 goals: we get 0 if we lose the bet, we get the Avg if we win the bet (Avg = market average of the odds)\n"
   ]
  },
  {
   "cell_type": "code",
   "execution_count": 9,
   "id": "4b10653e",
   "metadata": {},
   "outputs": [],
   "source": [
    "# payout under 2.5 for Average OPENING odds\n",
    "data['payout_avg_under_2.5'] = data['under_2.5_goals']*data['Avg<2.5']\n",
    "\n",
    "# payout over 2.5 for Average OPENING odds\n",
    "data['payout_avg_over_2.5'] = data['over_2.5_goals']*data['Avg>2.5']\n",
    "\n",
    "# payout under 2.5 for Average CLOSING odds\n",
    "data['payout_avg_under_closing_2.5'] = data['under_2.5_goals']*data['AvgC<2.5']\n",
    "\n",
    "# payout over 2.5 for Average CLOSING odds\n",
    "data['payout_avg_over_closing_2.5'] = data['over_2.5_goals']*data['AvgC>2.5']"
   ]
  },
  {
   "cell_type": "markdown",
   "id": "e7499f75",
   "metadata": {},
   "source": [
    "#### Payout Pinnacle"
   ]
  },
  {
   "cell_type": "code",
   "execution_count": 10,
   "id": "7ebcc6f1",
   "metadata": {},
   "outputs": [],
   "source": [
    "#payout UNDER 2.5 for PINACLE specifically\n",
    "data['payout_under_2.5_pinacle'] = data['under_2.5_goals']*data['P<2.5']\n",
    "\n",
    "#payout UNDER 2.5 for PINACLE closing ddds specifically\n",
    "data['payout_under_2.5_pinacle_closing'] = data['under_2.5_goals']*data['PC<2.5']\n",
    "\n",
    "#payout OVER 2.5 for PINACLE specifically\n",
    "data['payout_over_2.5_pinacle'] = data['over_2.5_goals']*data['P>2.5']\n",
    "\n",
    "#payout OVER 2.5 for PINACLE closing odds specifically\n",
    "data['payout_over_2.5_pinacle_closing'] = data['over_2.5_goals']*data['PC>2.5']"
   ]
  },
  {
   "cell_type": "markdown",
   "id": "87aef2eb",
   "metadata": {},
   "source": [
    "#### Payout bet365"
   ]
  },
  {
   "cell_type": "code",
   "execution_count": 11,
   "id": "2fe3c17b",
   "metadata": {},
   "outputs": [],
   "source": [
    "#payout UNDER 2.5 for 365 specifically\n",
    "data['payout_under_2.5_365'] = data['under_2.5_goals']*data['B365<2.5']\n",
    "\n",
    "#payout UNDER 2.5 for 365 closing odds specifically\n",
    "data['payout_under_2.5_365_closing'] = data['under_2.5_goals']*data['B365C<2.5']\n",
    "\n",
    "#payout OVER 2.5 for 365 specifically\n",
    "data['payout_over_2.5_365'] = data['over_2.5_goals']*data['B365>2.5']\n",
    "\n",
    "#payout OVER 2.5 for 365 closing odds specifically\n",
    "data['payout_over_2.5_365_closing'] = data['over_2.5_goals']*data['B365C>2.5']"
   ]
  },
  {
   "cell_type": "markdown",
   "id": "9ad9c30c",
   "metadata": {},
   "source": [
    "### Implied Probability Market Average"
   ]
  },
  {
   "cell_type": "code",
   "execution_count": 12,
   "id": "4cdcecbb",
   "metadata": {},
   "outputs": [],
   "source": [
    "#Implied Probability UNDER 2.5 goals for for overall market opening odds (Avg) \n",
    "data['Implied Probability <2.5 avg']=1/data['Avg<2.5']*100\n",
    "\n",
    "#Implied Probability OVER 2.5 goals for for overall market opening odds (Avg) \n",
    "data['Implied Probability >2.5 avg']=1/data['Avg>2.5']*100\n",
    "\n",
    "#Implied Probability UNDER 2.5 goals for overall market closing odds (AvgC)\n",
    "data['Implied Probability <2.5 avg closing']=1/data['AvgC<2.5']*100\n",
    "\n",
    "#Implied Probability OVER 2.5 goals for overall market closing odds (AvgC)\n",
    "data['Implied Probability >2.5 avg closing']=1/data['AvgC>2.5']*100"
   ]
  },
  {
   "cell_type": "markdown",
   "id": "d3cd6ba0",
   "metadata": {},
   "source": [
    "### Implied Probability Pinnacle"
   ]
  },
  {
   "cell_type": "code",
   "execution_count": 13,
   "id": "ecdfbb9d",
   "metadata": {},
   "outputs": [],
   "source": [
    "#Implied Probability UNDER 2.5 goals for PINACLE\n",
    "data['Implied Probability <2.5 pinacle']=1/data['P<2.5']*100\n",
    "\n",
    "#Implied Probability OVER 2.5 goals for PINACLE\n",
    "data['Implied Probability >2.5 pinacle']=1/data['P>2.5']*100\n",
    "\n",
    "#Implied Probability UNDER 2.5 goals for PINACLE closing odds\n",
    "data['Implied Probability <2.5 pinacle closing']=1/data['PC<2.5']*100\n",
    "\n",
    "#Implied Probability OVER 2.5 goals for PINACLE closing odds\n",
    "data['Implied Probability >2.5 pinacle closing']=1/data['PC>2.5']*100"
   ]
  },
  {
   "cell_type": "markdown",
   "id": "8dc6d342",
   "metadata": {},
   "source": [
    "### Implied Probability bet365"
   ]
  },
  {
   "cell_type": "code",
   "execution_count": 14,
   "id": "eab84c20",
   "metadata": {},
   "outputs": [],
   "source": [
    "#Implied Probability UNDER 2.5 goals for 365\n",
    "data['Implied Probability <2.5 365']=1/data['B365<2.5']*100\n",
    "\n",
    "#Implied Probability UNDER 2.5 goals for 365 closing odds\n",
    "data['Implied Probability <2.5 365 closing']=1/data['B365C<2.5']*100\n",
    "\n",
    "#Implied Probability OVER 2.5 goals for 365\n",
    "data['Implied Probability >2.5 365']=1/data['B365>2.5']*100\n",
    "\n",
    "#Implied Probability OVER 2.5 goals for 365 closing odds\n",
    "data['Implied Probability >2.5 365 closing']=1/data['B365C>2.5']*100"
   ]
  },
  {
   "cell_type": "markdown",
   "id": "56fa1da6",
   "metadata": {},
   "source": [
    "### Binning the implied probabilities"
   ]
  },
  {
   "cell_type": "code",
   "execution_count": 15,
   "id": "8e1c90a8",
   "metadata": {},
   "outputs": [],
   "source": [
    "bins = [0, 5, 10, 15, 20, 25, 30, 35, 40, 45, 50, 55, 60, 65, 70, 75, 80, 85, 90, 95, 100]\n",
    "\n",
    "#Binning UNDER 2.5 Average Market opening odds\n",
    "data['binned <2.5 avg'] = pd.cut(data['Implied Probability <2.5 avg'], bins)\n",
    "\n",
    "#Binning Over 2.5 Average Market opening odds\n",
    "data['binned >2.5 avg'] = pd.cut(data['Implied Probability >2.5 avg'], bins)\n",
    "\n",
    "#Binning UNDER 2.5 Average Market closing odds\n",
    "data['binned <2.5 avg closing'] = pd.cut(data['Implied Probability <2.5 avg closing'], bins)\n",
    "\n",
    "#Binning OVER 2.5 Average Market closing odds\n",
    "data['binned >2.5 avg closing'] = pd.cut(data['Implied Probability >2.5 avg closing'], bins)"
   ]
  },
  {
   "cell_type": "markdown",
   "id": "ec7d023e",
   "metadata": {},
   "source": [
    "### Binning Pinnacle"
   ]
  },
  {
   "cell_type": "code",
   "execution_count": 16,
   "id": "726978c9",
   "metadata": {},
   "outputs": [],
   "source": [
    "bins = [0, 5, 10, 15, 20, 25, 30, 35, 40, 45, 50, 55, 60, 65, 70, 75, 80, 85, 90, 95, 100]\n",
    "\n",
    "#Binned UNDER 2.5 Pinnacle opening odds\n",
    "data['binned <2.5 pinacle'] = pd.cut(data['Implied Probability <2.5 pinacle'], bins)\n",
    "\n",
    "#Binned UNDER 2.5 Pinnacle closing odds\n",
    "data['binned <2.5 pinacle closing'] = pd.cut(data['Implied Probability <2.5 pinacle closing'], bins)\n",
    "\n",
    "#Binned OVER 2.5 Pinnacle\n",
    "data['binned >2.5 pinacle'] = pd.cut(data['Implied Probability >2.5 pinacle'], bins)\n",
    "\n",
    "#Binned OVER 2.5 Pinnacle CLOSING odds\n",
    "data['binned >2.5 pinacle closing'] = pd.cut(data['Implied Probability >2.5 pinacle closing'], bins)"
   ]
  },
  {
   "cell_type": "markdown",
   "id": "2029ae39",
   "metadata": {},
   "source": [
    "### Binning bet365"
   ]
  },
  {
   "cell_type": "code",
   "execution_count": 17,
   "id": "4a73f0c4",
   "metadata": {},
   "outputs": [],
   "source": [
    "bins = [0, 5, 10, 15, 20, 25, 30, 35, 40, 45, 50, 55, 60, 65, 70, 75, 80, 85, 90, 95, 100]\n",
    "\n",
    "#Binned UNDER 2.5 bet365 OPENING odds\n",
    "data['binned <2.5 365'] = pd.cut(data['Implied Probability <2.5 365'], bins)\n",
    "\n",
    "#Binned UNDER 2.5 bet365 CLOSING odds\n",
    "data['binned <2.5 365 closing'] = pd.cut(data['Implied Probability <2.5 365 closing'], bins)\n",
    "\n",
    "#Binned OVER 2.5 bet365 OPENING odds\n",
    "data['binned >2.5 365'] = pd.cut(data['Implied Probability >2.5 365'], bins)\n",
    "\n",
    "#Binned OVER 2.5 bet365 CLOSING odds\n",
    "data['binned >2.5 365 closing'] = pd.cut(data['Implied Probability >2.5 365 closing'], bins)"
   ]
  },
  {
   "cell_type": "code",
   "execution_count": 18,
   "id": "c8c0a485",
   "metadata": {},
   "outputs": [
    {
     "data": {
      "text/html": [
       "<div>\n",
       "<style scoped>\n",
       "    .dataframe tbody tr th:only-of-type {\n",
       "        vertical-align: middle;\n",
       "    }\n",
       "\n",
       "    .dataframe tbody tr th {\n",
       "        vertical-align: top;\n",
       "    }\n",
       "\n",
       "    .dataframe thead th {\n",
       "        text-align: right;\n",
       "    }\n",
       "</style>\n",
       "<table border=\"1\" class=\"dataframe\">\n",
       "  <thead>\n",
       "    <tr style=\"text-align: right;\">\n",
       "      <th></th>\n",
       "      <th>Div</th>\n",
       "      <th>Date</th>\n",
       "      <th>Time</th>\n",
       "      <th>HomeTeam</th>\n",
       "      <th>AwayTeam</th>\n",
       "      <th>FTHG</th>\n",
       "      <th>FTAG</th>\n",
       "      <th>FTR</th>\n",
       "      <th>HTHG</th>\n",
       "      <th>HTAG</th>\n",
       "      <th>...</th>\n",
       "      <th>binned &lt;2.5 avg closing</th>\n",
       "      <th>binned &gt;2.5 avg closing</th>\n",
       "      <th>binned &lt;2.5 pinacle</th>\n",
       "      <th>binned &lt;2.5 pinacle closing</th>\n",
       "      <th>binned &gt;2.5 pinacle</th>\n",
       "      <th>binned &gt;2.5 pinacle closing</th>\n",
       "      <th>binned &lt;2.5 365</th>\n",
       "      <th>binned &lt;2.5 365 closing</th>\n",
       "      <th>binned &gt;2.5 365</th>\n",
       "      <th>binned &gt;2.5 365 closing</th>\n",
       "    </tr>\n",
       "  </thead>\n",
       "  <tbody>\n",
       "    <tr>\n",
       "      <th>0</th>\n",
       "      <td>N1</td>\n",
       "      <td>02/08/2019</td>\n",
       "      <td>19:00</td>\n",
       "      <td>Zwolle</td>\n",
       "      <td>Willem II</td>\n",
       "      <td>1</td>\n",
       "      <td>3</td>\n",
       "      <td>A</td>\n",
       "      <td>1</td>\n",
       "      <td>1</td>\n",
       "      <td>...</td>\n",
       "      <td>(45, 50]</td>\n",
       "      <td>(55, 60]</td>\n",
       "      <td>(40, 45]</td>\n",
       "      <td>(45, 50]</td>\n",
       "      <td>(60, 65]</td>\n",
       "      <td>(55, 60]</td>\n",
       "      <td>(45, 50]</td>\n",
       "      <td>(45, 50]</td>\n",
       "      <td>(60, 65]</td>\n",
       "      <td>(55, 60]</td>\n",
       "    </tr>\n",
       "    <tr>\n",
       "      <th>1</th>\n",
       "      <td>N1</td>\n",
       "      <td>03/08/2019</td>\n",
       "      <td>17:30</td>\n",
       "      <td>FC Emmen</td>\n",
       "      <td>Groningen</td>\n",
       "      <td>0</td>\n",
       "      <td>1</td>\n",
       "      <td>A</td>\n",
       "      <td>0</td>\n",
       "      <td>0</td>\n",
       "      <td>...</td>\n",
       "      <td>(50, 55]</td>\n",
       "      <td>(50, 55]</td>\n",
       "      <td>(45, 50]</td>\n",
       "      <td>(50, 55]</td>\n",
       "      <td>(55, 60]</td>\n",
       "      <td>(50, 55]</td>\n",
       "      <td>(45, 50]</td>\n",
       "      <td>(55, 60]</td>\n",
       "      <td>(55, 60]</td>\n",
       "      <td>(45, 50]</td>\n",
       "    </tr>\n",
       "    <tr>\n",
       "      <th>2</th>\n",
       "      <td>N1</td>\n",
       "      <td>03/08/2019</td>\n",
       "      <td>17:30</td>\n",
       "      <td>Vitesse</td>\n",
       "      <td>Ajax</td>\n",
       "      <td>2</td>\n",
       "      <td>2</td>\n",
       "      <td>D</td>\n",
       "      <td>1</td>\n",
       "      <td>1</td>\n",
       "      <td>...</td>\n",
       "      <td>(30, 35]</td>\n",
       "      <td>(70, 75]</td>\n",
       "      <td>(35, 40]</td>\n",
       "      <td>(30, 35]</td>\n",
       "      <td>(65, 70]</td>\n",
       "      <td>(70, 75]</td>\n",
       "      <td>(35, 40]</td>\n",
       "      <td>(30, 35]</td>\n",
       "      <td>(65, 70]</td>\n",
       "      <td>(70, 75]</td>\n",
       "    </tr>\n",
       "    <tr>\n",
       "      <th>3</th>\n",
       "      <td>N1</td>\n",
       "      <td>03/08/2019</td>\n",
       "      <td>19:45</td>\n",
       "      <td>Twente</td>\n",
       "      <td>PSV Eindhoven</td>\n",
       "      <td>1</td>\n",
       "      <td>1</td>\n",
       "      <td>D</td>\n",
       "      <td>1</td>\n",
       "      <td>0</td>\n",
       "      <td>...</td>\n",
       "      <td>(40, 45]</td>\n",
       "      <td>(60, 65]</td>\n",
       "      <td>(35, 40]</td>\n",
       "      <td>(40, 45]</td>\n",
       "      <td>(65, 70]</td>\n",
       "      <td>(60, 65]</td>\n",
       "      <td>(35, 40]</td>\n",
       "      <td>(40, 45]</td>\n",
       "      <td>(65, 70]</td>\n",
       "      <td>(60, 65]</td>\n",
       "    </tr>\n",
       "    <tr>\n",
       "      <th>4</th>\n",
       "      <td>N1</td>\n",
       "      <td>03/08/2019</td>\n",
       "      <td>19:45</td>\n",
       "      <td>VVV Venlo</td>\n",
       "      <td>Waalwijk</td>\n",
       "      <td>3</td>\n",
       "      <td>1</td>\n",
       "      <td>H</td>\n",
       "      <td>0</td>\n",
       "      <td>1</td>\n",
       "      <td>...</td>\n",
       "      <td>(40, 45]</td>\n",
       "      <td>(60, 65]</td>\n",
       "      <td>(40, 45]</td>\n",
       "      <td>(40, 45]</td>\n",
       "      <td>(60, 65]</td>\n",
       "      <td>(60, 65]</td>\n",
       "      <td>(45, 50]</td>\n",
       "      <td>(40, 45]</td>\n",
       "      <td>(60, 65]</td>\n",
       "      <td>(60, 65]</td>\n",
       "    </tr>\n",
       "    <tr>\n",
       "      <th>...</th>\n",
       "      <td>...</td>\n",
       "      <td>...</td>\n",
       "      <td>...</td>\n",
       "      <td>...</td>\n",
       "      <td>...</td>\n",
       "      <td>...</td>\n",
       "      <td>...</td>\n",
       "      <td>...</td>\n",
       "      <td>...</td>\n",
       "      <td>...</td>\n",
       "      <td>...</td>\n",
       "      <td>...</td>\n",
       "      <td>...</td>\n",
       "      <td>...</td>\n",
       "      <td>...</td>\n",
       "      <td>...</td>\n",
       "      <td>...</td>\n",
       "      <td>...</td>\n",
       "      <td>...</td>\n",
       "      <td>...</td>\n",
       "      <td>...</td>\n",
       "    </tr>\n",
       "    <tr>\n",
       "      <th>301</th>\n",
       "      <td>N1</td>\n",
       "      <td>15/05/2022</td>\n",
       "      <td>13:30</td>\n",
       "      <td>Heracles</td>\n",
       "      <td>Sparta Rotterdam</td>\n",
       "      <td>1</td>\n",
       "      <td>3</td>\n",
       "      <td>A</td>\n",
       "      <td>0</td>\n",
       "      <td>1</td>\n",
       "      <td>...</td>\n",
       "      <td>(60, 65]</td>\n",
       "      <td>(40, 45]</td>\n",
       "      <td>(55, 60]</td>\n",
       "      <td>(60, 65]</td>\n",
       "      <td>(40, 45]</td>\n",
       "      <td>(40, 45]</td>\n",
       "      <td>(60, 65]</td>\n",
       "      <td>(60, 65]</td>\n",
       "      <td>(45, 50]</td>\n",
       "      <td>(40, 45]</td>\n",
       "    </tr>\n",
       "    <tr>\n",
       "      <th>302</th>\n",
       "      <td>N1</td>\n",
       "      <td>15/05/2022</td>\n",
       "      <td>13:30</td>\n",
       "      <td>Nijmegen</td>\n",
       "      <td>For Sittard</td>\n",
       "      <td>0</td>\n",
       "      <td>1</td>\n",
       "      <td>A</td>\n",
       "      <td>0</td>\n",
       "      <td>1</td>\n",
       "      <td>...</td>\n",
       "      <td>(40, 45]</td>\n",
       "      <td>(65, 70]</td>\n",
       "      <td>(40, 45]</td>\n",
       "      <td>(35, 40]</td>\n",
       "      <td>(55, 60]</td>\n",
       "      <td>(65, 70]</td>\n",
       "      <td>(45, 50]</td>\n",
       "      <td>(35, 40]</td>\n",
       "      <td>(60, 65]</td>\n",
       "      <td>(65, 70]</td>\n",
       "    </tr>\n",
       "    <tr>\n",
       "      <th>303</th>\n",
       "      <td>N1</td>\n",
       "      <td>15/05/2022</td>\n",
       "      <td>13:30</td>\n",
       "      <td>Vitesse</td>\n",
       "      <td>Ajax</td>\n",
       "      <td>2</td>\n",
       "      <td>2</td>\n",
       "      <td>D</td>\n",
       "      <td>0</td>\n",
       "      <td>1</td>\n",
       "      <td>...</td>\n",
       "      <td>(30, 35]</td>\n",
       "      <td>(70, 75]</td>\n",
       "      <td>(30, 35]</td>\n",
       "      <td>(30, 35]</td>\n",
       "      <td>(65, 70]</td>\n",
       "      <td>(70, 75]</td>\n",
       "      <td>(30, 35]</td>\n",
       "      <td>(30, 35]</td>\n",
       "      <td>(70, 75]</td>\n",
       "      <td>(70, 75]</td>\n",
       "    </tr>\n",
       "    <tr>\n",
       "      <th>304</th>\n",
       "      <td>N1</td>\n",
       "      <td>15/05/2022</td>\n",
       "      <td>13:30</td>\n",
       "      <td>Willem II</td>\n",
       "      <td>Utrecht</td>\n",
       "      <td>3</td>\n",
       "      <td>0</td>\n",
       "      <td>H</td>\n",
       "      <td>1</td>\n",
       "      <td>0</td>\n",
       "      <td>...</td>\n",
       "      <td>(40, 45]</td>\n",
       "      <td>(65, 70]</td>\n",
       "      <td>(40, 45]</td>\n",
       "      <td>(40, 45]</td>\n",
       "      <td>(60, 65]</td>\n",
       "      <td>(60, 65]</td>\n",
       "      <td>(40, 45]</td>\n",
       "      <td>(40, 45]</td>\n",
       "      <td>(60, 65]</td>\n",
       "      <td>(65, 70]</td>\n",
       "    </tr>\n",
       "    <tr>\n",
       "      <th>305</th>\n",
       "      <td>N1</td>\n",
       "      <td>15/05/2022</td>\n",
       "      <td>13:30</td>\n",
       "      <td>Zwolle</td>\n",
       "      <td>PSV Eindhoven</td>\n",
       "      <td>1</td>\n",
       "      <td>2</td>\n",
       "      <td>A</td>\n",
       "      <td>1</td>\n",
       "      <td>1</td>\n",
       "      <td>...</td>\n",
       "      <td>(25, 30]</td>\n",
       "      <td>(75, 80]</td>\n",
       "      <td>(30, 35]</td>\n",
       "      <td>(25, 30]</td>\n",
       "      <td>(65, 70]</td>\n",
       "      <td>(70, 75]</td>\n",
       "      <td>(30, 35]</td>\n",
       "      <td>(25, 30]</td>\n",
       "      <td>(70, 75]</td>\n",
       "      <td>(75, 80]</td>\n",
       "    </tr>\n",
       "  </tbody>\n",
       "</table>\n",
       "<p>844 rows × 144 columns</p>\n",
       "</div>"
      ],
      "text/plain": [
       "    Div        Date   Time   HomeTeam          AwayTeam  FTHG  FTAG FTR  HTHG  \\\n",
       "0    N1  02/08/2019  19:00     Zwolle         Willem II     1     3   A     1   \n",
       "1    N1  03/08/2019  17:30   FC Emmen         Groningen     0     1   A     0   \n",
       "2    N1  03/08/2019  17:30    Vitesse              Ajax     2     2   D     1   \n",
       "3    N1  03/08/2019  19:45     Twente     PSV Eindhoven     1     1   D     1   \n",
       "4    N1  03/08/2019  19:45  VVV Venlo          Waalwijk     3     1   H     0   \n",
       "..   ..         ...    ...        ...               ...   ...   ...  ..   ...   \n",
       "301  N1  15/05/2022  13:30   Heracles  Sparta Rotterdam     1     3   A     0   \n",
       "302  N1  15/05/2022  13:30   Nijmegen       For Sittard     0     1   A     0   \n",
       "303  N1  15/05/2022  13:30    Vitesse              Ajax     2     2   D     0   \n",
       "304  N1  15/05/2022  13:30  Willem II           Utrecht     3     0   H     1   \n",
       "305  N1  15/05/2022  13:30     Zwolle     PSV Eindhoven     1     2   A     1   \n",
       "\n",
       "     HTAG  ... binned <2.5 avg closing  binned >2.5 avg closing  \\\n",
       "0       1  ...                (45, 50]                 (55, 60]   \n",
       "1       0  ...                (50, 55]                 (50, 55]   \n",
       "2       1  ...                (30, 35]                 (70, 75]   \n",
       "3       0  ...                (40, 45]                 (60, 65]   \n",
       "4       1  ...                (40, 45]                 (60, 65]   \n",
       "..    ...  ...                     ...                      ...   \n",
       "301     1  ...                (60, 65]                 (40, 45]   \n",
       "302     1  ...                (40, 45]                 (65, 70]   \n",
       "303     1  ...                (30, 35]                 (70, 75]   \n",
       "304     0  ...                (40, 45]                 (65, 70]   \n",
       "305     1  ...                (25, 30]                 (75, 80]   \n",
       "\n",
       "     binned <2.5 pinacle  binned <2.5 pinacle closing  binned >2.5 pinacle  \\\n",
       "0               (40, 45]                     (45, 50]             (60, 65]   \n",
       "1               (45, 50]                     (50, 55]             (55, 60]   \n",
       "2               (35, 40]                     (30, 35]             (65, 70]   \n",
       "3               (35, 40]                     (40, 45]             (65, 70]   \n",
       "4               (40, 45]                     (40, 45]             (60, 65]   \n",
       "..                   ...                          ...                  ...   \n",
       "301             (55, 60]                     (60, 65]             (40, 45]   \n",
       "302             (40, 45]                     (35, 40]             (55, 60]   \n",
       "303             (30, 35]                     (30, 35]             (65, 70]   \n",
       "304             (40, 45]                     (40, 45]             (60, 65]   \n",
       "305             (30, 35]                     (25, 30]             (65, 70]   \n",
       "\n",
       "     binned >2.5 pinacle closing  binned <2.5 365  binned <2.5 365 closing  \\\n",
       "0                       (55, 60]         (45, 50]                 (45, 50]   \n",
       "1                       (50, 55]         (45, 50]                 (55, 60]   \n",
       "2                       (70, 75]         (35, 40]                 (30, 35]   \n",
       "3                       (60, 65]         (35, 40]                 (40, 45]   \n",
       "4                       (60, 65]         (45, 50]                 (40, 45]   \n",
       "..                           ...              ...                      ...   \n",
       "301                     (40, 45]         (60, 65]                 (60, 65]   \n",
       "302                     (65, 70]         (45, 50]                 (35, 40]   \n",
       "303                     (70, 75]         (30, 35]                 (30, 35]   \n",
       "304                     (60, 65]         (40, 45]                 (40, 45]   \n",
       "305                     (70, 75]         (30, 35]                 (25, 30]   \n",
       "\n",
       "     binned >2.5 365  binned >2.5 365 closing  \n",
       "0           (60, 65]                 (55, 60]  \n",
       "1           (55, 60]                 (45, 50]  \n",
       "2           (65, 70]                 (70, 75]  \n",
       "3           (65, 70]                 (60, 65]  \n",
       "4           (60, 65]                 (60, 65]  \n",
       "..               ...                      ...  \n",
       "301         (45, 50]                 (40, 45]  \n",
       "302         (60, 65]                 (65, 70]  \n",
       "303         (70, 75]                 (70, 75]  \n",
       "304         (60, 65]                 (65, 70]  \n",
       "305         (70, 75]                 (75, 80]  \n",
       "\n",
       "[844 rows x 144 columns]"
      ]
     },
     "execution_count": 18,
     "metadata": {},
     "output_type": "execute_result"
    }
   ],
   "source": [
    "data"
   ]
  },
  {
   "cell_type": "markdown",
   "id": "e45ec430",
   "metadata": {},
   "source": [
    "## Final Dataset"
   ]
  },
  {
   "cell_type": "markdown",
   "id": "c06f280c",
   "metadata": {},
   "source": [
    "### Average Market (AvG)"
   ]
  },
  {
   "cell_type": "code",
   "execution_count": 19,
   "id": "8075c1a9",
   "metadata": {},
   "outputs": [],
   "source": [
    "#Average Market UNDER opening odds\n",
    "fdf_under_avg = data[['Implied Probability <2.5 avg','under_2.5_goals','binned <2.5 avg','payout_avg_under_2.5']]\n",
    "\n",
    "#Average Market OVER opening odds\n",
    "fdf_over_avg = data[['Implied Probability >2.5 avg','over_2.5_goals','binned >2.5 avg','payout_avg_over_2.5']]\n",
    "\n",
    "#Average Market UNDER closing odds\n",
    "fdf_under_avg_closing = data[['Implied Probability <2.5 avg closing','under_2.5_goals','binned <2.5 avg closing','payout_avg_under_closing_2.5']]\n",
    "\n",
    "#Average Market OVER opening odds\n",
    "fdf_over_avg_closing = data[['Implied Probability >2.5 avg closing','over_2.5_goals','binned >2.5 avg closing','payout_avg_over_closing_2.5']]"
   ]
  },
  {
   "cell_type": "markdown",
   "id": "efd3a216",
   "metadata": {},
   "source": [
    "### Pinnacle"
   ]
  },
  {
   "cell_type": "code",
   "execution_count": 20,
   "id": "114d0e78",
   "metadata": {},
   "outputs": [],
   "source": [
    "#pinnacle UNDER opening odds\n",
    "fdf_under_pinacle = data[['Implied Probability <2.5 pinacle','under_2.5_goals','binned <2.5 pinacle','payout_under_2.5_pinacle']]\n",
    "\n",
    "#pinnacle OVER opening odds\n",
    "fdf_over_pinacle = data[['Implied Probability >2.5 pinacle','over_2.5_goals','binned >2.5 pinacle','payout_over_2.5_pinacle']]\n",
    "\n",
    "#pinnacle UNDER closing odds\n",
    "fdf_under_pinacle_closing = data[['Implied Probability <2.5 pinacle closing','under_2.5_goals','binned <2.5 pinacle closing','payout_under_2.5_pinacle_closing']]\n",
    "\n",
    "#pinnacle OVER closing odds\n",
    "fdf_over_pinacle_closing = data[['Implied Probability >2.5 pinacle closing','over_2.5_goals','binned >2.5 pinacle closing','payout_over_2.5_pinacle_closing']]"
   ]
  },
  {
   "cell_type": "markdown",
   "id": "6ea5b9f4",
   "metadata": {},
   "source": [
    "### bet365"
   ]
  },
  {
   "cell_type": "code",
   "execution_count": 21,
   "id": "d6a444fd",
   "metadata": {},
   "outputs": [],
   "source": [
    "#bet365 UNDER opening odds\n",
    "fdf_under_365 = data[['Implied Probability <2.5 365','under_2.5_goals','binned <2.5 365','payout_under_2.5_365']]\n",
    "\n",
    "#bet365 OVER opening odds\n",
    "fdf_over_365 = data[['Implied Probability >2.5 365','over_2.5_goals','binned >2.5 365','payout_over_2.5_365']]\n",
    "\n",
    "#bet365 UNDER closing odds\n",
    "fdf_under_365_closing = data[['Implied Probability <2.5 365 closing','under_2.5_goals','binned <2.5 365 closing','payout_under_2.5_365_closing']]\n",
    "\n",
    "#bet365 OVER closing odds\n",
    "fdf_over_365_closing = data[['Implied Probability >2.5 365 closing','over_2.5_goals','binned >2.5 365 closing','payout_over_2.5_365_closing']]"
   ]
  },
  {
   "cell_type": "markdown",
   "id": "f86ea04f",
   "metadata": {},
   "source": [
    "## Results per implied prob Average Market"
   ]
  },
  {
   "cell_type": "markdown",
   "id": "66684c60",
   "metadata": {},
   "source": [
    "### Under"
   ]
  },
  {
   "cell_type": "markdown",
   "id": "167a9db6",
   "metadata": {},
   "source": [
    "#### Avg opening odds"
   ]
  },
  {
   "cell_type": "code",
   "execution_count": 22,
   "id": "b8d712a0",
   "metadata": {},
   "outputs": [
    {
     "data": {
      "text/plain": [
       "binned <2.5 avg\n",
       "(0, 5]         0\n",
       "(5, 10]        0\n",
       "(10, 15]       1\n",
       "(15, 20]       2\n",
       "(20, 25]      22\n",
       "(25, 30]      35\n",
       "(30, 35]      61\n",
       "(35, 40]     148\n",
       "(40, 45]     221\n",
       "(45, 50]     182\n",
       "(50, 55]     122\n",
       "(55, 60]      46\n",
       "(60, 65]       4\n",
       "(65, 70]       0\n",
       "(70, 75]       0\n",
       "(75, 80]       0\n",
       "(80, 85]       0\n",
       "(85, 90]       0\n",
       "(90, 95]       0\n",
       "(95, 100]      0\n",
       "Name: payout_avg_under_2.5, dtype: int64"
      ]
     },
     "execution_count": 22,
     "metadata": {},
     "output_type": "execute_result"
    }
   ],
   "source": [
    "fdf_under_avg_gb_count = fdf_under_avg.groupby('binned <2.5 avg')['payout_avg_under_2.5'].count()\n",
    "fdf_under_avg_gb_count"
   ]
  },
  {
   "cell_type": "code",
   "execution_count": 23,
   "id": "368751a7",
   "metadata": {
    "scrolled": true
   },
   "outputs": [
    {
     "data": {
      "text/plain": [
       "binned <2.5 avg\n",
       "(0, 5]            NaN\n",
       "(5, 10]           NaN\n",
       "(10, 15]     0.000000\n",
       "(15, 20]     0.000000\n",
       "(20, 25]     0.590455\n",
       "(25, 30]     0.709143\n",
       "(30, 35]     1.148525\n",
       "(35, 40]     1.079730\n",
       "(40, 45]     0.787873\n",
       "(45, 50]     1.024670\n",
       "(50, 55]     1.212705\n",
       "(55, 60]     0.999565\n",
       "(60, 65]     0.815000\n",
       "(65, 70]          NaN\n",
       "(70, 75]          NaN\n",
       "(75, 80]          NaN\n",
       "(80, 85]          NaN\n",
       "(85, 90]          NaN\n",
       "(90, 95]          NaN\n",
       "(95, 100]         NaN\n",
       "Name: payout_avg_under_2.5, dtype: float64"
      ]
     },
     "execution_count": 23,
     "metadata": {},
     "output_type": "execute_result"
    }
   ],
   "source": [
    "fdf_under_avg_gb_mean = fdf_under_avg.groupby('binned <2.5 avg')['payout_avg_under_2.5'].mean()\n",
    "fdf_under_avg_gb_mean"
   ]
  },
  {
   "cell_type": "markdown",
   "id": "da439352",
   "metadata": {},
   "source": [
    "#### Avg closing odds"
   ]
  },
  {
   "cell_type": "code",
   "execution_count": 24,
   "id": "b5c7d35d",
   "metadata": {},
   "outputs": [
    {
     "data": {
      "text/plain": [
       "binned <2.5 avg closing\n",
       "(0, 5]         0\n",
       "(5, 10]        0\n",
       "(10, 15]       1\n",
       "(15, 20]      11\n",
       "(20, 25]      18\n",
       "(25, 30]      44\n",
       "(30, 35]      74\n",
       "(35, 40]     138\n",
       "(40, 45]     200\n",
       "(45, 50]     158\n",
       "(50, 55]     122\n",
       "(55, 60]      63\n",
       "(60, 65]      15\n",
       "(65, 70]       0\n",
       "(70, 75]       0\n",
       "(75, 80]       0\n",
       "(80, 85]       0\n",
       "(85, 90]       0\n",
       "(90, 95]       0\n",
       "(95, 100]      0\n",
       "Name: payout_avg_under_closing_2.5, dtype: int64"
      ]
     },
     "execution_count": 24,
     "metadata": {},
     "output_type": "execute_result"
    }
   ],
   "source": [
    "fdf_under_avg_closing_gb_count = fdf_under_avg_closing.groupby('binned <2.5 avg closing')['payout_avg_under_closing_2.5'].count()\n",
    "fdf_under_avg_closing_gb_count"
   ]
  },
  {
   "cell_type": "code",
   "execution_count": 25,
   "id": "130a9d40",
   "metadata": {},
   "outputs": [
    {
     "data": {
      "text/plain": [
       "binned <2.5 avg closing\n",
       "(0, 5]            NaN\n",
       "(5, 10]           NaN\n",
       "(10, 15]     0.000000\n",
       "(15, 20]     0.469091\n",
       "(20, 25]     0.733333\n",
       "(25, 30]     0.567727\n",
       "(30, 35]     0.998919\n",
       "(35, 40]     1.156449\n",
       "(40, 45]     0.878700\n",
       "(45, 50]     0.996582\n",
       "(50, 55]     1.079098\n",
       "(55, 60]     1.131111\n",
       "(60, 65]     0.758000\n",
       "(65, 70]          NaN\n",
       "(70, 75]          NaN\n",
       "(75, 80]          NaN\n",
       "(80, 85]          NaN\n",
       "(85, 90]          NaN\n",
       "(90, 95]          NaN\n",
       "(95, 100]         NaN\n",
       "Name: payout_avg_under_closing_2.5, dtype: float64"
      ]
     },
     "execution_count": 25,
     "metadata": {},
     "output_type": "execute_result"
    }
   ],
   "source": [
    "fdf_under_avg_closing_gb_mean = fdf_under_avg_closing.groupby('binned <2.5 avg closing')['payout_avg_under_closing_2.5'].mean()\n",
    "fdf_under_avg_closing_gb_mean"
   ]
  },
  {
   "cell_type": "markdown",
   "id": "d5b57f08",
   "metadata": {},
   "source": [
    "### Over"
   ]
  },
  {
   "cell_type": "markdown",
   "id": "893845a5",
   "metadata": {},
   "source": [
    "#### Opening Odds"
   ]
  },
  {
   "cell_type": "code",
   "execution_count": 26,
   "id": "b6fa9a98",
   "metadata": {},
   "outputs": [
    {
     "data": {
      "text/plain": [
       "binned >2.5 avg\n",
       "(0, 5]         0\n",
       "(5, 10]        0\n",
       "(10, 15]       0\n",
       "(15, 20]       0\n",
       "(20, 25]       0\n",
       "(25, 30]       0\n",
       "(30, 35]       0\n",
       "(35, 40]       0\n",
       "(40, 45]       4\n",
       "(45, 50]      44\n",
       "(50, 55]     120\n",
       "(55, 60]     168\n",
       "(60, 65]     209\n",
       "(65, 70]     160\n",
       "(70, 75]      66\n",
       "(75, 80]      46\n",
       "(80, 85]      16\n",
       "(85, 90]      10\n",
       "(90, 95]       1\n",
       "(95, 100]      0\n",
       "Name: payout_avg_over_2.5, dtype: int64"
      ]
     },
     "execution_count": 26,
     "metadata": {},
     "output_type": "execute_result"
    }
   ],
   "source": [
    "fdf_over_avg_gb_count = fdf_over_avg.groupby('binned >2.5 avg')['payout_avg_over_2.5'].count()\n",
    "fdf_over_avg_gb_count"
   ]
  },
  {
   "cell_type": "code",
   "execution_count": 27,
   "id": "1f0a3a6a",
   "metadata": {},
   "outputs": [
    {
     "data": {
      "text/plain": [
       "binned >2.5 avg\n",
       "(0, 5]            NaN\n",
       "(5, 10]           NaN\n",
       "(10, 15]          NaN\n",
       "(15, 20]          NaN\n",
       "(20, 25]          NaN\n",
       "(25, 30]          NaN\n",
       "(30, 35]          NaN\n",
       "(35, 40]          NaN\n",
       "(40, 45]     1.145000\n",
       "(45, 50]     0.951364\n",
       "(50, 55]     0.643167\n",
       "(55, 60]     0.908214\n",
       "(60, 65]     1.052823\n",
       "(65, 70]     0.845250\n",
       "(70, 75]     0.882121\n",
       "(75, 80]     1.011304\n",
       "(80, 85]     0.983750\n",
       "(85, 90]     1.162000\n",
       "(90, 95]     1.090000\n",
       "(95, 100]         NaN\n",
       "Name: payout_avg_over_2.5, dtype: float64"
      ]
     },
     "execution_count": 27,
     "metadata": {},
     "output_type": "execute_result"
    }
   ],
   "source": [
    "fdf_over_avg_gb_mean = fdf_over_avg.groupby('binned >2.5 avg')['payout_avg_over_2.5'].mean()\n",
    "fdf_over_avg_gb_mean"
   ]
  },
  {
   "cell_type": "markdown",
   "id": "387c70f7",
   "metadata": {},
   "source": [
    "#### Closing Odds"
   ]
  },
  {
   "cell_type": "code",
   "execution_count": 28,
   "id": "0548fcc8",
   "metadata": {},
   "outputs": [
    {
     "data": {
      "text/plain": [
       "binned >2.5 avg closing\n",
       "(0, 5]         0\n",
       "(5, 10]        0\n",
       "(10, 15]       0\n",
       "(15, 20]       0\n",
       "(20, 25]       0\n",
       "(25, 30]       0\n",
       "(30, 35]       0\n",
       "(35, 40]       0\n",
       "(40, 45]      14\n",
       "(45, 50]      63\n",
       "(50, 55]     119\n",
       "(55, 60]     147\n",
       "(60, 65]     186\n",
       "(65, 70]     147\n",
       "(70, 75]      82\n",
       "(75, 80]      50\n",
       "(80, 85]      18\n",
       "(85, 90]      17\n",
       "(90, 95]       1\n",
       "(95, 100]      0\n",
       "Name: payout_avg_over_closing_2.5, dtype: int64"
      ]
     },
     "execution_count": 28,
     "metadata": {},
     "output_type": "execute_result"
    }
   ],
   "source": [
    "fdf_over_avg_closing_gb_count = fdf_over_avg_closing.groupby('binned >2.5 avg closing')['payout_avg_over_closing_2.5'].count()\n",
    "fdf_over_avg_closing_gb_count"
   ]
  },
  {
   "cell_type": "code",
   "execution_count": 29,
   "id": "02c06fa6",
   "metadata": {},
   "outputs": [
    {
     "data": {
      "text/plain": [
       "binned >2.5 avg closing\n",
       "(0, 5]            NaN\n",
       "(5, 10]           NaN\n",
       "(10, 15]          NaN\n",
       "(15, 20]          NaN\n",
       "(20, 25]          NaN\n",
       "(25, 30]          NaN\n",
       "(30, 35]          NaN\n",
       "(35, 40]          NaN\n",
       "(40, 45]     1.142143\n",
       "(45, 50]     0.761587\n",
       "(50, 55]     0.823193\n",
       "(55, 60]     0.906395\n",
       "(60, 65]     0.978871\n",
       "(65, 70]     0.839116\n",
       "(70, 75]     0.958659\n",
       "(75, 80]     0.953800\n",
       "(80, 85]     1.016111\n",
       "(85, 90]     1.081176\n",
       "(90, 95]     1.090000\n",
       "(95, 100]         NaN\n",
       "Name: payout_avg_over_closing_2.5, dtype: float64"
      ]
     },
     "execution_count": 29,
     "metadata": {},
     "output_type": "execute_result"
    }
   ],
   "source": [
    "fdf_over_avg_closing_gb_mean = fdf_over_avg_closing.groupby('binned >2.5 avg closing')['payout_avg_over_closing_2.5'].mean()\n",
    "fdf_over_avg_closing_gb_mean"
   ]
  },
  {
   "cell_type": "markdown",
   "id": "641bdc48",
   "metadata": {},
   "source": [
    "## Results per implied prob Pinnacle"
   ]
  },
  {
   "cell_type": "markdown",
   "id": "2fb2d999",
   "metadata": {},
   "source": [
    "### Under"
   ]
  },
  {
   "cell_type": "markdown",
   "id": "429bee77",
   "metadata": {},
   "source": [
    "#### Pinnacle opening odds"
   ]
  },
  {
   "cell_type": "code",
   "execution_count": 30,
   "id": "51983fc1",
   "metadata": {},
   "outputs": [
    {
     "data": {
      "text/plain": [
       "binned <2.5 pinacle\n",
       "(0, 5]         0\n",
       "(5, 10]        0\n",
       "(10, 15]       1\n",
       "(15, 20]       7\n",
       "(20, 25]      22\n",
       "(25, 30]      38\n",
       "(30, 35]      77\n",
       "(35, 40]     182\n",
       "(40, 45]     200\n",
       "(45, 50]     172\n",
       "(50, 55]     103\n",
       "(55, 60]      34\n",
       "(60, 65]       3\n",
       "(65, 70]       0\n",
       "(70, 75]       0\n",
       "(75, 80]       0\n",
       "(80, 85]       0\n",
       "(85, 90]       0\n",
       "(90, 95]       0\n",
       "(95, 100]      0\n",
       "Name: payout_under_2.5_pinacle, dtype: int64"
      ]
     },
     "execution_count": 30,
     "metadata": {},
     "output_type": "execute_result"
    }
   ],
   "source": [
    "fdf_under_pinacle_gb_count = fdf_under_pinacle.groupby('binned <2.5 pinacle')['payout_under_2.5_pinacle'].count()\n",
    "fdf_under_pinacle_gb_count"
   ]
  },
  {
   "cell_type": "code",
   "execution_count": 31,
   "id": "28c5917a",
   "metadata": {},
   "outputs": [
    {
     "data": {
      "text/plain": [
       "binned <2.5 pinacle\n",
       "(0, 5]            NaN\n",
       "(5, 10]           NaN\n",
       "(10, 15]     0.000000\n",
       "(15, 20]     0.000000\n",
       "(20, 25]     0.801364\n",
       "(25, 30]     0.837105\n",
       "(30, 35]     1.109740\n",
       "(35, 40]     1.071813\n",
       "(40, 45]     0.891200\n",
       "(45, 50]     1.016453\n",
       "(50, 55]     1.271165\n",
       "(55, 60]     0.885294\n",
       "(60, 65]     0.543333\n",
       "(65, 70]          NaN\n",
       "(70, 75]          NaN\n",
       "(75, 80]          NaN\n",
       "(80, 85]          NaN\n",
       "(85, 90]          NaN\n",
       "(90, 95]          NaN\n",
       "(95, 100]         NaN\n",
       "Name: payout_under_2.5_pinacle, dtype: float64"
      ]
     },
     "execution_count": 31,
     "metadata": {},
     "output_type": "execute_result"
    }
   ],
   "source": [
    "fdf_under_pinacle_gb_mean = fdf_under_pinacle.groupby('binned <2.5 pinacle')['payout_under_2.5_pinacle'].mean()\n",
    "fdf_under_pinacle_gb_mean"
   ]
  },
  {
   "cell_type": "code",
   "execution_count": 66,
   "id": "08aad9c8",
   "metadata": {},
   "outputs": [
    {
     "data": {
      "text/html": [
       "<div>\n",
       "<style scoped>\n",
       "    .dataframe tbody tr th:only-of-type {\n",
       "        vertical-align: middle;\n",
       "    }\n",
       "\n",
       "    .dataframe tbody tr th {\n",
       "        vertical-align: top;\n",
       "    }\n",
       "\n",
       "    .dataframe thead th {\n",
       "        text-align: right;\n",
       "    }\n",
       "</style>\n",
       "<table border=\"1\" class=\"dataframe\">\n",
       "  <thead>\n",
       "    <tr style=\"text-align: right;\">\n",
       "      <th></th>\n",
       "      <th>count</th>\n",
       "      <th>mean</th>\n",
       "      <th>median</th>\n",
       "    </tr>\n",
       "    <tr>\n",
       "      <th>binned &lt;2.5 pinacle</th>\n",
       "      <th></th>\n",
       "      <th></th>\n",
       "      <th></th>\n",
       "    </tr>\n",
       "  </thead>\n",
       "  <tbody>\n",
       "    <tr>\n",
       "      <th>(0, 5]</th>\n",
       "      <td>0</td>\n",
       "      <td>NaN</td>\n",
       "      <td>NaN</td>\n",
       "    </tr>\n",
       "    <tr>\n",
       "      <th>(5, 10]</th>\n",
       "      <td>0</td>\n",
       "      <td>NaN</td>\n",
       "      <td>NaN</td>\n",
       "    </tr>\n",
       "    <tr>\n",
       "      <th>(10, 15]</th>\n",
       "      <td>1</td>\n",
       "      <td>0.000000</td>\n",
       "      <td>0.00</td>\n",
       "    </tr>\n",
       "    <tr>\n",
       "      <th>(15, 20]</th>\n",
       "      <td>7</td>\n",
       "      <td>0.000000</td>\n",
       "      <td>0.00</td>\n",
       "    </tr>\n",
       "    <tr>\n",
       "      <th>(20, 25]</th>\n",
       "      <td>22</td>\n",
       "      <td>0.801364</td>\n",
       "      <td>0.00</td>\n",
       "    </tr>\n",
       "    <tr>\n",
       "      <th>(25, 30]</th>\n",
       "      <td>38</td>\n",
       "      <td>0.837105</td>\n",
       "      <td>0.00</td>\n",
       "    </tr>\n",
       "    <tr>\n",
       "      <th>(30, 35]</th>\n",
       "      <td>77</td>\n",
       "      <td>1.109740</td>\n",
       "      <td>0.00</td>\n",
       "    </tr>\n",
       "    <tr>\n",
       "      <th>(35, 40]</th>\n",
       "      <td>182</td>\n",
       "      <td>1.071813</td>\n",
       "      <td>0.00</td>\n",
       "    </tr>\n",
       "    <tr>\n",
       "      <th>(40, 45]</th>\n",
       "      <td>200</td>\n",
       "      <td>0.891200</td>\n",
       "      <td>0.00</td>\n",
       "    </tr>\n",
       "    <tr>\n",
       "      <th>(45, 50]</th>\n",
       "      <td>172</td>\n",
       "      <td>1.016453</td>\n",
       "      <td>0.00</td>\n",
       "    </tr>\n",
       "    <tr>\n",
       "      <th>(50, 55]</th>\n",
       "      <td>103</td>\n",
       "      <td>1.271165</td>\n",
       "      <td>1.86</td>\n",
       "    </tr>\n",
       "    <tr>\n",
       "      <th>(55, 60]</th>\n",
       "      <td>34</td>\n",
       "      <td>0.885294</td>\n",
       "      <td>0.84</td>\n",
       "    </tr>\n",
       "    <tr>\n",
       "      <th>(60, 65]</th>\n",
       "      <td>3</td>\n",
       "      <td>0.543333</td>\n",
       "      <td>0.00</td>\n",
       "    </tr>\n",
       "    <tr>\n",
       "      <th>(65, 70]</th>\n",
       "      <td>0</td>\n",
       "      <td>NaN</td>\n",
       "      <td>NaN</td>\n",
       "    </tr>\n",
       "    <tr>\n",
       "      <th>(70, 75]</th>\n",
       "      <td>0</td>\n",
       "      <td>NaN</td>\n",
       "      <td>NaN</td>\n",
       "    </tr>\n",
       "    <tr>\n",
       "      <th>(75, 80]</th>\n",
       "      <td>0</td>\n",
       "      <td>NaN</td>\n",
       "      <td>NaN</td>\n",
       "    </tr>\n",
       "    <tr>\n",
       "      <th>(80, 85]</th>\n",
       "      <td>0</td>\n",
       "      <td>NaN</td>\n",
       "      <td>NaN</td>\n",
       "    </tr>\n",
       "    <tr>\n",
       "      <th>(85, 90]</th>\n",
       "      <td>0</td>\n",
       "      <td>NaN</td>\n",
       "      <td>NaN</td>\n",
       "    </tr>\n",
       "    <tr>\n",
       "      <th>(90, 95]</th>\n",
       "      <td>0</td>\n",
       "      <td>NaN</td>\n",
       "      <td>NaN</td>\n",
       "    </tr>\n",
       "    <tr>\n",
       "      <th>(95, 100]</th>\n",
       "      <td>0</td>\n",
       "      <td>NaN</td>\n",
       "      <td>NaN</td>\n",
       "    </tr>\n",
       "  </tbody>\n",
       "</table>\n",
       "</div>"
      ],
      "text/plain": [
       "                     count      mean  median\n",
       "binned <2.5 pinacle                         \n",
       "(0, 5]                   0       NaN     NaN\n",
       "(5, 10]                  0       NaN     NaN\n",
       "(10, 15]                 1  0.000000    0.00\n",
       "(15, 20]                 7  0.000000    0.00\n",
       "(20, 25]                22  0.801364    0.00\n",
       "(25, 30]                38  0.837105    0.00\n",
       "(30, 35]                77  1.109740    0.00\n",
       "(35, 40]               182  1.071813    0.00\n",
       "(40, 45]               200  0.891200    0.00\n",
       "(45, 50]               172  1.016453    0.00\n",
       "(50, 55]               103  1.271165    1.86\n",
       "(55, 60]                34  0.885294    0.84\n",
       "(60, 65]                 3  0.543333    0.00\n",
       "(65, 70]                 0       NaN     NaN\n",
       "(70, 75]                 0       NaN     NaN\n",
       "(75, 80]                 0       NaN     NaN\n",
       "(80, 85]                 0       NaN     NaN\n",
       "(85, 90]                 0       NaN     NaN\n",
       "(90, 95]                 0       NaN     NaN\n",
       "(95, 100]                0       NaN     NaN"
      ]
     },
     "execution_count": 66,
     "metadata": {},
     "output_type": "execute_result"
    }
   ],
   "source": [
    "fdf_under_pinacle_gb_agg = fdf_under_pinacle.groupby('binned <2.5 pinacle')['payout_under_2.5_pinacle'].agg(['count', 'mean', 'median'])\n",
    "fdf_under_pinacle_gb_agg"
   ]
  },
  {
   "cell_type": "code",
   "execution_count": 32,
   "id": "edd2282d",
   "metadata": {},
   "outputs": [
    {
     "data": {
      "text/plain": [
       "1.007973778307509"
      ]
     },
     "execution_count": 32,
     "metadata": {},
     "output_type": "execute_result"
    }
   ],
   "source": [
    "fdf_under_pinacle['payout_under_2.5_pinacle'].mean()"
   ]
  },
  {
   "cell_type": "code",
   "execution_count": 35,
   "id": "9be6e0c1",
   "metadata": {},
   "outputs": [],
   "source": [
    "fdf_under_pinacle_above_40 = fdf_under_pinacle[fdf_under_pinacle['Implied Probability <2.5 pinacle']>40]"
   ]
  },
  {
   "cell_type": "code",
   "execution_count": 36,
   "id": "3f980c79",
   "metadata": {},
   "outputs": [
    {
     "data": {
      "text/plain": [
       "1.00728515625"
      ]
     },
     "execution_count": 36,
     "metadata": {},
     "output_type": "execute_result"
    }
   ],
   "source": [
    "fdf_under_pinacle_above_40['payout_under_2.5_pinacle'].mean()"
   ]
  },
  {
   "cell_type": "markdown",
   "id": "adf003fc",
   "metadata": {},
   "source": [
    "#### Closing Odds"
   ]
  },
  {
   "cell_type": "code",
   "execution_count": 37,
   "id": "8540ed1c",
   "metadata": {},
   "outputs": [
    {
     "data": {
      "text/plain": [
       "binned <2.5 pinacle closing\n",
       "(0, 5]         0\n",
       "(5, 10]        0\n",
       "(10, 15]       1\n",
       "(15, 20]      15\n",
       "(20, 25]      24\n",
       "(25, 30]      49\n",
       "(30, 35]      94\n",
       "(35, 40]     155\n",
       "(40, 45]     181\n",
       "(45, 50]     164\n",
       "(50, 55]      96\n",
       "(55, 60]      51\n",
       "(60, 65]      11\n",
       "(65, 70]       0\n",
       "(70, 75]       0\n",
       "(75, 80]       0\n",
       "(80, 85]       0\n",
       "(85, 90]       0\n",
       "(90, 95]       0\n",
       "(95, 100]      0\n",
       "Name: payout_under_2.5_pinacle_closing, dtype: int64"
      ]
     },
     "execution_count": 37,
     "metadata": {},
     "output_type": "execute_result"
    }
   ],
   "source": [
    "fdf_under_pinacle_closing_gb_count = fdf_under_pinacle_closing.groupby('binned <2.5 pinacle closing')['payout_under_2.5_pinacle_closing'].count()\n",
    "fdf_under_pinacle_closing_gb_count"
   ]
  },
  {
   "cell_type": "code",
   "execution_count": 38,
   "id": "5454fea6",
   "metadata": {
    "scrolled": true
   },
   "outputs": [
    {
     "data": {
      "text/plain": [
       "binned <2.5 pinacle closing\n",
       "(0, 5]            NaN\n",
       "(5, 10]           NaN\n",
       "(10, 15]     0.000000\n",
       "(15, 20]     0.346000\n",
       "(20, 25]     0.592500\n",
       "(25, 30]     0.886122\n",
       "(30, 35]     1.130957\n",
       "(35, 40]     1.046516\n",
       "(40, 45]     0.924420\n",
       "(45, 50]     1.087622\n",
       "(50, 55]     1.091458\n",
       "(55, 60]     1.127451\n",
       "(60, 65]     0.740909\n",
       "(65, 70]          NaN\n",
       "(70, 75]          NaN\n",
       "(75, 80]          NaN\n",
       "(80, 85]          NaN\n",
       "(85, 90]          NaN\n",
       "(90, 95]          NaN\n",
       "(95, 100]         NaN\n",
       "Name: payout_under_2.5_pinacle_closing, dtype: float64"
      ]
     },
     "execution_count": 38,
     "metadata": {},
     "output_type": "execute_result"
    }
   ],
   "source": [
    "fdf_under_pinacle_closing_gb_mean = fdf_under_pinacle_closing.groupby('binned <2.5 pinacle closing')['payout_under_2.5_pinacle_closing'].mean()\n",
    "fdf_under_pinacle_closing_gb_mean"
   ]
  },
  {
   "cell_type": "code",
   "execution_count": 64,
   "id": "d3fbdb48",
   "metadata": {},
   "outputs": [],
   "source": [
    "from scipy.stats import mode"
   ]
  },
  {
   "cell_type": "code",
   "execution_count": 65,
   "id": "cf751860",
   "metadata": {},
   "outputs": [
    {
     "data": {
      "text/html": [
       "<div>\n",
       "<style scoped>\n",
       "    .dataframe tbody tr th:only-of-type {\n",
       "        vertical-align: middle;\n",
       "    }\n",
       "\n",
       "    .dataframe tbody tr th {\n",
       "        vertical-align: top;\n",
       "    }\n",
       "\n",
       "    .dataframe thead th {\n",
       "        text-align: right;\n",
       "    }\n",
       "</style>\n",
       "<table border=\"1\" class=\"dataframe\">\n",
       "  <thead>\n",
       "    <tr style=\"text-align: right;\">\n",
       "      <th></th>\n",
       "      <th>count</th>\n",
       "      <th>mean</th>\n",
       "      <th>median</th>\n",
       "      <th>max</th>\n",
       "      <th>mode</th>\n",
       "    </tr>\n",
       "    <tr>\n",
       "      <th>binned &lt;2.5 pinacle closing</th>\n",
       "      <th></th>\n",
       "      <th></th>\n",
       "      <th></th>\n",
       "      <th></th>\n",
       "      <th></th>\n",
       "    </tr>\n",
       "  </thead>\n",
       "  <tbody>\n",
       "    <tr>\n",
       "      <th>(0, 5]</th>\n",
       "      <td>0</td>\n",
       "      <td>NaN</td>\n",
       "      <td>NaN</td>\n",
       "      <td>NaN</td>\n",
       "      <td>([], [])</td>\n",
       "    </tr>\n",
       "    <tr>\n",
       "      <th>(5, 10]</th>\n",
       "      <td>0</td>\n",
       "      <td>NaN</td>\n",
       "      <td>NaN</td>\n",
       "      <td>NaN</td>\n",
       "      <td>([], [])</td>\n",
       "    </tr>\n",
       "    <tr>\n",
       "      <th>(10, 15]</th>\n",
       "      <td>1</td>\n",
       "      <td>0.000000</td>\n",
       "      <td>0.000</td>\n",
       "      <td>0.00</td>\n",
       "      <td>([0.0], [1])</td>\n",
       "    </tr>\n",
       "    <tr>\n",
       "      <th>(15, 20]</th>\n",
       "      <td>15</td>\n",
       "      <td>0.346000</td>\n",
       "      <td>0.000</td>\n",
       "      <td>5.19</td>\n",
       "      <td>([0.0], [14])</td>\n",
       "    </tr>\n",
       "    <tr>\n",
       "      <th>(20, 25]</th>\n",
       "      <td>24</td>\n",
       "      <td>0.592500</td>\n",
       "      <td>0.000</td>\n",
       "      <td>4.97</td>\n",
       "      <td>([0.0], [21])</td>\n",
       "    </tr>\n",
       "    <tr>\n",
       "      <th>(25, 30]</th>\n",
       "      <td>49</td>\n",
       "      <td>0.886122</td>\n",
       "      <td>0.000</td>\n",
       "      <td>3.86</td>\n",
       "      <td>([0.0], [37])</td>\n",
       "    </tr>\n",
       "    <tr>\n",
       "      <th>(30, 35]</th>\n",
       "      <td>94</td>\n",
       "      <td>1.130957</td>\n",
       "      <td>0.000</td>\n",
       "      <td>3.28</td>\n",
       "      <td>([0.0], [59])</td>\n",
       "    </tr>\n",
       "    <tr>\n",
       "      <th>(35, 40]</th>\n",
       "      <td>155</td>\n",
       "      <td>1.046516</td>\n",
       "      <td>0.000</td>\n",
       "      <td>2.85</td>\n",
       "      <td>([0.0], [94])</td>\n",
       "    </tr>\n",
       "    <tr>\n",
       "      <th>(40, 45]</th>\n",
       "      <td>181</td>\n",
       "      <td>0.924420</td>\n",
       "      <td>0.000</td>\n",
       "      <td>2.49</td>\n",
       "      <td>([0.0], [110])</td>\n",
       "    </tr>\n",
       "    <tr>\n",
       "      <th>(45, 50]</th>\n",
       "      <td>164</td>\n",
       "      <td>1.087622</td>\n",
       "      <td>2.010</td>\n",
       "      <td>2.22</td>\n",
       "      <td>([0.0], [79])</td>\n",
       "    </tr>\n",
       "    <tr>\n",
       "      <th>(50, 55]</th>\n",
       "      <td>96</td>\n",
       "      <td>1.091458</td>\n",
       "      <td>1.845</td>\n",
       "      <td>1.99</td>\n",
       "      <td>([0.0], [41])</td>\n",
       "    </tr>\n",
       "    <tr>\n",
       "      <th>(55, 60]</th>\n",
       "      <td>51</td>\n",
       "      <td>1.127451</td>\n",
       "      <td>1.720</td>\n",
       "      <td>1.80</td>\n",
       "      <td>([0.0], [18])</td>\n",
       "    </tr>\n",
       "    <tr>\n",
       "      <th>(60, 65]</th>\n",
       "      <td>11</td>\n",
       "      <td>0.740909</td>\n",
       "      <td>0.000</td>\n",
       "      <td>1.66</td>\n",
       "      <td>([0.0], [6])</td>\n",
       "    </tr>\n",
       "    <tr>\n",
       "      <th>(65, 70]</th>\n",
       "      <td>0</td>\n",
       "      <td>NaN</td>\n",
       "      <td>NaN</td>\n",
       "      <td>NaN</td>\n",
       "      <td>([], [])</td>\n",
       "    </tr>\n",
       "    <tr>\n",
       "      <th>(70, 75]</th>\n",
       "      <td>0</td>\n",
       "      <td>NaN</td>\n",
       "      <td>NaN</td>\n",
       "      <td>NaN</td>\n",
       "      <td>([], [])</td>\n",
       "    </tr>\n",
       "    <tr>\n",
       "      <th>(75, 80]</th>\n",
       "      <td>0</td>\n",
       "      <td>NaN</td>\n",
       "      <td>NaN</td>\n",
       "      <td>NaN</td>\n",
       "      <td>([], [])</td>\n",
       "    </tr>\n",
       "    <tr>\n",
       "      <th>(80, 85]</th>\n",
       "      <td>0</td>\n",
       "      <td>NaN</td>\n",
       "      <td>NaN</td>\n",
       "      <td>NaN</td>\n",
       "      <td>([], [])</td>\n",
       "    </tr>\n",
       "    <tr>\n",
       "      <th>(85, 90]</th>\n",
       "      <td>0</td>\n",
       "      <td>NaN</td>\n",
       "      <td>NaN</td>\n",
       "      <td>NaN</td>\n",
       "      <td>([], [])</td>\n",
       "    </tr>\n",
       "    <tr>\n",
       "      <th>(90, 95]</th>\n",
       "      <td>0</td>\n",
       "      <td>NaN</td>\n",
       "      <td>NaN</td>\n",
       "      <td>NaN</td>\n",
       "      <td>([], [])</td>\n",
       "    </tr>\n",
       "    <tr>\n",
       "      <th>(95, 100]</th>\n",
       "      <td>0</td>\n",
       "      <td>NaN</td>\n",
       "      <td>NaN</td>\n",
       "      <td>NaN</td>\n",
       "      <td>([], [])</td>\n",
       "    </tr>\n",
       "  </tbody>\n",
       "</table>\n",
       "</div>"
      ],
      "text/plain": [
       "                             count      mean  median   max            mode\n",
       "binned <2.5 pinacle closing                                               \n",
       "(0, 5]                           0       NaN     NaN   NaN        ([], [])\n",
       "(5, 10]                          0       NaN     NaN   NaN        ([], [])\n",
       "(10, 15]                         1  0.000000   0.000  0.00    ([0.0], [1])\n",
       "(15, 20]                        15  0.346000   0.000  5.19   ([0.0], [14])\n",
       "(20, 25]                        24  0.592500   0.000  4.97   ([0.0], [21])\n",
       "(25, 30]                        49  0.886122   0.000  3.86   ([0.0], [37])\n",
       "(30, 35]                        94  1.130957   0.000  3.28   ([0.0], [59])\n",
       "(35, 40]                       155  1.046516   0.000  2.85   ([0.0], [94])\n",
       "(40, 45]                       181  0.924420   0.000  2.49  ([0.0], [110])\n",
       "(45, 50]                       164  1.087622   2.010  2.22   ([0.0], [79])\n",
       "(50, 55]                        96  1.091458   1.845  1.99   ([0.0], [41])\n",
       "(55, 60]                        51  1.127451   1.720  1.80   ([0.0], [18])\n",
       "(60, 65]                        11  0.740909   0.000  1.66    ([0.0], [6])\n",
       "(65, 70]                         0       NaN     NaN   NaN        ([], [])\n",
       "(70, 75]                         0       NaN     NaN   NaN        ([], [])\n",
       "(75, 80]                         0       NaN     NaN   NaN        ([], [])\n",
       "(80, 85]                         0       NaN     NaN   NaN        ([], [])\n",
       "(85, 90]                         0       NaN     NaN   NaN        ([], [])\n",
       "(90, 95]                         0       NaN     NaN   NaN        ([], [])\n",
       "(95, 100]                        0       NaN     NaN   NaN        ([], [])"
      ]
     },
     "execution_count": 65,
     "metadata": {},
     "output_type": "execute_result"
    }
   ],
   "source": [
    "fdf_under_pinacle_closing_gb_agg = fdf_under_pinacle_closing.groupby('binned <2.5 pinacle closing')['payout_under_2.5_pinacle_closing'].agg(['count', 'mean', 'median', 'max', mode])\n",
    "fdf_under_pinacle_closing_gb_agg"
   ]
  },
  {
   "cell_type": "markdown",
   "id": "d8914022",
   "metadata": {},
   "source": [
    "### Over"
   ]
  },
  {
   "cell_type": "markdown",
   "id": "928173aa",
   "metadata": {},
   "source": [
    "#### Opening odds"
   ]
  },
  {
   "cell_type": "code",
   "execution_count": 39,
   "id": "54ff8220",
   "metadata": {},
   "outputs": [
    {
     "data": {
      "text/plain": [
       "binned >2.5 pinacle\n",
       "(0, 5]         0\n",
       "(5, 10]        0\n",
       "(10, 15]       0\n",
       "(15, 20]       0\n",
       "(20, 25]       0\n",
       "(25, 30]       0\n",
       "(30, 35]       0\n",
       "(35, 40]       0\n",
       "(40, 45]       8\n",
       "(45, 50]      67\n",
       "(50, 55]     118\n",
       "(55, 60]     173\n",
       "(60, 65]     209\n",
       "(65, 70]     145\n",
       "(70, 75]      53\n",
       "(75, 80]      39\n",
       "(80, 85]      17\n",
       "(85, 90]       9\n",
       "(90, 95]       1\n",
       "(95, 100]      0\n",
       "Name: payout_over_2.5_pinacle, dtype: int64"
      ]
     },
     "execution_count": 39,
     "metadata": {},
     "output_type": "execute_result"
    }
   ],
   "source": [
    "fdf_over_pinacle_gb_count = fdf_over_pinacle.groupby('binned >2.5 pinacle')['payout_over_2.5_pinacle'].count()\n",
    "fdf_over_pinacle_gb_count"
   ]
  },
  {
   "cell_type": "code",
   "execution_count": 40,
   "id": "82df8790",
   "metadata": {},
   "outputs": [
    {
     "data": {
      "text/plain": [
       "binned >2.5 pinacle\n",
       "(0, 5]            NaN\n",
       "(5, 10]           NaN\n",
       "(10, 15]          NaN\n",
       "(15, 20]          NaN\n",
       "(20, 25]          NaN\n",
       "(25, 30]          NaN\n",
       "(30, 35]          NaN\n",
       "(35, 40]          NaN\n",
       "(40, 45]     1.717500\n",
       "(45, 50]     0.627910\n",
       "(50, 55]     0.836186\n",
       "(55, 60]     0.912775\n",
       "(60, 65]     1.034928\n",
       "(65, 70]     0.892759\n",
       "(70, 75]     0.858868\n",
       "(75, 80]     0.998462\n",
       "(80, 85]     1.001176\n",
       "(85, 90]     1.151111\n",
       "(90, 95]     1.100000\n",
       "(95, 100]         NaN\n",
       "Name: payout_over_2.5_pinacle, dtype: float64"
      ]
     },
     "execution_count": 40,
     "metadata": {},
     "output_type": "execute_result"
    }
   ],
   "source": [
    "fdf_over_pinacle.groupby('binned >2.5 pinacle')['payout_over_2.5_pinacle'].mean()"
   ]
  },
  {
   "cell_type": "code",
   "execution_count": 41,
   "id": "bd75ca05",
   "metadata": {},
   "outputs": [
    {
     "data": {
      "text/plain": [
       "0.9190464839094159"
      ]
     },
     "execution_count": 41,
     "metadata": {},
     "output_type": "execute_result"
    }
   ],
   "source": [
    "fdf_over_pinacle_gb_mean = fdf_over_pinacle['payout_over_2.5_pinacle'].mean()\n",
    "fdf_over_pinacle_gb_mean"
   ]
  },
  {
   "cell_type": "code",
   "execution_count": 42,
   "id": "4ea9b7f0",
   "metadata": {},
   "outputs": [],
   "source": [
    "fdf_over_pinacle_above_60 = fdf_over_pinacle[fdf_over_pinacle['Implied Probability >2.5 pinacle']>60]"
   ]
  },
  {
   "cell_type": "code",
   "execution_count": 43,
   "id": "a4cf561f",
   "metadata": {},
   "outputs": [
    {
     "data": {
      "text/plain": [
       "0.9697463002114165"
      ]
     },
     "execution_count": 43,
     "metadata": {},
     "output_type": "execute_result"
    }
   ],
   "source": [
    "fdf_over_pinacle_above_60['payout_over_2.5_pinacle'].mean()"
   ]
  },
  {
   "cell_type": "markdown",
   "id": "7271f40c",
   "metadata": {},
   "source": [
    "#### Closing odds"
   ]
  },
  {
   "cell_type": "code",
   "execution_count": 44,
   "id": "dcfe8c84",
   "metadata": {},
   "outputs": [
    {
     "data": {
      "text/plain": [
       "binned >2.5 pinacle closing\n",
       "(0, 5]         0\n",
       "(5, 10]        0\n",
       "(10, 15]       0\n",
       "(15, 20]       0\n",
       "(20, 25]       0\n",
       "(25, 30]       0\n",
       "(30, 35]       0\n",
       "(35, 40]       2\n",
       "(40, 45]      17\n",
       "(45, 50]      73\n",
       "(50, 55]     131\n",
       "(55, 60]     146\n",
       "(60, 65]     188\n",
       "(65, 70]     128\n",
       "(70, 75]      78\n",
       "(75, 80]      45\n",
       "(80, 85]      19\n",
       "(85, 90]      13\n",
       "(90, 95]       1\n",
       "(95, 100]      0\n",
       "Name: payout_over_2.5_pinacle_closing, dtype: int64"
      ]
     },
     "execution_count": 44,
     "metadata": {},
     "output_type": "execute_result"
    }
   ],
   "source": [
    "fdf_over_pinacle_closing_gb_count = fdf_over_pinacle_closing.groupby('binned >2.5 pinacle closing')['payout_over_2.5_pinacle_closing'].count()\n",
    "fdf_over_pinacle_closing_gb_count"
   ]
  },
  {
   "cell_type": "code",
   "execution_count": 45,
   "id": "424a88e2",
   "metadata": {},
   "outputs": [
    {
     "data": {
      "text/plain": [
       "binned >2.5 pinacle closing\n",
       "(0, 5]            NaN\n",
       "(5, 10]           NaN\n",
       "(10, 15]          NaN\n",
       "(15, 20]          NaN\n",
       "(20, 25]          NaN\n",
       "(25, 30]          NaN\n",
       "(30, 35]          NaN\n",
       "(35, 40]     1.275000\n",
       "(40, 45]     1.220588\n",
       "(45, 50]     0.688493\n",
       "(50, 55]     0.883893\n",
       "(55, 60]     0.868973\n",
       "(60, 65]     1.055532\n",
       "(65, 70]     0.833906\n",
       "(70, 75]     0.915385\n",
       "(75, 80]     1.001333\n",
       "(80, 85]     0.957895\n",
       "(85, 90]     1.146923\n",
       "(90, 95]     1.100000\n",
       "(95, 100]         NaN\n",
       "Name: payout_over_2.5_pinacle_closing, dtype: float64"
      ]
     },
     "execution_count": 45,
     "metadata": {},
     "output_type": "execute_result"
    }
   ],
   "source": [
    "fdf_over_pinacle_closing_gb_mean = fdf_over_pinacle_closing.groupby('binned >2.5 pinacle closing')['payout_over_2.5_pinacle_closing'].mean()\n",
    "fdf_over_pinacle_closing_gb_mean"
   ]
  },
  {
   "cell_type": "markdown",
   "id": "eca3df08",
   "metadata": {},
   "source": [
    "## Results per implied prob bet365"
   ]
  },
  {
   "cell_type": "markdown",
   "id": "a4abadb9",
   "metadata": {},
   "source": [
    "### Under"
   ]
  },
  {
   "cell_type": "markdown",
   "id": "c5b84deb",
   "metadata": {},
   "source": [
    "#### Opening odds"
   ]
  },
  {
   "cell_type": "code",
   "execution_count": 46,
   "id": "4c377d92",
   "metadata": {},
   "outputs": [
    {
     "data": {
      "text/plain": [
       "binned <2.5 365\n",
       "(0, 5]         0\n",
       "(5, 10]        0\n",
       "(10, 15]       1\n",
       "(15, 20]       6\n",
       "(20, 25]      30\n",
       "(25, 30]      42\n",
       "(30, 35]      53\n",
       "(35, 40]     132\n",
       "(40, 45]     197\n",
       "(45, 50]     228\n",
       "(50, 55]      92\n",
       "(55, 60]      50\n",
       "(60, 65]      11\n",
       "(65, 70]       0\n",
       "(70, 75]       0\n",
       "(75, 80]       0\n",
       "(80, 85]       0\n",
       "(85, 90]       0\n",
       "(90, 95]       0\n",
       "(95, 100]      0\n",
       "Name: payout_under_2.5_365, dtype: int64"
      ]
     },
     "execution_count": 46,
     "metadata": {},
     "output_type": "execute_result"
    }
   ],
   "source": [
    "fdf_under_bet365_gb_count = fdf_under_365.groupby('binned <2.5 365')['payout_under_2.5_365'].count()\n",
    "fdf_under_bet365_gb_count"
   ]
  },
  {
   "cell_type": "code",
   "execution_count": 47,
   "id": "d64f9d96",
   "metadata": {},
   "outputs": [
    {
     "data": {
      "text/plain": [
       "binned <2.5 365\n",
       "(0, 5]            NaN\n",
       "(5, 10]           NaN\n",
       "(10, 15]     0.000000\n",
       "(15, 20]     0.000000\n",
       "(20, 25]     0.701000\n",
       "(25, 30]     0.907143\n",
       "(30, 35]     1.072264\n",
       "(35, 40]     1.103030\n",
       "(40, 45]     0.831472\n",
       "(45, 50]     0.955833\n",
       "(50, 55]     1.220217\n",
       "(55, 60]     1.162800\n",
       "(60, 65]     0.593636\n",
       "(65, 70]          NaN\n",
       "(70, 75]          NaN\n",
       "(75, 80]          NaN\n",
       "(80, 85]          NaN\n",
       "(85, 90]          NaN\n",
       "(90, 95]          NaN\n",
       "(95, 100]         NaN\n",
       "Name: payout_under_2.5_365, dtype: float64"
      ]
     },
     "execution_count": 47,
     "metadata": {},
     "output_type": "execute_result"
    }
   ],
   "source": [
    "fdf_under_bet365_gb_mean = fdf_under_365.groupby('binned <2.5 365')['payout_under_2.5_365'].mean()\n",
    "fdf_under_bet365_gb_mean"
   ]
  },
  {
   "cell_type": "code",
   "execution_count": 48,
   "id": "f5b7baa4",
   "metadata": {},
   "outputs": [
    {
     "data": {
      "text/plain": [
       "0.9741330166270784"
      ]
     },
     "execution_count": 48,
     "metadata": {},
     "output_type": "execute_result"
    }
   ],
   "source": [
    "fdf_under_365['payout_under_2.5_365'].mean()"
   ]
  },
  {
   "cell_type": "code",
   "execution_count": 49,
   "id": "e5a1828a",
   "metadata": {},
   "outputs": [],
   "source": [
    "fdf_under_365_above_40 = fdf_under_365[fdf_under_365['Implied Probability <2.5 365']>40]"
   ]
  },
  {
   "cell_type": "code",
   "execution_count": 50,
   "id": "a17ec083",
   "metadata": {},
   "outputs": [
    {
     "data": {
      "text/plain": [
       "0.9665397923875434"
      ]
     },
     "execution_count": 50,
     "metadata": {},
     "output_type": "execute_result"
    }
   ],
   "source": [
    "fdf_under_365_above_40['payout_under_2.5_365'].mean()"
   ]
  },
  {
   "cell_type": "markdown",
   "id": "cab820bb",
   "metadata": {},
   "source": [
    "#### Closing odds"
   ]
  },
  {
   "cell_type": "code",
   "execution_count": 51,
   "id": "7bb752be",
   "metadata": {},
   "outputs": [
    {
     "data": {
      "text/plain": [
       "binned <2.5 365 closing\n",
       "(0, 5]         0\n",
       "(5, 10]        0\n",
       "(10, 15]       1\n",
       "(15, 20]      15\n",
       "(20, 25]      33\n",
       "(25, 30]      50\n",
       "(30, 35]      71\n",
       "(35, 40]     118\n",
       "(40, 45]     174\n",
       "(45, 50]     208\n",
       "(50, 55]      96\n",
       "(55, 60]      50\n",
       "(60, 65]      26\n",
       "(65, 70]       1\n",
       "(70, 75]       0\n",
       "(75, 80]       0\n",
       "(80, 85]       0\n",
       "(85, 90]       0\n",
       "(90, 95]       0\n",
       "(95, 100]      0\n",
       "Name: payout_under_2.5_365_closing, dtype: int64"
      ]
     },
     "execution_count": 51,
     "metadata": {},
     "output_type": "execute_result"
    }
   ],
   "source": [
    "fdf_under_bet365_closing_gb_count = fdf_under_365_closing.groupby('binned <2.5 365 closing')['payout_under_2.5_365_closing'].count()\n",
    "fdf_under_bet365_closing_gb_count"
   ]
  },
  {
   "cell_type": "code",
   "execution_count": 52,
   "id": "cd7cd46c",
   "metadata": {},
   "outputs": [
    {
     "data": {
      "text/plain": [
       "binned <2.5 365 closing\n",
       "(0, 5]            NaN\n",
       "(5, 10]           NaN\n",
       "(10, 15]     0.000000\n",
       "(15, 20]     0.333333\n",
       "(20, 25]     0.637273\n",
       "(25, 30]     0.974000\n",
       "(30, 35]     1.033239\n",
       "(35, 40]     1.106780\n",
       "(40, 45]     0.831034\n",
       "(45, 50]     1.020962\n",
       "(50, 55]     1.027604\n",
       "(55, 60]     1.186400\n",
       "(60, 65]     1.008077\n",
       "(65, 70]     0.000000\n",
       "(70, 75]          NaN\n",
       "(75, 80]          NaN\n",
       "(80, 85]          NaN\n",
       "(85, 90]          NaN\n",
       "(90, 95]          NaN\n",
       "(95, 100]         NaN\n",
       "Name: payout_under_2.5_365_closing, dtype: float64"
      ]
     },
     "execution_count": 52,
     "metadata": {},
     "output_type": "execute_result"
    }
   ],
   "source": [
    "fdf_under_bet365_closing_gb_mean = fdf_under_365_closing.groupby('binned <2.5 365 closing')['payout_under_2.5_365_closing'].mean()\n",
    "fdf_under_bet365_closing_gb_mean"
   ]
  },
  {
   "cell_type": "markdown",
   "id": "d066b0ca",
   "metadata": {},
   "source": [
    "### Over"
   ]
  },
  {
   "cell_type": "markdown",
   "id": "12e4a9a9",
   "metadata": {},
   "source": [
    "#### Opening Odds"
   ]
  },
  {
   "cell_type": "code",
   "execution_count": 53,
   "id": "f0ec2853",
   "metadata": {},
   "outputs": [
    {
     "data": {
      "text/plain": [
       "binned >2.5 365\n",
       "(0, 5]         0\n",
       "(5, 10]        0\n",
       "(10, 15]       0\n",
       "(15, 20]       0\n",
       "(20, 25]       0\n",
       "(25, 30]       0\n",
       "(30, 35]       0\n",
       "(35, 40]       0\n",
       "(40, 45]       4\n",
       "(45, 50]      68\n",
       "(50, 55]      92\n",
       "(55, 60]     132\n",
       "(60, 65]     222\n",
       "(65, 70]     192\n",
       "(70, 75]      53\n",
       "(75, 80]      54\n",
       "(80, 85]      18\n",
       "(85, 90]       6\n",
       "(90, 95]       1\n",
       "(95, 100]      0\n",
       "Name: payout_over_2.5_365, dtype: int64"
      ]
     },
     "execution_count": 53,
     "metadata": {},
     "output_type": "execute_result"
    }
   ],
   "source": [
    "fdf_over_bet365_gb_count = fdf_over_365.groupby('binned >2.5 365')['payout_over_2.5_365'].count()\n",
    "fdf_over_bet365_gb_count"
   ]
  },
  {
   "cell_type": "code",
   "execution_count": 54,
   "id": "7e9083d7",
   "metadata": {},
   "outputs": [
    {
     "data": {
      "text/plain": [
       "binned >2.5 365\n",
       "(0, 5]            NaN\n",
       "(5, 10]           NaN\n",
       "(10, 15]          NaN\n",
       "(15, 20]          NaN\n",
       "(20, 25]          NaN\n",
       "(25, 30]          NaN\n",
       "(30, 35]          NaN\n",
       "(35, 40]          NaN\n",
       "(40, 45]     1.162500\n",
       "(45, 50]     0.703824\n",
       "(50, 55]     0.802065\n",
       "(55, 60]     0.896970\n",
       "(60, 65]     0.986712\n",
       "(65, 70]     0.899375\n",
       "(70, 75]     0.886792\n",
       "(75, 80]     0.981296\n",
       "(80, 85]     1.001111\n",
       "(85, 90]     1.156667\n",
       "(90, 95]     1.100000\n",
       "(95, 100]         NaN\n",
       "Name: payout_over_2.5_365, dtype: float64"
      ]
     },
     "execution_count": 54,
     "metadata": {},
     "output_type": "execute_result"
    }
   ],
   "source": [
    "fdf_over_bet365_gb_mean = fdf_over_365.groupby('binned >2.5 365')['payout_over_2.5_365'].mean()\n",
    "fdf_over_bet365_gb_mean"
   ]
  },
  {
   "cell_type": "code",
   "execution_count": 55,
   "id": "42b66601",
   "metadata": {},
   "outputs": [
    {
     "data": {
      "text/plain": [
       "0.9055581947743466"
      ]
     },
     "execution_count": 55,
     "metadata": {},
     "output_type": "execute_result"
    }
   ],
   "source": [
    "fdf_over_365['payout_over_2.5_365'].mean()"
   ]
  },
  {
   "cell_type": "markdown",
   "id": "c0969105",
   "metadata": {},
   "source": [
    "#### Closing Odds"
   ]
  },
  {
   "cell_type": "code",
   "execution_count": 56,
   "id": "d4f91b68",
   "metadata": {},
   "outputs": [
    {
     "data": {
      "text/plain": [
       "binned >2.5 365 closing\n",
       "(0, 5]         0\n",
       "(5, 10]        0\n",
       "(10, 15]       0\n",
       "(15, 20]       0\n",
       "(20, 25]       0\n",
       "(25, 30]       0\n",
       "(30, 35]       0\n",
       "(35, 40]       0\n",
       "(40, 45]      11\n",
       "(45, 50]      84\n",
       "(50, 55]      91\n",
       "(55, 60]     136\n",
       "(60, 65]     183\n",
       "(65, 70]     168\n",
       "(70, 75]      71\n",
       "(75, 80]      64\n",
       "(80, 85]      19\n",
       "(85, 90]      15\n",
       "(90, 95]       1\n",
       "(95, 100]      0\n",
       "Name: payout_over_2.5_365_closing, dtype: int64"
      ]
     },
     "execution_count": 56,
     "metadata": {},
     "output_type": "execute_result"
    }
   ],
   "source": [
    "fdf_over_bet365_closing_gb_count = fdf_over_365_closing.groupby('binned >2.5 365 closing')['payout_over_2.5_365_closing'].count()\n",
    "fdf_over_bet365_closing_gb_count"
   ]
  },
  {
   "cell_type": "code",
   "execution_count": 57,
   "id": "901ec7b4",
   "metadata": {},
   "outputs": [
    {
     "data": {
      "text/plain": [
       "binned >2.5 365 closing\n",
       "(0, 5]            NaN\n",
       "(5, 10]           NaN\n",
       "(10, 15]          NaN\n",
       "(15, 20]          NaN\n",
       "(20, 25]          NaN\n",
       "(25, 30]          NaN\n",
       "(30, 35]          NaN\n",
       "(35, 40]          NaN\n",
       "(40, 45]     1.245455\n",
       "(45, 50]     0.691071\n",
       "(50, 55]     0.916703\n",
       "(55, 60]     0.831985\n",
       "(60, 65]     0.983770\n",
       "(65, 70]     0.903393\n",
       "(70, 75]     0.893521\n",
       "(75, 80]     0.970313\n",
       "(80, 85]     1.015789\n",
       "(85, 90]     1.066667\n",
       "(90, 95]     1.100000\n",
       "(95, 100]         NaN\n",
       "Name: payout_over_2.5_365_closing, dtype: float64"
      ]
     },
     "execution_count": 57,
     "metadata": {},
     "output_type": "execute_result"
    }
   ],
   "source": [
    "fdf_over_bet365_closing_gb_mean = fdf_over_365_closing.groupby('binned >2.5 365 closing')['payout_over_2.5_365_closing'].mean()\n",
    "fdf_over_bet365_closing_gb_mean"
   ]
  },
  {
   "cell_type": "code",
   "execution_count": 58,
   "id": "6929b581",
   "metadata": {},
   "outputs": [
    {
     "data": {
      "text/plain": [
       "0.9039857651245551"
      ]
     },
     "execution_count": 58,
     "metadata": {},
     "output_type": "execute_result"
    }
   ],
   "source": [
    "fdf_over_365_closing['payout_over_2.5_365_closing'].mean()"
   ]
  },
  {
   "cell_type": "code",
   "execution_count": null,
   "id": "ed98486b",
   "metadata": {},
   "outputs": [],
   "source": []
  }
 ],
 "metadata": {
  "kernelspec": {
   "display_name": "Python 3 (ipykernel)",
   "language": "python",
   "name": "python3"
  },
  "language_info": {
   "codemirror_mode": {
    "name": "ipython",
    "version": 3
   },
   "file_extension": ".py",
   "mimetype": "text/x-python",
   "name": "python",
   "nbconvert_exporter": "python",
   "pygments_lexer": "ipython3",
   "version": "3.8.12"
  },
  "toc": {
   "base_numbering": 1,
   "nav_menu": {},
   "number_sections": true,
   "sideBar": true,
   "skip_h1_title": false,
   "title_cell": "Table of Contents",
   "title_sidebar": "Contents",
   "toc_cell": false,
   "toc_position": {},
   "toc_section_display": true,
   "toc_window_display": false
  },
  "varInspector": {
   "cols": {
    "lenName": 16,
    "lenType": 16,
    "lenVar": 40
   },
   "kernels_config": {
    "python": {
     "delete_cmd_postfix": "",
     "delete_cmd_prefix": "del ",
     "library": "var_list.py",
     "varRefreshCmd": "print(var_dic_list())"
    },
    "r": {
     "delete_cmd_postfix": ") ",
     "delete_cmd_prefix": "rm(",
     "library": "var_list.r",
     "varRefreshCmd": "cat(var_dic_list()) "
    }
   },
   "types_to_exclude": [
    "module",
    "function",
    "builtin_function_or_method",
    "instance",
    "_Feature"
   ],
   "window_display": false
  }
 },
 "nbformat": 4,
 "nbformat_minor": 5
}
